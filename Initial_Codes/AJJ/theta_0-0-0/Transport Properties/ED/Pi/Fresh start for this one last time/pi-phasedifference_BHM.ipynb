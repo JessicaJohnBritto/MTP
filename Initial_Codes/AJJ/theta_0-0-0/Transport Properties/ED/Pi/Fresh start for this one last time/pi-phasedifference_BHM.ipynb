{
 "cells": [
  {
   "cell_type": "code",
   "execution_count": 2,
   "id": "1f265b6c-5480-4513-a621-3111bc0034d6",
   "metadata": {},
   "outputs": [],
   "source": [
    "import numpy as np\n",
    "from numpy import linalg\n",
    "from scipy import linalg as splinalg\n",
    "import matplotlib.pyplot as plt\n",
    "from scipy import sparse as sp\n",
    "import scipy.sparse.linalg\n",
    "from functools import reduce\n",
    "import itertools\n",
    "from scipy import linalg\n",
    "from scipy.linalg import expm, logm\n",
    "from scipy.special import comb\n",
    "from itertools import combinations_with_replacement, product\n",
    "from collections import Counter\n",
    "import copy\n",
    "from scipy.linalg import ishermitian\n",
    "import time\n",
    "from scipy.integrate import solve_ivp"
   ]
  },
  {
   "cell_type": "code",
   "execution_count": 51,
   "id": "a02f1dfe-4b7b-426f-bdf1-7105cd76a842",
   "metadata": {},
   "outputs": [],
   "source": [
    "params = {}\n",
    "\n",
    "params['N_particles'], params['N_sites'] = 2, 10\n",
    "params['N_region1'], params['N_region2'] = 1, 2\n",
    "\n",
    "params['n_max'] = 2\n",
    "\n",
    "params['J'], params['U'] = 1, 0"
   ]
  },
  {
   "cell_type": "code",
   "execution_count": 52,
   "id": "f7a24f32-0c44-4a4e-8f6b-a7b0c295f18b",
   "metadata": {},
   "outputs": [],
   "source": [
    "params['dim'] = 0 \n",
    "\n",
    "def dimension(params, **kwargs):\n",
    "    '''\n",
    "    For k identical bosonic particles on N lattice site, \n",
    "    Changes the dim.\n",
    "    '''\n",
    "    N, k, dim = params['N_sites'], params['N_particles'], int(params['dim']) \n",
    "    params['dim'] = int(comb(N+k-1, k)) \n",
    "    pass\n",
    "\n",
    "dimension(params)"
   ]
  },
  {
   "cell_type": "code",
   "execution_count": 53,
   "id": "d9a8f381-523f-4367-adbd-ce3b438cb4ca",
   "metadata": {},
   "outputs": [],
   "source": [
    "def normalizeWF(psi,**kwargs):\n",
    "    shape, dtype = psi.shape, psi.dtype\n",
    "    NWF = psi\n",
    "    if np.array_equal(psi, np.zeros(shape, dtype = dtype)) == True:\n",
    "        NWF = psi\n",
    "    elif np.vdot(psi, psi) == 0:\n",
    "        NWF = psi\n",
    "    else:\n",
    "        NWF = psi/(np.sqrt(np.vdot(psi, psi)))\n",
    "    return NWF"
   ]
  },
  {
   "cell_type": "code",
   "execution_count": 54,
   "id": "f8493dcf-3c77-46d8-b613-9dd2ae981565",
   "metadata": {},
   "outputs": [],
   "source": [
    "def creationOp(params, **kwargs):\n",
    "    '''\n",
    "    Returns bosonic creation operator.\n",
    "    To construct annihilation operator, take transpose of this matrix.\n",
    "    '''\n",
    "    A = sp.diags(np.sqrt(np.arange(1, params['n_max']+1, 1)), -1, format='csr')\n",
    "    return A\n",
    "\n",
    "def hopOp(params, site_no, **kwargs):\n",
    "    '''\n",
    "    Hop_op term\n",
    "    '''\n",
    "    createOp = creationOp(params)\n",
    "    I = sp.eye(params['n_max']+1, format='csr')\n",
    "    lst = [I for _ in range(params['N_sites'])]\n",
    "    lst[site_no], lst[site_no + 1] = createOp, createOp.conj().T\n",
    "    return reduce(sp.kron, lst)\n",
    "\n",
    "def numOp(params, site_no, **kwargs):\n",
    "    createOp = creationOp(params)\n",
    "    I = sp.eye(params['n_max']+1, format='csr')\n",
    "    lst = [I for _ in range(params['N_sites'])]\n",
    "    lst[site_no] = createOp@createOp.conj().T\n",
    "    nop = reduce(sp.kron, lst)\n",
    "    lst[site_no] = (createOp@createOp.conj().T)@(createOp@createOp.conj().T)\n",
    "    return nop, reduce(sp.kron, lst)"
   ]
  },
  {
   "cell_type": "code",
   "execution_count": 55,
   "id": "447dee18-5529-4d62-be29-aa03719c7e05",
   "metadata": {},
   "outputs": [],
   "source": [
    "def Prod_OccupBasis(params, **kwargs):\n",
    "    '''\n",
    "    Generates all combinations using product from itertools.\n",
    "    Returns: valid_combinations under the k-constraint (particle\n",
    "    number conservation) and all combinations.\n",
    "    '''\n",
    "    n, N, k = params['n_max']+1, params['N_sites'], params['N_particles']\n",
    "    all_combinations = dict(enumerate(itertools.product(range(n), repeat=N)))\n",
    "    valid_combinations = dict(filter(lambda x: sum(x[1]) == k, all_combinations.items()))\n",
    "    return valid_combinations, all_combinations\n",
    "# params['truncationParam_n'], params['N'], params['k'] = 2, 2, 2\n",
    "\n",
    "def projectionMatrix(params, **kwargs):\n",
    "    '''\n",
    "    Creates a projection matrix whose elements are non-zero\n",
    "    for the indices of the occup_states obeying k-constraint.\n",
    "    '''\n",
    "    valid_combinations, all_combinations = Prod_OccupBasis(params)\n",
    "    rows, cols = len(valid_combinations), len(all_combinations)\n",
    "    PM = sp.csc_matrix((rows, cols))\n",
    "    for i, key in enumerate(list(reversed(valid_combinations.keys()))):\n",
    "        PM[i, key] = 1.0\n",
    "    return PM"
   ]
  },
  {
   "cell_type": "code",
   "execution_count": 77,
   "id": "d3c808c5-6351-414a-b029-0f9f92972e79",
   "metadata": {},
   "outputs": [],
   "source": [
    "def two_siteBJJHamil(params, **kwargs):\n",
    "    '''\n",
    "    Returns two-site bosonic Josephson junction hamiltonian\n",
    "    '''\n",
    "    H = sp.csc_matrix(((params['n_max']+1)**(params['N_sites']), (params['n_max']+1)**(params['N_sites'])))\n",
    "    I = sp.eye(params['n_max']+1, format='csr')\n",
    "    PM = projectionMatrix(params)\n",
    "    for i in range(params['N_sites']):\n",
    "        nop, n2op = numOp(params, site_no = i)\n",
    "        if i!=params['N_sites']-1:\n",
    "            H = H + (hopOp(params, site_no = i)+hopOp(params, site_no = i).conj().T)*params['J'] \n",
    "        H = H + 0.5*params['U']*(n2op - nop)\n",
    "    \n",
    "    H = PM@H@PM.transpose()\n",
    "    _ , eigenvec = sp.linalg.eigsh(H, k=1, which='SA')\n",
    "    return H, eigenvec"
   ]
  },
  {
   "cell_type": "code",
   "execution_count": 78,
   "id": "530ef184-bb3a-493d-b188-883d9f4615fb",
   "metadata": {},
   "outputs": [
    {
     "name": "stdout",
     "output_type": "stream",
     "text": [
      "[[ 1.+0.0000000e+00j  0.+0.0000000e+00j  0.+0.0000000e+00j]\n",
      " [ 0.+0.0000000e+00j -1.+1.2246468e-16j  0.+0.0000000e+00j]\n",
      " [ 0.+0.0000000e+00j  0.+0.0000000e+00j  1.-2.4492936e-16j]]\n"
     ]
    }
   ],
   "source": [
    "n_max = params['n_max']\n",
    "theta = np.pi\n",
    "creation_op = sp.diags(np.sqrt(np.arange(1, n_max+1, 1)), -1, format='csr')\n",
    "number_op = sp.diags(np.arange(0, n_max+1, 1), 0, format='csr')\n",
    "identity_op = sp.eye(n_max+1, format='csr')\n",
    "\n",
    "# Exponential factor e^{i θ n_j}\n",
    "exp_factor = sp.linalg.expm(1j * theta * number_op)\n",
    "print(exp_factor.toarray())"
   ]
  },
  {
   "cell_type": "code",
   "execution_count": 79,
   "id": "0f3b6438-ae05-40e4-82b5-f779fce2ce01",
   "metadata": {},
   "outputs": [],
   "source": [
    "def parity_op(params, **kwargs):\n",
    "    '''\n",
    "    Returns Parity Operator\n",
    "    '''\n",
    "    A = sp.diags([(-1.)**n for n in range(params['n_max']+1)])\n",
    "    return A"
   ]
  },
  {
   "cell_type": "code",
   "execution_count": 80,
   "id": "fff2153e-2c0f-4713-a97f-2966d7e180fd",
   "metadata": {},
   "outputs": [
    {
     "data": {
      "text/plain": [
       "array([[ 1.,  0.,  0.],\n",
       "       [ 0., -1.,  0.],\n",
       "       [ 0.,  0.,  1.]])"
      ]
     },
     "execution_count": 80,
     "metadata": {},
     "output_type": "execute_result"
    }
   ],
   "source": [
    "parity_op(params).toarray()"
   ]
  },
  {
   "cell_type": "code",
   "execution_count": 81,
   "id": "1cac5566-cb84-4a6f-87f4-9df72a14499c",
   "metadata": {},
   "outputs": [],
   "source": [
    "def prdt_parity_op(params, **kwargs):\n",
    "    '''\n",
    "    Returns Parity Operator for a region in BJJ\n",
    "    Args: params\n",
    "    '''\n",
    "    A = parity_op(params)\n",
    "    start_site, end_site = params['N_region1'], params['N_region2'] \n",
    "    I = sp.eye(params['n_max']+1, format='csr')\n",
    "    lst = [I for _ in range(params['N_sites'])]\n",
    "    for i in range(start_site, end_site, 1):\n",
    "        lst[i] = A\n",
    "    matrixx = reduce(sp.kron, lst)\n",
    "    return matrixx"
   ]
  },
  {
   "cell_type": "code",
   "execution_count": 82,
   "id": "2e9074b6-d3cb-453a-b201-ab4f5e40ddbc",
   "metadata": {},
   "outputs": [],
   "source": [
    "def generate_psiPrime(params, **kwargs):\n",
    "    '''\n",
    "    Returns wavefunction when Parity Operator for a region is applied on WFn.\n",
    "    kwargs: start_site, end_site, eigenvec [Required].\n",
    "    eigenvec: Ground state of BJJ.\n",
    "    '''\n",
    "    PM = projectionMatrix(params)\n",
    "    matrixx = PM@prdt_parity_op(params)@PM.transpose()\n",
    "    wfn = matrixx@kwargs['eigenvec']\n",
    "    return wfn"
   ]
  },
  {
   "cell_type": "code",
   "execution_count": 84,
   "id": "4775d353-830c-41ae-8668-7589dbbb4491",
   "metadata": {},
   "outputs": [],
   "source": [
    "H, eigenvec = two_siteBJJHamil(params)"
   ]
  },
  {
   "cell_type": "code",
   "execution_count": 85,
   "id": "265edaf9-9217-46c2-b194-c79e2d7c3c1e",
   "metadata": {},
   "outputs": [],
   "source": [
    "psi_prime = generate_psiPrime(params, eigenvec = eigenvec)"
   ]
  },
  {
   "cell_type": "code",
   "execution_count": 86,
   "id": "018f5fa5-02fc-40ac-beb3-4d22cca09155",
   "metadata": {},
   "outputs": [
    {
     "data": {
      "text/plain": [
       "False"
      ]
     },
     "execution_count": 86,
     "metadata": {},
     "output_type": "execute_result"
    }
   ],
   "source": [
    "np.array_equal(psi_prime, eigenvec)"
   ]
  },
  {
   "cell_type": "code",
   "execution_count": 87,
   "id": "407e6629-0aab-49aa-adff-bcc3444836be",
   "metadata": {},
   "outputs": [],
   "source": [
    "def time_evolutionPsiPrime(params, **kwargs):\n",
    "    '''\n",
    "    Returns a list of time evolved wavefunctions obtained after the application of Parity Operator of a region \n",
    "    for time 0 to T with time step 'tau'.\n",
    "    This is done wrt the AJJ Hamiltonian.\n",
    "    kwargs: start_site, end_site, eigenvec, H [Required].\n",
    "    H: Hamiltonian of AJJ.\n",
    "    eigenvec: Ground state of AJJ.\n",
    "    '''\n",
    "    H, eigenvec = kwargs['H'], kwargs['eigenvec']\n",
    "    wfn = generate_psiPrime(params, eigenvec = eigenvec)\n",
    "    time_list = np.arange(0, params['T'], params['tau'])\n",
    "    unitary_timeOp = [expm(-1j*t*(H.toarray())) for t in time_list]\n",
    "    psi_t = [normalizeWF(uOp@wfn) for uOp in unitary_timeOp]\n",
    "    return psi_t"
   ]
  },
  {
   "cell_type": "code",
   "execution_count": null,
   "id": "410a4fef-1909-4487-8bf5-5efdca3d9ca2",
   "metadata": {},
   "outputs": [],
   "source": []
  }
 ],
 "metadata": {
  "kernelspec": {
   "display_name": "Python 3 (ipykernel)",
   "language": "python",
   "name": "python3"
  },
  "language_info": {
   "codemirror_mode": {
    "name": "ipython",
    "version": 3
   },
   "file_extension": ".py",
   "mimetype": "text/x-python",
   "name": "python",
   "nbconvert_exporter": "python",
   "pygments_lexer": "ipython3",
   "version": "3.8.19"
  }
 },
 "nbformat": 4,
 "nbformat_minor": 5
}
