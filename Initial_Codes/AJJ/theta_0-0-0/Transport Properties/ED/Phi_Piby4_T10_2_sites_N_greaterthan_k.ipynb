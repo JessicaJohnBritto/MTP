{
 "cells": [
  {
   "cell_type": "markdown",
   "id": "26c9b3a6-3eab-43d0-b5c0-d78e575f05ba",
   "metadata": {
    "jp-MarkdownHeadingCollapsed": true
   },
   "source": [
    "# Importing Packages"
   ]
  },
  {
   "cell_type": "code",
   "execution_count": 1,
   "id": "b0860dac-8e9f-4ce9-94ca-df4418e8a350",
   "metadata": {},
   "outputs": [],
   "source": [
    "import numpy as np\n",
    "from numpy import linalg\n",
    "from scipy import linalg as splinalg\n",
    "import matplotlib.pyplot as plt\n",
    "from scipy import sparse as sp\n",
    "import scipy.sparse.linalg\n",
    "from functools import reduce\n",
    "import itertools\n",
    "from scipy import linalg\n",
    "from scipy.linalg import expm, logm\n",
    "from scipy.special import comb\n",
    "from itertools import combinations_with_replacement, product\n",
    "from collections import Counter\n",
    "import copy\n",
    "from scipy.linalg import ishermitian\n",
    "import time"
   ]
  },
  {
   "cell_type": "markdown",
   "id": "12ecf493-59ff-46ec-879e-8fdc75b63fec",
   "metadata": {
    "jp-MarkdownHeadingCollapsed": true
   },
   "source": [
    "# Definitions"
   ]
  },
  {
   "cell_type": "code",
   "execution_count": 2,
   "id": "4dd13233-f68e-4d21-8bdb-b4df52671b7d",
   "metadata": {},
   "outputs": [],
   "source": [
    "params = {\n",
    "    'N': 10, # no. of sites\n",
    "    't':1, # Hopping Amplitude\n",
    "    'T': 10, # Total Time Evolution\n",
    "    'tau': 0.1 # Time step\n",
    "}\n",
    "\n",
    "params['N'], params['k'] = 2, 10\n",
    "params['N1'], params['N2'] = 1, 2\n",
    "params['U'] = 0.5\n",
    "params['mu'] = 0\n",
    "params['start_site'], params['end_site'] = 0, 1\n",
    "\n",
    "params['dim'], params['truncationParam_n'] = 0, 10\n",
    "params['occupationTuple_lst'] = []\n",
    "params['Map_ParticleLoc_OccupNo']={}\n",
    "params['map_occupToD_Dim'] = {}\n",
    "\n",
    "def dimension(params, **kwargs):\n",
    "    '''\n",
    "    For k identical bosonic particles on N lattice site, \n",
    "    Changes the dim and initializes the vac state\n",
    "    based on dim.\n",
    "    Makes change to the params - 'dim', 'vac' within the function.\n",
    "    Make sure to define the parameters list as params.\n",
    "    Return: Null\n",
    "    '''\n",
    "    N, k, dim = params['N'], params['k'], int(params['dim']) # N = number of sites, k = no. of identical bosonic particles\n",
    "    params['dim'] = int(comb(N+k-1, k)) # This is for k identical bosonic particles\n",
    "    params['vac'] = sp.csc_matrix(np.zeros(N))\n",
    "    pass\n"
   ]
  },
  {
   "cell_type": "code",
   "execution_count": 3,
   "id": "c680c782-7075-49a3-8904-84baeb44960d",
   "metadata": {},
   "outputs": [
    {
     "data": {
      "text/plain": [
       "11"
      ]
     },
     "execution_count": 3,
     "metadata": {},
     "output_type": "execute_result"
    }
   ],
   "source": [
    "dimension(params)\n",
    "params['dim']"
   ]
  },
  {
   "cell_type": "code",
   "execution_count": 4,
   "id": "382821da-2680-4cf2-a0a3-24fe47943551",
   "metadata": {},
   "outputs": [],
   "source": [
    "def normalizeWF(psi,**kwargs):\n",
    "    '''\n",
    "    Return a Normalized Wavefunction\n",
    "    '''\n",
    "    shape, dtype = psi.shape, psi.dtype\n",
    "    NWF = psi\n",
    "    if np.array_equal(psi, np.zeros(shape, dtype = dtype)) == True:\n",
    "        NWF = psi\n",
    "    elif np.vdot(psi, psi) == 0:\n",
    "        NWF = psi\n",
    "    else:\n",
    "        NWF = psi/(np.sqrt(np.vdot(psi, psi)))\n",
    "    return NWF\n"
   ]
  },
  {
   "cell_type": "markdown",
   "id": "be1b7eb3-a919-47f2-93d3-d039ca063008",
   "metadata": {},
   "source": [
    "# AJJ Hamiltonian"
   ]
  },
  {
   "cell_type": "code",
   "execution_count": 5,
   "id": "cbc8ef7c-9e3b-454d-b42e-8ba8a50c66a2",
   "metadata": {},
   "outputs": [],
   "source": [
    "def creationOpMatrix(params, **kwargs):\n",
    "    '''\n",
    "    Returns Bosonic Creation Operator\n",
    "    '''\n",
    "    A = sp.diags(np.sqrt(np.arange(1, params['truncationParam_n']+1, 1)), -1)\n",
    "    return A\n",
    "\n",
    "def annihilationOpMatrix(params, **kwargs):\n",
    "    '''\n",
    "    Returns Bosonic Annihilation Operator\n",
    "    '''\n",
    "    A = sp.diags(np.sqrt(np.arange(1, params['truncationParam_n']+1, 1)), 1)\n",
    "    return A\n",
    "\n",
    "def numOpMatrix(params, site_no, **kwargs):\n",
    "    '''\n",
    "    Returns Bosonic Number Operator\n",
    "    '''\n",
    "    createOp = creationOpMatrix(params)\n",
    "    nOp = createOp@createOp.transpose()\n",
    "    I = sp.identity(params['truncationParam_n']+1)\n",
    "    lst = [I for _ in range(params['N'])]\n",
    "    if 'tilt' in kwargs:\n",
    "        lst[site_no] = nOp*site_no\n",
    "        matrx = sp.csc_matrix(reduce(sp.kron, lst))\n",
    "        return matrx\n",
    "    else: \n",
    "        lst[site_no] = nOp\n",
    "        matrix1 = sp.csc_matrix(reduce(sp.kron, lst))\n",
    "        lst[site_no] = nOp@nOp\n",
    "        matrix2 = sp.csc_matrix(reduce(sp.kron, lst))\n",
    "        return matrix1, matrix2\n",
    "\n",
    "def HoppingOpMatrix(params, site_no, **kwargs):\n",
    "    '''\n",
    "    Returns Bosonic Hopping Operator\n",
    "    '''\n",
    "    n, N = params['truncationParam_n'], params['N']\n",
    "    matrixx = sp.csc_matrix(((n+1)**N, (n+1)**N))\n",
    "    if site_no != params['N']-1:\n",
    "        creationOp, annihOp = creationOpMatrix(params), annihilationOpMatrix(params)\n",
    "        I = sp.identity(params['truncationParam_n']+1)\n",
    "        lst = [I for _ in range(params['N'])]\n",
    "        lst[site_no], lst[site_no+1] = creationOp, annihOp\n",
    "        matrixx = sp.csc_matrix(reduce(sp.kron, lst))\n",
    "    return matrixx"
   ]
  },
  {
   "cell_type": "code",
   "execution_count": 6,
   "id": "774db6cc-6663-403a-8226-d7f9909bd826",
   "metadata": {},
   "outputs": [],
   "source": [
    "def Prod_OccupBasis(params, **kwargs):\n",
    "    '''\n",
    "    Generates all combinations using product from itertools.\n",
    "    Returns: valid_combinations under the k-constraint (particle\n",
    "    number conservation) and all combinations.\n",
    "    '''\n",
    "    n, N, k = params['truncationParam_n']+1, params['N'], params['k']\n",
    "    all_combinations = dict(enumerate(itertools.product(range(n), repeat=N)))\n",
    "    valid_combinations = dict(filter(lambda x: sum(x[1]) == k, all_combinations.items()))\n",
    "    return valid_combinations, all_combinations\n",
    "# params['truncationParam_n'], params['N'], params['k'] = 2, 2, 2\n",
    "\n",
    "def projectionMatrix(params, **kwargs):\n",
    "    '''\n",
    "    Creates a projection matrix whose elements are non-zero\n",
    "    for the indices of the occup_states obeying k-constraint.\n",
    "    '''\n",
    "    valid_combinations, all_combinations = Prod_OccupBasis(params)\n",
    "    rows, cols = len(valid_combinations), len(all_combinations)\n",
    "    PM = sp.csc_matrix((rows, cols))\n",
    "    for i, key in enumerate(list(reversed(valid_combinations.keys()))):\n",
    "        PM[i, key] = 1.0\n",
    "    return PM"
   ]
  },
  {
   "cell_type": "code",
   "execution_count": 7,
   "id": "438e645c-dc21-47aa-ac97-cc7b0ba9021b",
   "metadata": {},
   "outputs": [],
   "source": [
    "def sites2_Ngk_AJJ_Hamil(params, **kwargs):\n",
    "    '''\n",
    "    Returns AJJ-BHM Hamiltonian Matrix and ground state\n",
    "    '''\n",
    "    n, N, k = params['truncationParam_n'], params['N'], params['k']\n",
    "    H = sp.csc_matrix(((n+1)**N, (n+1)**N))\n",
    "    PM = projectionMatrix(params)\n",
    "\n",
    "    for i in range(params['N']):\n",
    "        HopOp, nOp_mu = HoppingOpMatrix(params, i), numOpMatrix(params, i, tilt = True)\n",
    "        NumOp, NumOp_2 = numOpMatrix(params, i)\n",
    "        H += -params['t']*(HopOp+HopOp.transpose()) + 0.5*params['U']*(NumOp_2 - NumOp) - params['mu']*nOp_mu\n",
    "        \n",
    "    H = PM@H@PM.transpose()\n",
    "    # return H\n",
    "    eigenval, eigenvec = sp.linalg.eigsh(H, k=1, which='SA')\n",
    "    return H, eigenvec"
   ]
  },
  {
   "cell_type": "markdown",
   "id": "179ec5e8-77aa-49f4-8847-f1943d6b2726",
   "metadata": {
    "jp-MarkdownHeadingCollapsed": true
   },
   "source": [
    "# $e^{-i\\phi\\hat{N}_{R_{1}}}$ Operators where $\\phi = \\frac{\\pi}{4}$"
   ]
  },
  {
   "cell_type": "code",
   "execution_count": null,
   "id": "c2a585f6-50e6-483e-830a-f99781db9efd",
   "metadata": {},
   "outputs": [],
   "source": [
    "def phi_Nop(params, **kwargs):\n",
    "    '''\n",
    "    Returns an operator of the form e^{ -i * \\\\phi * \\\\hat{N}_{R_{1}}}\n",
    "    Args: params\n",
    "    kwargs: phi [Required]: pass an angle.\n",
    "    '''\n",
    "    phi = kwargs['phi']\n",
    "    diag_elements = [expm(-1j * n * phi)[0][0] for n in range(params['truncationParam_n'] + 1)]\n",
    "    print(diag_elements)\n",
    "    A = sp.diags(diag_elements, offsets=0)  \n",
    "    return A"
   ]
  },
  {
   "cell_type": "code",
   "execution_count": null,
   "id": "c54a2a69-5c27-4d42-b1d6-b1643d9bc268",
   "metadata": {},
   "outputs": [],
   "source": [
    "params['truncationParam_n'] = 2\n",
    "phi_Nop(params, phi = np.pi).toarray()"
   ]
  },
  {
   "cell_type": "code",
   "execution_count": null,
   "id": "86e09f28-d546-4acc-93e9-4bc7b0272626",
   "metadata": {},
   "outputs": [],
   "source": [
    "parity_op(params).toarray()"
   ]
  },
  {
   "cell_type": "code",
   "execution_count": null,
   "id": "cb00dd95-28b3-4c77-ae25-fb4ab7450bf8",
   "metadata": {},
   "outputs": [],
   "source": [
    "def prdt_parity_op(params, **kwargs):\n",
    "    '''\n",
    "    Returns Parity Operator for a region in AJJ\n",
    "    Args: params,\n",
    "\n",
    "    Note:\n",
    "    params['start_site']: where the region is starting\n",
    "    params['end_site']: where the region is ending\n",
    "    for eg, if region-1 is from 0 till 29,\n",
    "    then (start_site, end_site) = (0, 30).\n",
    "    '''\n",
    "    A = parity_op(params)\n",
    "    start_site, end_site = params['start_site'], params['end_site'] \n",
    "    createOp = creationOpMatrix(params)\n",
    "    I = sp.identity(createOp.shape[0])\n",
    "    lst = [I for _ in range(params['N'])]\n",
    "    for i in range(start_site, end_site, 1):\n",
    "        lst[i] = A\n",
    "    matrixx = reduce(sp.kron, lst)\n",
    "    return matrixx"
   ]
  },
  {
   "cell_type": "code",
   "execution_count": null,
   "id": "66f74d24-1555-452a-9953-5ba0f4d77628",
   "metadata": {},
   "outputs": [],
   "source": [
    "prdt_parity_op(params).toarray().shape"
   ]
  },
  {
   "cell_type": "markdown",
   "id": "32ec05c3-a8b3-4a09-bf1b-24ba4f3840dc",
   "metadata": {},
   "source": [
    "# <font>Applying $\\ket{\\psi^{\\prime}} = (-1)^{\\hat{N}_{R_{1}}}\\ket{\\psi}$</font>"
   ]
  },
  {
   "cell_type": "code",
   "execution_count": null,
   "id": "e200318a-636a-4f9f-a08e-87696637642d",
   "metadata": {},
   "outputs": [],
   "source": [
    "def generate_psiPrime(params, **kwargs):\n",
    "    '''\n",
    "    Returns wavefunction when Parity Operator for a region is applied on WFn.\n",
    "    kwargs: start_site, end_site, eigenvec [Required].\n",
    "    eigenvec: Ground state of AJJ.\n",
    "    '''\n",
    "    PM = projectionMatrix(params)\n",
    "    matrixx = PM@prdt_parity_op(params)@PM.transpose()\n",
    "    wfn = matrixx@kwargs['eigenvec']\n",
    "    return wfn"
   ]
  },
  {
   "cell_type": "code",
   "execution_count": null,
   "id": "5b7deeed-305d-4a30-a078-812cc094c3e4",
   "metadata": {},
   "outputs": [],
   "source": [
    "H, eigenvec = sites2_Ngk_AJJ_Hamil(params)\n",
    "# H = sites2_Ngk_AJJ_Hamil(params)"
   ]
  },
  {
   "cell_type": "code",
   "execution_count": null,
   "id": "91227d04-6083-4c14-b4e6-be3a0021a81c",
   "metadata": {},
   "outputs": [],
   "source": [
    "H.shape"
   ]
  },
  {
   "cell_type": "code",
   "execution_count": null,
   "id": "d906a648-3245-4947-ac82-d9cf93495aa8",
   "metadata": {},
   "outputs": [],
   "source": [
    "psi_prime = generate_psiPrime(params, eigenvec = eigenvec)"
   ]
  },
  {
   "cell_type": "code",
   "execution_count": null,
   "id": "ae722644-8467-42f1-b91d-737f4bae0587",
   "metadata": {},
   "outputs": [],
   "source": [
    "psi_prime.shape"
   ]
  },
  {
   "cell_type": "code",
   "execution_count": null,
   "id": "cc70cefa-d668-44f6-a500-f1ad4502ba83",
   "metadata": {},
   "outputs": [],
   "source": [
    "for i, j in zip(eigenvec, psi_prime):\n",
    "    print(i, j)"
   ]
  },
  {
   "cell_type": "code",
   "execution_count": null,
   "id": "33030c95-db37-4a38-9dd7-3e24a4a7b390",
   "metadata": {},
   "outputs": [],
   "source": [
    "np.array_equal(psi_prime, eigenvec)"
   ]
  },
  {
   "cell_type": "markdown",
   "id": "30ddf12a-d181-4d68-9009-3fb7e346015a",
   "metadata": {},
   "source": [
    "# <font>Time Evolution of $\\ket{\\psi^{\\prime}}$:: $\\ket{\\psi(t)} = e^{-i\\cdot t \\cdot H_{AJJ}}\\ket{\\psi^{\\prime}}$</font>"
   ]
  },
  {
   "cell_type": "code",
   "execution_count": null,
   "id": "a9003593-9cc4-4655-94b2-c1f6bea3605f",
   "metadata": {},
   "outputs": [],
   "source": [
    "def time_evolutionPsiPrime(params, **kwargs):\n",
    "    '''\n",
    "    Returns a list of time evolved wavefunctions obtained after the application of Parity Operator of a region \n",
    "    for time 0 to T with time step 'tau'.\n",
    "    This is done wrt the AJJ Hamiltonian.\n",
    "    kwargs: start_site, end_site, eigenvec, H [Required].\n",
    "    H: Hamiltonian of AJJ.\n",
    "    eigenvec: Ground state of AJJ.\n",
    "    '''\n",
    "    H, eigenvec = kwargs['H'], kwargs['eigenvec']\n",
    "    wfn = generate_psiPrime(params, eigenvec = eigenvec)\n",
    "    time_list = np.arange(0, params['T'], params['tau'])\n",
    "    unitary_timeOp = [expm(-1j*t*(H.toarray())) for t in time_list]\n",
    "    psi_t = [normalizeWF(uOp@wfn) for uOp in unitary_timeOp]\n",
    "    return psi_t"
   ]
  },
  {
   "cell_type": "code",
   "execution_count": null,
   "id": "1a6bfa81-906c-4513-8e46-bae322440fe5",
   "metadata": {},
   "outputs": [],
   "source": [
    "start_time = time.time()\n",
    "\n",
    "\n",
    "psi_t = time_evolutionPsiPrime(params, H = H, eigenvec = eigenvec)\n",
    "\n",
    "\n",
    "end_time = time.time()\n",
    "elapsed_time = end_time - start_time\n",
    "print(f\"Elapsed time: {elapsed_time} seconds\")"
   ]
  },
  {
   "cell_type": "code",
   "execution_count": null,
   "id": "ad9fd6c0-0c13-4d38-8be7-5a19f885115d",
   "metadata": {},
   "outputs": [],
   "source": [
    "psi_t"
   ]
  },
  {
   "cell_type": "markdown",
   "id": "8932288a-9665-4d55-b0d0-e27aad50be7d",
   "metadata": {},
   "source": [
    "# <font>$\\hat{N}_{R_{j}} = \\sum_{i \\in R_{j}} n_{i}$ where $j \\in {1, 2, 3}$</font>"
   ]
  },
  {
   "cell_type": "code",
   "execution_count": null,
   "id": "d9b188d8-0ba9-47cf-9360-53b13b2e8b1a",
   "metadata": {},
   "outputs": [],
   "source": [
    "def N_op(params, region_number, **kwargs):\n",
    "    '''\n",
    "    Returns N operator = sum of n_{i} where i belongs to a region.\n",
    "    Args: params,\n",
    "    region_number (integer): takes 1, 2, 3 where 1, 3 correspond to SF regions in SF-MIP-SF AJJ config and 2 - MIP region.\n",
    "    '''\n",
    "    PM = projectionMatrix(params)\n",
    "    # print(f'PM = {PM.shape}')\n",
    "    createOp = creationOpMatrix(params)\n",
    "    nOp = createOp@createOp.transpose()\n",
    "    if region_number == 3:\n",
    "        start, end = params['N2'], params['N3']\n",
    "    elif region_number == 2:\n",
    "        start, end =  params['N1'], params['N2']\n",
    "    elif region_number == 1:\n",
    "        start, end = 0, params['N1']\n",
    "    I = sp.identity(createOp.shape[0])\n",
    "    lst = [I for _ in range(params['N'])]\n",
    "    matrixx = PM@(sp.csc_matrix((createOp.shape[0]**params['N'], createOp.shape[0]**params['N'])))@PM.transpose()\n",
    "    # matrixx = sp.csc_matrix((createOp.shape[0]**params['N'], createOp.shape[0]**params['N']))\n",
    "    for i in range(start, end):\n",
    "        lst[i] = nOp\n",
    "        matrixx += (PM@reduce(sp.kron, lst)@PM.transpose())\n",
    "        # matrixx += reduce(sp.kron, lst)\n",
    "        lst[i] = I\n",
    "\n",
    "    # matrixx = PM@matrixx@PM.transpose()\n",
    "    # print(f'matrixx={matrixx.shape}')\n",
    "    return matrixx "
   ]
  },
  {
   "cell_type": "code",
   "execution_count": null,
   "id": "e8ba112a-3ce3-4fb3-b808-05b97a5fcf16",
   "metadata": {},
   "outputs": [],
   "source": [
    "start_time = time.time()\n",
    "\n",
    "\n",
    "N1_op = N_op(params, region_number = 2)\n",
    "\n",
    "\n",
    "end_time = time.time()\n",
    "elapsed_time = end_time - start_time\n",
    "print(f\"Elapsed time: {elapsed_time} seconds\")"
   ]
  },
  {
   "cell_type": "code",
   "execution_count": null,
   "id": "25e5d2e8-45c7-4984-9802-542ed53b30e4",
   "metadata": {},
   "outputs": [],
   "source": [
    "def N1_minusN3_exp(params, **kwargs):\n",
    "    '''\n",
    "    Returns the list of expectation values of N1 - N3 operators wrt the time evolved psi-prime for different final times.\n",
    "    kwargs: psi_t [Optional] - if passed, function uses this else uses the one generated from functn 'time_evolutionPsiPrime'\n",
    "    '''\n",
    "    if 'psi_t' in kwargs:\n",
    "        psi_t = kwargs['psi_t']\n",
    "    elif 'psi_t' not in kwargs:\n",
    "        psi_t = time_evolutionPsiPrime(params, H = H, eigenvec = eigenvec)\n",
    "\n",
    "    print(f'psit.shape={psi_t[0].shape}')\n",
    "    N1 = N_op(params, region_number = 1)\n",
    "    print(f'N1.shape={N1.shape}')\n",
    "    N2 = N_op(params, region_number = 3)\n",
    "    print(f'N2.shape={N2.shape}')\n",
    "    N_diff_exp = [np.vdot(psit, (N1)@psit) - np.vdot(psit, (N2)@psit) for psit in psi_t]\n",
    "    return N_diff_exp  "
   ]
  },
  {
   "cell_type": "code",
   "execution_count": null,
   "id": "78212ed1-3c1e-444a-911f-a0e2d7ea3a59",
   "metadata": {},
   "outputs": [],
   "source": [
    "start_time = time.time()\n",
    "\n",
    "\n",
    "N_diff_exp = N1_minusN3_exp(params)\n",
    "# print(f'N_diff_exp={N_diff_exp}')\n",
    "t_list = np.arange(0, params['T'], params['tau']).round(1)\n",
    "plt.plot(t_list, np.real(N_diff_exp), \"--o\")\n",
    "plt.xlabel('Time')\n",
    "plt.grid('True')\n",
    "plt.ylabel(f'$<\\\\hat{{N}}_{{R_1}} - \\\\hat{{N}}_{{R_3}}>$')\n",
    "plt.title(r'$ \\langle \\psi(t) | \\hat{N}_{R_1} - \\hat{N}_{R_3} | \\psi(t) \\rangle $ vs Time')\n",
    "\n",
    "\n",
    "end_time = time.time()\n",
    "elapsed_time = end_time - start_time\n",
    "print(f\"Elapsed time: {elapsed_time} seconds\")"
   ]
  },
  {
   "cell_type": "markdown",
   "id": "1cd220fb-2a9c-478e-876e-bc48a0832e53",
   "metadata": {},
   "source": [
    "# <font>Plot of $\\bra{\\psi(t)} N_{R_{1}} - N_{R_{2}}\\ket{\\psi(t)}$ vs Time</font>"
   ]
  },
  {
   "cell_type": "code",
   "execution_count": null,
   "id": "d7b45f8a-2a10-4b50-a46b-e01fb5876904",
   "metadata": {},
   "outputs": [],
   "source": [
    "def N1_minusN2_exp(params, **kwargs):\n",
    "    '''\n",
    "    Returns the list of expectation values of N1 - N2 operators wrt the time evolved psi-prime for different final times.\n",
    "    kwargs: psi_t [Optional] - if passed, function uses this else uses the one generated from functn 'time_evolutionPsiPrime'\n",
    "    '''\n",
    "    if 'psi_t' in kwargs:\n",
    "        psi_t = kwargs['psi_t']\n",
    "    elif 'psi_t' not in kwargs:\n",
    "        psi_t = time_evolutionPsiPrime(params, H = H, eigenvec = eigenvec)\n",
    "\n",
    "    print(f'psit.shape={psi_t[0].shape}')\n",
    "    N1 = N_op(params, region_number = 1)\n",
    "    print(f'N1.shape={N1.shape}')\n",
    "    N2 = N_op(params, region_number = 2)\n",
    "    print(f'N2.shape={N2.shape}')\n",
    "    N_diff_exp = [np.vdot(psit, (N1)@psit) - np.vdot(psit, (N2)@psit) for psit in psi_t]\n",
    "    return N_diff_exp  "
   ]
  },
  {
   "cell_type": "code",
   "execution_count": null,
   "id": "541d45fa-16e7-40ad-851a-230c1d714fe1",
   "metadata": {},
   "outputs": [],
   "source": [
    "start_time = time.time()\n",
    "\n",
    "\n",
    "N_diff_exp = N1_minusN2_exp(params)\n",
    "# print(f'N_diff_exp={N_diff_exp}')\n",
    "t_list = np.arange(0, params['T'], params['tau']).round(1)\n",
    "plt.plot(t_list, np.abs(N_diff_exp), \"--o\")\n",
    "plt.xlabel('Time')\n",
    "plt.grid('True')\n",
    "plt.ylabel(f'$<\\\\hat{{N}}_{{R_1}} - \\\\hat{{N}}_{{R_2}}>$')\n",
    "plt.title(r'$ \\langle \\psi(t) | \\hat{N}_{R_1} - \\hat{N}_{R_2} | \\psi(t) \\rangle $ vs Time')\n",
    "\n",
    "\n",
    "end_time = time.time()\n",
    "elapsed_time = end_time - start_time\n",
    "print(f\"Elapsed time: {elapsed_time} seconds\")"
   ]
  },
  {
   "cell_type": "markdown",
   "id": "d6d88ef9-f320-4a7e-ad34-8986b3417acc",
   "metadata": {},
   "source": [
    "# <font>Correlation Matrix Elements as a function of Time</font>"
   ]
  },
  {
   "cell_type": "code",
   "execution_count": null,
   "id": "b8d15e4d-2127-408d-8d11-380ac41a1432",
   "metadata": {},
   "outputs": [],
   "source": [
    "def correlations_matrix(params, **kwargs):\n",
    "    '''\n",
    "    Returns Correlation Matrix,\n",
    "    kwargs: wfn [Required] - wavefunction which would be used to compute the Correlation matrix.\n",
    "    '''\n",
    "    I, annihOp = sp.identity(params['truncationParam_n']+1), annihilationOpMatrix(params)\n",
    "    PM, createOp, lst = projectionMatrix(params), creationOpMatrix(params), [I for _ in range(params['N'])]\n",
    "    wfn = kwargs['wfn']\n",
    "    H = np.zeros((params['N'], params['N']), dtype = complex)\n",
    "    for i in range(params['N']):\n",
    "        for j in range(params['N']):\n",
    "            if i == j:\n",
    "                lst[i] = createOp@annihOp\n",
    "            else:\n",
    "                lst[i] = createOp\n",
    "                lst[j] = annihOp\n",
    "            HopOp = PM@reduce(sp.kron, lst)@PM.transpose()\n",
    "            H[i, j] =  np.vdot(wfn, HopOp@wfn)\n",
    "            lst[i], lst[j] = I, I\n",
    "    return H"
   ]
  },
  {
   "cell_type": "code",
   "execution_count": null,
   "id": "dd19defe-b9da-4750-9115-8056ef0ddfdc",
   "metadata": {},
   "outputs": [],
   "source": [
    "correl_matrix = correlations_matrix(params, wfn = psi_t[0])"
   ]
  },
  {
   "cell_type": "code",
   "execution_count": null,
   "id": "73eb841f-bbbe-447e-87a7-3aedd46db016",
   "metadata": {},
   "outputs": [],
   "source": [
    "## Use it only once to initialize it.\n",
    "mag, phase = [[] for _ in correl_matrix.flatten()], [[] for _ in correl_matrix.flatten()]"
   ]
  },
  {
   "cell_type": "code",
   "execution_count": null,
   "id": "e252d97e-633f-4e55-90ea-acdcb3d633f8",
   "metadata": {},
   "outputs": [],
   "source": [
    "correl_matrix = correlations_matrix(params, wfn = psi_t[20])\n",
    "\n",
    "k = 0\n",
    "for i, row in enumerate(correl_matrix):\n",
    "    for j, val in enumerate(row):\n",
    "        magnitude, argument = np.abs(val), np.angle(val)\n",
    "        mag[k].append(magnitude)\n",
    "        phase[k].append(argument)\n",
    "        k+=1\n",
    "\n",
    "print(mag)\n",
    "print(phase)"
   ]
  },
  {
   "cell_type": "code",
   "execution_count": null,
   "id": "51c1e90d-3e02-401e-a33b-617cf7706130",
   "metadata": {},
   "outputs": [],
   "source": [
    "plt.plot(np.arange(0, 2.1, params['tau']), mag[0], label = r\"Magnitude\")\n",
    "plt.ylabel(\"Magnitude\")\n",
    "plt.xlabel(\"Time\")\n",
    "plt.grid(\"True\")\n",
    "plt.legend()\n",
    "plt.show()\n",
    "plt.plot(np.arange(0, 2.1, params['tau']), phase[0], label = r\"$\\theta$\")\n",
    "plt.ylabel('Phase')\n",
    "plt.xlabel(\"Time\")\n",
    "plt.grid(\"True\")\n",
    "plt.legend()\n",
    "plt.show()\n",
    "# len(mag[0])"
   ]
  },
  {
   "cell_type": "code",
   "execution_count": null,
   "id": "590c47e0-b4f8-4489-a86f-a568ee74834a",
   "metadata": {},
   "outputs": [],
   "source": [
    "plt.plot(np.arange(0, 2.1, params['tau']), mag[1], label = r\"Magnitude\")\n",
    "plt.ylabel(\"Magnitude\")\n",
    "plt.xlabel(\"Time\")\n",
    "plt.grid(\"True\")\n",
    "plt.legend()\n",
    "plt.show()\n",
    "plt.plot(np.arange(0, 2.1, params['tau']), phase[1], label = r\"$\\theta$\")\n",
    "plt.ylabel('Phase')\n",
    "plt.xlabel(\"Time\")\n",
    "plt.grid(\"True\")\n",
    "plt.legend()\n",
    "plt.show()\n",
    "# len(mag[0])"
   ]
  },
  {
   "cell_type": "code",
   "execution_count": null,
   "id": "c1ff0f52-c875-43f9-92e6-8c8f156da8ab",
   "metadata": {},
   "outputs": [],
   "source": [
    "plt.plot(np.arange(0, 2.1, params['tau']), mag[2], label = r\"Magnitude\")\n",
    "plt.ylabel(\"Magnitude\")\n",
    "plt.xlabel(\"Time\")\n",
    "plt.grid(\"True\")\n",
    "plt.legend()\n",
    "plt.show()\n",
    "plt.plot(np.arange(0, 2.1, params['tau']), phase[2], label = r\"$\\theta$\")\n",
    "plt.ylabel('Phase')\n",
    "plt.xlabel(\"Time\")\n",
    "plt.grid(\"True\")\n",
    "plt.legend()\n",
    "plt.show()\n",
    "# len(mag[0])"
   ]
  },
  {
   "cell_type": "code",
   "execution_count": null,
   "id": "aa7c02fa-31af-4ae2-8df2-919a7f4b5735",
   "metadata": {},
   "outputs": [],
   "source": [
    "plt.plot(np.arange(0, 2.1, params['tau']), mag[3], label = r\"Magnitude\")\n",
    "plt.ylabel(\"Magnitude\")\n",
    "plt.xlabel(\"Time\")\n",
    "plt.grid(\"True\")\n",
    "plt.legend()\n",
    "plt.show()\n",
    "plt.plot(np.arange(0, 2.1, params['tau']), phase[3], label = r\"$\\theta$\")\n",
    "plt.ylabel('Phase')\n",
    "plt.xlabel(\"Time\")\n",
    "plt.grid(\"True\")\n",
    "plt.legend()\n",
    "plt.show()\n",
    "# len(mag[0])"
   ]
  },
  {
   "cell_type": "code",
   "execution_count": null,
   "id": "50d9b308-e33d-498a-b341-dc00551ca02a",
   "metadata": {},
   "outputs": [],
   "source": [
    "def correl_mag_phase(params, **kwargs):\n",
    "    '''\n",
    "    Returns plots of magnitude and phase of each Correlation Matrix element as a function of time.\n",
    "    Args: params\n",
    "    kwargs: list of psi_t [Required] - to introduce the time-dependence through wavefunction.\n",
    "    '''\n",
    "    fig, axs = plt.subplots(len(H.flatten()), 2, figsize=(14, 6))\n",
    "    mag, phase = [], []\n",
    "    for i in H:     \n",
    "        mag.append(np.abs(i))\n",
    "        phase.append(np.angle(i))\n",
    "        im = axs[0].imshow(H, cmap='seismic', vmin=-np.abs(H).max(), vmax=np.abs(H).max())\n",
    "        axs[0].set_xlabel('Site i')\n",
    "        axs[0].set_ylabel('Site j')\n",
    "        axs[0].set_title(f'Boson Correlation $\\\\langle b_i^\\\\dagger b_j \\\\rangle$')\n",
    "        fig.colorbar(im, ax=axs[0])\n",
    "    plt.show()\n",
    "    pass"
   ]
  },
  {
   "cell_type": "markdown",
   "id": "0ecbf756-7c69-4b88-b261-67aba1ffb47e",
   "metadata": {
    "jp-MarkdownHeadingCollapsed": true
   },
   "source": [
    "# <font>Correlation Matrix</font>"
   ]
  },
  {
   "cell_type": "code",
   "execution_count": null,
   "id": "a5c06b2a-e2a0-4c9a-a12e-15a1f4d1f3d3",
   "metadata": {},
   "outputs": [],
   "source": [
    "def correlations(params, **kwargs):\n",
    "    '''\n",
    "    Returns plots of Expectation Value of Hopping Ops,\n",
    "    Correlation between particle at the center of lattice and\n",
    "    the remaining sites.\n",
    "    kwargs: wfn [Required] - wavefunction which would be used to compute the Correlation matrix.\n",
    "    '''\n",
    "    I, annihOp = sp.identity(params['truncationParam_n']+1), annihilationOpMatrix(params)\n",
    "    PM, createOp, lst = projectionMatrix(params), creationOpMatrix(params), [I for _ in range(params['N'])]\n",
    "    wfn = kwargs['wfn']\n",
    "    H = np.zeros((params['N'], params['N']), dtype = complex)\n",
    "    for i in range(params['N']):\n",
    "        for j in range(params['N']):\n",
    "            if i == j:\n",
    "                lst[i] = createOp@annihOp\n",
    "            else:\n",
    "                lst[i] = createOp\n",
    "                lst[j] = annihOp\n",
    "            HopOp = PM@reduce(sp.kron, lst)@PM.transpose()\n",
    "            H[i, j] =  np.vdot(wfn, HopOp@wfn)\n",
    "            lst[i], lst[j] = I, I\n",
    "    fig, axs = plt.subplots(1, 2, figsize=(14, 6))\n",
    "    H = np.power(np.abs(H), 2)\n",
    "    im = axs[0].imshow(H, cmap='seismic', vmin=-np.abs(H).max(), vmax=np.abs(H).max())\n",
    "    axs[0].set_xlabel('Site i')\n",
    "    axs[0].set_ylabel('Site j')\n",
    "    axs[0].set_title(f'Boson Correlation $\\\\langle b_i^\\\\dagger b_j \\\\rangle$')\n",
    "    fig.colorbar(im, ax=axs[0])\n",
    "\n",
    "    # Second subplot for the correlation plot\n",
    "    middle_index = (params['N'] - 1) // 2\n",
    "    correlation_rate = H[middle_index, :]\n",
    "    axs[1].plot(list(range(params['N'])), correlation_rate)\n",
    "    axs[1].set_xlabel('Site i')\n",
    "    axs[1].set_ylabel('Correlation')\n",
    "    axs[1].set_title(f'Correlation between particle at site i={middle_index} and remaining sites')\n",
    "    axs[1].grid(True)\n",
    "    plt.show()\n",
    "    pass"
   ]
  },
  {
   "cell_type": "code",
   "execution_count": null,
   "id": "c902f3c8-b82b-45b2-86ed-13c2d1f151fa",
   "metadata": {},
   "outputs": [],
   "source": [
    "correlations(params, wfn = eigenvec)"
   ]
  },
  {
   "cell_type": "code",
   "execution_count": null,
   "id": "381eb211-79f2-407d-84fa-e7d2af4ab70b",
   "metadata": {},
   "outputs": [],
   "source": [
    "correlations(params, wfn = psi_t[0])"
   ]
  },
  {
   "cell_type": "code",
   "execution_count": null,
   "id": "b4ccf33b-0ed2-4ded-a79f-902ff4f65fb4",
   "metadata": {},
   "outputs": [],
   "source": [
    "correlations(params, wfn = psi_prime)"
   ]
  },
  {
   "cell_type": "code",
   "execution_count": null,
   "id": "556bef54-13e4-4809-b95d-7dd5417c1ecb",
   "metadata": {},
   "outputs": [],
   "source": [
    "correlations(params, wfn = psi_t[4])"
   ]
  },
  {
   "cell_type": "code",
   "execution_count": null,
   "id": "eaecae2c-1565-46cb-8dc4-c3b2d030fc2e",
   "metadata": {},
   "outputs": [],
   "source": [
    "correlations(params, wfn = psi_t[9])"
   ]
  },
  {
   "cell_type": "code",
   "execution_count": null,
   "id": "cb47fce2-0fce-40c5-9b6f-9fdb6f7e6c0e",
   "metadata": {},
   "outputs": [],
   "source": [
    "correlations(params, wfn = psi_t[20])"
   ]
  },
  {
   "cell_type": "code",
   "execution_count": null,
   "id": "920b3476-06fa-4997-aca6-51dfed6c52c8",
   "metadata": {},
   "outputs": [],
   "source": [
    "correlations(params, wfn = psi_t[30])"
   ]
  },
  {
   "cell_type": "code",
   "execution_count": null,
   "id": "6b9476ef-cb87-4d32-8c6b-497e2ae57f49",
   "metadata": {},
   "outputs": [],
   "source": [
    "correlations(params, wfn = psi_t[40])"
   ]
  },
  {
   "cell_type": "markdown",
   "id": "df6c063c-09d8-4505-88ff-3b1806bb016f",
   "metadata": {
    "jp-MarkdownHeadingCollapsed": true
   },
   "source": [
    "# <font>Density</font>"
   ]
  },
  {
   "cell_type": "code",
   "execution_count": null,
   "id": "ac0fc71b-3c18-4e30-9f3a-2170d96db6ac",
   "metadata": {},
   "outputs": [],
   "source": [
    "def density_eachSite(params, **kwargs):\n",
    "    '''\n",
    "    Returns plot of density of particles at each site.\n",
    "    kwargs: wfn [Required] - wavefunction for which density at each site must be calculated.\n",
    "    '''\n",
    "    PM, expval_nOp = projectionMatrix(params), []\n",
    "    wfn = kwargs['wfn']\n",
    "    for i in range(params['N']):\n",
    "        NumOp, NumOp_2 = numOpMatrix(params, i)\n",
    "        nOp = PM@NumOp@PM.transpose()\n",
    "        expval_nOp.append(np.vdot(wfn, nOp@wfn))\n",
    "    plt.plot(list(range(params['N'])), np.real(expval_nOp), marker = \"o\")\n",
    "    plt.ylabel('Occupation')\n",
    "    plt.xlabel('Site Index')\n",
    "    plt.title(f'Number of Particles at each site')\n",
    "    plt.show()\n"
   ]
  },
  {
   "cell_type": "code",
   "execution_count": null,
   "id": "89879b2e-3dfa-4b35-8645-7cdc9fc30398",
   "metadata": {},
   "outputs": [],
   "source": [
    "density_eachSite(params, wfn = eigenvec)"
   ]
  },
  {
   "cell_type": "code",
   "execution_count": null,
   "id": "21e28dac-aa2a-4243-8180-ecc1095c0184",
   "metadata": {},
   "outputs": [],
   "source": [
    "density_eachSite(params, wfn = psi_prime)"
   ]
  },
  {
   "cell_type": "code",
   "execution_count": null,
   "id": "6ca92e94-ff71-405f-9786-096e55677d07",
   "metadata": {},
   "outputs": [],
   "source": [
    "density_eachSite(params, wfn = psi_t[4])"
   ]
  },
  {
   "cell_type": "code",
   "execution_count": null,
   "id": "80cd35b2-51e9-436a-a2b6-9a0fb4d7ee29",
   "metadata": {},
   "outputs": [],
   "source": [
    "density_eachSite(params, wfn = psi_t[9])"
   ]
  },
  {
   "cell_type": "code",
   "execution_count": null,
   "id": "62f56592-7b0d-4ada-ad7b-ea7c3edb1d87",
   "metadata": {},
   "outputs": [],
   "source": [
    "density_eachSite(params, wfn = psi_t[20])"
   ]
  },
  {
   "cell_type": "code",
   "execution_count": null,
   "id": "19e23f05-658b-44ab-80c2-668d63d9964b",
   "metadata": {},
   "outputs": [],
   "source": [
    "density_eachSite(params, wfn = psi_t[30])"
   ]
  },
  {
   "cell_type": "code",
   "execution_count": null,
   "id": "4d0810a1-fd2e-4c6e-a9d8-0a8f955be1af",
   "metadata": {},
   "outputs": [],
   "source": [
    "density_eachSite(params, wfn = psi_t[40])"
   ]
  }
 ],
 "metadata": {
  "kernelspec": {
   "display_name": "Python 3 (ipykernel)",
   "language": "python",
   "name": "python3"
  },
  "language_info": {
   "codemirror_mode": {
    "name": "ipython",
    "version": 3
   },
   "file_extension": ".py",
   "mimetype": "text/x-python",
   "name": "python",
   "nbconvert_exporter": "python",
   "pygments_lexer": "ipython3",
   "version": "3.12.3"
  }
 },
 "nbformat": 4,
 "nbformat_minor": 5
}
