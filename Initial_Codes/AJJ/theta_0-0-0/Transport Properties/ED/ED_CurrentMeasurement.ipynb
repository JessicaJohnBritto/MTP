{
 "cells": [
  {
   "cell_type": "code",
   "execution_count": 65,
   "id": "b0860dac-8e9f-4ce9-94ca-df4418e8a350",
   "metadata": {},
   "outputs": [],
   "source": [
    "import numpy as np\n",
    "from numpy import linalg\n",
    "from scipy import linalg as splinalg\n",
    "import matplotlib.pyplot as plt\n",
    "from scipy import sparse as sp\n",
    "import scipy.sparse.linalg\n",
    "from functools import reduce\n",
    "import itertools\n",
    "from scipy import linalg\n",
    "from scipy.linalg import expm, logm\n",
    "from scipy.special import comb\n",
    "from itertools import combinations_with_replacement, product\n",
    "from collections import Counter\n",
    "import copy\n",
    "from scipy.linalg import ishermitian\n",
    "import time"
   ]
  },
  {
   "cell_type": "code",
   "execution_count": 66,
   "id": "4dd13233-f68e-4d21-8bdb-b4df52671b7d",
   "metadata": {},
   "outputs": [],
   "source": [
    "params = {\n",
    "    'N': 10, # no. of sites\n",
    "    't':1, # Hopping Amplitude\n",
    "    'T': 1, # Total Time Evolution\n",
    "    'tau': 0.1 # Time step\n",
    "}\n",
    "\n",
    "params['N'], params['k'] = 5, 5\n",
    "params['N1'], params['N2'], params['N3'] = 2, 3, 5\n",
    "params['U1'], params['U2'], params['U3'] = 0.5, 10, 0.5\n",
    "params['mu'] = 0\n",
    "\n",
    "params['start_site'], params['end_site'] = 0, 2\n",
    "\n",
    "params['dim'], params['truncationParam_n'] = 0, 2\n",
    "params['occupationTuple_lst'] = []\n",
    "params['Map_ParticleLoc_OccupNo']={}\n",
    "params['map_occupToD_Dim'] = {}\n",
    "\n",
    "def dimension(params, **kwargs):\n",
    "    '''\n",
    "    For k identical bosonic particles on N lattice site, \n",
    "    Changes the dim and initializes the vac state\n",
    "    based on dim.\n",
    "    Makes change to the params - 'dim', 'vac' within the function.\n",
    "    Make sure to define the parameters list as params.\n",
    "    Return: Null\n",
    "    '''\n",
    "    N, k, dim = params['N'], params['k'], int(params['dim']) # N = number of sites, k = no. of identical bosonic particles\n",
    "    params['dim'] = int(comb(N+k-1, k)) # This is for k identical bosonic particles\n",
    "    params['vac'] = sp.csc_matrix(np.zeros(N))\n",
    "    pass\n"
   ]
  },
  {
   "cell_type": "code",
   "execution_count": 67,
   "id": "382821da-2680-4cf2-a0a3-24fe47943551",
   "metadata": {},
   "outputs": [],
   "source": [
    "def normalizeWF(psi,**kwargs):\n",
    "    '''\n",
    "    Return a Normalized Wavefunction\n",
    "    '''\n",
    "    shape, dtype = psi.shape, psi.dtype\n",
    "    NWF = psi\n",
    "    if np.array_equal(psi, np.zeros(shape, dtype = dtype)) == True:\n",
    "        NWF = psi\n",
    "    elif np.vdot(psi, psi) == 0:\n",
    "        NWF = psi\n",
    "    else:\n",
    "        NWF = psi/(np.sqrt(np.vdot(psi, psi)))\n",
    "    return NWF\n"
   ]
  },
  {
   "cell_type": "code",
   "execution_count": 68,
   "id": "cbc8ef7c-9e3b-454d-b42e-8ba8a50c66a2",
   "metadata": {},
   "outputs": [],
   "source": [
    "def creationOpMatrix(params, **kwargs):\n",
    "    '''\n",
    "    Returns Bosonic Creation Operator\n",
    "    '''\n",
    "    A = sp.diags(np.sqrt(np.arange(1, params['truncationParam_n']+1, 1)), -1)\n",
    "    return A\n",
    "\n",
    "def annihilationOpMatrix(params, **kwargs):\n",
    "    '''\n",
    "    Returns Bosonic Annihilation Operator\n",
    "    '''\n",
    "    A = sp.diags(np.sqrt(np.arange(1, params['truncationParam_n']+1, 1)), 1)\n",
    "    return A\n",
    "\n",
    "def numOpMatrix(params, site_no, **kwargs):\n",
    "    '''\n",
    "    Returns Bosonic Number Operator\n",
    "    '''\n",
    "    createOp = creationOpMatrix(params)\n",
    "    nOp = createOp@createOp.transpose()\n",
    "    I = sp.identity(params['truncationParam_n']+1)\n",
    "    lst = [I for _ in range(params['N'])]\n",
    "    if 'tilt' in kwargs:\n",
    "        lst[site_no] = nOp*site_no\n",
    "        matrx = sp.csc_matrix(reduce(sp.kron, lst))\n",
    "        return matrx\n",
    "    else: \n",
    "        lst[site_no] = nOp\n",
    "        matrix1 = sp.csc_matrix(reduce(sp.kron, lst))\n",
    "        lst[site_no] = nOp@nOp\n",
    "        matrix2 = sp.csc_matrix(reduce(sp.kron, lst))\n",
    "        return matrix1, matrix2\n",
    "\n",
    "def HoppingOpMatrix(params, site_no, **kwargs):\n",
    "    '''\n",
    "    Returns Bosonic Hopping Operator\n",
    "    '''\n",
    "    n, N = params['truncationParam_n'], params['N']\n",
    "    matrixx = sp.csc_matrix(((n+1)**N, (n+1)**N))\n",
    "    if site_no != params['N']-1:\n",
    "        creationOp, annihOp = creationOpMatrix(params), annihilationOpMatrix(params)\n",
    "        I = sp.identity(params['truncationParam_n']+1)\n",
    "        lst = [I for _ in range(params['N'])]\n",
    "        lst[site_no], lst[site_no+1] = creationOp, annihOp\n",
    "        matrixx = sp.csc_matrix(reduce(sp.kron, lst))\n",
    "    return matrixx"
   ]
  },
  {
   "cell_type": "code",
   "execution_count": 69,
   "id": "774db6cc-6663-403a-8226-d7f9909bd826",
   "metadata": {},
   "outputs": [],
   "source": [
    "def Prod_OccupBasis(params, **kwargs):\n",
    "    '''\n",
    "    Generates all combinations using product from itertools.\n",
    "    Returns: valid_combinations under the k-constraint (particle\n",
    "    number conservation) and all combinations.\n",
    "    '''\n",
    "    n, N, k = params['truncationParam_n']+1, params['N'], params['k']\n",
    "    all_combinations = dict(enumerate(itertools.product(range(n), repeat=N)))\n",
    "    valid_combinations = dict(filter(lambda x: sum(x[1]) == k, all_combinations.items()))\n",
    "    return valid_combinations, all_combinations\n",
    "# params['truncationParam_n'], params['N'], params['k'] = 2, 2, 2\n",
    "\n",
    "def projectionMatrix(params, **kwargs):\n",
    "    '''\n",
    "    Creates a projection matrix whose elements are non-zero\n",
    "    for the indices of the occup_states obeying k-constraint.\n",
    "    '''\n",
    "    valid_combinations, all_combinations = Prod_OccupBasis(params)\n",
    "    rows, cols = len(valid_combinations), len(all_combinations)\n",
    "    PM = sp.csc_matrix((rows, cols))\n",
    "    for i, key in enumerate(list(reversed(valid_combinations.keys()))):\n",
    "        PM[i, key] = 1.0\n",
    "    return PM"
   ]
  },
  {
   "cell_type": "code",
   "execution_count": 70,
   "id": "438e645c-dc21-47aa-ac97-cc7b0ba9021b",
   "metadata": {},
   "outputs": [],
   "source": [
    "def AJJ_HamiltonianMatrix(params, **kwargs):\n",
    "    '''\n",
    "    Returns AJJ-BHM Hamiltonian Matrix and ground state\n",
    "    '''\n",
    "    n, N, k = params['truncationParam_n'], params['N'], params['k']\n",
    "    H = sp.csc_matrix(((n+1)**N, (n+1)**N))\n",
    "    PM = projectionMatrix(params)\n",
    "\n",
    "    # Region1\n",
    "    for i in range(params['N1']):\n",
    "        HopOp, nOp_mu = HoppingOpMatrix(params, i), numOpMatrix(params, i, tilt = True)\n",
    "        NumOp, NumOp_2 = numOpMatrix(params, i)\n",
    "        H += -params['t']*(HopOp+HopOp.transpose()) + 0.5*params['U1']*(NumOp_2 - NumOp) - params['mu']*nOp_mu\n",
    "\n",
    "    # Region2\n",
    "    for i in range(params['N1'], params['N2']):\n",
    "        HopOp, nOp_mu = HoppingOpMatrix(params, i), numOpMatrix(params, i, tilt = True)\n",
    "        NumOp, NumOp_2 = numOpMatrix(params, i)\n",
    "        H += -params['t']*(HopOp+HopOp.transpose()) + 0.5*params['U2']*(NumOp_2 - NumOp) - params['mu']*nOp_mu\n",
    "\n",
    "    # Region3\n",
    "    for i in range(params['N2'], params['N3']):\n",
    "        HopOp, nOp_mu = HoppingOpMatrix(params, i), numOpMatrix(params, i, tilt = True)\n",
    "        NumOp, NumOp_2 = numOpMatrix(params, i)\n",
    "        H += -params['t']*(HopOp+HopOp.transpose()) + 0.5*params['U3']*(NumOp_2 - NumOp) - params['mu']*nOp_mu\n",
    "        \n",
    "    H = PM@H@PM.transpose()\n",
    "    eigenval, eigenvec = sp.linalg.eigsh(H, k=1, which='SA')\n",
    "    return H, eigenvec"
   ]
  },
  {
   "cell_type": "code",
   "execution_count": 71,
   "id": "8b6e5f74-e224-451e-8eee-2fcf7bd903a7",
   "metadata": {},
   "outputs": [],
   "source": [
    "def parity_op(params, **kwargs):\n",
    "    '''\n",
    "    Returns Parity Operator\n",
    "    '''\n",
    "    A = sp.diags([(-1.)**n for n in range(params['truncationParam_n']+1)])\n",
    "    return A"
   ]
  },
  {
   "cell_type": "code",
   "execution_count": 72,
   "id": "49e41516-19e3-41b0-a831-9dcd40c4a7bf",
   "metadata": {},
   "outputs": [
    {
     "data": {
      "text/plain": [
       "array([[ 1.,  0.,  0.],\n",
       "       [ 0., -1.,  0.],\n",
       "       [ 0.,  0.,  1.]])"
      ]
     },
     "execution_count": 72,
     "metadata": {},
     "output_type": "execute_result"
    }
   ],
   "source": [
    "parity_op(params).toarray()"
   ]
  },
  {
   "cell_type": "code",
   "execution_count": 73,
   "id": "c3de8752-dc81-4435-99d9-0b40c503a3be",
   "metadata": {},
   "outputs": [],
   "source": [
    "def prdt_parity_op(params, **kwargs):\n",
    "    '''\n",
    "    Returns Parity Operator for a region in AJJ\n",
    "    Args: params,\n",
    "\n",
    "    Note:\n",
    "    params['start_site']: where the region is starting\n",
    "    params['end_site']: where the region is ending\n",
    "    for eg, if region-1 is from 0 till 29,\n",
    "    then (start_site, end_site) = (0, 30).\n",
    "    '''\n",
    "    A = parity_op(params)\n",
    "    start_site, end_site = params['start_site'], params['end_site'] \n",
    "    createOp = creationOpMatrix(params)\n",
    "    I = sp.identity(createOp.shape[0])\n",
    "    lst = [I for _ in range(params['N'])]\n",
    "    for i in range(start_site, end_site, 1):\n",
    "        lst[i] = A\n",
    "    matrixx = reduce(sp.kron, lst)\n",
    "    return matrixx"
   ]
  },
  {
   "cell_type": "code",
   "execution_count": 74,
   "id": "a33595e1-4109-4266-b807-0c9f32f2d196",
   "metadata": {},
   "outputs": [
    {
     "data": {
      "text/plain": [
       "(243, 243)"
      ]
     },
     "execution_count": 74,
     "metadata": {},
     "output_type": "execute_result"
    }
   ],
   "source": [
    "prdt_parity_op(params).toarray().shape"
   ]
  },
  {
   "cell_type": "code",
   "execution_count": 75,
   "id": "60672322-6068-4c68-aaac-438c5e5dd392",
   "metadata": {},
   "outputs": [],
   "source": [
    "def generate_psiPrime(params, **kwargs):\n",
    "    '''\n",
    "    Returns wavefunction when Parity Operator for a region is applied on WFn.\n",
    "    kwargs: start_site, end_site, eigenvec [Required].\n",
    "    eigenvec: Ground state of AJJ.\n",
    "    '''\n",
    "    PM = projectionMatrix(params)\n",
    "    matrixx = PM@prdt_parity_op(params)@PM.transpose()\n",
    "    wfn = matrixx@kwargs['eigenvec']\n",
    "    return wfn"
   ]
  },
  {
   "cell_type": "code",
   "execution_count": 76,
   "id": "6de6813c-ea2b-4775-b5e8-1ce3e5eb9ed7",
   "metadata": {},
   "outputs": [],
   "source": [
    "H, eigenvec = AJJ_HamiltonianMatrix(params)\n",
    "psi_prime = generate_psiPrime(params, eigenvec = eigenvec)"
   ]
  },
  {
   "cell_type": "code",
   "execution_count": 77,
   "id": "f27d7279-a726-4c78-a61e-0908b8541e3a",
   "metadata": {},
   "outputs": [
    {
     "data": {
      "text/plain": [
       "(51, 51)"
      ]
     },
     "execution_count": 77,
     "metadata": {},
     "output_type": "execute_result"
    }
   ],
   "source": [
    "H.shape"
   ]
  },
  {
   "cell_type": "code",
   "execution_count": 78,
   "id": "7a86e3a7-d614-4d5b-9561-5a8df6f00803",
   "metadata": {},
   "outputs": [
    {
     "data": {
      "text/plain": [
       "(51, 1)"
      ]
     },
     "execution_count": 78,
     "metadata": {},
     "output_type": "execute_result"
    }
   ],
   "source": [
    "psi_prime.shape"
   ]
  },
  {
   "cell_type": "code",
   "execution_count": 79,
   "id": "a9003593-9cc4-4655-94b2-c1f6bea3605f",
   "metadata": {},
   "outputs": [],
   "source": [
    "def time_evolutionPsiPrime(params, **kwargs):\n",
    "    '''\n",
    "    Returns a list of time evolved wavefunctions obtained after the application of Parity Operator of a region \n",
    "    for time 0 to T with time step 'tau'.\n",
    "    This is done wrt the AJJ Hamiltonian.\n",
    "    kwargs: start_site, end_site, eigenvec, H [Required].\n",
    "    H: Hamiltonian of AJJ.\n",
    "    eigenvec: Ground state of AJJ.\n",
    "    '''\n",
    "    T, tau, H, eigenvec = params['T'], params['tau'], kwargs['H'], kwargs['eigenvec']\n",
    "    wfn = generate_psiPrime(params, eigenvec = eigenvec)\n",
    "    time_list = np.arange(0, T, tau)\n",
    "    unitary_timeOp = [expm(-1j*t*(H.toarray())) for t in time_list]\n",
    "    psi_t = [uOp@eigenvec for uOp in unitary_timeOp]\n",
    "    return psi_t"
   ]
  },
  {
   "cell_type": "code",
   "execution_count": 80,
   "id": "1a6bfa81-906c-4513-8e46-bae322440fe5",
   "metadata": {},
   "outputs": [
    {
     "name": "stdout",
     "output_type": "stream",
     "text": [
      "Elapsed time: 0.016933202743530273 seconds\n"
     ]
    }
   ],
   "source": [
    "start_time = time.time()\n",
    "\n",
    "\n",
    "psi_t = time_evolutionPsiPrime(params, H = H, eigenvec = eigenvec)\n",
    "\n",
    "\n",
    "end_time = time.time()\n",
    "elapsed_time = end_time - start_time\n",
    "print(f\"Elapsed time: {elapsed_time} seconds\")"
   ]
  },
  {
   "cell_type": "code",
   "execution_count": 116,
   "id": "d9b188d8-0ba9-47cf-9360-53b13b2e8b1a",
   "metadata": {},
   "outputs": [],
   "source": [
    "def N_op(params, region_number, **kwargs):\n",
    "    '''\n",
    "    Returns N operator = sum of n_{i} where i belongs to a region.\n",
    "    Args: params,\n",
    "    region_number: takes either 1 or 3 corresponding to SF regions in SF-MIP-SF AJJ config.\n",
    "    '''\n",
    "    PM = projectionMatrix(params)\n",
    "    print(f'PM = {PM.shape}')\n",
    "    createOp = creationOpMatrix(params)\n",
    "    nOp = createOp@createOp.transpose()\n",
    "    if region_number == 3:\n",
    "        start, end = params['N2'], params['N3']\n",
    "    elif region_number == 1:\n",
    "        start, end = 0, params['N2']\n",
    "    I = sp.identity(createOp.shape[0])\n",
    "    lst = [I for _ in range(params['N'])]\n",
    "    # matrixx = PM@(sp.csc_matrix((createOp.shape[0]**params['N'], createOp.shape[0]**params['N'])))@PM.transpose()\n",
    "    matrixx = sp.csc_matrix((createOp.shape[0]**params['N'], createOp.shape[0]**params['N']))\n",
    "    for i in range(start, end):\n",
    "        lst[i] = nOp\n",
    "        # matrixx += (PM@reduce(sp.kron, lst)@PM.transpose())\n",
    "        matrixx += reduce(sp.kron, lst)\n",
    "        lst[i] = I\n",
    "\n",
    "    matrixx = PM@matrixx@PM.transpose()\n",
    "    print(f'matrixx={matrixx.shape}')\n",
    "    return matrixx "
   ]
  },
  {
   "cell_type": "code",
   "execution_count": 117,
   "id": "e8ba112a-3ce3-4fb3-b808-05b97a5fcf16",
   "metadata": {},
   "outputs": [
    {
     "name": "stdout",
     "output_type": "stream",
     "text": [
      "PM = (51, 243)\n",
      "matrixx=(51, 51)\n",
      "Elapsed time: 0.008852481842041016 seconds\n"
     ]
    }
   ],
   "source": [
    "start_time = time.time()\n",
    "\n",
    "\n",
    "N1_op = N_op(params, region_number = 1)\n",
    "\n",
    "\n",
    "end_time = time.time()\n",
    "elapsed_time = end_time - start_time\n",
    "print(f\"Elapsed time: {elapsed_time} seconds\")"
   ]
  },
  {
   "cell_type": "code",
   "execution_count": 118,
   "id": "25e5d2e8-45c7-4984-9802-542ed53b30e4",
   "metadata": {},
   "outputs": [],
   "source": [
    "def N1_minusN3_exp(params, **kwargs):\n",
    "    '''\n",
    "    Returns the list of expectation values of N1 - N3 operators wrt the time evolved psi-prime for different final times.\n",
    "    kwargs: psi_t [Optional] - if passed, function uses this else uses the one generated from functn 'time_evolutionPsiPrime'\n",
    "    '''\n",
    "    if 'psi_t' in kwargs:\n",
    "        psi_t = kwargs['psi_t']\n",
    "    elif 'psi_t' not in kwargs:\n",
    "        psi_t = time_evolutionPsiPrime(params, H = H, eigenvec = eigenvec)\n",
    "\n",
    "    print(f'psit.shape={psi_t[0].shape}')\n",
    "    N1 = N_op(params, region_number = 1)\n",
    "    print(f'N1.shape={N1.shape}')\n",
    "    N2 = N_op(params, region_number = 3)\n",
    "    print(f'N2.shape={N2.shape}')\n",
    "    N_diff_exp = [np.vdot(psit, (N1-N2)@psit) for psit in psi_t]\n",
    "    return N_diff_exp  "
   ]
  },
  {
   "cell_type": "code",
   "execution_count": 119,
   "id": "78212ed1-3c1e-444a-911f-a0e2d7ea3a59",
   "metadata": {},
   "outputs": [
    {
     "name": "stdout",
     "output_type": "stream",
     "text": [
      "psit.shape=(51, 1)\n",
      "PM = (51, 243)\n",
      "matrixx=(51, 51)\n",
      "N1.shape=(51, 51)\n",
      "PM = (51, 243)\n",
      "matrixx=(51, 51)\n",
      "N2.shape=(51, 51)\n",
      "N_diff_exp=[(0.6109858588909199+0j), (0.6109858588909197+0j), (0.6109858588909198+0j), (0.6109858588909197-6.938893903907228e-18j), (0.6109858588909199+0j), (0.6109858588909194+2.7755575615628914e-17j), (0.6109858588909194+0j), (0.6109858588909193+0j), (0.6109858588909194+0j), (0.6109858588909193+0j)]\n",
      "Elapsed time: 0.04691720008850098 seconds\n"
     ]
    },
    {
     "data": {
      "image/png": "[encoded data removed]",
      "text/plain": [
       "<Figure size 640x480 with 1 Axes>"
      ]
     },
     "metadata": {},
     "output_type": "display_data"
    }
   ],
   "source": [
    "start_time = time.time()\n",
    "\n",
    "\n",
    "N_diff_exp = N1_minusN3_exp(params)\n",
    "print(f'N_diff_exp={N_diff_exp}')\n",
    "t_list = np.arange(0, params['T'], params['tau']).round(1)\n",
    "plt.plot(t_list, np.real(N_diff_exp))\n",
    "plt.xlabel('Time')\n",
    "plt.ylabel(f'$<\\\\hat{{N}}_{{R_1}} - \\\\hat{{N}}_{{R_2}}>$')\n",
    "\n",
    "\n",
    "end_time = time.time()\n",
    "elapsed_time = end_time - start_time\n",
    "print(f\"Elapsed time: {elapsed_time} seconds\")"
   ]
  }
 ],
 "metadata": {
  "kernelspec": {
   "display_name": "Python 3 (ipykernel)",
   "language": "python",
   "name": "python3"
  },
  "language_info": {
   "codemirror_mode": {
    "name": "ipython",
    "version": 3
   },
   "file_extension": ".py",
   "mimetype": "text/x-python",
   "name": "python",
   "nbconvert_exporter": "python",
   "pygments_lexer": "ipython3",
   "version": "3.12.4"
  }
 },
 "nbformat": 4,
 "nbformat_minor": 5
}
