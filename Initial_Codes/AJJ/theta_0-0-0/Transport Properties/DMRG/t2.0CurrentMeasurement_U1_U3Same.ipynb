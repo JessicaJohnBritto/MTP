{
 "cells": [
  {
   "cell_type": "markdown",
   "id": "0e6db8ce-bbfd-418c-b451-b04583ea58fb",
   "metadata": {},
   "source": [
    "# Importing Packages"
   ]
  },
  {
   "cell_type": "code",
   "execution_count": 1,
   "id": "c548deef-2360-4544-b235-d08a384cbb58",
   "metadata": {},
   "outputs": [],
   "source": [
    "from pyblock2.driver.core import DMRGDriver, SymmetryTypes, MPOAlgorithmTypes\n",
    "import numpy as np\n",
    "import math\n",
    "import matplotlib.pyplot as plt\n",
    "import time\n",
    "import h5py"
   ]
  },
  {
   "cell_type": "markdown",
   "id": "28ccea47-b28f-4afc-8bd3-f5e9ea1f6d72",
   "metadata": {},
   "source": [
    "# Functions for Constructing Matrices"
   ]
  },
  {
   "cell_type": "code",
   "execution_count": 2,
   "id": "72cf1fe7-0df7-4a57-82a9-6a4129eb3fdc",
   "metadata": {},
   "outputs": [],
   "source": [
    "def vector_to_hermitian(upper_triangle_vector):\n",
    "    # Check if the input vector is real-valued or complex-valued\n",
    "    is_real = np.isrealobj(upper_triangle_vector)\n",
    "    \n",
    "    # Determine the size of the matrix (n x n)\n",
    "    n = int(np.sqrt(2 * len(upper_triangle_vector) + 0.25) - 0.5)\n",
    "    \n",
    "    # Initialize an empty matrix with the appropriate type\n",
    "    dtype = float if is_real else complex\n",
    "    A = np.zeros((n, n), dtype=dtype)\n",
    "    \n",
    "    # Fill in the upper triangle\n",
    "    indices = np.triu_indices(n)\n",
    "    A[indices] = upper_triangle_vector\n",
    "    \n",
    "    # Assign values to the lower triangle\n",
    "    i_lower = np.tril_indices(n, -1)\n",
    "    if is_real:\n",
    "        A[i_lower] = A.T[i_lower]  # Copy upper triangle values to lower triangle\n",
    "    else:\n",
    "        A[i_lower] = np.conj(A.T[i_lower])  # Assign conjugate transpose to lower triangle\n",
    "    \n",
    "    return A"
   ]
  },
  {
   "cell_type": "markdown",
   "id": "13fa44dc-38ff-428e-9945-6bcf5458962d",
   "metadata": {},
   "source": [
    "# Data Storing Scripts"
   ]
  },
  {
   "cell_type": "code",
   "execution_count": 3,
   "id": "d9ec202f-7f37-4e6a-8270-53cf41c81dfc",
   "metadata": {},
   "outputs": [],
   "source": [
    "def remove_dataset(h5_file, dataset_name, **kwargs):\n",
    "    \"\"\"\n",
    "    Remove a specific dataset from an HDF5 file.\n",
    "\n",
    "    Args:\n",
    "        h5_file (str): Path to the HDF5 file.\n",
    "        dataset_name (str): Name of the dataset to remove.\n",
    "    \"\"\"\n",
    "    with h5py.File(h5_file, 'a') as f:  # Open in append mode to modify the file\n",
    "        if dataset_name in f:\n",
    "            del f[dataset_name]  # Remove the dataset\n",
    "            print(f\"Dataset '{dataset_name}' has been removed.\")\n",
    "        else:\n",
    "            print(f\"Dataset '{dataset_name}' not found in the file.\")\n"
   ]
  },
  {
   "cell_type": "code",
   "execution_count": 4,
   "id": "398c0c20-28c2-41bb-962c-b7fbed5146f1",
   "metadata": {},
   "outputs": [],
   "source": [
    "def append_to_dataset(h5_file, dataset_name, new_data, **kwargs):\n",
    "    \"\"\"\n",
    "    Append new data to a dataset in an HDF5 file. If the dataset does not exist, create it.\n",
    "\n",
    "    Args:\n",
    "        h5_file (str): Path to the HDF5 file.\n",
    "        dataset_name (str): Name of the dataset to append to.\n",
    "        new_data (numpy array): New data to append.\n",
    "    \"\"\"\n",
    "    with h5py.File(h5_file, 'a') as f:  # Open in append mode\n",
    "        if dataset_name in f:\n",
    "            dataset = f[dataset_name]\n",
    "            dataset.resize((dataset.shape[0] + new_data.shape[0]), axis=0)\n",
    "            dataset[-new_data.shape[0]:] = new_data  # Append new data at the end\n",
    "        else:\n",
    "            # If the dataset doesn't exist, create it with the initial shape\n",
    "            maxshape = (None,) + new_data.shape[1:]  # None means unlimited in first dimension\n",
    "            f.create_dataset(dataset_name, data=new_data, maxshape=maxshape)\n",
    "        print(f\"Appended data to dataset '{dataset_name}' in '{h5_file}'.\")\n",
    "\n"
   ]
  },
  {
   "cell_type": "code",
   "execution_count": 5,
   "id": "995dfde5-47df-418e-8493-f5c3e5e112dd",
   "metadata": {},
   "outputs": [],
   "source": [
    "def read_dataset(h5_file, dataset_name, **kwargs):\n",
    "    \"\"\"\n",
    "    Read and return data from a dataset in an HDF5 file.\n",
    "\n",
    "    Args:\n",
    "        h5_file (str): Path to the HDF5 file.\n",
    "        dataset_name (str): Name of the dataset to read from.\n",
    "    \n",
    "    Returns:\n",
    "        numpy array: The data read from the dataset.\n",
    "    \"\"\"\n",
    "    with h5py.File(h5_file, 'r') as f:  # Open in read mode\n",
    "        if dataset_name in f:\n",
    "            data = f[dataset_name][:]\n",
    "            return data\n",
    "        else:\n",
    "            print(f\"Dataset '{dataset_name}' not found in '{h5_file}'.\")\n",
    "            return None"
   ]
  },
  {
   "cell_type": "markdown",
   "id": "2074e28d-dd9d-4fae-bdac-6774c3337c4e",
   "metadata": {},
   "source": [
    "# Definitions"
   ]
  },
  {
   "cell_type": "code",
   "execution_count": 6,
   "id": "5462a7b4-6f31-4c9b-9752-84b566b701e5",
   "metadata": {},
   "outputs": [],
   "source": [
    "params = {}\n",
    "params['L'], params['N'], params['nmax'] = 64, 64, 4\n",
    "params['L1'], params['L2'], params['L3'] = 30, 34, 64 \n",
    "params['t'], params['U1'], params['U2'], params['U3'] = 1.0, 0.5, 10.0, 0.5\n",
    "\n",
    "driver = DMRGDriver(scratch=\"./tmp\", symm_type=SymmetryTypes.SAny | SymmetryTypes.CPX, n_threads=4)\n",
    "\n",
    "driver.set_symmetry_groups(\"U1\")\n",
    "Q = driver.bw.SX"
   ]
  },
  {
   "cell_type": "code",
   "execution_count": 7,
   "id": "c634db4f-474c-467a-b6ac-1da9fa3ec3a5",
   "metadata": {},
   "outputs": [],
   "source": [
    "# [Part A] Set states and matrix representation of operators in local Hilbert space\n",
    "site_basis, site_ops = [], []\n",
    "\n",
    "# Definig Operators\n",
    "bdag = np.diag(np.sqrt(np.arange(1, params['nmax'] + 1)), k=-1) # b+\n",
    "b = bdag.T # b\n",
    "n = np.diag(np.arange(0, params['nmax'] + 1), k=0) # particle number \n",
    "parity = np.diag([(-1.)**n for n in range(params['nmax']+1)]) # Parity no.\n",
    "\n",
    "for k in range(params['L']):\n",
    "    basis = [(Q(i), 1) for i in range(params['nmax'] + 1)] \n",
    "    ops = {\n",
    "        \"\": np.identity(params['nmax'] + 1), # identity\n",
    "        \"C\": bdag, # b+\n",
    "        \"D\": b,  # b\n",
    "        \"N\": n, # particle number\n",
    "        \"P\": parity, # Parity no.\n",
    "    }\n",
    "    site_basis.append(basis)\n",
    "    site_ops.append(ops)"
   ]
  },
  {
   "cell_type": "markdown",
   "id": "11c0912a-4c6a-4e73-845c-23fc3d3eb842",
   "metadata": {},
   "source": [
    "# Setting Up Hamiltonian"
   ]
  },
  {
   "cell_type": "code",
   "execution_count": 8,
   "id": "7d27acaf-51a8-49c4-acdf-8de500716181",
   "metadata": {},
   "outputs": [],
   "source": [
    "driver.initialize_system(n_sites=params['L'], vacuum=Q(0), target=Q(params['N']), hamil_init=False)\n",
    "driver.ghamil = driver.get_custom_hamiltonian(site_basis, site_ops)\n",
    "b = driver.expr_builder()\n",
    "\n",
    "\n",
    "for i in range(params['L']-1):\n",
    "    b.add_term(\"CD\", [i, i+1], -params['t'])\n",
    "    b.add_term(\"CD\", [i+1, i], -params['t'])\n",
    "\n",
    "# Region 1 \n",
    "for i in range(0, params['L2'], 1):\n",
    "    b.add_term(\"CCDD\", [i, i, i, i], params['U1'] / 2)\n",
    "    b.add_term(\"CD\", [i, i], - params['U1'] / 2)\n",
    "\n",
    "# Region 2\n",
    "for i in range(params['L1'], params['L2'], 1):\n",
    "    b.add_term(\"CCDD\", [i, i, i, i], params['U2'] / 2)\n",
    "    b.add_term(\"CD\", [i, i], - params['U2'] / 2)\n",
    "\n",
    "# Region 3\n",
    "for i in range(params['L2'], params['L3'], 1):\n",
    "    b.add_term(\"CCDD\", [i, i, i, i], params['U3'] / 2)\n",
    "    b.add_term(\"CD\", [i, i], - params['U3'] / 2)"
   ]
  },
  {
   "cell_type": "code",
   "execution_count": 9,
   "id": "8af435eb-41c8-46bc-9c3a-70c29424b0ef",
   "metadata": {},
   "outputs": [
    {
     "name": "stdout",
     "output_type": "stream",
     "text": [
      "\n",
      "Sweep =    0 | Direction =  forward | Bond dimension =   50 | Noise =  1.00e-03 | Dav threshold =  1.00e-10\n",
      "Time elapsed =      0.654 | E =    -142.4657459909 | DW = 4.69478e-10\n",
      "\n",
      "Sweep =    1 | Direction = backward | Bond dimension =   50 | Noise =  1.00e-03 | Dav threshold =  1.00e-10\n",
      "Time elapsed =      3.406 | E =    -143.1287382307 | DE = -6.63e-01 | DW = 5.61106e-08\n",
      "\n",
      "Sweep =    2 | Direction =  forward | Bond dimension =   50 | Noise =  1.00e-03 | Dav threshold =  1.00e-10\n",
      "Time elapsed =      6.896 | E =    -143.3273817097 | DE = -1.99e-01 | DW = 2.84203e-07\n",
      "\n",
      "Sweep =    3 | Direction = backward | Bond dimension =   50 | Noise =  1.00e-05 | Dav threshold =  1.00e-10\n",
      "Time elapsed =      9.190 | E =    -143.4299862786 | DE = -1.03e-01 | DW = 1.47132e-07\n",
      "\n",
      "Sweep =    4 | Direction =  forward | Bond dimension =   50 | Noise =  1.00e-05 | Dav threshold =  1.00e-10\n",
      "Time elapsed =     12.034 | E =    -143.4868379331 | DE = -5.69e-02 | DW = 2.60065e-07\n",
      "\n",
      "Sweep =    5 | Direction = backward | Bond dimension =   50 | Noise =  1.00e-05 | Dav threshold =  1.00e-10\n",
      "Time elapsed =     14.454 | E =    -143.5074855297 | DE = -2.06e-02 | DW = 3.74739e-07\n",
      "\n",
      "Sweep =    6 | Direction =  forward | Bond dimension =   50 | Noise =  0.00e+00 | Dav threshold =  1.00e-10\n",
      "Time elapsed =     17.415 | E =    -143.5238421020 | DE = -1.64e-02 | DW = 3.65705e-07\n",
      "\n",
      "Sweep =    7 | Direction = backward | Bond dimension =   50 | Noise =  0.00e+00 | Dav threshold =  1.00e-10\n",
      "Time elapsed =     19.932 | E =    -143.5267146525 | DE = -2.87e-03 | DW = 5.08830e-07\n",
      "\n",
      "Sweep =    8 | Direction =  forward | Bond dimension =   50 | Noise =  0.00e+00 | Dav threshold =  1.00e-10\n",
      "Time elapsed =     22.067 | E =    -143.5273098242 | DE = -5.95e-04 | DW = 5.73611e-07\n",
      "\n",
      "Sweep =    9 | Direction = backward | Bond dimension =   50 | Noise =  0.00e+00 | Dav threshold =  1.00e-10\n",
      "Time elapsed =     23.417 | E =    -143.5273954109 | DE = -8.56e-05 | DW = 6.28575e-07\n",
      "\n",
      "Sweep =   10 | Direction =  forward | Bond dimension =  100 | Noise =  0.00e+00 | Dav threshold =  1.00e-10\n",
      "Time elapsed =     26.468 | E =    -143.5275694635 | DE = -1.74e-04 | DW = 4.74603e-09\n",
      "\n",
      "Sweep =   11 | Direction = backward | Bond dimension =  100 | Noise =  0.00e+00 | Dav threshold =  1.00e-10\n",
      "Time elapsed =     29.068 | E =    -143.5275721282 | DE = -2.66e-06 | DW = 1.29260e-08\n",
      "\n",
      "Sweep =   12 | Direction =  forward | Bond dimension =  100 | Noise =  0.00e+00 | Dav threshold =  1.00e-10\n",
      "Time elapsed =     30.416 | E =    -143.5275722283 | DE = -1.00e-07 | DW = 1.51089e-08\n",
      "\n",
      "Sweep =   13 | Direction = backward | Bond dimension =  100 | Noise =  0.00e+00 | Dav threshold =  1.00e-10\n",
      "Time elapsed =     31.329 | E =    -143.5275722067 | DE = 2.16e-08 | DW = 1.55964e-08\n",
      "\n",
      "Sweep =   14 | Direction =  forward | Bond dimension =  100 | Noise =  0.00e+00 | Dav threshold =  1.00e-10\n",
      "Time elapsed =     32.224 | E =    -143.5275721846 | DE = 2.21e-08 | DW = 1.56946e-08\n",
      "\n",
      "Sweep =   15 | Direction = backward | Bond dimension =  200 | Noise =  0.00e+00 | Dav threshold =  1.00e-10\n",
      "Time elapsed =     36.078 | E =    -143.5275754782 | DE = -3.29e-06 | DW = 5.42543e-11\n",
      "\n",
      "Sweep =   16 | Direction =  forward | Bond dimension =  200 | Noise =  0.00e+00 | Dav threshold =  1.00e-10\n",
      "Time elapsed =     40.700 | E =    -143.5275754954 | DE = -1.72e-08 | DW = 1.35350e-10\n",
      "\n",
      "Sweep =   17 | Direction = backward | Bond dimension =  200 | Noise =  0.00e+00 | Dav threshold =  1.00e-10\n",
      "Time elapsed =     43.604 | E =    -143.5275754970 | DE = -1.59e-09 | DW = 1.50764e-10\n",
      "\n",
      "Sweep =   18 | Direction =  forward | Bond dimension =  200 | Noise =  0.00e+00 | Dav threshold =  1.00e-10\n",
      "Time elapsed =     46.496 | E =    -143.5275754971 | DE = -1.20e-10 | DW = 1.46260e-10\n",
      "\n",
      "Sweep =   19 | Direction = backward | Bond dimension =  200 | Noise =  0.00e+00 | Dav threshold =  1.00e-10\n",
      "Time elapsed =     49.453 | E =    -143.5275754971 | DE = 9.98e-12 | DW = 1.46905e-10\n",
      "\n",
      "Sweep =   20 | Direction =  forward | Bond dimension =  500 | Noise =  0.00e+00 | Dav threshold =  1.00e-11\n",
      "Time elapsed =     67.332 | E =    -143.5275755263 | DE = -2.92e-08 | DW = 3.32992e-14\n",
      "\n",
      "Sweep =   21 | Direction = backward | Bond dimension =  500 | Noise =  0.00e+00 | Dav threshold =  1.00e-11\n",
      "Time elapsed =     87.593 | E =    -143.5275755264 | DE = -4.48e-11 | DW = 1.06059e-13\n",
      "\n",
      "Sweep =   22 | Direction =  forward | Bond dimension =  500 | Noise =  0.00e+00 | Dav threshold =  1.00e-11\n",
      "Time elapsed =    106.325 | E =    -143.5275755264 | DE = -5.37e-12 | DW = 5.76936e-14\n",
      "\n",
      "Sweep =   23 | Direction = backward | Bond dimension =  500 | Noise =  0.00e+00 | Dav threshold =  1.00e-11\n",
      "Time elapsed =    124.888 | E =    -143.5275755264 | DE = -1.62e-12 | DW = 5.61583e-14\n",
      "\n",
      "Sweep =   24 | Direction =  forward | Bond dimension =  500 | Noise =  0.00e+00 | Dav threshold =  1.00e-11\n",
      "Time elapsed =    143.242 | E =    -143.5275755264 | DE = -1.68e-12 | DW = 5.29575e-14\n",
      "\n",
      "Sweep =   25 | Direction = backward | Bond dimension = 1000 | Noise =  0.00e+00 | Dav threshold =  1.00e-11\n",
      "Time elapsed =    171.635 | E =    -143.5275755264 | DE = -1.07e-11 | DW = 2.84480e-17\n",
      "\n",
      "Final bond dimension = 1000\n",
      "Execution time: 171.72 seconds\n"
     ]
    }
   ],
   "source": [
    "# [Part C] Perform DMRG\n",
    "\n",
    "start_time = time.time()\n",
    "#########################################\n",
    "\n",
    "mpo = driver.get_mpo(b.finalize(adjust_order=True, fermionic_ops=\"\"), algo_type=MPOAlgorithmTypes.FastBipartite)\n",
    "\n",
    "mps = driver.get_random_mps(tag=\"KET\", bond_dim=50, nroots=1, occs=[1] * params['L'])\n",
    "energy = driver.dmrg(\n",
    "    mpo, \n",
    "    mps, \n",
    "    n_sweeps=100, \n",
    "    bond_dims=[50] * 10 + [100] * 5 + [200] * 5 + [500] * 5 + [1000] * 5, \n",
    "    noises=[1e-3] * 3 + [1e-5] * 3 + [0],  \n",
    "    thrds=[1e-10] * 20, \n",
    "    dav_max_iter=100, \n",
    "    tol=1e-10, \n",
    "    iprint=1)\n",
    "print(\"Final bond dimension =\", mps.info.get_max_bond_dimension())\n",
    "\n",
    "#########################################\n",
    "end_time = time.time()\n",
    "execution_time = end_time - start_time\n",
    "print(f\"Execution time: {execution_time:.2f} seconds\")\n"
   ]
  },
  {
   "cell_type": "markdown",
   "id": "c8d8c1c2-e29a-4fe6-8977-0f9871f184a1",
   "metadata": {},
   "source": [
    "## <font color='blue'>Current Measurement</font>"
   ]
  },
  {
   "cell_type": "markdown",
   "id": "b17aaafe-a7a0-40cf-bf34-0e5991218403",
   "metadata": {},
   "source": [
    "### <font color='black'>Constructing MPO for $(-1)^{\\hat{N}_{R_{1}}}$ where $\\hat{N}_{R_{1}} = \\sum_{i \\in R_{1}} n_{i}$</font>"
   ]
  },
  {
   "cell_type": "code",
   "execution_count": 10,
   "id": "58c5db91-f98e-4a58-8c85-2608087daa69",
   "metadata": {},
   "outputs": [
    {
     "name": "stdout",
     "output_type": "stream",
     "text": [
      "\n",
      "Build MPO | Nsites =    64 | Nterms =          1 | Algorithm = FastBIP | Cutoff = 1.00e-14\n",
      " Site =     0 /    64 .. Mmpo =     1 DW = 0.00e+00 NNZ =        1 SPT = 0.0000 Tmvc = 0.000 T = 0.000\n",
      " Site =     1 /    64 .. Mmpo =     1 DW = 0.00e+00 NNZ =        1 SPT = 0.0000 Tmvc = 0.000 T = 0.001\n",
      " Site =     2 /    64 .. Mmpo =     1 DW = 0.00e+00 NNZ =        1 SPT = 0.0000 Tmvc = 0.000 T = 0.000\n",
      " Site =     3 /    64 .. Mmpo =     1 DW = 0.00e+00 NNZ =        1 SPT = 0.0000 Tmvc = 0.000 T = 0.000\n",
      " Site =     4 /    64 .. Mmpo =     1 DW = 0.00e+00 NNZ =        1 SPT = 0.0000 Tmvc = 0.000 T = 0.000\n",
      " Site =     5 /    64 .. Mmpo =     1 DW = 0.00e+00 NNZ =        1 SPT = 0.0000 Tmvc = 0.000 T = 0.000\n",
      " Site =     6 /    64 .. Mmpo =     1 DW = 0.00e+00 NNZ =        1 SPT = 0.0000 Tmvc = 0.000 T = 0.000\n",
      " Site =     7 /    64 .. Mmpo =     1 DW = 0.00e+00 NNZ =        1 SPT = 0.0000 Tmvc = 0.000 T = 0.001\n",
      " Site =     8 /    64 .. Mmpo =     1 DW = 0.00e+00 NNZ =        1 SPT = 0.0000 Tmvc = 0.000 T = 0.000\n",
      " Site =     9 /    64 .. Mmpo =     1 DW = 0.00e+00 NNZ =        1 SPT = 0.0000 Tmvc = 0.000 T = 0.000\n",
      " Site =    10 /    64 .. Mmpo =     1 DW = 0.00e+00 NNZ =        1 SPT = 0.0000 Tmvc = 0.000 T = 0.001\n",
      " Site =    11 /    64 .. Mmpo =     1 DW = 0.00e+00 NNZ =        1 SPT = 0.0000 Tmvc = 0.000 T = 0.000\n",
      " Site =    12 /    64 .. Mmpo =     1 DW = 0.00e+00 NNZ =        1 SPT = 0.0000 Tmvc = 0.000 T = 0.000\n",
      " Site =    13 /    64 .. Mmpo =     1 DW = 0.00e+00 NNZ =        1 SPT = 0.0000 Tmvc = 0.000 T = 0.000\n",
      " Site =    14 /    64 .. Mmpo =     1 DW = 0.00e+00 NNZ =        1 SPT = 0.0000 Tmvc = 0.000 T = 0.001\n",
      " Site =    15 /    64 .. Mmpo =     1 DW = 0.00e+00 NNZ =        1 SPT = 0.0000 Tmvc = 0.000 T = 0.000\n",
      " Site =    16 /    64 .. Mmpo =     1 DW = 0.00e+00 NNZ =        1 SPT = 0.0000 Tmvc = 0.000 T = 0.000\n",
      " Site =    17 /    64 .. Mmpo =     1 DW = 0.00e+00 NNZ =        1 SPT = 0.0000 Tmvc = 0.000 T = 0.000\n",
      " Site =    18 /    64 .. Mmpo =     1 DW = 0.00e+00 NNZ =        1 SPT = 0.0000 Tmvc = 0.000 T = 0.000\n",
      " Site =    19 /    64 .. Mmpo =     1 DW = 0.00e+00 NNZ =        1 SPT = 0.0000 Tmvc = 0.000 T = 0.001\n",
      " Site =    20 /    64 .. Mmpo =     1 DW = 0.00e+00 NNZ =        1 SPT = 0.0000 Tmvc = 0.000 T = 0.000\n",
      " Site =    21 /    64 .. Mmpo =     1 DW = 0.00e+00 NNZ =        1 SPT = 0.0000 Tmvc = 0.000 T = 0.000\n",
      " Site =    22 /    64 .. Mmpo =     1 DW = 0.00e+00 NNZ =        1 SPT = 0.0000 Tmvc = 0.000 T = 0.000\n",
      " Site =    23 /    64 .. Mmpo =     1 DW = 0.00e+00 NNZ =        1 SPT = 0.0000 Tmvc = 0.000 T = 0.000\n",
      " Site =    24 /    64 .. Mmpo =     1 DW = 0.00e+00 NNZ =        1 SPT = 0.0000 Tmvc = 0.000 T = 0.000\n",
      " Site =    25 /    64 .. Mmpo =     1 DW = 0.00e+00 NNZ =        1 SPT = 0.0000 Tmvc = 0.000 T = 0.000\n",
      " Site =    26 /    64 .. Mmpo =     1 DW = 0.00e+00 NNZ =        1 SPT = 0.0000 Tmvc = 0.000 T = 0.000\n",
      " Site =    27 /    64 .. Mmpo =     1 DW = 0.00e+00 NNZ =        1 SPT = 0.0000 Tmvc = 0.000 T = 0.000\n",
      " Site =    28 /    64 .. Mmpo =     1 DW = 0.00e+00 NNZ =        1 SPT = 0.0000 Tmvc = 0.000 T = 0.000\n",
      " Site =    29 /    64 .. Mmpo =     1 DW = 0.00e+00 NNZ =        1 SPT = 0.0000 Tmvc = 0.000 T = 0.000\n",
      " Site =    30 /    64 .. Mmpo =     1 DW = 0.00e+00 NNZ =        1 SPT = 0.0000 Tmvc = 0.000 T = 0.000\n",
      " Site =    31 /    64 .. Mmpo =     1 DW = 0.00e+00 NNZ =        1 SPT = 0.0000 Tmvc = 0.000 T = 0.000\n",
      " Site =    32 /    64 .. Mmpo =     1 DW = 0.00e+00 NNZ =        1 SPT = 0.0000 Tmvc = 0.000 T = 0.000\n",
      " Site =    33 /    64 .. Mmpo =     1 DW = 0.00e+00 NNZ =        1 SPT = 0.0000 Tmvc = 0.000 T = 0.000\n",
      " Site =    34 /    64 .. Mmpo =     1 DW = 0.00e+00 NNZ =        1 SPT = 0.0000 Tmvc = 0.000 T = 0.001\n",
      " Site =    35 /    64 .. Mmpo =     1 DW = 0.00e+00 NNZ =        1 SPT = 0.0000 Tmvc = 0.000 T = 0.000\n",
      " Site =    36 /    64 .. Mmpo =     1 DW = 0.00e+00 NNZ =        1 SPT = 0.0000 Tmvc = 0.000 T = 0.000\n",
      " Site =    37 /    64 .. Mmpo =     1 DW = 0.00e+00 NNZ =        1 SPT = 0.0000 Tmvc = 0.000 T = 0.000\n",
      " Site =    38 /    64 .. Mmpo =     1 DW = 0.00e+00 NNZ =        1 SPT = 0.0000 Tmvc = 0.000 T = 0.000\n",
      " Site =    39 /    64 .. Mmpo =     1 DW = 0.00e+00 NNZ =        1 SPT = 0.0000 Tmvc = 0.000 T = 0.000\n",
      " Site =    40 /    64 .. Mmpo =     1 DW = 0.00e+00 NNZ =        1 SPT = 0.0000 Tmvc = 0.000 T = 0.000\n",
      " Site =    41 /    64 .. Mmpo =     1 DW = 0.00e+00 NNZ =        1 SPT = 0.0000 Tmvc = 0.000 T = 0.000\n",
      " Site =    42 /    64 .. Mmpo =     1 DW = 0.00e+00 NNZ =        1 SPT = 0.0000 Tmvc = 0.000 T = 0.000\n",
      " Site =    43 /    64 .. Mmpo =     1 DW = 0.00e+00 NNZ =        1 SPT = 0.0000 Tmvc = 0.000 T = 0.000\n",
      " Site =    44 /    64 .. Mmpo =     1 DW = 0.00e+00 NNZ =        1 SPT = 0.0000 Tmvc = 0.000 T = 0.000\n",
      " Site =    45 /    64 .. Mmpo =     1 DW = 0.00e+00 NNZ =        1 SPT = 0.0000 Tmvc = 0.000 T = 0.001\n",
      " Site =    46 /    64 .. Mmpo =     1 DW = 0.00e+00 NNZ =        1 SPT = 0.0000 Tmvc = 0.000 T = 0.000\n",
      " Site =    47 /    64 .. Mmpo =     1 DW = 0.00e+00 NNZ =        1 SPT = 0.0000 Tmvc = 0.000 T = 0.000\n",
      " Site =    48 /    64 .. Mmpo =     1 DW = 0.00e+00 NNZ =        1 SPT = 0.0000 Tmvc = 0.000 T = 0.000\n",
      " Site =    49 /    64 .. Mmpo =     1 DW = 0.00e+00 NNZ =        1 SPT = 0.0000 Tmvc = 0.000 T = 0.000\n",
      " Site =    50 /    64 .. Mmpo =     1 DW = 0.00e+00 NNZ =        1 SPT = 0.0000 Tmvc = 0.000 T = 0.000\n",
      " Site =    51 /    64 .. Mmpo =     1 DW = 0.00e+00 NNZ =        1 SPT = 0.0000 Tmvc = 0.000 T = 0.000\n",
      " Site =    52 /    64 .. Mmpo =     1 DW = 0.00e+00 NNZ =        1 SPT = 0.0000 Tmvc = 0.000 T = 0.000\n",
      " Site =    53 /    64 .. Mmpo =     1 DW = 0.00e+00 NNZ =        1 SPT = 0.0000 Tmvc = 0.000 T = 0.000\n",
      " Site =    54 /    64 .. Mmpo =     1 DW = 0.00e+00 NNZ =        1 SPT = 0.0000 Tmvc = 0.000 T = 0.000\n",
      " Site =    55 /    64 .. Mmpo =     1 DW = 0.00e+00 NNZ =        1 SPT = 0.0000 Tmvc = 0.000 T = 0.000\n",
      " Site =    56 /    64 .. Mmpo =     1 DW = 0.00e+00 NNZ =        1 SPT = 0.0000 Tmvc = 0.000 T = 0.000\n",
      " Site =    57 /    64 .. Mmpo =     1 DW = 0.00e+00 NNZ =        1 SPT = 0.0000 Tmvc = 0.000 T = 0.002\n",
      " Site =    58 /    64 .. Mmpo =     1 DW = 0.00e+00 NNZ =        1 SPT = 0.0000 Tmvc = 0.000 T = 0.000\n",
      " Site =    59 /    64 .. Mmpo =     1 DW = 0.00e+00 NNZ =        1 SPT = 0.0000 Tmvc = 0.000 T = 0.000\n",
      " Site =    60 /    64 .. Mmpo =     1 DW = 0.00e+00 NNZ =        1 SPT = 0.0000 Tmvc = 0.000 T = 0.000\n",
      " Site =    61 /    64 .. Mmpo =     1 DW = 0.00e+00 NNZ =        1 SPT = 0.0000 Tmvc = 0.000 T = 0.000\n",
      " Site =    62 /    64 .. Mmpo =     1 DW = 0.00e+00 NNZ =        1 SPT = 0.0000 Tmvc = 0.000 T = 0.000\n",
      " Site =    63 /    64 .. Mmpo =     1 DW = 0.00e+00 NNZ =        1 SPT = 0.0000 Tmvc = 0.000 T = 0.000\n",
      "Ttotal =      0.021 Tmvc-total = 0.000 MPO bond dimension =     1 MaxDW = 0.00e+00\n",
      "NNZ =           64 SIZE =           64 SPT = 0.0000\n",
      "\n",
      "Rank =     0 Ttotal =      0.040 MPO method = FastBipartite bond dimension =       1 NNZ =           64 SIZE =           64 SPT = 0.0000\n"
     ]
    }
   ],
   "source": [
    "b_n = driver.expr_builder()\n",
    "Parity_L1 = \"P\" * params['L1'] \n",
    "lst_index_L1 = list(range(params['L1']))\n",
    "# b_n.add_term(Parity_L1, lst_index_L1, 1)\n",
    "b_n.add_term('PPPPPPPPPPPPPPPPPPPPPPPPPPPPPP',[0,1,2,3,4,5,6,7,8,9,10,11,12,13,14,15,16,17,18,19,20,21,22,23,24,25,26,27,28,29], 1)\n",
    "N1_op = driver.get_mpo(b_n.finalize(adjust_order=True, fermionic_ops=\"\"), algo_type=MPOAlgorithmTypes.FastBipartite, iprint = 1)"
   ]
  },
  {
   "cell_type": "markdown",
   "id": "d7251634-1f10-4dec-a63a-c164f51a717d",
   "metadata": {},
   "source": [
    "### <font color='black'>Applying $\\ket{\\psi^{\\prime}} = (-1)^{\\hat{N}_{R_{1}}}\\ket{\\psi}$</font>"
   ]
  },
  {
   "cell_type": "code",
   "execution_count": 11,
   "id": "b9ddf2d4-b0cd-4395-90d3-c2c794461a49",
   "metadata": {},
   "outputs": [
    {
     "name": "stdout",
     "output_type": "stream",
     "text": [
      "\n",
      "Sweep =    0 | Direction =  forward | BRA bond dimension = 1000 | Noise =  0.00e+00\n",
      "Time elapsed =     21.813 | F = (0.1793196823,0.0000000000) | DW = 3.24512e-18\n",
      "\n",
      "Sweep =    1 | Direction = backward | BRA bond dimension = 1000 | Noise =  0.00e+00\n",
      "Time elapsed =     44.757 | F = (1.0000000000,0.0000000000) | DF = (8.21e-01,0.00e+00) | DW = 4.80119e-18\n",
      "\n",
      "Sweep =    2 | Direction =  forward | BRA bond dimension = 1000 | Noise =  0.00e+00\n",
      "Time elapsed =     67.852 | F = (1.0000000000,0.0000000000) | DF = (1.22e-15,0.00e+00) | DW = 1.41005e-18\n",
      "\n",
      "Sweep =    3 | Direction = backward | BRA bond dimension = 1000 | Noise =  0.00e+00\n",
      "Time elapsed =     90.840 | F = (1.0000000000,0.0000000000) | DF = (2.22e-16,0.00e+00) | DW = 3.40780e-18\n",
      "\n",
      "Sweep =    4 | Direction =  forward | BRA bond dimension = 1000 | Noise =  0.00e+00\n",
      "Time elapsed =    114.134 | F = (1.0000000000,0.0000000000) | DF = (2.22e-16,0.00e+00) | DW = 9.83010e-19\n",
      "\n"
     ]
    },
    {
     "data": {
      "text/plain": [
       "(0.9999999999999983+0j)"
      ]
     },
     "execution_count": 11,
     "metadata": {},
     "output_type": "execute_result"
    }
   ],
   "source": [
    "# bra = driver.get_random_mps(tag=\"BRA_N1_op\", bond_dim=1000, nroots=1, occs=[1] * params['L'])\n",
    "# bra = driver.get_random_mps(tag=\"BRA_N1_op\", bond_dim=1000, nroots=1, center=mps.center)\n",
    "bra = driver.copy_mps(mps,\"NewKet\")\n",
    "driver.multiply(bra, N1_op, mps, n_sweeps=10, bond_dims=[1000], thrds=[1E-10] * 10, iprint=1)"
   ]
  },
  {
   "cell_type": "markdown",
   "id": "3898c205-3455-4025-acb7-295a4652157f",
   "metadata": {},
   "source": [
    "#### <font color='blue'>Single-particle boson correlations</font>"
   ]
  },
  {
   "cell_type": "markdown",
   "id": "87ec2eae-3b64-4931-aa7d-3a7d560e5da2",
   "metadata": {},
   "source": [
    "##### Calculate"
   ]
  },
  {
   "cell_type": "code",
   "execution_count": 12,
   "id": "31b0e72c-904f-4cfc-a68d-4d1cb22ae1f6",
   "metadata": {},
   "outputs": [
    {
     "name": "stdout",
     "output_type": "stream",
     "text": [
      "Total number = (63.999999999999666-3.064411430646754e-16j)\n",
      "Elapsed time: 31.07212495803833 seconds\n"
     ]
    }
   ],
   "source": [
    "start_time = time.time()\n",
    "\n",
    "bosoncorr_mat = driver.get_npdm(bra, npdm_expr='CD', fermionic_ops='', mask=[0, 1])[0]\n",
    "navg = np.diag(bosoncorr_mat)\n",
    "print(\"Total number =\", sum(navg))\n",
    "\n",
    "end_time = time.time()\n",
    "elapsed_time = end_time - start_time\n",
    "print(f\"Elapsed time: {elapsed_time} seconds\")"
   ]
  },
  {
   "cell_type": "markdown",
   "id": "536eff29-062e-4ee9-b5e9-3cb81c12e688",
   "metadata": {},
   "source": [
    "##### Site occupations"
   ]
  },
  {
   "cell_type": "code",
   "execution_count": 13,
   "id": "13b6cc4c-2924-4427-b2b4-36173ef6d6b8",
   "metadata": {},
   "outputs": [
    {
     "data": {
      "image/png": "[encoded data removed]",
      "text/plain": [
       "<Figure size 640x480 with 1 Axes>"
      ]
     },
     "metadata": {},
     "output_type": "display_data"
    }
   ],
   "source": [
    "navg = np.real(navg)\n",
    "plt.plot(np.arange(params['L']), navg, marker='o')\n",
    "plt.xlabel('Site', fontsize=12)\n",
    "plt.ylabel('Occupation', fontsize=12)\n",
    "plt.show()"
   ]
  },
  {
   "cell_type": "markdown",
   "id": "80bf8bb9-1ab9-4e29-b1fb-a7b8ebd6cd7c",
   "metadata": {},
   "source": [
    "##### Correlation matrix"
   ]
  },
  {
   "cell_type": "code",
   "execution_count": 14,
   "id": "0e86e9a9-0371-4de4-9e7a-fb923a2eb14b",
   "metadata": {},
   "outputs": [
    {
     "data": {
      "image/png": "[encoded data removed]",
      "text/plain": [
       "<Figure size 480x480 with 2 Axes>"
      ]
     },
     "metadata": {},
     "output_type": "display_data"
    }
   ],
   "source": [
    "bosoncorr_mat = np.real(bosoncorr_mat)\n",
    "plt.matshow(bosoncorr_mat, cmap='seismic', vmin=-np.abs(bosoncorr_mat).max(), vmax=np.abs(bosoncorr_mat).max())\n",
    "plt.colorbar()\n",
    "plt.xlabel('Site j', fontsize=12)\n",
    "plt.ylabel('Site i', fontsize=12)\n",
    "plt.title(r'Boson correlation $\\langle \\hat{b}_{i}^{\\dagger} \\hat{b}_{j} \\rangle$')\n",
    "plt.show()"
   ]
  },
  {
   "cell_type": "markdown",
   "id": "da57b486-25d1-4f77-be37-bed71f251cf0",
   "metadata": {},
   "source": [
    "##### Correlation vs distance"
   ]
  },
  {
   "cell_type": "code",
   "execution_count": 15,
   "id": "a885d895-f537-4037-9efb-ff5b09da3a5b",
   "metadata": {},
   "outputs": [
    {
     "data": {
      "image/png": "[encoded data removed]",
      "text/plain": [
       "<Figure size 640x480 with 1 Axes>"
      ]
     },
     "metadata": {},
     "output_type": "display_data"
    }
   ],
   "source": [
    "plt.plot(np.arange(1,params['L']//2+1), bosoncorr_mat[params['L']//2-1,params['L']//2:], marker='o')\n",
    "plt.xlabel('Separation $r$', fontsize=12)\n",
    "plt.ylabel(r'Correlation $\\langle \\hat{b}_{L/2}^{\\dagger} \\hat{b}_{L/2+r} \\rangle$', fontsize=12)\n",
    "plt.yscale('log')\n",
    "plt.xscale('linear')\n",
    "plt.show()"
   ]
  },
  {
   "cell_type": "markdown",
   "id": "2e9f48b4-0960-4bd1-ae2d-340de9cea3a1",
   "metadata": {},
   "source": [
    "### <font color='black'>Time Evolution of $\\ket{\\psi^{\\prime}}$:: $\\ket{\\psi(t)} = e^{-i\\cdot t \\cdot H_{AJJ}}\\ket{\\psi^{\\prime}}$</font>"
   ]
  },
  {
   "cell_type": "code",
   "execution_count": 71,
   "id": "9e0d5faa-99a4-459d-a126-123e20c339c0",
   "metadata": {},
   "outputs": [],
   "source": [
    "params['target_t'] = 2.0"
   ]
  },
  {
   "cell_type": "code",
   "execution_count": 72,
   "id": "205c0a51-2021-4ce0-8015-5d097d9a8bce",
   "metadata": {},
   "outputs": [
    {
     "name": "stdout",
     "output_type": "stream",
     "text": [
      "Time Evolution  DELTA T = RE      0.00000000 + IM      0.10000000\n",
      "Time Evolution TARGET T = RE      0.00000000 + IM      2.00000000\n",
      "Time Evolution   NSTEPS =         20\n",
      "Sweep =    0 ( 0/ 2) | Direction = backward | Beta = (0.00000,0.10000) | Bond dimension = 1000 | Noise =  0.00e+00\n",
      "Time elapsed =     74.166 | E = (-141.7167182207,0.0000000000) | Norm^2 =       0.9999997695 | DW = 1.41989e-09\n",
      "Sweep =    0 ( 1/ 2) | Direction =  forward | Beta = (0.00000,0.10000) | Bond dimension = 1000 | Noise =  0.00e+00\n",
      "Time elapsed =    180.546 | E = (-141.7167185353,-0.0000000000) | Norm^2 =       0.9999998229 | DW = 1.40132e-09\n",
      "T =    0.00000 +    0.10000i <E> = -141.716718535288322 +   -0.00000i <Norm^2> =    0.999999822871395 +    0.00000i\n",
      "Sweep =    0 ( 0/ 2) | Direction = backward | Beta = (0.00000,0.10000) | Bond dimension = 1000 | Noise =  0.00e+00\n",
      "Time elapsed =    111.685 | E = (-141.7167230724,0.0000000000) | Norm^2 =       0.9999996650 | DW = 1.13979e-07\n",
      "Sweep =    0 ( 1/ 2) | Direction =  forward | Beta = (0.00000,0.10000) | Bond dimension = 1000 | Noise =  0.00e+00\n",
      "Time elapsed =    226.853 | E = (-141.7167428345,0.0000000000) | Norm^2 =       0.9999994987 | DW = 2.81827e-07\n",
      "T =    0.00000 +    0.20000i <E> = -141.716742834496671 +    0.00000i <Norm^2> =    0.999999498675692 +    0.00000i\n",
      "Sweep =    0 ( 0/ 2) | Direction = backward | Beta = (0.00000,0.10000) | Bond dimension = 1000 | Noise =  0.00e+00\n",
      "Time elapsed =    118.131 | E = (-141.7167985285,0.0000000000) | Norm^2 =       0.9999989617 | DW = 8.98626e-06\n",
      "Sweep =    0 ( 1/ 2) | Direction =  forward | Beta = (0.00000,0.10000) | Bond dimension = 1000 | Noise =  0.00e+00\n",
      "Time elapsed =    239.581 | E = (-141.7172215874,0.0000000000) | Norm^2 =       0.9999958045 | DW = 1.18653e-05\n",
      "T =    0.00000 +    0.30000i <E> = -141.717221587421506 +    0.00000i <Norm^2> =    0.999995804463024 +    0.00000i\n",
      "Sweep =    0 ( 0/ 2) | Direction = backward | Beta = (0.00000,0.10000) | Bond dimension = 1000 | Noise =  0.00e+00\n",
      "Time elapsed =    122.591 | E = (-141.7174530245,0.0000000000) | Norm^2 =       0.9999937511 | DW = 5.96448e-05\n",
      "Sweep =    0 ( 1/ 2) | Direction =  forward | Beta = (0.00000,0.10000) | Bond dimension = 1000 | Noise =  0.00e+00\n",
      "Time elapsed =    247.482 | E = (-141.7178744203,0.0000000000) | Norm^2 =       0.9999902734 | DW = 7.26773e-05\n",
      "T =    0.00000 +    0.40000i <E> = -141.717874420324051 +    0.00000i <Norm^2> =    0.999990273445725 +    0.00000i\n",
      "Sweep =    0 ( 0/ 2) | Direction = backward | Beta = (0.00000,0.10000) | Bond dimension = 1000 | Noise =  0.00e+00\n",
      "Time elapsed =    125.472 | E = (-141.7192121525,-0.0000000000) | Norm^2 =       0.9999790850 | DW = 3.80802e-04\n",
      "Sweep =    0 ( 1/ 2) | Direction =  forward | Beta = (0.00000,0.10000) | Bond dimension = 1000 | Noise =  0.00e+00\n",
      "Time elapsed =    253.331 | E = (-141.7211348203,0.0000000000) | Norm^2 =       0.9999626732 | DW = 4.65353e-04\n",
      "T =    0.00000 +    0.50000i <E> = -141.721134820311477 +    0.00000i <Norm^2> =    0.999962673217276 +    0.00000i\n",
      "Sweep =    0 ( 0/ 2) | Direction = backward | Beta = (0.00000,0.10000) | Bond dimension = 1000 | Noise =  0.00e+00\n",
      "Time elapsed =    128.152 | E = (-141.7255565710,-0.0000000000) | Norm^2 =       0.9999267298 | DW = 1.31072e-03\n",
      "Sweep =    0 ( 1/ 2) | Direction =  forward | Beta = (0.00000,0.10000) | Bond dimension = 1000 | Noise =  0.00e+00\n",
      "Time elapsed =    258.290 | E = (-141.7296280141,-0.0000000000) | Norm^2 =       0.9998898073 | DW = 1.69864e-03\n",
      "T =    0.00000 +    0.60000i <E> = -141.729628014149114 +   -0.00000i <Norm^2> =    0.999889807310808 +    0.00000i\n",
      "Sweep =    0 ( 0/ 2) | Direction = backward | Beta = (0.00000,0.10000) | Bond dimension = 1000 | Noise =  0.00e+00\n",
      "Time elapsed =    129.836 | E = (-141.7392235793,-0.0000000000) | Norm^2 =       0.9998115897 | DW = 3.82947e-03\n",
      "Sweep =    0 ( 1/ 2) | Direction =  forward | Beta = (0.00000,0.10000) | Bond dimension = 1000 | Noise =  0.00e+00\n",
      "Time elapsed =    261.634 | E = (-141.7466323677,0.0000000000) | Norm^2 =       0.9997407128 | DW = 4.58061e-03\n",
      "T =    0.00000 +    0.70000i <E> = -141.746632367679979 +    0.00000i <Norm^2> =    0.999740712768992 +    0.00000i\n",
      "Sweep =    0 ( 0/ 2) | Direction = backward | Beta = (0.00000,0.10000) | Bond dimension = 1000 | Noise =  0.00e+00\n",
      "Time elapsed =    131.156 | E = (-141.7639059568,-0.0000000000) | Norm^2 =       0.9995967875 | DW = 7.95155e-03\n",
      "Sweep =    0 ( 1/ 2) | Direction =  forward | Beta = (0.00000,0.10000) | Bond dimension = 1000 | Noise =  0.00e+00\n",
      "Time elapsed =    263.827 | E = (-141.7749435025,-0.0000000000) | Norm^2 =       0.9994877650 | DW = 1.03742e-02\n",
      "T =    0.00000 +    0.80000i <E> = -141.774943502450355 +   -0.00000i <Norm^2> =    0.999487764986613 +    0.00000i\n",
      "Sweep =    0 ( 0/ 2) | Direction = backward | Beta = (0.00000,0.10000) | Bond dimension = 1000 | Noise =  0.00e+00\n",
      "Time elapsed =    132.047 | E = (-141.7918048217,0.0000000000) | Norm^2 =       0.9993465063 | DW = 1.55288e-02\n",
      "Sweep =    0 ( 1/ 2) | Direction =  forward | Beta = (0.00000,0.10000) | Bond dimension = 1000 | Noise =  0.00e+00\n",
      "Time elapsed =    265.447 | E = (-141.8067888813,-0.0000000000) | Norm^2 =       0.9991845438 | DW = 1.78560e-02\n",
      "T =    0.00000 +    0.90000i <E> = -141.806788881296654 +   -0.00000i <Norm^2> =    0.999184543801516 +    0.00000i\n",
      "Sweep =    0 ( 0/ 2) | Direction = backward | Beta = (0.00000,0.10000) | Bond dimension = 1000 | Noise =  0.00e+00\n",
      "Time elapsed =    132.599 | E = (-141.8211718976,0.0000000000) | Norm^2 =       0.9990561544 | DW = 2.67218e-02\n",
      "Sweep =    0 ( 1/ 2) | Direction =  forward | Beta = (0.00000,0.10000) | Bond dimension = 1000 | Noise =  0.00e+00\n",
      "Time elapsed =    266.421 | E = (-141.8347097532,-0.0000000000) | Norm^2 =       0.9988999404 | DW = 2.92125e-02\n",
      "T =    0.00000 +    1.00000i <E> = -141.834709753189912 +   -0.00000i <Norm^2> =    0.998899940379009 +    0.00000i\n",
      "Sweep =    0 ( 0/ 2) | Direction = backward | Beta = (0.00000,0.10000) | Bond dimension = 1000 | Noise =  0.00e+00\n",
      "Time elapsed =    132.851 | E = (-141.8467002656,-0.0000000000) | Norm^2 =       0.9987886349 | DW = 3.38779e-02\n",
      "Sweep =    0 ( 1/ 2) | Direction =  forward | Beta = (0.00000,0.10000) | Bond dimension = 1000 | Noise =  0.00e+00\n",
      "Time elapsed =    266.997 | E = (-141.8591719096,-0.0000000000) | Norm^2 =       0.9986373344 | DW = 3.71009e-02\n",
      "T =    0.00000 +    1.10000i <E> = -141.859171909631073 +   -0.00000i <Norm^2> =    0.998637334422103 +    0.00000i\n",
      "Sweep =    0 ( 0/ 2) | Direction = backward | Beta = (0.00000,0.10000) | Bond dimension = 1000 | Noise =  0.00e+00\n",
      "Time elapsed =    133.118 | E = (-141.8705777693,-0.0000000000) | Norm^2 =       0.9985262873 | DW = 4.51974e-02\n",
      "Sweep =    0 ( 1/ 2) | Direction =  forward | Beta = (0.00000,0.10000) | Bond dimension = 1000 | Noise =  0.00e+00\n",
      "Time elapsed =    267.581 | E = (-141.8829087737,-0.0000000000) | Norm^2 =       0.9983708528 | DW = 4.85693e-02\n",
      "T =    0.00000 +    1.20000i <E> = -141.882908773693259 +   -0.00000i <Norm^2> =    0.998370852774047 +    0.00000i\n",
      "Sweep =    0 ( 0/ 2) | Direction = backward | Beta = (0.00000,0.10000) | Bond dimension = 1000 | Noise =  0.00e+00\n",
      "Time elapsed =    133.549 | E = (-141.8951044563,-0.0000000000) | Norm^2 =       0.9982470798 | DW = 6.34863e-02\n",
      "Sweep =    0 ( 1/ 2) | Direction =  forward | Beta = (0.00000,0.10000) | Bond dimension = 1000 | Noise =  0.00e+00\n",
      "Time elapsed =    268.292 | E = (-141.9105866226,0.0000000000) | Norm^2 =       0.9980455200 | DW = 6.58157e-02\n",
      "T =    0.00000 +    1.30000i <E> = -141.910586622617927 +    0.00000i <Norm^2> =    0.998045519965147 +    0.00000i\n",
      "Sweep =    0 ( 0/ 2) | Direction = backward | Beta = (0.00000,0.10000) | Bond dimension = 1000 | Noise =  0.00e+00\n",
      "Time elapsed =    133.725 | E = (-141.9225965992,-0.0000000000) | Norm^2 =       0.9979117607 | DW = 8.60018e-02\n",
      "Sweep =    0 ( 1/ 2) | Direction =  forward | Beta = (0.00000,0.10000) | Bond dimension = 1000 | Noise =  0.00e+00\n",
      "Time elapsed =    268.681 | E = (-141.9406766495,-0.0000000000) | Norm^2 =       0.9976726533 | DW = 8.62302e-02\n",
      "T =    0.00000 +    1.40000i <E> = -141.940676649498954 +   -0.00000i <Norm^2> =    0.997672653339055 +    0.00000i\n",
      "Sweep =    0 ( 0/ 2) | Direction = backward | Beta = (0.00000,0.10000) | Bond dimension = 1000 | Noise =  0.00e+00\n",
      "Time elapsed =    134.037 | E = (-141.9532585079,0.0000000000) | Norm^2 =       0.9975231659 | DW = 1.14444e-01\n",
      "Sweep =    0 ( 1/ 2) | Direction =  forward | Beta = (0.00000,0.10000) | Bond dimension = 1000 | Noise =  0.00e+00\n",
      "Time elapsed =    269.519 | E = (-141.9768867409,-0.0000000000) | Norm^2 =       0.9972074258 | DW = 1.10070e-01\n",
      "T =    0.00000 +    1.50000i <E> = -141.976886740868622 +   -0.00000i <Norm^2> =    0.997207425818989 +    0.00000i\n",
      "Sweep =    0 ( 0/ 2) | Direction = backward | Beta = (0.00000,0.10000) | Bond dimension = 1000 | Noise =  0.00e+00\n",
      "Time elapsed =    134.349 | E = (-141.9910529560,-0.0000000000) | Norm^2 =       0.9970315778 | DW = 1.41593e-01\n",
      "Sweep =    0 ( 1/ 2) | Direction =  forward | Beta = (0.00000,0.10000) | Bond dimension = 1000 | Noise =  0.00e+00\n",
      "Time elapsed =    269.843 | E = (-142.0225391089,-0.0000000000) | Norm^2 =       0.9965993276 | DW = 1.34296e-01\n",
      "T =    0.00000 +    1.60000i <E> = -142.022539108852072 +   -0.00000i <Norm^2> =    0.996599327645549 +    0.00000i\n",
      "Sweep =    0 ( 0/ 2) | Direction = backward | Beta = (0.00000,0.10000) | Bond dimension = 1000 | Noise =  0.00e+00\n",
      "Time elapsed =    134.548 | E = (-142.0373835904,0.0000000000) | Norm^2 =       0.9964045610 | DW = 1.66458e-01\n",
      "Sweep =    0 ( 1/ 2) | Direction =  forward | Beta = (0.00000,0.10000) | Bond dimension = 1000 | Noise =  0.00e+00\n",
      "Time elapsed =    270.119 | E = (-142.0699857443,-0.0000000000) | Norm^2 =       0.9959540257 | DW = 1.56291e-01\n",
      "T =    0.00000 +    1.70000i <E> = -142.069985744343313 +   -0.00000i <Norm^2> =    0.995954025679179 +    0.00000i\n",
      "Sweep =    0 ( 0/ 2) | Direction = backward | Beta = (0.00000,0.10000) | Bond dimension = 1000 | Noise =  0.00e+00\n",
      "Time elapsed =    134.379 | E = (-142.0845605124,0.0000000000) | Norm^2 =       0.9957535342 | DW = 1.91453e-01\n",
      "Sweep =    0 ( 1/ 2) | Direction =  forward | Beta = (0.00000,0.10000) | Bond dimension = 1000 | Noise =  0.00e+00\n",
      "Time elapsed =    270.287 | E = (-142.1228068703,0.0000000000) | Norm^2 =       0.9952190315 | DW = 1.81825e-01\n",
      "T =    0.00000 +    1.80000i <E> = -142.122806870330038 +    0.00000i <Norm^2> =    0.995219031507677 +    0.00000i\n",
      "Sweep =    0 ( 0/ 2) | Direction = backward | Beta = (0.00000,0.10000) | Bond dimension = 1000 | Noise =  0.00e+00\n",
      "Time elapsed =    134.475 | E = (-142.1394772590,0.0000000000) | Norm^2 =       0.9949874625 | DW = 2.14501e-01\n",
      "Sweep =    0 ( 1/ 2) | Direction =  forward | Beta = (0.00000,0.10000) | Bond dimension = 1000 | Noise =  0.00e+00\n",
      "Time elapsed =    270.346 | E = (-142.1749688763,-0.0000000000) | Norm^2 =       0.9944888485 | DW = 2.07829e-01\n",
      "T =    0.00000 +    1.90000i <E> = -142.174968876283458 +   -0.00000i <Norm^2> =    0.994488848480199 +    0.00000i\n",
      "Sweep =    0 ( 0/ 2) | Direction = backward | Beta = (0.00000,0.10000) | Bond dimension = 1000 | Noise =  0.00e+00\n",
      "Time elapsed =    134.939 | E = (-142.1935247484,-0.0000000000) | Norm^2 =       0.9942309506 | DW = 2.15787e-01\n",
      "Sweep =    0 ( 1/ 2) | Direction =  forward | Beta = (0.00000,0.10000) | Bond dimension = 1000 | Noise =  0.00e+00\n",
      "Time elapsed =    270.588 | E = (-142.2336699938,0.0000000000) | Norm^2 =       0.9936690335 | DW = 2.11939e-01\n",
      "T =    0.00000 +    2.00000i <E> = -142.233669993828300 +    0.00000i <Norm^2> =    0.993669033485309 +    0.00000i\n"
     ]
    }
   ],
   "source": [
    "bra2 = driver.copy_mps(bra, tag = \"PsiPrime\")\n",
    "bra2 = driver.td_dmrg(mpo = mpo, ket = bra2, delta_t=0.1 * 1j, target_t = params['target_t'] * 1j, final_mps_tag=\"mps3\", bond_dims = [1000], hermitian=True, iprint = 1)"
   ]
  },
  {
   "cell_type": "markdown",
   "id": "51b5b2c0-1771-4783-a2f4-fcb2b3b87222",
   "metadata": {},
   "source": [
    "#### <font color='blue'>Single-particle boson correlations</font>"
   ]
  },
  {
   "cell_type": "markdown",
   "id": "333e97ec-42b1-403e-9be1-fa985a1ca3f8",
   "metadata": {},
   "source": [
    "##### Calculate"
   ]
  },
  {
   "cell_type": "code",
   "execution_count": 73,
   "id": "5deb9cb4-971a-4e2d-a026-78ff51cea6aa",
   "metadata": {},
   "outputs": [
    {
     "name": "stdout",
     "output_type": "stream",
     "text": [
      "Total number = (63.594818143059946+5.246830840885357e-16j)\n",
      "Elapsed time: 85.48631811141968 seconds\n"
     ]
    }
   ],
   "source": [
    "start_time = time.time()\n",
    "\n",
    "bosoncorr_mat = driver.get_npdm(bra2, npdm_expr='CD', fermionic_ops='', mask=[0, 1])[0]\n",
    "navg = np.diag(bosoncorr_mat)\n",
    "print(\"Total number =\", sum(navg))\n",
    "\n",
    "end_time = time.time()\n",
    "elapsed_time = end_time - start_time\n",
    "print(f\"Elapsed time: {elapsed_time} seconds\")"
   ]
  },
  {
   "cell_type": "markdown",
   "id": "43c79a99-0310-4b76-837d-66e7bc5c7ee9",
   "metadata": {},
   "source": [
    "##### Site occupations"
   ]
  },
  {
   "cell_type": "code",
   "execution_count": 74,
   "id": "9d9e2632-76e9-4703-8a1c-1dea42fabad5",
   "metadata": {},
   "outputs": [
    {
     "name": "stdout",
     "output_type": "stream",
     "text": [
      "[0.25760675 0.6821776  0.92991862 1.0245238  1.05412244 1.06277585\n",
      " 1.06549263 1.06656098 1.06705076 1.06761887 1.0689825  1.06655233\n",
      " 1.06455953 1.06329987 1.06367857 1.06312555 1.06349118 1.06248485\n",
      " 1.06070299 1.05884976 1.05704356 1.05692958 1.06376779 1.08837627\n",
      " 1.12270867 1.11093741 1.0552912  1.0427203  0.88222951 0.51869701\n",
      " 0.96535812 0.97932083 0.90578566 0.89768009 0.63283312 0.87581345\n",
      " 1.03768318 1.09391838 1.0702981  1.0549214  1.06064927 1.06575162\n",
      " 1.06637933 1.06456043 1.06392674 1.06468231 1.06387619 1.06347278\n",
      " 1.06511202 1.06544786 1.0658533  1.06389333 1.06173241 1.06102024\n",
      " 1.0623058  1.06514722 1.06271008 1.06314854 1.06323399 1.05248384\n",
      " 1.02732548 0.93064387 0.68576657 0.25980582]\n"
     ]
    },
    {
     "data": {
      "image/png": "[encoded data removed]",
      "text/plain": [
       "<Figure size 640x480 with 1 Axes>"
      ]
     },
     "metadata": {},
     "output_type": "display_data"
    }
   ],
   "source": [
    "navg = np.real(navg)\n",
    "print(navg)\n",
    "plt.plot(np.arange(params['L']), navg, marker='o')\n",
    "plt.xlabel('Site', fontsize=12)\n",
    "plt.ylabel('Occupation', fontsize=12)\n",
    "plt.show()"
   ]
  },
  {
   "cell_type": "markdown",
   "id": "dfc9a41b-9941-440e-bbdd-31b572a583df",
   "metadata": {},
   "source": [
    "##### Correlation matrix"
   ]
  },
  {
   "cell_type": "code",
   "execution_count": 75,
   "id": "51b0ddc2-4bfc-4fbd-bd2f-37bc96f6ad5d",
   "metadata": {},
   "outputs": [
    {
     "data": {
      "image/png": "[encoded data removed]",
      "text/plain": [
       "<Figure size 480x480 with 2 Axes>"
      ]
     },
     "metadata": {},
     "output_type": "display_data"
    }
   ],
   "source": [
    "bosoncorr_mat = np.real(bosoncorr_mat)\n",
    "plt.matshow(bosoncorr_mat, cmap='seismic', vmin=-np.abs(bosoncorr_mat).max(), vmax=np.abs(bosoncorr_mat).max())\n",
    "plt.colorbar()\n",
    "plt.xlabel('Site j', fontsize=12)\n",
    "plt.ylabel('Site i', fontsize=12)\n",
    "plt.title(r'Boson correlation $\\langle \\hat{b}_{i}^{\\dagger} \\hat{b}_{j} \\rangle$')\n",
    "plt.show()"
   ]
  },
  {
   "cell_type": "markdown",
   "id": "fd4830c0-f3e0-4a6c-879f-df9a2038ed21",
   "metadata": {},
   "source": [
    "##### Correlation vs distance"
   ]
  },
  {
   "cell_type": "code",
   "execution_count": 76,
   "id": "9c42a578-bb61-402e-8434-6c7e2103136d",
   "metadata": {},
   "outputs": [
    {
     "data": {
      "image/png": "[encoded data removed]",
      "text/plain": [
       "<Figure size 640x480 with 1 Axes>"
      ]
     },
     "metadata": {},
     "output_type": "display_data"
    }
   ],
   "source": [
    "plt.plot(np.arange(1,params['L']//2+1), bosoncorr_mat[params['L']//2-1,params['L']//2:], marker='o')\n",
    "plt.xlabel('Separation $r$', fontsize=12)\n",
    "plt.ylabel(r'Correlation $\\langle \\hat{b}_{L/2}^{\\dagger} \\hat{b}_{L/2+r} \\rangle$', fontsize=12)\n",
    "plt.yscale('log')\n",
    "plt.xscale('linear')\n",
    "plt.show()"
   ]
  },
  {
   "cell_type": "markdown",
   "id": "8098854d-8a98-4bec-b3bd-bcb379e23f6f",
   "metadata": {},
   "source": [
    "### <font color='black'>Expectation Value of $N_{R_{1}} - N_{R_{2}}$ w.r.t $\\psi(t)$</font>"
   ]
  },
  {
   "cell_type": "markdown",
   "id": "36cdcb84-9ea0-432c-83fc-221bdf4799fb",
   "metadata": {},
   "source": [
    "#### <font color='black'>Constructing MPO for $\\hat{N}_{R_{1}}$ and $\\hat{N}_{R_{2}}$ where $\\hat{N}_{R_{j}} = \\sum_{i \\in R_{j}} n_{i}$ where $j \\in {1,2}$</font>"
   ]
  },
  {
   "cell_type": "code",
   "execution_count": 77,
   "id": "74b77a0b-0085-42b3-9dde-4bb5ffadc4c0",
   "metadata": {},
   "outputs": [
    {
     "name": "stdout",
     "output_type": "stream",
     "text": [
      "\n",
      "Build MPO | Nsites =    64 | Nterms =         30 | Algorithm = FastBIP | Cutoff = 1.00e-14\n",
      " Site =     0 /    64 .. Mmpo =     2 DW = 0.00e+00 NNZ =        2 SPT = 0.0000 Tmvc = 0.000 T = 0.000\n",
      " Site =     1 /    64 .. Mmpo =     2 DW = 0.00e+00 NNZ =        3 SPT = 0.2500 Tmvc = 0.000 T = 0.000\n",
      " Site =     2 /    64 .. Mmpo =     2 DW = 0.00e+00 NNZ =        3 SPT = 0.2500 Tmvc = 0.000 T = 0.000\n",
      " Site =     3 /    64 .. Mmpo =     2 DW = 0.00e+00 NNZ =        3 SPT = 0.2500 Tmvc = 0.000 T = 0.000\n",
      " Site =     4 /    64 .. Mmpo =     2 DW = 0.00e+00 NNZ =        3 SPT = 0.2500 Tmvc = 0.000 T = 0.000\n",
      " Site =     5 /    64 .. Mmpo =     2 DW = 0.00e+00 NNZ =        3 SPT = 0.2500 Tmvc = 0.000 T = 0.000\n",
      " Site =     6 /    64 .. Mmpo =     2 DW = 0.00e+00 NNZ =        3 SPT = 0.2500 Tmvc = 0.000 T = 0.000\n",
      " Site =     7 /    64 .. Mmpo =     2 DW = 0.00e+00 NNZ =        3 SPT = 0.2500 Tmvc = 0.000 T = 0.000\n",
      " Site =     8 /    64 .. Mmpo =     2 DW = 0.00e+00 NNZ =        3 SPT = 0.2500 Tmvc = 0.000 T = 0.000\n",
      " Site =     9 /    64 .. Mmpo =     2 DW = 0.00e+00 NNZ =        3 SPT = 0.2500 Tmvc = 0.000 T = 0.000\n",
      " Site =    10 /    64 .. Mmpo =     2 DW = 0.00e+00 NNZ =        3 SPT = 0.2500 Tmvc = 0.000 T = 0.000\n",
      " Site =    11 /    64 .. Mmpo =     2 DW = 0.00e+00 NNZ =        3 SPT = 0.2500 Tmvc = 0.000 T = 0.000\n",
      " Site =    12 /    64 .. Mmpo =     2 DW = 0.00e+00 NNZ =        3 SPT = 0.2500 Tmvc = 0.000 T = 0.000\n",
      " Site =    13 /    64 .. Mmpo =     2 DW = 0.00e+00 NNZ =        3 SPT = 0.2500 Tmvc = 0.000 T = 0.000\n",
      " Site =    14 /    64 .. Mmpo =     2 DW = 0.00e+00 NNZ =        3 SPT = 0.2500 Tmvc = 0.000 T = 0.001\n",
      " Site =    15 /    64 .. Mmpo =     2 DW = 0.00e+00 NNZ =        3 SPT = 0.2500 Tmvc = 0.000 T = 0.000\n",
      " Site =    16 /    64 .. Mmpo =     2 DW = 0.00e+00 NNZ =        3 SPT = 0.2500 Tmvc = 0.000 T = 0.000\n",
      " Site =    17 /    64 .. Mmpo =     2 DW = 0.00e+00 NNZ =        3 SPT = 0.2500 Tmvc = 0.000 T = 0.000\n",
      " Site =    18 /    64 .. Mmpo =     2 DW = 0.00e+00 NNZ =        3 SPT = 0.2500 Tmvc = 0.000 T = 0.000\n",
      " Site =    19 /    64 .. Mmpo =     2 DW = 0.00e+00 NNZ =        3 SPT = 0.2500 Tmvc = 0.000 T = 0.000\n",
      " Site =    20 /    64 .. Mmpo =     2 DW = 0.00e+00 NNZ =        3 SPT = 0.2500 Tmvc = 0.000 T = 0.000\n",
      " Site =    21 /    64 .. Mmpo =     2 DW = 0.00e+00 NNZ =        3 SPT = 0.2500 Tmvc = 0.000 T = 0.000\n",
      " Site =    22 /    64 .. Mmpo =     2 DW = 0.00e+00 NNZ =        3 SPT = 0.2500 Tmvc = 0.000 T = 0.000\n",
      " Site =    23 /    64 .. Mmpo =     2 DW = 0.00e+00 NNZ =        3 SPT = 0.2500 Tmvc = 0.000 T = 0.000\n",
      " Site =    24 /    64 .. Mmpo =     2 DW = 0.00e+00 NNZ =        3 SPT = 0.2500 Tmvc = 0.000 T = 0.000\n",
      " Site =    25 /    64 .. Mmpo =     2 DW = 0.00e+00 NNZ =        3 SPT = 0.2500 Tmvc = 0.000 T = 0.000\n",
      " Site =    26 /    64 .. Mmpo =     2 DW = 0.00e+00 NNZ =        3 SPT = 0.2500 Tmvc = 0.000 T = 0.000\n",
      " Site =    27 /    64 .. Mmpo =     2 DW = 0.00e+00 NNZ =        3 SPT = 0.2500 Tmvc = 0.000 T = 0.000\n",
      " Site =    28 /    64 .. Mmpo =     2 DW = 0.00e+00 NNZ =        3 SPT = 0.2500 Tmvc = 0.000 T = 0.000\n",
      " Site =    29 /    64 .. Mmpo =     1 DW = 0.00e+00 NNZ =        2 SPT = 0.0000 Tmvc = 0.000 T = 0.000\n",
      " Site =    30 /    64 .. Mmpo =     1 DW = 0.00e+00 NNZ =        1 SPT = 0.0000 Tmvc = 0.000 T = 0.000\n",
      " Site =    31 /    64 .. Mmpo =     1 DW = 0.00e+00 NNZ =        1 SPT = 0.0000 Tmvc = 0.000 T = 0.000\n",
      " Site =    32 /    64 .. Mmpo =     1 DW = 0.00e+00 NNZ =        1 SPT = 0.0000 Tmvc = 0.000 T = 0.000\n",
      " Site =    33 /    64 .. Mmpo =     1 DW = 0.00e+00 NNZ =        1 SPT = 0.0000 Tmvc = 0.000 T = 0.000\n",
      " Site =    34 /    64 .. Mmpo =     1 DW = 0.00e+00 NNZ =        1 SPT = 0.0000 Tmvc = 0.000 T = 0.000\n",
      " Site =    35 /    64 .. Mmpo =     1 DW = 0.00e+00 NNZ =        1 SPT = 0.0000 Tmvc = 0.000 T = 0.000\n",
      " Site =    36 /    64 .. Mmpo =     1 DW = 0.00e+00 NNZ =        1 SPT = 0.0000 Tmvc = 0.000 T = 0.000\n",
      " Site =    37 /    64 .. Mmpo =     1 DW = 0.00e+00 NNZ =        1 SPT = 0.0000 Tmvc = 0.000 T = 0.000\n",
      " Site =    38 /    64 .. Mmpo =     1 DW = 0.00e+00 NNZ =        1 SPT = 0.0000 Tmvc = 0.000 T = 0.001\n",
      " Site =    39 /    64 .. Mmpo =     1 DW = 0.00e+00 NNZ =        1 SPT = 0.0000 Tmvc = 0.000 T = 0.000\n",
      " Site =    40 /    64 .. Mmpo =     1 DW = 0.00e+00 NNZ =        1 SPT = 0.0000 Tmvc = 0.000 T = 0.000\n",
      " Site =    41 /    64 .. Mmpo =     1 DW = 0.00e+00 NNZ =        1 SPT = 0.0000 Tmvc = 0.000 T = 0.000\n",
      " Site =    42 /    64 .. Mmpo =     1 DW = 0.00e+00 NNZ =        1 SPT = 0.0000 Tmvc = 0.000 T = 0.000\n",
      " Site =    43 /    64 .. Mmpo =     1 DW = 0.00e+00 NNZ =        1 SPT = 0.0000 Tmvc = 0.000 T = 0.000\n",
      " Site =    44 /    64 .. Mmpo =     1 DW = 0.00e+00 NNZ =        1 SPT = 0.0000 Tmvc = 0.000 T = 0.000\n",
      " Site =    45 /    64 .. Mmpo =     1 DW = 0.00e+00 NNZ =        1 SPT = 0.0000 Tmvc = 0.000 T = 0.000\n",
      " Site =    46 /    64 .. Mmpo =     1 DW = 0.00e+00 NNZ =        1 SPT = 0.0000 Tmvc = 0.000 T = 0.000\n",
      " Site =    47 /    64 .. Mmpo =     1 DW = 0.00e+00 NNZ =        1 SPT = 0.0000 Tmvc = 0.000 T = 0.000\n",
      " Site =    48 /    64 .. Mmpo =     1 DW = 0.00e+00 NNZ =        1 SPT = 0.0000 Tmvc = 0.000 T = 0.000\n",
      " Site =    49 /    64 .. Mmpo =     1 DW = 0.00e+00 NNZ =        1 SPT = 0.0000 Tmvc = 0.000 T = 0.000\n",
      " Site =    50 /    64 .. Mmpo =     1 DW = 0.00e+00 NNZ =        1 SPT = 0.0000 Tmvc = 0.000 T = 0.000\n",
      " Site =    51 /    64 .. Mmpo =     1 DW = 0.00e+00 NNZ =        1 SPT = 0.0000 Tmvc = 0.000 T = 0.000\n",
      " Site =    52 /    64 .. Mmpo =     1 DW = 0.00e+00 NNZ =        1 SPT = 0.0000 Tmvc = 0.000 T = 0.000\n",
      " Site =    53 /    64 .. Mmpo =     1 DW = 0.00e+00 NNZ =        1 SPT = 0.0000 Tmvc = 0.000 T = 0.000\n",
      " Site =    54 /    64 .. Mmpo =     1 DW = 0.00e+00 NNZ =        1 SPT = 0.0000 Tmvc = 0.000 T = 0.000\n",
      " Site =    55 /    64 .. Mmpo =     1 DW = 0.00e+00 NNZ =        1 SPT = 0.0000 Tmvc = 0.000 T = 0.000\n",
      " Site =    56 /    64 .. Mmpo =     1 DW = 0.00e+00 NNZ =        1 SPT = 0.0000 Tmvc = 0.000 T = 0.000\n",
      " Site =    57 /    64 .. Mmpo =     1 DW = 0.00e+00 NNZ =        1 SPT = 0.0000 Tmvc = 0.000 T = 0.000\n",
      " Site =    58 /    64 .. Mmpo =     1 DW = 0.00e+00 NNZ =        1 SPT = 0.0000 Tmvc = 0.000 T = 0.000\n",
      " Site =    59 /    64 .. Mmpo =     1 DW = 0.00e+00 NNZ =        1 SPT = 0.0000 Tmvc = 0.000 T = 0.000\n",
      " Site =    60 /    64 .. Mmpo =     1 DW = 0.00e+00 NNZ =        1 SPT = 0.0000 Tmvc = 0.000 T = 0.000\n",
      " Site =    61 /    64 .. Mmpo =     1 DW = 0.00e+00 NNZ =        1 SPT = 0.0000 Tmvc = 0.000 T = 0.000\n",
      " Site =    62 /    64 .. Mmpo =     1 DW = 0.00e+00 NNZ =        1 SPT = 0.0000 Tmvc = 0.000 T = 0.000\n",
      " Site =    63 /    64 .. Mmpo =     1 DW = 0.00e+00 NNZ =        1 SPT = 0.0000 Tmvc = 0.000 T = 0.000\n",
      "Ttotal =      0.016 Tmvc-total = 0.000 MPO bond dimension =     2 MaxDW = 0.00e+00\n",
      "NNZ =          122 SIZE =          150 SPT = 0.1867\n",
      "\n",
      "Rank =     0 Ttotal =      0.036 MPO method = FastBipartite bond dimension =       2 NNZ =          122 SIZE =          150 SPT = 0.1867\n"
     ]
    }
   ],
   "source": [
    "b_n1 = driver.expr_builder()\n",
    "lst_index_L1 = list(range(params['L1']))\n",
    "b_n1.add_term(\"N\", lst_index_L1, 1)\n",
    "N1_op2 = driver.get_mpo(b_n1.finalize(adjust_order=True, fermionic_ops=\"\"), algo_type=MPOAlgorithmTypes.FastBipartite, iprint = 1)"
   ]
  },
  {
   "cell_type": "code",
   "execution_count": 78,
   "id": "b454a6f7-65f9-45ec-881a-cf021debd788",
   "metadata": {},
   "outputs": [
    {
     "name": "stdout",
     "output_type": "stream",
     "text": [
      "\n",
      "Build MPO | Nsites =    64 | Nterms =         30 | Algorithm = FastBIP | Cutoff = 1.00e-14\n",
      " Site =     0 /    64 .. Mmpo =     1 DW = 0.00e+00 NNZ =        1 SPT = 0.0000 Tmvc = 0.000 T = 0.000\n",
      " Site =     1 /    64 .. Mmpo =     1 DW = 0.00e+00 NNZ =        1 SPT = 0.0000 Tmvc = 0.000 T = 0.000\n",
      " Site =     2 /    64 .. Mmpo =     1 DW = 0.00e+00 NNZ =        1 SPT = 0.0000 Tmvc = 0.000 T = 0.000\n",
      " Site =     3 /    64 .. Mmpo =     1 DW = 0.00e+00 NNZ =        1 SPT = 0.0000 Tmvc = 0.000 T = 0.000\n",
      " Site =     4 /    64 .. Mmpo =     1 DW = 0.00e+00 NNZ =        1 SPT = 0.0000 Tmvc = 0.000 T = 0.000\n",
      " Site =     5 /    64 .. Mmpo =     1 DW = 0.00e+00 NNZ =        1 SPT = 0.0000 Tmvc = 0.000 T = 0.000\n",
      " Site =     6 /    64 .. Mmpo =     1 DW = 0.00e+00 NNZ =        1 SPT = 0.0000 Tmvc = 0.000 T = 0.000\n",
      " Site =     7 /    64 .. Mmpo =     1 DW = 0.00e+00 NNZ =        1 SPT = 0.0000 Tmvc = 0.000 T = 0.000\n",
      " Site =     8 /    64 .. Mmpo =     1 DW = 0.00e+00 NNZ =        1 SPT = 0.0000 Tmvc = 0.000 T = 0.000\n",
      " Site =     9 /    64 .. Mmpo =     1 DW = 0.00e+00 NNZ =        1 SPT = 0.0000 Tmvc = 0.000 T = 0.000\n",
      " Site =    10 /    64 .. Mmpo =     1 DW = 0.00e+00 NNZ =        1 SPT = 0.0000 Tmvc = 0.000 T = 0.000\n",
      " Site =    11 /    64 .. Mmpo =     1 DW = 0.00e+00 NNZ =        1 SPT = 0.0000 Tmvc = 0.000 T = 0.000\n",
      " Site =    12 /    64 .. Mmpo =     1 DW = 0.00e+00 NNZ =        1 SPT = 0.0000 Tmvc = 0.000 T = 0.000\n",
      " Site =    13 /    64 .. Mmpo =     1 DW = 0.00e+00 NNZ =        1 SPT = 0.0000 Tmvc = 0.000 T = 0.000\n",
      " Site =    14 /    64 .. Mmpo =     1 DW = 0.00e+00 NNZ =        1 SPT = 0.0000 Tmvc = 0.000 T = 0.000\n",
      " Site =    15 /    64 .. Mmpo =     1 DW = 0.00e+00 NNZ =        1 SPT = 0.0000 Tmvc = 0.000 T = 0.000\n",
      " Site =    16 /    64 .. Mmpo =     1 DW = 0.00e+00 NNZ =        1 SPT = 0.0000 Tmvc = 0.000 T = 0.001\n",
      " Site =    17 /    64 .. Mmpo =     1 DW = 0.00e+00 NNZ =        1 SPT = 0.0000 Tmvc = 0.000 T = 0.000\n",
      " Site =    18 /    64 .. Mmpo =     1 DW = 0.00e+00 NNZ =        1 SPT = 0.0000 Tmvc = 0.000 T = 0.000\n",
      " Site =    19 /    64 .. Mmpo =     1 DW = 0.00e+00 NNZ =        1 SPT = 0.0000 Tmvc = 0.000 T = 0.000\n",
      " Site =    20 /    64 .. Mmpo =     1 DW = 0.00e+00 NNZ =        1 SPT = 0.0000 Tmvc = 0.000 T = 0.000\n",
      " Site =    21 /    64 .. Mmpo =     1 DW = 0.00e+00 NNZ =        1 SPT = 0.0000 Tmvc = 0.000 T = 0.000\n",
      " Site =    22 /    64 .. Mmpo =     1 DW = 0.00e+00 NNZ =        1 SPT = 0.0000 Tmvc = 0.000 T = 0.000\n",
      " Site =    23 /    64 .. Mmpo =     1 DW = 0.00e+00 NNZ =        1 SPT = 0.0000 Tmvc = 0.000 T = 0.000\n",
      " Site =    24 /    64 .. Mmpo =     1 DW = 0.00e+00 NNZ =        1 SPT = 0.0000 Tmvc = 0.000 T = 0.000\n",
      " Site =    25 /    64 .. Mmpo =     1 DW = 0.00e+00 NNZ =        1 SPT = 0.0000 Tmvc = 0.000 T = 0.000\n",
      " Site =    26 /    64 .. Mmpo =     1 DW = 0.00e+00 NNZ =        1 SPT = 0.0000 Tmvc = 0.000 T = 0.000\n",
      " Site =    27 /    64 .. Mmpo =     1 DW = 0.00e+00 NNZ =        1 SPT = 0.0000 Tmvc = 0.000 T = 0.000\n",
      " Site =    28 /    64 .. Mmpo =     1 DW = 0.00e+00 NNZ =        1 SPT = 0.0000 Tmvc = 0.000 T = 0.000\n",
      " Site =    29 /    64 .. Mmpo =     1 DW = 0.00e+00 NNZ =        1 SPT = 0.0000 Tmvc = 0.000 T = 0.000\n",
      " Site =    30 /    64 .. Mmpo =     1 DW = 0.00e+00 NNZ =        1 SPT = 0.0000 Tmvc = 0.000 T = 0.000\n",
      " Site =    31 /    64 .. Mmpo =     1 DW = 0.00e+00 NNZ =        1 SPT = 0.0000 Tmvc = 0.000 T = 0.000\n",
      " Site =    32 /    64 .. Mmpo =     1 DW = 0.00e+00 NNZ =        1 SPT = 0.0000 Tmvc = 0.000 T = 0.000\n",
      " Site =    33 /    64 .. Mmpo =     1 DW = 0.00e+00 NNZ =        1 SPT = 0.0000 Tmvc = 0.000 T = 0.000\n",
      " Site =    34 /    64 .. Mmpo =     2 DW = 0.00e+00 NNZ =        2 SPT = 0.0000 Tmvc = 0.000 T = 0.000\n",
      " Site =    35 /    64 .. Mmpo =     2 DW = 0.00e+00 NNZ =        3 SPT = 0.2500 Tmvc = 0.000 T = 0.000\n",
      " Site =    36 /    64 .. Mmpo =     2 DW = 0.00e+00 NNZ =        3 SPT = 0.2500 Tmvc = 0.000 T = 0.000\n",
      " Site =    37 /    64 .. Mmpo =     2 DW = 0.00e+00 NNZ =        3 SPT = 0.2500 Tmvc = 0.000 T = 0.000\n",
      " Site =    38 /    64 .. Mmpo =     2 DW = 0.00e+00 NNZ =        3 SPT = 0.2500 Tmvc = 0.000 T = 0.000\n",
      " Site =    39 /    64 .. Mmpo =     2 DW = 0.00e+00 NNZ =        3 SPT = 0.2500 Tmvc = 0.000 T = 0.000\n",
      " Site =    40 /    64 .. Mmpo =     2 DW = 0.00e+00 NNZ =        3 SPT = 0.2500 Tmvc = 0.000 T = 0.000\n",
      " Site =    41 /    64 .. Mmpo =     2 DW = 0.00e+00 NNZ =        3 SPT = 0.2500 Tmvc = 0.000 T = 0.000\n",
      " Site =    42 /    64 .. Mmpo =     2 DW = 0.00e+00 NNZ =        3 SPT = 0.2500 Tmvc = 0.000 T = 0.000\n",
      " Site =    43 /    64 .. Mmpo =     2 DW = 0.00e+00 NNZ =        3 SPT = 0.2500 Tmvc = 0.000 T = 0.000\n",
      " Site =    44 /    64 .. Mmpo =     2 DW = 0.00e+00 NNZ =        3 SPT = 0.2500 Tmvc = 0.000 T = 0.000\n",
      " Site =    45 /    64 .. Mmpo =     2 DW = 0.00e+00 NNZ =        3 SPT = 0.2500 Tmvc = 0.000 T = 0.000\n",
      " Site =    46 /    64 .. Mmpo =     2 DW = 0.00e+00 NNZ =        3 SPT = 0.2500 Tmvc = 0.000 T = 0.000\n",
      " Site =    47 /    64 .. Mmpo =     2 DW = 0.00e+00 NNZ =        3 SPT = 0.2500 Tmvc = 0.000 T = 0.000\n",
      " Site =    48 /    64 .. Mmpo =     2 DW = 0.00e+00 NNZ =        3 SPT = 0.2500 Tmvc = 0.000 T = 0.000\n",
      " Site =    49 /    64 .. Mmpo =     2 DW = 0.00e+00 NNZ =        3 SPT = 0.2500 Tmvc = 0.000 T = 0.000\n",
      " Site =    50 /    64 .. Mmpo =     2 DW = 0.00e+00 NNZ =        3 SPT = 0.2500 Tmvc = 0.000 T = 0.000\n",
      " Site =    51 /    64 .. Mmpo =     2 DW = 0.00e+00 NNZ =        3 SPT = 0.2500 Tmvc = 0.000 T = 0.000\n",
      " Site =    52 /    64 .. Mmpo =     2 DW = 0.00e+00 NNZ =        3 SPT = 0.2500 Tmvc = 0.000 T = 0.000\n",
      " Site =    53 /    64 .. Mmpo =     2 DW = 0.00e+00 NNZ =        3 SPT = 0.2500 Tmvc = 0.000 T = 0.000\n",
      " Site =    54 /    64 .. Mmpo =     2 DW = 0.00e+00 NNZ =        3 SPT = 0.2500 Tmvc = 0.000 T = 0.000\n",
      " Site =    55 /    64 .. Mmpo =     2 DW = 0.00e+00 NNZ =        3 SPT = 0.2500 Tmvc = 0.000 T = 0.000\n",
      " Site =    56 /    64 .. Mmpo =     2 DW = 0.00e+00 NNZ =        3 SPT = 0.2500 Tmvc = 0.000 T = 0.000\n",
      " Site =    57 /    64 .. Mmpo =     2 DW = 0.00e+00 NNZ =        3 SPT = 0.2500 Tmvc = 0.000 T = 0.000\n",
      " Site =    58 /    64 .. Mmpo =     2 DW = 0.00e+00 NNZ =        3 SPT = 0.2500 Tmvc = 0.000 T = 0.000\n",
      " Site =    59 /    64 .. Mmpo =     2 DW = 0.00e+00 NNZ =        3 SPT = 0.2500 Tmvc = 0.000 T = 0.000\n",
      " Site =    60 /    64 .. Mmpo =     2 DW = 0.00e+00 NNZ =        3 SPT = 0.2500 Tmvc = 0.000 T = 0.000\n",
      " Site =    61 /    64 .. Mmpo =     2 DW = 0.00e+00 NNZ =        3 SPT = 0.2500 Tmvc = 0.000 T = 0.000\n",
      " Site =    62 /    64 .. Mmpo =     2 DW = 0.00e+00 NNZ =        3 SPT = 0.2500 Tmvc = 0.000 T = 0.000\n",
      " Site =    63 /    64 .. Mmpo =     1 DW = 0.00e+00 NNZ =        2 SPT = 0.0000 Tmvc = 0.000 T = 0.000\n",
      "Ttotal =      0.018 Tmvc-total = 0.000 MPO bond dimension =     2 MaxDW = 0.00e+00\n",
      "NNZ =          122 SIZE =          150 SPT = 0.1867\n",
      "\n",
      "Rank =     0 Ttotal =      0.036 MPO method = FastBipartite bond dimension =       2 NNZ =          122 SIZE =          150 SPT = 0.1867\n"
     ]
    }
   ],
   "source": [
    "b_n2 = driver.expr_builder()\n",
    "lst_index_L2 = list(range(params['L2'], params['L3']))\n",
    "b_n2.add_term(\"N\", lst_index_L2, 1)\n",
    "N2_op = driver.get_mpo(b_n2.finalize(adjust_order=True, fermionic_ops=\"\"), algo_type=MPOAlgorithmTypes.FastBipartite, iprint = 1)"
   ]
  },
  {
   "cell_type": "markdown",
   "id": "7cca3ec1-10dc-473d-a409-cd327a4f009b",
   "metadata": {},
   "source": [
    "#### <font color='black'>Expectation Value</font>"
   ]
  },
  {
   "cell_type": "code",
   "execution_count": 79,
   "id": "f00dee4d-baa4-4a7c-ae74-c63e33f3f287",
   "metadata": {},
   "outputs": [],
   "source": [
    "# n1n2diff_exp = []"
   ]
  },
  {
   "cell_type": "code",
   "execution_count": 80,
   "id": "86a8b3f5-6c9f-4873-b459-64fadd9d4c0a",
   "metadata": {},
   "outputs": [],
   "source": [
    "impo = driver.get_identity_mpo()\n",
    "\n",
    "n1_op_exp = driver.expectation(bra2, N1_op2, bra2) / driver.expectation(bra2, impo, bra2)\n",
    "\n",
    "n2_op_exp = driver.expectation(bra2, N2_op, bra2) / driver.expectation(bra2, impo, bra2)"
   ]
  },
  {
   "cell_type": "code",
   "execution_count": 81,
   "id": "1a8d94fc-d2df-444a-8ab0-4869b55cc826",
   "metadata": {},
   "outputs": [],
   "source": [
    "# n1n2diff_exp.append(n1_op_exp - n2_op_exp)"
   ]
  },
  {
   "cell_type": "markdown",
   "id": "67bf190f-fa98-4b42-8d3c-35a636b67fba",
   "metadata": {},
   "source": [
    "#### <font color='black'>Data of $\\bra{\\psi(t)} N_{R_{1}} - N_{R_{2}}\\ket{\\psi(t)}$</font>"
   ]
  },
  {
   "cell_type": "code",
   "execution_count": 82,
   "id": "f227912c-9abb-4f01-a5fa-a4989388e2bd",
   "metadata": {},
   "outputs": [],
   "source": [
    "# remove_dataset('my_data.h5', '1_n1n2diff_exp')"
   ]
  },
  {
   "cell_type": "code",
   "execution_count": 83,
   "id": "8570534e-73dd-45ec-babe-3135cbffadd0",
   "metadata": {},
   "outputs": [
    {
     "name": "stdout",
     "output_type": "stream",
     "text": [
      "Dataset '2.0_n1n2diff_exp' created.\n",
      "List appended to HDF5 file.\n"
     ]
    }
   ],
   "source": [
    "with h5py.File('my_data.h5', 'a') as f:\n",
    "    dataset_name = f'{params['target_t']}_n1n2diff_exp'  # Name the dataset uniquely to avoid conflicts\n",
    "    if dataset_name in f:\n",
    "        print(f\"Dataset '{dataset_name}' already exists.\")\n",
    "    else:\n",
    "        f.create_dataset(dataset_name, data=[n1_op_exp - n2_op_exp])\n",
    "        print(f\"Dataset '{dataset_name}' created.\")\n",
    "\n",
    "print(\"List appended to HDF5 file.\")\n"
   ]
  },
  {
   "cell_type": "code",
   "execution_count": 84,
   "id": "8b6cbdc3-61e3-435c-a046-19a374d9ab2e",
   "metadata": {},
   "outputs": [
    {
     "name": "stdout",
     "output_type": "stream",
     "text": [
      "Dataset: 0.0_n1n2diff_exp\n",
      "Data: [2.47892373e-08-9.01071469e-17j]\n",
      "Dataset: 0.1_n1n2diff_exp\n",
      "Data: [0.00778834-1.16583897e-16j]\n",
      "Dataset: 0.2_n1n2diff_exp\n",
      "Data: [0.03399258+8.59352612e-15j]\n",
      "Dataset: 0.3_n1n2diff_exp\n",
      "Data: [0.07823029+4.43084169e-15j]\n",
      "Dataset: 0.6_n1n2diff_exp\n",
      "Data: [0.21693003-5.55399751e-15j]\n",
      "Dataset: 0.7_n1n2diff_exp\n",
      "Data: [0.22708731-3.52536893e-15j]\n",
      "Dataset: 0.8_n1n2diff_exp\n",
      "Data: [0.20955084-7.0381515e-15j]\n",
      "Dataset: 0.9_n1n2diff_exp\n",
      "Data: [0.19428449-9.03723259e-15j]\n",
      "Dataset: 1.0_n1n2diff_exp\n",
      "Data: [0.18313456-5.54332226e-15j]\n",
      "Dataset: 1.1_n1n2diff_exp\n",
      "Data: [0.18767816-4.36681792e-15j]\n",
      "Dataset: 1.2_n1n2diff_exp\n",
      "Data: [0.20667519-2.71381159e-14j]\n",
      "Dataset: 2.0_n1n2diff_exp\n",
      "Data: [-0.02226088-2.37115185e-14j]\n"
     ]
    }
   ],
   "source": [
    "with h5py.File('my_data.h5', 'r') as f:\n",
    "    # Print all dataset names in the file\n",
    "    for name in f:\n",
    "        print(f\"Dataset: {name}\")\n",
    "        print(\"Data:\", f[name][:])\n"
   ]
  },
  {
   "cell_type": "code",
   "execution_count": 197,
   "id": "f26e63a7-e7c1-44da-9569-104321b5af63",
   "metadata": {},
   "outputs": [
    {
     "name": "stdout",
     "output_type": "stream",
     "text": [
      "[(0.18023073507043819-2.485820080869904e-14j), (0.007788336327493539-1.1658389684688993e-16j), (0.03399257827400248+8.593526120361154e-15j), (0.07823029347923338+4.430841688015311e-15j), (0.19428448620615058-9.037232594348457e-15j), (0.1876781590296659-4.366817919674194e-15j), (2.4789237329514435e-08-9.010714687310564e-17j), (2.4789237329514435e-08-9.010714687310564e-17j), (0.18313455812621626-5.543322257929157e-15j)]\n"
     ]
    }
   ],
   "source": [
    "print(n1n2diff_exp)"
   ]
  },
  {
   "cell_type": "markdown",
   "id": "a6341d20-8954-471e-aaed-adcacfe9ae40",
   "metadata": {
    "jp-MarkdownHeadingCollapsed": true
   },
   "source": [
    "## <font color='blue'>Entanglement</font>"
   ]
  },
  {
   "cell_type": "code",
   "execution_count": null,
   "id": "90611a1e-0b60-4031-98bf-90a7ad848621",
   "metadata": {},
   "outputs": [],
   "source": [
    "SvN = driver.get_bipartite_entanglement()\n",
    "\n",
    "plt.plot(np.arange(1,params['L']), SvN, marker='o')\n",
    "plt.xlabel('Bond', fontsize=12)\n",
    "plt.ylabel('Entanglement entropy', fontsize=12)\n",
    "plt.show()"
   ]
  },
  {
   "cell_type": "markdown",
   "id": "fa2fd9e8-1134-47bb-ac50-8155985dbc83",
   "metadata": {},
   "source": [
    "### Calculate"
   ]
  },
  {
   "cell_type": "code",
   "execution_count": null,
   "id": "97ef3a59-e55f-4041-b4e4-082682102057",
   "metadata": {},
   "outputs": [],
   "source": [
    "start_time = time.time()\n",
    "\n",
    "bosoncorr_mat = driver.get_npdm(mps, npdm_expr='CD', fermionic_ops='', mask=[0, 1])[0]\n",
    "navg = np.diag(bosoncorr_mat)\n",
    "print(\"Total number =\", sum(navg))\n",
    "\n",
    "end_time = time.time()\n",
    "elapsed_time = end_time - start_time\n",
    "print(f\"Elapsed time: {elapsed_time} seconds\")"
   ]
  },
  {
   "cell_type": "markdown",
   "id": "caa544a1-b3bd-431c-a09b-ec8e03a835ff",
   "metadata": {},
   "source": [
    "### Site occupations"
   ]
  },
  {
   "cell_type": "code",
   "execution_count": null,
   "id": "781ae437-2b57-4f82-8680-99d1a624cc52",
   "metadata": {},
   "outputs": [],
   "source": [
    "plt.plot(np.arange(params['L']), navg, marker='o')\n",
    "plt.xlabel('Site', fontsize=12)\n",
    "plt.ylabel('Occupation', fontsize=12)\n",
    "plt.show()"
   ]
  },
  {
   "cell_type": "markdown",
   "id": "f5eaccaf-1a30-4444-a379-9e78adcf08ab",
   "metadata": {},
   "source": [
    "### Correlation matrix"
   ]
  },
  {
   "cell_type": "code",
   "execution_count": null,
   "id": "98b0a3ca-7aa9-4a3d-9342-c8e22c78597a",
   "metadata": {},
   "outputs": [],
   "source": [
    "plt.matshow(bosoncorr_mat, cmap='viridis', vmin=bosoncorr_mat.min(), vmax=bosoncorr_mat.max())\n",
    "plt.colorbar()\n",
    "plt.xlabel('Site j', fontsize=12)\n",
    "plt.ylabel('Site i', fontsize=12)\n",
    "plt.title(r'Boson correlation $\\langle \\hat{b}_{i}^{\\dagger} \\hat{b}_{j} \\rangle$')\n",
    "plt.show()"
   ]
  },
  {
   "cell_type": "markdown",
   "id": "e1ea71cc-d349-43e6-a2f8-d9d9cc801f96",
   "metadata": {},
   "source": [
    "### Correlation vs distance"
   ]
  },
  {
   "cell_type": "code",
   "execution_count": null,
   "id": "881e4227-8349-45aa-8e30-b9cc50b3b75e",
   "metadata": {},
   "outputs": [],
   "source": [
    "plt.plot(np.arange(1,params['L']//2+1), bosoncorr_mat[params['L']//2-1,params['L']//2:], marker='o')\n",
    "plt.xlabel('Separation $r$', fontsize=12)\n",
    "plt.ylabel(r'Correlation $\\langle \\hat{b}_{L/2}^{\\dagger} \\hat{b}_{L/2+r} \\rangle$', fontsize=12)\n",
    "plt.yscale('log')\n",
    "plt.xscale('linear')\n",
    "plt.show()"
   ]
  },
  {
   "cell_type": "markdown",
   "id": "5774a000-e34a-4e62-a879-0edcc4885c6c",
   "metadata": {
    "jp-MarkdownHeadingCollapsed": true
   },
   "source": [
    "## <font color='blue'>On-site number distribution</font>"
   ]
  },
  {
   "cell_type": "markdown",
   "id": "05d1d14f-dccf-4f84-90d8-9a5e8e308e3e",
   "metadata": {},
   "source": [
    "### Calculate"
   ]
  },
  {
   "cell_type": "code",
   "execution_count": null,
   "id": "2681e1f0-5a32-4e93-9525-651c7088f0e7",
   "metadata": {},
   "outputs": [],
   "source": [
    "start_time = time.time()\n",
    "\n",
    "ndist = np.array(driver.get_npdm(mps, npdm_expr=proj_keys, fermionic_ops='')).T\n",
    "print(\"Deviation from unit filling =\", np.linalg.norm([ndist[i].sum()-1 for i in range(params['L'])]))\n",
    "\n",
    "end_time = time.time()\n",
    "elapsed_time = end_time - start_time\n",
    "print(f\"Elapsed time: {elapsed_time} seconds\")"
   ]
  },
  {
   "cell_type": "markdown",
   "id": "e95d9604-e00f-4090-b412-17e752bb3fef",
   "metadata": {},
   "source": [
    "### Site-averaged number distribution"
   ]
  },
  {
   "cell_type": "code",
   "execution_count": null,
   "id": "c14edb1b-4542-4613-9bfb-3c707c801a0b",
   "metadata": {},
   "outputs": [],
   "source": [
    "plt.plot(np.mean(ndist, axis=0), marker='o')\n",
    "plt.xlabel('$n$', fontsize=12)\n",
    "plt.ylabel('Site-avgd distribution $p(n)$', fontsize=12)\n",
    "plt.yscale('linear')\n",
    "plt.show()"
   ]
  },
  {
   "cell_type": "markdown",
   "id": "d26508e7-b615-47f6-8ad8-7433347dec4c",
   "metadata": {},
   "source": [
    "### Number fluctuation"
   ]
  },
  {
   "cell_type": "code",
   "execution_count": null,
   "id": "58f62821-e90e-4c03-a557-f70a2ea003f6",
   "metadata": {},
   "outputs": [],
   "source": [
    "nsqavg = np.array([np.dot(np.arange(params['nmax']+1)**2, ndist[i]) for i in range(params['L'])])\n",
    "numfluc = np.sqrt(nsqavg - navg*navg)\n",
    "plt.plot(np.arange(params['L']), numfluc, marker='o')\n",
    "plt.xlabel('Site', fontsize=12)\n",
    "plt.ylabel('Number fluctuation', fontsize=12)\n",
    "plt.title(f\"Avg = {np.mean(numfluc)}\")\n",
    "plt.show()"
   ]
  },
  {
   "cell_type": "markdown",
   "id": "f01eb5c3-d111-4073-9186-985553e349d4",
   "metadata": {},
   "source": [
    "### Calculate"
   ]
  },
  {
   "cell_type": "code",
   "execution_count": null,
   "id": "7599b1f8-d939-4bd6-b70d-38b085bb564b",
   "metadata": {},
   "outputs": [],
   "source": [
    "start_time = time.time()\n",
    "\n",
    "nnexp_mat = driver.get_npdm(mps, npdm_expr='CDCD', fermionic_ops='', mask=[0, 0, 1, 1])[0]\n",
    "densitycorr_mat = nnexp_mat - np.outer(navg, navg)\n",
    "print(\"Avg number fluctuation =\", np.mean(np.sqrt(np.diag(densitycorr_mat))))\n",
    "\n",
    "end_time = time.time()\n",
    "elapsed_time = end_time - start_time\n",
    "print(f\"Elapsed time: {elapsed_time} seconds\")"
   ]
  },
  {
   "cell_type": "markdown",
   "id": "5b44731d-69e8-4872-8ab1-dd6c445f4941",
   "metadata": {},
   "source": [
    "### Correlation matrix"
   ]
  },
  {
   "cell_type": "code",
   "execution_count": null,
   "id": "c8b83ca3-2064-4aa8-9cb7-71a5e4c6c399",
   "metadata": {},
   "outputs": [],
   "source": [
    "plt.matshow(densitycorr_mat, cmap='seismic', vmin=-np.abs(densitycorr_mat).max(), vmax=np.abs(densitycorr_mat).max())\n",
    "plt.colorbar()\n",
    "plt.xlabel('Site j', fontsize=12)\n",
    "plt.ylabel('Site i', fontsize=12)\n",
    "plt.title(r'Density correlation $\\langle \\hat{n}_{i}, \\hat{n}_{j} \\rangle$')\n",
    "plt.show()"
   ]
  },
  {
   "cell_type": "markdown",
   "id": "90e93cf9-9cd2-44a1-979b-a394b2ef27d7",
   "metadata": {},
   "source": [
    "### Correlation vs distance"
   ]
  },
  {
   "cell_type": "code",
   "execution_count": null,
   "id": "c7b81941-dc79-4a23-ba1d-c17b3fa75e02",
   "metadata": {},
   "outputs": [],
   "source": [
    "plt.plot(np.arange(1,params['L']//2+1), -densitycorr_mat[params['L']//2-1,params['L']//2:], marker='o')\n",
    "plt.xlabel('Separation $r$', fontsize=12)\n",
    "plt.ylabel(r'Correlation $-\\langle \\hat{n}_{L/2}, \\hat{n}_{L/2+r} \\rangle$', fontsize=12)\n",
    "plt.yscale('log')\n",
    "plt.xscale('linear')\n",
    "plt.show()"
   ]
  }
 ],
 "metadata": {
  "kernelspec": {
   "display_name": "Python 3 (ipykernel)",
   "language": "python",
   "name": "python3"
  },
  "language_info": {
   "codemirror_mode": {
    "name": "ipython",
    "version": 3
   },
   "file_extension": ".py",
   "mimetype": "text/x-python",
   "name": "python",
   "nbconvert_exporter": "python",
   "pygments_lexer": "ipython3",
   "version": "3.12.4"
  }
 },
 "nbformat": 4,
 "nbformat_minor": 5
}
