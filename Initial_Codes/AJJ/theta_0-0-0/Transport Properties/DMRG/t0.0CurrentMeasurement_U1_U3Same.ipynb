{
 "cells": [
  {
   "cell_type": "markdown",
   "id": "0e6db8ce-bbfd-418c-b451-b04583ea58fb",
   "metadata": {},
   "source": [
    "# Importing Packages"
   ]
  },
  {
   "cell_type": "code",
   "execution_count": 73,
   "id": "c548deef-2360-4544-b235-d08a384cbb58",
   "metadata": {},
   "outputs": [],
   "source": [
    "from pyblock2.driver.core import DMRGDriver, SymmetryTypes, MPOAlgorithmTypes\n",
    "import numpy as np\n",
    "import math\n",
    "import matplotlib.pyplot as plt\n",
    "import time\n",
    "import h5py"
   ]
  },
  {
   "cell_type": "markdown",
   "id": "28ccea47-b28f-4afc-8bd3-f5e9ea1f6d72",
   "metadata": {},
   "source": [
    "# Functions for Constructing Matrices"
   ]
  },
  {
   "cell_type": "code",
   "execution_count": 46,
   "id": "72cf1fe7-0df7-4a57-82a9-6a4129eb3fdc",
   "metadata": {},
   "outputs": [],
   "source": [
    "def vector_to_hermitian(upper_triangle_vector):\n",
    "    # Check if the input vector is real-valued or complex-valued\n",
    "    is_real = np.isrealobj(upper_triangle_vector)\n",
    "    \n",
    "    # Determine the size of the matrix (n x n)\n",
    "    n = int(np.sqrt(2 * len(upper_triangle_vector) + 0.25) - 0.5)\n",
    "    \n",
    "    # Initialize an empty matrix with the appropriate type\n",
    "    dtype = float if is_real else complex\n",
    "    A = np.zeros((n, n), dtype=dtype)\n",
    "    \n",
    "    # Fill in the upper triangle\n",
    "    indices = np.triu_indices(n)\n",
    "    A[indices] = upper_triangle_vector\n",
    "    \n",
    "    # Assign values to the lower triangle\n",
    "    i_lower = np.tril_indices(n, -1)\n",
    "    if is_real:\n",
    "        A[i_lower] = A.T[i_lower]  # Copy upper triangle values to lower triangle\n",
    "    else:\n",
    "        A[i_lower] = np.conj(A.T[i_lower])  # Assign conjugate transpose to lower triangle\n",
    "    \n",
    "    return A"
   ]
  },
  {
   "cell_type": "markdown",
   "id": "2074e28d-dd9d-4fae-bdac-6774c3337c4e",
   "metadata": {},
   "source": [
    "# Definitions"
   ]
  },
  {
   "cell_type": "code",
   "execution_count": 47,
   "id": "5462a7b4-6f31-4c9b-9752-84b566b701e5",
   "metadata": {},
   "outputs": [],
   "source": [
    "params = {}\n",
    "params['L'], params['N'], params['nmax'] = 64, 64, 4\n",
    "params['L1'], params['L2'], params['L3'] = 30, 34, 64 \n",
    "params['t'], params['U1'], params['U2'], params['U3'] = 1.0, 0.5, 10.0, 0.5\n",
    "\n",
    "driver = DMRGDriver(scratch=\"./tmp\", symm_type=SymmetryTypes.SAny | SymmetryTypes.CPX, n_threads=4)\n",
    "\n",
    "driver.set_symmetry_groups(\"U1\")\n",
    "Q = driver.bw.SX"
   ]
  },
  {
   "cell_type": "code",
   "execution_count": 48,
   "id": "c634db4f-474c-467a-b6ac-1da9fa3ec3a5",
   "metadata": {},
   "outputs": [],
   "source": [
    "# [Part A] Set states and matrix representation of operators in local Hilbert space\n",
    "site_basis, site_ops = [], []\n",
    "\n",
    "# Definig Operators\n",
    "bdag = np.diag(np.sqrt(np.arange(1, params['nmax'] + 1)), k=-1) # b+\n",
    "b = bdag.T # b\n",
    "n = np.diag(np.arange(0, params['nmax'] + 1), k=0) # particle number \n",
    "parity = np.diag([(-1.)**n for n in range(params['nmax']+1)]) # Parity no.\n",
    "\n",
    "for k in range(params['L']):\n",
    "    basis = [(Q(i), 1) for i in range(params['nmax'] + 1)] \n",
    "    ops = {\n",
    "        \"\": np.identity(params['nmax'] + 1), # identity\n",
    "        \"C\": bdag, # b+\n",
    "        \"D\": b,  # b\n",
    "        \"N\": n, # particle number\n",
    "        \"P\": parity, # Parity no.\n",
    "    }\n",
    "    site_basis.append(basis)\n",
    "    site_ops.append(ops)"
   ]
  },
  {
   "cell_type": "markdown",
   "id": "11c0912a-4c6a-4e73-845c-23fc3d3eb842",
   "metadata": {},
   "source": [
    "# Setting Up Hamiltonian"
   ]
  },
  {
   "cell_type": "code",
   "execution_count": 49,
   "id": "7d27acaf-51a8-49c4-acdf-8de500716181",
   "metadata": {},
   "outputs": [],
   "source": [
    "driver.initialize_system(n_sites=params['L'], vacuum=Q(0), target=Q(params['N']), hamil_init=False)\n",
    "driver.ghamil = driver.get_custom_hamiltonian(site_basis, site_ops)\n",
    "b = driver.expr_builder()\n",
    "\n",
    "\n",
    "for i in range(params['L']-1):\n",
    "    b.add_term(\"CD\", [i, i+1], -params['t'])\n",
    "    b.add_term(\"CD\", [i+1, i], -params['t'])\n",
    "\n",
    "# Region 1 \n",
    "for i in range(0, params['L2'], 1):\n",
    "    b.add_term(\"CCDD\", [i, i, i, i], params['U1'] / 2)\n",
    "    b.add_term(\"CD\", [i, i], - params['U1'] / 2)\n",
    "\n",
    "# Region 2\n",
    "for i in range(params['L1'], params['L2'], 1):\n",
    "    b.add_term(\"CCDD\", [i, i, i, i], params['U2'] / 2)\n",
    "    b.add_term(\"CD\", [i, i], - params['U2'] / 2)\n",
    "\n",
    "# Region 3\n",
    "for i in range(params['L2'], params['L3'], 1):\n",
    "    b.add_term(\"CCDD\", [i, i, i, i], params['U3'] / 2)\n",
    "    b.add_term(\"CD\", [i, i], - params['U3'] / 2)"
   ]
  },
  {
   "cell_type": "code",
   "execution_count": 50,
   "id": "8af435eb-41c8-46bc-9c3a-70c29424b0ef",
   "metadata": {},
   "outputs": [
    {
     "name": "stdout",
     "output_type": "stream",
     "text": [
      "\n",
      "Sweep =    0 | Direction =  forward | Bond dimension =   50 | Noise =  1.00e-03 | Dav threshold =  1.00e-10\n",
      "Time elapsed =      0.680 | E =    -142.4795137001 | DW = 7.30151e-10\n",
      "\n",
      "Sweep =    1 | Direction = backward | Bond dimension =   50 | Noise =  1.00e-03 | Dav threshold =  1.00e-10\n",
      "Time elapsed =      3.387 | E =    -143.1163558709 | DE = -6.37e-01 | DW = 6.13438e-08\n",
      "\n",
      "Sweep =    2 | Direction =  forward | Bond dimension =   50 | Noise =  1.00e-03 | Dav threshold =  1.00e-10\n",
      "Time elapsed =      6.745 | E =    -143.3170349904 | DE = -2.01e-01 | DW = 2.95670e-07\n",
      "\n",
      "Sweep =    3 | Direction = backward | Bond dimension =   50 | Noise =  1.00e-05 | Dav threshold =  1.00e-10\n",
      "Time elapsed =      9.035 | E =    -143.4032408997 | DE = -8.62e-02 | DW = 1.48505e-07\n",
      "\n",
      "Sweep =    4 | Direction =  forward | Bond dimension =   50 | Noise =  1.00e-05 | Dav threshold =  1.00e-10\n",
      "Time elapsed =     12.048 | E =    -143.4743553206 | DE = -7.11e-02 | DW = 2.98566e-07\n",
      "\n",
      "Sweep =    5 | Direction = backward | Bond dimension =   50 | Noise =  1.00e-05 | Dav threshold =  1.00e-10\n",
      "Time elapsed =     14.473 | E =    -143.5024640028 | DE = -2.81e-02 | DW = 3.41962e-07\n",
      "\n",
      "Sweep =    6 | Direction =  forward | Bond dimension =   50 | Noise =  0.00e+00 | Dav threshold =  1.00e-10\n",
      "Time elapsed =     17.277 | E =    -143.5221689134 | DE = -1.97e-02 | DW = 3.48061e-07\n",
      "\n",
      "Sweep =    7 | Direction = backward | Bond dimension =   50 | Noise =  0.00e+00 | Dav threshold =  1.00e-10\n",
      "Time elapsed =     19.817 | E =    -143.5265935623 | DE = -4.42e-03 | DW = 4.85350e-07\n",
      "\n",
      "Sweep =    8 | Direction =  forward | Bond dimension =   50 | Noise =  0.00e+00 | Dav threshold =  1.00e-10\n",
      "Time elapsed =     22.224 | E =    -143.5273021492 | DE = -7.09e-04 | DW = 5.64093e-07\n",
      "\n",
      "Sweep =    9 | Direction = backward | Bond dimension =   50 | Noise =  0.00e+00 | Dav threshold =  1.00e-10\n",
      "Time elapsed =     23.703 | E =    -143.5273947776 | DE = -9.26e-05 | DW = 6.24237e-07\n",
      "\n",
      "Sweep =   10 | Direction =  forward | Bond dimension =  100 | Noise =  0.00e+00 | Dav threshold =  1.00e-10\n",
      "Time elapsed =     26.707 | E =    -143.5275693934 | DE = -1.75e-04 | DW = 4.73534e-09\n",
      "\n",
      "Sweep =   11 | Direction = backward | Bond dimension =  100 | Noise =  0.00e+00 | Dav threshold =  1.00e-10\n",
      "Time elapsed =     28.864 | E =    -143.5275721240 | DE = -2.73e-06 | DW = 1.29174e-08\n",
      "\n",
      "Sweep =   12 | Direction =  forward | Bond dimension =  100 | Noise =  0.00e+00 | Dav threshold =  1.00e-10\n",
      "Time elapsed =     29.889 | E =    -143.5275722281 | DE = -1.04e-07 | DW = 1.51059e-08\n",
      "\n",
      "Sweep =   13 | Direction = backward | Bond dimension =  100 | Noise =  0.00e+00 | Dav threshold =  1.00e-10\n",
      "Time elapsed =     30.722 | E =    -143.5275722066 | DE = 2.14e-08 | DW = 1.55962e-08\n",
      "\n",
      "Sweep =   14 | Direction =  forward | Bond dimension =  100 | Noise =  0.00e+00 | Dav threshold =  1.00e-10\n",
      "Time elapsed =     31.485 | E =    -143.5275721847 | DE = 2.19e-08 | DW = 1.56943e-08\n",
      "\n",
      "Sweep =   15 | Direction = backward | Bond dimension =  200 | Noise =  0.00e+00 | Dav threshold =  1.00e-10\n",
      "Time elapsed =     35.177 | E =    -143.5275754782 | DE = -3.29e-06 | DW = 5.42543e-11\n",
      "\n",
      "Sweep =   16 | Direction =  forward | Bond dimension =  200 | Noise =  0.00e+00 | Dav threshold =  1.00e-10\n",
      "Time elapsed =     39.725 | E =    -143.5275754954 | DE = -1.72e-08 | DW = 1.35350e-10\n",
      "\n",
      "Sweep =   17 | Direction = backward | Bond dimension =  200 | Noise =  0.00e+00 | Dav threshold =  1.00e-10\n",
      "Time elapsed =     43.383 | E =    -143.5275754970 | DE = -1.59e-09 | DW = 1.50764e-10\n",
      "\n",
      "Sweep =   18 | Direction =  forward | Bond dimension =  200 | Noise =  0.00e+00 | Dav threshold =  1.00e-10\n",
      "Time elapsed =     46.829 | E =    -143.5275754971 | DE = -1.21e-10 | DW = 1.46260e-10\n",
      "\n",
      "Sweep =   19 | Direction = backward | Bond dimension =  200 | Noise =  0.00e+00 | Dav threshold =  1.00e-10\n",
      "Time elapsed =     50.395 | E =    -143.5275754971 | DE = 1.04e-11 | DW = 1.46905e-10\n",
      "\n",
      "Sweep =   20 | Direction =  forward | Bond dimension =  500 | Noise =  0.00e+00 | Dav threshold =  1.00e-11\n",
      "Time elapsed =     67.612 | E =    -143.5275755263 | DE = -2.92e-08 | DW = 3.33283e-14\n",
      "\n",
      "Sweep =   21 | Direction = backward | Bond dimension =  500 | Noise =  0.00e+00 | Dav threshold =  1.00e-11\n",
      "Time elapsed =     86.594 | E =    -143.5275755264 | DE = -4.43e-11 | DW = 1.06082e-13\n",
      "\n",
      "Sweep =   22 | Direction =  forward | Bond dimension =  500 | Noise =  0.00e+00 | Dav threshold =  1.00e-11\n",
      "Time elapsed =    104.265 | E =    -143.5275755264 | DE = -6.25e-12 | DW = 5.76808e-14\n",
      "\n",
      "Sweep =   23 | Direction = backward | Bond dimension =  500 | Noise =  0.00e+00 | Dav threshold =  1.00e-11\n",
      "Time elapsed =    121.609 | E =    -143.5275755264 | DE = -1.19e-12 | DW = 5.62219e-14\n",
      "\n",
      "Sweep =   24 | Direction =  forward | Bond dimension =  500 | Noise =  0.00e+00 | Dav threshold =  1.00e-11\n",
      "Time elapsed =    138.972 | E =    -143.5275755264 | DE = -1.11e-12 | DW = 5.29306e-14\n",
      "\n",
      "Sweep =   25 | Direction = backward | Bond dimension = 1000 | Noise =  0.00e+00 | Dav threshold =  1.00e-11\n",
      "Time elapsed =    166.466 | E =    -143.5275755264 | DE = -1.09e-11 | DW = 2.85862e-17\n",
      "\n",
      "Final bond dimension = 1000\n",
      "Execution time: 166.55 seconds\n"
     ]
    }
   ],
   "source": [
    "# [Part C] Perform DMRG\n",
    "\n",
    "start_time = time.time()\n",
    "#########################################\n",
    "\n",
    "mpo = driver.get_mpo(b.finalize(adjust_order=True, fermionic_ops=\"\"), algo_type=MPOAlgorithmTypes.FastBipartite)\n",
    "\n",
    "mps = driver.get_random_mps(tag=\"KET\", bond_dim=50, nroots=1, occs=[1] * params['L'])\n",
    "energy = driver.dmrg(\n",
    "    mpo, \n",
    "    mps, \n",
    "    n_sweeps=100, \n",
    "    bond_dims=[50] * 10 + [100] * 5 + [200] * 5 + [500] * 5 + [1000] * 5, \n",
    "    noises=[1e-3] * 3 + [1e-5] * 3 + [0],  \n",
    "    thrds=[1e-10] * 20, \n",
    "    dav_max_iter=100, \n",
    "    tol=1e-10, \n",
    "    iprint=1)\n",
    "print(\"Final bond dimension =\", mps.info.get_max_bond_dimension())\n",
    "\n",
    "#########################################\n",
    "end_time = time.time()\n",
    "execution_time = end_time - start_time\n",
    "print(f\"Execution time: {execution_time:.2f} seconds\")\n"
   ]
  },
  {
   "cell_type": "markdown",
   "id": "c8d8c1c2-e29a-4fe6-8977-0f9871f184a1",
   "metadata": {},
   "source": [
    "## <font color='blue'>Current Measurement</font>"
   ]
  },
  {
   "cell_type": "markdown",
   "id": "b17aaafe-a7a0-40cf-bf34-0e5991218403",
   "metadata": {},
   "source": [
    "### <font color='black'>Constructing MPO for $(-1)^{\\hat{N}_{R_{1}}}$ where $\\hat{N}_{R_{1}} = \\sum_{i \\in R_{1}} n_{i}$</font>"
   ]
  },
  {
   "cell_type": "code",
   "execution_count": 51,
   "id": "58c5db91-f98e-4a58-8c85-2608087daa69",
   "metadata": {},
   "outputs": [
    {
     "name": "stdout",
     "output_type": "stream",
     "text": [
      "\n",
      "Build MPO | Nsites =    64 | Nterms =          1 | Algorithm = FastBIP | Cutoff = 1.00e-14\n",
      " Site =     0 /    64 .. Mmpo =     1 DW = 0.00e+00 NNZ =        1 SPT = 0.0000 Tmvc = 0.000 T = 0.001\n",
      " Site =     1 /    64 .. Mmpo =     1 DW = 0.00e+00 NNZ =        1 SPT = 0.0000 Tmvc = 0.000 T = 0.001\n",
      " Site =     2 /    64 .. Mmpo =     1 DW = 0.00e+00 NNZ =        1 SPT = 0.0000 Tmvc = 0.000 T = 0.001\n",
      " Site =     3 /    64 .. Mmpo =     1 DW = 0.00e+00 NNZ =        1 SPT = 0.0000 Tmvc = 0.000 T = 0.001\n",
      " Site =     4 /    64 .. Mmpo =     1 DW = 0.00e+00 NNZ =        1 SPT = 0.0000 Tmvc = 0.000 T = 0.000\n",
      " Site =     5 /    64 .. Mmpo =     1 DW = 0.00e+00 NNZ =        1 SPT = 0.0000 Tmvc = 0.000 T = 0.000\n",
      " Site =     6 /    64 .. Mmpo =     1 DW = 0.00e+00 NNZ =        1 SPT = 0.0000 Tmvc = 0.000 T = 0.001\n",
      " Site =     7 /    64 .. Mmpo =     1 DW = 0.00e+00 NNZ =        1 SPT = 0.0000 Tmvc = 0.000 T = 0.000\n",
      " Site =     8 /    64 .. Mmpo =     1 DW = 0.00e+00 NNZ =        1 SPT = 0.0000 Tmvc = 0.000 T = 0.000\n",
      " Site =     9 /    64 .. Mmpo =     1 DW = 0.00e+00 NNZ =        1 SPT = 0.0000 Tmvc = 0.000 T = 0.000\n",
      " Site =    10 /    64 .. Mmpo =     1 DW = 0.00e+00 NNZ =        1 SPT = 0.0000 Tmvc = 0.000 T = 0.000\n",
      " Site =    11 /    64 .. Mmpo =     1 DW = 0.00e+00 NNZ =        1 SPT = 0.0000 Tmvc = 0.000 T = 0.000\n",
      " Site =    12 /    64 .. Mmpo =     1 DW = 0.00e+00 NNZ =        1 SPT = 0.0000 Tmvc = 0.000 T = 0.000\n",
      " Site =    13 /    64 .. Mmpo =     1 DW = 0.00e+00 NNZ =        1 SPT = 0.0000 Tmvc = 0.000 T = 0.000\n",
      " Site =    14 /    64 .. Mmpo =     1 DW = 0.00e+00 NNZ =        1 SPT = 0.0000 Tmvc = 0.000 T = 0.000\n",
      " Site =    15 /    64 .. Mmpo =     1 DW = 0.00e+00 NNZ =        1 SPT = 0.0000 Tmvc = 0.000 T = 0.000\n",
      " Site =    16 /    64 .. Mmpo =     1 DW = 0.00e+00 NNZ =        1 SPT = 0.0000 Tmvc = 0.000 T = 0.001\n",
      " Site =    17 /    64 .. Mmpo =     1 DW = 0.00e+00 NNZ =        1 SPT = 0.0000 Tmvc = 0.000 T = 0.001\n",
      " Site =    18 /    64 .. Mmpo =     1 DW = 0.00e+00 NNZ =        1 SPT = 0.0000 Tmvc = 0.000 T = 0.000\n",
      " Site =    19 /    64 .. Mmpo =     1 DW = 0.00e+00 NNZ =        1 SPT = 0.0000 Tmvc = 0.000 T = 0.000\n",
      " Site =    20 /    64 .. Mmpo =     1 DW = 0.00e+00 NNZ =        1 SPT = 0.0000 Tmvc = 0.000 T = 0.000\n",
      " Site =    21 /    64 .. Mmpo =     1 DW = 0.00e+00 NNZ =        1 SPT = 0.0000 Tmvc = 0.000 T = 0.000\n",
      " Site =    22 /    64 .. Mmpo =     1 DW = 0.00e+00 NNZ =        1 SPT = 0.0000 Tmvc = 0.000 T = 0.000\n",
      " Site =    23 /    64 .. Mmpo =     1 DW = 0.00e+00 NNZ =        1 SPT = 0.0000 Tmvc = 0.000 T = 0.000\n",
      " Site =    24 /    64 .. Mmpo =     1 DW = 0.00e+00 NNZ =        1 SPT = 0.0000 Tmvc = 0.000 T = 0.000\n",
      " Site =    25 /    64 .. Mmpo =     1 DW = 0.00e+00 NNZ =        1 SPT = 0.0000 Tmvc = 0.000 T = 0.000\n",
      " Site =    26 /    64 .. Mmpo =     1 DW = 0.00e+00 NNZ =        1 SPT = 0.0000 Tmvc = 0.000 T = 0.000\n",
      " Site =    27 /    64 .. Mmpo =     1 DW = 0.00e+00 NNZ =        1 SPT = 0.0000 Tmvc = 0.000 T = 0.000\n",
      " Site =    28 /    64 .. Mmpo =     1 DW = 0.00e+00 NNZ =        1 SPT = 0.0000 Tmvc = 0.000 T = 0.000\n",
      " Site =    29 /    64 .. Mmpo =     1 DW = 0.00e+00 NNZ =        1 SPT = 0.0000 Tmvc = 0.000 T = 0.000\n",
      " Site =    30 /    64 .. Mmpo =     1 DW = 0.00e+00 NNZ =        1 SPT = 0.0000 Tmvc = 0.000 T = 0.000\n",
      " Site =    31 /    64 .. Mmpo =     1 DW = 0.00e+00 NNZ =        1 SPT = 0.0000 Tmvc = 0.000 T = 0.000\n",
      " Site =    32 /    64 .. Mmpo =     1 DW = 0.00e+00 NNZ =        1 SPT = 0.0000 Tmvc = 0.000 T = 0.000\n",
      " Site =    33 /    64 .. Mmpo =     1 DW = 0.00e+00 NNZ =        1 SPT = 0.0000 Tmvc = 0.000 T = 0.000\n",
      " Site =    34 /    64 .. Mmpo =     1 DW = 0.00e+00 NNZ =        1 SPT = 0.0000 Tmvc = 0.000 T = 0.000\n",
      " Site =    35 /    64 .. Mmpo =     1 DW = 0.00e+00 NNZ =        1 SPT = 0.0000 Tmvc = 0.000 T = 0.000\n",
      " Site =    36 /    64 .. Mmpo =     1 DW = 0.00e+00 NNZ =        1 SPT = 0.0000 Tmvc = 0.000 T = 0.000\n",
      " Site =    37 /    64 .. Mmpo =     1 DW = 0.00e+00 NNZ =        1 SPT = 0.0000 Tmvc = 0.000 T = 0.000\n",
      " Site =    38 /    64 .. Mmpo =     1 DW = 0.00e+00 NNZ =        1 SPT = 0.0000 Tmvc = 0.000 T = 0.002\n",
      " Site =    39 /    64 .. Mmpo =     1 DW = 0.00e+00 NNZ =        1 SPT = 0.0000 Tmvc = 0.000 T = 0.000\n",
      " Site =    40 /    64 .. Mmpo =     1 DW = 0.00e+00 NNZ =        1 SPT = 0.0000 Tmvc = 0.000 T = 0.000\n",
      " Site =    41 /    64 .. Mmpo =     1 DW = 0.00e+00 NNZ =        1 SPT = 0.0000 Tmvc = 0.000 T = 0.000\n",
      " Site =    42 /    64 .. Mmpo =     1 DW = 0.00e+00 NNZ =        1 SPT = 0.0000 Tmvc = 0.000 T = 0.000\n",
      " Site =    43 /    64 .. Mmpo =     1 DW = 0.00e+00 NNZ =        1 SPT = 0.0000 Tmvc = 0.000 T = 0.000\n",
      " Site =    44 /    64 .. Mmpo =     1 DW = 0.00e+00 NNZ =        1 SPT = 0.0000 Tmvc = 0.000 T = 0.000\n",
      " Site =    45 /    64 .. Mmpo =     1 DW = 0.00e+00 NNZ =        1 SPT = 0.0000 Tmvc = 0.000 T = 0.000\n",
      " Site =    46 /    64 .. Mmpo =     1 DW = 0.00e+00 NNZ =        1 SPT = 0.0000 Tmvc = 0.000 T = 0.000\n",
      " Site =    47 /    64 .. Mmpo =     1 DW = 0.00e+00 NNZ =        1 SPT = 0.0000 Tmvc = 0.000 T = 0.000\n",
      " Site =    48 /    64 .. Mmpo =     1 DW = 0.00e+00 NNZ =        1 SPT = 0.0000 Tmvc = 0.000 T = 0.000\n",
      " Site =    49 /    64 .. Mmpo =     1 DW = 0.00e+00 NNZ =        1 SPT = 0.0000 Tmvc = 0.000 T = 0.000\n",
      " Site =    50 /    64 .. Mmpo =     1 DW = 0.00e+00 NNZ =        1 SPT = 0.0000 Tmvc = 0.000 T = 0.000\n",
      " Site =    51 /    64 .. Mmpo =     1 DW = 0.00e+00 NNZ =        1 SPT = 0.0000 Tmvc = 0.000 T = 0.000\n",
      " Site =    52 /    64 .. Mmpo =     1 DW = 0.00e+00 NNZ =        1 SPT = 0.0000 Tmvc = 0.000 T = 0.000\n",
      " Site =    53 /    64 .. Mmpo =     1 DW = 0.00e+00 NNZ =        1 SPT = 0.0000 Tmvc = 0.000 T = 0.000\n",
      " Site =    54 /    64 .. Mmpo =     1 DW = 0.00e+00 NNZ =        1 SPT = 0.0000 Tmvc = 0.000 T = 0.000\n",
      " Site =    55 /    64 .. Mmpo =     1 DW = 0.00e+00 NNZ =        1 SPT = 0.0000 Tmvc = 0.000 T = 0.002\n",
      " Site =    56 /    64 .. Mmpo =     1 DW = 0.00e+00 NNZ =        1 SPT = 0.0000 Tmvc = 0.000 T = 0.000\n",
      " Site =    57 /    64 .. Mmpo =     1 DW = 0.00e+00 NNZ =        1 SPT = 0.0000 Tmvc = 0.000 T = 0.000\n",
      " Site =    58 /    64 .. Mmpo =     1 DW = 0.00e+00 NNZ =        1 SPT = 0.0000 Tmvc = 0.000 T = 0.000\n",
      " Site =    59 /    64 .. Mmpo =     1 DW = 0.00e+00 NNZ =        1 SPT = 0.0000 Tmvc = 0.000 T = 0.000\n",
      " Site =    60 /    64 .. Mmpo =     1 DW = 0.00e+00 NNZ =        1 SPT = 0.0000 Tmvc = 0.000 T = 0.000\n",
      " Site =    61 /    64 .. Mmpo =     1 DW = 0.00e+00 NNZ =        1 SPT = 0.0000 Tmvc = 0.000 T = 0.001\n",
      " Site =    62 /    64 .. Mmpo =     1 DW = 0.00e+00 NNZ =        1 SPT = 0.0000 Tmvc = 0.000 T = 0.000\n",
      " Site =    63 /    64 .. Mmpo =     1 DW = 0.00e+00 NNZ =        1 SPT = 0.0000 Tmvc = 0.000 T = 0.000\n",
      "Ttotal =      0.027 Tmvc-total = 0.000 MPO bond dimension =     1 MaxDW = 0.00e+00\n",
      "NNZ =           64 SIZE =           64 SPT = 0.0000\n",
      "\n",
      "Rank =     0 Ttotal =      0.054 MPO method = FastBipartite bond dimension =       1 NNZ =           64 SIZE =           64 SPT = 0.0000\n"
     ]
    }
   ],
   "source": [
    "b_n = driver.expr_builder()\n",
    "Parity_L1 = \"P\" * params['L1'] \n",
    "lst_index_L1 = list(range(params['L1']))\n",
    "# b_n.add_term(Parity_L1, lst_index_L1, 1)\n",
    "b_n.add_term('PPPPPPPPPPPPPPPPPPPPPPPPPPPPPP',[0,1,2,3,4,5,6,7,8,9,10,11,12,13,14,15,16,17,18,19,20,21,22,23,24,25,26,27,28,29], 1)\n",
    "N1_op = driver.get_mpo(b_n.finalize(adjust_order=True, fermionic_ops=\"\"), algo_type=MPOAlgorithmTypes.FastBipartite, iprint = 1)"
   ]
  },
  {
   "cell_type": "markdown",
   "id": "d7251634-1f10-4dec-a63a-c164f51a717d",
   "metadata": {},
   "source": [
    "### <font color='black'>Applying $\\ket{\\psi^{\\prime}} = (-1)^{\\hat{N}_{R_{1}}}\\ket{\\psi}$</font>"
   ]
  },
  {
   "cell_type": "code",
   "execution_count": 52,
   "id": "b9ddf2d4-b0cd-4395-90d3-c2c794461a49",
   "metadata": {},
   "outputs": [
    {
     "name": "stdout",
     "output_type": "stream",
     "text": [
      "\n",
      "Sweep =    0 | Direction =  forward | BRA bond dimension = 1000 | Noise =  0.00e+00\n",
      "Time elapsed =     21.781 | F = (0.1793373796,0.0000000000) | DW = 3.21068e-18\n",
      "\n",
      "Sweep =    1 | Direction = backward | BRA bond dimension = 1000 | Noise =  0.00e+00\n",
      "Time elapsed =     44.688 | F = (1.0000000000,0.0000000000) | DF = (8.21e-01,0.00e+00) | DW = 4.20089e-18\n",
      "\n",
      "Sweep =    2 | Direction =  forward | BRA bond dimension = 1000 | Noise =  0.00e+00\n",
      "Time elapsed =     67.666 | F = (1.0000000000,0.0000000000) | DF = (1.55e-15,0.00e+00) | DW = 1.47445e-18\n",
      "\n",
      "Sweep =    3 | Direction = backward | BRA bond dimension = 1000 | Noise =  0.00e+00\n",
      "Time elapsed =     90.813 | F = (1.0000000000,0.0000000000) | DF = (-3.33e-16,0.00e+00) | DW = 3.14302e-18\n",
      "\n",
      "Sweep =    4 | Direction =  forward | BRA bond dimension = 1000 | Noise =  0.00e+00\n",
      "Time elapsed =    113.961 | F = (1.0000000000,0.0000000000) | DF = (1.55e-15,0.00e+00) | DW = 1.04803e-18\n",
      "\n"
     ]
    },
    {
     "data": {
      "text/plain": [
       "(0.9999999999999958+0j)"
      ]
     },
     "execution_count": 52,
     "metadata": {},
     "output_type": "execute_result"
    }
   ],
   "source": [
    "# bra = driver.get_random_mps(tag=\"BRA_N1_op\", bond_dim=1000, nroots=1, occs=[1] * params['L'])\n",
    "# bra = driver.get_random_mps(tag=\"BRA_N1_op\", bond_dim=1000, nroots=1, center=mps.center)\n",
    "bra = driver.copy_mps(mps,\"NewKet\")\n",
    "driver.multiply(bra, N1_op, mps, n_sweeps=10, bond_dims=[1000], thrds=[1E-10] * 10, iprint=1)"
   ]
  },
  {
   "cell_type": "markdown",
   "id": "3898c205-3455-4025-acb7-295a4652157f",
   "metadata": {},
   "source": [
    "#### <font color='blue'>Single-particle boson correlations</font>"
   ]
  },
  {
   "cell_type": "markdown",
   "id": "87ec2eae-3b64-4931-aa7d-3a7d560e5da2",
   "metadata": {},
   "source": [
    "##### Calculate"
   ]
  },
  {
   "cell_type": "code",
   "execution_count": 53,
   "id": "31b0e72c-904f-4cfc-a68d-4d1cb22ae1f6",
   "metadata": {},
   "outputs": [
    {
     "name": "stdout",
     "output_type": "stream",
     "text": [
      "Total number = (63.999999999999275+5.642959055868653e-17j)\n",
      "Elapsed time: 31.185844659805298 seconds\n"
     ]
    }
   ],
   "source": [
    "start_time = time.time()\n",
    "\n",
    "bosoncorr_mat = driver.get_npdm(bra, npdm_expr='CD', fermionic_ops='', mask=[0, 1])[0]\n",
    "navg = np.diag(bosoncorr_mat)\n",
    "print(\"Total number =\", sum(navg))\n",
    "\n",
    "end_time = time.time()\n",
    "elapsed_time = end_time - start_time\n",
    "print(f\"Elapsed time: {elapsed_time} seconds\")"
   ]
  },
  {
   "cell_type": "markdown",
   "id": "536eff29-062e-4ee9-b5e9-3cb81c12e688",
   "metadata": {},
   "source": [
    "##### Site occupations"
   ]
  },
  {
   "cell_type": "code",
   "execution_count": 56,
   "id": "13b6cc4c-2924-4427-b2b4-36173ef6d6b8",
   "metadata": {},
   "outputs": [
    {
     "data": {
      "image/png": "[encoded data removed]",
      "text/plain": [
       "<Figure size 640x480 with 1 Axes>"
      ]
     },
     "metadata": {},
     "output_type": "display_data"
    }
   ],
   "source": [
    "navg = np.real(navg)\n",
    "plt.plot(np.arange(params['L']), navg, marker='o')\n",
    "plt.xlabel('Site', fontsize=12)\n",
    "plt.ylabel('Occupation', fontsize=12)\n",
    "plt.show()"
   ]
  },
  {
   "cell_type": "markdown",
   "id": "80bf8bb9-1ab9-4e29-b1fb-a7b8ebd6cd7c",
   "metadata": {},
   "source": [
    "##### Correlation matrix"
   ]
  },
  {
   "cell_type": "code",
   "execution_count": 57,
   "id": "0e86e9a9-0371-4de4-9e7a-fb923a2eb14b",
   "metadata": {},
   "outputs": [
    {
     "data": {
      "image/png": "[encoded data removed]",
      "text/plain": [
       "<Figure size 480x480 with 2 Axes>"
      ]
     },
     "metadata": {},
     "output_type": "display_data"
    }
   ],
   "source": [
    "bosoncorr_mat = np.real(bosoncorr_mat)\n",
    "plt.matshow(bosoncorr_mat, cmap='seismic', vmin=-np.abs(bosoncorr_mat).max(), vmax=np.abs(bosoncorr_mat).max())\n",
    "plt.colorbar()\n",
    "plt.xlabel('Site j', fontsize=12)\n",
    "plt.ylabel('Site i', fontsize=12)\n",
    "plt.title(r'Boson correlation $\\langle \\hat{b}_{i}^{\\dagger} \\hat{b}_{j} \\rangle$')\n",
    "plt.show()"
   ]
  },
  {
   "cell_type": "markdown",
   "id": "da57b486-25d1-4f77-be37-bed71f251cf0",
   "metadata": {},
   "source": [
    "##### Correlation vs distance"
   ]
  },
  {
   "cell_type": "code",
   "execution_count": 58,
   "id": "a885d895-f537-4037-9efb-ff5b09da3a5b",
   "metadata": {},
   "outputs": [
    {
     "data": {
      "image/png": "[encoded data removed]",
      "text/plain": [
       "<Figure size 640x480 with 1 Axes>"
      ]
     },
     "metadata": {},
     "output_type": "display_data"
    }
   ],
   "source": [
    "plt.plot(np.arange(1,params['L']//2+1), bosoncorr_mat[params['L']//2-1,params['L']//2:], marker='o')\n",
    "plt.xlabel('Separation $r$', fontsize=12)\n",
    "plt.ylabel(r'Correlation $\\langle \\hat{b}_{L/2}^{\\dagger} \\hat{b}_{L/2+r} \\rangle$', fontsize=12)\n",
    "plt.yscale('log')\n",
    "plt.xscale('linear')\n",
    "plt.show()"
   ]
  },
  {
   "cell_type": "markdown",
   "id": "2e9f48b4-0960-4bd1-ae2d-340de9cea3a1",
   "metadata": {},
   "source": [
    "### <font color='black'>Time Evolution of $\\ket{\\psi^{\\prime}}$:: $\\ket{\\psi(t)} = e^{-i\\cdot t \\cdot H_{AJJ}}\\ket{\\psi^{\\prime}}$</font>"
   ]
  },
  {
   "cell_type": "code",
   "execution_count": 165,
   "id": "9e0d5faa-99a4-459d-a126-123e20c339c0",
   "metadata": {},
   "outputs": [],
   "source": [
    "params['target_t'] = 0.0"
   ]
  },
  {
   "cell_type": "code",
   "execution_count": 166,
   "id": "205c0a51-2021-4ce0-8015-5d097d9a8bce",
   "metadata": {},
   "outputs": [
    {
     "name": "stdout",
     "output_type": "stream",
     "text": [
      "Time Evolution  DELTA T = RE      0.00000000 + IM      0.10000000\n",
      "Time Evolution TARGET T = RE      0.00000000 + IM      0.00000000\n",
      "Time Evolution   NSTEPS =          0\n"
     ]
    }
   ],
   "source": [
    "bra2 = driver.copy_mps(bra, tag = \"PsiPrime\")\n",
    "bra2 = driver.td_dmrg(mpo = mpo, ket = bra2, delta_t=0.1 * 1j, target_t = params['target_t'] * 1j, final_mps_tag=\"mps3\", bond_dims = [1000], hermitian=True, iprint = 1)"
   ]
  },
  {
   "cell_type": "markdown",
   "id": "51b5b2c0-1771-4783-a2f4-fcb2b3b87222",
   "metadata": {},
   "source": [
    "#### <font color='blue'>Single-particle boson correlations</font>"
   ]
  },
  {
   "cell_type": "markdown",
   "id": "333e97ec-42b1-403e-9be1-fa985a1ca3f8",
   "metadata": {},
   "source": [
    "##### Calculate"
   ]
  },
  {
   "cell_type": "code",
   "execution_count": 167,
   "id": "5deb9cb4-971a-4e2d-a026-78ff51cea6aa",
   "metadata": {},
   "outputs": [
    {
     "name": "stdout",
     "output_type": "stream",
     "text": [
      "Total number = (63.999999999999275+5.642959055868653e-17j)\n",
      "Elapsed time: 30.83879804611206 seconds\n"
     ]
    }
   ],
   "source": [
    "start_time = time.time()\n",
    "\n",
    "bosoncorr_mat = driver.get_npdm(bra2, npdm_expr='CD', fermionic_ops='', mask=[0, 1])[0]\n",
    "navg = np.diag(bosoncorr_mat)\n",
    "print(\"Total number =\", sum(navg))\n",
    "\n",
    "end_time = time.time()\n",
    "elapsed_time = end_time - start_time\n",
    "print(f\"Elapsed time: {elapsed_time} seconds\")"
   ]
  },
  {
   "cell_type": "markdown",
   "id": "43c79a99-0310-4b76-837d-66e7bc5c7ee9",
   "metadata": {},
   "source": [
    "##### Site occupations"
   ]
  },
  {
   "cell_type": "code",
   "execution_count": 168,
   "id": "9d9e2632-76e9-4703-8a1c-1dea42fabad5",
   "metadata": {},
   "outputs": [
    {
     "data": {
      "image/png": "[encoded data removed]",
      "text/plain": [
       "<Figure size 640x480 with 1 Axes>"
      ]
     },
     "metadata": {},
     "output_type": "display_data"
    }
   ],
   "source": [
    "navg = np.real(navg)\n",
    "plt.plot(np.arange(params['L']), navg, marker='o')\n",
    "plt.xlabel('Site', fontsize=12)\n",
    "plt.ylabel('Occupation', fontsize=12)\n",
    "plt.show()"
   ]
  },
  {
   "cell_type": "markdown",
   "id": "dfc9a41b-9941-440e-bbdd-31b572a583df",
   "metadata": {},
   "source": [
    "##### Correlation matrix"
   ]
  },
  {
   "cell_type": "code",
   "execution_count": 169,
   "id": "51b0ddc2-4bfc-4fbd-bd2f-37bc96f6ad5d",
   "metadata": {},
   "outputs": [
    {
     "data": {
      "image/png": "[encoded data removed]",
      "text/plain": [
       "<Figure size 480x480 with 2 Axes>"
      ]
     },
     "metadata": {},
     "output_type": "display_data"
    }
   ],
   "source": [
    "bosoncorr_mat = np.real(bosoncorr_mat)\n",
    "plt.matshow(bosoncorr_mat, cmap='seismic', vmin=-np.abs(bosoncorr_mat).max(), vmax=np.abs(bosoncorr_mat).max())\n",
    "plt.colorbar()\n",
    "plt.xlabel('Site j', fontsize=12)\n",
    "plt.ylabel('Site i', fontsize=12)\n",
    "plt.title(r'Boson correlation $\\langle \\hat{b}_{i}^{\\dagger} \\hat{b}_{j} \\rangle$')\n",
    "plt.show()"
   ]
  },
  {
   "cell_type": "markdown",
   "id": "fd4830c0-f3e0-4a6c-879f-df9a2038ed21",
   "metadata": {},
   "source": [
    "##### Correlation vs distance"
   ]
  },
  {
   "cell_type": "code",
   "execution_count": 170,
   "id": "9c42a578-bb61-402e-8434-6c7e2103136d",
   "metadata": {},
   "outputs": [
    {
     "data": {
      "image/png": "[encoded data removed]",
      "text/plain": [
       "<Figure size 640x480 with 1 Axes>"
      ]
     },
     "metadata": {},
     "output_type": "display_data"
    }
   ],
   "source": [
    "plt.plot(np.arange(1,params['L']//2+1), bosoncorr_mat[params['L']//2-1,params['L']//2:], marker='o')\n",
    "plt.xlabel('Separation $r$', fontsize=12)\n",
    "plt.ylabel(r'Correlation $\\langle \\hat{b}_{L/2}^{\\dagger} \\hat{b}_{L/2+r} \\rangle$', fontsize=12)\n",
    "plt.yscale('log')\n",
    "plt.xscale('linear')\n",
    "plt.show()"
   ]
  },
  {
   "cell_type": "markdown",
   "id": "8098854d-8a98-4bec-b3bd-bcb379e23f6f",
   "metadata": {},
   "source": [
    "### <font color='black'>Expectation Value of $N_{R_{1}} - N_{R_{2}}$ w.r.t $\\psi(t)$</font>"
   ]
  },
  {
   "cell_type": "markdown",
   "id": "36cdcb84-9ea0-432c-83fc-221bdf4799fb",
   "metadata": {},
   "source": [
    "#### <font color='black'>Constructing MPO for $\\hat{N}_{R_{1}}$ and $\\hat{N}_{R_{2}}$ where $\\hat{N}_{R_{j}} = \\sum_{i \\in R_{j}} n_{i}$ where $j \\in {1,2}$</font>"
   ]
  },
  {
   "cell_type": "code",
   "execution_count": 171,
   "id": "74b77a0b-0085-42b3-9dde-4bb5ffadc4c0",
   "metadata": {},
   "outputs": [
    {
     "name": "stdout",
     "output_type": "stream",
     "text": [
      "\n",
      "Build MPO | Nsites =    64 | Nterms =         30 | Algorithm = FastBIP | Cutoff = 1.00e-14\n",
      " Site =     0 /    64 .. Mmpo =     2 DW = 0.00e+00 NNZ =        2 SPT = 0.0000 Tmvc = 0.000 T = 0.000\n",
      " Site =     1 /    64 .. Mmpo =     2 DW = 0.00e+00 NNZ =        3 SPT = 0.2500 Tmvc = 0.000 T = 0.000\n",
      " Site =     2 /    64 .. Mmpo =     2 DW = 0.00e+00 NNZ =        3 SPT = 0.2500 Tmvc = 0.000 T = 0.000\n",
      " Site =     3 /    64 .. Mmpo =     2 DW = 0.00e+00 NNZ =        3 SPT = 0.2500 Tmvc = 0.000 T = 0.000\n",
      " Site =     4 /    64 .. Mmpo =     2 DW = 0.00e+00 NNZ =        3 SPT = 0.2500 Tmvc = 0.000 T = 0.000\n",
      " Site =     5 /    64 .. Mmpo =     2 DW = 0.00e+00 NNZ =        3 SPT = 0.2500 Tmvc = 0.000 T = 0.000\n",
      " Site =     6 /    64 .. Mmpo =     2 DW = 0.00e+00 NNZ =        3 SPT = 0.2500 Tmvc = 0.000 T = 0.001\n",
      " Site =     7 /    64 .. Mmpo =     2 DW = 0.00e+00 NNZ =        3 SPT = 0.2500 Tmvc = 0.000 T = 0.000\n",
      " Site =     8 /    64 .. Mmpo =     2 DW = 0.00e+00 NNZ =        3 SPT = 0.2500 Tmvc = 0.000 T = 0.000\n",
      " Site =     9 /    64 .. Mmpo =     2 DW = 0.00e+00 NNZ =        3 SPT = 0.2500 Tmvc = 0.000 T = 0.000\n",
      " Site =    10 /    64 .. Mmpo =     2 DW = 0.00e+00 NNZ =        3 SPT = 0.2500 Tmvc = 0.000 T = 0.000\n",
      " Site =    11 /    64 .. Mmpo =     2 DW = 0.00e+00 NNZ =        3 SPT = 0.2500 Tmvc = 0.000 T = 0.000\n",
      " Site =    12 /    64 .. Mmpo =     2 DW = 0.00e+00 NNZ =        3 SPT = 0.2500 Tmvc = 0.000 T = 0.000\n",
      " Site =    13 /    64 .. Mmpo =     2 DW = 0.00e+00 NNZ =        3 SPT = 0.2500 Tmvc = 0.000 T = 0.000\n",
      " Site =    14 /    64 .. Mmpo =     2 DW = 0.00e+00 NNZ =        3 SPT = 0.2500 Tmvc = 0.000 T = 0.000\n",
      " Site =    15 /    64 .. Mmpo =     2 DW = 0.00e+00 NNZ =        3 SPT = 0.2500 Tmvc = 0.000 T = 0.000\n",
      " Site =    16 /    64 .. Mmpo =     2 DW = 0.00e+00 NNZ =        3 SPT = 0.2500 Tmvc = 0.000 T = 0.000\n",
      " Site =    17 /    64 .. Mmpo =     2 DW = 0.00e+00 NNZ =        3 SPT = 0.2500 Tmvc = 0.000 T = 0.000\n",
      " Site =    18 /    64 .. Mmpo =     2 DW = 0.00e+00 NNZ =        3 SPT = 0.2500 Tmvc = 0.000 T = 0.000\n",
      " Site =    19 /    64 .. Mmpo =     2 DW = 0.00e+00 NNZ =        3 SPT = 0.2500 Tmvc = 0.000 T = 0.000\n",
      " Site =    20 /    64 .. Mmpo =     2 DW = 0.00e+00 NNZ =        3 SPT = 0.2500 Tmvc = 0.000 T = 0.000\n",
      " Site =    21 /    64 .. Mmpo =     2 DW = 0.00e+00 NNZ =        3 SPT = 0.2500 Tmvc = 0.000 T = 0.000\n",
      " Site =    22 /    64 .. Mmpo =     2 DW = 0.00e+00 NNZ =        3 SPT = 0.2500 Tmvc = 0.000 T = 0.000\n",
      " Site =    23 /    64 .. Mmpo =     2 DW = 0.00e+00 NNZ =        3 SPT = 0.2500 Tmvc = 0.000 T = 0.001\n",
      " Site =    24 /    64 .. Mmpo =     2 DW = 0.00e+00 NNZ =        3 SPT = 0.2500 Tmvc = 0.000 T = 0.000\n",
      " Site =    25 /    64 .. Mmpo =     2 DW = 0.00e+00 NNZ =        3 SPT = 0.2500 Tmvc = 0.000 T = 0.000\n",
      " Site =    26 /    64 .. Mmpo =     2 DW = 0.00e+00 NNZ =        3 SPT = 0.2500 Tmvc = 0.000 T = 0.000\n",
      " Site =    27 /    64 .. Mmpo =     2 DW = 0.00e+00 NNZ =        3 SPT = 0.2500 Tmvc = 0.000 T = 0.000\n",
      " Site =    28 /    64 .. Mmpo =     2 DW = 0.00e+00 NNZ =        3 SPT = 0.2500 Tmvc = 0.000 T = 0.000\n",
      " Site =    29 /    64 .. Mmpo =     1 DW = 0.00e+00 NNZ =        2 SPT = 0.0000 Tmvc = 0.000 T = 0.000\n",
      " Site =    30 /    64 .. Mmpo =     1 DW = 0.00e+00 NNZ =        1 SPT = 0.0000 Tmvc = 0.000 T = 0.001\n",
      " Site =    31 /    64 .. Mmpo =     1 DW = 0.00e+00 NNZ =        1 SPT = 0.0000 Tmvc = 0.000 T = 0.000\n",
      " Site =    32 /    64 .. Mmpo =     1 DW = 0.00e+00 NNZ =        1 SPT = 0.0000 Tmvc = 0.000 T = 0.000\n",
      " Site =    33 /    64 .. Mmpo =     1 DW = 0.00e+00 NNZ =        1 SPT = 0.0000 Tmvc = 0.000 T = 0.000\n",
      " Site =    34 /    64 .. Mmpo =     1 DW = 0.00e+00 NNZ =        1 SPT = 0.0000 Tmvc = 0.000 T = 0.000\n",
      " Site =    35 /    64 .. Mmpo =     1 DW = 0.00e+00 NNZ =        1 SPT = 0.0000 Tmvc = 0.000 T = 0.000\n",
      " Site =    36 /    64 .. Mmpo =     1 DW = 0.00e+00 NNZ =        1 SPT = 0.0000 Tmvc = 0.000 T = 0.000\n",
      " Site =    37 /    64 .. Mmpo =     1 DW = 0.00e+00 NNZ =        1 SPT = 0.0000 Tmvc = 0.000 T = 0.000\n",
      " Site =    38 /    64 .. Mmpo =     1 DW = 0.00e+00 NNZ =        1 SPT = 0.0000 Tmvc = 0.000 T = 0.000\n",
      " Site =    39 /    64 .. Mmpo =     1 DW = 0.00e+00 NNZ =        1 SPT = 0.0000 Tmvc = 0.000 T = 0.000\n",
      " Site =    40 /    64 .. Mmpo =     1 DW = 0.00e+00 NNZ =        1 SPT = 0.0000 Tmvc = 0.000 T = 0.000\n",
      " Site =    41 /    64 .. Mmpo =     1 DW = 0.00e+00 NNZ =        1 SPT = 0.0000 Tmvc = 0.000 T = 0.000\n",
      " Site =    42 /    64 .. Mmpo =     1 DW = 0.00e+00 NNZ =        1 SPT = 0.0000 Tmvc = 0.000 T = 0.000\n",
      " Site =    43 /    64 .. Mmpo =     1 DW = 0.00e+00 NNZ =        1 SPT = 0.0000 Tmvc = 0.000 T = 0.000\n",
      " Site =    44 /    64 .. Mmpo =     1 DW = 0.00e+00 NNZ =        1 SPT = 0.0000 Tmvc = 0.000 T = 0.000\n",
      " Site =    45 /    64 .. Mmpo =     1 DW = 0.00e+00 NNZ =        1 SPT = 0.0000 Tmvc = 0.000 T = 0.000\n",
      " Site =    46 /    64 .. Mmpo =     1 DW = 0.00e+00 NNZ =        1 SPT = 0.0000 Tmvc = 0.000 T = 0.000\n",
      " Site =    47 /    64 .. Mmpo =     1 DW = 0.00e+00 NNZ =        1 SPT = 0.0000 Tmvc = 0.000 T = 0.000\n",
      " Site =    48 /    64 .. Mmpo =     1 DW = 0.00e+00 NNZ =        1 SPT = 0.0000 Tmvc = 0.000 T = 0.000\n",
      " Site =    49 /    64 .. Mmpo =     1 DW = 0.00e+00 NNZ =        1 SPT = 0.0000 Tmvc = 0.000 T = 0.000\n",
      " Site =    50 /    64 .. Mmpo =     1 DW = 0.00e+00 NNZ =        1 SPT = 0.0000 Tmvc = 0.000 T = 0.000\n",
      " Site =    51 /    64 .. Mmpo =     1 DW = 0.00e+00 NNZ =        1 SPT = 0.0000 Tmvc = 0.000 T = 0.000\n",
      " Site =    52 /    64 .. Mmpo =     1 DW = 0.00e+00 NNZ =        1 SPT = 0.0000 Tmvc = 0.000 T = 0.000\n",
      " Site =    53 /    64 .. Mmpo =     1 DW = 0.00e+00 NNZ =        1 SPT = 0.0000 Tmvc = 0.000 T = 0.000\n",
      " Site =    54 /    64 .. Mmpo =     1 DW = 0.00e+00 NNZ =        1 SPT = 0.0000 Tmvc = 0.000 T = 0.000\n",
      " Site =    55 /    64 .. Mmpo =     1 DW = 0.00e+00 NNZ =        1 SPT = 0.0000 Tmvc = 0.000 T = 0.000\n",
      " Site =    56 /    64 .. Mmpo =     1 DW = 0.00e+00 NNZ =        1 SPT = 0.0000 Tmvc = 0.000 T = 0.000\n",
      " Site =    57 /    64 .. Mmpo =     1 DW = 0.00e+00 NNZ =        1 SPT = 0.0000 Tmvc = 0.000 T = 0.000\n",
      " Site =    58 /    64 .. Mmpo =     1 DW = 0.00e+00 NNZ =        1 SPT = 0.0000 Tmvc = 0.000 T = 0.000\n",
      " Site =    59 /    64 .. Mmpo =     1 DW = 0.00e+00 NNZ =        1 SPT = 0.0000 Tmvc = 0.000 T = 0.000\n",
      " Site =    60 /    64 .. Mmpo =     1 DW = 0.00e+00 NNZ =        1 SPT = 0.0000 Tmvc = 0.000 T = 0.000\n",
      " Site =    61 /    64 .. Mmpo =     1 DW = 0.00e+00 NNZ =        1 SPT = 0.0000 Tmvc = 0.000 T = 0.000\n",
      " Site =    62 /    64 .. Mmpo =     1 DW = 0.00e+00 NNZ =        1 SPT = 0.0000 Tmvc = 0.000 T = 0.001\n",
      " Site =    63 /    64 .. Mmpo =     1 DW = 0.00e+00 NNZ =        1 SPT = 0.0000 Tmvc = 0.000 T = 0.000\n",
      "Ttotal =      0.021 Tmvc-total = 0.000 MPO bond dimension =     2 MaxDW = 0.00e+00\n",
      "NNZ =          122 SIZE =          150 SPT = 0.1867\n",
      "\n",
      "Rank =     0 Ttotal =      0.041 MPO method = FastBipartite bond dimension =       2 NNZ =          122 SIZE =          150 SPT = 0.1867\n"
     ]
    }
   ],
   "source": [
    "b_n1 = driver.expr_builder()\n",
    "lst_index_L1 = list(range(params['L1']))\n",
    "b_n1.add_term(\"N\", lst_index_L1, 1)\n",
    "N1_op2 = driver.get_mpo(b_n1.finalize(adjust_order=True, fermionic_ops=\"\"), algo_type=MPOAlgorithmTypes.FastBipartite, iprint = 1)"
   ]
  },
  {
   "cell_type": "code",
   "execution_count": 172,
   "id": "b454a6f7-65f9-45ec-881a-cf021debd788",
   "metadata": {},
   "outputs": [
    {
     "name": "stdout",
     "output_type": "stream",
     "text": [
      "\n",
      "Build MPO | Nsites =    64 | Nterms =         30 | Algorithm = FastBIP | Cutoff = 1.00e-14\n",
      " Site =     0 /    64 .. Mmpo =     1 DW = 0.00e+00 NNZ =        1 SPT = 0.0000 Tmvc = 0.000 T = 0.000\n",
      " Site =     1 /    64 .. Mmpo =     1 DW = 0.00e+00 NNZ =        1 SPT = 0.0000 Tmvc = 0.000 T = 0.000\n",
      " Site =     2 /    64 .. Mmpo =     1 DW = 0.00e+00 NNZ =        1 SPT = 0.0000 Tmvc = 0.000 T = 0.000\n",
      " Site =     3 /    64 .. Mmpo =     1 DW = 0.00e+00 NNZ =        1 SPT = 0.0000 Tmvc = 0.000 T = 0.000\n",
      " Site =     4 /    64 .. Mmpo =     1 DW = 0.00e+00 NNZ =        1 SPT = 0.0000 Tmvc = 0.000 T = 0.000\n",
      " Site =     5 /    64 .. Mmpo =     1 DW = 0.00e+00 NNZ =        1 SPT = 0.0000 Tmvc = 0.000 T = 0.000\n",
      " Site =     6 /    64 .. Mmpo =     1 DW = 0.00e+00 NNZ =        1 SPT = 0.0000 Tmvc = 0.000 T = 0.000\n",
      " Site =     7 /    64 .. Mmpo =     1 DW = 0.00e+00 NNZ =        1 SPT = 0.0000 Tmvc = 0.000 T = 0.000\n",
      " Site =     8 /    64 .. Mmpo =     1 DW = 0.00e+00 NNZ =        1 SPT = 0.0000 Tmvc = 0.000 T = 0.000\n",
      " Site =     9 /    64 .. Mmpo =     1 DW = 0.00e+00 NNZ =        1 SPT = 0.0000 Tmvc = 0.000 T = 0.000\n",
      " Site =    10 /    64 .. Mmpo =     1 DW = 0.00e+00 NNZ =        1 SPT = 0.0000 Tmvc = 0.000 T = 0.000\n",
      " Site =    11 /    64 .. Mmpo =     1 DW = 0.00e+00 NNZ =        1 SPT = 0.0000 Tmvc = 0.000 T = 0.000\n",
      " Site =    12 /    64 .. Mmpo =     1 DW = 0.00e+00 NNZ =        1 SPT = 0.0000 Tmvc = 0.000 T = 0.000\n",
      " Site =    13 /    64 .. Mmpo =     1 DW = 0.00e+00 NNZ =        1 SPT = 0.0000 Tmvc = 0.000 T = 0.002\n",
      " Site =    14 /    64 .. Mmpo =     1 DW = 0.00e+00 NNZ =        1 SPT = 0.0000 Tmvc = 0.000 T = 0.000\n",
      " Site =    15 /    64 .. Mmpo =     1 DW = 0.00e+00 NNZ =        1 SPT = 0.0000 Tmvc = 0.000 T = 0.000\n",
      " Site =    16 /    64 .. Mmpo =     1 DW = 0.00e+00 NNZ =        1 SPT = 0.0000 Tmvc = 0.000 T = 0.000\n",
      " Site =    17 /    64 .. Mmpo =     1 DW = 0.00e+00 NNZ =        1 SPT = 0.0000 Tmvc = 0.000 T = 0.000\n",
      " Site =    18 /    64 .. Mmpo =     1 DW = 0.00e+00 NNZ =        1 SPT = 0.0000 Tmvc = 0.000 T = 0.001\n",
      " Site =    19 /    64 .. Mmpo =     1 DW = 0.00e+00 NNZ =        1 SPT = 0.0000 Tmvc = 0.000 T = 0.000\n",
      " Site =    20 /    64 .. Mmpo =     1 DW = 0.00e+00 NNZ =        1 SPT = 0.0000 Tmvc = 0.000 T = 0.000\n",
      " Site =    21 /    64 .. Mmpo =     1 DW = 0.00e+00 NNZ =        1 SPT = 0.0000 Tmvc = 0.000 T = 0.000\n",
      " Site =    22 /    64 .. Mmpo =     1 DW = 0.00e+00 NNZ =        1 SPT = 0.0000 Tmvc = 0.000 T = 0.000\n",
      " Site =    23 /    64 .. Mmpo =     1 DW = 0.00e+00 NNZ =        1 SPT = 0.0000 Tmvc = 0.000 T = 0.000\n",
      " Site =    24 /    64 .. Mmpo =     1 DW = 0.00e+00 NNZ =        1 SPT = 0.0000 Tmvc = 0.000 T = 0.000\n",
      " Site =    25 /    64 .. Mmpo =     1 DW = 0.00e+00 NNZ =        1 SPT = 0.0000 Tmvc = 0.000 T = 0.000\n",
      " Site =    26 /    64 .. Mmpo =     1 DW = 0.00e+00 NNZ =        1 SPT = 0.0000 Tmvc = 0.000 T = 0.000\n",
      " Site =    27 /    64 .. Mmpo =     1 DW = 0.00e+00 NNZ =        1 SPT = 0.0000 Tmvc = 0.000 T = 0.000\n",
      " Site =    28 /    64 .. Mmpo =     1 DW = 0.00e+00 NNZ =        1 SPT = 0.0000 Tmvc = 0.000 T = 0.000\n",
      " Site =    29 /    64 .. Mmpo =     1 DW = 0.00e+00 NNZ =        1 SPT = 0.0000 Tmvc = 0.000 T = 0.000\n",
      " Site =    30 /    64 .. Mmpo =     1 DW = 0.00e+00 NNZ =        1 SPT = 0.0000 Tmvc = 0.000 T = 0.000\n",
      " Site =    31 /    64 .. Mmpo =     1 DW = 0.00e+00 NNZ =        1 SPT = 0.0000 Tmvc = 0.000 T = 0.000\n",
      " Site =    32 /    64 .. Mmpo =     1 DW = 0.00e+00 NNZ =        1 SPT = 0.0000 Tmvc = 0.000 T = 0.000\n",
      " Site =    33 /    64 .. Mmpo =     1 DW = 0.00e+00 NNZ =        1 SPT = 0.0000 Tmvc = 0.000 T = 0.000\n",
      " Site =    34 /    64 .. Mmpo =     2 DW = 0.00e+00 NNZ =        2 SPT = 0.0000 Tmvc = 0.000 T = 0.000\n",
      " Site =    35 /    64 .. Mmpo =     2 DW = 0.00e+00 NNZ =        3 SPT = 0.2500 Tmvc = 0.000 T = 0.000\n",
      " Site =    36 /    64 .. Mmpo =     2 DW = 0.00e+00 NNZ =        3 SPT = 0.2500 Tmvc = 0.000 T = 0.000\n",
      " Site =    37 /    64 .. Mmpo =     2 DW = 0.00e+00 NNZ =        3 SPT = 0.2500 Tmvc = 0.000 T = 0.000\n",
      " Site =    38 /    64 .. Mmpo =     2 DW = 0.00e+00 NNZ =        3 SPT = 0.2500 Tmvc = 0.000 T = 0.000\n",
      " Site =    39 /    64 .. Mmpo =     2 DW = 0.00e+00 NNZ =        3 SPT = 0.2500 Tmvc = 0.000 T = 0.000\n",
      " Site =    40 /    64 .. Mmpo =     2 DW = 0.00e+00 NNZ =        3 SPT = 0.2500 Tmvc = 0.000 T = 0.000\n",
      " Site =    41 /    64 .. Mmpo =     2 DW = 0.00e+00 NNZ =        3 SPT = 0.2500 Tmvc = 0.000 T = 0.000\n",
      " Site =    42 /    64 .. Mmpo =     2 DW = 0.00e+00 NNZ =        3 SPT = 0.2500 Tmvc = 0.000 T = 0.000\n",
      " Site =    43 /    64 .. Mmpo =     2 DW = 0.00e+00 NNZ =        3 SPT = 0.2500 Tmvc = 0.000 T = 0.000\n",
      " Site =    44 /    64 .. Mmpo =     2 DW = 0.00e+00 NNZ =        3 SPT = 0.2500 Tmvc = 0.000 T = 0.000\n",
      " Site =    45 /    64 .. Mmpo =     2 DW = 0.00e+00 NNZ =        3 SPT = 0.2500 Tmvc = 0.000 T = 0.000\n",
      " Site =    46 /    64 .. Mmpo =     2 DW = 0.00e+00 NNZ =        3 SPT = 0.2500 Tmvc = 0.000 T = 0.000\n",
      " Site =    47 /    64 .. Mmpo =     2 DW = 0.00e+00 NNZ =        3 SPT = 0.2500 Tmvc = 0.000 T = 0.000\n",
      " Site =    48 /    64 .. Mmpo =     2 DW = 0.00e+00 NNZ =        3 SPT = 0.2500 Tmvc = 0.000 T = 0.000\n",
      " Site =    49 /    64 .. Mmpo =     2 DW = 0.00e+00 NNZ =        3 SPT = 0.2500 Tmvc = 0.000 T = 0.000\n",
      " Site =    50 /    64 .. Mmpo =     2 DW = 0.00e+00 NNZ =        3 SPT = 0.2500 Tmvc = 0.000 T = 0.000\n",
      " Site =    51 /    64 .. Mmpo =     2 DW = 0.00e+00 NNZ =        3 SPT = 0.2500 Tmvc = 0.000 T = 0.000\n",
      " Site =    52 /    64 .. Mmpo =     2 DW = 0.00e+00 NNZ =        3 SPT = 0.2500 Tmvc = 0.000 T = 0.000\n",
      " Site =    53 /    64 .. Mmpo =     2 DW = 0.00e+00 NNZ =        3 SPT = 0.2500 Tmvc = 0.000 T = 0.000\n",
      " Site =    54 /    64 .. Mmpo =     2 DW = 0.00e+00 NNZ =        3 SPT = 0.2500 Tmvc = 0.000 T = 0.000\n",
      " Site =    55 /    64 .. Mmpo =     2 DW = 0.00e+00 NNZ =        3 SPT = 0.2500 Tmvc = 0.000 T = 0.000\n",
      " Site =    56 /    64 .. Mmpo =     2 DW = 0.00e+00 NNZ =        3 SPT = 0.2500 Tmvc = 0.000 T = 0.000\n",
      " Site =    57 /    64 .. Mmpo =     2 DW = 0.00e+00 NNZ =        3 SPT = 0.2500 Tmvc = 0.000 T = 0.000\n",
      " Site =    58 /    64 .. Mmpo =     2 DW = 0.00e+00 NNZ =        3 SPT = 0.2500 Tmvc = 0.000 T = 0.000\n",
      " Site =    59 /    64 .. Mmpo =     2 DW = 0.00e+00 NNZ =        3 SPT = 0.2500 Tmvc = 0.000 T = 0.000\n",
      " Site =    60 /    64 .. Mmpo =     2 DW = 0.00e+00 NNZ =        3 SPT = 0.2500 Tmvc = 0.000 T = 0.000\n",
      " Site =    61 /    64 .. Mmpo =     2 DW = 0.00e+00 NNZ =        3 SPT = 0.2500 Tmvc = 0.000 T = 0.000\n",
      " Site =    62 /    64 .. Mmpo =     2 DW = 0.00e+00 NNZ =        3 SPT = 0.2500 Tmvc = 0.000 T = 0.000\n",
      " Site =    63 /    64 .. Mmpo =     1 DW = 0.00e+00 NNZ =        2 SPT = 0.0000 Tmvc = 0.000 T = 0.000\n",
      "Ttotal =      0.020 Tmvc-total = 0.000 MPO bond dimension =     2 MaxDW = 0.00e+00\n",
      "NNZ =          122 SIZE =          150 SPT = 0.1867\n",
      "\n",
      "Rank =     0 Ttotal =      0.044 MPO method = FastBipartite bond dimension =       2 NNZ =          122 SIZE =          150 SPT = 0.1867\n"
     ]
    }
   ],
   "source": [
    "b_n2 = driver.expr_builder()\n",
    "lst_index_L2 = list(range(params['L2'], params['L3']))\n",
    "b_n2.add_term(\"N\", lst_index_L2, 1)\n",
    "N2_op = driver.get_mpo(b_n2.finalize(adjust_order=True, fermionic_ops=\"\"), algo_type=MPOAlgorithmTypes.FastBipartite, iprint = 1)"
   ]
  },
  {
   "cell_type": "markdown",
   "id": "7cca3ec1-10dc-473d-a409-cd327a4f009b",
   "metadata": {},
   "source": [
    "#### <font color='black'>Expectation Value</font>"
   ]
  },
  {
   "cell_type": "code",
   "execution_count": 173,
   "id": "f00dee4d-baa4-4a7c-ae74-c63e33f3f287",
   "metadata": {},
   "outputs": [],
   "source": [
    "# n1n2diff_exp = []"
   ]
  },
  {
   "cell_type": "code",
   "execution_count": 174,
   "id": "86a8b3f5-6c9f-4873-b459-64fadd9d4c0a",
   "metadata": {},
   "outputs": [],
   "source": [
    "impo = driver.get_identity_mpo()\n",
    "\n",
    "n1_op_exp = driver.expectation(bra2, N1_op2, bra2) / driver.expectation(bra2, impo, bra2)\n",
    "\n",
    "n2_op_exp = driver.expectation(bra2, N2_op, bra2) / driver.expectation(bra2, impo, bra2)"
   ]
  },
  {
   "cell_type": "code",
   "execution_count": 175,
   "id": "1a8d94fc-d2df-444a-8ab0-4869b55cc826",
   "metadata": {},
   "outputs": [],
   "source": [
    "n1n2diff_exp.append(n1_op_exp - n2_op_exp)"
   ]
  },
  {
   "cell_type": "markdown",
   "id": "67bf190f-fa98-4b42-8d3c-35a636b67fba",
   "metadata": {},
   "source": [
    "#### <font color='black'>Data of $\\bra{\\psi(t)} N_{R_{1}} - N_{R_{2}}\\ket{\\psi(t)}$</font>"
   ]
  },
  {
   "cell_type": "code",
   "execution_count": 176,
   "id": "8570534e-73dd-45ec-babe-3135cbffadd0",
   "metadata": {},
   "outputs": [
    {
     "name": "stdout",
     "output_type": "stream",
     "text": [
      "Dataset '0.0_n1n2diff_exp' created.\n",
      "List appended to HDF5 file.\n"
     ]
    }
   ],
   "source": [
    "with h5py.File('my_data.h5', 'a') as f:\n",
    "    dataset_name = f'{params['target_t']}_n1n2diff_exp'  # Name the dataset uniquely to avoid conflicts\n",
    "    if dataset_name in f:\n",
    "        print(f\"Dataset '{dataset_name}' already exists.\")\n",
    "    else:\n",
    "        f.create_dataset(dataset_name, data=[n1_op_exp - n2_op_exp])\n",
    "        print(f\"Dataset '{dataset_name}' created.\")\n",
    "\n",
    "print(\"List appended to HDF5 file.\")\n"
   ]
  },
  {
   "cell_type": "code",
   "execution_count": 177,
   "id": "8b6cbdc3-61e3-435c-a046-19a374d9ab2e",
   "metadata": {},
   "outputs": [
    {
     "name": "stdout",
     "output_type": "stream",
     "text": [
      "Dataset: 0.0_n1n2diff_exp\n",
      "Data: [2.47892373e-08-9.01071469e-17j]\n",
      "Dataset: 0.1_n1n2diff_exp\n",
      "Data: [0.00778834-1.16583897e-16j]\n",
      "Dataset: 0.2_n1n2diff_exp\n",
      "Data: [0.03399258+8.59352612e-15j]\n",
      "Dataset: 0.3_n1n2diff_exp\n",
      "Data: [0.07823029+4.43084169e-15j]\n",
      "Dataset: 0.9_n1n2diff_exp\n",
      "Data: [0.19428449-9.03723259e-15j]\n",
      "Dataset: 0_n1n2diff_exp\n",
      "Data: [2.47892373e-08-9.01071469e-17j]\n",
      "Dataset: 1.1_n1n2diff_exp\n",
      "Data: [0.18767816-4.36681792e-15j]\n",
      "Dataset: 1_n1n2diff_exp\n",
      "Data: [0.18023074-2.48582008e-14j]\n"
     ]
    }
   ],
   "source": [
    "with h5py.File('my_data.h5', 'r') as f:\n",
    "    # Print all dataset names in the file\n",
    "    for name in f:\n",
    "        print(f\"Dataset: {name}\")\n",
    "        print(\"Data:\", f[name][:])\n"
   ]
  },
  {
   "cell_type": "code",
   "execution_count": 164,
   "id": "f26e63a7-e7c1-44da-9569-104321b5af63",
   "metadata": {},
   "outputs": [
    {
     "name": "stdout",
     "output_type": "stream",
     "text": [
      "[(0.18023073507043819-2.485820080869904e-14j), (0.007788336327493539-1.1658389684688993e-16j), (0.03399257827400248+8.593526120361154e-15j), (0.07823029347923338+4.430841688015311e-15j), (0.19428448620615058-9.037232594348457e-15j), (0.1876781590296659-4.366817919674194e-15j), (2.4789237329514435e-08-9.010714687310564e-17j)]\n"
     ]
    }
   ],
   "source": [
    "print(n1n2diff_exp)"
   ]
  },
  {
   "cell_type": "markdown",
   "id": "a6341d20-8954-471e-aaed-adcacfe9ae40",
   "metadata": {
    "jp-MarkdownHeadingCollapsed": true
   },
   "source": [
    "## <font color='blue'>Entanglement</font>"
   ]
  },
  {
   "cell_type": "code",
   "execution_count": null,
   "id": "90611a1e-0b60-4031-98bf-90a7ad848621",
   "metadata": {},
   "outputs": [],
   "source": [
    "SvN = driver.get_bipartite_entanglement()\n",
    "\n",
    "plt.plot(np.arange(1,params['L']), SvN, marker='o')\n",
    "plt.xlabel('Bond', fontsize=12)\n",
    "plt.ylabel('Entanglement entropy', fontsize=12)\n",
    "plt.show()"
   ]
  },
  {
   "cell_type": "markdown",
   "id": "fa2fd9e8-1134-47bb-ac50-8155985dbc83",
   "metadata": {},
   "source": [
    "### Calculate"
   ]
  },
  {
   "cell_type": "code",
   "execution_count": null,
   "id": "97ef3a59-e55f-4041-b4e4-082682102057",
   "metadata": {},
   "outputs": [],
   "source": [
    "start_time = time.time()\n",
    "\n",
    "bosoncorr_mat = driver.get_npdm(mps, npdm_expr='CD', fermionic_ops='', mask=[0, 1])[0]\n",
    "navg = np.diag(bosoncorr_mat)\n",
    "print(\"Total number =\", sum(navg))\n",
    "\n",
    "end_time = time.time()\n",
    "elapsed_time = end_time - start_time\n",
    "print(f\"Elapsed time: {elapsed_time} seconds\")"
   ]
  },
  {
   "cell_type": "markdown",
   "id": "caa544a1-b3bd-431c-a09b-ec8e03a835ff",
   "metadata": {},
   "source": [
    "### Site occupations"
   ]
  },
  {
   "cell_type": "code",
   "execution_count": null,
   "id": "781ae437-2b57-4f82-8680-99d1a624cc52",
   "metadata": {},
   "outputs": [],
   "source": [
    "plt.plot(np.arange(params['L']), navg, marker='o')\n",
    "plt.xlabel('Site', fontsize=12)\n",
    "plt.ylabel('Occupation', fontsize=12)\n",
    "plt.show()"
   ]
  },
  {
   "cell_type": "markdown",
   "id": "f5eaccaf-1a30-4444-a379-9e78adcf08ab",
   "metadata": {},
   "source": [
    "### Correlation matrix"
   ]
  },
  {
   "cell_type": "code",
   "execution_count": null,
   "id": "98b0a3ca-7aa9-4a3d-9342-c8e22c78597a",
   "metadata": {},
   "outputs": [],
   "source": [
    "plt.matshow(bosoncorr_mat, cmap='viridis', vmin=bosoncorr_mat.min(), vmax=bosoncorr_mat.max())\n",
    "plt.colorbar()\n",
    "plt.xlabel('Site j', fontsize=12)\n",
    "plt.ylabel('Site i', fontsize=12)\n",
    "plt.title(r'Boson correlation $\\langle \\hat{b}_{i}^{\\dagger} \\hat{b}_{j} \\rangle$')\n",
    "plt.show()"
   ]
  },
  {
   "cell_type": "markdown",
   "id": "e1ea71cc-d349-43e6-a2f8-d9d9cc801f96",
   "metadata": {},
   "source": [
    "### Correlation vs distance"
   ]
  },
  {
   "cell_type": "code",
   "execution_count": null,
   "id": "881e4227-8349-45aa-8e30-b9cc50b3b75e",
   "metadata": {},
   "outputs": [],
   "source": [
    "plt.plot(np.arange(1,params['L']//2+1), bosoncorr_mat[params['L']//2-1,params['L']//2:], marker='o')\n",
    "plt.xlabel('Separation $r$', fontsize=12)\n",
    "plt.ylabel(r'Correlation $\\langle \\hat{b}_{L/2}^{\\dagger} \\hat{b}_{L/2+r} \\rangle$', fontsize=12)\n",
    "plt.yscale('log')\n",
    "plt.xscale('linear')\n",
    "plt.show()"
   ]
  },
  {
   "cell_type": "markdown",
   "id": "5774a000-e34a-4e62-a879-0edcc4885c6c",
   "metadata": {
    "jp-MarkdownHeadingCollapsed": true
   },
   "source": [
    "## <font color='blue'>On-site number distribution</font>"
   ]
  },
  {
   "cell_type": "markdown",
   "id": "05d1d14f-dccf-4f84-90d8-9a5e8e308e3e",
   "metadata": {},
   "source": [
    "### Calculate"
   ]
  },
  {
   "cell_type": "code",
   "execution_count": null,
   "id": "2681e1f0-5a32-4e93-9525-651c7088f0e7",
   "metadata": {},
   "outputs": [],
   "source": [
    "start_time = time.time()\n",
    "\n",
    "ndist = np.array(driver.get_npdm(mps, npdm_expr=proj_keys, fermionic_ops='')).T\n",
    "print(\"Deviation from unit filling =\", np.linalg.norm([ndist[i].sum()-1 for i in range(params['L'])]))\n",
    "\n",
    "end_time = time.time()\n",
    "elapsed_time = end_time - start_time\n",
    "print(f\"Elapsed time: {elapsed_time} seconds\")"
   ]
  },
  {
   "cell_type": "markdown",
   "id": "e95d9604-e00f-4090-b412-17e752bb3fef",
   "metadata": {},
   "source": [
    "### Site-averaged number distribution"
   ]
  },
  {
   "cell_type": "code",
   "execution_count": null,
   "id": "c14edb1b-4542-4613-9bfb-3c707c801a0b",
   "metadata": {},
   "outputs": [],
   "source": [
    "plt.plot(np.mean(ndist, axis=0), marker='o')\n",
    "plt.xlabel('$n$', fontsize=12)\n",
    "plt.ylabel('Site-avgd distribution $p(n)$', fontsize=12)\n",
    "plt.yscale('linear')\n",
    "plt.show()"
   ]
  },
  {
   "cell_type": "markdown",
   "id": "d26508e7-b615-47f6-8ad8-7433347dec4c",
   "metadata": {},
   "source": [
    "### Number fluctuation"
   ]
  },
  {
   "cell_type": "code",
   "execution_count": null,
   "id": "58f62821-e90e-4c03-a557-f70a2ea003f6",
   "metadata": {},
   "outputs": [],
   "source": [
    "nsqavg = np.array([np.dot(np.arange(params['nmax']+1)**2, ndist[i]) for i in range(params['L'])])\n",
    "numfluc = np.sqrt(nsqavg - navg*navg)\n",
    "plt.plot(np.arange(params['L']), numfluc, marker='o')\n",
    "plt.xlabel('Site', fontsize=12)\n",
    "plt.ylabel('Number fluctuation', fontsize=12)\n",
    "plt.title(f\"Avg = {np.mean(numfluc)}\")\n",
    "plt.show()"
   ]
  },
  {
   "cell_type": "markdown",
   "id": "f01eb5c3-d111-4073-9186-985553e349d4",
   "metadata": {},
   "source": [
    "### Calculate"
   ]
  },
  {
   "cell_type": "code",
   "execution_count": null,
   "id": "7599b1f8-d939-4bd6-b70d-38b085bb564b",
   "metadata": {},
   "outputs": [],
   "source": [
    "start_time = time.time()\n",
    "\n",
    "nnexp_mat = driver.get_npdm(mps, npdm_expr='CDCD', fermionic_ops='', mask=[0, 0, 1, 1])[0]\n",
    "densitycorr_mat = nnexp_mat - np.outer(navg, navg)\n",
    "print(\"Avg number fluctuation =\", np.mean(np.sqrt(np.diag(densitycorr_mat))))\n",
    "\n",
    "end_time = time.time()\n",
    "elapsed_time = end_time - start_time\n",
    "print(f\"Elapsed time: {elapsed_time} seconds\")"
   ]
  },
  {
   "cell_type": "markdown",
   "id": "5b44731d-69e8-4872-8ab1-dd6c445f4941",
   "metadata": {},
   "source": [
    "### Correlation matrix"
   ]
  },
  {
   "cell_type": "code",
   "execution_count": null,
   "id": "c8b83ca3-2064-4aa8-9cb7-71a5e4c6c399",
   "metadata": {},
   "outputs": [],
   "source": [
    "plt.matshow(densitycorr_mat, cmap='seismic', vmin=-np.abs(densitycorr_mat).max(), vmax=np.abs(densitycorr_mat).max())\n",
    "plt.colorbar()\n",
    "plt.xlabel('Site j', fontsize=12)\n",
    "plt.ylabel('Site i', fontsize=12)\n",
    "plt.title(r'Density correlation $\\langle \\hat{n}_{i}, \\hat{n}_{j} \\rangle$')\n",
    "plt.show()"
   ]
  },
  {
   "cell_type": "markdown",
   "id": "90e93cf9-9cd2-44a1-979b-a394b2ef27d7",
   "metadata": {},
   "source": [
    "### Correlation vs distance"
   ]
  },
  {
   "cell_type": "code",
   "execution_count": null,
   "id": "c7b81941-dc79-4a23-ba1d-c17b3fa75e02",
   "metadata": {},
   "outputs": [],
   "source": [
    "plt.plot(np.arange(1,params['L']//2+1), -densitycorr_mat[params['L']//2-1,params['L']//2:], marker='o')\n",
    "plt.xlabel('Separation $r$', fontsize=12)\n",
    "plt.ylabel(r'Correlation $-\\langle \\hat{n}_{L/2}, \\hat{n}_{L/2+r} \\rangle$', fontsize=12)\n",
    "plt.yscale('log')\n",
    "plt.xscale('linear')\n",
    "plt.show()"
   ]
  }
 ],
 "metadata": {
  "kernelspec": {
   "display_name": "Python 3 (ipykernel)",
   "language": "python",
   "name": "python3"
  },
  "language_info": {
   "codemirror_mode": {
    "name": "ipython",
    "version": 3
   },
   "file_extension": ".py",
   "mimetype": "text/x-python",
   "name": "python",
   "nbconvert_exporter": "python",
   "pygments_lexer": "ipython3",
   "version": "3.12.4"
  }
 },
 "nbformat": 4,
 "nbformat_minor": 5
}
