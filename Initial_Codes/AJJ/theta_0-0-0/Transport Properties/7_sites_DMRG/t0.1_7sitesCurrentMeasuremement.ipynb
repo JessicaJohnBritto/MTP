{
 "cells": [
  {
   "cell_type": "markdown",
   "id": "0e6db8ce-bbfd-418c-b451-b04583ea58fb",
   "metadata": {},
   "source": [
    "# Importing Packages"
   ]
  },
  {
   "cell_type": "code",
   "execution_count": 1,
   "id": "c548deef-2360-4544-b235-d08a384cbb58",
   "metadata": {},
   "outputs": [],
   "source": [
    "from pyblock2.driver.core import DMRGDriver, SymmetryTypes, MPOAlgorithmTypes\n",
    "import numpy as np\n",
    "import math\n",
    "import matplotlib.pyplot as plt\n",
    "import time\n",
    "import h5py"
   ]
  },
  {
   "cell_type": "markdown",
   "id": "28ccea47-b28f-4afc-8bd3-f5e9ea1f6d72",
   "metadata": {},
   "source": [
    "# Functions for Constructing Matrices"
   ]
  },
  {
   "cell_type": "code",
   "execution_count": 2,
   "id": "72cf1fe7-0df7-4a57-82a9-6a4129eb3fdc",
   "metadata": {},
   "outputs": [],
   "source": [
    "def vector_to_hermitian(upper_triangle_vector):\n",
    "    # Check if the input vector is real-valued or complex-valued\n",
    "    is_real = np.isrealobj(upper_triangle_vector)\n",
    "    \n",
    "    # Determine the size of the matrix (n x n)\n",
    "    n = int(np.sqrt(2 * len(upper_triangle_vector) + 0.25) - 0.5)\n",
    "    \n",
    "    # Initialize an empty matrix with the appropriate type\n",
    "    dtype = float if is_real else complex\n",
    "    A = np.zeros((n, n), dtype=dtype)\n",
    "    \n",
    "    # Fill in the upper triangle\n",
    "    indices = np.triu_indices(n)\n",
    "    A[indices] = upper_triangle_vector\n",
    "    \n",
    "    # Assign values to the lower triangle\n",
    "    i_lower = np.tril_indices(n, -1)\n",
    "    if is_real:\n",
    "        A[i_lower] = A.T[i_lower]  # Copy upper triangle values to lower triangle\n",
    "    else:\n",
    "        A[i_lower] = np.conj(A.T[i_lower])  # Assign conjugate transpose to lower triangle\n",
    "    \n",
    "    return A"
   ]
  },
  {
   "cell_type": "markdown",
   "id": "13fa44dc-38ff-428e-9945-6bcf5458962d",
   "metadata": {},
   "source": [
    "# Data Storing Scripts"
   ]
  },
  {
   "cell_type": "code",
   "execution_count": 3,
   "id": "d9ec202f-7f37-4e6a-8270-53cf41c81dfc",
   "metadata": {},
   "outputs": [],
   "source": [
    "def remove_dataset(h5_file, dataset_name, **kwargs):\n",
    "    \"\"\"\n",
    "    Remove a specific dataset from an HDF5 file.\n",
    "\n",
    "    Args:\n",
    "        h5_file (str): Path to the HDF5 file.\n",
    "        dataset_name (str): Name of the dataset to remove.\n",
    "    \"\"\"\n",
    "    with h5py.File(h5_file, 'a') as f:  # Open in append mode to modify the file\n",
    "        if dataset_name in f:\n",
    "            del f[dataset_name]  # Remove the dataset\n",
    "            print(f\"Dataset '{dataset_name}' has been removed.\")\n",
    "        else:\n",
    "            print(f\"Dataset '{dataset_name}' not found in the file.\")\n"
   ]
  },
  {
   "cell_type": "code",
   "execution_count": 4,
   "id": "398c0c20-28c2-41bb-962c-b7fbed5146f1",
   "metadata": {},
   "outputs": [],
   "source": [
    "def append_to_dataset(h5_file, dataset_name, new_data, **kwargs):\n",
    "    \"\"\"\n",
    "    Append new data to a dataset in an HDF5 file. If the dataset does not exist, create it.\n",
    "\n",
    "    Args:\n",
    "        h5_file (str): Path to the HDF5 file.\n",
    "        dataset_name (str): Name of the dataset to append to.\n",
    "        new_data (numpy array): New data to append.\n",
    "    \"\"\"\n",
    "    with h5py.File(h5_file, 'a') as f:  # Open in append mode\n",
    "        if dataset_name in f:\n",
    "            dataset = f[dataset_name]\n",
    "            dataset.resize((dataset.shape[0] + new_data.shape[0]), axis=0)\n",
    "            dataset[-new_data.shape[0]:] = new_data  # Append new data at the end\n",
    "        else:\n",
    "            # If the dataset doesn't exist, create it with the initial shape\n",
    "            maxshape = (None,) + new_data.shape[1:]  # None means unlimited in first dimension\n",
    "            f.create_dataset(dataset_name, data=new_data, maxshape=maxshape)\n",
    "        print(f\"Appended data to dataset '{dataset_name}' in '{h5_file}'.\")\n",
    "\n"
   ]
  },
  {
   "cell_type": "code",
   "execution_count": 5,
   "id": "995dfde5-47df-418e-8493-f5c3e5e112dd",
   "metadata": {},
   "outputs": [],
   "source": [
    "def read_dataset(h5_file, dataset_name, **kwargs):\n",
    "    \"\"\"\n",
    "    Read and return data from a dataset in an HDF5 file.\n",
    "\n",
    "    Args:\n",
    "        h5_file (str): Path to the HDF5 file.\n",
    "        dataset_name (str): Name of the dataset to read from.\n",
    "    \n",
    "    Returns:\n",
    "        numpy array: The data read from the dataset.\n",
    "    \"\"\"\n",
    "    with h5py.File(h5_file, 'r') as f:  # Open in read mode\n",
    "        if dataset_name in f:\n",
    "            data = f[dataset_name][:]\n",
    "            return data\n",
    "        else:\n",
    "            print(f\"Dataset '{dataset_name}' not found in '{h5_file}'.\")\n",
    "            return None"
   ]
  },
  {
   "cell_type": "markdown",
   "id": "2074e28d-dd9d-4fae-bdac-6774c3337c4e",
   "metadata": {},
   "source": [
    "# Definitions"
   ]
  },
  {
   "cell_type": "code",
   "execution_count": 6,
   "id": "5462a7b4-6f31-4c9b-9752-84b566b701e5",
   "metadata": {},
   "outputs": [],
   "source": [
    "params = {}\n",
    "params['L'], params['N'], params['nmax'] = 7, 7, 1\n",
    "params['L1'], params['L2'], params['L3'] = 3, 4, 7 \n",
    "params['t'], params['U1'], params['U2'], params['U3'] = 1.0, 0.5, 10.0, 0.5\n",
    "\n",
    "driver = DMRGDriver(scratch=\"./tmp\", symm_type=SymmetryTypes.SAny | SymmetryTypes.CPX, n_threads=4)\n",
    "\n",
    "driver.set_symmetry_groups(\"U1\")\n",
    "Q = driver.bw.SX"
   ]
  },
  {
   "cell_type": "code",
   "execution_count": 7,
   "id": "c634db4f-474c-467a-b6ac-1da9fa3ec3a5",
   "metadata": {},
   "outputs": [],
   "source": [
    "# [Part A] Set states and matrix representation of operators in local Hilbert space\n",
    "site_basis, site_ops = [], []\n",
    "\n",
    "# Definig Operators\n",
    "bdag = np.diag(np.sqrt(np.arange(1, params['nmax'] + 1)), k=-1) # b+\n",
    "b = bdag.T # b\n",
    "n = np.diag(np.arange(0, params['nmax'] + 1), k=0) # particle number \n",
    "parity = np.diag([(-1.)**n for n in range(params['nmax']+1)]) # Parity no.\n",
    "\n",
    "for k in range(params['L']):\n",
    "    basis = [(Q(i), 1) for i in range(params['nmax'] + 1)] \n",
    "    ops = {\n",
    "        \"\": np.identity(params['nmax'] + 1), # identity\n",
    "        \"C\": bdag, # b+\n",
    "        \"D\": b,  # b\n",
    "        \"N\": n, # particle number\n",
    "        \"P\": parity, # Parity no.\n",
    "    }\n",
    "    site_basis.append(basis)\n",
    "    site_ops.append(ops)"
   ]
  },
  {
   "cell_type": "markdown",
   "id": "11c0912a-4c6a-4e73-845c-23fc3d3eb842",
   "metadata": {},
   "source": [
    "# Setting Up Hamiltonian"
   ]
  },
  {
   "cell_type": "code",
   "execution_count": 8,
   "id": "7d27acaf-51a8-49c4-acdf-8de500716181",
   "metadata": {},
   "outputs": [],
   "source": [
    "driver.initialize_system(n_sites=params['L'], vacuum=Q(0), target=Q(params['N']), hamil_init=False)\n",
    "driver.ghamil = driver.get_custom_hamiltonian(site_basis, site_ops)\n",
    "b = driver.expr_builder()\n",
    "\n",
    "\n",
    "for i in range(params['L']-1):\n",
    "    b.add_term(\"CD\", [i, i+1], -params['t'])\n",
    "    b.add_term(\"CD\", [i+1, i], -params['t'])\n",
    "\n",
    "# Region 1 \n",
    "for i in range(0, params['L2'], 1):\n",
    "    b.add_term(\"CCDD\", [i, i, i, i], params['U1'] / 2)\n",
    "    b.add_term(\"CD\", [i, i], - params['U1'] / 2)\n",
    "\n",
    "# Region 2\n",
    "for i in range(params['L1'], params['L2'], 1):\n",
    "    b.add_term(\"CCDD\", [i, i, i, i], params['U2'] / 2)\n",
    "    b.add_term(\"CD\", [i, i], - params['U2'] / 2)\n",
    "\n",
    "# Region 3\n",
    "for i in range(params['L2'], params['L3'], 1):\n",
    "    b.add_term(\"CCDD\", [i, i, i, i], params['U3'] / 2)\n",
    "    b.add_term(\"CD\", [i, i], - params['U3'] / 2)"
   ]
  },
  {
   "cell_type": "code",
   "execution_count": 9,
   "id": "8af435eb-41c8-46bc-9c3a-70c29424b0ef",
   "metadata": {},
   "outputs": [
    {
     "name": "stdout",
     "output_type": "stream",
     "text": [
      "\n",
      "Sweep =    0 | Direction =  forward | Bond dimension =   50 | Noise =  1.00e-03 | Dav threshold =  1.00e-10\n",
      "Time elapsed =      0.006 | E =      -6.7500000000 | DW = 0.00000e+00\n",
      "\n",
      "Sweep =    1 | Direction = backward | Bond dimension =   50 | Noise =  1.00e-03 | Dav threshold =  1.00e-10\n",
      "Time elapsed =      0.010 | E =      -6.7500000000 | DE = -8.88e-16 | DW = 0.00000e+00\n",
      "\n",
      "Sweep =    2 | Direction =  forward | Bond dimension =   50 | Noise =  1.00e-03 | Dav threshold =  1.00e-10\n",
      "Time elapsed =      0.013 | E =      -6.7500000000 | DE = 0.00e+00 | DW = 0.00000e+00\n",
      "\n",
      "Sweep =    3 | Direction = backward | Bond dimension =   50 | Noise =  1.00e-05 | Dav threshold =  1.00e-10\n",
      "Time elapsed =      0.017 | E =      -6.7500000000 | DE = 0.00e+00 | DW = 0.00000e+00\n",
      "\n",
      "Sweep =    4 | Direction =  forward | Bond dimension =   50 | Noise =  1.00e-05 | Dav threshold =  1.00e-10\n",
      "Time elapsed =      0.021 | E =      -6.7500000000 | DE = 0.00e+00 | DW = 0.00000e+00\n",
      "\n",
      "Sweep =    5 | Direction = backward | Bond dimension =   50 | Noise =  1.00e-05 | Dav threshold =  1.00e-10\n",
      "Time elapsed =      0.024 | E =      -6.7500000000 | DE = 0.00e+00 | DW = 0.00000e+00\n",
      "\n",
      "Sweep =    6 | Direction =  forward | Bond dimension =   50 | Noise =  0.00e+00 | Dav threshold =  1.00e-10\n",
      "Time elapsed =      0.028 | E =      -6.7500000000 | DE = 0.00e+00 | DW = 0.00000e+00\n",
      "\n",
      "Sweep =    7 | Direction = backward | Bond dimension =   50 | Noise =  0.00e+00 | Dav threshold =  1.00e-10\n",
      "Time elapsed =      0.031 | E =      -6.7500000000 | DE = 0.00e+00 | DW = 0.00000e+00\n",
      "\n",
      "Sweep =    8 | Direction =  forward | Bond dimension =   50 | Noise =  0.00e+00 | Dav threshold =  1.00e-10\n",
      "Time elapsed =      0.035 | E =      -6.7500000000 | DE = 0.00e+00 | DW = 0.00000e+00\n",
      "\n",
      "Sweep =    9 | Direction = backward | Bond dimension =   50 | Noise =  0.00e+00 | Dav threshold =  1.00e-10\n",
      "Time elapsed =      0.039 | E =      -6.7500000000 | DE = 0.00e+00 | DW = 0.00000e+00\n",
      "\n",
      "Sweep =   10 | Direction =  forward | Bond dimension =  100 | Noise =  0.00e+00 | Dav threshold =  1.00e-10\n",
      "Time elapsed =      0.041 | E =      -6.7500000000 | DE = 0.00e+00 | DW = 0.00000e+00\n",
      "\n",
      "Sweep =   11 | Direction = backward | Bond dimension =  100 | Noise =  0.00e+00 | Dav threshold =  1.00e-10\n",
      "Time elapsed =      0.044 | E =      -6.7500000000 | DE = 0.00e+00 | DW = 0.00000e+00\n",
      "\n",
      "Sweep =   12 | Direction =  forward | Bond dimension =  100 | Noise =  0.00e+00 | Dav threshold =  1.00e-10\n",
      "Time elapsed =      0.048 | E =      -6.7500000000 | DE = 0.00e+00 | DW = 0.00000e+00\n",
      "\n",
      "Sweep =   13 | Direction = backward | Bond dimension =  100 | Noise =  0.00e+00 | Dav threshold =  1.00e-10\n",
      "Time elapsed =      0.051 | E =      -6.7500000000 | DE = 0.00e+00 | DW = 0.00000e+00\n",
      "\n",
      "Sweep =   14 | Direction =  forward | Bond dimension =  100 | Noise =  0.00e+00 | Dav threshold =  1.00e-10\n",
      "Time elapsed =      0.055 | E =      -6.7500000000 | DE = 0.00e+00 | DW = 0.00000e+00\n",
      "\n",
      "Sweep =   15 | Direction = backward | Bond dimension =  200 | Noise =  0.00e+00 | Dav threshold =  1.00e-10\n",
      "Time elapsed =      0.057 | E =      -6.7500000000 | DE = 0.00e+00 | DW = 0.00000e+00\n",
      "\n",
      "Sweep =   16 | Direction =  forward | Bond dimension =  200 | Noise =  0.00e+00 | Dav threshold =  1.00e-10\n",
      "Time elapsed =      0.060 | E =      -6.7500000000 | DE = 0.00e+00 | DW = 0.00000e+00\n",
      "\n",
      "Sweep =   17 | Direction = backward | Bond dimension =  200 | Noise =  0.00e+00 | Dav threshold =  1.00e-10\n",
      "Time elapsed =      0.063 | E =      -6.7500000000 | DE = 0.00e+00 | DW = 0.00000e+00\n",
      "\n",
      "Sweep =   18 | Direction =  forward | Bond dimension =  200 | Noise =  0.00e+00 | Dav threshold =  1.00e-10\n",
      "Time elapsed =      0.066 | E =      -6.7500000000 | DE = 0.00e+00 | DW = 0.00000e+00\n",
      "\n",
      "Sweep =   19 | Direction = backward | Bond dimension =  200 | Noise =  0.00e+00 | Dav threshold =  1.00e-10\n",
      "Time elapsed =      0.069 | E =      -6.7500000000 | DE = 0.00e+00 | DW = 0.00000e+00\n",
      "\n",
      "Sweep =   20 | Direction =  forward | Bond dimension =  500 | Noise =  0.00e+00 | Dav threshold =  1.00e-11\n",
      "Time elapsed =      0.071 | E =      -6.7500000000 | DE = 0.00e+00 | DW = 0.00000e+00\n",
      "\n",
      "Sweep =   21 | Direction = backward | Bond dimension =  500 | Noise =  0.00e+00 | Dav threshold =  1.00e-11\n",
      "Time elapsed =      0.074 | E =      -6.7500000000 | DE = 0.00e+00 | DW = 0.00000e+00\n",
      "\n",
      "Sweep =   22 | Direction =  forward | Bond dimension =  500 | Noise =  0.00e+00 | Dav threshold =  1.00e-11\n",
      "Time elapsed =      0.077 | E =      -6.7500000000 | DE = 0.00e+00 | DW = 0.00000e+00\n",
      "\n",
      "Sweep =   23 | Direction = backward | Bond dimension =  500 | Noise =  0.00e+00 | Dav threshold =  1.00e-11\n",
      "Time elapsed =      0.079 | E =      -6.7500000000 | DE = 0.00e+00 | DW = 0.00000e+00\n",
      "\n",
      "Sweep =   24 | Direction =  forward | Bond dimension =  500 | Noise =  0.00e+00 | Dav threshold =  1.00e-11\n",
      "Time elapsed =      0.083 | E =      -6.7500000000 | DE = 0.00e+00 | DW = 0.00000e+00\n",
      "\n",
      "Sweep =   25 | Direction = backward | Bond dimension = 1000 | Noise =  0.00e+00 | Dav threshold =  1.00e-11\n",
      "Time elapsed =      0.085 | E =      -6.7500000000 | DE = 0.00e+00 | DW = 0.00000e+00\n",
      "\n",
      "Final bond dimension = 1\n",
      "Execution time: 0.09 seconds\n"
     ]
    }
   ],
   "source": [
    "# [Part C] Perform DMRG\n",
    "\n",
    "start_time = time.time()\n",
    "#########################################\n",
    "\n",
    "mpo = driver.get_mpo(b.finalize(adjust_order=True, fermionic_ops=\"\"), algo_type=MPOAlgorithmTypes.FastBipartite)\n",
    "\n",
    "mps = driver.get_random_mps(tag=\"KET\", bond_dim=50, nroots=1, occs=[1] * params['L'])\n",
    "energy = driver.dmrg(\n",
    "    mpo, \n",
    "    mps, \n",
    "    n_sweeps=100, \n",
    "    bond_dims=[50] * 10 + [100] * 5 + [200] * 5 + [500] * 5 + [1000] * 5, \n",
    "    noises=[1e-3] * 3 + [1e-5] * 3 + [0],  \n",
    "    thrds=[1e-10] * 20, \n",
    "    dav_max_iter=100, \n",
    "    tol=1e-10, \n",
    "    iprint=1)\n",
    "print(\"Final bond dimension =\", mps.info.get_max_bond_dimension())\n",
    "\n",
    "#########################################\n",
    "end_time = time.time()\n",
    "execution_time = end_time - start_time\n",
    "print(f\"Execution time: {execution_time:.2f} seconds\")\n"
   ]
  },
  {
   "cell_type": "markdown",
   "id": "c8d8c1c2-e29a-4fe6-8977-0f9871f184a1",
   "metadata": {},
   "source": [
    "## <font color='blue'>Current Measurement</font>"
   ]
  },
  {
   "cell_type": "markdown",
   "id": "b17aaafe-a7a0-40cf-bf34-0e5991218403",
   "metadata": {},
   "source": [
    "### <font color='black'>Constructing MPO for $(-1)^{\\hat{N}_{R_{1}}}$ where $\\hat{N}_{R_{1}} = \\sum_{i \\in R_{1}} n_{i}$</font>"
   ]
  },
  {
   "cell_type": "code",
   "execution_count": 10,
   "id": "58c5db91-f98e-4a58-8c85-2608087daa69",
   "metadata": {},
   "outputs": [
    {
     "name": "stdout",
     "output_type": "stream",
     "text": [
      "\n",
      "Build MPO | Nsites =     7 | Nterms =          1 | Algorithm = FastBIP | Cutoff = 1.00e-14\n",
      " Site =     0 /     7 .. Mmpo =     1 DW = 0.00e+00 NNZ =        1 SPT = 0.0000 Tmvc = 0.000 T = 0.000\n",
      " Site =     1 /     7 .. Mmpo =     1 DW = 0.00e+00 NNZ =        1 SPT = 0.0000 Tmvc = 0.000 T = 0.000\n",
      " Site =     2 /     7 .. Mmpo =     1 DW = 0.00e+00 NNZ =        1 SPT = 0.0000 Tmvc = 0.000 T = 0.000\n",
      " Site =     3 /     7 .. Mmpo =     1 DW = 0.00e+00 NNZ =        1 SPT = 0.0000 Tmvc = 0.000 T = 0.001\n",
      " Site =     4 /     7 .. Mmpo =     1 DW = 0.00e+00 NNZ =        1 SPT = 0.0000 Tmvc = 0.000 T = 0.000\n",
      " Site =     5 /     7 .. Mmpo =     1 DW = 0.00e+00 NNZ =        1 SPT = 0.0000 Tmvc = 0.000 T = 0.000\n",
      " Site =     6 /     7 .. Mmpo =     1 DW = 0.00e+00 NNZ =        1 SPT = 0.0000 Tmvc = 0.000 T = 0.000\n",
      "Ttotal =      0.003 Tmvc-total = 0.000 MPO bond dimension =     1 MaxDW = 0.00e+00\n",
      "NNZ =            7 SIZE =            7 SPT = 0.0000\n",
      "\n",
      "Rank =     0 Ttotal =      0.008 MPO method = FastBipartite bond dimension =       1 NNZ =            7 SIZE =            7 SPT = 0.0000\n"
     ]
    }
   ],
   "source": [
    "b_n = driver.expr_builder()\n",
    "Parity_L1 = \"P\" * params['L1'] \n",
    "lst_index_L1 = list(range(params['L1']))\n",
    "# b_n.add_term(Parity_L1, lst_index_L1, 1)\n",
    "b_n.add_term('PPP',[0, 1, 2], 1)\n",
    "N1_op = driver.get_mpo(b_n.finalize(adjust_order=True, fermionic_ops=\"\"), algo_type=MPOAlgorithmTypes.FastBipartite, iprint = 1)"
   ]
  },
  {
   "cell_type": "code",
   "execution_count": 11,
   "id": "94200f74-2c46-484a-87bb-b74130a6c011",
   "metadata": {},
   "outputs": [
    {
     "data": {
      "text/plain": [
       "[0, 1, 2]"
      ]
     },
     "execution_count": 11,
     "metadata": {},
     "output_type": "execute_result"
    }
   ],
   "source": [
    "lst_index_L1"
   ]
  },
  {
   "cell_type": "code",
   "execution_count": 12,
   "id": "21e5ee8d-ed41-4302-b7eb-c31fc1559622",
   "metadata": {},
   "outputs": [
    {
     "data": {
      "text/plain": [
       "'PPP'"
      ]
     },
     "execution_count": 12,
     "metadata": {},
     "output_type": "execute_result"
    }
   ],
   "source": [
    "Parity_L1"
   ]
  },
  {
   "cell_type": "markdown",
   "id": "d7251634-1f10-4dec-a63a-c164f51a717d",
   "metadata": {},
   "source": [
    "### <font color='black'>Applying $\\ket{\\psi^{\\prime}} = (-1)^{\\hat{N}_{R_{1}}}\\ket{\\psi}$</font>"
   ]
  },
  {
   "cell_type": "code",
   "execution_count": 13,
   "id": "b9ddf2d4-b0cd-4395-90d3-c2c794461a49",
   "metadata": {},
   "outputs": [
    {
     "name": "stdout",
     "output_type": "stream",
     "text": [
      "\n",
      "Sweep =    0 | Direction =  forward | BRA bond dimension = 1000 | Noise =  0.00e+00\n",
      "Time elapsed =      0.005 | F = (1.0000000000,0.0000000000) | DW = 0.00000e+00\n",
      "\n",
      "Sweep =    1 | Direction = backward | BRA bond dimension = 1000 | Noise =  0.00e+00\n",
      "Time elapsed =      0.008 | F = (1.0000000000,0.0000000000) | DF = (0.00e+00,0.00e+00) | DW = 0.00000e+00\n",
      "\n",
      "Sweep =    2 | Direction =  forward | BRA bond dimension = 1000 | Noise =  0.00e+00\n",
      "Time elapsed =      0.011 | F = (1.0000000000,0.0000000000) | DF = (0.00e+00,0.00e+00) | DW = 0.00000e+00\n",
      "\n",
      "Sweep =    3 | Direction = backward | BRA bond dimension = 1000 | Noise =  0.00e+00\n",
      "Time elapsed =      0.014 | F = (1.0000000000,0.0000000000) | DF = (0.00e+00,0.00e+00) | DW = 0.00000e+00\n",
      "\n"
     ]
    },
    {
     "data": {
      "text/plain": [
       "(1+0j)"
      ]
     },
     "execution_count": 13,
     "metadata": {},
     "output_type": "execute_result"
    }
   ],
   "source": [
    "# bra = driver.get_random_mps(tag=\"BRA_N1_op\", bond_dim=1000, nroots=1, occs=[1] * params['L'])\n",
    "# bra = driver.get_random_mps(tag=\"BRA_N1_op\", bond_dim=1000, nroots=1, center=mps.center)\n",
    "bra = driver.copy_mps(mps,\"NewKet\")\n",
    "driver.multiply(bra, N1_op, mps, n_sweeps=10, bond_dims=[1000], thrds=[1E-10] * 10, iprint=1)"
   ]
  },
  {
   "cell_type": "markdown",
   "id": "3898c205-3455-4025-acb7-295a4652157f",
   "metadata": {},
   "source": [
    "#### <font color='blue'>Single-particle boson correlations</font>"
   ]
  },
  {
   "cell_type": "markdown",
   "id": "87ec2eae-3b64-4931-aa7d-3a7d560e5da2",
   "metadata": {},
   "source": [
    "##### Calculate"
   ]
  },
  {
   "cell_type": "code",
   "execution_count": 20,
   "id": "31b0e72c-904f-4cfc-a68d-4d1cb22ae1f6",
   "metadata": {},
   "outputs": [
    {
     "name": "stdout",
     "output_type": "stream",
     "text": [
      "Total number = (7-7.776794707441922e-17j)\n",
      "Elapsed time: 0.013450860977172852 seconds\n",
      "\n",
      "\n",
      "\n",
      "Intel MKL ERROR: Parameter 8 was incorrect on entry to ZGEMM .\n",
      "\n",
      "Intel MKL ERROR: Parameter 8 was incorrect on entry to ZGEMM .\n",
      "\n",
      "\n",
      "Intel MKL ERROR: Parameter 8 was incorrect on entry to ZGEMM .Intel MKL ERROR: Parameter 8 was incorrect on entry to ZGEMM .\n",
      "Intel MKL ERROR: Parameter 8 was incorrect on entry to ZGEMM .\n",
      "Intel MKL ERROR: Parameter 8 was incorrect on entry to ZGEMM .\n",
      "\n",
      "\n",
      "Intel MKL ERROR: Parameter 8 was incorrect on entry to ZGEMM .\n",
      "\n",
      "\n",
      "Intel MKL ERROR: Parameter 8 was incorrect on entry to ZGEMM .\n",
      "\n",
      "Intel MKL ERROR: Parameter 8 was incorrect on entry to ZGEMM .Intel MKL ERROR: Parameter 8 was incorrect on entry to ZGEMM .\n",
      "Intel MKL ERROR: Parameter 8 was incorrect on entry to ZGEMM .\n",
      "\n",
      "\n",
      "\n",
      "Intel MKL ERROR: Parameter 8 was incorrect on entry to ZGEMM .\n",
      "\n",
      "Intel MKL ERROR: Parameter 8 was incorrect on entry to ZGEMM .\n",
      "\n",
      "\n",
      "Intel MKL ERROR: Parameter 8 was incorrect on entry to ZGEMM .\n",
      "\n",
      "\n",
      "Intel MKL ERROR: Parameter 8 was incorrect on entry to ZGEMM .Intel MKL ERROR: Parameter 8 was incorrect on entry to ZGEMM .\n",
      "\n",
      "Intel MKL ERROR: Parameter 8 was incorrect on entry to ZGEMM .\n",
      "\n",
      "Intel MKL ERROR: Parameter 8 was incorrect on entry to ZGEMM .\n",
      "\n",
      "\n",
      "Intel MKL ERROR: Parameter 8 was incorrect on entry to ZGEMM .Intel MKL ERROR: Parameter 8 was incorrect on entry to ZGEMM .\n",
      "\n",
      "\n",
      "Intel MKL ERROR: Parameter 8 was incorrect on entry to ZGEMM .\n",
      "\n",
      "Intel MKL ERROR: Parameter 8 was incorrect on entry to ZGEMM .\n",
      "\n",
      "Intel MKL ERROR: Parameter 8 was incorrect on entry to ZGEMM .\n",
      "\n",
      "\n",
      "Intel MKL ERROR: Parameter 8 was incorrect on entry to ZGEMM .\n",
      "\n",
      "Intel MKL ERROR: Parameter 8 was incorrect on entry to ZGEMM .\n",
      "Intel MKL ERROR: Parameter 8 was incorrect on entry to ZGEMM .\n",
      "\n",
      "Intel MKL ERROR: Parameter 8 was incorrect on entry to ZGEMM .\n",
      "\n",
      "\n",
      "Intel MKL ERROR: Parameter 8 was incorrect on entry to ZGEMM .\n",
      "Intel MKL ERROR: Parameter 8 was incorrect on entry to ZGEMM .\n",
      "\n",
      "Intel MKL ERROR: Parameter 8 was incorrect on entry to ZGEMM .\n",
      "\n",
      "Intel MKL ERROR: Parameter 8 was incorrect on entry to ZGEMM .\n",
      "\n",
      "Intel MKL ERROR: Parameter 8 was incorrect on entry to ZGEMM .\n",
      "\n",
      "Intel MKL ERROR: Parameter 8 was incorrect on entry to ZGEMM .\n",
      "\n",
      "Intel MKL ERROR: Parameter 8 was incorrect on entry to ZGEMM .\n",
      "\n",
      "\n",
      "Intel MKL ERROR: Parameter 8 was incorrect on entry to ZGEMM .Intel MKL ERROR: Parameter 8 was incorrect on entry to ZGEMM .\n",
      "\n",
      "\n",
      "Intel MKL ERROR: Parameter 8 was incorrect on entry to ZGEMM .\n",
      "\n",
      "Intel MKL ERROR: Parameter 8 was incorrect on entry to ZGEMM .\n",
      "\n",
      "Intel MKL ERROR: Parameter 8 was incorrect on entry to ZGEMM .\n",
      "\n",
      "Intel MKL ERROR: Parameter 8 was incorrect on entry to ZGEMM .\n",
      "\n",
      "Intel MKL ERROR: Parameter 8 was incorrect on entry to ZGEMM .\n",
      "\n",
      "Intel MKL ERROR: Parameter 8 was incorrect on entry to ZGEMM .\n"
     ]
    }
   ],
   "source": [
    "start_time = time.time()\n",
    "\n",
    "bosoncorr_mat = driver.get_npdm(bra, npdm_expr='CD', fermionic_ops='')[0]\n",
    "navg = np.diag(bosoncorr_mat)\n",
    "print(\"Total number =\", sum(navg))\n",
    "\n",
    "end_time = time.time()\n",
    "elapsed_time = end_time - start_time\n",
    "print(f\"Elapsed time: {elapsed_time} seconds\")"
   ]
  },
  {
   "cell_type": "markdown",
   "id": "536eff29-062e-4ee9-b5e9-3cb81c12e688",
   "metadata": {},
   "source": [
    "##### Site occupations"
   ]
  },
  {
   "cell_type": "code",
   "execution_count": null,
   "id": "13b6cc4c-2924-4427-b2b4-36173ef6d6b8",
   "metadata": {},
   "outputs": [],
   "source": [
    "navg = np.real(navg)\n",
    "plt.plot(np.arange(params['L']), navg, marker='o')\n",
    "plt.xlabel('Site', fontsize=12)\n",
    "plt.ylabel('Occupation', fontsize=12)\n",
    "plt.show()"
   ]
  },
  {
   "cell_type": "markdown",
   "id": "80bf8bb9-1ab9-4e29-b1fb-a7b8ebd6cd7c",
   "metadata": {},
   "source": [
    "##### Correlation matrix"
   ]
  },
  {
   "cell_type": "code",
   "execution_count": null,
   "id": "0e86e9a9-0371-4de4-9e7a-fb923a2eb14b",
   "metadata": {},
   "outputs": [],
   "source": [
    "bosoncorr_mat = np.real(bosoncorr_mat)\n",
    "plt.matshow(bosoncorr_mat, cmap='seismic', vmin=-np.abs(bosoncorr_mat).max(), vmax=np.abs(bosoncorr_mat).max())\n",
    "plt.colorbar()\n",
    "plt.xlabel('Site j', fontsize=12)\n",
    "plt.ylabel('Site i', fontsize=12)\n",
    "plt.title(r'Boson correlation $\\langle \\hat{b}_{i}^{\\dagger} \\hat{b}_{j} \\rangle$')\n",
    "plt.show()"
   ]
  },
  {
   "cell_type": "markdown",
   "id": "da57b486-25d1-4f77-be37-bed71f251cf0",
   "metadata": {},
   "source": [
    "##### Correlation vs distance"
   ]
  },
  {
   "cell_type": "code",
   "execution_count": null,
   "id": "a885d895-f537-4037-9efb-ff5b09da3a5b",
   "metadata": {},
   "outputs": [],
   "source": [
    "plt.plot(np.arange(1,params['L']//2+1), bosoncorr_mat[params['L']//2-1,params['L']//2:], marker='o')\n",
    "plt.xlabel('Separation $r$', fontsize=12)\n",
    "plt.ylabel(r'Correlation $\\langle \\hat{b}_{L/2}^{\\dagger} \\hat{b}_{L/2+r} \\rangle$', fontsize=12)\n",
    "plt.yscale('log')\n",
    "plt.xscale('linear')\n",
    "plt.show()"
   ]
  },
  {
   "cell_type": "markdown",
   "id": "2e9f48b4-0960-4bd1-ae2d-340de9cea3a1",
   "metadata": {},
   "source": [
    "### <font color='black'>Time Evolution of $\\ket{\\psi^{\\prime}}$:: $\\ket{\\psi(t)} = e^{-i\\cdot t \\cdot H_{AJJ}}\\ket{\\psi^{\\prime}}$</font>"
   ]
  },
  {
   "cell_type": "code",
   "execution_count": null,
   "id": "9e0d5faa-99a4-459d-a126-123e20c339c0",
   "metadata": {},
   "outputs": [],
   "source": [
    "params['target_t'] = 1.6"
   ]
  },
  {
   "cell_type": "code",
   "execution_count": null,
   "id": "205c0a51-2021-4ce0-8015-5d097d9a8bce",
   "metadata": {},
   "outputs": [],
   "source": [
    "bra2 = driver.copy_mps(bra, tag = \"PsiPrime\")\n",
    "bra2 = driver.td_dmrg(mpo = mpo, ket = bra2, delta_t=0.1 * 1j, target_t = params['target_t'] * 1j, final_mps_tag=\"mps3\", bond_dims = [1000], hermitian=True, iprint = 1)"
   ]
  },
  {
   "cell_type": "markdown",
   "id": "51b5b2c0-1771-4783-a2f4-fcb2b3b87222",
   "metadata": {},
   "source": [
    "#### <font color='blue'>Single-particle boson correlations</font>"
   ]
  },
  {
   "cell_type": "markdown",
   "id": "333e97ec-42b1-403e-9be1-fa985a1ca3f8",
   "metadata": {},
   "source": [
    "##### Calculate"
   ]
  },
  {
   "cell_type": "code",
   "execution_count": null,
   "id": "5deb9cb4-971a-4e2d-a026-78ff51cea6aa",
   "metadata": {},
   "outputs": [],
   "source": [
    "start_time = time.time()\n",
    "\n",
    "bosoncorr_mat = driver.get_npdm(bra2, npdm_expr='CD', fermionic_ops='', mask=[0, 1])[0]\n",
    "navg = np.diag(bosoncorr_mat)\n",
    "print(\"Total number =\", sum(navg))\n",
    "\n",
    "end_time = time.time()\n",
    "elapsed_time = end_time - start_time\n",
    "print(f\"Elapsed time: {elapsed_time} seconds\")"
   ]
  },
  {
   "cell_type": "markdown",
   "id": "43c79a99-0310-4b76-837d-66e7bc5c7ee9",
   "metadata": {},
   "source": [
    "##### Site occupations"
   ]
  },
  {
   "cell_type": "code",
   "execution_count": null,
   "id": "9d9e2632-76e9-4703-8a1c-1dea42fabad5",
   "metadata": {},
   "outputs": [],
   "source": [
    "navg = np.real(navg)\n",
    "print(navg)\n",
    "plt.plot(np.arange(params['L']), navg, marker='o')\n",
    "plt.xlabel('Site', fontsize=12)\n",
    "plt.ylabel('Occupation', fontsize=12)\n",
    "plt.show()"
   ]
  },
  {
   "cell_type": "markdown",
   "id": "dfc9a41b-9941-440e-bbdd-31b572a583df",
   "metadata": {},
   "source": [
    "##### Correlation matrix"
   ]
  },
  {
   "cell_type": "code",
   "execution_count": null,
   "id": "51b0ddc2-4bfc-4fbd-bd2f-37bc96f6ad5d",
   "metadata": {},
   "outputs": [],
   "source": [
    "bosoncorr_mat = np.real(bosoncorr_mat)\n",
    "plt.matshow(bosoncorr_mat, cmap='seismic', vmin=-np.abs(bosoncorr_mat).max(), vmax=np.abs(bosoncorr_mat).max())\n",
    "plt.colorbar()\n",
    "plt.xlabel('Site j', fontsize=12)\n",
    "plt.ylabel('Site i', fontsize=12)\n",
    "plt.title(r'Boson correlation $\\langle \\hat{b}_{i}^{\\dagger} \\hat{b}_{j} \\rangle$')\n",
    "plt.show()"
   ]
  },
  {
   "cell_type": "markdown",
   "id": "fd4830c0-f3e0-4a6c-879f-df9a2038ed21",
   "metadata": {},
   "source": [
    "##### Correlation vs distance"
   ]
  },
  {
   "cell_type": "code",
   "execution_count": null,
   "id": "9c42a578-bb61-402e-8434-6c7e2103136d",
   "metadata": {},
   "outputs": [],
   "source": [
    "plt.plot(np.arange(1,params['L']//2+1), bosoncorr_mat[params['L']//2-1,params['L']//2:], marker='o')\n",
    "plt.xlabel('Separation $r$', fontsize=12)\n",
    "plt.ylabel(r'Correlation $\\langle \\hat{b}_{L/2}^{\\dagger} \\hat{b}_{L/2+r} \\rangle$', fontsize=12)\n",
    "plt.yscale('log')\n",
    "plt.xscale('linear')\n",
    "plt.show()"
   ]
  },
  {
   "cell_type": "markdown",
   "id": "8098854d-8a98-4bec-b3bd-bcb379e23f6f",
   "metadata": {},
   "source": [
    "### <font color='black'>Expectation Value of $N_{R_{1}} - N_{R_{3}}$ w.r.t $\\psi(t)$</font>"
   ]
  },
  {
   "cell_type": "markdown",
   "id": "36cdcb84-9ea0-432c-83fc-221bdf4799fb",
   "metadata": {},
   "source": [
    "#### <font color='black'>Constructing MPO for $\\hat{N}_{R_{1}}$ and $\\hat{N}_{R_{3}}$ where $\\hat{N}_{R_{j}} = \\sum_{i \\in R_{j}} n_{i}$ where $j \\in {1,3}$</font>"
   ]
  },
  {
   "cell_type": "code",
   "execution_count": null,
   "id": "74b77a0b-0085-42b3-9dde-4bb5ffadc4c0",
   "metadata": {},
   "outputs": [],
   "source": [
    "b_n1 = driver.expr_builder()\n",
    "lst_index_L1 = list(range(params['L1']))\n",
    "b_n1.add_term(\"N\", lst_index_L1, 1)\n",
    "N1_op2 = driver.get_mpo(b_n1.finalize(adjust_order=True, fermionic_ops=\"\"), algo_type=MPOAlgorithmTypes.FastBipartite, iprint = 1)"
   ]
  },
  {
   "cell_type": "code",
   "execution_count": null,
   "id": "b454a6f7-65f9-45ec-881a-cf021debd788",
   "metadata": {},
   "outputs": [],
   "source": [
    "b_n2 = driver.expr_builder()\n",
    "lst_index_L2 = list(range(params['L2'], params['L3']))\n",
    "b_n2.add_term(\"N\", lst_index_L2, 1)\n",
    "N2_op = driver.get_mpo(b_n2.finalize(adjust_order=True, fermionic_ops=\"\"), algo_type=MPOAlgorithmTypes.FastBipartite, iprint = 1)"
   ]
  },
  {
   "cell_type": "markdown",
   "id": "7cca3ec1-10dc-473d-a409-cd327a4f009b",
   "metadata": {},
   "source": [
    "#### <font color='black'>Expectation Value</font>"
   ]
  },
  {
   "cell_type": "code",
   "execution_count": null,
   "id": "f00dee4d-baa4-4a7c-ae74-c63e33f3f287",
   "metadata": {},
   "outputs": [],
   "source": [
    "# n1n2diff_exp = []"
   ]
  },
  {
   "cell_type": "code",
   "execution_count": null,
   "id": "86a8b3f5-6c9f-4873-b459-64fadd9d4c0a",
   "metadata": {},
   "outputs": [],
   "source": [
    "impo = driver.get_identity_mpo()\n",
    "\n",
    "n1_op_exp = driver.expectation(bra2, N1_op2, bra2) / driver.expectation(bra2, impo, bra2)\n",
    "\n",
    "n2_op_exp = driver.expectation(bra2, N2_op, bra2) / driver.expectation(bra2, impo, bra2)"
   ]
  },
  {
   "cell_type": "code",
   "execution_count": null,
   "id": "1a8d94fc-d2df-444a-8ab0-4869b55cc826",
   "metadata": {},
   "outputs": [],
   "source": [
    "# n1n2diff_exp.append(n1_op_exp - n2_op_exp)"
   ]
  },
  {
   "cell_type": "markdown",
   "id": "67bf190f-fa98-4b42-8d3c-35a636b67fba",
   "metadata": {},
   "source": [
    "#### <font color='black'>Data of $\\bra{\\psi(t)} N_{R_{1}} - N_{R_{3}}\\ket{\\psi(t)}$</font>"
   ]
  },
  {
   "cell_type": "code",
   "execution_count": null,
   "id": "f227912c-9abb-4f01-a5fa-a4989388e2bd",
   "metadata": {},
   "outputs": [],
   "source": [
    "# remove_dataset('my_data.h5', '1_n1n2diff_exp')"
   ]
  },
  {
   "cell_type": "code",
   "execution_count": null,
   "id": "8570534e-73dd-45ec-babe-3135cbffadd0",
   "metadata": {},
   "outputs": [],
   "source": [
    "with h5py.File('my_data.h5', 'a') as f:\n",
    "    dataset_name = f'{params['target_t']}_n1n2diff_exp'  # Name the dataset uniquely to avoid conflicts\n",
    "    if dataset_name in f:\n",
    "        print(f\"Dataset '{dataset_name}' already exists.\")\n",
    "    else:\n",
    "        f.create_dataset(dataset_name, data=[n1_op_exp - n2_op_exp])\n",
    "        print(f\"Dataset '{dataset_name}' created.\")\n",
    "\n",
    "print(\"List appended to HDF5 file.\")\n"
   ]
  },
  {
   "cell_type": "code",
   "execution_count": null,
   "id": "8b6cbdc3-61e3-435c-a046-19a374d9ab2e",
   "metadata": {},
   "outputs": [],
   "source": [
    "with h5py.File('my_data.h5', 'r') as f:\n",
    "    # Print all dataset names in the file\n",
    "    for name in f:\n",
    "        print(f\"Dataset: {name}\")\n",
    "        print(\"Data:\", f[name][:])\n"
   ]
  },
  {
   "cell_type": "markdown",
   "id": "789b967b-ac31-4a15-91f3-3b8bd7610d4a",
   "metadata": {},
   "source": [
    "#### <font color='black'>Plot of $\\bra{\\psi(t)} N_{R_{1}} - N_{R_{3}}\\ket{\\psi(t)}$ vs Time</font>"
   ]
  },
  {
   "cell_type": "code",
   "execution_count": null,
   "id": "1e15f024-99cc-4558-b530-690eaeed1774",
   "metadata": {},
   "outputs": [],
   "source": [
    "data = []\n",
    "with h5py.File('my_data.h5', 'r') as f:\n",
    "    # Print all dataset names in the file\n",
    "    for name in f:\n",
    "        data.append(np.real(f[name][:][0]))\n",
    "print(data)"
   ]
  },
  {
   "cell_type": "code",
   "execution_count": null,
   "id": "d65d8153-b718-444a-a810-d11c8997c04a",
   "metadata": {},
   "outputs": [],
   "source": [
    "t_list = np.arange(0, 1.7, 0.1).round(1)\n",
    "plt.plot(t_list, data[:-1], marker = \"o\")\n",
    "plt.grid('True')\n",
    "plt.xlabel('Time')\n",
    "plt.ylabel(f'$<\\\\hat{{N}}_{{R_1}} - \\\\hat{{N}}_{{R_3}}>$')"
   ]
  },
  {
   "cell_type": "markdown",
   "id": "a6341d20-8954-471e-aaed-adcacfe9ae40",
   "metadata": {
    "jp-MarkdownHeadingCollapsed": true
   },
   "source": [
    "## <font color='blue'>Entanglement</font>"
   ]
  },
  {
   "cell_type": "code",
   "execution_count": null,
   "id": "90611a1e-0b60-4031-98bf-90a7ad848621",
   "metadata": {},
   "outputs": [],
   "source": [
    "SvN = driver.get_bipartite_entanglement()\n",
    "\n",
    "plt.plot(np.arange(1,params['L']), SvN, marker='o')\n",
    "plt.xlabel('Bond', fontsize=12)\n",
    "plt.ylabel('Entanglement entropy', fontsize=12)\n",
    "plt.show()"
   ]
  },
  {
   "cell_type": "markdown",
   "id": "fa2fd9e8-1134-47bb-ac50-8155985dbc83",
   "metadata": {},
   "source": [
    "### Calculate"
   ]
  },
  {
   "cell_type": "code",
   "execution_count": null,
   "id": "97ef3a59-e55f-4041-b4e4-082682102057",
   "metadata": {},
   "outputs": [],
   "source": [
    "start_time = time.time()\n",
    "\n",
    "bosoncorr_mat = driver.get_npdm(mps, npdm_expr='CD', fermionic_ops='', mask=[0, 1])[0]\n",
    "navg = np.diag(bosoncorr_mat)\n",
    "print(\"Total number =\", sum(navg))\n",
    "\n",
    "end_time = time.time()\n",
    "elapsed_time = end_time - start_time\n",
    "print(f\"Elapsed time: {elapsed_time} seconds\")"
   ]
  },
  {
   "cell_type": "markdown",
   "id": "caa544a1-b3bd-431c-a09b-ec8e03a835ff",
   "metadata": {},
   "source": [
    "### Site occupations"
   ]
  },
  {
   "cell_type": "code",
   "execution_count": null,
   "id": "781ae437-2b57-4f82-8680-99d1a624cc52",
   "metadata": {},
   "outputs": [],
   "source": [
    "plt.plot(np.arange(params['L']), navg, marker='o')\n",
    "plt.xlabel('Site', fontsize=12)\n",
    "plt.ylabel('Occupation', fontsize=12)\n",
    "plt.show()"
   ]
  },
  {
   "cell_type": "markdown",
   "id": "f5eaccaf-1a30-4444-a379-9e78adcf08ab",
   "metadata": {},
   "source": [
    "### Correlation matrix"
   ]
  },
  {
   "cell_type": "code",
   "execution_count": null,
   "id": "98b0a3ca-7aa9-4a3d-9342-c8e22c78597a",
   "metadata": {},
   "outputs": [],
   "source": [
    "plt.matshow(bosoncorr_mat, cmap='viridis', vmin=bosoncorr_mat.min(), vmax=bosoncorr_mat.max())\n",
    "plt.colorbar()\n",
    "plt.xlabel('Site j', fontsize=12)\n",
    "plt.ylabel('Site i', fontsize=12)\n",
    "plt.title(r'Boson correlation $\\langle \\hat{b}_{i}^{\\dagger} \\hat{b}_{j} \\rangle$')\n",
    "plt.show()"
   ]
  },
  {
   "cell_type": "markdown",
   "id": "e1ea71cc-d349-43e6-a2f8-d9d9cc801f96",
   "metadata": {},
   "source": [
    "### Correlation vs distance"
   ]
  },
  {
   "cell_type": "code",
   "execution_count": null,
   "id": "881e4227-8349-45aa-8e30-b9cc50b3b75e",
   "metadata": {},
   "outputs": [],
   "source": [
    "plt.plot(np.arange(1,params['L']//2+1), bosoncorr_mat[params['L']//2-1,params['L']//2:], marker='o')\n",
    "plt.xlabel('Separation $r$', fontsize=12)\n",
    "plt.ylabel(r'Correlation $\\langle \\hat{b}_{L/2}^{\\dagger} \\hat{b}_{L/2+r} \\rangle$', fontsize=12)\n",
    "plt.yscale('log')\n",
    "plt.xscale('linear')\n",
    "plt.show()"
   ]
  },
  {
   "cell_type": "markdown",
   "id": "5774a000-e34a-4e62-a879-0edcc4885c6c",
   "metadata": {
    "jp-MarkdownHeadingCollapsed": true
   },
   "source": [
    "## <font color='blue'>On-site number distribution</font>"
   ]
  },
  {
   "cell_type": "markdown",
   "id": "05d1d14f-dccf-4f84-90d8-9a5e8e308e3e",
   "metadata": {},
   "source": [
    "### Calculate"
   ]
  },
  {
   "cell_type": "code",
   "execution_count": null,
   "id": "2681e1f0-5a32-4e93-9525-651c7088f0e7",
   "metadata": {},
   "outputs": [],
   "source": [
    "start_time = time.time()\n",
    "\n",
    "ndist = np.array(driver.get_npdm(mps, npdm_expr=proj_keys, fermionic_ops='')).T\n",
    "print(\"Deviation from unit filling =\", np.linalg.norm([ndist[i].sum()-1 for i in range(params['L'])]))\n",
    "\n",
    "end_time = time.time()\n",
    "elapsed_time = end_time - start_time\n",
    "print(f\"Elapsed time: {elapsed_time} seconds\")"
   ]
  },
  {
   "cell_type": "markdown",
   "id": "e95d9604-e00f-4090-b412-17e752bb3fef",
   "metadata": {},
   "source": [
    "### Site-averaged number distribution"
   ]
  },
  {
   "cell_type": "code",
   "execution_count": null,
   "id": "c14edb1b-4542-4613-9bfb-3c707c801a0b",
   "metadata": {},
   "outputs": [],
   "source": [
    "plt.plot(np.mean(ndist, axis=0), marker='o')\n",
    "plt.xlabel('$n$', fontsize=12)\n",
    "plt.ylabel('Site-avgd distribution $p(n)$', fontsize=12)\n",
    "plt.yscale('linear')\n",
    "plt.show()"
   ]
  },
  {
   "cell_type": "markdown",
   "id": "d26508e7-b615-47f6-8ad8-7433347dec4c",
   "metadata": {},
   "source": [
    "### Number fluctuation"
   ]
  },
  {
   "cell_type": "code",
   "execution_count": null,
   "id": "58f62821-e90e-4c03-a557-f70a2ea003f6",
   "metadata": {},
   "outputs": [],
   "source": [
    "nsqavg = np.array([np.dot(np.arange(params['nmax']+1)**2, ndist[i]) for i in range(params['L'])])\n",
    "numfluc = np.sqrt(nsqavg - navg*navg)\n",
    "plt.plot(np.arange(params['L']), numfluc, marker='o')\n",
    "plt.xlabel('Site', fontsize=12)\n",
    "plt.ylabel('Number fluctuation', fontsize=12)\n",
    "plt.title(f\"Avg = {np.mean(numfluc)}\")\n",
    "plt.show()"
   ]
  },
  {
   "cell_type": "markdown",
   "id": "f01eb5c3-d111-4073-9186-985553e349d4",
   "metadata": {},
   "source": [
    "### Calculate"
   ]
  },
  {
   "cell_type": "code",
   "execution_count": null,
   "id": "7599b1f8-d939-4bd6-b70d-38b085bb564b",
   "metadata": {},
   "outputs": [],
   "source": [
    "start_time = time.time()\n",
    "\n",
    "nnexp_mat = driver.get_npdm(mps, npdm_expr='CDCD', fermionic_ops='', mask=[0, 0, 1, 1])[0]\n",
    "densitycorr_mat = nnexp_mat - np.outer(navg, navg)\n",
    "print(\"Avg number fluctuation =\", np.mean(np.sqrt(np.diag(densitycorr_mat))))\n",
    "\n",
    "end_time = time.time()\n",
    "elapsed_time = end_time - start_time\n",
    "print(f\"Elapsed time: {elapsed_time} seconds\")"
   ]
  },
  {
   "cell_type": "markdown",
   "id": "5b44731d-69e8-4872-8ab1-dd6c445f4941",
   "metadata": {},
   "source": [
    "### Correlation matrix"
   ]
  },
  {
   "cell_type": "code",
   "execution_count": null,
   "id": "c8b83ca3-2064-4aa8-9cb7-71a5e4c6c399",
   "metadata": {},
   "outputs": [],
   "source": [
    "plt.matshow(densitycorr_mat, cmap='seismic', vmin=-np.abs(densitycorr_mat).max(), vmax=np.abs(densitycorr_mat).max())\n",
    "plt.colorbar()\n",
    "plt.xlabel('Site j', fontsize=12)\n",
    "plt.ylabel('Site i', fontsize=12)\n",
    "plt.title(r'Density correlation $\\langle \\hat{n}_{i}, \\hat{n}_{j} \\rangle$')\n",
    "plt.show()"
   ]
  },
  {
   "cell_type": "markdown",
   "id": "90e93cf9-9cd2-44a1-979b-a394b2ef27d7",
   "metadata": {},
   "source": [
    "### Correlation vs distance"
   ]
  },
  {
   "cell_type": "code",
   "execution_count": null,
   "id": "c7b81941-dc79-4a23-ba1d-c17b3fa75e02",
   "metadata": {},
   "outputs": [],
   "source": [
    "plt.plot(np.arange(1,params['L']//2+1), -densitycorr_mat[params['L']//2-1,params['L']//2:], marker='o')\n",
    "plt.xlabel('Separation $r$', fontsize=12)\n",
    "plt.ylabel(r'Correlation $-\\langle \\hat{n}_{L/2}, \\hat{n}_{L/2+r} \\rangle$', fontsize=12)\n",
    "plt.yscale('log')\n",
    "plt.xscale('linear')\n",
    "plt.show()"
   ]
  }
 ],
 "metadata": {
  "kernelspec": {
   "display_name": "Python 3 (ipykernel)",
   "language": "python",
   "name": "python3"
  },
  "language_info": {
   "codemirror_mode": {
    "name": "ipython",
    "version": 3
   },
   "file_extension": ".py",
   "mimetype": "text/x-python",
   "name": "python",
   "nbconvert_exporter": "python",
   "pygments_lexer": "ipython3",
   "version": "3.12.4"
  }
 },
 "nbformat": 4,
 "nbformat_minor": 5
}
