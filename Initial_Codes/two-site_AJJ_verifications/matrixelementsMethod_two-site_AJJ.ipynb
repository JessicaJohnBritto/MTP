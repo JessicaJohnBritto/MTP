{
 "cells": [
  {
   "cell_type": "code",
   "execution_count": 1,
   "id": "ef9c1759-b107-4c0b-9d9f-48cc46a4e85c",
   "metadata": {},
   "outputs": [],
   "source": [
    "import numpy as np\n",
    "from scipy.sparse import dok_matrix, csr_matrix\n",
    "from scipy.sparse.linalg import eigsh, expm_multiply\n",
    "import matplotlib.pyplot as plt\n",
    "from scipy import sparse as sp\n",
    "import ipywidgets as widgets\n",
    "from IPython.display import display\n",
    "from ipywidgets import interact"
   ]
  },
  {
   "cell_type": "code",
   "execution_count": 2,
   "id": "09500e17-8648-4aa2-9483-192b1fd397bf",
   "metadata": {},
   "outputs": [],
   "source": [
    "params = {}\n",
    "\n",
    "params['N_sites'] = 2\n",
    "params['N_particles'] = 5\n",
    "params['nmax'] = 5\n",
    "params['theta'] = 0\n",
    "\n",
    "params['J'] = 1\n",
    "params['U'] = 0\n",
    "params['mu'] = 0\n",
    "\n",
    "params['phi'] = np.pi\n",
    "params['left_region_end'] = 0\n",
    "params['right_region_start'] = 1"
   ]
  },
  {
   "cell_type": "code",
   "execution_count": 3,
   "id": "8f0a2f8b-c750-44eb-aa80-11131eec359b",
   "metadata": {},
   "outputs": [],
   "source": [
    "def generate_basis_twosites(params, **kwargs):\n",
    "    '''\n",
    "    Basis for two sites only\n",
    "    '''\n",
    "    basis_states = []\n",
    "    for n1 in range(0, params['nmax']+1):\n",
    "        n2 = params['N_particles'] - n1\n",
    "        basis_states.append((n1, n2))\n",
    "    num_basis_states = len(basis_states)\n",
    "    state_map = {state: idx for idx, state in enumerate(basis_states)}\n",
    "    return state_map"
   ]
  },
  {
   "cell_type": "code",
   "execution_count": 4,
   "id": "c181e746-75a1-42cb-90e4-8baa48c1359c",
   "metadata": {},
   "outputs": [
    {
     "data": {
      "text/plain": [
       "{(0, 5): 0, (1, 4): 1, (2, 3): 2, (3, 2): 3, (4, 1): 4, (5, 0): 5}"
      ]
     },
     "execution_count": 4,
     "metadata": {},
     "output_type": "execute_result"
    }
   ],
   "source": [
    "generate_basis_twosites(params)"
   ]
  },
  {
   "cell_type": "code",
   "execution_count": 5,
   "id": "fc241e13-0d00-4580-bd90-87a81cec979c",
   "metadata": {},
   "outputs": [],
   "source": [
    "def AJJ_twosites(params, **kwargs):\n",
    "    '''\n",
    "    AJJ for two sites only with theta = 0 (Bosons)\n",
    "    '''\n",
    "    state_map = generate_basis_twosites(params)\n",
    "    num_basis_states = len(state_map)\n",
    "    # H = np.zeros((num_basis_states, num_basis_states), dtype=complex)\n",
    "    H = dok_matrix((num_basis_states, num_basis_states), dtype=complex)\n",
    "\n",
    "    for (n0, n1), idx in state_map.items():\n",
    "        H[idx, idx] += params['U'] * (n0 * (n0 - 1) / 2 + n1 * (n1 - 1) / 2)\n",
    "\n",
    "        if n0 > 0 and n1 < params['nmax']:\n",
    "            ## Left-to-right hopping\n",
    "            final_state = (n0 - 1, n1 + 1)\n",
    "            final_idx = state_map[final_state]\n",
    "            phase_factor = np.exp(1j * params['theta'] * n0)\n",
    "            H[idx, final_idx] += -params['J'] * phase_factor * np.sqrt(n0 * (n1 + 1))\n",
    "\n",
    "        if n1 > 0 and n0 < params['nmax']:\n",
    "            ## Right-to-left hopping\n",
    "            final_state = (n0 + 1, n1 - 1)\n",
    "            final_idx = state_map[final_state]\n",
    "            phase_factor = np.exp(1j * params['theta'] * n1)\n",
    "            H[idx, final_idx] += -params['J'] * phase_factor * np.sqrt(n1 * (n0 + 1))\n",
    "    H_csr = H.tocsr()\n",
    "    eigenval, eigenvec = eigsh(H_csr, k=2, which='SA')\n",
    "    return H_csr, eigenval, eigenvec"
   ]
  },
  {
   "cell_type": "code",
   "execution_count": 6,
   "id": "edc99110-e8a1-40fb-90a4-8687e6a4faf2",
   "metadata": {},
   "outputs": [
    {
     "data": {
      "text/plain": [
       "(6, 6)"
      ]
     },
     "execution_count": 6,
     "metadata": {},
     "output_type": "execute_result"
    }
   ],
   "source": [
    "H, egval, _ = AJJ_twosites(params)\n",
    "H.shape"
   ]
  },
  {
   "cell_type": "code",
   "execution_count": 7,
   "id": "cad35250-e876-44c3-9e5c-7e32158888f8",
   "metadata": {},
   "outputs": [],
   "source": [
    "def parity_op(params, **kwargs):\n",
    "    '''\n",
    "    Returns Parity Operator\n",
    "    '''\n",
    "    A = sp.diags([(-1.)**n for n in range(params['nmax']+1)])\n",
    "    return A"
   ]
  },
  {
   "cell_type": "code",
   "execution_count": null,
   "id": "ab0c49f3-5395-4553-9b8c-c2c387bd6fa6",
   "metadata": {},
   "outputs": [],
   "source": [
    "# parity_op(params).toarray()"
   ]
  },
  {
   "cell_type": "code",
   "execution_count": 8,
   "id": "1e0042f6-f5dd-4cd6-892f-2002a4a6b7c7",
   "metadata": {},
   "outputs": [],
   "source": [
    "def construct_region_parity_operator(params, region='left', **kwargs):\n",
    "    \"\"\"\n",
    "    Constructs a parity operator affecting only the specified region (e.g., left side).\n",
    "    \n",
    "    Parameters:\n",
    "    params (dict): Dictionary containing system parameters.\n",
    "    region (str): The region on which to base the parity operation ('left' or 'right').\n",
    "\n",
    "    Returns:\n",
    "    ndarray: The parity operator matrix for the specified region acting on the entire system.\n",
    "    \"\"\"\n",
    "    ## Generate basis states for the two-site system\n",
    "    basis_states = generate_basis_twosites(params)\n",
    "    num_basis_states = len(basis_states)\n",
    "    \n",
    "    parity_operator = np.zeros((num_basis_states, num_basis_states), dtype=complex)\n",
    "    \n",
    "    for (n0, n1), idx in basis_states.items():\n",
    "        ## Determine the parity factor based on the specified region\n",
    "        if region == 'left':\n",
    "            parity_factor = (-1) ** n0\n",
    "        elif region == 'right':\n",
    "            parity_factor = (-1) ** n1\n",
    "        else:\n",
    "            raise ValueError(\"Region must be either 'left' or 'right'\")\n",
    "        \n",
    "        ## Assign the parity factor to the diagonal element for the basis state\n",
    "        parity_operator[idx, idx] = parity_factor\n",
    "\n",
    "    return parity_operator\n"
   ]
  },
  {
   "cell_type": "code",
   "execution_count": 9,
   "id": "8a403502-0215-418b-8978-2a7d9994a466",
   "metadata": {},
   "outputs": [],
   "source": [
    "# parity_op_left = construct_region_parity_operator(params, region='left')\n",
    "# print(\"Parity Operator for Left Region:\\n\", parity_op_left)"
   ]
  },
  {
   "cell_type": "code",
   "execution_count": 10,
   "id": "b21346f0-6316-4aa5-a85c-d4e3ab30e7d0",
   "metadata": {},
   "outputs": [],
   "source": [
    "def construct_region_phase_operator(params, region='left', **kwargs):\n",
    "    \"\"\"\n",
    "    Constructs a phase operator affecting only the specified region with phase difference phi.\n",
    "    \n",
    "    Parameters:\n",
    "    params (dict): Dictionary containing system parameters.\n",
    "    region (str): The region on which to base the phase operation ('left' or 'right').\n",
    "\n",
    "    Returns:\n",
    "    ndarray: The phase operator matrix for the specified region acting on the entire system.\n",
    "    \"\"\"\n",
    "    ## Generate basis states for the two-site system\n",
    "    basis_states = generate_basis_twosites(params)\n",
    "    num_basis_states = len(basis_states)\n",
    "    \n",
    "    phase_operator = np.zeros((num_basis_states, num_basis_states), dtype=complex)\n",
    "    \n",
    "    for (n0, n1), idx in basis_states.items():\n",
    "        ## Determine the phase factor based on the specified region\n",
    "        if region == 'left':\n",
    "            phase_factor = np.exp(1j * params['phi'] * n0)\n",
    "        elif region == 'right':\n",
    "            phase_factor = np.exp(1j * params['phi'] * n1)\n",
    "        else:\n",
    "            raise ValueError(\"Region must be either 'left' or 'right'\")\n",
    "        \n",
    "        ## Assign the phase factor to the diagonal element for the basis state\n",
    "        phase_operator[idx, idx] = phase_factor\n",
    "\n",
    "    return phase_operator\n"
   ]
  },
  {
   "cell_type": "code",
   "execution_count": 11,
   "id": "69eb38a3-c034-4e30-88f6-b843e5002473",
   "metadata": {
    "scrolled": true
   },
   "outputs": [],
   "source": [
    "# params['phi'] = np.pi \n",
    "# phase_op_left = construct_region_phase_operator(params, region='left')\n",
    "# print(\"Phase Operator for Left Region:\\n\", phase_op_left)"
   ]
  },
  {
   "cell_type": "code",
   "execution_count": 14,
   "id": "7f1cc930-3bda-4744-bc7c-82e65abdfc8f",
   "metadata": {},
   "outputs": [],
   "source": [
    "params['J'] = 1\n",
    "params['U'] = 0\n",
    "params['T'] = 10.0,  # Total time (T)\n",
    "params['n_steps'] = 100\n",
    "\n",
    "time_steps = np.linspace(0, params['T'], params['n_steps'])  \n",
    "\n",
    "H, _, eigenvectors = AJJ_twosites(params)\n",
    "ground_state = eigenvectors[:, 0]  \n",
    "\n",
    "phase_op = construct_region_phase_operator(params, region='left')\n",
    "modified_state = phase_op @ ground_state  "
   ]
  },
  {
   "cell_type": "code",
   "execution_count": 13,
   "id": "eb27b0ed-ff05-44db-9e20-aca4b781faef",
   "metadata": {},
   "outputs": [
    {
     "ename": "ValueError",
     "evalue": "dimension mismatch",
     "output_type": "error",
     "traceback": [
      "\u001b[1;31m---------------------------------------------------------------------------\u001b[0m",
      "\u001b[1;31mValueError\u001b[0m                                Traceback (most recent call last)",
      "Cell \u001b[1;32mIn[13], line 6\u001b[0m\n\u001b[0;32m      3\u001b[0m index_to_state \u001b[38;5;241m=\u001b[39m {idx: state \u001b[38;5;28;01mfor\u001b[39;00m state, idx \u001b[38;5;129;01min\u001b[39;00m state_map\u001b[38;5;241m.\u001b[39mitems()}\n\u001b[0;32m      5\u001b[0m \u001b[38;5;28;01mfor\u001b[39;00m t \u001b[38;5;129;01min\u001b[39;00m time_steps:\n\u001b[1;32m----> 6\u001b[0m     evolved_state \u001b[38;5;241m=\u001b[39m expm_multiply(\u001b[38;5;241m-\u001b[39m\u001b[38;5;241m1\u001b[39mj \u001b[38;5;241m*\u001b[39m H \u001b[38;5;241m*\u001b[39m t, modified_state)\n\u001b[0;32m      7\u001b[0m     \u001b[38;5;66;03m## Calculate the particle difference directly\u001b[39;00m\n\u001b[0;32m      8\u001b[0m     particle_flow \u001b[38;5;241m=\u001b[39m \u001b[38;5;241m0\u001b[39m\n",
      "File \u001b[1;32mD:\\AnacondaFinal\\anacondaInstall\\envs\\AJJ\\Lib\\site-packages\\scipy\\sparse\\_matrix.py:44\u001b[0m, in \u001b[0;36mspmatrix.__mul__\u001b[1;34m(self, other)\u001b[0m\n\u001b[0;32m     43\u001b[0m \u001b[38;5;28;01mdef\u001b[39;00m \u001b[38;5;21m__mul__\u001b[39m(\u001b[38;5;28mself\u001b[39m, other):\n\u001b[1;32m---> 44\u001b[0m     \u001b[38;5;28;01mreturn\u001b[39;00m \u001b[38;5;28mself\u001b[39m\u001b[38;5;241m.\u001b[39m_matmul_dispatch(other)\n",
      "File \u001b[1;32mD:\\AnacondaFinal\\anacondaInstall\\envs\\AJJ\\Lib\\site-packages\\scipy\\sparse\\_base.py:598\u001b[0m, in \u001b[0;36m_spbase._matmul_dispatch\u001b[1;34m(self, other)\u001b[0m\n\u001b[0;32m    595\u001b[0m \u001b[38;5;28;01mif\u001b[39;00m other\u001b[38;5;241m.\u001b[39mndim \u001b[38;5;241m==\u001b[39m \u001b[38;5;241m1\u001b[39m \u001b[38;5;129;01mor\u001b[39;00m other\u001b[38;5;241m.\u001b[39mndim \u001b[38;5;241m==\u001b[39m \u001b[38;5;241m2\u001b[39m \u001b[38;5;129;01mand\u001b[39;00m other\u001b[38;5;241m.\u001b[39mshape[\u001b[38;5;241m1\u001b[39m] \u001b[38;5;241m==\u001b[39m \u001b[38;5;241m1\u001b[39m:\n\u001b[0;32m    596\u001b[0m     \u001b[38;5;66;03m# dense row or column vector\u001b[39;00m\n\u001b[0;32m    597\u001b[0m     \u001b[38;5;28;01mif\u001b[39;00m other\u001b[38;5;241m.\u001b[39mshape \u001b[38;5;241m!=\u001b[39m (N,) \u001b[38;5;129;01mand\u001b[39;00m other\u001b[38;5;241m.\u001b[39mshape \u001b[38;5;241m!=\u001b[39m (N, \u001b[38;5;241m1\u001b[39m):\n\u001b[1;32m--> 598\u001b[0m         \u001b[38;5;28;01mraise\u001b[39;00m \u001b[38;5;167;01mValueError\u001b[39;00m(\u001b[38;5;124m'\u001b[39m\u001b[38;5;124mdimension mismatch\u001b[39m\u001b[38;5;124m'\u001b[39m)\n\u001b[0;32m    600\u001b[0m     result \u001b[38;5;241m=\u001b[39m \u001b[38;5;28mself\u001b[39m\u001b[38;5;241m.\u001b[39m_matmul_vector(np\u001b[38;5;241m.\u001b[39mravel(other))\n\u001b[0;32m    602\u001b[0m     \u001b[38;5;28;01mif\u001b[39;00m \u001b[38;5;28misinstance\u001b[39m(other, np\u001b[38;5;241m.\u001b[39mmatrix):\n",
      "\u001b[1;31mValueError\u001b[0m: dimension mismatch"
     ]
    }
   ],
   "source": [
    "particle_diff_over_time = []\n",
    "state_map = generate_basis_twosites(params)\n",
    "index_to_state = {idx: state for state, idx in state_map.items()}\n",
    "\n",
    "for t in time_steps:\n",
    "    evolved_state = expm_multiply(-1j * H * t, modified_state)\n",
    "    ## Calculate the particle difference directly\n",
    "    particle_flow = 0\n",
    "    for idx, state in enumerate(evolved_state):\n",
    "        n_left, n_right = index_to_state[idx]\n",
    "        particle_flow += abs(evolved_state[idx])**2 * (n_left - n_right)\n",
    "    particle_diff_over_time.append(particle_flow)\n",
    "\n",
    "plt.plot(time_steps, particle_diff_over_time)\n",
    "plt.xlabel(\"Time\")\n",
    "plt.ylabel(\"Particle Flow Difference between left and right regions\")\n",
    "plt.title(\"Particle Flow Difference Over Time with Phase Difference\")\n",
    "plt.grid(True)\n",
    "plt.show()"
   ]
  },
  {
   "cell_type": "code",
   "execution_count": null,
   "id": "31962a4c-396d-4c6a-a6bd-3fa63e4ca7c5",
   "metadata": {},
   "outputs": [],
   "source": []
  },
  {
   "cell_type": "code",
   "execution_count": null,
   "id": "6d047aa0-e933-4482-8701-9c8635c0fea3",
   "metadata": {},
   "outputs": [],
   "source": [
    "def plot_particle_flow_diff(J, U):\n",
    "    params['J'] = J\n",
    "    params['U'] = U\n",
    "    \n",
    "    H, _, eigenvectors = AJJ_twosites(params)\n",
    "    ground_state = eigenvectors[:, 0]\n",
    "    \n",
    "    phase_op = construct_region_phase_operator(params, region='left')\n",
    "    modified_state = phase_op @ ground_state\n",
    "    \n",
    "    state_map = generate_basis_twosites(params)\n",
    "    index_to_state = {idx: state for state, idx in state_map.items()}\n",
    "    \n",
    "    particle_diff_over_time = []\n",
    "    time_steps = np.linspace(0, params['T'], params['n_steps'])\n",
    "    \n",
    "    for t in time_steps:\n",
    "        evolved_state = expm_multiply(-1j * H * t, modified_state)\n",
    "        particle_flow = 0\n",
    "        for idx, state in enumerate(evolved_state):\n",
    "            n_left, n_right = index_to_state[idx]\n",
    "            particle_flow += abs(evolved_state[idx])**2 * (n_left - n_right)\n",
    "        particle_diff_over_time.append(particle_flow)\n",
    "    \n",
    "    plt.plot(time_steps, particle_diff_over_time, '--o', ms=4)\n",
    "    plt.xlabel(\"Time\")\n",
    "    plt.ylabel(\"Particle Flow Difference (Left - Right)\")\n",
    "    plt.title(f\"Particle Flow Difference Over Time\\n with J={J}, $\\\\phi = {params[\"phi\"]:.2f}$, U={U}\")\n",
    "    plt.grid(True)\n",
    "    plt.show()\n",
    "\n",
    "## Create interactive sliders for J and U\n",
    "interact(plot_particle_flow_diff, \n",
    "         J=widgets.FloatSlider(value=1, min=0, max=20, step=0.1, description='J'),\n",
    "         U=widgets.FloatSlider(value=0, min=0, max=20, step=0.1, description='U'))\n"
   ]
  },
  {
   "cell_type": "code",
   "execution_count": null,
   "id": "7e7af655-1c2f-4b6d-a282-80206b894684",
   "metadata": {},
   "outputs": [],
   "source": [
    "import numpy as np\n",
    "import matplotlib.pyplot as plt\n",
    "\n",
    "params['hbar'] = 1.0 # Planck's constant (ħ)\n",
    "\n",
    "# Define the differential equations\n",
    "def equations(u, t, params):\n",
    "    phi, z = u\n",
    "    # Equations from Euler-Lagrange (simplified with θ_z = 0)\n",
    "    dphi_dt = (params['J'] / params['hbar']) * z / np.sqrt(1 - z**2) * np.cos(phi) + (params['N_particles'] * params['U'] / (4 * params['hbar'])) * z\n",
    "    dz_dt = -(params['J'] / params['hbar']) * np.sqrt(1 - z**2) * np.sin(phi)\n",
    "    return [dphi_dt, dz_dt]\n",
    "\n",
    "def forward_euler(params, f_user, U0):\n",
    "    t = np.linspace(0, T, n+1)\n",
    "    u = np.zeros((n+1, len(U0)))\n",
    "    u[0, :] = U0\n",
    "    dt = T / n\n",
    "    for k in range(n):\n",
    "        u[k+1, :] = u[k, :] + dt * np.array(f_user(u[k, :], t[k], params))\n",
    "    return u, t\n",
    "\n",
    "# Initial conditions for φ and z\n",
    "U0 = [params['phi'], 0]\n",
    "\n",
    "# Solve the differential equations using Euler's method\n",
    "solution, time_steps = forward_euler(params, equations, U0)\n",
    "\n",
    "# Extract the solutions for φ and z\n",
    "phi_solution = solution[:, 0]\n",
    "z_solution = solution[:, 1]\n",
    "\n",
    "# Plotting the results\n",
    "plt.figure(figsize=(12, 6))\n",
    "\n",
    "# Phase difference (φ)\n",
    "plt.subplot(1, 2, 1)\n",
    "plt.plot(time_steps, phi_solution, \"--o\", label=r'$\\phi(t)$', ms=4)\n",
    "plt.xlabel(\"Time (t)\")\n",
    "plt.ylabel(r\"Phase Difference $\\phi(t)$\")\n",
    "plt.title(r\"Time Evolution of $\\phi(t)$\")\n",
    "plt.grid(True)\n",
    "plt.legend()\n",
    "\n",
    "# Imbalance (z)\n",
    "plt.subplot(1, 2, 2)\n",
    "plt.plot(time_steps, z_solution, \"--o\", label=r'$z(t)$', color='red', ms=4)\n",
    "plt.xlabel(\"Time (t)\")\n",
    "plt.ylabel(r\"Imbalance $z(t)$\")\n",
    "plt.title(r\"Time Evolution of $z(t)$\")\n",
    "plt.grid(True)\n",
    "plt.legend()\n",
    "\n",
    "plt.tight_layout()\n",
    "plt.show()"
   ]
  },
  {
   "cell_type": "code",
   "execution_count": null,
   "id": "81a1da1b-c5a1-4211-a282-1170350a16f6",
   "metadata": {},
   "outputs": [],
   "source": []
  },
  {
   "cell_type": "code",
   "execution_count": null,
   "id": "0964287b-0519-4209-be77-1c268b788e6a",
   "metadata": {},
   "outputs": [],
   "source": [
    "gaps = []\n",
    "for j in np.arange(0, 1, 0.1).round(1):\n",
    "    params['J'] = j\n",
    "    _, eigval, _ = AJJ_twosites(params)\n",
    "    gap = np.abs(eigval[1]-eigval[0])\n",
    "    gaps.append(gap)\n",
    "plt.plot(np.arange(0, 1, 0.1).round(1), gaps, label=f'θ={params[\"theta\"]:.2f}')\n",
    "plt.xlabel('J')\n",
    "plt.ylabel('First Excitation Gap')\n",
    "plt.title('First Excitation Gap vs J for Anyonic Hubbard')\n",
    "plt.legend()\n",
    "plt.grid(True)\n",
    "plt.show()"
   ]
  }
 ],
 "metadata": {
  "kernelspec": {
   "display_name": "Python 3 (ipykernel)",
   "language": "python",
   "name": "python3"
  },
  "language_info": {
   "codemirror_mode": {
    "name": "ipython",
    "version": 3
   },
   "file_extension": ".py",
   "mimetype": "text/x-python",
   "name": "python",
   "nbconvert_exporter": "python",
   "pygments_lexer": "ipython3",
   "version": "3.12.3"
  }
 },
 "nbformat": 4,
 "nbformat_minor": 5
}
