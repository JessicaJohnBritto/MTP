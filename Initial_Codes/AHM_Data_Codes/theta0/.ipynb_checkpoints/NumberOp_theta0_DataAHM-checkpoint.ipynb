{
 "cells": [
  {
   "cell_type": "code",
   "execution_count": 3,
   "id": "18fb2ad7-ef70-4378-bfd8-bba3b7c5a2d1",
   "metadata": {},
   "outputs": [],
   "source": [
    "import csv\n",
    "import pandas as pd\n",
    "from pyblock2.driver.core import DMRGDriver, SymmetryTypes, MPOAlgorithmTypes\n",
    "import numpy as np\n",
    "import matplotlib.pyplot as plt\n",
    "from scipy.linalg import expm\n",
    "from pathlib import Path"
   ]
  },
  {
   "cell_type": "markdown",
   "id": "f0e1d59e-8e71-498e-a451-7c6c103fc57a",
   "metadata": {},
   "source": [
    "# Data Storing Scripts"
   ]
  },
  {
   "cell_type": "code",
   "execution_count": null,
   "id": "76d2aa7b-b033-4902-8d7f-f627bcf1f2d2",
   "metadata": {},
   "outputs": [],
   "source": [
    "def generate_file_name(params):\n",
    "    \"\"\"\n",
    "    Generate a file name dynamically based on the given parameters.\n",
    "    Parameters:\n",
    "    - params (dict): A dictionary containing 'L', 'nmax', and 't' as keys.\n",
    "    Returns:\n",
    "    - str: The dynamically generated file name.\n",
    "    \"\"\"\n",
    "    # Format the 't' value to scientific notation if needed\n",
    "    t_formatted = \"{:.0e}\".format(params['t'])\n",
    "    file_name = f\"L{params['L']}_t{t_formatted}_Nmax{params['NB_MAX']}_Nbosons{params['N_BOSON']}_U{params['u']}.csv\"\n",
    "    return file_name\n"
   ]
  },
  {
   "cell_type": "markdown",
   "id": "123e7358-0ec7-44d0-9a57-e8a147a1a7f0",
   "metadata": {},
   "source": [
    "# Data for $\\theta = 0$ for $L$ = 10, $N\\_{Boson}$ = 10, $N\\_{Max}$ = 3, $U$ = 1"
   ]
  },
  {
   "cell_type": "code",
   "execution_count": 4,
   "id": "2329fcb5-7663-43ed-bb90-9bf82994ee20",
   "metadata": {},
   "outputs": [],
   "source": [
    "import os\n",
    "from pathlib import Path\n",
    "import pandas as pd\n",
    "import numpy as np\n",
    "\n",
    "def create_folders_and_store_data(theta, L, data, filename):\n",
    "    \"\"\"\n",
    "    Create folders dynamically based on theta and L values, and store data in a file.\n",
    "\n",
    "    Parameters:\n",
    "    - theta (float or str): The value of theta (e.g., 0, pi/4, pi/2, etc.).\n",
    "    - L (int): The integer value of L.\n",
    "    - data (DataFrame): The data to be stored.\n",
    "    - filename (str): The name of the file to store data in.\n",
    "    \"\"\"\n",
    "    # Convert theta to a string format suitable for folder names\n",
    "    theta_str = f\"theta{theta}\".replace(\"/\", \"_\").replace(\".\", \"\")\n",
    "    \n",
    "    # Define the base directory\n",
    "    base_dir = Path.cwd() / theta_str / f\"L{L}\"\n",
    "    \n",
    "    # Create directories if they don't exist\n",
    "    base_dir.mkdir(parents=True, exist_ok=True)\n",
    "    \n",
    "    # Define the full file path\n",
    "    file_path = base_dir / filename\n",
    "    \n",
    "    # Save the data to a CSV file in the created directory\n",
    "    data.to_csv(file_path, index=False)\n",
    "\n",
    "# Example usage:\n",
    "theta_values = [0, 'pi/4']\n",
    "L_values = [10, 20]\n",
    "\n",
    "# Create some example data\n",
    "example_data = pd.DataFrame({\n",
    "    'Column1': np.random.rand(10),\n",
    "    'Column2': np.random.rand(10)\n",
    "})\n",
    "\n",
    "for theta in theta_values:\n",
    "    for L in L_values:\n",
    "        filename = f\"data_L{L}.csv\"\n",
    "        create_folders_and_store_data(theta, L, example_data, filename)\n"
   ]
  },
  {
   "cell_type": "code",
   "execution_count": null,
   "id": "4e22c0f1-b56d-4638-b327-9f9e36736ea8",
   "metadata": {},
   "outputs": [],
   "source": []
  }
 ],
 "metadata": {
  "kernelspec": {
   "display_name": "Python 3 (ipykernel)",
   "language": "python",
   "name": "python3"
  },
  "language_info": {
   "codemirror_mode": {
    "name": "ipython",
    "version": 3
   },
   "file_extension": ".py",
   "mimetype": "text/x-python",
   "name": "python",
   "nbconvert_exporter": "python",
   "pygments_lexer": "ipython3",
   "version": "3.12.3"
  }
 },
 "nbformat": 4,
 "nbformat_minor": 5
}
