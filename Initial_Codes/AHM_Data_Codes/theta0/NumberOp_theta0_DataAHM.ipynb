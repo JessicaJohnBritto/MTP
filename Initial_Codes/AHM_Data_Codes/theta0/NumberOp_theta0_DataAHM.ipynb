{
 "cells": [
  {
   "cell_type": "code",
   "execution_count": 3,
   "id": "18fb2ad7-ef70-4378-bfd8-bba3b7c5a2d1",
   "metadata": {},
   "outputs": [],
   "source": [
    "import csv\n",
    "import pandas as pd\n",
    "from pyblock2.driver.core import DMRGDriver, SymmetryTypes, MPOAlgorithmTypes\n",
    "import numpy as np\n",
    "import matplotlib.pyplot as plt\n",
    "from scipy.linalg import expm\n",
    "from pathlib import Path"
   ]
  },
  {
   "cell_type": "markdown",
   "id": "f0e1d59e-8e71-498e-a451-7c6c103fc57a",
   "metadata": {},
   "source": [
    "# Data Storing Scripts"
   ]
  },
  {
   "cell_type": "code",
   "execution_count": null,
   "id": "76d2aa7b-b033-4902-8d7f-f627bcf1f2d2",
   "metadata": {},
   "outputs": [],
   "source": [
    "def generate_file_name(params):\n",
    "    \"\"\"\n",
    "    Generate a file name dynamically based on the given parameters.\n",
    "    Parameters:\n",
    "    - params (dict): A dictionary containing 'L', 'nmax', and 't' as keys.\n",
    "    Returns:\n",
    "    - str: The dynamically generated file name.\n",
    "    \"\"\"\n",
    "    # Format the 't' value to scientific notation if needed\n",
    "    t_formatted = \"{:.0e}\".format(params['t'])\n",
    "    file_name = f\"L{params['L']}_t{t_formatted}_Nmax{params['NB_MAX']}_Nbosons{params['N_BOSON']}_U{params['u']}.csv\"\n",
    "    return file_name\n"
   ]
  },
  {
   "cell_type": "markdown",
   "id": "123e7358-0ec7-44d0-9a57-e8a147a1a7f0",
   "metadata": {},
   "source": [
    "# Data for $\\theta = 0$ for $L$ = 10, $N\\_{Boson}$ = 10, $N\\_{Max}$ = 3, $U$ = 1"
   ]
  },
  {
   "cell_type": "code",
   "execution_count": null,
   "id": "2329fcb5-7663-43ed-bb90-9bf82994ee20",
   "metadata": {},
   "outputs": [],
   "source": []
  }
 ],
 "metadata": {
  "kernelspec": {
   "display_name": "Python 3 (ipykernel)",
   "language": "python",
   "name": "python3"
  },
  "language_info": {
   "codemirror_mode": {
    "name": "ipython",
    "version": 3
   },
   "file_extension": ".py",
   "mimetype": "text/x-python",
   "name": "python",
   "nbconvert_exporter": "python",
   "pygments_lexer": "ipython3",
   "version": "3.12.3"
  }
 },
 "nbformat": 4,
 "nbformat_minor": 5
}
