{
 "cells": [
  {
   "cell_type": "code",
   "execution_count": 2,
   "id": "d34d2381-a1b7-47a9-96b6-3c9416039674",
   "metadata": {},
   "outputs": [],
   "source": [
    "import csv\n",
    "import pandas as pd\n",
    "from pyblock2.driver.core import DMRGDriver, SymmetryTypes, MPOAlgorithmTypes\n",
    "import numpy as np\n",
    "import matplotlib.pyplot as plt\n",
    "from scipy.linalg import expm"
   ]
  },
  {
   "cell_type": "markdown",
   "id": "11b929e0-9d81-489b-9805-9936b3b719c0",
   "metadata": {},
   "source": [
    "# Data Storing Scripts"
   ]
  },
  {
   "cell_type": "code",
   "execution_count": 4,
   "id": "58468629-3147-4f10-bc15-10f32be91b75",
   "metadata": {},
   "outputs": [],
   "source": [
    "def write_to_csv(file_name, data):\n",
    "    \"\"\"\n",
    "    Write data to a CSV file.\n",
    "\n",
    "    Parameters:\n",
    "    - file_name (str): The name of the CSV file to write to.\n",
    "    - data (list of lists): The data to write to the CSV file, where each inner list is a row.\n",
    "    \"\"\"\n",
    "    with open(file_name, mode='w', newline='') as file:\n",
    "        writer = csv.writer(file)\n",
    "        writer.writerows(data)"
   ]
  },
  {
   "cell_type": "code",
   "execution_count": 3,
   "id": "27add6e8-90ef-4da2-92aa-ce7f39c8e6bf",
   "metadata": {},
   "outputs": [],
   "source": [
    "data = [ ['L', 't', 'U', 'N_bosons', 'N_max', 'GndEigenval', 'GndEigenvec', 'FirstExcitedEigenval', 'Entropy'] ]"
   ]
  },
  {
   "cell_type": "code",
   "execution_count": 4,
   "id": "34f35d58-0dd8-401c-a68a-ae3aa96d4844",
   "metadata": {},
   "outputs": [],
   "source": [
    "write_to_csv(\"theta_PiByfour_AHMDmrg_data.csv\", data)"
   ]
  },
  {
   "cell_type": "code",
   "execution_count": 5,
   "id": "c0b4188c-573e-45d8-b8d3-220ca6ba45ec",
   "metadata": {},
   "outputs": [],
   "source": [
    "def add_data_to_csv(file_name, data, **kwargs):\n",
    "    \"\"\"\n",
    "    Append new data to a CSV file using pandas.\n",
    "\n",
    "    Parameters:\n",
    "    - file_name (str): The name of the CSV file to write to.\n",
    "    - data (list of lists): The data to append, where each sublist represents a row.\n",
    "    \"\"\"\n",
    "    df = pd.DataFrame(data, columns=['L', 't', 'U', 'N_bosons', 'N_max', 'GndEigenval', 'GndEigenvec', 'FirstExcitedEigenval', 'Entropy'])\n",
    "    \n",
    "    df.to_csv(file_name, mode='a', index=False, header=False)"
   ]
  },
  {
   "cell_type": "code",
   "execution_count": 6,
   "id": "96a9e7c4-e373-4725-9f70-86eb2a18ba19",
   "metadata": {},
   "outputs": [],
   "source": [
    "def delete_row_in_csv(file_name, **kwargs):\n",
    "    \"\"\"\n",
    "    Delete rows in a CSV file based on a condition.\n",
    "\n",
    "    Parameters:\n",
    "    - file_name (str): The name of the CSV file to update.\n",
    "    - condition (function): A function that takes a DataFrame row and returns True for rows to keep.\n",
    "    \"\"\"\n",
    "    df = pd.read_csv(file_name)\n",
    "    if 'condition' in kwargs:\n",
    "        df = df[condition(df)]\n",
    "    elif 'row_index' in kwargs:\n",
    "        df = df.drop(kwargs['row_index'])\n",
    "    df.to_csv(file_name, index=False)\n",
    "\n",
    "# ## To delete first row\n",
    "# delete_row_in_csv(\"theta0_AHMDmrg_data.csv\", row_index = 0) "
   ]
  },
  {
   "cell_type": "code",
   "execution_count": 7,
   "id": "e9e8757e-eace-434b-82d2-24d7b181c1aa",
   "metadata": {},
   "outputs": [],
   "source": [
    "def update_csv_column(file_path, column_name, condition_column, condition_value, new_values):\n",
    "    \"\"\"\n",
    "    Update a specific column in a CSV file based on a condition.\n",
    "\n",
    "    Parameters:\n",
    "    - file_path (str): The path to the CSV file.\n",
    "    - column_name (str): The name of the column to update.\n",
    "    - condition_column (str): The column name to apply the condition on.\n",
    "    - condition_value (any): The value to match in the condition column.\n",
    "    - new_values (list or any): The new values to assign to the column where the condition is met.\n",
    "    \"\"\"\n",
    "    df = pd.read_csv(file_path)\n",
    "    condition = df[condition_column] == condition_value\n",
    "    df.loc[condition, column_name] = new_values * condition.sum()\n",
    "    df.to_csv(file_path, index=False)"
   ]
  },
  {
   "cell_type": "code",
   "execution_count": 8,
   "id": "017d395e-3ef6-4f73-bd6c-572abc9531ba",
   "metadata": {},
   "outputs": [],
   "source": [
    "## To remove all the entries under a column and fill it with ''\n",
    "# df = pd.read_csv(\"theta_PiByfour_AHMDmrg_data.csv\")\n",
    "# df['Entropy'] = ''\n",
    "# df.to_csv(\"theta_PiByfour_AHMDmrg_data.csv\", index=False)"
   ]
  },
  {
   "cell_type": "code",
   "execution_count": 3,
   "id": "b2544147-3b81-4609-ae27-71ea4470c0ca",
   "metadata": {},
   "outputs": [],
   "source": [
    "# ## To delete a column completely\n",
    "# df = pd.read_csv(\"theta_PiByfour_AHMDmrg_data.csv\")\n",
    "# df_dropped = df.drop('GndEigenvec', axis=1)\n",
    "# df_dropped.to_csv(\"theta_PiByfour_AHMDmrg_data.csv\", index=False)"
   ]
  },
  {
   "cell_type": "markdown",
   "id": "96c80589-43d7-47c2-bf93-3b44a8b41d49",
   "metadata": {},
   "source": [
    "# Data for $\\theta = \\frac{\\pi}{4}$ for $L$ = 10, $N\\_{Boson}$ = 10, $N\\_{Max}$ = 3, $U$ = 1"
   ]
  },
  {
   "cell_type": "code",
   "execution_count": 9,
   "id": "b8ddfdc9-0ba0-4c7a-a2ef-936f5ae00057",
   "metadata": {},
   "outputs": [],
   "source": [
    "params={}\n",
    "params['L'] = 10\n",
    "params['t'] = 1\n",
    "params['u'] = 1\n",
    "params['mu'] = 0\n",
    "params['NB_MAX'] = 3 # max n_boson per site\n",
    "params['N_BOSON'] = 10\n",
    "params['theta'] = np.pi/4\n",
    "params['theta_list'] = [0, np.pi/4, 3*np.pi/4, np.pi/2, np.pi]\n",
    "params['t_list'] = np.arange(0.01, 2, 0.1)\n",
    "\n",
    "driver = DMRGDriver(scratch=\"./tmp\", symm_type=SymmetryTypes.SAny|SymmetryTypes.CPX, n_threads=4)\n",
    "\n",
    "driver.set_symmetry_groups(\"U1\")\n",
    "Q = driver.bw.SX"
   ]
  },
  {
   "cell_type": "code",
   "execution_count": 10,
   "id": "d440c38a-272f-4fa6-823f-c14a77b7e899",
   "metadata": {},
   "outputs": [],
   "source": [
    "site_basis, site_ops = [], []\n",
    "for k in range(params['L']):\n",
    "    basis = [(Q(i), 1) for i in range(params['NB_MAX'] + 1)] \n",
    "    ops = {\n",
    "        \"\": np.identity(params['NB_MAX'] + 1),                           # identity\n",
    "        \"C\": np.diag(np.sqrt(np.arange(1, params['NB_MAX'] + 1)), k=-1), # b+\n",
    "        \"D\": np.diag(np.sqrt(np.arange(1, params['NB_MAX'] + 1)), k=1),  # b\n",
    "        \"N\": np.diag(np.arange(0, params['NB_MAX'] + 1), k=0),           # particle number\n",
    "        \"A\": np.diag(np.sqrt(np.arange(1, params['NB_MAX'] + 1))*np.exp(1j * params['theta'] * np.arange(params['NB_MAX'])), k=-1), # A+_withPhase  \n",
    "        \"B\": np.diag(np.sqrt(np.arange(1, params['NB_MAX'] + 1))*np.exp(-1j * params['theta'] * np.arange(params['NB_MAX'])), k=1), # A_withPhase  \n",
    "    }\n",
    "    site_basis.append(basis)\n",
    "    site_ops.append(ops)"
   ]
  },
  {
   "cell_type": "markdown",
   "id": "60024b09-ef05-4c8d-a818-a606d1dcb292",
   "metadata": {},
   "source": [
    "## First Excited Gap and Entropy Data"
   ]
  },
  {
   "cell_type": "markdown",
   "id": "d0e5e942-8643-4cb1-a358-3fb2e9ff8856",
   "metadata": {},
   "source": [
    "#### $t = 0$"
   ]
  },
  {
   "cell_type": "code",
   "execution_count": 11,
   "id": "648a6640-041e-406c-9da2-691d5aab9003",
   "metadata": {},
   "outputs": [],
   "source": [
    "params['t'] = 0\n",
    "driver.initialize_system(n_sites=params['L'], vacuum=Q(0), target=Q(params['N_BOSON']), hamil_init=False)\n",
    "driver.ghamil = driver.get_custom_hamiltonian(site_basis, site_ops)\n",
    "b = driver.expr_builder()\n",
    "\n",
    "# b.add_term(\"ADCB\", np.array([[i, i+1, i+1, i] for i in range(params['L']-1)]).flatten(), -params['t'])\n",
    "b.add_term(\"AD\", np.array([[i, i+1] for i in range(params['L']-1)]).flatten(), -params['t'])\n",
    "b.add_term(\"CB\", np.array([[i+1, i] for i in range(params['L']-1)]).flatten(), -params['t'])\n",
    "b.add_term(\"N\", np.array(np.arange(params['L'])), -(params['mu'] + params['u'] / 2))\n",
    "b.add_term(\"NN\", np.repeat(np.arange(params['L']), 2), params['u'] / 2)\n",
    "\n",
    "mpo = driver.get_mpo(b.finalize(adjust_order=True, fermionic_ops=\"\"), algo_type=MPOAlgorithmTypes.FastBipartite)\n",
    "mps = driver.get_random_mps(tag=\"KET\", bond_dim=50, nroots=2)\n",
    "energy = driver.dmrg(mpo, mps, n_sweeps=10, bond_dims=[50] * 4 + [100] * 4,\n",
    "    noises=[1e-4] * 4 + [1e-5] * 4 + [0], thrds=[1e-10] * 8, dav_max_iter=30, iprint=0)"
   ]
  },
  {
   "cell_type": "code",
   "execution_count": 12,
   "id": "4c7f1667-2004-49d4-82c0-f03258f53fc5",
   "metadata": {},
   "outputs": [
    {
     "name": "stderr",
     "output_type": "stream",
     "text": [
      "C:\\Users\\barbi\\AppData\\Local\\Temp\\ipykernel_23604\\3360138034.py:14: FutureWarning: Setting an item of incompatible dtype is deprecated and will raise an error in a future version of pandas. Value '[-8.88178420e-16 -8.88178420e-16 -8.88178420e-16 -8.88178420e-16\n",
      " -8.88178420e-16 -8.88139235e-16  2.63409891e-10  1.22678750e-10\n",
      "  8.13411184e-11]' has dtype incompatible with float64, please explicitly cast to a compatible dtype first.\n",
      "  df.loc[condition, column_name] = new_values * condition.sum()\n"
     ]
    }
   ],
   "source": [
    "kets = [driver.split_mps(mps, ir, tag=\"KET-%d\" % ir) for ir in range(mps.nroots)]\n",
    "entropy1 = driver.get_bipartite_entanglement(kets[0])\n",
    "update_csv_column(\"theta_PiByfour_AHMDmrg_data.csv\", 'Entropy', 't', params['t'], str(entropy1))"
   ]
  },
  {
   "cell_type": "code",
   "execution_count": 10,
   "id": "ec8d86d1-1ab6-4720-a121-8cc2fe78ea60",
   "metadata": {},
   "outputs": [],
   "source": [
    "#### Data Storing\n",
    "data_t0_thetapibyfour = [[params['L'], params['t'], params['u'], params['N_BOSON'], params['NB_MAX'], energy[0], mps, energy[1], entropy]]\n",
    "add_data_to_csv(\"theta_PiByfour_AHMDmrg_data.csv\", data_t0_thetapibyfour)"
   ]
  },
  {
   "cell_type": "markdown",
   "id": "b2a026de-8fe0-4c92-9d43-ebab802b9132",
   "metadata": {},
   "source": [
    "#### $t = 0.1$"
   ]
  },
  {
   "cell_type": "code",
   "execution_count": 13,
   "id": "fbbc1d46-fb15-45a2-87e7-651aa2bc8130",
   "metadata": {},
   "outputs": [],
   "source": [
    "params['t'] = 0.1\n",
    "driver.initialize_system(n_sites=params['L'], vacuum=Q(0), target=Q(params['N_BOSON']), hamil_init=False)\n",
    "driver.ghamil = driver.get_custom_hamiltonian(site_basis, site_ops)\n",
    "b = driver.expr_builder()\n",
    "\n",
    "# b.add_term(\"ADCB\", np.array([[i, i+1, i+1, i] for i in range(params['L']-1)]).flatten(), -params['t'])\n",
    "b.add_term(\"AD\", np.array([[i, i+1] for i in range(params['L']-1)]).flatten(), -params['t'])\n",
    "b.add_term(\"CB\", np.array([[i+1, i] for i in range(params['L']-1)]).flatten(), -params['t'])\n",
    "b.add_term(\"N\", np.array(np.arange(params['L'])), -(params['mu'] + params['u'] / 2))\n",
    "b.add_term(\"NN\", np.repeat(np.arange(params['L']), 2), params['u'] / 2)\n",
    "\n",
    "mpo = driver.get_mpo(b.finalize(adjust_order=True, fermionic_ops=\"\"), algo_type=MPOAlgorithmTypes.FastBipartite)\n",
    "mps = driver.get_random_mps(tag=\"KET\", bond_dim=50, nroots=2)\n",
    "energy = driver.dmrg(mpo, mps, n_sweeps=10, bond_dims=[50] * 4 + [100] * 4,\n",
    "    noises=[1e-4] * 4 + [1e-5] * 4 + [0], thrds=[1e-10] * 8, dav_max_iter=30, iprint=0)"
   ]
  },
  {
   "cell_type": "code",
   "execution_count": 14,
   "id": "ffe3cd3b-341a-449c-8437-9688c8fe6167",
   "metadata": {},
   "outputs": [],
   "source": [
    "kets = [driver.split_mps(mps, ir, tag=\"KET-%d\" % ir) for ir in range(mps.nroots)]\n",
    "entropy1 = driver.get_bipartite_entanglement(kets[0])\n",
    "update_csv_column(\"theta_PiByfour_AHMDmrg_data.csv\", 'Entropy', 't', params['t'], str(entropy1))"
   ]
  },
  {
   "cell_type": "code",
   "execution_count": 12,
   "id": "8935fdfa-a43c-43bb-bf7e-8c67b21537d5",
   "metadata": {},
   "outputs": [],
   "source": [
    "#### Data Storing\n",
    "data_t0_1_thetapibyfour = [[params['L'], params['t'], params['u'], params['N_BOSON'], params['NB_MAX'], energy[0], mps, energy[1], entropy]]\n",
    "add_data_to_csv(\"theta_PiByfour_AHMDmrg_data.csv\", data_t0_1_thetapibyfour)"
   ]
  },
  {
   "cell_type": "markdown",
   "id": "1057d1e1-c1e4-41b0-a285-a7a1761484f4",
   "metadata": {},
   "source": [
    "#### $t = 0.2$"
   ]
  },
  {
   "cell_type": "code",
   "execution_count": 15,
   "id": "f5b1efe7-fd37-4533-916c-04882b808a66",
   "metadata": {},
   "outputs": [],
   "source": [
    "params['t'] = 0.2\n",
    "driver.initialize_system(n_sites=params['L'], vacuum=Q(0), target=Q(params['N_BOSON']), hamil_init=False)\n",
    "driver.ghamil = driver.get_custom_hamiltonian(site_basis, site_ops)\n",
    "b = driver.expr_builder()\n",
    "\n",
    "# b.add_term(\"ADCB\", np.array([[i, i+1, i+1, i] for i in range(params['L']-1)]).flatten(), -params['t'])\n",
    "b.add_term(\"AD\", np.array([[i, i+1] for i in range(params['L']-1)]).flatten(), -params['t'])\n",
    "b.add_term(\"CB\", np.array([[i+1, i] for i in range(params['L']-1)]).flatten(), -params['t'])\n",
    "b.add_term(\"N\", np.array(np.arange(params['L'])), -(params['mu'] + params['u'] / 2))\n",
    "b.add_term(\"NN\", np.repeat(np.arange(params['L']), 2), params['u'] / 2)\n",
    "\n",
    "mpo = driver.get_mpo(b.finalize(adjust_order=True, fermionic_ops=\"\"), algo_type=MPOAlgorithmTypes.FastBipartite)\n",
    "mps = driver.get_random_mps(tag=\"KET\", bond_dim=50, nroots=2)\n",
    "energy = driver.dmrg(mpo, mps, n_sweeps=10, bond_dims=[50] * 4 + [100] * 4,\n",
    "    noises=[1e-4] * 4 + [1e-5] * 4 + [0], thrds=[1e-10] * 8, dav_max_iter=30, iprint=0)"
   ]
  },
  {
   "cell_type": "code",
   "execution_count": 16,
   "id": "2f3a0b0b-6050-4a2b-a1f5-e4c72109edcb",
   "metadata": {},
   "outputs": [],
   "source": [
    "kets = [driver.split_mps(mps, ir, tag=\"KET-%d\" % ir) for ir in range(mps.nroots)]\n",
    "entropy1 = driver.get_bipartite_entanglement(kets[0])\n",
    "update_csv_column(\"theta_PiByfour_AHMDmrg_data.csv\", 'Entropy', 't', params['t'], str(entropy1))"
   ]
  },
  {
   "cell_type": "code",
   "execution_count": 14,
   "id": "b23ba412-7b1b-41ac-8d55-faa32c010802",
   "metadata": {},
   "outputs": [],
   "source": [
    "#### Data Storing\n",
    "data_t0_2_thetapibyfour = [[params['L'], params['t'], params['u'], params['N_BOSON'], params['NB_MAX'], energy[0], mps, energy[1], entropy]]\n",
    "add_data_to_csv(\"theta_PiByfour_AHMDmrg_data.csv\", data_t0_2_thetapibyfour)"
   ]
  },
  {
   "cell_type": "markdown",
   "id": "c6400934-96b5-45c4-9070-d83203a900d5",
   "metadata": {},
   "source": [
    "#### $t = 0.3$"
   ]
  },
  {
   "cell_type": "code",
   "execution_count": 17,
   "id": "f8f2ba00-150a-41f8-a3df-2c2a0baa0a39",
   "metadata": {},
   "outputs": [],
   "source": [
    "params['t'] = 0.3\n",
    "driver.initialize_system(n_sites=params['L'], vacuum=Q(0), target=Q(params['N_BOSON']), hamil_init=False)\n",
    "driver.ghamil = driver.get_custom_hamiltonian(site_basis, site_ops)\n",
    "b = driver.expr_builder()\n",
    "\n",
    "# b.add_term(\"ADCB\", np.array([[i, i+1, i+1, i] for i in range(params['L']-1)]).flatten(), -params['t'])\n",
    "b.add_term(\"AD\", np.array([[i, i+1] for i in range(params['L']-1)]).flatten(), -params['t'])\n",
    "b.add_term(\"CB\", np.array([[i+1, i] for i in range(params['L']-1)]).flatten(), -params['t'])\n",
    "b.add_term(\"N\", np.array(np.arange(params['L'])), -(params['mu'] + params['u'] / 2))\n",
    "b.add_term(\"NN\", np.repeat(np.arange(params['L']), 2), params['u'] / 2)\n",
    "\n",
    "mpo = driver.get_mpo(b.finalize(adjust_order=True, fermionic_ops=\"\"), algo_type=MPOAlgorithmTypes.FastBipartite)\n",
    "mps = driver.get_random_mps(tag=\"KET\", bond_dim=50, nroots=2)\n",
    "energy = driver.dmrg(mpo, mps, n_sweeps=10, bond_dims=[50] * 4 + [100] * 4,\n",
    "    noises=[1e-4] * 4 + [1e-5] * 4 + [0], thrds=[1e-10] * 8, dav_max_iter=30, iprint=0)"
   ]
  },
  {
   "cell_type": "code",
   "execution_count": 18,
   "id": "483cff38-f02e-4bba-81ac-f2b67220c269",
   "metadata": {},
   "outputs": [],
   "source": [
    "kets = [driver.split_mps(mps, ir, tag=\"KET-%d\" % ir) for ir in range(mps.nroots)]\n",
    "entropy1 = driver.get_bipartite_entanglement(kets[0])\n",
    "update_csv_column(\"theta_PiByfour_AHMDmrg_data.csv\", 'Entropy', 't', params['t'], str(entropy1))"
   ]
  },
  {
   "cell_type": "code",
   "execution_count": 16,
   "id": "0e92dbd5-a7aa-415b-8d31-de6d26833596",
   "metadata": {},
   "outputs": [],
   "source": [
    "#### Data Storing\n",
    "data_t0_3_thetapibyfour = [[params['L'], params['t'], params['u'], params['N_BOSON'], params['NB_MAX'], energy[0], mps, energy[1], entropy]]\n",
    "add_data_to_csv(\"theta_PiByfour_AHMDmrg_data.csv\", data_t0_3_thetapibyfour)"
   ]
  },
  {
   "cell_type": "markdown",
   "id": "1ced1257-c4fd-4e99-a428-e3ce25780a3a",
   "metadata": {},
   "source": [
    "#### $t = 0.4$"
   ]
  },
  {
   "cell_type": "code",
   "execution_count": 19,
   "id": "06aef3e4-7e9e-4ff3-836a-b38278d5006a",
   "metadata": {},
   "outputs": [],
   "source": [
    "params['t'] = 0.4\n",
    "driver.initialize_system(n_sites=params['L'], vacuum=Q(0), target=Q(params['N_BOSON']), hamil_init=False)\n",
    "driver.ghamil = driver.get_custom_hamiltonian(site_basis, site_ops)\n",
    "b = driver.expr_builder()\n",
    "\n",
    "# b.add_term(\"ADCB\", np.array([[i, i+1, i+1, i] for i in range(params['L']-1)]).flatten(), -params['t'])\n",
    "b.add_term(\"AD\", np.array([[i, i+1] for i in range(params['L']-1)]).flatten(), -params['t'])\n",
    "b.add_term(\"CB\", np.array([[i+1, i] for i in range(params['L']-1)]).flatten(), -params['t'])\n",
    "b.add_term(\"N\", np.array(np.arange(params['L'])), -(params['mu'] + params['u'] / 2))\n",
    "b.add_term(\"NN\", np.repeat(np.arange(params['L']), 2), params['u'] / 2)\n",
    "\n",
    "mpo = driver.get_mpo(b.finalize(adjust_order=True, fermionic_ops=\"\"), algo_type=MPOAlgorithmTypes.FastBipartite)\n",
    "mps = driver.get_random_mps(tag=\"KET\", bond_dim=50, nroots=2)\n",
    "energy = driver.dmrg(mpo, mps, n_sweeps=10, bond_dims=[50] * 4 + [100] * 4,\n",
    "    noises=[1e-4] * 4 + [1e-5] * 4 + [0], thrds=[1e-10] * 8, dav_max_iter=30, iprint=0)"
   ]
  },
  {
   "cell_type": "code",
   "execution_count": 20,
   "id": "bd7937b9-0dbc-4ff8-b74f-611dd9a7e999",
   "metadata": {},
   "outputs": [],
   "source": [
    "kets = [driver.split_mps(mps, ir, tag=\"KET-%d\" % ir) for ir in range(mps.nroots)]\n",
    "entropy1 = driver.get_bipartite_entanglement(kets[0])\n",
    "update_csv_column(\"theta_PiByfour_AHMDmrg_data.csv\", 'Entropy', 't', params['t'], str(entropy1))"
   ]
  },
  {
   "cell_type": "code",
   "execution_count": 18,
   "id": "3eb3a5d5-1e7a-44b4-9390-8dc1a4ba4e0e",
   "metadata": {},
   "outputs": [],
   "source": [
    "#### Data Storing\n",
    "data_t0_4_thetapibyfour = [[params['L'], params['t'], params['u'], params['N_BOSON'], params['NB_MAX'], energy[0], mps, energy[1], entropy]]\n",
    "add_data_to_csv(\"theta_PiByfour_AHMDmrg_data.csv\", data_t0_4_thetapibyfour)"
   ]
  },
  {
   "cell_type": "markdown",
   "id": "ae700bef-3d65-401c-b73a-f9924694db79",
   "metadata": {},
   "source": [
    "#### $t = 0.5$"
   ]
  },
  {
   "cell_type": "code",
   "execution_count": 21,
   "id": "82296a7d-d5f8-4d3b-af29-e894e0ac4e6b",
   "metadata": {},
   "outputs": [],
   "source": [
    "params['t'] = 0.5\n",
    "driver.initialize_system(n_sites=params['L'], vacuum=Q(0), target=Q(params['N_BOSON']), hamil_init=False)\n",
    "driver.ghamil = driver.get_custom_hamiltonian(site_basis, site_ops)\n",
    "b = driver.expr_builder()\n",
    "\n",
    "# b.add_term(\"ADCB\", np.array([[i, i+1, i+1, i] for i in range(params['L']-1)]).flatten(), -params['t'])\n",
    "b.add_term(\"AD\", np.array([[i, i+1] for i in range(params['L']-1)]).flatten(), -params['t'])\n",
    "b.add_term(\"CB\", np.array([[i+1, i] for i in range(params['L']-1)]).flatten(), -params['t'])\n",
    "b.add_term(\"N\", np.array(np.arange(params['L'])), -(params['mu'] + params['u'] / 2))\n",
    "b.add_term(\"NN\", np.repeat(np.arange(params['L']), 2), params['u'] / 2)\n",
    "\n",
    "mpo = driver.get_mpo(b.finalize(adjust_order=True, fermionic_ops=\"\"), algo_type=MPOAlgorithmTypes.FastBipartite)\n",
    "mps = driver.get_random_mps(tag=\"KET\", bond_dim=50, nroots=2)\n",
    "energy = driver.dmrg(mpo, mps, n_sweeps=10, bond_dims=[50] * 4 + [100] * 4,\n",
    "    noises=[1e-4] * 4 + [1e-5] * 4 + [0], thrds=[1e-10] * 8, dav_max_iter=30, iprint=0)"
   ]
  },
  {
   "cell_type": "code",
   "execution_count": 22,
   "id": "ce300127-b9fb-46b8-8f5d-b0564c222353",
   "metadata": {},
   "outputs": [],
   "source": [
    "kets = [driver.split_mps(mps, ir, tag=\"KET-%d\" % ir) for ir in range(mps.nroots)]\n",
    "entropy1 = driver.get_bipartite_entanglement(kets[0])\n",
    "update_csv_column(\"theta_PiByfour_AHMDmrg_data.csv\", 'Entropy', 't', params['t'], str(entropy1))"
   ]
  },
  {
   "cell_type": "code",
   "execution_count": 20,
   "id": "e59579d5-65ea-4359-a50d-d8690fd5b4c9",
   "metadata": {},
   "outputs": [],
   "source": [
    "#### Data Storing\n",
    "data_t0_5_thetapibyfour = [[params['L'], params['t'], params['u'], params['N_BOSON'], params['NB_MAX'], energy[0], mps, energy[1], entropy]]\n",
    "add_data_to_csv(\"theta_PiByfour_AHMDmrg_data.csv\", data_t0_5_thetapibyfour)"
   ]
  },
  {
   "cell_type": "markdown",
   "id": "b36ea26b-552f-4171-b99f-a9a665be5bc6",
   "metadata": {},
   "source": [
    "#### $t = 0.6$"
   ]
  },
  {
   "cell_type": "code",
   "execution_count": 23,
   "id": "2bdb4cd1-c731-4cab-9769-d6206a028958",
   "metadata": {},
   "outputs": [],
   "source": [
    "params['t'] = 0.6\n",
    "driver.initialize_system(n_sites=params['L'], vacuum=Q(0), target=Q(params['N_BOSON']), hamil_init=False)\n",
    "driver.ghamil = driver.get_custom_hamiltonian(site_basis, site_ops)\n",
    "b = driver.expr_builder()\n",
    "\n",
    "# b.add_term(\"ADCB\", np.array([[i, i+1, i+1, i] for i in range(params['L']-1)]).flatten(), -params['t'])\n",
    "b.add_term(\"AD\", np.array([[i, i+1] for i in range(params['L']-1)]).flatten(), -params['t'])\n",
    "b.add_term(\"CB\", np.array([[i+1, i] for i in range(params['L']-1)]).flatten(), -params['t'])\n",
    "b.add_term(\"N\", np.array(np.arange(params['L'])), -(params['mu'] + params['u'] / 2))\n",
    "b.add_term(\"NN\", np.repeat(np.arange(params['L']), 2), params['u'] / 2)\n",
    "\n",
    "mpo = driver.get_mpo(b.finalize(adjust_order=True, fermionic_ops=\"\"), algo_type=MPOAlgorithmTypes.FastBipartite)\n",
    "mps = driver.get_random_mps(tag=\"KET\", bond_dim=50, nroots=2)\n",
    "energy = driver.dmrg(mpo, mps, n_sweeps=10, bond_dims=[50] * 4 + [100] * 4,\n",
    "    noises=[1e-4] * 4 + [1e-5] * 4 + [0], thrds=[1e-10] * 8, dav_max_iter=30, iprint=0)"
   ]
  },
  {
   "cell_type": "code",
   "execution_count": 24,
   "id": "82b248af-6d23-429b-9379-d5885b7167a3",
   "metadata": {},
   "outputs": [],
   "source": [
    "kets = [driver.split_mps(mps, ir, tag=\"KET-%d\" % ir) for ir in range(mps.nroots)]\n",
    "entropy1 = driver.get_bipartite_entanglement(kets[0])\n",
    "update_csv_column(\"theta_PiByfour_AHMDmrg_data.csv\", 'Entropy', 't', params['t'], str(entropy1))"
   ]
  },
  {
   "cell_type": "code",
   "execution_count": 22,
   "id": "8b5a10a8-2101-436d-b39c-387c73cc249d",
   "metadata": {},
   "outputs": [],
   "source": [
    "#### Data Storing\n",
    "data_t0_6_thetapibyfour = [[params['L'], params['t'], params['u'], params['N_BOSON'], params['NB_MAX'], energy[0], mps, energy[1], entropy]]\n",
    "add_data_to_csv(\"theta_PiByfour_AHMDmrg_data.csv\", data_t0_6_thetapibyfour)"
   ]
  },
  {
   "cell_type": "markdown",
   "id": "c8f0e445-1c44-4baf-9f10-d754e672268e",
   "metadata": {},
   "source": [
    "#### $t = 0.7$"
   ]
  },
  {
   "cell_type": "code",
   "execution_count": 25,
   "id": "aed2f58d-8ad8-4e6b-bd08-eef4ffec43ed",
   "metadata": {},
   "outputs": [],
   "source": [
    "params['t'] = 0.7\n",
    "driver.initialize_system(n_sites=params['L'], vacuum=Q(0), target=Q(params['N_BOSON']), hamil_init=False)\n",
    "driver.ghamil = driver.get_custom_hamiltonian(site_basis, site_ops)\n",
    "b = driver.expr_builder()\n",
    "\n",
    "# b.add_term(\"ADCB\", np.array([[i, i+1, i+1, i] for i in range(params['L']-1)]).flatten(), -params['t'])\n",
    "b.add_term(\"AD\", np.array([[i, i+1] for i in range(params['L']-1)]).flatten(), -params['t'])\n",
    "b.add_term(\"CB\", np.array([[i+1, i] for i in range(params['L']-1)]).flatten(), -params['t'])\n",
    "b.add_term(\"N\", np.array(np.arange(params['L'])), -(params['mu'] + params['u'] / 2))\n",
    "b.add_term(\"NN\", np.repeat(np.arange(params['L']), 2), params['u'] / 2)\n",
    "\n",
    "mpo = driver.get_mpo(b.finalize(adjust_order=True, fermionic_ops=\"\"), algo_type=MPOAlgorithmTypes.FastBipartite)\n",
    "mps = driver.get_random_mps(tag=\"KET\", bond_dim=50, nroots=2)\n",
    "energy = driver.dmrg(mpo, mps, n_sweeps=10, bond_dims=[50] * 4 + [100] * 4,\n",
    "    noises=[1e-4] * 4 + [1e-5] * 4 + [0], thrds=[1e-10] * 8, dav_max_iter=30, iprint=0)"
   ]
  },
  {
   "cell_type": "code",
   "execution_count": 26,
   "id": "2895f2a3-379e-4c45-a436-b8d0f2361541",
   "metadata": {},
   "outputs": [],
   "source": [
    "kets = [driver.split_mps(mps, ir, tag=\"KET-%d\" % ir) for ir in range(mps.nroots)]\n",
    "entropy1 = driver.get_bipartite_entanglement(kets[0])\n",
    "update_csv_column(\"theta_PiByfour_AHMDmrg_data.csv\", 'Entropy', 't', params['t'], str(entropy1))"
   ]
  },
  {
   "cell_type": "code",
   "execution_count": 24,
   "id": "596231fd-d033-4e80-a721-372aeafad9f9",
   "metadata": {},
   "outputs": [],
   "source": [
    "#### Data Storing\n",
    "data_t0_7_thetapibyfour = [[params['L'], params['t'], params['u'], params['N_BOSON'], params['NB_MAX'], energy[0], mps, energy[1], entropy]]\n",
    "add_data_to_csv(\"theta_PiByfour_AHMDmrg_data.csv\", data_t0_7_thetapibyfour)"
   ]
  },
  {
   "cell_type": "markdown",
   "id": "3eb1120e-6dd8-4380-af7e-55ee8e8687a1",
   "metadata": {},
   "source": [
    "#### $t = 0.8$"
   ]
  },
  {
   "cell_type": "code",
   "execution_count": 27,
   "id": "14b671fc-d658-4bf9-9b75-924c0329bc35",
   "metadata": {},
   "outputs": [],
   "source": [
    "params['t'] = 0.8\n",
    "driver.initialize_system(n_sites=params['L'], vacuum=Q(0), target=Q(params['N_BOSON']), hamil_init=False)\n",
    "driver.ghamil = driver.get_custom_hamiltonian(site_basis, site_ops)\n",
    "b = driver.expr_builder()\n",
    "\n",
    "# b.add_term(\"ADCB\", np.array([[i, i+1, i+1, i] for i in range(params['L']-1)]).flatten(), -params['t'])\n",
    "b.add_term(\"AD\", np.array([[i, i+1] for i in range(params['L']-1)]).flatten(), -params['t'])\n",
    "b.add_term(\"CB\", np.array([[i+1, i] for i in range(params['L']-1)]).flatten(), -params['t'])\n",
    "b.add_term(\"N\", np.array(np.arange(params['L'])), -(params['mu'] + params['u'] / 2))\n",
    "b.add_term(\"NN\", np.repeat(np.arange(params['L']), 2), params['u'] / 2)\n",
    "\n",
    "mpo = driver.get_mpo(b.finalize(adjust_order=True, fermionic_ops=\"\"), algo_type=MPOAlgorithmTypes.FastBipartite)\n",
    "mps = driver.get_random_mps(tag=\"KET\", bond_dim=50, nroots=2)\n",
    "energy = driver.dmrg(mpo, mps, n_sweeps=10, bond_dims=[50] * 4 + [100] * 4,\n",
    "    noises=[1e-4] * 4 + [1e-5] * 4 + [0], thrds=[1e-10] * 8, dav_max_iter=30, iprint=0)"
   ]
  },
  {
   "cell_type": "code",
   "execution_count": 28,
   "id": "3e403ac5-0c4e-4480-bdb2-5237dd847d15",
   "metadata": {},
   "outputs": [],
   "source": [
    "kets = [driver.split_mps(mps, ir, tag=\"KET-%d\" % ir) for ir in range(mps.nroots)]\n",
    "entropy1 = driver.get_bipartite_entanglement(kets[0])\n",
    "update_csv_column(\"theta_PiByfour_AHMDmrg_data.csv\", 'Entropy', 't', params['t'], str(entropy1))"
   ]
  },
  {
   "cell_type": "code",
   "execution_count": 26,
   "id": "8b7c63ff-500d-4072-b68d-30bb57707f28",
   "metadata": {},
   "outputs": [],
   "source": [
    "#### Data Storing\n",
    "data_t0_8_thetapibyfour = [[params['L'], params['t'], params['u'], params['N_BOSON'], params['NB_MAX'], energy[0], mps, energy[1], entropy]]\n",
    "add_data_to_csv(\"theta_PiByfour_AHMDmrg_data.csv\", data_t0_8_thetapibyfour)"
   ]
  },
  {
   "cell_type": "markdown",
   "id": "908a1a0b-d5d6-4850-87fc-43b490961d5e",
   "metadata": {},
   "source": [
    "#### $t = 0.9$"
   ]
  },
  {
   "cell_type": "code",
   "execution_count": 29,
   "id": "def54c55-3a50-44af-b4d9-e4592d831138",
   "metadata": {},
   "outputs": [],
   "source": [
    "params['t'] = 0.9\n",
    "driver.initialize_system(n_sites=params['L'], vacuum=Q(0), target=Q(params['N_BOSON']), hamil_init=False)\n",
    "driver.ghamil = driver.get_custom_hamiltonian(site_basis, site_ops)\n",
    "b = driver.expr_builder()\n",
    "\n",
    "# b.add_term(\"ADCB\", np.array([[i, i+1, i+1, i] for i in range(params['L']-1)]).flatten(), -params['t'])\n",
    "b.add_term(\"AD\", np.array([[i, i+1] for i in range(params['L']-1)]).flatten(), -params['t'])\n",
    "b.add_term(\"CB\", np.array([[i+1, i] for i in range(params['L']-1)]).flatten(), -params['t'])\n",
    "b.add_term(\"N\", np.array(np.arange(params['L'])), -(params['mu'] + params['u'] / 2))\n",
    "b.add_term(\"NN\", np.repeat(np.arange(params['L']), 2), params['u'] / 2)\n",
    "\n",
    "mpo = driver.get_mpo(b.finalize(adjust_order=True, fermionic_ops=\"\"), algo_type=MPOAlgorithmTypes.FastBipartite)\n",
    "mps = driver.get_random_mps(tag=\"KET\", bond_dim=50, nroots=2)\n",
    "energy = driver.dmrg(mpo, mps, n_sweeps=10, bond_dims=[50] * 4 + [100] * 4,\n",
    "    noises=[1e-4] * 4 + [1e-5] * 4 + [0], thrds=[1e-10] * 8, dav_max_iter=30, iprint=0)"
   ]
  },
  {
   "cell_type": "code",
   "execution_count": 30,
   "id": "b410320d-e702-421d-99e2-ed29d0b08e63",
   "metadata": {},
   "outputs": [],
   "source": [
    "kets = [driver.split_mps(mps, ir, tag=\"KET-%d\" % ir) for ir in range(mps.nroots)]\n",
    "entropy1 = driver.get_bipartite_entanglement(kets[0])\n",
    "update_csv_column(\"theta_PiByfour_AHMDmrg_data.csv\", 'Entropy', 't', params['t'], str(entropy1))"
   ]
  },
  {
   "cell_type": "code",
   "execution_count": 28,
   "id": "045aaab9-fb4c-450b-bb04-c7be3086088c",
   "metadata": {},
   "outputs": [],
   "source": [
    "#### Data Storing\n",
    "data_t0_9_thetapibyfour = [[params['L'], params['t'], params['u'], params['N_BOSON'], params['NB_MAX'], energy[0], mps, energy[1], entropy]]\n",
    "add_data_to_csv(\"theta_PiByfour_AHMDmrg_data.csv\", data_t0_9_thetapibyfour)"
   ]
  },
  {
   "cell_type": "markdown",
   "id": "e065e2b3-5ac5-48ef-b5ae-a5600a9cb429",
   "metadata": {},
   "source": [
    "#### $t = 1.0$"
   ]
  },
  {
   "cell_type": "code",
   "execution_count": 31,
   "id": "778e3828-e1f4-4cb5-b6e1-df07061a3f36",
   "metadata": {},
   "outputs": [],
   "source": [
    "params['t'] = 1\n",
    "driver.initialize_system(n_sites=params['L'], vacuum=Q(0), target=Q(params['N_BOSON']), hamil_init=False)\n",
    "driver.ghamil = driver.get_custom_hamiltonian(site_basis, site_ops)\n",
    "b = driver.expr_builder()\n",
    "\n",
    "# b.add_term(\"ADCB\", np.array([[i, i+1, i+1, i] for i in range(params['L']-1)]).flatten(), -params['t'])\n",
    "b.add_term(\"AD\", np.array([[i, i+1] for i in range(params['L']-1)]).flatten(), -params['t'])\n",
    "b.add_term(\"CB\", np.array([[i+1, i] for i in range(params['L']-1)]).flatten(), -params['t'])\n",
    "b.add_term(\"N\", np.array(np.arange(params['L'])), -(params['mu'] + params['u'] / 2))\n",
    "b.add_term(\"NN\", np.repeat(np.arange(params['L']), 2), params['u'] / 2)\n",
    "\n",
    "mpo = driver.get_mpo(b.finalize(adjust_order=True, fermionic_ops=\"\"), algo_type=MPOAlgorithmTypes.FastBipartite)\n",
    "mps = driver.get_random_mps(tag=\"KET\", bond_dim=50, nroots=2)\n",
    "energy = driver.dmrg(mpo, mps, n_sweeps=10, bond_dims=[50] * 4 + [100] * 4,\n",
    "    noises=[1e-4] * 4 + [1e-5] * 4 + [0], thrds=[1e-10] * 8, dav_max_iter=30, iprint=0)"
   ]
  },
  {
   "cell_type": "code",
   "execution_count": 30,
   "id": "1b0e1d38-82fa-4e9b-8b27-6ff8de8bd88f",
   "metadata": {},
   "outputs": [],
   "source": [
    "#### Data Storing\n",
    "data_t1_thetapibyfour = [[params['L'], params['t'], params['u'], params['N_BOSON'], params['NB_MAX'], energy[0], mps, energy[1], entropy]]\n",
    "add_data_to_csv(\"theta_PiByfour_AHMDmrg_data.csv\", data_t1_thetapibyfour)"
   ]
  },
  {
   "cell_type": "code",
   "execution_count": 32,
   "id": "487c52b3-6f24-48ae-8250-0cb2ded23bb6",
   "metadata": {},
   "outputs": [],
   "source": [
    "kets = [driver.split_mps(mps, ir, tag=\"KET-%d\" % ir) for ir in range(mps.nroots)]\n",
    "entropy1 = driver.get_bipartite_entanglement(kets[0])\n",
    "update_csv_column(\"theta_PiByfour_AHMDmrg_data.csv\", 'Entropy', 't', params['t'], str(entropy1))"
   ]
  },
  {
   "cell_type": "markdown",
   "id": "5450d4db-2687-4e3f-b971-767f445ad30b",
   "metadata": {},
   "source": [
    "#### $t = 1.1$"
   ]
  },
  {
   "cell_type": "code",
   "execution_count": 33,
   "id": "0864a0d3-2aad-4711-b688-8664a5953e84",
   "metadata": {},
   "outputs": [],
   "source": [
    "params['t'] = 1.1\n",
    "driver.initialize_system(n_sites=params['L'], vacuum=Q(0), target=Q(params['N_BOSON']), hamil_init=False)\n",
    "driver.ghamil = driver.get_custom_hamiltonian(site_basis, site_ops)\n",
    "b = driver.expr_builder()\n",
    "\n",
    "# b.add_term(\"ADCB\", np.array([[i, i+1, i+1, i] for i in range(params['L']-1)]).flatten(), -params['t'])\n",
    "b.add_term(\"AD\", np.array([[i, i+1] for i in range(params['L']-1)]).flatten(), -params['t'])\n",
    "b.add_term(\"CB\", np.array([[i+1, i] for i in range(params['L']-1)]).flatten(), -params['t'])\n",
    "b.add_term(\"N\", np.array(np.arange(params['L'])), -(params['mu'] + params['u'] / 2))\n",
    "b.add_term(\"NN\", np.repeat(np.arange(params['L']), 2), params['u'] / 2)\n",
    "\n",
    "mpo = driver.get_mpo(b.finalize(adjust_order=True, fermionic_ops=\"\"), algo_type=MPOAlgorithmTypes.FastBipartite)\n",
    "mps = driver.get_random_mps(tag=\"KET\", bond_dim=50, nroots=2)\n",
    "energy = driver.dmrg(mpo, mps, n_sweeps=10, bond_dims=[50] * 4 + [100] * 4,\n",
    "    noises=[1e-4] * 4 + [1e-5] * 4 + [0], thrds=[1e-10] * 8, dav_max_iter=30, iprint=0)"
   ]
  },
  {
   "cell_type": "code",
   "execution_count": 32,
   "id": "38cb38bc-a044-4e19-8d5f-03df09780154",
   "metadata": {},
   "outputs": [],
   "source": [
    "#### Data Storing\n",
    "data_t1_1_thetapibyfour = [[params['L'], params['t'], params['u'], params['N_BOSON'], params['NB_MAX'], energy[0], mps, energy[1], entropy]]\n",
    "add_data_to_csv(\"theta_PiByfour_AHMDmrg_data.csv\", data_t1_1_thetapibyfour)"
   ]
  },
  {
   "cell_type": "code",
   "execution_count": 34,
   "id": "1cd98546-c096-4ad2-a713-c54a8e5e47c9",
   "metadata": {},
   "outputs": [],
   "source": [
    "kets = [driver.split_mps(mps, ir, tag=\"KET-%d\" % ir) for ir in range(mps.nroots)]\n",
    "entropy1 = driver.get_bipartite_entanglement(kets[0])\n",
    "update_csv_column(\"theta_PiByfour_AHMDmrg_data.csv\", 'Entropy', 't', params['t'], str(entropy1))"
   ]
  },
  {
   "cell_type": "markdown",
   "id": "d07748ba-c2a2-4047-bab5-30ca66bec080",
   "metadata": {},
   "source": [
    "#### $t = 1.2$"
   ]
  },
  {
   "cell_type": "code",
   "execution_count": 35,
   "id": "430894b6-d12e-4df6-9184-c1fc5e205043",
   "metadata": {},
   "outputs": [],
   "source": [
    "params['t'] = 1.2\n",
    "driver.initialize_system(n_sites=params['L'], vacuum=Q(0), target=Q(params['N_BOSON']), hamil_init=False)\n",
    "driver.ghamil = driver.get_custom_hamiltonian(site_basis, site_ops)\n",
    "b = driver.expr_builder()\n",
    "\n",
    "# b.add_term(\"ADCB\", np.array([[i, i+1, i+1, i] for i in range(params['L']-1)]).flatten(), -params['t'])\n",
    "b.add_term(\"AD\", np.array([[i, i+1] for i in range(params['L']-1)]).flatten(), -params['t'])\n",
    "b.add_term(\"CB\", np.array([[i+1, i] for i in range(params['L']-1)]).flatten(), -params['t'])\n",
    "b.add_term(\"N\", np.array(np.arange(params['L'])), -(params['mu'] + params['u'] / 2))\n",
    "b.add_term(\"NN\", np.repeat(np.arange(params['L']), 2), params['u'] / 2)\n",
    "\n",
    "mpo = driver.get_mpo(b.finalize(adjust_order=True, fermionic_ops=\"\"), algo_type=MPOAlgorithmTypes.FastBipartite)\n",
    "mps = driver.get_random_mps(tag=\"KET\", bond_dim=50, nroots=2)\n",
    "energy = driver.dmrg(mpo, mps, n_sweeps=10, bond_dims=[50] * 4 + [100] * 4,\n",
    "    noises=[1e-4] * 4 + [1e-5] * 4 + [0], thrds=[1e-10] * 8, dav_max_iter=30, iprint=0)"
   ]
  },
  {
   "cell_type": "code",
   "execution_count": 34,
   "id": "c8200746-619e-4a43-bd4f-4b22d6ea0717",
   "metadata": {},
   "outputs": [],
   "source": [
    "#### Data Storing\n",
    "data_t1_2_thetapibyfour = [[params['L'], params['t'], params['u'], params['N_BOSON'], params['NB_MAX'], energy[0], mps, energy[1], entropy]]\n",
    "add_data_to_csv(\"theta_PiByfour_AHMDmrg_data.csv\", data_t1_2_thetapibyfour)"
   ]
  },
  {
   "cell_type": "code",
   "execution_count": 36,
   "id": "0a9411dc-8feb-4fae-8439-6da951fa0e8b",
   "metadata": {},
   "outputs": [],
   "source": [
    "kets = [driver.split_mps(mps, ir, tag=\"KET-%d\" % ir) for ir in range(mps.nroots)]\n",
    "entropy1 = driver.get_bipartite_entanglement(kets[0])\n",
    "update_csv_column(\"theta_PiByfour_AHMDmrg_data.csv\", 'Entropy', 't', params['t'], str(entropy1))"
   ]
  },
  {
   "cell_type": "markdown",
   "id": "40f6911b-8624-48ad-9636-3059d040f72e",
   "metadata": {},
   "source": [
    "#### $t = 1.3$"
   ]
  },
  {
   "cell_type": "code",
   "execution_count": 37,
   "id": "de292ccd-10da-4435-b9fb-b10385d82eba",
   "metadata": {},
   "outputs": [],
   "source": [
    "params['t'] = 1.3\n",
    "driver.initialize_system(n_sites=params['L'], vacuum=Q(0), target=Q(params['N_BOSON']), hamil_init=False)\n",
    "driver.ghamil = driver.get_custom_hamiltonian(site_basis, site_ops)\n",
    "b = driver.expr_builder()\n",
    "\n",
    "# b.add_term(\"ADCB\", np.array([[i, i+1, i+1, i] for i in range(params['L']-1)]).flatten(), -params['t'])\n",
    "b.add_term(\"AD\", np.array([[i, i+1] for i in range(params['L']-1)]).flatten(), -params['t'])\n",
    "b.add_term(\"CB\", np.array([[i+1, i] for i in range(params['L']-1)]).flatten(), -params['t'])\n",
    "b.add_term(\"N\", np.array(np.arange(params['L'])), -(params['mu'] + params['u'] / 2))\n",
    "b.add_term(\"NN\", np.repeat(np.arange(params['L']), 2), params['u'] / 2)\n",
    "\n",
    "mpo = driver.get_mpo(b.finalize(adjust_order=True, fermionic_ops=\"\"), algo_type=MPOAlgorithmTypes.FastBipartite)\n",
    "mps = driver.get_random_mps(tag=\"KET\", bond_dim=50, nroots=2)\n",
    "energy = driver.dmrg(mpo, mps, n_sweeps=10, bond_dims=[50] * 4 + [100] * 4,\n",
    "    noises=[1e-4] * 4 + [1e-5] * 4 + [0], thrds=[1e-10] * 8, dav_max_iter=30, iprint=0)"
   ]
  },
  {
   "cell_type": "code",
   "execution_count": 36,
   "id": "efd0a0cb-cb93-4e4c-91bd-15f0d182c5c9",
   "metadata": {},
   "outputs": [],
   "source": [
    "#### Data Storing\n",
    "data_t1_3_thetapibyfour = [[params['L'], params['t'], params['u'], params['N_BOSON'], params['NB_MAX'], energy[0], mps, energy[1], entropy]]\n",
    "add_data_to_csv(\"theta_PiByfour_AHMDmrg_data.csv\", data_t1_3_thetapibyfour)"
   ]
  },
  {
   "cell_type": "code",
   "execution_count": 38,
   "id": "cdcd0efb-17c6-490e-a24a-2f54df31d0f8",
   "metadata": {},
   "outputs": [],
   "source": [
    "kets = [driver.split_mps(mps, ir, tag=\"KET-%d\" % ir) for ir in range(mps.nroots)]\n",
    "entropy1 = driver.get_bipartite_entanglement(kets[0])\n",
    "update_csv_column(\"theta_PiByfour_AHMDmrg_data.csv\", 'Entropy', 't', params['t'], str(entropy1))"
   ]
  },
  {
   "cell_type": "markdown",
   "id": "71562ede-ab8b-464c-ba4e-3fc52119dc31",
   "metadata": {},
   "source": [
    "#### $t = 1.4$"
   ]
  },
  {
   "cell_type": "code",
   "execution_count": 39,
   "id": "62490d6e-20ad-4ee8-9ea8-31b7a28637b5",
   "metadata": {},
   "outputs": [],
   "source": [
    "params['t'] = 1.4\n",
    "driver.initialize_system(n_sites=params['L'], vacuum=Q(0), target=Q(params['N_BOSON']), hamil_init=False)\n",
    "driver.ghamil = driver.get_custom_hamiltonian(site_basis, site_ops)\n",
    "b = driver.expr_builder()\n",
    "\n",
    "# b.add_term(\"ADCB\", np.array([[i, i+1, i+1, i] for i in range(params['L']-1)]).flatten(), -params['t'])\n",
    "b.add_term(\"AD\", np.array([[i, i+1] for i in range(params['L']-1)]).flatten(), -params['t'])\n",
    "b.add_term(\"CB\", np.array([[i+1, i] for i in range(params['L']-1)]).flatten(), -params['t'])\n",
    "b.add_term(\"N\", np.array(np.arange(params['L'])), -(params['mu'] + params['u'] / 2))\n",
    "b.add_term(\"NN\", np.repeat(np.arange(params['L']), 2), params['u'] / 2)\n",
    "\n",
    "mpo = driver.get_mpo(b.finalize(adjust_order=True, fermionic_ops=\"\"), algo_type=MPOAlgorithmTypes.FastBipartite)\n",
    "mps = driver.get_random_mps(tag=\"KET\", bond_dim=50, nroots=2)\n",
    "energy = driver.dmrg(mpo, mps, n_sweeps=10, bond_dims=[50] * 4 + [100] * 4,\n",
    "    noises=[1e-4] * 4 + [1e-5] * 4 + [0], thrds=[1e-10] * 8, dav_max_iter=30, iprint=0)"
   ]
  },
  {
   "cell_type": "code",
   "execution_count": 38,
   "id": "22ae8b80-8a50-4802-b96d-c39b7d55f2d1",
   "metadata": {},
   "outputs": [],
   "source": [
    "#### Data Storing\n",
    "data_t1_4_thetapibyfour = [[params['L'], params['t'], params['u'], params['N_BOSON'], params['NB_MAX'], energy[0], mps, energy[1], entropy]]\n",
    "add_data_to_csv(\"theta_PiByfour_AHMDmrg_data.csv\", data_t1_4_thetapibyfour)"
   ]
  },
  {
   "cell_type": "code",
   "execution_count": 40,
   "id": "ca24a2f1-d5c7-4fd4-b345-d265b7a3e0ce",
   "metadata": {},
   "outputs": [],
   "source": [
    "kets = [driver.split_mps(mps, ir, tag=\"KET-%d\" % ir) for ir in range(mps.nroots)]\n",
    "entropy1 = driver.get_bipartite_entanglement(kets[0])\n",
    "update_csv_column(\"theta_PiByfour_AHMDmrg_data.csv\", 'Entropy', 't', params['t'], str(entropy1))"
   ]
  },
  {
   "cell_type": "markdown",
   "id": "eb5c55cb-f2c5-424d-a1e0-9a79034e1f3b",
   "metadata": {},
   "source": [
    "#### $t = 1.5$"
   ]
  },
  {
   "cell_type": "code",
   "execution_count": 41,
   "id": "7e109850-fed0-4179-95a2-eb31370a7eba",
   "metadata": {},
   "outputs": [],
   "source": [
    "params['t'] = 1.5\n",
    "driver.initialize_system(n_sites=params['L'], vacuum=Q(0), target=Q(params['N_BOSON']), hamil_init=False)\n",
    "driver.ghamil = driver.get_custom_hamiltonian(site_basis, site_ops)\n",
    "b = driver.expr_builder()\n",
    "\n",
    "# b.add_term(\"ADCB\", np.array([[i, i+1, i+1, i] for i in range(params['L']-1)]).flatten(), -params['t'])\n",
    "b.add_term(\"AD\", np.array([[i, i+1] for i in range(params['L']-1)]).flatten(), -params['t'])\n",
    "b.add_term(\"CB\", np.array([[i+1, i] for i in range(params['L']-1)]).flatten(), -params['t'])\n",
    "b.add_term(\"N\", np.array(np.arange(params['L'])), -(params['mu'] + params['u'] / 2))\n",
    "b.add_term(\"NN\", np.repeat(np.arange(params['L']), 2), params['u'] / 2)\n",
    "\n",
    "mpo = driver.get_mpo(b.finalize(adjust_order=True, fermionic_ops=\"\"), algo_type=MPOAlgorithmTypes.FastBipartite)\n",
    "mps = driver.get_random_mps(tag=\"KET\", bond_dim=50, nroots=2)\n",
    "energy = driver.dmrg(mpo, mps, n_sweeps=10, bond_dims=[50] * 4 + [100] * 4,\n",
    "    noises=[1e-4] * 4 + [1e-5] * 4 + [0], thrds=[1e-10] * 8, dav_max_iter=30, iprint=0)"
   ]
  },
  {
   "cell_type": "code",
   "execution_count": 40,
   "id": "8426d830-7734-477c-b778-44d425e8fca3",
   "metadata": {},
   "outputs": [],
   "source": [
    "#### Data Storing\n",
    "data_t1_5_thetapibyfour = [[params['L'], params['t'], params['u'], params['N_BOSON'], params['NB_MAX'], energy[0], mps, energy[1], entropy]]\n",
    "add_data_to_csv(\"theta_PiByfour_AHMDmrg_data.csv\", data_t1_5_thetapibyfour)"
   ]
  },
  {
   "cell_type": "code",
   "execution_count": 42,
   "id": "a22215b2-21b5-4874-990c-b57af872dfe6",
   "metadata": {},
   "outputs": [],
   "source": [
    "kets = [driver.split_mps(mps, ir, tag=\"KET-%d\" % ir) for ir in range(mps.nroots)]\n",
    "entropy1 = driver.get_bipartite_entanglement(kets[0])\n",
    "update_csv_column(\"theta_PiByfour_AHMDmrg_data.csv\", 'Entropy', 't', params['t'], str(entropy1))"
   ]
  },
  {
   "cell_type": "markdown",
   "id": "76ee0807-56ed-456b-99a6-75fa24c228a9",
   "metadata": {},
   "source": [
    "#### $t = 1.6$"
   ]
  },
  {
   "cell_type": "code",
   "execution_count": 43,
   "id": "531119f8-071f-438f-9028-e1407644b10b",
   "metadata": {},
   "outputs": [],
   "source": [
    "params['t'] = 1.6\n",
    "driver.initialize_system(n_sites=params['L'], vacuum=Q(0), target=Q(params['N_BOSON']), hamil_init=False)\n",
    "driver.ghamil = driver.get_custom_hamiltonian(site_basis, site_ops)\n",
    "b = driver.expr_builder()\n",
    "\n",
    "# b.add_term(\"ADCB\", np.array([[i, i+1, i+1, i] for i in range(params['L']-1)]).flatten(), -params['t'])\n",
    "b.add_term(\"AD\", np.array([[i, i+1] for i in range(params['L']-1)]).flatten(), -params['t'])\n",
    "b.add_term(\"CB\", np.array([[i+1, i] for i in range(params['L']-1)]).flatten(), -params['t'])\n",
    "b.add_term(\"N\", np.array(np.arange(params['L'])), -(params['mu'] + params['u'] / 2))\n",
    "b.add_term(\"NN\", np.repeat(np.arange(params['L']), 2), params['u'] / 2)\n",
    "\n",
    "mpo = driver.get_mpo(b.finalize(adjust_order=True, fermionic_ops=\"\"), algo_type=MPOAlgorithmTypes.FastBipartite)\n",
    "mps = driver.get_random_mps(tag=\"KET\", bond_dim=50, nroots=2)\n",
    "energy = driver.dmrg(mpo, mps, n_sweeps=10, bond_dims=[50] * 4 + [100] * 4,\n",
    "    noises=[1e-4] * 4 + [1e-5] * 4 + [0], thrds=[1e-10] * 8, dav_max_iter=30, iprint=0)"
   ]
  },
  {
   "cell_type": "code",
   "execution_count": 42,
   "id": "b8d9cef3-f5b0-44e9-90b0-f4e4886a4394",
   "metadata": {},
   "outputs": [],
   "source": [
    "#### Data Storing\n",
    "data_t1_6_thetapibyfour = [[params['L'], params['t'], params['u'], params['N_BOSON'], params['NB_MAX'], energy[0], mps, energy[1], entropy]]\n",
    "add_data_to_csv(\"theta_PiByfour_AHMDmrg_data.csv\", data_t1_6_thetapibyfour)"
   ]
  },
  {
   "cell_type": "code",
   "execution_count": 44,
   "id": "e5fdfeb2-18e4-449d-8cc9-8b6c3f18a2b1",
   "metadata": {},
   "outputs": [],
   "source": [
    "kets = [driver.split_mps(mps, ir, tag=\"KET-%d\" % ir) for ir in range(mps.nroots)]\n",
    "entropy1 = driver.get_bipartite_entanglement(kets[0])\n",
    "update_csv_column(\"theta_PiByfour_AHMDmrg_data.csv\", 'Entropy', 't', params['t'], str(entropy1))"
   ]
  },
  {
   "cell_type": "markdown",
   "id": "0a6168f8-2221-4048-9887-f5caffad7061",
   "metadata": {},
   "source": [
    "#### $t = 1.7$"
   ]
  },
  {
   "cell_type": "code",
   "execution_count": 45,
   "id": "7cec08b5-05c9-47c0-985d-4ad057c33726",
   "metadata": {},
   "outputs": [],
   "source": [
    "params['t'] = 1.7\n",
    "driver.initialize_system(n_sites=params['L'], vacuum=Q(0), target=Q(params['N_BOSON']), hamil_init=False)\n",
    "driver.ghamil = driver.get_custom_hamiltonian(site_basis, site_ops)\n",
    "b = driver.expr_builder()\n",
    "\n",
    "# b.add_term(\"ADCB\", np.array([[i, i+1, i+1, i] for i in range(params['L']-1)]).flatten(), -params['t'])\n",
    "b.add_term(\"AD\", np.array([[i, i+1] for i in range(params['L']-1)]).flatten(), -params['t'])\n",
    "b.add_term(\"CB\", np.array([[i+1, i] for i in range(params['L']-1)]).flatten(), -params['t'])\n",
    "b.add_term(\"N\", np.array(np.arange(params['L'])), -(params['mu'] + params['u'] / 2))\n",
    "b.add_term(\"NN\", np.repeat(np.arange(params['L']), 2), params['u'] / 2)\n",
    "\n",
    "mpo = driver.get_mpo(b.finalize(adjust_order=True, fermionic_ops=\"\"), algo_type=MPOAlgorithmTypes.FastBipartite)\n",
    "mps = driver.get_random_mps(tag=\"KET\", bond_dim=50, nroots=2)\n",
    "energy = driver.dmrg(mpo, mps, n_sweeps=10, bond_dims=[50] * 4 + [100] * 4,\n",
    "    noises=[1e-4] * 4 + [1e-5] * 4 + [0], thrds=[1e-10] * 8, dav_max_iter=30, iprint=0)"
   ]
  },
  {
   "cell_type": "code",
   "execution_count": 44,
   "id": "b6e7eca5-528f-4edd-83ac-d5373224d088",
   "metadata": {},
   "outputs": [],
   "source": [
    "#### Data Storing\n",
    "data_t1_7_thetapibyfour = [[params['L'], params['t'], params['u'], params['N_BOSON'], params['NB_MAX'], energy[0], mps, energy[1], entropy]]\n",
    "add_data_to_csv(\"theta_PiByfour_AHMDmrg_data.csv\", data_t1_7_thetapibyfour)"
   ]
  },
  {
   "cell_type": "code",
   "execution_count": 46,
   "id": "e80d8833-d04f-449e-9a38-d72f6bbcad63",
   "metadata": {},
   "outputs": [],
   "source": [
    "kets = [driver.split_mps(mps, ir, tag=\"KET-%d\" % ir) for ir in range(mps.nroots)]\n",
    "entropy1 = driver.get_bipartite_entanglement(kets[0])\n",
    "update_csv_column(\"theta_PiByfour_AHMDmrg_data.csv\", 'Entropy', 't', params['t'], str(entropy1))"
   ]
  },
  {
   "cell_type": "markdown",
   "id": "6869758c-7bd1-4589-923b-4a6991ad6d50",
   "metadata": {},
   "source": [
    "#### $t = 1.8$"
   ]
  },
  {
   "cell_type": "code",
   "execution_count": 47,
   "id": "b34ffa63-4f81-4b56-bc75-0a22b2ae5454",
   "metadata": {},
   "outputs": [],
   "source": [
    "params['t'] = 1.8\n",
    "driver.initialize_system(n_sites=params['L'], vacuum=Q(0), target=Q(params['N_BOSON']), hamil_init=False)\n",
    "driver.ghamil = driver.get_custom_hamiltonian(site_basis, site_ops)\n",
    "b = driver.expr_builder()\n",
    "\n",
    "# b.add_term(\"ADCB\", np.array([[i, i+1, i+1, i] for i in range(params['L']-1)]).flatten(), -params['t'])\n",
    "b.add_term(\"AD\", np.array([[i, i+1] for i in range(params['L']-1)]).flatten(), -params['t'])\n",
    "b.add_term(\"CB\", np.array([[i+1, i] for i in range(params['L']-1)]).flatten(), -params['t'])\n",
    "b.add_term(\"N\", np.array(np.arange(params['L'])), -(params['mu'] + params['u'] / 2))\n",
    "b.add_term(\"NN\", np.repeat(np.arange(params['L']), 2), params['u'] / 2)\n",
    "\n",
    "mpo = driver.get_mpo(b.finalize(adjust_order=True, fermionic_ops=\"\"), algo_type=MPOAlgorithmTypes.FastBipartite)\n",
    "mps = driver.get_random_mps(tag=\"KET\", bond_dim=50, nroots=2)\n",
    "energy = driver.dmrg(mpo, mps, n_sweeps=10, bond_dims=[50] * 4 + [100] * 4,\n",
    "    noises=[1e-4] * 4 + [1e-5] * 4 + [0], thrds=[1e-10] * 8, dav_max_iter=30, iprint=0)"
   ]
  },
  {
   "cell_type": "code",
   "execution_count": 46,
   "id": "471688e6-70c1-4628-8271-ab14217544f3",
   "metadata": {},
   "outputs": [],
   "source": [
    "#### Data Storing\n",
    "data_t1_8_thetapibyfour = [[params['L'], params['t'], params['u'], params['N_BOSON'], params['NB_MAX'], energy[0], mps, energy[1], entropy]]\n",
    "add_data_to_csv(\"theta_PiByfour_AHMDmrg_data.csv\", data_t1_8_thetapibyfour)"
   ]
  },
  {
   "cell_type": "code",
   "execution_count": 48,
   "id": "0ac7c194-1c9f-429f-bab9-96070dd9d9ac",
   "metadata": {},
   "outputs": [],
   "source": [
    "kets = [driver.split_mps(mps, ir, tag=\"KET-%d\" % ir) for ir in range(mps.nroots)]\n",
    "entropy1 = driver.get_bipartite_entanglement(kets[0])\n",
    "update_csv_column(\"theta_PiByfour_AHMDmrg_data.csv\", 'Entropy', 't', params['t'], str(entropy1))"
   ]
  },
  {
   "cell_type": "markdown",
   "id": "f8e599f4-aa75-4499-87ff-0895d1e66cca",
   "metadata": {},
   "source": [
    "#### $t = 1.9$"
   ]
  },
  {
   "cell_type": "code",
   "execution_count": 49,
   "id": "3c670c46-ea3d-400c-beab-6ddb49cdcae1",
   "metadata": {},
   "outputs": [],
   "source": [
    "params['t'] = 1.9\n",
    "driver.initialize_system(n_sites=params['L'], vacuum=Q(0), target=Q(params['N_BOSON']), hamil_init=False)\n",
    "driver.ghamil = driver.get_custom_hamiltonian(site_basis, site_ops)\n",
    "b = driver.expr_builder()\n",
    "\n",
    "# b.add_term(\"ADCB\", np.array([[i, i+1, i+1, i] for i in range(params['L']-1)]).flatten(), -params['t'])\n",
    "b.add_term(\"AD\", np.array([[i, i+1] for i in range(params['L']-1)]).flatten(), -params['t'])\n",
    "b.add_term(\"CB\", np.array([[i+1, i] for i in range(params['L']-1)]).flatten(), -params['t'])\n",
    "b.add_term(\"N\", np.array(np.arange(params['L'])), -(params['mu'] + params['u'] / 2))\n",
    "b.add_term(\"NN\", np.repeat(np.arange(params['L']), 2), params['u'] / 2)\n",
    "\n",
    "mpo = driver.get_mpo(b.finalize(adjust_order=True, fermionic_ops=\"\"), algo_type=MPOAlgorithmTypes.FastBipartite)\n",
    "mps = driver.get_random_mps(tag=\"KET\", bond_dim=50, nroots=2)\n",
    "energy = driver.dmrg(mpo, mps, n_sweeps=10, bond_dims=[50] * 4 + [100] * 4,\n",
    "    noises=[1e-4] * 4 + [1e-5] * 4 + [0], thrds=[1e-10] * 8, dav_max_iter=30, iprint=0)"
   ]
  },
  {
   "cell_type": "code",
   "execution_count": 8,
   "id": "708a79f0-0aac-4b05-8d1a-32b32587e522",
   "metadata": {},
   "outputs": [],
   "source": [
    "#### Data Storing\n",
    "data_t1_9_thetapibyfour = [[params['L'], params['t'], params['u'], params['N_BOSON'], params['NB_MAX'], energy[0], mps, energy[1], entropy]]\n",
    "add_data_to_csv(\"theta_PiByfour_AHMDmrg_data.csv\", data_t1_9_thetapibyfour)"
   ]
  },
  {
   "cell_type": "code",
   "execution_count": 50,
   "id": "c731301b-5820-411b-b050-03c969942aaa",
   "metadata": {},
   "outputs": [],
   "source": [
    "kets = [driver.split_mps(mps, ir, tag=\"KET-%d\" % ir) for ir in range(mps.nroots)]\n",
    "entropy1 = driver.get_bipartite_entanglement(kets[0])\n",
    "update_csv_column(\"theta_PiByfour_AHMDmrg_data.csv\", 'Entropy', 't', params['t'], str(entropy1))"
   ]
  },
  {
   "cell_type": "markdown",
   "id": "d1087f15-0f41-436f-8833-4fb553e2a381",
   "metadata": {},
   "source": [
    "#### $t = 2.0$"
   ]
  },
  {
   "cell_type": "code",
   "execution_count": 51,
   "id": "61fff8c6-6329-4d59-ab8c-040827962a51",
   "metadata": {},
   "outputs": [],
   "source": [
    "params['t'] = 2\n",
    "driver.initialize_system(n_sites=params['L'], vacuum=Q(0), target=Q(params['N_BOSON']), hamil_init=False)\n",
    "driver.ghamil = driver.get_custom_hamiltonian(site_basis, site_ops)\n",
    "b = driver.expr_builder()\n",
    "\n",
    "# b.add_term(\"ADCB\", np.array([[i, i+1, i+1, i] for i in range(params['L']-1)]).flatten(), -params['t'])\n",
    "b.add_term(\"AD\", np.array([[i, i+1] for i in range(params['L']-1)]).flatten(), -params['t'])\n",
    "b.add_term(\"CB\", np.array([[i+1, i] for i in range(params['L']-1)]).flatten(), -params['t'])\n",
    "b.add_term(\"N\", np.array(np.arange(params['L'])), -(params['mu'] + params['u'] / 2))\n",
    "b.add_term(\"NN\", np.repeat(np.arange(params['L']), 2), params['u'] / 2)\n",
    "\n",
    "mpo = driver.get_mpo(b.finalize(adjust_order=True, fermionic_ops=\"\"), algo_type=MPOAlgorithmTypes.FastBipartite)\n",
    "mps = driver.get_random_mps(tag=\"KET\", bond_dim=50, nroots=2)\n",
    "energy = driver.dmrg(mpo, mps, n_sweeps=10, bond_dims=[50] * 4 + [100] * 4,\n",
    "    noises=[1e-4] * 4 + [1e-5] * 4 + [0], thrds=[1e-10] * 8, dav_max_iter=30, iprint=0)"
   ]
  },
  {
   "cell_type": "code",
   "execution_count": 10,
   "id": "9f980895-f74f-466a-b03a-52a480912aaf",
   "metadata": {},
   "outputs": [],
   "source": [
    "#### Data Storing\n",
    "data_t2_thetapibyfour = [[params['L'], params['t'], params['u'], params['N_BOSON'], params['NB_MAX'], energy[0], mps, energy[1], entropy]]\n",
    "add_data_to_csv(\"theta_PiByfour_AHMDmrg_data.csv\", data_t2_thetapibyfour)"
   ]
  },
  {
   "cell_type": "code",
   "execution_count": 52,
   "id": "5699ac0c-6c55-4132-ab76-6d8129f23486",
   "metadata": {},
   "outputs": [],
   "source": [
    "kets = [driver.split_mps(mps, ir, tag=\"KET-%d\" % ir) for ir in range(mps.nroots)]\n",
    "entropy1 = driver.get_bipartite_entanglement(kets[0])\n",
    "update_csv_column(\"theta_PiByfour_AHMDmrg_data.csv\", 'Entropy', 't', params['t'], str(entropy1))"
   ]
  }
 ],
 "metadata": {
  "kernelspec": {
   "display_name": "Python 3 (ipykernel)",
   "language": "python",
   "name": "python3"
  },
  "language_info": {
   "codemirror_mode": {
    "name": "ipython",
    "version": 3
   },
   "file_extension": ".py",
   "mimetype": "text/x-python",
   "name": "python",
   "nbconvert_exporter": "python",
   "pygments_lexer": "ipython3",
   "version": "3.12.3"
  }
 },
 "nbformat": 4,
 "nbformat_minor": 5
}
