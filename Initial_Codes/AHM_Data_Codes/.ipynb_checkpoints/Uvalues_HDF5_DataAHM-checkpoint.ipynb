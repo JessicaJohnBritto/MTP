{
 "cells": [
  {
   "cell_type": "code",
   "execution_count": 1,
   "id": "d34d2381-a1b7-47a9-96b6-3c9416039674",
   "metadata": {},
   "outputs": [],
   "source": [
    "import csv\n",
    "import pandas as pd\n",
    "from pyblock2.driver.core import DMRGDriver, SymmetryTypes, MPOAlgorithmTypes\n",
    "import numpy as np\n",
    "import matplotlib.pyplot as plt\n",
    "from scipy.linalg import expm\n",
    "from pathlib import Path\n",
    "import os\n",
    "import time"
   ]
  },
  {
   "cell_type": "code",
   "execution_count": 2,
   "id": "bf94e558-a30e-4132-baa3-80c46b657a3b",
   "metadata": {},
   "outputs": [],
   "source": [
    "def current_file_path():\n",
    "    current_file = os.path.abspath(os.path.dirname(os.getcwd()))\n",
    "    return current_file"
   ]
  },
  {
   "cell_type": "markdown",
   "id": "11b929e0-9d81-489b-9805-9936b3b719c0",
   "metadata": {},
   "source": [
    "# Data Storing Scripts"
   ]
  },
  {
   "cell_type": "code",
   "execution_count": 3,
   "id": "99581899-3575-4b9f-94b5-2d6c74f624fc",
   "metadata": {},
   "outputs": [],
   "source": [
    "def generate_variable_name(params, **kwargs):\n",
    "    \"\"\"\n",
    "    Generate a variable name dynamically based on the given parameters.\n",
    "    Parameters:\n",
    "    - params (dict): A dictionary containing 't' and 'theta_foldername' as keys.\n",
    "    Returns:\n",
    "    - str: The dynamically generated variable name.\n",
    "    \"\"\"\n",
    "    t_value = params['t']\n",
    "    u_value = params['u']\n",
    "    if t_value != 0:\n",
    "        t_formatted = \"{:.1e}\".format(t_value).replace(\"+\", \"\").replace(\"e0\", \"e\")\n",
    "    else:\n",
    "        t_formatted = \"0e0\"\n",
    "\n",
    "    if u_value != 0:\n",
    "        U_formatted = \"{:.1e}\".format(u_value).replace(\"+\", \"\").replace(\"e0\", \"e\")\n",
    "    else:\n",
    "        U_formatted = \"0e0\"\n",
    "    theta_formatted = params['theta_foldername']\n",
    "    return f\"data_t{t_formatted}_U{U_formatted}_theta{theta_formatted}\""
   ]
  },
  {
   "cell_type": "markdown",
   "id": "a90c83ba-0de0-4eca-b747-419f7c43e6b4",
   "metadata": {},
   "source": [
    "## HDF5 Files"
   ]
  },
  {
   "cell_type": "code",
   "execution_count": 4,
   "id": "65435354-ab8a-44b4-8d94-6e6950bd7aa0",
   "metadata": {},
   "outputs": [],
   "source": [
    "def generate_unique_key(params, **kwargs):\n",
    "    \"\"\"\n",
    "    Generate a unique key for the HDF5 dataset based on the provided parameters.\n",
    "\n",
    "    Parameters:\n",
    "    - params (dict): Dictionary containing 't' and 'u' values.\n",
    "    - kwargs (dict): Dictionary of additional key-value pairs for key generation.\n",
    "\n",
    "    Returns:\n",
    "    - str: The formatted unique key.\n",
    "    \"\"\"\n",
    "    t_value = params['t']\n",
    "    u_value = params['u']\n",
    "\n",
    "    if t_value != 0:\n",
    "        t_formatted = \"{:.1e}\".format(t_value).replace(\"+\", \"\").replace(\".\", \"_\").replace(\"e0\", \"e\").replace(\"-\", \"\")\n",
    "    else:\n",
    "        t_formatted = \"0e0\"\n",
    "\n",
    "    if u_value != 0:\n",
    "        U_formatted = \"{:.1e}\".format(u_value).replace(\"+\", \"\").replace(\".\", \"_\").replace(\"e0\", \"e\").replace(\"-\", \"\")\n",
    "    else:\n",
    "        U_formatted = \"0e0\"\n",
    "\n",
    "    if 'std_deviation_numberOp' in kwargs:\n",
    "        key = f\"std_deviation_numberOp_U{U_formatted}_t{t_formatted}\"\n",
    "    elif 'exp_nOp' in kwargs:\n",
    "        key = f\"expnOp_U{U_formatted}_t{t_formatted}\"\n",
    "    elif 'gndstate_energy' in kwargs:\n",
    "        key = f\"gndenergy_U{U_formatted}_t{t_formatted}\"\n",
    "    elif 'firstexcitedenergy' in kwargs:\n",
    "        key = f\"firstexcitedenergy_U{U_formatted}_t{t_formatted}\"\n",
    "    return key\n"
   ]
  },
  {
   "cell_type": "code",
   "execution_count": 5,
   "id": "ff014658-8729-41b4-aaaf-edbc5c03a332",
   "metadata": {},
   "outputs": [],
   "source": [
    "def generating_complete_path_hdf5(filename, **kwargs):\n",
    "    current_file = current_file_path()\n",
    "    if params['theta_foldername'] == '0':\n",
    "        if 'Correlation' in kwargs:\n",
    "            complete_path = os.path.join(current_file, 'AHM_Data_Codes', f'theta{params['theta_foldername']}', f'L{params['L']}','Correl_matrix',filename)\n",
    "        elif 'entropy' in kwargs:\n",
    "            complete_path = os.path.join(current_file, 'AHM_Data_Codes', f'theta{params['theta_foldername']}', f'L{params['L']}','Entropy',filename)\n",
    "        elif 'expnop' in kwargs:\n",
    "            complete_path = os.path.join(current_file, 'AHM_Data_Codes', f'theta{params['theta_foldername']}', f'L{params['L']}','Exp_nOp',filename)\n",
    "        else:\n",
    "            complete_path = os.path.join(current_file, 'AHM_Data_Codes', f'theta{params['theta_foldername']}', f'L{params['L']}','Remainig_Data',filename)\n",
    "    else:\n",
    "        if 'Correlation' in kwargs:\n",
    "            complete_path = os.path.join(current_file, 'AHM_Data_Codes', f'theta_{params['theta_foldername']}', f'L{params['L']}','Correl_matrix',filename)\n",
    "        elif 'entropy' in kwargs:\n",
    "            complete_path = os.path.join(current_file, 'AHM_Data_Codes', f'theta_{params['theta_foldername']}', f'L{params['L']}','Entropy',filename)\n",
    "        elif 'expnop' in kwargs:\n",
    "            complete_path = os.path.join(current_file, 'AHM_Data_Codes', f'theta_{params['theta_foldername']}', f'L{params['L']}','Exp_nOp',filename)\n",
    "        else:\n",
    "            complete_path = os.path.join(current_file, 'AHM_Data_Codes', f'theta_{params['theta_foldername']}', f'L{params['L']}','Remainig_Data',filename)\n",
    "    return complete_path"
   ]
  },
  {
   "cell_type": "code",
   "execution_count": 6,
   "id": "ceef8db5-acaf-4ede-9f7a-d9cda91e508a",
   "metadata": {},
   "outputs": [],
   "source": [
    "def create_folders_and_store_data(params, data, filename, **kwargs):\n",
    "    \"\"\"\n",
    "    Create folders dynamically based on theta and L values, and store data in a file.\n",
    "    Writes data - overwrite if file already exists\n",
    "    Parameters:\n",
    "    - theta (float or str): The value of theta (e.g., 0, pi/4, pi/2, etc.).\n",
    "    - L (int): The integer value of L.\n",
    "    - data (DataFrame): The data to be stored.\n",
    "    - filename (str): The name of the file to store data in.\n",
    "    \"\"\"\n",
    "    # Define the base directory\n",
    "    if params['theta_foldername'] == '0':\n",
    "        if 'Correlation' in kwargs:\n",
    "            base_dir = Path.cwd() / f\"theta{params['theta_foldername']}\" / f\"L{params['L']}\" / 'Correl_matrix'\n",
    "        elif 'entropy' in kwargs:\n",
    "            base_dir = Path.cwd() / f\"theta{params['theta_foldername']}\" / f\"L{params['L']}\" / 'Entropy'\n",
    "        elif 'expnop' in kwargs:\n",
    "            base_dir = Path.cwd() / f\"theta{params['theta_foldername']}\" / f\"L{params['L']}\" / 'Exp_nOp'\n",
    "        else:      \n",
    "            base_dir = Path.cwd() / f\"theta{params['theta_foldername']}\" / f\"L{params['L']}\" / 'Remainig_Data'\n",
    "    else:\n",
    "        if 'Correlation' in kwargs:\n",
    "            base_dir = Path.cwd() / f\"theta_{params['theta_foldername']}\" / f\"L{params['L']}\" / 'Correl_matrix'\n",
    "        elif 'entropy' in kwargs:\n",
    "            base_dir = Path.cwd() / f\"theta_{params['theta_foldername']}\" / f\"L{params['L']}\" / 'Entropy'\n",
    "        elif 'expnop' in kwargs:\n",
    "            base_dir = Path.cwd() / f\"theta_{params['theta_foldername']}\" / f\"L{params['L']}\" / 'Exp_nOp'\n",
    "        else:\n",
    "            base_dir = Path.cwd() / f\"theta_{params['theta_foldername']}\" / f\"L{params['L']}\" / 'Remainig_Data'\n",
    "    # Create directories if they don't exist\n",
    "    base_dir.mkdir(parents=True, exist_ok=True)\n",
    "    # Define the full file path\n",
    "    file_path = base_dir / filename\n",
    "    # Writing the data to a HDF5 file in the created directory\n",
    "    data.to_hdf(file_path, key=kwargs['key'], mode='w')\n",
    "\n",
    "# filename = 'testing.csv'\n",
    "# data=  pd.DataFrame({'A': [1, 2, 3], 'B': [4, 5, 6]})\n",
    "# key = 'testing'\n",
    "# params['L'] = 10\n",
    "# params['theta_foldername'] = '0'\n",
    "# create_folders_and_store_data(params, data, filename, key = key, Entropy = True)"
   ]
  },
  {
   "cell_type": "code",
   "execution_count": 7,
   "id": "76cc9b95-d822-4459-aca6-deac9a45c072",
   "metadata": {},
   "outputs": [],
   "source": [
    "def write_data_to_hdf5(params, data, file_name, **kwargs):\n",
    "    \"\"\"\n",
    "    This is useful only when the folder exists and you want to create new hdf5 file.\n",
    "    Write a single dataset to an HDF5 file under a specified key.\n",
    "    Parameters:\n",
    "    - file_name (str): The name of the HDF5 file.\n",
    "    - data (pd.DataFrame or pd.Series): The data to write to the HDF5 file.\n",
    "    - key (str): The key under which the data will be stored in the HDF5 file.\n",
    "    \"\"\"\n",
    "    data.to_hdf(file_name, key=kwargs['key'], mode='a', format='table')"
   ]
  },
  {
   "cell_type": "code",
   "execution_count": 8,
   "id": "58468629-3147-4f10-bc15-10f32be91b75",
   "metadata": {},
   "outputs": [],
   "source": [
    "def generate_file_name_hdf5(params, **kwargs):\n",
    "    \"\"\"\n",
    "    Generate a file name dynamically based on the given parameters.\n",
    "    Parameters:\n",
    "    - params (dict): A dictionary containing 'L', 'nmax', and 't' as keys.\n",
    "    Returns:\n",
    "    - str: The dynamically generated file name.\n",
    "    \"\"\"\n",
    "    # Format the 't' value to scientific notation if needed\n",
    "    t_value = params['t']\n",
    "    u_value = params['u']\n",
    "    \n",
    "    if t_value != 0:\n",
    "        t_formatted = \"{:.1e}\".format(t_value).replace(\"+\", \"\").replace(\"e0\", \"e\")\n",
    "    else:\n",
    "        t_formatted = \"0e0\"\n",
    "\n",
    "    if u_value != 0:\n",
    "        U_formatted = \"{:.1e}\".format(u_value).replace(\"+\", \"\").replace(\"e0\", \"e\")\n",
    "    else:\n",
    "        U_formatted = \"0e0\"\n",
    "\n",
    "    if 'Correlation' in kwargs:\n",
    "        file_name = f\"L{params['L']}_t{t_formatted}_Nmax{params['NB_MAX']}_Nbosons{params['N_BOSON']}_U{U_formatted}_CorrelationMatrix.h5\"\n",
    "    elif 'entropy' in kwargs:\n",
    "        file_name = f\"L{params['L']}_t{t_formatted}_Nmax{params['NB_MAX']}_Nbosons{params['N_BOSON']}_U{U_formatted}_entropy.h5\"\n",
    "    elif 'expnop' in kwargs:\n",
    "        file_name = f\"L{params['L']}_t{t_formatted}_Nmax{params['NB_MAX']}_Nbosons{params['N_BOSON']}_U{U_formatted}_expnop.h5\"\n",
    "    else:\n",
    "        file_name = f\"L{params['L']}_t{t_formatted}_Nmax{params['NB_MAX']}_Nbosons{params['N_BOSON']}_U{U_formatted}.h5\"\n",
    "    return file_name\n"
   ]
  },
  {
   "cell_type": "code",
   "execution_count": 9,
   "id": "cc9f47fc-acc4-46b7-8bf8-7cc4c46558ea",
   "metadata": {},
   "outputs": [],
   "source": [
    "def load_matrix_from_hdf5(filepath, **kwargs):\n",
    "    \"\"\"\n",
    "    Load a matrix from an HDF5 file using pandas.\n",
    "    Parameters:\n",
    "    - filepath (str or Path): The path to the HDF5 file.\n",
    "    - key (str): The key to the dataset to load (default is 'correlation_matrix').\n",
    "    Returns:\n",
    "    - ndarray: The matrix loaded from the HDF5 file as a NumPy array.\n",
    "    \"\"\"\n",
    "    df = pd.read_hdf(filepath, key=kwargs['key'])\n",
    "    return df.values  # Convert the DataFrame to a NumPy array\n"
   ]
  },
  {
   "cell_type": "code",
   "execution_count": 10,
   "id": "6f98d899-a69e-4a68-9ff5-1286ed47e28a",
   "metadata": {},
   "outputs": [],
   "source": [
    "def append_data_to_hdf5(params, data, filename, **kwargs):\n",
    "    \"\"\"\n",
    "    Create folders dynamically based on theta and L values, and append data to an HDF5 file.\n",
    "    \n",
    "    If the file does not exist, it will be created. If it does exist, the data will be appended.\n",
    "\n",
    "    Parameters:\n",
    "    - theta (float or str): The value of theta (e.g., 0, pi/4, pi/2, etc.).\n",
    "    - L (int): The integer value of L.\n",
    "    - data (DataFrame or Series): The data to append.\n",
    "    - filename (str): The name of the HDF5 file to store/append data.\n",
    "    - key (str): The key under which the data is stored in the HDF5 file.\n",
    "    \"\"\"\n",
    "    # Define the base directory\n",
    "    if params['theta_foldername'] == '0':\n",
    "        if 'Correlation' in kwargs:\n",
    "            base_dir = Path.cwd() / f\"theta{params['theta_foldername']}\" / f\"L{params['L']}\" / 'Correl_matrix'\n",
    "        elif 'entropy' in kwargs:\n",
    "            base_dir = Path.cwd() / f\"theta{params['theta_foldername']}\" / f\"L{params['L']}\" / 'Entropy'\n",
    "        elif 'expnop' in kwargs:\n",
    "            base_dir = Path.cwd() / f\"theta{params['theta_foldername']}\" / f\"L{params['L']}\" / 'Exp_nOp'\n",
    "        else:      \n",
    "            base_dir = Path.cwd() / f\"theta{params['theta_foldername']}\" / f\"L{params['L']}\" / 'Remainig_Data'\n",
    "    else:\n",
    "        if 'Correlation' in kwargs:\n",
    "            base_dir = Path.cwd() / f\"theta_{params['theta_foldername']}\" / f\"L{params['L']}\" / 'Correl_matrix'\n",
    "        elif 'entropy' in kwargs:\n",
    "            base_dir = Path.cwd() / f\"theta_{params['theta_foldername']}\" / f\"L{params['L']}\" / 'Entropy'\n",
    "        elif 'expnop' in kwargs:\n",
    "            base_dir = Path.cwd() / f\"theta_{params['theta_foldername']}\" / f\"L{params['L']}\" / 'Exp_nOp'\n",
    "        else:\n",
    "            base_dir = Path.cwd() / f\"theta_{params['theta_foldername']}\" / f\"L{params['L']}\" / 'Remainig_Data'\n",
    "    \n",
    "    base_dir.mkdir(parents=True, exist_ok=True)\n",
    "    file_path = base_dir / filename\n",
    "    # Append the data to the HDF5 file (create the file if it doesn't exist)\n",
    "    data.to_hdf(file_path, key=kwargs['key'], mode='a', index=False, append=True)"
   ]
  },
  {
   "cell_type": "markdown",
   "id": "96c80589-43d7-47c2-bf93-3b44a8b41d49",
   "metadata": {},
   "source": [
    "# Data for a $\\theta$, $L$, $N\\_{Boson}$, $N\\_{Max}$, $U$"
   ]
  },
  {
   "cell_type": "code",
   "execution_count": 11,
   "id": "b8ddfdc9-0ba0-4c7a-a2ef-936f5ae00057",
   "metadata": {
    "scrolled": true
   },
   "outputs": [],
   "source": [
    "params={}\n",
    "params['L'], params['N_BOSON'] = 20, 20\n",
    "params['theta_foldername_list'] = ['0', 'Piby4', 'Piby2', '3Piby4', 'Pi']\n",
    "params['theta'], params['theta_foldername'] = np.pi, params['theta_foldername_list'][4]\n",
    "params['t'] = 1\n",
    "params['u'] = 1\n",
    "params['mu'] = 0\n",
    "params['NB_MAX'] = 3 # max n_boson per site\n",
    "params['theta_list'] = [0, np.pi/4, 3*np.pi/4, np.pi/2, np.pi]\n",
    "params['t_list'] = np.arange(0.01, 2, 0.1)\n",
    "\n",
    "driver = DMRGDriver(scratch=\"./tmp\", symm_type=SymmetryTypes.SAny|SymmetryTypes.CPX, n_threads=4)\n",
    "\n",
    "driver.set_symmetry_groups(\"U1\")\n",
    "Q = driver.bw.SX"
   ]
  },
  {
   "cell_type": "code",
   "execution_count": 12,
   "id": "d440c38a-272f-4fa6-823f-c14a77b7e899",
   "metadata": {},
   "outputs": [],
   "source": [
    "site_basis, site_ops = [], []\n",
    "for k in range(params['L']):\n",
    "    basis = [(Q(i), 1) for i in range(params['NB_MAX'] + 1)] \n",
    "    ops = {\n",
    "        \"\": np.identity(params['NB_MAX'] + 1),                           # identity\n",
    "        \"C\": np.diag(np.sqrt(np.arange(1, params['NB_MAX'] + 1)), k=-1), # b+\n",
    "        \"D\": np.diag(np.sqrt(np.arange(1, params['NB_MAX'] + 1)), k=1),  # b\n",
    "        \"N\": np.diag(np.arange(0, params['NB_MAX'] + 1), k=0),           # particle number\n",
    "        \"A\": np.diag(np.sqrt(np.arange(1, params['NB_MAX'] + 1))*np.exp(1j * params['theta'] * np.arange(params['NB_MAX'])), k=-1), # A+_withPhase  \n",
    "        \"B\": np.diag(np.sqrt(np.arange(1, params['NB_MAX'] + 1))*np.exp(-1j * params['theta'] * np.arange(params['NB_MAX'])), k=1), # A_withPhase  \n",
    "    }\n",
    "    site_basis.append(basis)\n",
    "    site_ops.append(ops)"
   ]
  },
  {
   "cell_type": "markdown",
   "id": "60024b09-ef05-4c8d-a818-a606d1dcb292",
   "metadata": {},
   "source": [
    "## First Excited Gap, Correlation, Number Operator and Entropy Data"
   ]
  },
  {
   "cell_type": "markdown",
   "id": "d0e5e942-8643-4cb1-a358-3fb2e9ff8856",
   "metadata": {
    "jp-MarkdownHeadingCollapsed": true
   },
   "source": [
    "#### $U = 0$"
   ]
  },
  {
   "cell_type": "code",
   "execution_count": 254,
   "id": "648a6640-041e-406c-9da2-691d5aab9003",
   "metadata": {},
   "outputs": [
    {
     "name": "stdout",
     "output_type": "stream",
     "text": [
      "Execution time: 862.17 seconds\n"
     ]
    }
   ],
   "source": [
    "start_time = time.time()\n",
    "#########################################\n",
    "\n",
    "params['u'] = 0\n",
    "driver.initialize_system(n_sites=params['L'], vacuum=Q(0), target=Q(params['N_BOSON']), hamil_init=False)\n",
    "driver.ghamil = driver.get_custom_hamiltonian(site_basis, site_ops)\n",
    "b = driver.expr_builder()\n",
    "\n",
    "# b.add_term(\"ADCB\", np.array([[i, i+1, i+1, i] for i in range(params['L']-1)]).flatten(), -params['t'])\n",
    "b.add_term(\"AD\", np.array([[i, i+1] for i in range(params['L']-1)]).flatten(), -params['t'])\n",
    "b.add_term(\"CB\", np.array([[i+1, i] for i in range(params['L']-1)]).flatten(), -params['t'])\n",
    "b.add_term(\"N\", np.array(np.arange(params['L'])), -(params['mu'] + params['u'] / 2))\n",
    "b.add_term(\"NN\", np.repeat(np.arange(params['L']), 2), params['u'] / 2)\n",
    "\n",
    "mpo = driver.get_mpo(b.finalize(adjust_order=True, fermionic_ops=\"\"), algo_type=MPOAlgorithmTypes.FastBipartite)\n",
    "mps = driver.get_random_mps(tag=\"KET\", bond_dim=50, nroots=2)\n",
    "energy = driver.dmrg(mpo, mps, n_sweeps=10, bond_dims=[50] * 4 + [100] * 4,\n",
    "    noises=[1e-4] * 4 + [1e-5] * 4 + [0], thrds=[1e-10] * 8, dav_max_iter=30, iprint=0)\n",
    "\n",
    "#########################################\n",
    "end_time = time.time()\n",
    "execution_time = end_time - start_time\n",
    "print(f\"Execution time: {execution_time:.2f} seconds\")"
   ]
  },
  {
   "cell_type": "code",
   "execution_count": 255,
   "id": "e3a84968-99cc-42b5-bcd6-5dcd4a8f1016",
   "metadata": {},
   "outputs": [],
   "source": [
    "kets = [driver.split_mps(mps, ir, tag=\"KET-%d\" % ir) for ir in range(mps.nroots)]"
   ]
  },
  {
   "cell_type": "markdown",
   "id": "9c637f19-40c9-4ba0-b238-6170ad8ae4e5",
   "metadata": {},
   "source": [
    "##### First Excitation Gap"
   ]
  },
  {
   "cell_type": "code",
   "execution_count": null,
   "id": "9a33a6a6-6bac-4674-b58a-3cfbdd0e8431",
   "metadata": {},
   "outputs": [],
   "source": [
    "gndenergy = pd.DataFrame({'gndenergy':[np.power(np.abs(energy[1]-energy[0]),2)]})\n",
    "filename = generate_file_name_hdf5(params)\n",
    "## Complete path\n",
    "filename1 = generating_complete_path_hdf5(filename)\n",
    "key = generate_unique_key(params, gndstate_energy = True)\n",
    "## Use the code below to append data to an existing file/folder directory\n",
    "append_data_to_hdf5(params, gndenergy, filename1, key = key)"
   ]
  },
  {
   "cell_type": "code",
   "execution_count": null,
   "id": "5ad2e00f-857c-443b-a694-647b2fffb3df",
   "metadata": {},
   "outputs": [],
   "source": [
    "## Testing\n",
    "gndenergy = load_matrix_from_hdf5(filename1, key = key)\n",
    "print(gndenergy[0][0])"
   ]
  },
  {
   "cell_type": "markdown",
   "id": "ac792a21-27b8-45e0-abb9-31fc11bea29c",
   "metadata": {},
   "source": [
    "##### Entropy"
   ]
  },
  {
   "cell_type": "code",
   "execution_count": null,
   "id": "13a39a34-82de-4849-ad40-3aea6222cf5b",
   "metadata": {},
   "outputs": [],
   "source": [
    "entropy1 = driver.get_bipartite_entanglement(kets[0])"
   ]
  },
  {
   "cell_type": "markdown",
   "id": "80464d04-1bcf-4a88-8f00-2092f8b5dba5",
   "metadata": {},
   "source": [
    "###### HDF5 Files"
   ]
  },
  {
   "cell_type": "code",
   "execution_count": null,
   "id": "c5b56efc-4e4e-404c-9c88-cdd7ad7c4d05",
   "metadata": {},
   "outputs": [],
   "source": [
    "entropy = pd.DataFrame(entropy1)\n",
    "filename = generate_file_name_hdf5(params, entropy = True)\n",
    "## Complete path of the location of the file\n",
    "filename1 = generating_complete_path_hdf5(filename, entropy = True)\n",
    "create_folders_and_store_data(params, entropy, filename, key = 'entropy', entropy = True)"
   ]
  },
  {
   "cell_type": "markdown",
   "id": "f0b37590-6058-4e0d-8bc0-0e0d00804d84",
   "metadata": {},
   "source": [
    "##### Correlation Matrix"
   ]
  },
  {
   "cell_type": "code",
   "execution_count": null,
   "id": "c5fc4190-cd87-4cb7-a244-ee4d9f6777d4",
   "metadata": {},
   "outputs": [],
   "source": [
    "hop_exp_val = np.zeros((params['L'], params['L']), dtype=complex)\n",
    "for i in range(params['L']):\n",
    "    for j in range(i, params['L']):\n",
    "        b = driver.expr_builder()\n",
    "        b.add_term(\"CD\", np.array([i, j]), 1)  # Hopping operator between i and j            \n",
    "        hop_mpo = driver.get_mpo(b.finalize(adjust_order=True, fermionic_ops=\"\"), algo_type=MPOAlgorithmTypes.FastBipartite)\n",
    "        hop_exp_val[i, j] = driver.expectation(kets[0], hop_mpo, kets[0])\n",
    "        hop_exp_val[j, i] = np.conjugate(hop_exp_val[i, j])"
   ]
  },
  {
   "cell_type": "code",
   "execution_count": null,
   "id": "654ab3d5-b19b-4095-81fe-2f07631527ba",
   "metadata": {},
   "outputs": [],
   "source": [
    "correl_matrix = pd.DataFrame(hop_exp_val)\n",
    "filename = generate_file_name_hdf5(params, Correlation = True)\n",
    "## Complete path of the location of the file\n",
    "filename1 = generating_complete_path_hdf5(filename, Correlation = True)\n",
    "## Use the code below to append data to an existing file/folder directory\n",
    "# append_data_to_hdf5(params, correl_matrix, filename1, key = 'correl_matrix', Correlation = True)\n",
    "\n",
    "## Use this code to write data to a new file irrespective of the presence of subholder based on 'L'.\n",
    "create_folders_and_store_data(params, correl_matrix, filename1, key = 'correl_matrix', Correlation = True)"
   ]
  },
  {
   "cell_type": "markdown",
   "id": "2751ad41-b149-4c66-8120-629fe1ad0695",
   "metadata": {},
   "source": [
    "##### NumberOperator and Its Standard Deviation"
   ]
  },
  {
   "cell_type": "code",
   "execution_count": null,
   "id": "04c0ecd5-fd2e-419a-b9ba-cd25c57c8679",
   "metadata": {},
   "outputs": [],
   "source": [
    "std_val, std_nOp = 0, 0\n",
    "_exp_nop = []\n",
    "for i in range(params['L']):\n",
    "    b = driver.expr_builder()\n",
    "    b.add_term(\"N\", np.array([i]), 1)\n",
    "## Calculate <N>   \n",
    "    nOp_mpo = driver.get_mpo(b.finalize(adjust_order=True, fermionic_ops=\"\"), algo_type=MPOAlgorithmTypes.FastBipartite)\n",
    "    impo = driver.get_identity_mpo()\n",
    "\n",
    "    nOp_exp = driver.expectation(kets[0], nOp_mpo, kets[0]) / driver.expectation(kets[0], impo, kets[0])\n",
    "    _exp_nop.append(nOp_exp)\n",
    "## Calculate <N^2>\n",
    "    b = driver.expr_builder()\n",
    "    b.add_term(\"NN\", np.repeat([i], 2), 1)\n",
    "    \n",
    "    NN_mpo = driver.get_mpo(b.finalize(adjust_order=True, fermionic_ops=\"\"), algo_type=MPOAlgorithmTypes.FastBipartite)\n",
    "    NN_exp = driver.expectation(kets[0], NN_mpo, kets[0]) / driver.expectation(kets[0], impo, kets[0]) \n",
    "## Calculate Standard Deviation\n",
    "    std_val+=np.sqrt(NN_exp - (nOp_exp*nOp_exp))        \n",
    "std_nOp = (std_val/params['L'])"
   ]
  },
  {
   "cell_type": "markdown",
   "id": "bca5c4c7-65e3-4f2d-86a3-fec677aa4d65",
   "metadata": {},
   "source": [
    "###### Expectation value of Number Operator on each site"
   ]
  },
  {
   "cell_type": "code",
   "execution_count": null,
   "id": "bac5cdf3-62dd-4883-9407-ff7bafb6bad9",
   "metadata": {},
   "outputs": [],
   "source": [
    "density_nop = pd.DataFrame(_exp_nop)\n",
    "filename = generate_file_name_hdf5(params, expnop = True)\n",
    "## Complete path of the location of the file\n",
    "filename1 = generating_complete_path_hdf5(filename, expnop = True)\n",
    "key = generate_unique_key(params, exp_nOp = True)\n",
    "create_folders_and_store_data(params, density_nop, filename, key = key, expnop = True)"
   ]
  },
  {
   "cell_type": "code",
   "execution_count": null,
   "id": "aee2f440-2765-4244-b942-016a945907ed",
   "metadata": {},
   "outputs": [],
   "source": [
    "# key = generate_unique_key(params, exp_nOp = True)\n",
    "# density_nop = load_matrix_from_hdf5(filename1, key = key)\n",
    "# print(density_nop)"
   ]
  },
  {
   "cell_type": "markdown",
   "id": "c1ad71df-ac81-4cb8-a775-a507483392c1",
   "metadata": {},
   "source": [
    "###### Standard Deviation"
   ]
  },
  {
   "cell_type": "code",
   "execution_count": null,
   "id": "3f02995b-0520-4ce3-8cf6-c0381589afac",
   "metadata": {},
   "outputs": [],
   "source": [
    "std_deviation_numberOp = pd.DataFrame({'std_nOp':[std_nOp]})\n",
    "filename = generate_file_name_hdf5(params)\n",
    "filename1 = generating_complete_path_hdf5(filename)\n",
    "key = generate_unique_key(params, std_deviation_numberOp = True)\n",
    "\n",
    "## Use the code below to append data to an existing file/folder directory\n",
    "append_data_to_hdf5(params, std_deviation_numberOp, filename1, key = key)\n",
    "\n",
    "####### Use this only for the first time when taking data for a theta #######\n",
    "## Use this code to write data to a new file irrespective of the presence of subholder based on 'L'.\n",
    "# create_folders_and_store_data(params, std_deviation_numberOp, filename, key = key)"
   ]
  },
  {
   "cell_type": "code",
   "execution_count": null,
   "id": "fe52261d-22b7-48e0-832f-8f2d296ad47a",
   "metadata": {},
   "outputs": [],
   "source": [
    "key = generate_unique_key(params, std_deviation_numberOp = True)\n",
    "std_nop = load_matrix_from_hdf5(filename1, key = key)\n",
    "print(std_nop[0][0])"
   ]
  },
  {
   "cell_type": "code",
   "execution_count": null,
   "id": "3d54a01e-fb87-4275-bbb1-faed51e2a9ad",
   "metadata": {},
   "outputs": [],
   "source": [
    "with pd.HDFStore(filename1, 'r') as hdf:\n",
    "    # List all keys in the file\n",
    "    keys = hdf.keys()\n",
    "    print(\"Keys in HDF5 file:\")\n",
    "    for key in keys:\n",
    "        print(key)"
   ]
  },
  {
   "cell_type": "markdown",
   "id": "8389751e-4280-410b-a515-b4aa1b66c37e",
   "metadata": {
    "jp-MarkdownHeadingCollapsed": true
   },
   "source": [
    "##### Testing of Correlation Matrix by plotting it"
   ]
  },
  {
   "cell_type": "code",
   "execution_count": null,
   "id": "5c048b5b-9ff9-4958-b74f-fb3f1b552627",
   "metadata": {},
   "outputs": [],
   "source": [
    "theta_values = [0]\n",
    "L_values = [10]\n",
    "\n",
    "example_data = pd.DataFrame({\n",
    "    'Column1': np.random.rand(10),\n",
    "    'Column2': np.random.rand(10)\n",
    "})\n",
    "\n",
    "for theta in theta_values:\n",
    "    for L in L_values:\n",
    "        filename = generate_file_name_hdf5(params)\n",
    "        create_folders_and_store_data(params, example_data, filename)"
   ]
  },
  {
   "cell_type": "code",
   "execution_count": 47,
   "id": "0ecfaf7a-0127-4571-ba60-50c3a772e458",
   "metadata": {},
   "outputs": [],
   "source": [
    "filename = generate_file_name_hdf5(params, Correlation = True)"
   ]
  },
  {
   "cell_type": "code",
   "execution_count": 50,
   "id": "758f2f7c-a959-4a24-9c39-79e645acbe5e",
   "metadata": {},
   "outputs": [],
   "source": [
    "current_file = os.path.abspath(os.path.dirname(os.getcwd()))\n",
    "filename1 = os.path.join(current_file, 'AHM_Data_Codes', 'theta0', f'L{10}', filename)"
   ]
  },
  {
   "cell_type": "code",
   "execution_count": 54,
   "id": "90d42fd3-f63a-4c05-b97e-2a78f983df63",
   "metadata": {},
   "outputs": [],
   "source": [
    "hop_exp_val1 = load_matrix_from_hdf5(filename1, key = 'data')"
   ]
  },
  {
   "cell_type": "code",
   "execution_count": 57,
   "id": "6e074cb1-4bbc-4fa0-ab74-e97862a9f5aa",
   "metadata": {},
   "outputs": [],
   "source": [
    "hop_exp_val1 = np.power(np.abs(hop_exp_val1), 2)\n",
    "plt.imshow(hop_exp_val1, cmap=\"Blues\")"
   ]
  },
  {
   "cell_type": "markdown",
   "id": "2f653c5a-a6bf-4dba-a40c-666091f9defc",
   "metadata": {
    "jp-MarkdownHeadingCollapsed": true
   },
   "source": [
    "##### Some Minor Testing of Scaling Laws"
   ]
  },
  {
   "cell_type": "code",
   "execution_count": 9,
   "id": "c0675d9a-17c3-4c38-82e3-00a810f24ce9",
   "metadata": {},
   "outputs": [],
   "source": [
    "kets = [driver.split_mps(mps, ir, tag=\"KET-%d\" % ir) for ir in range(mps.nroots)]"
   ]
  },
  {
   "cell_type": "code",
   "execution_count": 30,
   "id": "8666d4c0-6b15-49bf-bffd-6ddd967b653e",
   "metadata": {},
   "outputs": [],
   "source": [
    "entropy1 = driver.get_bipartite_entanglement(kets[0])"
   ]
  },
  {
   "cell_type": "code",
   "execution_count": 33,
   "id": "0865267f-0989-480d-8101-aceb14489eee",
   "metadata": {},
   "outputs": [],
   "source": [
    "params['t'] = 0\n",
    "update_csv_column(\"theta0_AHMDmrg_data.csv\", 'Entropy', 't', params['t'], str(entropy1))"
   ]
  },
  {
   "cell_type": "code",
   "execution_count": 19,
   "id": "3cad76b7-7007-4ca8-aebc-11b45a215d6f",
   "metadata": {},
   "outputs": [
    {
     "name": "stdout",
     "output_type": "stream",
     "text": [
      "<block2.cpx.sany.MPS object at 0x0000015B1B3DE0B0>\n",
      "[-8.88178420e-16 -8.88178420e-16 -8.88178420e-16 -8.88178420e-16\n",
      " -8.88178420e-16 -8.88139235e-16  2.63409891e-10  1.22678750e-10\n",
      "  8.13411184e-11]\n"
     ]
    }
   ],
   "source": [
    "print(kets[0])\n",
    "print(entropy1)"
   ]
  },
  {
   "cell_type": "code",
   "execution_count": 20,
   "id": "51ff46c6-2cc1-45ab-974d-67873c93e328",
   "metadata": {},
   "outputs": [
    {
     "name": "stdout",
     "output_type": "stream",
     "text": [
      "[0.00000000e+000 3.41084312e-162 1.30021674e-078 9.50087542e-047\n",
      " 1.20819030e-014 9.63085519e-012 3.28992598e-002 7.32875617e-001\n",
      " 8.51719905e-001]\n"
     ]
    }
   ],
   "source": [
    "entropy2 = driver.get_bipartite_entanglement(kets[1])\n",
    "print(entropy2)"
   ]
  },
  {
   "cell_type": "code",
   "execution_count": 29,
   "id": "3429b49d-8936-4199-976e-0da566a9be17",
   "metadata": {},
   "outputs": [],
   "source": [
    "df = pd.read_csv(\"theta0_AHMDmrg_data.csv\")\n",
    "params['t'] = 0\n",
    "condition = df['t'] == params['t']\n",
    "df.loc[condition, 'Entropy'] = str(entropy1) * condition.sum()\n",
    "\n",
    "# Step 4: Save the updated DataFrame back to the CSV file\n",
    "df.to_csv(\"theta0_AHMDmrg_data.csv\", index=False)\n"
   ]
  },
  {
   "cell_type": "code",
   "execution_count": 27,
   "id": "1af0dc37-296a-41c8-be5a-3a968770117f",
   "metadata": {},
   "outputs": [],
   "source": [
    "df.to_pickle(\"dataframe.pkl\")"
   ]
  },
  {
   "cell_type": "code",
   "execution_count": 28,
   "id": "0d346695-f3e3-40c1-8afb-9ccf73016a18",
   "metadata": {},
   "outputs": [
    {
     "name": "stdout",
     "output_type": "stream",
     "text": [
      "[-8.8817842e-16, -8.8817842e-16, -8.8817842e-16, -8.8817842e-16, -8.8817842e-16, -8.88139235e-16, 2.63409891e-10, 1.2267875e-10, 8.13411184e-11]\n"
     ]
    },
    {
     "data": {
      "image/png": "[encoded data removed]",
      "text/plain": [
       "<Figure size 640x480 with 1 Axes>"
      ]
     },
     "metadata": {},
     "output_type": "display_data"
    }
   ],
   "source": [
    "def convert_stringlist_to_float_list(string):\n",
    "    # Remove the square brackets and split by spaces\n",
    "    float_list = list(map(float, string.strip('[]').split()))\n",
    "    return float_list\n",
    "\n",
    "def get_data_by_conditions(df, conditions, columns):\n",
    "    condition = pd.Series([True] * len(df)) \n",
    "    for key, value in conditions.items():\n",
    "        condition &= df[key] == value\n",
    "    filtered_df = df[condition]\n",
    "    return filtered_df[columns] if not filtered_df.empty else None\n",
    "colors1 = plt.cm.Reds(np.linspace(0.5, 0.95, len(params['theta_list'])))\n",
    "conditions = {'t': 0} \n",
    "keywords = ['Entropy']\n",
    "result = get_data_by_conditions(df, conditions, keywords)\n",
    "entropy = convert_stringlist_to_float_list(result.values[0][0])\n",
    "print(entropy)\n",
    "plt.plot(list(range(len(entropy))), entropy, \"--o\", label=f'$θ$={params['theta_list'][0]:.2f}', color = colors1[0], ms=8)\n",
    "plt.legend(bbox_to_anchor=(1.04, 0.5), loc=\"center left\", borderaxespad=0)\n",
    "plt.xlabel('Different Combinations of Partition of two subsystems')\n",
    "plt.ylabel('Entropy')\n",
    "U, t = params['u'], 0\n",
    "plt.title(f'Entanglement Scaling Laws for J = {t}, U={U}')\n",
    "plt.grid(True)\n",
    "plt.show() "
   ]
  },
  {
   "cell_type": "markdown",
   "id": "b2a026de-8fe0-4c92-9d43-ebab802b9132",
   "metadata": {
    "jp-MarkdownHeadingCollapsed": true
   },
   "source": [
    "#### $U = 0.1$"
   ]
  },
  {
   "cell_type": "code",
   "execution_count": 273,
   "id": "fbbc1d46-fb15-45a2-87e7-651aa2bc8130",
   "metadata": {},
   "outputs": [
    {
     "name": "stdout",
     "output_type": "stream",
     "text": [
      "Execution time: 863.51 seconds\n"
     ]
    }
   ],
   "source": [
    "start_time = time.time()\n",
    "#########################################\n",
    "\n",
    "params['u'] = 0.1\n",
    "driver.initialize_system(n_sites=params['L'], vacuum=Q(0), target=Q(params['N_BOSON']), hamil_init=False)\n",
    "driver.ghamil = driver.get_custom_hamiltonian(site_basis, site_ops)\n",
    "b = driver.expr_builder()\n",
    "\n",
    "# b.add_term(\"ADCB\", np.array([[i, i+1, i+1, i] for i in range(params['L']-1)]).flatten(), -params['t'])\n",
    "b.add_term(\"AD\", np.array([[i, i+1] for i in range(params['L']-1)]).flatten(), -params['t'])\n",
    "b.add_term(\"CB\", np.array([[i+1, i] for i in range(params['L']-1)]).flatten(), -params['t'])\n",
    "b.add_term(\"N\", np.array(np.arange(params['L'])), -(params['mu'] + params['u'] / 2))\n",
    "b.add_term(\"NN\", np.repeat(np.arange(params['L']), 2), params['u'] / 2)\n",
    "\n",
    "mpo = driver.get_mpo(b.finalize(adjust_order=True, fermionic_ops=\"\"), algo_type=MPOAlgorithmTypes.FastBipartite)\n",
    "mps = driver.get_random_mps(tag=\"KET\", bond_dim=50, nroots=2)\n",
    "energy = driver.dmrg(mpo, mps, n_sweeps=10, bond_dims=[50] * 4 + [100] * 4,\n",
    "    noises=[1e-4] * 4 + [1e-5] * 4 + [0], thrds=[1e-10] * 8, dav_max_iter=30, iprint=0)\n",
    "\n",
    "#########################################\n",
    "end_time = time.time()\n",
    "execution_time = end_time - start_time\n",
    "print(f\"Execution time: {execution_time:.2f} seconds\")"
   ]
  },
  {
   "cell_type": "code",
   "execution_count": 274,
   "id": "bd2396cb-89fb-4d58-a529-cd341f3d2f2b",
   "metadata": {},
   "outputs": [],
   "source": [
    "kets = [driver.split_mps(mps, ir, tag=\"KET-%d\" % ir) for ir in range(mps.nroots)]"
   ]
  },
  {
   "cell_type": "markdown",
   "id": "8415b556-dda9-4316-be76-7291c2f0e405",
   "metadata": {},
   "source": [
    "##### First Excitation Gap"
   ]
  },
  {
   "cell_type": "code",
   "execution_count": null,
   "id": "f4b28403-336a-4fea-b64b-04384e17081f",
   "metadata": {},
   "outputs": [],
   "source": [
    "gndenergy = pd.DataFrame({'gndenergy':[np.power(np.abs(energy[1]-energy[0]),2)]})\n",
    "filename = generate_file_name_hdf5(params)\n",
    "## Complete path\n",
    "filename1 = generating_complete_path_hdf5(filename)\n",
    "key = generate_unique_key(params, gndstate_energy = True)\n",
    "## Use the code below to append data to an existing file/folder directory\n",
    "append_data_to_hdf5(params, gndenergy, filename1, key = key)"
   ]
  },
  {
   "cell_type": "code",
   "execution_count": null,
   "id": "e53fbe24-d824-45b3-9ca4-fb9562c1c023",
   "metadata": {},
   "outputs": [],
   "source": [
    "## Testing\n",
    "gndenergy = load_matrix_from_hdf5(filename1, key = key)\n",
    "print(gndenergy[0][0])"
   ]
  },
  {
   "cell_type": "markdown",
   "id": "97e28eb6-92ed-4e95-9e7c-d30a69952aa7",
   "metadata": {},
   "source": [
    "##### Entropy"
   ]
  },
  {
   "cell_type": "code",
   "execution_count": null,
   "id": "53a7f1f7-a2a7-4535-b1f6-6fa180f01ab7",
   "metadata": {},
   "outputs": [],
   "source": [
    "entropy1 = driver.get_bipartite_entanglement(kets[0])"
   ]
  },
  {
   "cell_type": "markdown",
   "id": "b575c8d4-45cf-4e4a-bc39-440d3fc4be0e",
   "metadata": {},
   "source": [
    "###### HDF5 Files"
   ]
  },
  {
   "cell_type": "code",
   "execution_count": null,
   "id": "d2e87e59-8d40-4658-951d-a7fe57ad6f36",
   "metadata": {},
   "outputs": [],
   "source": [
    "entropy = pd.DataFrame(entropy1)\n",
    "filename = generate_file_name_hdf5(params, entropy = True)\n",
    "## Complete path of the location of the file\n",
    "filename1 = generating_complete_path_hdf5(filename, entropy = True)\n",
    "create_folders_and_store_data(params, entropy, filename, key = 'entropy', entropy = True)"
   ]
  },
  {
   "cell_type": "markdown",
   "id": "b43ffe55-b343-4a42-9802-d87a2a83cf32",
   "metadata": {},
   "source": [
    "##### Correlation Matrix"
   ]
  },
  {
   "cell_type": "code",
   "execution_count": null,
   "id": "d10d74d1-7b0b-4f24-b75e-757a33f9190b",
   "metadata": {},
   "outputs": [],
   "source": [
    "hop_exp_val = np.zeros((params['L'], params['L']), dtype=complex)\n",
    "for i in range(params['L']):\n",
    "    for j in range(i, params['L']):\n",
    "        b = driver.expr_builder()\n",
    "        b.add_term(\"CD\", np.array([i, j]), 1)  # Hopping operator between i and j            \n",
    "        hop_mpo = driver.get_mpo(b.finalize(adjust_order=True, fermionic_ops=\"\"), algo_type=MPOAlgorithmTypes.FastBipartite)\n",
    "        hop_exp_val[i, j] = driver.expectation(kets[0], hop_mpo, kets[0])\n",
    "        hop_exp_val[j, i] = np.conjugate(hop_exp_val[i, j])"
   ]
  },
  {
   "cell_type": "code",
   "execution_count": null,
   "id": "f060ddef-cd68-420f-bb3f-c1469a370f4d",
   "metadata": {},
   "outputs": [],
   "source": [
    "correl_matrix = pd.DataFrame(hop_exp_val)\n",
    "filename = generate_file_name_hdf5(params, Correlation = True)\n",
    "## Complete path of the location of the file\n",
    "filename1 = generating_complete_path_hdf5(filename, Correlation = True)\n",
    "## Use the code below to append data to an existing file/folder directory\n",
    "# append_data_to_hdf5(params, correl_matrix, filename1, key = 'correl_matrix', Correlation = True)\n",
    "\n",
    "## Use this code to write data to a new file irrespective of the presence of subholder based on 'L'.\n",
    "create_folders_and_store_data(params, correl_matrix, filename1, key = 'correl_matrix', Correlation = True)"
   ]
  },
  {
   "cell_type": "markdown",
   "id": "dfab1a6b-888f-4299-9b75-befbb7dca84d",
   "metadata": {},
   "source": [
    "##### NumberOperator and Its Standard Deviation"
   ]
  },
  {
   "cell_type": "code",
   "execution_count": null,
   "id": "bfaf28cb-21cc-411b-bede-d582dc1fa2f8",
   "metadata": {},
   "outputs": [],
   "source": [
    "std_val, std_nOp = 0, 0\n",
    "_exp_nop = []\n",
    "for i in range(params['L']):\n",
    "    b = driver.expr_builder()\n",
    "    b.add_term(\"N\", np.array([i]), 1)\n",
    "## Calculate <N>   \n",
    "    nOp_mpo = driver.get_mpo(b.finalize(adjust_order=True, fermionic_ops=\"\"), algo_type=MPOAlgorithmTypes.FastBipartite)\n",
    "    impo = driver.get_identity_mpo()\n",
    "\n",
    "    nOp_exp = driver.expectation(kets[0], nOp_mpo, kets[0]) / driver.expectation(kets[0], impo, kets[0])\n",
    "    _exp_nop.append(nOp_exp)\n",
    "## Calculate <N^2>\n",
    "    b = driver.expr_builder()\n",
    "    b.add_term(\"NN\", np.repeat([i], 2), 1)\n",
    "    \n",
    "    NN_mpo = driver.get_mpo(b.finalize(adjust_order=True, fermionic_ops=\"\"), algo_type=MPOAlgorithmTypes.FastBipartite)\n",
    "    NN_exp = driver.expectation(kets[0], NN_mpo, kets[0]) / driver.expectation(kets[0], impo, kets[0]) \n",
    "## Calculate Standard Deviation\n",
    "    std_val+=np.sqrt(NN_exp - (nOp_exp*nOp_exp))        \n",
    "std_nOp = (std_val/params['L'])"
   ]
  },
  {
   "cell_type": "markdown",
   "id": "2a9f2472-4297-4975-948e-e0a78f4bdc0d",
   "metadata": {},
   "source": [
    "###### Expectation value of Number Operator on each site"
   ]
  },
  {
   "cell_type": "code",
   "execution_count": null,
   "id": "f36a3c8f-3010-4434-a2c0-5b651c194924",
   "metadata": {},
   "outputs": [],
   "source": [
    "density_nop = pd.DataFrame(_exp_nop)\n",
    "filename = generate_file_name_hdf5(params, expnop = True)\n",
    "## Complete path of the location of the file\n",
    "filename1 = generating_complete_path_hdf5(filename, expnop = True)\n",
    "key = generate_unique_key(params, exp_nOp = True)\n",
    "create_folders_and_store_data(params, density_nop, filename, key = key, expnop = True)"
   ]
  },
  {
   "cell_type": "code",
   "execution_count": null,
   "id": "c6fcab3e-34b0-4b2b-8e16-c96e90f9c42e",
   "metadata": {},
   "outputs": [],
   "source": [
    "# key = generate_unique_key(params, exp_nOp = True)\n",
    "# density_nop = load_matrix_from_hdf5(filename1, key = key)\n",
    "# print(density_nop)"
   ]
  },
  {
   "cell_type": "markdown",
   "id": "03a4cbcd-8f2c-4d78-9412-77e941704a91",
   "metadata": {},
   "source": [
    "###### Standard Deviation"
   ]
  },
  {
   "cell_type": "code",
   "execution_count": null,
   "id": "803e326b-d585-47b1-ac5c-c6e545444818",
   "metadata": {},
   "outputs": [],
   "source": [
    "std_deviation_numberOp = pd.DataFrame({'std_nOp':[std_nOp]})\n",
    "filename = generate_file_name_hdf5(params)\n",
    "filename1 = generating_complete_path_hdf5(filename)\n",
    "key = generate_unique_key(params, std_deviation_numberOp = True)\n",
    "\n",
    "## Use the code below to append data to an existing file/folder directory\n",
    "append_data_to_hdf5(params, std_deviation_numberOp, filename1, key = key)\n",
    "\n",
    "####### Use this only for the first time when taking data for a theta #######\n",
    "## Use this code to write data to a new file irrespective of the presence of subholder based on 'L'.\n",
    "# create_folders_and_store_data(params, std_deviation_numberOp, filename, key = key)"
   ]
  },
  {
   "cell_type": "code",
   "execution_count": null,
   "id": "faa58bc8-d10b-4dfd-b511-036129f66799",
   "metadata": {},
   "outputs": [],
   "source": [
    "key = generate_unique_key(params, std_deviation_numberOp = True)\n",
    "std_nop = load_matrix_from_hdf5(filename1, key = key)\n",
    "print(std_nop[0][0])"
   ]
  },
  {
   "cell_type": "code",
   "execution_count": null,
   "id": "00ea986f-ca13-4365-a0c5-8d3789fb9d10",
   "metadata": {},
   "outputs": [],
   "source": [
    "with pd.HDFStore(filename1, 'r') as hdf:\n",
    "    # List all keys in the file\n",
    "    keys = hdf.keys()\n",
    "    print(\"Keys in HDF5 file:\")\n",
    "    for key in keys:\n",
    "        print(key)"
   ]
  },
  {
   "cell_type": "markdown",
   "id": "6c858519-4da0-4eb6-abaa-f9745316c969",
   "metadata": {},
   "source": [
    "##### Correlation Rate"
   ]
  },
  {
   "cell_type": "code",
   "execution_count": null,
   "id": "8228e4ea-9bbc-428b-93df-c7f5bbdfa564",
   "metadata": {},
   "outputs": [],
   "source": [
    "middle_index = (params['L'] - 1) // 2\n",
    "correlation_rate = hop_exp_val[middle_index, :]"
   ]
  },
  {
   "cell_type": "code",
   "execution_count": null,
   "id": "79c7bcf7-3ee0-4b63-b5cf-3a3a8f27e4cf",
   "metadata": {},
   "outputs": [],
   "source": [
    "correl_rate = pd.DataFrame(correlation_rate)\n",
    "filename = generate_file_name_hdf5(params, Correlation = True)\n",
    "create_folders_and_store_data(params, filename, correlation_rate, key = 'correl_rate')"
   ]
  },
  {
   "cell_type": "markdown",
   "id": "1057d1e1-c1e4-41b0-a285-a7a1761484f4",
   "metadata": {
    "jp-MarkdownHeadingCollapsed": true
   },
   "source": [
    "#### $U = 0.2$"
   ]
  },
  {
   "cell_type": "code",
   "execution_count": 288,
   "id": "f5b1efe7-fd37-4533-916c-04882b808a66",
   "metadata": {},
   "outputs": [
    {
     "name": "stdout",
     "output_type": "stream",
     "text": [
      "Execution time: 800.36 seconds\n"
     ]
    }
   ],
   "source": [
    "start_time = time.time()\n",
    "#########################################\n",
    "\n",
    "params['u'] = 0.2\n",
    "driver.initialize_system(n_sites=params['L'], vacuum=Q(0), target=Q(params['N_BOSON']), hamil_init=False)\n",
    "driver.ghamil = driver.get_custom_hamiltonian(site_basis, site_ops)\n",
    "b = driver.expr_builder()\n",
    "\n",
    "# b.add_term(\"ADCB\", np.array([[i, i+1, i+1, i] for i in range(params['L']-1)]).flatten(), -params['t'])\n",
    "b.add_term(\"AD\", np.array([[i, i+1] for i in range(params['L']-1)]).flatten(), -params['t'])\n",
    "b.add_term(\"CB\", np.array([[i+1, i] for i in range(params['L']-1)]).flatten(), -params['t'])\n",
    "b.add_term(\"N\", np.array(np.arange(params['L'])), -(params['mu'] + params['u'] / 2))\n",
    "b.add_term(\"NN\", np.repeat(np.arange(params['L']), 2), params['u'] / 2)\n",
    "\n",
    "mpo = driver.get_mpo(b.finalize(adjust_order=True, fermionic_ops=\"\"), algo_type=MPOAlgorithmTypes.FastBipartite)\n",
    "mps = driver.get_random_mps(tag=\"KET\", bond_dim=50, nroots=2)\n",
    "energy = driver.dmrg(mpo, mps, n_sweeps=10, bond_dims=[50] * 4 + [100] * 4,\n",
    "    noises=[1e-4] * 4 + [1e-5] * 4 + [0], thrds=[1e-10] * 8, dav_max_iter=30, iprint=0)\n",
    "\n",
    "#########################################\n",
    "end_time = time.time()\n",
    "execution_time = end_time - start_time\n",
    "print(f\"Execution time: {execution_time:.2f} seconds\")"
   ]
  },
  {
   "cell_type": "code",
   "execution_count": 289,
   "id": "05c44ad2-3ba5-4a02-9ff9-a18f8a397b02",
   "metadata": {},
   "outputs": [],
   "source": [
    "kets = [driver.split_mps(mps, ir, tag=\"KET-%d\" % ir) for ir in range(mps.nroots)]"
   ]
  },
  {
   "cell_type": "markdown",
   "id": "ffb26af9-68eb-4de1-94e8-3fc820d647fe",
   "metadata": {},
   "source": [
    "##### First Excitation Gap"
   ]
  },
  {
   "cell_type": "code",
   "execution_count": null,
   "id": "648bf30f-9564-454f-ab5d-77ce0693a3a8",
   "metadata": {},
   "outputs": [],
   "source": [
    "gndenergy = pd.DataFrame({'gndenergy':[np.power(np.abs(energy[1]-energy[0]),2)]})\n",
    "filename = generate_file_name_hdf5(params)\n",
    "## Complete path\n",
    "filename1 = generating_complete_path_hdf5(filename)\n",
    "key = generate_unique_key(params, gndstate_energy = True)\n",
    "## Use the code below to append data to an existing file/folder directory\n",
    "append_data_to_hdf5(params, gndenergy, filename1, key = key)"
   ]
  },
  {
   "cell_type": "code",
   "execution_count": null,
   "id": "1c217bd6-2370-4752-bd8c-b3d144e150f9",
   "metadata": {},
   "outputs": [],
   "source": [
    "## Testing\n",
    "gndenergy = load_matrix_from_hdf5(filename1, key = key)\n",
    "print(gndenergy[0][0])"
   ]
  },
  {
   "cell_type": "markdown",
   "id": "61643a4f-1797-479f-9555-3b2a62693a69",
   "metadata": {},
   "source": [
    "##### Entropy"
   ]
  },
  {
   "cell_type": "code",
   "execution_count": null,
   "id": "8ca8acb2-41c1-4f89-9f27-1885fff2fd60",
   "metadata": {},
   "outputs": [],
   "source": [
    "entropy1 = driver.get_bipartite_entanglement(kets[0])"
   ]
  },
  {
   "cell_type": "markdown",
   "id": "1f96726e-de21-46f1-8c54-a124b86d77ad",
   "metadata": {},
   "source": [
    "###### HDF5 Files"
   ]
  },
  {
   "cell_type": "code",
   "execution_count": null,
   "id": "92392863-c06c-4418-9295-bba0161e52db",
   "metadata": {},
   "outputs": [],
   "source": [
    "entropy = pd.DataFrame(entropy1)\n",
    "filename = generate_file_name_hdf5(params, entropy = True)\n",
    "## Complete path of the location of the file\n",
    "filename1 = generating_complete_path_hdf5(filename, entropy = True)\n",
    "create_folders_and_store_data(params, entropy, filename, key = 'entropy', entropy = True)"
   ]
  },
  {
   "cell_type": "markdown",
   "id": "2fee9c56-76e4-48c1-a565-de96860f970d",
   "metadata": {},
   "source": [
    "##### Correlation Matrix"
   ]
  },
  {
   "cell_type": "code",
   "execution_count": null,
   "id": "a4283233-7510-437c-8e7a-5b308267012f",
   "metadata": {},
   "outputs": [],
   "source": [
    "hop_exp_val = np.zeros((params['L'], params['L']), dtype=complex)\n",
    "for i in range(params['L']):\n",
    "    for j in range(i, params['L']):\n",
    "        b = driver.expr_builder()\n",
    "        b.add_term(\"CD\", np.array([i, j]), 1)  # Hopping operator between i and j            \n",
    "        hop_mpo = driver.get_mpo(b.finalize(adjust_order=True, fermionic_ops=\"\"), algo_type=MPOAlgorithmTypes.FastBipartite)\n",
    "        hop_exp_val[i, j] = driver.expectation(kets[0], hop_mpo, kets[0])\n",
    "        hop_exp_val[j, i] = np.conjugate(hop_exp_val[i, j])"
   ]
  },
  {
   "cell_type": "code",
   "execution_count": null,
   "id": "7116431c-865c-459c-ae70-fef66500943a",
   "metadata": {},
   "outputs": [],
   "source": [
    "correl_matrix = pd.DataFrame(hop_exp_val)\n",
    "filename = generate_file_name_hdf5(params, Correlation = True)\n",
    "## Complete path of the location of the file\n",
    "filename1 = generating_complete_path_hdf5(filename, Correlation = True)\n",
    "## Use the code below to append data to an existing file/folder directory\n",
    "# append_data_to_hdf5(params, correl_matrix, filename1, key = 'correl_matrix', Correlation = True)\n",
    "\n",
    "## Use this code to write data to a new file irrespective of the presence of subholder based on 'L'.\n",
    "create_folders_and_store_data(params, correl_matrix, filename1, key = 'correl_matrix', Correlation = True)"
   ]
  },
  {
   "cell_type": "markdown",
   "id": "008b0984-2885-4174-883e-4c4d0c659a41",
   "metadata": {},
   "source": [
    "##### NumberOperator and Its Standard Deviation"
   ]
  },
  {
   "cell_type": "code",
   "execution_count": null,
   "id": "bec21625-847a-475f-adb7-41b635105cac",
   "metadata": {},
   "outputs": [],
   "source": [
    "std_val, std_nOp = 0, 0\n",
    "_exp_nop = []\n",
    "for i in range(params['L']):\n",
    "    b = driver.expr_builder()\n",
    "    b.add_term(\"N\", np.array([i]), 1)\n",
    "## Calculate <N>   \n",
    "    nOp_mpo = driver.get_mpo(b.finalize(adjust_order=True, fermionic_ops=\"\"), algo_type=MPOAlgorithmTypes.FastBipartite)\n",
    "    impo = driver.get_identity_mpo()\n",
    "\n",
    "    nOp_exp = driver.expectation(kets[0], nOp_mpo, kets[0]) / driver.expectation(kets[0], impo, kets[0])\n",
    "    _exp_nop.append(nOp_exp)\n",
    "## Calculate <N^2>\n",
    "    b = driver.expr_builder()\n",
    "    b.add_term(\"NN\", np.repeat([i], 2), 1)\n",
    "    \n",
    "    NN_mpo = driver.get_mpo(b.finalize(adjust_order=True, fermionic_ops=\"\"), algo_type=MPOAlgorithmTypes.FastBipartite)\n",
    "    NN_exp = driver.expectation(kets[0], NN_mpo, kets[0]) / driver.expectation(kets[0], impo, kets[0]) \n",
    "## Calculate Standard Deviation\n",
    "    std_val+=np.sqrt(NN_exp - (nOp_exp*nOp_exp))        \n",
    "std_nOp = (std_val/params['L'])"
   ]
  },
  {
   "cell_type": "markdown",
   "id": "164ba39a-21ef-4e0d-88c2-3288e59906f4",
   "metadata": {},
   "source": [
    "###### Expectation value of Number Operator on each site"
   ]
  },
  {
   "cell_type": "code",
   "execution_count": null,
   "id": "c9e4a722-bb3a-457e-9179-361bedfde7f4",
   "metadata": {},
   "outputs": [],
   "source": [
    "density_nop = pd.DataFrame(_exp_nop)\n",
    "filename = generate_file_name_hdf5(params, expnop = True)\n",
    "## Complete path of the location of the file\n",
    "filename1 = generating_complete_path_hdf5(filename, expnop = True)\n",
    "key = generate_unique_key(params, exp_nOp = True)\n",
    "create_folders_and_store_data(params, density_nop, filename, key = key, expnop = True)"
   ]
  },
  {
   "cell_type": "code",
   "execution_count": null,
   "id": "0ae0f56f-fae6-45d4-b395-c70a7b3ed9c6",
   "metadata": {},
   "outputs": [],
   "source": [
    "# key = generate_unique_key(params, exp_nOp = True)\n",
    "# density_nop = load_matrix_from_hdf5(filename1, key = key)\n",
    "# print(density_nop)"
   ]
  },
  {
   "cell_type": "markdown",
   "id": "782fe7ee-fba5-4ccb-9c00-cd50776c3b96",
   "metadata": {},
   "source": [
    "###### Standard Deviation"
   ]
  },
  {
   "cell_type": "code",
   "execution_count": null,
   "id": "b6ff2374-bde8-42d8-a80e-18769f787cc0",
   "metadata": {},
   "outputs": [],
   "source": [
    "std_deviation_numberOp = pd.DataFrame({'std_nOp':[std_nOp]})\n",
    "filename = generate_file_name_hdf5(params)\n",
    "filename1 = generating_complete_path_hdf5(filename)\n",
    "key = generate_unique_key(params, std_deviation_numberOp = True)\n",
    "\n",
    "## Use the code below to append data to an existing file/folder directory\n",
    "append_data_to_hdf5(params, std_deviation_numberOp, filename1, key = key)\n",
    "\n",
    "####### Use this only for the first time when taking data for a theta #######\n",
    "## Use this code to write data to a new file irrespective of the presence of subholder based on 'L'.\n",
    "# create_folders_and_store_data(params, std_deviation_numberOp, filename, key = key)"
   ]
  },
  {
   "cell_type": "code",
   "execution_count": null,
   "id": "05c377a6-871a-4bce-a208-0ab4e0c511ec",
   "metadata": {},
   "outputs": [],
   "source": [
    "key = generate_unique_key(params, std_deviation_numberOp = True)\n",
    "std_nop = load_matrix_from_hdf5(filename1, key = key)\n",
    "print(std_nop[0][0])"
   ]
  },
  {
   "cell_type": "code",
   "execution_count": null,
   "id": "10eda093-cdc0-4c58-ac83-665c7105ff84",
   "metadata": {},
   "outputs": [],
   "source": [
    "with pd.HDFStore(filename1, 'r') as hdf:\n",
    "    # List all keys in the file\n",
    "    keys = hdf.keys()\n",
    "    print(\"Keys in HDF5 file:\")\n",
    "    for key in keys:\n",
    "        print(key)"
   ]
  },
  {
   "cell_type": "markdown",
   "id": "c6400934-96b5-45c4-9070-d83203a900d5",
   "metadata": {
    "jp-MarkdownHeadingCollapsed": true
   },
   "source": [
    "#### $U = 0.3$"
   ]
  },
  {
   "cell_type": "code",
   "execution_count": 81,
   "id": "f8f2ba00-150a-41f8-a3df-2c2a0baa0a39",
   "metadata": {},
   "outputs": [
    {
     "name": "stdout",
     "output_type": "stream",
     "text": [
      "Execution time: 220.28 seconds\n"
     ]
    }
   ],
   "source": [
    "start_time = time.time()\n",
    "#########################################\n",
    "\n",
    "params['u'] = 0.3\n",
    "driver.initialize_system(n_sites=params['L'], vacuum=Q(0), target=Q(params['N_BOSON']), hamil_init=False)\n",
    "driver.ghamil = driver.get_custom_hamiltonian(site_basis, site_ops)\n",
    "b = driver.expr_builder()\n",
    "\n",
    "# b.add_term(\"ADCB\", np.array([[i, i+1, i+1, i] for i in range(params['L']-1)]).flatten(), -params['t'])\n",
    "b.add_term(\"AD\", np.array([[i, i+1] for i in range(params['L']-1)]).flatten(), -params['t'])\n",
    "b.add_term(\"CB\", np.array([[i+1, i] for i in range(params['L']-1)]).flatten(), -params['t'])\n",
    "b.add_term(\"N\", np.array(np.arange(params['L'])), -(params['mu'] + params['u'] / 2))\n",
    "b.add_term(\"NN\", np.repeat(np.arange(params['L']), 2), params['u'] / 2)\n",
    "\n",
    "mpo = driver.get_mpo(b.finalize(adjust_order=True, fermionic_ops=\"\"), algo_type=MPOAlgorithmTypes.FastBipartite)\n",
    "mps = driver.get_random_mps(tag=\"KET\", bond_dim=50, nroots=2)\n",
    "energy = driver.dmrg(mpo, mps, n_sweeps=10, bond_dims=[50] * 4 + [100] * 4,\n",
    "    noises=[1e-4] * 4 + [1e-5] * 4 + [0], thrds=[1e-10] * 8, dav_max_iter=30, iprint=0)\n",
    "\n",
    "#########################################\n",
    "end_time = time.time()\n",
    "execution_time = end_time - start_time\n",
    "print(f\"Execution time: {execution_time:.2f} seconds\")"
   ]
  },
  {
   "cell_type": "code",
   "execution_count": 82,
   "id": "e973de4d-1c47-43c2-9e13-a582a61d8499",
   "metadata": {},
   "outputs": [],
   "source": [
    "kets = [driver.split_mps(mps, ir, tag=\"KET-%d\" % ir) for ir in range(mps.nroots)]"
   ]
  },
  {
   "cell_type": "code",
   "execution_count": null,
   "id": "43858b05-3cb9-4df5-9628-d3660127f38a",
   "metadata": {},
   "outputs": [],
   "source": []
  },
  {
   "cell_type": "markdown",
   "id": "8f43a39f-08a7-43ff-8486-5d81faf97328",
   "metadata": {},
   "source": [
    "##### First Excitation Gap"
   ]
  },
  {
   "cell_type": "code",
   "execution_count": null,
   "id": "a2f6fd2a-13e0-4d79-8e98-033617157c49",
   "metadata": {},
   "outputs": [],
   "source": [
    "gndenergy = pd.DataFrame({'gndenergy':[np.power(np.abs(energy[1]-energy[0]),2)]})\n",
    "filename = generate_file_name_hdf5(params)\n",
    "## Complete path\n",
    "filename1 = generating_complete_path_hdf5(filename)\n",
    "key = generate_unique_key(params, gndstate_energy = True)\n",
    "## Use the code below to append data to an existing file/folder directory\n",
    "append_data_to_hdf5(params, gndenergy, filename1, key = key)"
   ]
  },
  {
   "cell_type": "code",
   "execution_count": null,
   "id": "6b2df8d8-b817-4c0a-bacf-01d662ccbffb",
   "metadata": {},
   "outputs": [],
   "source": [
    "## Testing\n",
    "gndenergy = load_matrix_from_hdf5(filename1, key = key)\n",
    "print(gndenergy[0][0])"
   ]
  },
  {
   "cell_type": "markdown",
   "id": "9014d122-7326-422c-a141-7ac39b77269d",
   "metadata": {},
   "source": [
    "##### Entropy"
   ]
  },
  {
   "cell_type": "code",
   "execution_count": null,
   "id": "046ab1e2-dc70-4355-a277-007ad36ab8ef",
   "metadata": {},
   "outputs": [],
   "source": [
    "entropy1 = driver.get_bipartite_entanglement(kets[0])"
   ]
  },
  {
   "cell_type": "markdown",
   "id": "37bdd65f-43ae-4779-8ffd-8065952e4a2d",
   "metadata": {},
   "source": [
    "###### HDF5 Files"
   ]
  },
  {
   "cell_type": "code",
   "execution_count": null,
   "id": "37326b9b-6571-44c1-ae24-ffd404b0cb53",
   "metadata": {},
   "outputs": [],
   "source": [
    "entropy = pd.DataFrame(entropy1)\n",
    "filename = generate_file_name_hdf5(params, entropy = True)\n",
    "## Complete path of the location of the file\n",
    "filename1 = generating_complete_path_hdf5(filename, entropy = True)\n",
    "create_folders_and_store_data(params, entropy, filename, key = 'entropy', entropy = True)"
   ]
  },
  {
   "cell_type": "markdown",
   "id": "5a2caa8d-c45d-4233-815d-7383e69f83fe",
   "metadata": {},
   "source": [
    "##### Correlation Matrix"
   ]
  },
  {
   "cell_type": "code",
   "execution_count": null,
   "id": "e89025d6-eecc-4e44-afd8-0a8c259441b2",
   "metadata": {},
   "outputs": [],
   "source": [
    "hop_exp_val = np.zeros((params['L'], params['L']), dtype=complex)\n",
    "for i in range(params['L']):\n",
    "    for j in range(i, params['L']):\n",
    "        b = driver.expr_builder()\n",
    "        b.add_term(\"CD\", np.array([i, j]), 1)  # Hopping operator between i and j            \n",
    "        hop_mpo = driver.get_mpo(b.finalize(adjust_order=True, fermionic_ops=\"\"), algo_type=MPOAlgorithmTypes.FastBipartite)\n",
    "        hop_exp_val[i, j] = driver.expectation(kets[0], hop_mpo, kets[0])\n",
    "        hop_exp_val[j, i] = np.conjugate(hop_exp_val[i, j])"
   ]
  },
  {
   "cell_type": "code",
   "execution_count": null,
   "id": "646b13a6-248a-4b80-b53f-ea379a450eaf",
   "metadata": {},
   "outputs": [],
   "source": [
    "correl_matrix = pd.DataFrame(hop_exp_val)\n",
    "filename = generate_file_name_hdf5(params, Correlation = True)\n",
    "## Complete path of the location of the file\n",
    "filename1 = generating_complete_path_hdf5(filename, Correlation = True)\n",
    "## Use the code below to append data to an existing file/folder directory\n",
    "# append_data_to_hdf5(params, correl_matrix, filename1, key = 'correl_matrix', Correlation = True)\n",
    "\n",
    "## Use this code to write data to a new file irrespective of the presence of subholder based on 'L'.\n",
    "create_folders_and_store_data(params, correl_matrix, filename1, key = 'correl_matrix', Correlation = True)"
   ]
  },
  {
   "cell_type": "markdown",
   "id": "61fcb5f7-4553-459e-a5cd-4eb7b52f9b72",
   "metadata": {},
   "source": [
    "##### NumberOperator and Its Standard Deviation"
   ]
  },
  {
   "cell_type": "code",
   "execution_count": null,
   "id": "27e3e8cf-5a5f-415c-a5cb-28d55d92d54b",
   "metadata": {},
   "outputs": [],
   "source": [
    "std_val, std_nOp = 0, 0\n",
    "_exp_nop = []\n",
    "for i in range(params['L']):\n",
    "    b = driver.expr_builder()\n",
    "    b.add_term(\"N\", np.array([i]), 1)\n",
    "## Calculate <N>   \n",
    "    nOp_mpo = driver.get_mpo(b.finalize(adjust_order=True, fermionic_ops=\"\"), algo_type=MPOAlgorithmTypes.FastBipartite)\n",
    "    impo = driver.get_identity_mpo()\n",
    "\n",
    "    nOp_exp = driver.expectation(kets[0], nOp_mpo, kets[0]) / driver.expectation(kets[0], impo, kets[0])\n",
    "    _exp_nop.append(nOp_exp)\n",
    "## Calculate <N^2>\n",
    "    b = driver.expr_builder()\n",
    "    b.add_term(\"NN\", np.repeat([i], 2), 1)\n",
    "    \n",
    "    NN_mpo = driver.get_mpo(b.finalize(adjust_order=True, fermionic_ops=\"\"), algo_type=MPOAlgorithmTypes.FastBipartite)\n",
    "    NN_exp = driver.expectation(kets[0], NN_mpo, kets[0]) / driver.expectation(kets[0], impo, kets[0]) \n",
    "## Calculate Standard Deviation\n",
    "    std_val+=np.sqrt(NN_exp - (nOp_exp*nOp_exp))        \n",
    "std_nOp = (std_val/params['L'])"
   ]
  },
  {
   "cell_type": "markdown",
   "id": "faf6c8d3-eefb-4958-a5ef-1aad65348e7b",
   "metadata": {},
   "source": [
    "###### Expectation value of Number Operator on each site"
   ]
  },
  {
   "cell_type": "code",
   "execution_count": null,
   "id": "6fcdac72-e1af-4536-b259-d40fe70bf20d",
   "metadata": {},
   "outputs": [],
   "source": [
    "density_nop = pd.DataFrame(_exp_nop)\n",
    "filename = generate_file_name_hdf5(params, expnop = True)\n",
    "## Complete path of the location of the file\n",
    "filename1 = generating_complete_path_hdf5(filename, expnop = True)\n",
    "key = generate_unique_key(params, exp_nOp = True)\n",
    "create_folders_and_store_data(params, density_nop, filename, key = key, expnop = True)"
   ]
  },
  {
   "cell_type": "code",
   "execution_count": null,
   "id": "ae1b17e9-385e-44dd-8682-18432e91bc88",
   "metadata": {},
   "outputs": [],
   "source": [
    "# key = generate_unique_key(params, exp_nOp = True)\n",
    "# density_nop = load_matrix_from_hdf5(filename1, key = key)\n",
    "# print(density_nop)"
   ]
  },
  {
   "cell_type": "markdown",
   "id": "17fff5bc-ea56-4693-9b11-e1d987c00502",
   "metadata": {},
   "source": [
    "###### Standard Deviation"
   ]
  },
  {
   "cell_type": "code",
   "execution_count": null,
   "id": "8eadf875-62ca-4bf7-9120-3e260709d9f7",
   "metadata": {},
   "outputs": [],
   "source": [
    "std_deviation_numberOp = pd.DataFrame({'std_nOp':[std_nOp]})\n",
    "filename = generate_file_name_hdf5(params)\n",
    "filename1 = generating_complete_path_hdf5(filename)\n",
    "key = generate_unique_key(params, std_deviation_numberOp = True)\n",
    "\n",
    "## Use the code below to append data to an existing file/folder directory\n",
    "append_data_to_hdf5(params, std_deviation_numberOp, filename1, key = key)\n",
    "\n",
    "####### Use this only for the first time when taking data for a theta #######\n",
    "## Use this code to write data to a new file irrespective of the presence of subholder based on 'L'.\n",
    "# create_folders_and_store_data(params, std_deviation_numberOp, filename, key = key)"
   ]
  },
  {
   "cell_type": "code",
   "execution_count": null,
   "id": "e5714a5c-0f94-44a7-a640-93369d9ede93",
   "metadata": {},
   "outputs": [],
   "source": [
    "key = generate_unique_key(params, std_deviation_numberOp = True)\n",
    "std_nop = load_matrix_from_hdf5(filename1, key = key)\n",
    "print(std_nop[0][0])"
   ]
  },
  {
   "cell_type": "code",
   "execution_count": null,
   "id": "71bb0a6a-8fb8-4451-9f51-589ffbe101a3",
   "metadata": {},
   "outputs": [],
   "source": [
    "with pd.HDFStore(filename1, 'r') as hdf:\n",
    "    # List all keys in the file\n",
    "    keys = hdf.keys()\n",
    "    print(\"Keys in HDF5 file:\")\n",
    "    for key in keys:\n",
    "        print(key)"
   ]
  },
  {
   "cell_type": "markdown",
   "id": "1ced1257-c4fd-4e99-a428-e3ce25780a3a",
   "metadata": {
    "jp-MarkdownHeadingCollapsed": true
   },
   "source": [
    "#### $U = 0.4$"
   ]
  },
  {
   "cell_type": "code",
   "execution_count": 90,
   "id": "06aef3e4-7e9e-4ff3-836a-b38278d5006a",
   "metadata": {},
   "outputs": [
    {
     "name": "stdout",
     "output_type": "stream",
     "text": [
      "Execution time: 194.88 seconds\n"
     ]
    }
   ],
   "source": [
    "start_time = time.time()\n",
    "#########################################\n",
    "\n",
    "params['u'] = 0.4\n",
    "driver.initialize_system(n_sites=params['L'], vacuum=Q(0), target=Q(params['N_BOSON']), hamil_init=False)\n",
    "driver.ghamil = driver.get_custom_hamiltonian(site_basis, site_ops)\n",
    "b = driver.expr_builder()\n",
    "\n",
    "# b.add_term(\"ADCB\", np.array([[i, i+1, i+1, i] for i in range(params['L']-1)]).flatten(), -params['t'])\n",
    "b.add_term(\"AD\", np.array([[i, i+1] for i in range(params['L']-1)]).flatten(), -params['t'])\n",
    "b.add_term(\"CB\", np.array([[i+1, i] for i in range(params['L']-1)]).flatten(), -params['t'])\n",
    "b.add_term(\"N\", np.array(np.arange(params['L'])), -(params['mu'] + params['u'] / 2))\n",
    "b.add_term(\"NN\", np.repeat(np.arange(params['L']), 2), params['u'] / 2)\n",
    "\n",
    "mpo = driver.get_mpo(b.finalize(adjust_order=True, fermionic_ops=\"\"), algo_type=MPOAlgorithmTypes.FastBipartite)\n",
    "mps = driver.get_random_mps(tag=\"KET\", bond_dim=50, nroots=2)\n",
    "energy = driver.dmrg(mpo, mps, n_sweeps=10, bond_dims=[50] * 4 + [100] * 4,\n",
    "    noises=[1e-4] * 4 + [1e-5] * 4 + [0], thrds=[1e-10] * 8, dav_max_iter=30, iprint=0)\n",
    "\n",
    "#########################################\n",
    "end_time = time.time()\n",
    "execution_time = end_time - start_time\n",
    "print(f\"Execution time: {execution_time:.2f} seconds\")"
   ]
  },
  {
   "cell_type": "code",
   "execution_count": 91,
   "id": "f6935d52-2b3d-4d9b-ae97-07cfef1ae12e",
   "metadata": {},
   "outputs": [],
   "source": [
    "kets = [driver.split_mps(mps, ir, tag=\"KET-%d\" % ir) for ir in range(mps.nroots)]"
   ]
  },
  {
   "cell_type": "code",
   "execution_count": null,
   "id": "c8569dbd-ced8-49f9-837e-fcf57cb866c7",
   "metadata": {},
   "outputs": [],
   "source": []
  },
  {
   "cell_type": "markdown",
   "id": "c9eab291-d755-47d7-8d87-7aea79f8f783",
   "metadata": {},
   "source": [
    "##### First Excitation Gap"
   ]
  },
  {
   "cell_type": "code",
   "execution_count": null,
   "id": "b5c03148-fd56-4fab-b2fe-589f5f2695db",
   "metadata": {},
   "outputs": [],
   "source": [
    "gndenergy = pd.DataFrame({'gndenergy':[np.power(np.abs(energy[1]-energy[0]),2)]})\n",
    "filename = generate_file_name_hdf5(params)\n",
    "## Complete path\n",
    "filename1 = generating_complete_path_hdf5(filename)\n",
    "key = generate_unique_key(params, gndstate_energy = True)\n",
    "## Use the code below to append data to an existing file/folder directory\n",
    "append_data_to_hdf5(params, gndenergy, filename1, key = key)"
   ]
  },
  {
   "cell_type": "code",
   "execution_count": null,
   "id": "4637a7ce-3f05-4baa-a1cd-4a73ac386f20",
   "metadata": {},
   "outputs": [],
   "source": [
    "## Testing\n",
    "gndenergy = load_matrix_from_hdf5(filename1, key = key)\n",
    "print(gndenergy[0][0])"
   ]
  },
  {
   "cell_type": "markdown",
   "id": "21c7c78e-d5fc-4c9f-8c70-05725d7483b5",
   "metadata": {},
   "source": [
    "##### Entropy"
   ]
  },
  {
   "cell_type": "code",
   "execution_count": null,
   "id": "c2c603a5-c937-4eb4-b45d-db483d41e7e7",
   "metadata": {},
   "outputs": [],
   "source": [
    "entropy1 = driver.get_bipartite_entanglement(kets[0])"
   ]
  },
  {
   "cell_type": "markdown",
   "id": "32c22e3b-b50e-47c6-b4a2-e2ec44757579",
   "metadata": {},
   "source": [
    "###### HDF5 Files"
   ]
  },
  {
   "cell_type": "code",
   "execution_count": null,
   "id": "514cc702-1c51-44af-9e33-0fb05a1d15e4",
   "metadata": {},
   "outputs": [],
   "source": [
    "entropy = pd.DataFrame(entropy1)\n",
    "filename = generate_file_name_hdf5(params, entropy = True)\n",
    "## Complete path of the location of the file\n",
    "filename1 = generating_complete_path_hdf5(filename, entropy = True)\n",
    "create_folders_and_store_data(params, entropy, filename, key = 'entropy', entropy = True)"
   ]
  },
  {
   "cell_type": "markdown",
   "id": "dab991fb-3df1-4fb1-ac62-051ae09a09e4",
   "metadata": {},
   "source": [
    "##### Correlation Matrix"
   ]
  },
  {
   "cell_type": "code",
   "execution_count": null,
   "id": "0df6dfcd-687c-4753-8f8c-5cc4f0eaf860",
   "metadata": {},
   "outputs": [],
   "source": [
    "hop_exp_val = np.zeros((params['L'], params['L']), dtype=complex)\n",
    "for i in range(params['L']):\n",
    "    for j in range(i, params['L']):\n",
    "        b = driver.expr_builder()\n",
    "        b.add_term(\"CD\", np.array([i, j]), 1)  # Hopping operator between i and j            \n",
    "        hop_mpo = driver.get_mpo(b.finalize(adjust_order=True, fermionic_ops=\"\"), algo_type=MPOAlgorithmTypes.FastBipartite)\n",
    "        hop_exp_val[i, j] = driver.expectation(kets[0], hop_mpo, kets[0])\n",
    "        hop_exp_val[j, i] = np.conjugate(hop_exp_val[i, j])"
   ]
  },
  {
   "cell_type": "code",
   "execution_count": null,
   "id": "99c609dd-79ae-4ac2-9810-827baf6f0a04",
   "metadata": {},
   "outputs": [],
   "source": [
    "correl_matrix = pd.DataFrame(hop_exp_val)\n",
    "filename = generate_file_name_hdf5(params, Correlation = True)\n",
    "## Complete path of the location of the file\n",
    "filename1 = generating_complete_path_hdf5(filename, Correlation = True)\n",
    "## Use the code below to append data to an existing file/folder directory\n",
    "# append_data_to_hdf5(params, correl_matrix, filename1, key = 'correl_matrix', Correlation = True)\n",
    "\n",
    "## Use this code to write data to a new file irrespective of the presence of subholder based on 'L'.\n",
    "create_folders_and_store_data(params, correl_matrix, filename1, key = 'correl_matrix', Correlation = True)"
   ]
  },
  {
   "cell_type": "markdown",
   "id": "29aa0f2d-547e-46dd-8261-b5b110c80f8a",
   "metadata": {},
   "source": [
    "##### NumberOperator and Its Standard Deviation"
   ]
  },
  {
   "cell_type": "code",
   "execution_count": null,
   "id": "a91e3ba1-717e-4821-a98d-d6bbbb8bff0c",
   "metadata": {},
   "outputs": [],
   "source": [
    "std_val, std_nOp = 0, 0\n",
    "_exp_nop = []\n",
    "for i in range(params['L']):\n",
    "    b = driver.expr_builder()\n",
    "    b.add_term(\"N\", np.array([i]), 1)\n",
    "## Calculate <N>   \n",
    "    nOp_mpo = driver.get_mpo(b.finalize(adjust_order=True, fermionic_ops=\"\"), algo_type=MPOAlgorithmTypes.FastBipartite)\n",
    "    impo = driver.get_identity_mpo()\n",
    "\n",
    "    nOp_exp = driver.expectation(kets[0], nOp_mpo, kets[0]) / driver.expectation(kets[0], impo, kets[0])\n",
    "    _exp_nop.append(nOp_exp)\n",
    "## Calculate <N^2>\n",
    "    b = driver.expr_builder()\n",
    "    b.add_term(\"NN\", np.repeat([i], 2), 1)\n",
    "    \n",
    "    NN_mpo = driver.get_mpo(b.finalize(adjust_order=True, fermionic_ops=\"\"), algo_type=MPOAlgorithmTypes.FastBipartite)\n",
    "    NN_exp = driver.expectation(kets[0], NN_mpo, kets[0]) / driver.expectation(kets[0], impo, kets[0]) \n",
    "## Calculate Standard Deviation\n",
    "    std_val+=np.sqrt(NN_exp - (nOp_exp*nOp_exp))        \n",
    "std_nOp = (std_val/params['L'])"
   ]
  },
  {
   "cell_type": "markdown",
   "id": "d063ce2c-7d6e-47d7-917e-cc2ce1a73198",
   "metadata": {},
   "source": [
    "###### Expectation value of Number Operator on each site"
   ]
  },
  {
   "cell_type": "code",
   "execution_count": null,
   "id": "9c3d2fb2-a0a6-4f9c-a476-0b76a360d818",
   "metadata": {},
   "outputs": [],
   "source": [
    "density_nop = pd.DataFrame(_exp_nop)\n",
    "filename = generate_file_name_hdf5(params, expnop = True)\n",
    "## Complete path of the location of the file\n",
    "filename1 = generating_complete_path_hdf5(filename, expnop = True)\n",
    "key = generate_unique_key(params, exp_nOp = True)\n",
    "create_folders_and_store_data(params, density_nop, filename, key = key, expnop = True)"
   ]
  },
  {
   "cell_type": "code",
   "execution_count": null,
   "id": "780b0a6f-5729-445e-bd4f-5fbf4189bbdf",
   "metadata": {},
   "outputs": [],
   "source": [
    "# key = generate_unique_key(params, exp_nOp = True)\n",
    "# density_nop = load_matrix_from_hdf5(filename1, key = key)\n",
    "# print(density_nop)"
   ]
  },
  {
   "cell_type": "markdown",
   "id": "d599844a-d743-463b-bb90-216ceb0326a6",
   "metadata": {},
   "source": [
    "###### Standard Deviation"
   ]
  },
  {
   "cell_type": "code",
   "execution_count": null,
   "id": "d241757b-2e13-4e15-8dfd-37df6d69965f",
   "metadata": {},
   "outputs": [],
   "source": [
    "std_deviation_numberOp = pd.DataFrame({'std_nOp':[std_nOp]})\n",
    "filename = generate_file_name_hdf5(params)\n",
    "filename1 = generating_complete_path_hdf5(filename)\n",
    "key = generate_unique_key(params, std_deviation_numberOp = True)\n",
    "\n",
    "## Use the code below to append data to an existing file/folder directory\n",
    "append_data_to_hdf5(params, std_deviation_numberOp, filename1, key = key)\n",
    "\n",
    "####### Use this only for the first time when taking data for a theta #######\n",
    "## Use this code to write data to a new file irrespective of the presence of subholder based on 'L'.\n",
    "# create_folders_and_store_data(params, std_deviation_numberOp, filename, key = key)"
   ]
  },
  {
   "cell_type": "code",
   "execution_count": null,
   "id": "ab489272-154a-4664-8c84-0adbb03d9bda",
   "metadata": {},
   "outputs": [],
   "source": [
    "key = generate_unique_key(params, std_deviation_numberOp = True)\n",
    "std_nop = load_matrix_from_hdf5(filename1, key = key)\n",
    "print(std_nop[0][0])"
   ]
  },
  {
   "cell_type": "code",
   "execution_count": null,
   "id": "40cfea75-eea5-4d24-bae6-7e7cb84c85af",
   "metadata": {},
   "outputs": [],
   "source": [
    "with pd.HDFStore(filename1, 'r') as hdf:\n",
    "    # List all keys in the file\n",
    "    keys = hdf.keys()\n",
    "    print(\"Keys in HDF5 file:\")\n",
    "    for key in keys:\n",
    "        print(key)"
   ]
  },
  {
   "cell_type": "markdown",
   "id": "ae700bef-3d65-401c-b73a-f9924694db79",
   "metadata": {
    "jp-MarkdownHeadingCollapsed": true
   },
   "source": [
    "#### $U = 0.5$"
   ]
  },
  {
   "cell_type": "code",
   "execution_count": 100,
   "id": "82296a7d-d5f8-4d3b-af29-e894e0ac4e6b",
   "metadata": {},
   "outputs": [
    {
     "name": "stdout",
     "output_type": "stream",
     "text": [
      "Execution time: 137.12 seconds\n"
     ]
    }
   ],
   "source": [
    "start_time = time.time()\n",
    "#########################################\n",
    "\n",
    "params['u'] = 0.5\n",
    "driver.initialize_system(n_sites=params['L'], vacuum=Q(0), target=Q(params['N_BOSON']), hamil_init=False)\n",
    "driver.ghamil = driver.get_custom_hamiltonian(site_basis, site_ops)\n",
    "b = driver.expr_builder()\n",
    "\n",
    "# b.add_term(\"ADCB\", np.array([[i, i+1, i+1, i] for i in range(params['L']-1)]).flatten(), -params['t'])\n",
    "b.add_term(\"AD\", np.array([[i, i+1] for i in range(params['L']-1)]).flatten(), -params['t'])\n",
    "b.add_term(\"CB\", np.array([[i+1, i] for i in range(params['L']-1)]).flatten(), -params['t'])\n",
    "b.add_term(\"N\", np.array(np.arange(params['L'])), -(params['mu'] + params['u'] / 2))\n",
    "b.add_term(\"NN\", np.repeat(np.arange(params['L']), 2), params['u'] / 2)\n",
    "\n",
    "mpo = driver.get_mpo(b.finalize(adjust_order=True, fermionic_ops=\"\"), algo_type=MPOAlgorithmTypes.FastBipartite)\n",
    "mps = driver.get_random_mps(tag=\"KET\", bond_dim=50, nroots=2)\n",
    "energy = driver.dmrg(mpo, mps, n_sweeps=10, bond_dims=[50] * 4 + [100] * 4,\n",
    "    noises=[1e-4] * 4 + [1e-5] * 4 + [0], thrds=[1e-10] * 8, dav_max_iter=30, iprint=0)\n",
    "\n",
    "#########################################\n",
    "end_time = time.time()\n",
    "execution_time = end_time - start_time\n",
    "print(f\"Execution time: {execution_time:.2f} seconds\")"
   ]
  },
  {
   "cell_type": "code",
   "execution_count": 101,
   "id": "38ab9729-07b5-421c-ad9f-ba7eb4713223",
   "metadata": {},
   "outputs": [],
   "source": [
    "kets = [driver.split_mps(mps, ir, tag=\"KET-%d\" % ir) for ir in range(mps.nroots)]"
   ]
  },
  {
   "cell_type": "code",
   "execution_count": null,
   "id": "40253312-c2e5-4b73-acd0-f528fcd1f06f",
   "metadata": {},
   "outputs": [],
   "source": []
  },
  {
   "cell_type": "markdown",
   "id": "f6ee829b-f7c3-4173-b7ab-844c5dc14dad",
   "metadata": {},
   "source": [
    "##### First Excitation Gap"
   ]
  },
  {
   "cell_type": "code",
   "execution_count": null,
   "id": "a47f660b-f5ea-4134-8017-3d54a349c09c",
   "metadata": {},
   "outputs": [],
   "source": [
    "gndenergy = pd.DataFrame({'gndenergy':[np.power(np.abs(energy[1]-energy[0]),2)]})\n",
    "filename = generate_file_name_hdf5(params)\n",
    "## Complete path\n",
    "filename1 = generating_complete_path_hdf5(filename)\n",
    "key = generate_unique_key(params, gndstate_energy = True)\n",
    "## Use the code below to append data to an existing file/folder directory\n",
    "append_data_to_hdf5(params, gndenergy, filename1, key = key)"
   ]
  },
  {
   "cell_type": "code",
   "execution_count": null,
   "id": "77e03413-c733-4719-b867-0ee317656dcb",
   "metadata": {},
   "outputs": [],
   "source": [
    "## Testing\n",
    "gndenergy = load_matrix_from_hdf5(filename1, key = key)\n",
    "print(gndenergy[0][0])"
   ]
  },
  {
   "cell_type": "markdown",
   "id": "bb1a4112-086d-4be1-b6df-f0918b898886",
   "metadata": {},
   "source": [
    "##### Entropy"
   ]
  },
  {
   "cell_type": "code",
   "execution_count": null,
   "id": "91397de4-c17b-4aaa-a609-24937724913e",
   "metadata": {},
   "outputs": [],
   "source": [
    "entropy1 = driver.get_bipartite_entanglement(kets[0])"
   ]
  },
  {
   "cell_type": "markdown",
   "id": "39d927e8-566e-4cee-829c-5d142c40e157",
   "metadata": {},
   "source": [
    "###### HDF5 Files"
   ]
  },
  {
   "cell_type": "code",
   "execution_count": null,
   "id": "6e731f88-7acb-403c-b6c9-bedea18ceccb",
   "metadata": {},
   "outputs": [],
   "source": [
    "entropy = pd.DataFrame(entropy1)\n",
    "filename = generate_file_name_hdf5(params, entropy = True)\n",
    "## Complete path of the location of the file\n",
    "filename1 = generating_complete_path_hdf5(filename, entropy = True)\n",
    "create_folders_and_store_data(params, entropy, filename, key = 'entropy', entropy = True)"
   ]
  },
  {
   "cell_type": "markdown",
   "id": "37f40e24-5d1e-4970-a307-036deee047b0",
   "metadata": {},
   "source": [
    "##### Correlation Matrix"
   ]
  },
  {
   "cell_type": "code",
   "execution_count": null,
   "id": "f18be2e3-733d-41d9-b2c5-a322d2a8f9e6",
   "metadata": {},
   "outputs": [],
   "source": [
    "hop_exp_val = np.zeros((params['L'], params['L']), dtype=complex)\n",
    "for i in range(params['L']):\n",
    "    for j in range(i, params['L']):\n",
    "        b = driver.expr_builder()\n",
    "        b.add_term(\"CD\", np.array([i, j]), 1)  # Hopping operator between i and j            \n",
    "        hop_mpo = driver.get_mpo(b.finalize(adjust_order=True, fermionic_ops=\"\"), algo_type=MPOAlgorithmTypes.FastBipartite)\n",
    "        hop_exp_val[i, j] = driver.expectation(kets[0], hop_mpo, kets[0])\n",
    "        hop_exp_val[j, i] = np.conjugate(hop_exp_val[i, j])"
   ]
  },
  {
   "cell_type": "code",
   "execution_count": null,
   "id": "2ad3decb-2a80-459b-8b12-2dfa188d18f6",
   "metadata": {},
   "outputs": [],
   "source": [
    "correl_matrix = pd.DataFrame(hop_exp_val)\n",
    "filename = generate_file_name_hdf5(params, Correlation = True)\n",
    "## Complete path of the location of the file\n",
    "filename1 = generating_complete_path_hdf5(filename, Correlation = True)\n",
    "## Use the code below to append data to an existing file/folder directory\n",
    "# append_data_to_hdf5(params, correl_matrix, filename1, key = 'correl_matrix', Correlation = True)\n",
    "\n",
    "## Use this code to write data to a new file irrespective of the presence of subholder based on 'L'.\n",
    "create_folders_and_store_data(params, correl_matrix, filename1, key = 'correl_matrix', Correlation = True)"
   ]
  },
  {
   "cell_type": "markdown",
   "id": "73d430f5-9311-4ec1-9fe0-d17db010fc5e",
   "metadata": {},
   "source": [
    "##### NumberOperator and Its Standard Deviation"
   ]
  },
  {
   "cell_type": "code",
   "execution_count": null,
   "id": "5917612b-f887-4d47-a41c-89893ecadf85",
   "metadata": {},
   "outputs": [],
   "source": [
    "std_val, std_nOp = 0, 0\n",
    "_exp_nop = []\n",
    "for i in range(params['L']):\n",
    "    b = driver.expr_builder()\n",
    "    b.add_term(\"N\", np.array([i]), 1)\n",
    "## Calculate <N>   \n",
    "    nOp_mpo = driver.get_mpo(b.finalize(adjust_order=True, fermionic_ops=\"\"), algo_type=MPOAlgorithmTypes.FastBipartite)\n",
    "    impo = driver.get_identity_mpo()\n",
    "\n",
    "    nOp_exp = driver.expectation(kets[0], nOp_mpo, kets[0]) / driver.expectation(kets[0], impo, kets[0])\n",
    "    _exp_nop.append(nOp_exp)\n",
    "## Calculate <N^2>\n",
    "    b = driver.expr_builder()\n",
    "    b.add_term(\"NN\", np.repeat([i], 2), 1)\n",
    "    \n",
    "    NN_mpo = driver.get_mpo(b.finalize(adjust_order=True, fermionic_ops=\"\"), algo_type=MPOAlgorithmTypes.FastBipartite)\n",
    "    NN_exp = driver.expectation(kets[0], NN_mpo, kets[0]) / driver.expectation(kets[0], impo, kets[0]) \n",
    "## Calculate Standard Deviation\n",
    "    std_val+=np.sqrt(NN_exp - (nOp_exp*nOp_exp))        \n",
    "std_nOp = (std_val/params['L'])"
   ]
  },
  {
   "cell_type": "markdown",
   "id": "f50a1ea9-e70f-495d-b879-ecf67d2032d6",
   "metadata": {},
   "source": [
    "###### Expectation value of Number Operator on each site"
   ]
  },
  {
   "cell_type": "code",
   "execution_count": null,
   "id": "3def4372-9ab9-40ca-89b2-9ae783bbde39",
   "metadata": {},
   "outputs": [],
   "source": [
    "density_nop = pd.DataFrame(_exp_nop)\n",
    "filename = generate_file_name_hdf5(params, expnop = True)\n",
    "## Complete path of the location of the file\n",
    "filename1 = generating_complete_path_hdf5(filename, expnop = True)\n",
    "key = generate_unique_key(params, exp_nOp = True)\n",
    "create_folders_and_store_data(params, density_nop, filename, key = key, expnop = True)"
   ]
  },
  {
   "cell_type": "code",
   "execution_count": null,
   "id": "c0534705-4a66-47a2-8ded-fe824933f51f",
   "metadata": {},
   "outputs": [],
   "source": [
    "# key = generate_unique_key(params, exp_nOp = True)\n",
    "# density_nop = load_matrix_from_hdf5(filename1, key = key)\n",
    "# print(density_nop)"
   ]
  },
  {
   "cell_type": "markdown",
   "id": "6d32cfee-cde1-445b-8503-399be5b1af87",
   "metadata": {},
   "source": [
    "###### Standard Deviation"
   ]
  },
  {
   "cell_type": "code",
   "execution_count": null,
   "id": "d26e3a5f-d0b7-4c95-8ef3-86824633c322",
   "metadata": {},
   "outputs": [],
   "source": [
    "std_deviation_numberOp = pd.DataFrame({'std_nOp':[std_nOp]})\n",
    "filename = generate_file_name_hdf5(params)\n",
    "filename1 = generating_complete_path_hdf5(filename)\n",
    "key = generate_unique_key(params, std_deviation_numberOp = True)\n",
    "\n",
    "## Use the code below to append data to an existing file/folder directory\n",
    "append_data_to_hdf5(params, std_deviation_numberOp, filename1, key = key)\n",
    "\n",
    "####### Use this only for the first time when taking data for a theta #######\n",
    "## Use this code to write data to a new file irrespective of the presence of subholder based on 'L'.\n",
    "# create_folders_and_store_data(params, std_deviation_numberOp, filename, key = key)"
   ]
  },
  {
   "cell_type": "code",
   "execution_count": null,
   "id": "74d689d6-825c-4a7c-910a-c5848104a07a",
   "metadata": {},
   "outputs": [],
   "source": [
    "key = generate_unique_key(params, std_deviation_numberOp = True)\n",
    "std_nop = load_matrix_from_hdf5(filename1, key = key)\n",
    "print(std_nop[0][0])"
   ]
  },
  {
   "cell_type": "code",
   "execution_count": null,
   "id": "e7706628-e040-46a3-8902-37f1ac9cef55",
   "metadata": {},
   "outputs": [],
   "source": [
    "with pd.HDFStore(filename1, 'r') as hdf:\n",
    "    # List all keys in the file\n",
    "    keys = hdf.keys()\n",
    "    print(\"Keys in HDF5 file:\")\n",
    "    for key in keys:\n",
    "        print(key)"
   ]
  },
  {
   "cell_type": "markdown",
   "id": "b36ea26b-552f-4171-b99f-a9a665be5bc6",
   "metadata": {
    "jp-MarkdownHeadingCollapsed": true
   },
   "source": [
    "#### $U = 0.6$"
   ]
  },
  {
   "cell_type": "code",
   "execution_count": 109,
   "id": "2bdb4cd1-c731-4cab-9769-d6206a028958",
   "metadata": {},
   "outputs": [
    {
     "name": "stdout",
     "output_type": "stream",
     "text": [
      "Execution time: 121.44 seconds\n"
     ]
    }
   ],
   "source": [
    "start_time = time.time()\n",
    "#########################################\n",
    "\n",
    "params['u'] = 0.6\n",
    "driver.initialize_system(n_sites=params['L'], vacuum=Q(0), target=Q(params['N_BOSON']), hamil_init=False)\n",
    "driver.ghamil = driver.get_custom_hamiltonian(site_basis, site_ops)\n",
    "b = driver.expr_builder()\n",
    "\n",
    "# b.add_term(\"ADCB\", np.array([[i, i+1, i+1, i] for i in range(params['L']-1)]).flatten(), -params['t'])\n",
    "b.add_term(\"AD\", np.array([[i, i+1] for i in range(params['L']-1)]).flatten(), -params['t'])\n",
    "b.add_term(\"CB\", np.array([[i+1, i] for i in range(params['L']-1)]).flatten(), -params['t'])\n",
    "b.add_term(\"N\", np.array(np.arange(params['L'])), -(params['mu'] + params['u'] / 2))\n",
    "b.add_term(\"NN\", np.repeat(np.arange(params['L']), 2), params['u'] / 2)\n",
    "\n",
    "mpo = driver.get_mpo(b.finalize(adjust_order=True, fermionic_ops=\"\"), algo_type=MPOAlgorithmTypes.FastBipartite)\n",
    "mps = driver.get_random_mps(tag=\"KET\", bond_dim=50, nroots=2)\n",
    "energy = driver.dmrg(mpo, mps, n_sweeps=10, bond_dims=[50] * 4 + [100] * 4,\n",
    "    noises=[1e-4] * 4 + [1e-5] * 4 + [0], thrds=[1e-10] * 8, dav_max_iter=30, iprint=0)\n",
    "\n",
    "#########################################\n",
    "end_time = time.time()\n",
    "execution_time = end_time - start_time\n",
    "print(f\"Execution time: {execution_time:.2f} seconds\")"
   ]
  },
  {
   "cell_type": "code",
   "execution_count": 110,
   "id": "79c03cd7-c31a-4a91-b1a5-33d378d11065",
   "metadata": {},
   "outputs": [],
   "source": [
    "kets = [driver.split_mps(mps, ir, tag=\"KET-%d\" % ir) for ir in range(mps.nroots)]"
   ]
  },
  {
   "cell_type": "code",
   "execution_count": null,
   "id": "ba885f39-a04a-42a4-afaa-62e5aa6c7aa0",
   "metadata": {},
   "outputs": [],
   "source": []
  },
  {
   "cell_type": "markdown",
   "id": "f0f96964-d60a-4382-8716-61de90234615",
   "metadata": {},
   "source": [
    "##### First Excitation Gap"
   ]
  },
  {
   "cell_type": "code",
   "execution_count": null,
   "id": "a5658ddb-9bd3-4246-9340-c46415e0878a",
   "metadata": {},
   "outputs": [],
   "source": [
    "gndenergy = pd.DataFrame({'gndenergy':[np.power(np.abs(energy[1]-energy[0]),2)]})\n",
    "filename = generate_file_name_hdf5(params)\n",
    "## Complete path\n",
    "filename1 = generating_complete_path_hdf5(filename)\n",
    "key = generate_unique_key(params, gndstate_energy = True)\n",
    "## Use the code below to append data to an existing file/folder directory\n",
    "append_data_to_hdf5(params, gndenergy, filename1, key = key)"
   ]
  },
  {
   "cell_type": "code",
   "execution_count": null,
   "id": "e330dc23-d64c-4106-87a1-e4414267adc8",
   "metadata": {},
   "outputs": [],
   "source": [
    "## Testing\n",
    "gndenergy = load_matrix_from_hdf5(filename1, key = key)\n",
    "print(gndenergy[0][0])"
   ]
  },
  {
   "cell_type": "markdown",
   "id": "09808c89-850a-4330-bec3-f59c45695f06",
   "metadata": {},
   "source": [
    "##### Entropy"
   ]
  },
  {
   "cell_type": "code",
   "execution_count": null,
   "id": "60a82535-fde0-4a29-be21-471308e5a2c6",
   "metadata": {},
   "outputs": [],
   "source": [
    "entropy1 = driver.get_bipartite_entanglement(kets[0])"
   ]
  },
  {
   "cell_type": "markdown",
   "id": "c135a0d1-6f5f-401d-a748-4b671cae9e8d",
   "metadata": {},
   "source": [
    "###### HDF5 Files"
   ]
  },
  {
   "cell_type": "code",
   "execution_count": null,
   "id": "f151cfa9-2745-48f0-bc7f-be76fb8ce8a0",
   "metadata": {},
   "outputs": [],
   "source": [
    "entropy = pd.DataFrame(entropy1)\n",
    "filename = generate_file_name_hdf5(params, entropy = True)\n",
    "## Complete path of the location of the file\n",
    "filename1 = generating_complete_path_hdf5(filename, entropy = True)\n",
    "create_folders_and_store_data(params, entropy, filename, key = 'entropy', entropy = True)"
   ]
  },
  {
   "cell_type": "markdown",
   "id": "0bae9fdc-99bd-4936-8499-d0dd66bbe6a5",
   "metadata": {},
   "source": [
    "##### Correlation Matrix"
   ]
  },
  {
   "cell_type": "code",
   "execution_count": null,
   "id": "d3f60172-30e5-4722-b45f-ba441d56a530",
   "metadata": {},
   "outputs": [],
   "source": [
    "hop_exp_val = np.zeros((params['L'], params['L']), dtype=complex)\n",
    "for i in range(params['L']):\n",
    "    for j in range(i, params['L']):\n",
    "        b = driver.expr_builder()\n",
    "        b.add_term(\"CD\", np.array([i, j]), 1)  # Hopping operator between i and j            \n",
    "        hop_mpo = driver.get_mpo(b.finalize(adjust_order=True, fermionic_ops=\"\"), algo_type=MPOAlgorithmTypes.FastBipartite)\n",
    "        hop_exp_val[i, j] = driver.expectation(kets[0], hop_mpo, kets[0])\n",
    "        hop_exp_val[j, i] = np.conjugate(hop_exp_val[i, j])"
   ]
  },
  {
   "cell_type": "code",
   "execution_count": null,
   "id": "9b574597-e96c-48b1-9d6e-199fc6e502d7",
   "metadata": {},
   "outputs": [],
   "source": [
    "correl_matrix = pd.DataFrame(hop_exp_val)\n",
    "filename = generate_file_name_hdf5(params, Correlation = True)\n",
    "## Complete path of the location of the file\n",
    "filename1 = generating_complete_path_hdf5(filename, Correlation = True)\n",
    "## Use the code below to append data to an existing file/folder directory\n",
    "# append_data_to_hdf5(params, correl_matrix, filename1, key = 'correl_matrix', Correlation = True)\n",
    "\n",
    "## Use this code to write data to a new file irrespective of the presence of subholder based on 'L'.\n",
    "create_folders_and_store_data(params, correl_matrix, filename1, key = 'correl_matrix', Correlation = True)"
   ]
  },
  {
   "cell_type": "markdown",
   "id": "ccef3437-1dca-44a7-a32c-1b957c1af3b8",
   "metadata": {},
   "source": [
    "##### NumberOperator and Its Standard Deviation"
   ]
  },
  {
   "cell_type": "code",
   "execution_count": null,
   "id": "e7469aaf-5567-48a8-be40-eb88862ecdcf",
   "metadata": {},
   "outputs": [],
   "source": [
    "std_val, std_nOp = 0, 0\n",
    "_exp_nop = []\n",
    "for i in range(params['L']):\n",
    "    b = driver.expr_builder()\n",
    "    b.add_term(\"N\", np.array([i]), 1)\n",
    "## Calculate <N>   \n",
    "    nOp_mpo = driver.get_mpo(b.finalize(adjust_order=True, fermionic_ops=\"\"), algo_type=MPOAlgorithmTypes.FastBipartite)\n",
    "    impo = driver.get_identity_mpo()\n",
    "\n",
    "    nOp_exp = driver.expectation(kets[0], nOp_mpo, kets[0]) / driver.expectation(kets[0], impo, kets[0])\n",
    "    _exp_nop.append(nOp_exp)\n",
    "## Calculate <N^2>\n",
    "    b = driver.expr_builder()\n",
    "    b.add_term(\"NN\", np.repeat([i], 2), 1)\n",
    "    \n",
    "    NN_mpo = driver.get_mpo(b.finalize(adjust_order=True, fermionic_ops=\"\"), algo_type=MPOAlgorithmTypes.FastBipartite)\n",
    "    NN_exp = driver.expectation(kets[0], NN_mpo, kets[0]) / driver.expectation(kets[0], impo, kets[0]) \n",
    "## Calculate Standard Deviation\n",
    "    std_val+=np.sqrt(NN_exp - (nOp_exp*nOp_exp))        \n",
    "std_nOp = (std_val/params['L'])"
   ]
  },
  {
   "cell_type": "markdown",
   "id": "7f76356b-0221-483e-8bc9-75c3ab3364b3",
   "metadata": {},
   "source": [
    "###### Expectation value of Number Operator on each site"
   ]
  },
  {
   "cell_type": "code",
   "execution_count": null,
   "id": "f11b4133-9dc8-40d6-8260-a198e3ed1077",
   "metadata": {},
   "outputs": [],
   "source": [
    "density_nop = pd.DataFrame(_exp_nop)\n",
    "filename = generate_file_name_hdf5(params, expnop = True)\n",
    "## Complete path of the location of the file\n",
    "filename1 = generating_complete_path_hdf5(filename, expnop = True)\n",
    "key = generate_unique_key(params, exp_nOp = True)\n",
    "create_folders_and_store_data(params, density_nop, filename, key = key, expnop = True)"
   ]
  },
  {
   "cell_type": "code",
   "execution_count": null,
   "id": "3d778437-9b07-4fe1-8d8b-850a950a5252",
   "metadata": {},
   "outputs": [],
   "source": [
    "# key = generate_unique_key(params, exp_nOp = True)\n",
    "# density_nop = load_matrix_from_hdf5(filename1, key = key)\n",
    "# print(density_nop)"
   ]
  },
  {
   "cell_type": "markdown",
   "id": "290478c9-d7f8-4824-88dd-dc11c60a614a",
   "metadata": {},
   "source": [
    "###### Standard Deviation"
   ]
  },
  {
   "cell_type": "code",
   "execution_count": null,
   "id": "9b85461d-fd4e-4067-bccf-5179cb720754",
   "metadata": {},
   "outputs": [],
   "source": [
    "std_deviation_numberOp = pd.DataFrame({'std_nOp':[std_nOp]})\n",
    "filename = generate_file_name_hdf5(params)\n",
    "filename1 = generating_complete_path_hdf5(filename)\n",
    "key = generate_unique_key(params, std_deviation_numberOp = True)\n",
    "\n",
    "## Use the code below to append data to an existing file/folder directory\n",
    "append_data_to_hdf5(params, std_deviation_numberOp, filename1, key = key)\n",
    "\n",
    "####### Use this only for the first time when taking data for a theta #######\n",
    "## Use this code to write data to a new file irrespective of the presence of subholder based on 'L'.\n",
    "# create_folders_and_store_data(params, std_deviation_numberOp, filename, key = key)"
   ]
  },
  {
   "cell_type": "code",
   "execution_count": null,
   "id": "fe011d5e-ec41-4baf-b3db-8e26d3e9c98b",
   "metadata": {},
   "outputs": [],
   "source": [
    "key = generate_unique_key(params, std_deviation_numberOp = True)\n",
    "std_nop = load_matrix_from_hdf5(filename1, key = key)\n",
    "print(std_nop[0][0])"
   ]
  },
  {
   "cell_type": "code",
   "execution_count": null,
   "id": "aa1472d4-bc63-4eda-833d-c3366046c17c",
   "metadata": {},
   "outputs": [],
   "source": [
    "with pd.HDFStore(filename1, 'r') as hdf:\n",
    "    # List all keys in the file\n",
    "    keys = hdf.keys()\n",
    "    print(\"Keys in HDF5 file:\")\n",
    "    for key in keys:\n",
    "        print(key)"
   ]
  },
  {
   "cell_type": "code",
   "execution_count": null,
   "id": "436f44e7-ef3a-4d3c-8e0b-2c0874e3e0ac",
   "metadata": {},
   "outputs": [],
   "source": []
  },
  {
   "cell_type": "markdown",
   "id": "c8f0e445-1c44-4baf-9f10-d754e672268e",
   "metadata": {
    "jp-MarkdownHeadingCollapsed": true
   },
   "source": [
    "#### $U = 0.7$"
   ]
  },
  {
   "cell_type": "code",
   "execution_count": 119,
   "id": "aed2f58d-8ad8-4e6b-bd08-eef4ffec43ed",
   "metadata": {},
   "outputs": [
    {
     "name": "stdout",
     "output_type": "stream",
     "text": [
      "Execution time: 184.42 seconds\n"
     ]
    }
   ],
   "source": [
    "start_time = time.time()\n",
    "#########################################\n",
    "\n",
    "params['u'] = 0.7\n",
    "driver.initialize_system(n_sites=params['L'], vacuum=Q(0), target=Q(params['N_BOSON']), hamil_init=False)\n",
    "driver.ghamil = driver.get_custom_hamiltonian(site_basis, site_ops)\n",
    "b = driver.expr_builder()\n",
    "\n",
    "# b.add_term(\"ADCB\", np.array([[i, i+1, i+1, i] for i in range(params['L']-1)]).flatten(), -params['t'])\n",
    "b.add_term(\"AD\", np.array([[i, i+1] for i in range(params['L']-1)]).flatten(), -params['t'])\n",
    "b.add_term(\"CB\", np.array([[i+1, i] for i in range(params['L']-1)]).flatten(), -params['t'])\n",
    "b.add_term(\"N\", np.array(np.arange(params['L'])), -(params['mu'] + params['u'] / 2))\n",
    "b.add_term(\"NN\", np.repeat(np.arange(params['L']), 2), params['u'] / 2)\n",
    "\n",
    "mpo = driver.get_mpo(b.finalize(adjust_order=True, fermionic_ops=\"\"), algo_type=MPOAlgorithmTypes.FastBipartite)\n",
    "mps = driver.get_random_mps(tag=\"KET\", bond_dim=50, nroots=2)\n",
    "energy = driver.dmrg(mpo, mps, n_sweeps=10, bond_dims=[50] * 4 + [100] * 4,\n",
    "    noises=[1e-4] * 4 + [1e-5] * 4 + [0], thrds=[1e-10] * 8, dav_max_iter=30, iprint=0)\n",
    "\n",
    "#########################################\n",
    "end_time = time.time()\n",
    "execution_time = end_time - start_time\n",
    "print(f\"Execution time: {execution_time:.2f} seconds\")"
   ]
  },
  {
   "cell_type": "code",
   "execution_count": 120,
   "id": "6a1e8fc7-ea5d-4902-bfcf-9fede327edce",
   "metadata": {},
   "outputs": [],
   "source": [
    "kets = [driver.split_mps(mps, ir, tag=\"KET-%d\" % ir) for ir in range(mps.nroots)]"
   ]
  },
  {
   "cell_type": "code",
   "execution_count": null,
   "id": "b3b8fbe1-9823-412d-a8b2-e1eefafae916",
   "metadata": {},
   "outputs": [],
   "source": []
  },
  {
   "cell_type": "markdown",
   "id": "4f750fd3-c845-4c60-a659-cb0ff3c956e7",
   "metadata": {},
   "source": [
    "##### First Excitation Gap"
   ]
  },
  {
   "cell_type": "code",
   "execution_count": null,
   "id": "b90da198-5cf7-4230-afec-cb6b7ae694eb",
   "metadata": {},
   "outputs": [],
   "source": [
    "gndenergy = pd.DataFrame({'gndenergy':[np.power(np.abs(energy[1]-energy[0]),2)]})\n",
    "filename = generate_file_name_hdf5(params)\n",
    "## Complete path\n",
    "filename1 = generating_complete_path_hdf5(filename)\n",
    "key = generate_unique_key(params, gndstate_energy = True)\n",
    "## Use the code below to append data to an existing file/folder directory\n",
    "append_data_to_hdf5(params, gndenergy, filename1, key = key)"
   ]
  },
  {
   "cell_type": "code",
   "execution_count": null,
   "id": "3b81ee72-53e4-4d7c-b9ae-423ba93d677f",
   "metadata": {},
   "outputs": [],
   "source": [
    "## Testing\n",
    "gndenergy = load_matrix_from_hdf5(filename1, key = key)\n",
    "print(gndenergy[0][0])"
   ]
  },
  {
   "cell_type": "markdown",
   "id": "aa05d05c-70d5-4431-b6be-0f26083f0893",
   "metadata": {},
   "source": [
    "##### Entropy"
   ]
  },
  {
   "cell_type": "code",
   "execution_count": null,
   "id": "a9a10607-a3db-440d-a8bf-3bfc0b5f34e1",
   "metadata": {},
   "outputs": [],
   "source": [
    "entropy1 = driver.get_bipartite_entanglement(kets[0])"
   ]
  },
  {
   "cell_type": "markdown",
   "id": "5a4a61fe-db4d-40b9-bd8e-8f9e7f44e5d2",
   "metadata": {},
   "source": [
    "###### HDF5 Files"
   ]
  },
  {
   "cell_type": "code",
   "execution_count": null,
   "id": "f0249cec-d17d-43b5-833d-a9399cbb3950",
   "metadata": {},
   "outputs": [],
   "source": [
    "entropy = pd.DataFrame(entropy1)\n",
    "filename = generate_file_name_hdf5(params, entropy = True)\n",
    "## Complete path of the location of the file\n",
    "filename1 = generating_complete_path_hdf5(filename, entropy = True)\n",
    "create_folders_and_store_data(params, entropy, filename, key = 'entropy', entropy = True)"
   ]
  },
  {
   "cell_type": "markdown",
   "id": "66418b82-abbe-4cbc-89df-f7c3c34956ce",
   "metadata": {},
   "source": [
    "##### Correlation Matrix"
   ]
  },
  {
   "cell_type": "code",
   "execution_count": null,
   "id": "4c6db120-26e5-4517-b898-e5b8488148be",
   "metadata": {},
   "outputs": [],
   "source": [
    "hop_exp_val = np.zeros((params['L'], params['L']), dtype=complex)\n",
    "for i in range(params['L']):\n",
    "    for j in range(i, params['L']):\n",
    "        b = driver.expr_builder()\n",
    "        b.add_term(\"CD\", np.array([i, j]), 1)  # Hopping operator between i and j            \n",
    "        hop_mpo = driver.get_mpo(b.finalize(adjust_order=True, fermionic_ops=\"\"), algo_type=MPOAlgorithmTypes.FastBipartite)\n",
    "        hop_exp_val[i, j] = driver.expectation(kets[0], hop_mpo, kets[0])\n",
    "        hop_exp_val[j, i] = np.conjugate(hop_exp_val[i, j])"
   ]
  },
  {
   "cell_type": "code",
   "execution_count": null,
   "id": "c8dd6a56-5c57-476e-aeb0-138e86e3a9dc",
   "metadata": {},
   "outputs": [],
   "source": [
    "correl_matrix = pd.DataFrame(hop_exp_val)\n",
    "filename = generate_file_name_hdf5(params, Correlation = True)\n",
    "## Complete path of the location of the file\n",
    "filename1 = generating_complete_path_hdf5(filename, Correlation = True)\n",
    "## Use the code below to append data to an existing file/folder directory\n",
    "# append_data_to_hdf5(params, correl_matrix, filename1, key = 'correl_matrix', Correlation = True)\n",
    "\n",
    "## Use this code to write data to a new file irrespective of the presence of subholder based on 'L'.\n",
    "create_folders_and_store_data(params, correl_matrix, filename1, key = 'correl_matrix', Correlation = True)"
   ]
  },
  {
   "cell_type": "markdown",
   "id": "d083b2be-84a3-4498-b5d0-1aed1b7fbca0",
   "metadata": {},
   "source": [
    "##### NumberOperator and Its Standard Deviation"
   ]
  },
  {
   "cell_type": "code",
   "execution_count": null,
   "id": "88af2181-22f8-4994-a05c-eeb6e21e00ad",
   "metadata": {},
   "outputs": [],
   "source": [
    "std_val, std_nOp = 0, 0\n",
    "_exp_nop = []\n",
    "for i in range(params['L']):\n",
    "    b = driver.expr_builder()\n",
    "    b.add_term(\"N\", np.array([i]), 1)\n",
    "## Calculate <N>   \n",
    "    nOp_mpo = driver.get_mpo(b.finalize(adjust_order=True, fermionic_ops=\"\"), algo_type=MPOAlgorithmTypes.FastBipartite)\n",
    "    impo = driver.get_identity_mpo()\n",
    "\n",
    "    nOp_exp = driver.expectation(kets[0], nOp_mpo, kets[0]) / driver.expectation(kets[0], impo, kets[0])\n",
    "    _exp_nop.append(nOp_exp)\n",
    "## Calculate <N^2>\n",
    "    b = driver.expr_builder()\n",
    "    b.add_term(\"NN\", np.repeat([i], 2), 1)\n",
    "    \n",
    "    NN_mpo = driver.get_mpo(b.finalize(adjust_order=True, fermionic_ops=\"\"), algo_type=MPOAlgorithmTypes.FastBipartite)\n",
    "    NN_exp = driver.expectation(kets[0], NN_mpo, kets[0]) / driver.expectation(kets[0], impo, kets[0]) \n",
    "## Calculate Standard Deviation\n",
    "    std_val+=np.sqrt(NN_exp - (nOp_exp*nOp_exp))        \n",
    "std_nOp = (std_val/params['L'])"
   ]
  },
  {
   "cell_type": "markdown",
   "id": "d5d884a5-d9a4-4c9d-91fc-f45ba6a1a76d",
   "metadata": {},
   "source": [
    "###### Expectation value of Number Operator on each site"
   ]
  },
  {
   "cell_type": "code",
   "execution_count": null,
   "id": "64c1ba09-33dc-4ca2-b926-ee0615f3ec5c",
   "metadata": {},
   "outputs": [],
   "source": [
    "density_nop = pd.DataFrame(_exp_nop)\n",
    "filename = generate_file_name_hdf5(params, expnop = True)\n",
    "## Complete path of the location of the file\n",
    "filename1 = generating_complete_path_hdf5(filename, expnop = True)\n",
    "key = generate_unique_key(params, exp_nOp = True)\n",
    "create_folders_and_store_data(params, density_nop, filename, key = key, expnop = True)"
   ]
  },
  {
   "cell_type": "code",
   "execution_count": null,
   "id": "5ec7d369-2157-4c53-8192-880114e8f279",
   "metadata": {},
   "outputs": [],
   "source": [
    "# key = generate_unique_key(params, exp_nOp = True)\n",
    "# density_nop = load_matrix_from_hdf5(filename1, key = key)\n",
    "# print(density_nop)"
   ]
  },
  {
   "cell_type": "markdown",
   "id": "f63b93b5-8b36-4d05-a641-cab2156d8924",
   "metadata": {},
   "source": [
    "###### Standard Deviation"
   ]
  },
  {
   "cell_type": "code",
   "execution_count": null,
   "id": "99195704-766f-476e-becd-bc97a45f0825",
   "metadata": {},
   "outputs": [],
   "source": [
    "std_deviation_numberOp = pd.DataFrame({'std_nOp':[std_nOp]})\n",
    "filename = generate_file_name_hdf5(params)\n",
    "filename1 = generating_complete_path_hdf5(filename)\n",
    "key = generate_unique_key(params, std_deviation_numberOp = True)\n",
    "\n",
    "## Use the code below to append data to an existing file/folder directory\n",
    "append_data_to_hdf5(params, std_deviation_numberOp, filename1, key = key)\n",
    "\n",
    "####### Use this only for the first time when taking data for a theta #######\n",
    "## Use this code to write data to a new file irrespective of the presence of subholder based on 'L'.\n",
    "# create_folders_and_store_data(params, std_deviation_numberOp, filename, key = key)"
   ]
  },
  {
   "cell_type": "code",
   "execution_count": null,
   "id": "3ec44e63-520c-4082-bc55-22a08910e136",
   "metadata": {},
   "outputs": [],
   "source": [
    "key = generate_unique_key(params, std_deviation_numberOp = True)\n",
    "std_nop = load_matrix_from_hdf5(filename1, key = key)\n",
    "print(std_nop[0][0])"
   ]
  },
  {
   "cell_type": "code",
   "execution_count": null,
   "id": "8e5bf80e-8da3-42c3-93fe-bc605c89abc1",
   "metadata": {},
   "outputs": [],
   "source": [
    "with pd.HDFStore(filename1, 'r') as hdf:\n",
    "    # List all keys in the file\n",
    "    keys = hdf.keys()\n",
    "    print(\"Keys in HDF5 file:\")\n",
    "    for key in keys:\n",
    "        print(key)"
   ]
  },
  {
   "cell_type": "code",
   "execution_count": null,
   "id": "1c225cd0-0ad2-45c3-8f30-85c2ef9bd4e8",
   "metadata": {},
   "outputs": [],
   "source": []
  },
  {
   "cell_type": "markdown",
   "id": "3eb1120e-6dd8-4380-af7e-55ee8e8687a1",
   "metadata": {},
   "source": [
    "#### $U = 0.8$"
   ]
  },
  {
   "cell_type": "code",
   "execution_count": 128,
   "id": "14b671fc-d658-4bf9-9b75-924c0329bc35",
   "metadata": {},
   "outputs": [
    {
     "name": "stdout",
     "output_type": "stream",
     "text": [
      "Execution time: 213.31 seconds\n"
     ]
    }
   ],
   "source": [
    "start_time = time.time()\n",
    "#########################################\n",
    "\n",
    "params['u'] = 0.8\n",
    "driver.initialize_system(n_sites=params['L'], vacuum=Q(0), target=Q(params['N_BOSON']), hamil_init=False)\n",
    "driver.ghamil = driver.get_custom_hamiltonian(site_basis, site_ops)\n",
    "b = driver.expr_builder()\n",
    "\n",
    "# b.add_term(\"ADCB\", np.array([[i, i+1, i+1, i] for i in range(params['L']-1)]).flatten(), -params['t'])\n",
    "b.add_term(\"AD\", np.array([[i, i+1] for i in range(params['L']-1)]).flatten(), -params['t'])\n",
    "b.add_term(\"CB\", np.array([[i+1, i] for i in range(params['L']-1)]).flatten(), -params['t'])\n",
    "b.add_term(\"N\", np.array(np.arange(params['L'])), -(params['mu'] + params['u'] / 2))\n",
    "b.add_term(\"NN\", np.repeat(np.arange(params['L']), 2), params['u'] / 2)\n",
    "\n",
    "mpo = driver.get_mpo(b.finalize(adjust_order=True, fermionic_ops=\"\"), algo_type=MPOAlgorithmTypes.FastBipartite)\n",
    "mps = driver.get_random_mps(tag=\"KET\", bond_dim=50, nroots=2)\n",
    "energy = driver.dmrg(mpo, mps, n_sweeps=10, bond_dims=[50] * 4 + [100] * 4,\n",
    "    noises=[1e-4] * 4 + [1e-5] * 4 + [0], thrds=[1e-10] * 8, dav_max_iter=30, iprint=0)\n",
    "\n",
    "#########################################\n",
    "end_time = time.time()\n",
    "execution_time = end_time - start_time\n",
    "print(f\"Execution time: {execution_time:.2f} seconds\")"
   ]
  },
  {
   "cell_type": "code",
   "execution_count": 129,
   "id": "cd16794b-fc0f-4561-b655-108416e7dc58",
   "metadata": {},
   "outputs": [],
   "source": [
    "kets = [driver.split_mps(mps, ir, tag=\"KET-%d\" % ir) for ir in range(mps.nroots)]"
   ]
  },
  {
   "cell_type": "code",
   "execution_count": null,
   "id": "a6442ed4-5aa4-43bf-801b-7f9f7954e063",
   "metadata": {},
   "outputs": [],
   "source": []
  },
  {
   "cell_type": "markdown",
   "id": "58d703cb-cdfe-4093-bee0-315817c6a4b5",
   "metadata": {},
   "source": [
    "##### First Excitation Gap"
   ]
  },
  {
   "cell_type": "code",
   "execution_count": null,
   "id": "fe283e1d-d429-447f-a289-a98216fdaab0",
   "metadata": {},
   "outputs": [],
   "source": [
    "gndenergy = pd.DataFrame({'gndenergy':[np.power(np.abs(energy[1]-energy[0]),2)]})\n",
    "filename = generate_file_name_hdf5(params)\n",
    "## Complete path\n",
    "filename1 = generating_complete_path_hdf5(filename)\n",
    "key = generate_unique_key(params, gndstate_energy = True)\n",
    "## Use the code below to append data to an existing file/folder directory\n",
    "append_data_to_hdf5(params, gndenergy, filename1, key = key)"
   ]
  },
  {
   "cell_type": "code",
   "execution_count": null,
   "id": "d04b730f-1def-416c-9381-bc539ea426ab",
   "metadata": {},
   "outputs": [],
   "source": [
    "## Testing\n",
    "gndenergy = load_matrix_from_hdf5(filename1, key = key)\n",
    "print(gndenergy[0][0])"
   ]
  },
  {
   "cell_type": "markdown",
   "id": "ac545f2a-f058-42c9-a4a9-38ee05fa4b6f",
   "metadata": {},
   "source": [
    "##### Entropy"
   ]
  },
  {
   "cell_type": "code",
   "execution_count": null,
   "id": "02a5b7fe-81f7-4686-adc6-5ea8987fa553",
   "metadata": {},
   "outputs": [],
   "source": [
    "entropy1 = driver.get_bipartite_entanglement(kets[0])"
   ]
  },
  {
   "cell_type": "markdown",
   "id": "9117c0a2-2e76-4e3b-8b6b-dbfa5fcb321b",
   "metadata": {},
   "source": [
    "###### HDF5 Files"
   ]
  },
  {
   "cell_type": "code",
   "execution_count": null,
   "id": "e8b791c5-8e2a-4edb-a70a-4c1858fc48da",
   "metadata": {},
   "outputs": [],
   "source": [
    "entropy = pd.DataFrame(entropy1)\n",
    "filename = generate_file_name_hdf5(params, entropy = True)\n",
    "## Complete path of the location of the file\n",
    "filename1 = generating_complete_path_hdf5(filename, entropy = True)\n",
    "create_folders_and_store_data(params, entropy, filename, key = 'entropy', entropy = True)"
   ]
  },
  {
   "cell_type": "markdown",
   "id": "ebde992c-1c61-4bff-8af5-799c4ae62bc8",
   "metadata": {},
   "source": [
    "##### Correlation Matrix"
   ]
  },
  {
   "cell_type": "code",
   "execution_count": null,
   "id": "b7bf81af-c948-492c-8499-e3b7bea9abc2",
   "metadata": {},
   "outputs": [],
   "source": [
    "hop_exp_val = np.zeros((params['L'], params['L']), dtype=complex)\n",
    "for i in range(params['L']):\n",
    "    for j in range(i, params['L']):\n",
    "        b = driver.expr_builder()\n",
    "        b.add_term(\"CD\", np.array([i, j]), 1)  # Hopping operator between i and j            \n",
    "        hop_mpo = driver.get_mpo(b.finalize(adjust_order=True, fermionic_ops=\"\"), algo_type=MPOAlgorithmTypes.FastBipartite)\n",
    "        hop_exp_val[i, j] = driver.expectation(kets[0], hop_mpo, kets[0])\n",
    "        hop_exp_val[j, i] = np.conjugate(hop_exp_val[i, j])"
   ]
  },
  {
   "cell_type": "code",
   "execution_count": null,
   "id": "bd93c5e5-dc26-4a72-97e9-74dec106dfc3",
   "metadata": {},
   "outputs": [],
   "source": [
    "correl_matrix = pd.DataFrame(hop_exp_val)\n",
    "filename = generate_file_name_hdf5(params, Correlation = True)\n",
    "## Complete path of the location of the file\n",
    "filename1 = generating_complete_path_hdf5(filename, Correlation = True)\n",
    "## Use the code below to append data to an existing file/folder directory\n",
    "# append_data_to_hdf5(params, correl_matrix, filename1, key = 'correl_matrix', Correlation = True)\n",
    "\n",
    "## Use this code to write data to a new file irrespective of the presence of subholder based on 'L'.\n",
    "create_folders_and_store_data(params, correl_matrix, filename1, key = 'correl_matrix', Correlation = True)"
   ]
  },
  {
   "cell_type": "markdown",
   "id": "4ec21fb8-ce49-4fce-8ac6-8d7d034635cf",
   "metadata": {},
   "source": [
    "##### NumberOperator and Its Standard Deviation"
   ]
  },
  {
   "cell_type": "code",
   "execution_count": null,
   "id": "a83d081a-c284-4873-902d-25f1b3ec76f4",
   "metadata": {},
   "outputs": [],
   "source": [
    "std_val, std_nOp = 0, 0\n",
    "_exp_nop = []\n",
    "for i in range(params['L']):\n",
    "    b = driver.expr_builder()\n",
    "    b.add_term(\"N\", np.array([i]), 1)\n",
    "## Calculate <N>   \n",
    "    nOp_mpo = driver.get_mpo(b.finalize(adjust_order=True, fermionic_ops=\"\"), algo_type=MPOAlgorithmTypes.FastBipartite)\n",
    "    impo = driver.get_identity_mpo()\n",
    "\n",
    "    nOp_exp = driver.expectation(kets[0], nOp_mpo, kets[0]) / driver.expectation(kets[0], impo, kets[0])\n",
    "    _exp_nop.append(nOp_exp)\n",
    "## Calculate <N^2>\n",
    "    b = driver.expr_builder()\n",
    "    b.add_term(\"NN\", np.repeat([i], 2), 1)\n",
    "    \n",
    "    NN_mpo = driver.get_mpo(b.finalize(adjust_order=True, fermionic_ops=\"\"), algo_type=MPOAlgorithmTypes.FastBipartite)\n",
    "    NN_exp = driver.expectation(kets[0], NN_mpo, kets[0]) / driver.expectation(kets[0], impo, kets[0]) \n",
    "## Calculate Standard Deviation\n",
    "    std_val+=np.sqrt(NN_exp - (nOp_exp*nOp_exp))        \n",
    "std_nOp = (std_val/params['L'])"
   ]
  },
  {
   "cell_type": "markdown",
   "id": "31baaa05-67e0-4ca6-b640-a4c30d63e01b",
   "metadata": {},
   "source": [
    "###### Expectation value of Number Operator on each site"
   ]
  },
  {
   "cell_type": "code",
   "execution_count": null,
   "id": "3a8ce7c1-e803-4a6d-b4e5-aba2f60d8a28",
   "metadata": {},
   "outputs": [],
   "source": [
    "density_nop = pd.DataFrame(_exp_nop)\n",
    "filename = generate_file_name_hdf5(params, expnop = True)\n",
    "## Complete path of the location of the file\n",
    "filename1 = generating_complete_path_hdf5(filename, expnop = True)\n",
    "key = generate_unique_key(params, exp_nOp = True)\n",
    "create_folders_and_store_data(params, density_nop, filename, key = key, expnop = True)"
   ]
  },
  {
   "cell_type": "code",
   "execution_count": null,
   "id": "82f41c67-9436-4382-a717-4b6760cea16c",
   "metadata": {},
   "outputs": [],
   "source": [
    "# key = generate_unique_key(params, exp_nOp = True)\n",
    "# density_nop = load_matrix_from_hdf5(filename1, key = key)\n",
    "# print(density_nop)"
   ]
  },
  {
   "cell_type": "markdown",
   "id": "65eb3b5b-070a-44be-a69f-bff014ccdc8e",
   "metadata": {},
   "source": [
    "###### Standard Deviation"
   ]
  },
  {
   "cell_type": "code",
   "execution_count": null,
   "id": "3f422837-a564-4141-98e9-8f8b2a091a31",
   "metadata": {},
   "outputs": [],
   "source": [
    "std_deviation_numberOp = pd.DataFrame({'std_nOp':[std_nOp]})\n",
    "filename = generate_file_name_hdf5(params)\n",
    "filename1 = generating_complete_path_hdf5(filename)\n",
    "key = generate_unique_key(params, std_deviation_numberOp = True)\n",
    "\n",
    "## Use the code below to append data to an existing file/folder directory\n",
    "append_data_to_hdf5(params, std_deviation_numberOp, filename1, key = key)\n",
    "\n",
    "####### Use this only for the first time when taking data for a theta #######\n",
    "## Use this code to write data to a new file irrespective of the presence of subholder based on 'L'.\n",
    "# create_folders_and_store_data(params, std_deviation_numberOp, filename, key = key)"
   ]
  },
  {
   "cell_type": "code",
   "execution_count": null,
   "id": "086dff50-37d0-4932-b4d1-50a0a12c1a3a",
   "metadata": {},
   "outputs": [],
   "source": [
    "key = generate_unique_key(params, std_deviation_numberOp = True)\n",
    "std_nop = load_matrix_from_hdf5(filename1, key = key)\n",
    "print(std_nop[0][0])"
   ]
  },
  {
   "cell_type": "code",
   "execution_count": null,
   "id": "7a3244e9-de65-4273-b14e-75d9d26e915a",
   "metadata": {},
   "outputs": [],
   "source": [
    "with pd.HDFStore(filename1, 'r') as hdf:\n",
    "    # List all keys in the file\n",
    "    keys = hdf.keys()\n",
    "    print(\"Keys in HDF5 file:\")\n",
    "    for key in keys:\n",
    "        print(key)"
   ]
  },
  {
   "cell_type": "code",
   "execution_count": null,
   "id": "2a866aa8-4cde-44fb-bd99-09be4c738b6c",
   "metadata": {},
   "outputs": [],
   "source": []
  },
  {
   "cell_type": "markdown",
   "id": "908a1a0b-d5d6-4850-87fc-43b490961d5e",
   "metadata": {},
   "source": [
    "#### $U = 0.9$"
   ]
  },
  {
   "cell_type": "code",
   "execution_count": 137,
   "id": "def54c55-3a50-44af-b4d9-e4592d831138",
   "metadata": {},
   "outputs": [
    {
     "name": "stdout",
     "output_type": "stream",
     "text": [
      "Execution time: 114.74 seconds\n"
     ]
    }
   ],
   "source": [
    "start_time = time.time()\n",
    "#########################################\n",
    "\n",
    "params['u'] = 0.9\n",
    "driver.initialize_system(n_sites=params['L'], vacuum=Q(0), target=Q(params['N_BOSON']), hamil_init=False)\n",
    "driver.ghamil = driver.get_custom_hamiltonian(site_basis, site_ops)\n",
    "b = driver.expr_builder()\n",
    "\n",
    "# b.add_term(\"ADCB\", np.array([[i, i+1, i+1, i] for i in range(params['L']-1)]).flatten(), -params['t'])\n",
    "b.add_term(\"AD\", np.array([[i, i+1] for i in range(params['L']-1)]).flatten(), -params['t'])\n",
    "b.add_term(\"CB\", np.array([[i+1, i] for i in range(params['L']-1)]).flatten(), -params['t'])\n",
    "b.add_term(\"N\", np.array(np.arange(params['L'])), -(params['mu'] + params['u'] / 2))\n",
    "b.add_term(\"NN\", np.repeat(np.arange(params['L']), 2), params['u'] / 2)\n",
    "\n",
    "mpo = driver.get_mpo(b.finalize(adjust_order=True, fermionic_ops=\"\"), algo_type=MPOAlgorithmTypes.FastBipartite)\n",
    "mps = driver.get_random_mps(tag=\"KET\", bond_dim=50, nroots=2)\n",
    "energy = driver.dmrg(mpo, mps, n_sweeps=10, bond_dims=[50] * 4 + [100] * 4,\n",
    "    noises=[1e-4] * 4 + [1e-5] * 4 + [0], thrds=[1e-10] * 8, dav_max_iter=30, iprint=0)\n",
    "\n",
    "#########################################\n",
    "end_time = time.time()\n",
    "execution_time = end_time - start_time\n",
    "print(f\"Execution time: {execution_time:.2f} seconds\")"
   ]
  },
  {
   "cell_type": "code",
   "execution_count": 138,
   "id": "0287e058-2a03-4d9a-96fb-35f482d31e7f",
   "metadata": {},
   "outputs": [],
   "source": [
    "kets = [driver.split_mps(mps, ir, tag=\"KET-%d\" % ir) for ir in range(mps.nroots)]"
   ]
  },
  {
   "cell_type": "code",
   "execution_count": null,
   "id": "5206aa2f-1dc8-4d61-a4f0-d0bfcbd2f270",
   "metadata": {},
   "outputs": [],
   "source": []
  },
  {
   "cell_type": "markdown",
   "id": "dd84823c-f00f-4a10-9299-d4e00734691b",
   "metadata": {},
   "source": [
    "##### First Excitation Gap"
   ]
  },
  {
   "cell_type": "code",
   "execution_count": null,
   "id": "df5389d7-25af-4f89-8b97-21cc8f89cd28",
   "metadata": {},
   "outputs": [],
   "source": [
    "gndenergy = pd.DataFrame({'gndenergy':[np.power(np.abs(energy[1]-energy[0]),2)]})\n",
    "filename = generate_file_name_hdf5(params)\n",
    "## Complete path\n",
    "filename1 = generating_complete_path_hdf5(filename)\n",
    "key = generate_unique_key(params, gndstate_energy = True)\n",
    "## Use the code below to append data to an existing file/folder directory\n",
    "append_data_to_hdf5(params, gndenergy, filename1, key = key)"
   ]
  },
  {
   "cell_type": "code",
   "execution_count": null,
   "id": "e23ae8f4-7245-4117-8513-040be4113e90",
   "metadata": {},
   "outputs": [],
   "source": [
    "## Testing\n",
    "gndenergy = load_matrix_from_hdf5(filename1, key = key)\n",
    "print(gndenergy[0][0])"
   ]
  },
  {
   "cell_type": "markdown",
   "id": "256358a6-0a2f-40db-acbb-aed40a277eed",
   "metadata": {},
   "source": [
    "##### Entropy"
   ]
  },
  {
   "cell_type": "code",
   "execution_count": null,
   "id": "b21281f4-a05c-4cd2-99f2-2eb924d5cde0",
   "metadata": {},
   "outputs": [],
   "source": [
    "entropy1 = driver.get_bipartite_entanglement(kets[0])"
   ]
  },
  {
   "cell_type": "markdown",
   "id": "ca866a22-331b-4dd9-87bc-a3497697a53f",
   "metadata": {},
   "source": [
    "###### HDF5 Files"
   ]
  },
  {
   "cell_type": "code",
   "execution_count": null,
   "id": "65bb0542-f5cc-4fea-94d5-56e7ff5ba548",
   "metadata": {},
   "outputs": [],
   "source": [
    "entropy = pd.DataFrame(entropy1)\n",
    "filename = generate_file_name_hdf5(params, entropy = True)\n",
    "## Complete path of the location of the file\n",
    "filename1 = generating_complete_path_hdf5(filename, entropy = True)\n",
    "create_folders_and_store_data(params, entropy, filename, key = 'entropy', entropy = True)"
   ]
  },
  {
   "cell_type": "markdown",
   "id": "ac791549-80da-4396-bd47-1b0481d01e4e",
   "metadata": {},
   "source": [
    "##### Correlation Matrix"
   ]
  },
  {
   "cell_type": "code",
   "execution_count": null,
   "id": "01f6955b-254a-452a-bfbf-ada8ec8cb60a",
   "metadata": {},
   "outputs": [],
   "source": [
    "hop_exp_val = np.zeros((params['L'], params['L']), dtype=complex)\n",
    "for i in range(params['L']):\n",
    "    for j in range(i, params['L']):\n",
    "        b = driver.expr_builder()\n",
    "        b.add_term(\"CD\", np.array([i, j]), 1)  # Hopping operator between i and j            \n",
    "        hop_mpo = driver.get_mpo(b.finalize(adjust_order=True, fermionic_ops=\"\"), algo_type=MPOAlgorithmTypes.FastBipartite)\n",
    "        hop_exp_val[i, j] = driver.expectation(kets[0], hop_mpo, kets[0])\n",
    "        hop_exp_val[j, i] = np.conjugate(hop_exp_val[i, j])"
   ]
  },
  {
   "cell_type": "code",
   "execution_count": null,
   "id": "0613c6bb-1e85-433b-88ac-a7d8cc440005",
   "metadata": {},
   "outputs": [],
   "source": [
    "correl_matrix = pd.DataFrame(hop_exp_val)\n",
    "filename = generate_file_name_hdf5(params, Correlation = True)\n",
    "## Complete path of the location of the file\n",
    "filename1 = generating_complete_path_hdf5(filename, Correlation = True)\n",
    "## Use the code below to append data to an existing file/folder directory\n",
    "# append_data_to_hdf5(params, correl_matrix, filename1, key = 'correl_matrix', Correlation = True)\n",
    "\n",
    "## Use this code to write data to a new file irrespective of the presence of subholder based on 'L'.\n",
    "create_folders_and_store_data(params, correl_matrix, filename1, key = 'correl_matrix', Correlation = True)"
   ]
  },
  {
   "cell_type": "markdown",
   "id": "39be2659-ac8b-475e-addf-4e9a4de3ca6f",
   "metadata": {},
   "source": [
    "##### NumberOperator and Its Standard Deviation"
   ]
  },
  {
   "cell_type": "code",
   "execution_count": null,
   "id": "85f62dcd-65fe-4aad-874b-9a59e6dc8ca4",
   "metadata": {},
   "outputs": [],
   "source": [
    "std_val, std_nOp = 0, 0\n",
    "_exp_nop = []\n",
    "for i in range(params['L']):\n",
    "    b = driver.expr_builder()\n",
    "    b.add_term(\"N\", np.array([i]), 1)\n",
    "## Calculate <N>   \n",
    "    nOp_mpo = driver.get_mpo(b.finalize(adjust_order=True, fermionic_ops=\"\"), algo_type=MPOAlgorithmTypes.FastBipartite)\n",
    "    impo = driver.get_identity_mpo()\n",
    "\n",
    "    nOp_exp = driver.expectation(kets[0], nOp_mpo, kets[0]) / driver.expectation(kets[0], impo, kets[0])\n",
    "    _exp_nop.append(nOp_exp)\n",
    "## Calculate <N^2>\n",
    "    b = driver.expr_builder()\n",
    "    b.add_term(\"NN\", np.repeat([i], 2), 1)\n",
    "    \n",
    "    NN_mpo = driver.get_mpo(b.finalize(adjust_order=True, fermionic_ops=\"\"), algo_type=MPOAlgorithmTypes.FastBipartite)\n",
    "    NN_exp = driver.expectation(kets[0], NN_mpo, kets[0]) / driver.expectation(kets[0], impo, kets[0]) \n",
    "## Calculate Standard Deviation\n",
    "    std_val+=np.sqrt(NN_exp - (nOp_exp*nOp_exp))        \n",
    "std_nOp = (std_val/params['L'])"
   ]
  },
  {
   "cell_type": "markdown",
   "id": "d9ec5770-475b-4315-b9f8-35ebcc98cf40",
   "metadata": {},
   "source": [
    "###### Expectation value of Number Operator on each site"
   ]
  },
  {
   "cell_type": "code",
   "execution_count": null,
   "id": "5ac5ca5f-f6db-4d73-8d55-8527247c9b26",
   "metadata": {},
   "outputs": [],
   "source": [
    "density_nop = pd.DataFrame(_exp_nop)\n",
    "filename = generate_file_name_hdf5(params, expnop = True)\n",
    "## Complete path of the location of the file\n",
    "filename1 = generating_complete_path_hdf5(filename, expnop = True)\n",
    "key = generate_unique_key(params, exp_nOp = True)\n",
    "create_folders_and_store_data(params, density_nop, filename, key = key, expnop = True)"
   ]
  },
  {
   "cell_type": "code",
   "execution_count": null,
   "id": "a8702eda-0da1-4f3a-8828-c90686e708aa",
   "metadata": {},
   "outputs": [],
   "source": [
    "# key = generate_unique_key(params, exp_nOp = True)\n",
    "# density_nop = load_matrix_from_hdf5(filename1, key = key)\n",
    "# print(density_nop)"
   ]
  },
  {
   "cell_type": "markdown",
   "id": "a0a3b54f-36a7-4732-809b-7e32393cdfb6",
   "metadata": {},
   "source": [
    "###### Standard Deviation"
   ]
  },
  {
   "cell_type": "code",
   "execution_count": null,
   "id": "25dc3627-d45e-405e-881c-2e9309229d1e",
   "metadata": {},
   "outputs": [],
   "source": [
    "std_deviation_numberOp = pd.DataFrame({'std_nOp':[std_nOp]})\n",
    "filename = generate_file_name_hdf5(params)\n",
    "filename1 = generating_complete_path_hdf5(filename)\n",
    "key = generate_unique_key(params, std_deviation_numberOp = True)\n",
    "\n",
    "## Use the code below to append data to an existing file/folder directory\n",
    "append_data_to_hdf5(params, std_deviation_numberOp, filename1, key = key)\n",
    "\n",
    "####### Use this only for the first time when taking data for a theta #######\n",
    "## Use this code to write data to a new file irrespective of the presence of subholder based on 'L'.\n",
    "# create_folders_and_store_data(params, std_deviation_numberOp, filename, key = key)"
   ]
  },
  {
   "cell_type": "code",
   "execution_count": null,
   "id": "f26c74f8-473d-409b-97b6-9de4f3d3819c",
   "metadata": {},
   "outputs": [],
   "source": [
    "key = generate_unique_key(params, std_deviation_numberOp = True)\n",
    "std_nop = load_matrix_from_hdf5(filename1, key = key)\n",
    "print(std_nop[0][0])"
   ]
  },
  {
   "cell_type": "code",
   "execution_count": null,
   "id": "812ef658-00b9-4570-811e-0d38438ef3d6",
   "metadata": {},
   "outputs": [],
   "source": [
    "with pd.HDFStore(filename1, 'r') as hdf:\n",
    "    # List all keys in the file\n",
    "    keys = hdf.keys()\n",
    "    print(\"Keys in HDF5 file:\")\n",
    "    for key in keys:\n",
    "        print(key)"
   ]
  },
  {
   "cell_type": "code",
   "execution_count": null,
   "id": "d0fe5ee4-c748-4f90-be34-8524a8973679",
   "metadata": {},
   "outputs": [],
   "source": []
  },
  {
   "cell_type": "markdown",
   "id": "e065e2b3-5ac5-48ef-b5ae-a5600a9cb429",
   "metadata": {},
   "source": [
    "#### $U = 1.0$"
   ]
  },
  {
   "cell_type": "code",
   "execution_count": 147,
   "id": "778e3828-e1f4-4cb5-b6e1-df07061a3f36",
   "metadata": {},
   "outputs": [
    {
     "name": "stdout",
     "output_type": "stream",
     "text": [
      "Execution time: 117.29 seconds\n"
     ]
    }
   ],
   "source": [
    "start_time = time.time()\n",
    "#########################################\n",
    "\n",
    "params['u'] = 1\n",
    "driver.initialize_system(n_sites=params['L'], vacuum=Q(0), target=Q(params['N_BOSON']), hamil_init=False)\n",
    "driver.ghamil = driver.get_custom_hamiltonian(site_basis, site_ops)\n",
    "b = driver.expr_builder()\n",
    "\n",
    "# b.add_term(\"ADCB\", np.array([[i, i+1, i+1, i] for i in range(params['L']-1)]).flatten(), -params['t'])\n",
    "b.add_term(\"AD\", np.array([[i, i+1] for i in range(params['L']-1)]).flatten(), -params['t'])\n",
    "b.add_term(\"CB\", np.array([[i+1, i] for i in range(params['L']-1)]).flatten(), -params['t'])\n",
    "b.add_term(\"N\", np.array(np.arange(params['L'])), -(params['mu'] + params['u'] / 2))\n",
    "b.add_term(\"NN\", np.repeat(np.arange(params['L']), 2), params['u'] / 2)\n",
    "\n",
    "mpo = driver.get_mpo(b.finalize(adjust_order=True, fermionic_ops=\"\"), algo_type=MPOAlgorithmTypes.FastBipartite)\n",
    "mps = driver.get_random_mps(tag=\"KET\", bond_dim=50, nroots=2)\n",
    "energy = driver.dmrg(mpo, mps, n_sweeps=10, bond_dims=[50] * 4 + [100] * 4,\n",
    "    noises=[1e-4] * 4 + [1e-5] * 4 + [0], thrds=[1e-10] * 8, dav_max_iter=30, iprint=0)\n",
    "\n",
    "#########################################\n",
    "end_time = time.time()\n",
    "execution_time = end_time - start_time\n",
    "print(f\"Execution time: {execution_time:.2f} seconds\")"
   ]
  },
  {
   "cell_type": "code",
   "execution_count": 148,
   "id": "d4c419ff-5df2-48bd-bf78-4b52259447a5",
   "metadata": {},
   "outputs": [],
   "source": [
    "kets = [driver.split_mps(mps, ir, tag=\"KET-%d\" % ir) for ir in range(mps.nroots)]"
   ]
  },
  {
   "cell_type": "code",
   "execution_count": null,
   "id": "72a65378-a310-4834-800e-3b444d7133a3",
   "metadata": {},
   "outputs": [],
   "source": []
  },
  {
   "cell_type": "markdown",
   "id": "de2d873b-d852-4cc9-92be-57dd86a2b731",
   "metadata": {},
   "source": [
    "##### First Excitation Gap"
   ]
  },
  {
   "cell_type": "code",
   "execution_count": null,
   "id": "d379757a-fdb5-4da3-adde-9aae67b77b99",
   "metadata": {},
   "outputs": [],
   "source": [
    "gndenergy = pd.DataFrame({'gndenergy':[np.power(np.abs(energy[1]-energy[0]),2)]})\n",
    "filename = generate_file_name_hdf5(params)\n",
    "## Complete path\n",
    "filename1 = generating_complete_path_hdf5(filename)\n",
    "key = generate_unique_key(params, gndstate_energy = True)\n",
    "## Use the code below to append data to an existing file/folder directory\n",
    "append_data_to_hdf5(params, gndenergy, filename1, key = key)"
   ]
  },
  {
   "cell_type": "code",
   "execution_count": null,
   "id": "02d6dc66-eb3a-4194-915c-3e02869e5521",
   "metadata": {},
   "outputs": [],
   "source": [
    "## Testing\n",
    "gndenergy = load_matrix_from_hdf5(filename1, key = key)\n",
    "print(gndenergy[0][0])"
   ]
  },
  {
   "cell_type": "markdown",
   "id": "9c1525dc-44b9-4817-b8da-dcde06a8b939",
   "metadata": {},
   "source": [
    "##### Entropy"
   ]
  },
  {
   "cell_type": "code",
   "execution_count": null,
   "id": "22027454-28ae-4463-a8d4-5973f24002d6",
   "metadata": {},
   "outputs": [],
   "source": [
    "entropy1 = driver.get_bipartite_entanglement(kets[0])"
   ]
  },
  {
   "cell_type": "markdown",
   "id": "96672b02-97ff-4e57-9463-5c35aef80e10",
   "metadata": {},
   "source": [
    "###### HDF5 Files"
   ]
  },
  {
   "cell_type": "code",
   "execution_count": null,
   "id": "22487e04-8499-4992-8c2f-9aae138b9b39",
   "metadata": {},
   "outputs": [],
   "source": [
    "entropy = pd.DataFrame(entropy1)\n",
    "filename = generate_file_name_hdf5(params, entropy = True)\n",
    "## Complete path of the location of the file\n",
    "filename1 = generating_complete_path_hdf5(filename, entropy = True)\n",
    "create_folders_and_store_data(params, entropy, filename, key = 'entropy', entropy = True)"
   ]
  },
  {
   "cell_type": "markdown",
   "id": "db358b7d-694a-49c8-84fd-5bd4fac762ee",
   "metadata": {},
   "source": [
    "##### Correlation Matrix"
   ]
  },
  {
   "cell_type": "code",
   "execution_count": null,
   "id": "8861a6bd-b061-4e2c-b492-5219102bfca9",
   "metadata": {},
   "outputs": [],
   "source": [
    "hop_exp_val = np.zeros((params['L'], params['L']), dtype=complex)\n",
    "for i in range(params['L']):\n",
    "    for j in range(i, params['L']):\n",
    "        b = driver.expr_builder()\n",
    "        b.add_term(\"CD\", np.array([i, j]), 1)  # Hopping operator between i and j            \n",
    "        hop_mpo = driver.get_mpo(b.finalize(adjust_order=True, fermionic_ops=\"\"), algo_type=MPOAlgorithmTypes.FastBipartite)\n",
    "        hop_exp_val[i, j] = driver.expectation(kets[0], hop_mpo, kets[0])\n",
    "        hop_exp_val[j, i] = np.conjugate(hop_exp_val[i, j])"
   ]
  },
  {
   "cell_type": "code",
   "execution_count": null,
   "id": "3c727677-60a1-4cbf-a6c4-eda6afa1cb71",
   "metadata": {},
   "outputs": [],
   "source": [
    "correl_matrix = pd.DataFrame(hop_exp_val)\n",
    "filename = generate_file_name_hdf5(params, Correlation = True)\n",
    "## Complete path of the location of the file\n",
    "filename1 = generating_complete_path_hdf5(filename, Correlation = True)\n",
    "## Use the code below to append data to an existing file/folder directory\n",
    "# append_data_to_hdf5(params, correl_matrix, filename1, key = 'correl_matrix', Correlation = True)\n",
    "\n",
    "## Use this code to write data to a new file irrespective of the presence of subholder based on 'L'.\n",
    "create_folders_and_store_data(params, correl_matrix, filename1, key = 'correl_matrix', Correlation = True)"
   ]
  },
  {
   "cell_type": "markdown",
   "id": "dd241fa7-1ced-49f8-b483-f29edbc566a3",
   "metadata": {},
   "source": [
    "##### NumberOperator and Its Standard Deviation"
   ]
  },
  {
   "cell_type": "code",
   "execution_count": null,
   "id": "5e65ef33-1db7-4ed4-badd-a6ce52a986d1",
   "metadata": {},
   "outputs": [],
   "source": [
    "std_val, std_nOp = 0, 0\n",
    "_exp_nop = []\n",
    "for i in range(params['L']):\n",
    "    b = driver.expr_builder()\n",
    "    b.add_term(\"N\", np.array([i]), 1)\n",
    "## Calculate <N>   \n",
    "    nOp_mpo = driver.get_mpo(b.finalize(adjust_order=True, fermionic_ops=\"\"), algo_type=MPOAlgorithmTypes.FastBipartite)\n",
    "    impo = driver.get_identity_mpo()\n",
    "\n",
    "    nOp_exp = driver.expectation(kets[0], nOp_mpo, kets[0]) / driver.expectation(kets[0], impo, kets[0])\n",
    "    _exp_nop.append(nOp_exp)\n",
    "## Calculate <N^2>\n",
    "    b = driver.expr_builder()\n",
    "    b.add_term(\"NN\", np.repeat([i], 2), 1)\n",
    "    \n",
    "    NN_mpo = driver.get_mpo(b.finalize(adjust_order=True, fermionic_ops=\"\"), algo_type=MPOAlgorithmTypes.FastBipartite)\n",
    "    NN_exp = driver.expectation(kets[0], NN_mpo, kets[0]) / driver.expectation(kets[0], impo, kets[0]) \n",
    "## Calculate Standard Deviation\n",
    "    std_val+=np.sqrt(NN_exp - (nOp_exp*nOp_exp))        \n",
    "std_nOp = (std_val/params['L'])"
   ]
  },
  {
   "cell_type": "markdown",
   "id": "29252c0b-2ff7-4ad4-9eec-ac927151e579",
   "metadata": {},
   "source": [
    "###### Expectation value of Number Operator on each site"
   ]
  },
  {
   "cell_type": "code",
   "execution_count": null,
   "id": "ef02b40b-9f77-4566-bd45-bf45b9561fe0",
   "metadata": {},
   "outputs": [],
   "source": [
    "density_nop = pd.DataFrame(_exp_nop)\n",
    "filename = generate_file_name_hdf5(params, expnop = True)\n",
    "## Complete path of the location of the file\n",
    "filename1 = generating_complete_path_hdf5(filename, expnop = True)\n",
    "key = generate_unique_key(params, exp_nOp = True)\n",
    "create_folders_and_store_data(params, density_nop, filename, key = key, expnop = True)"
   ]
  },
  {
   "cell_type": "code",
   "execution_count": null,
   "id": "07fa6548-c67c-49f6-95af-14fb2b4abe29",
   "metadata": {},
   "outputs": [],
   "source": [
    "# key = generate_unique_key(params, exp_nOp = True)\n",
    "# density_nop = load_matrix_from_hdf5(filename1, key = key)\n",
    "# print(density_nop)"
   ]
  },
  {
   "cell_type": "markdown",
   "id": "e5f905b7-7534-42ce-a313-aca76b7f842f",
   "metadata": {},
   "source": [
    "###### Standard Deviation"
   ]
  },
  {
   "cell_type": "code",
   "execution_count": null,
   "id": "5cdcb9e8-289d-4bc7-aa54-81f6130224d2",
   "metadata": {},
   "outputs": [],
   "source": [
    "std_deviation_numberOp = pd.DataFrame({'std_nOp':[std_nOp]})\n",
    "filename = generate_file_name_hdf5(params)\n",
    "filename1 = generating_complete_path_hdf5(filename)\n",
    "key = generate_unique_key(params, std_deviation_numberOp = True)\n",
    "\n",
    "## Use the code below to append data to an existing file/folder directory\n",
    "append_data_to_hdf5(params, std_deviation_numberOp, filename1, key = key)\n",
    "\n",
    "####### Use this only for the first time when taking data for a theta #######\n",
    "## Use this code to write data to a new file irrespective of the presence of subholder based on 'L'.\n",
    "# create_folders_and_store_data(params, std_deviation_numberOp, filename, key = key)"
   ]
  },
  {
   "cell_type": "code",
   "execution_count": null,
   "id": "6e88b170-4335-433d-9ab7-70e497105fcd",
   "metadata": {},
   "outputs": [],
   "source": [
    "key = generate_unique_key(params, std_deviation_numberOp = True)\n",
    "std_nop = load_matrix_from_hdf5(filename1, key = key)\n",
    "print(std_nop[0][0])"
   ]
  },
  {
   "cell_type": "code",
   "execution_count": null,
   "id": "1c2af614-1fed-4624-913f-f2f7e99b452f",
   "metadata": {},
   "outputs": [],
   "source": [
    "with pd.HDFStore(filename1, 'r') as hdf:\n",
    "    # List all keys in the file\n",
    "    keys = hdf.keys()\n",
    "    print(\"Keys in HDF5 file:\")\n",
    "    for key in keys:\n",
    "        print(key)"
   ]
  },
  {
   "cell_type": "code",
   "execution_count": null,
   "id": "e5349aad-0ab0-4ddb-8c7f-1b0a596ba311",
   "metadata": {},
   "outputs": [],
   "source": []
  },
  {
   "cell_type": "markdown",
   "id": "5450d4db-2687-4e3f-b971-767f445ad30b",
   "metadata": {},
   "source": [
    "#### $U = 1.1$"
   ]
  },
  {
   "cell_type": "code",
   "execution_count": 157,
   "id": "0864a0d3-2aad-4711-b688-8664a5953e84",
   "metadata": {},
   "outputs": [
    {
     "name": "stdout",
     "output_type": "stream",
     "text": [
      "Execution time: 143.49 seconds\n"
     ]
    }
   ],
   "source": [
    "start_time = time.time()\n",
    "#########################################\n",
    "\n",
    "params['t'] = 1.1\n",
    "driver.initialize_system(n_sites=params['L'], vacuum=Q(0), target=Q(params['N_BOSON']), hamil_init=False)\n",
    "driver.ghamil = driver.get_custom_hamiltonian(site_basis, site_ops)\n",
    "b = driver.expr_builder()\n",
    "\n",
    "# b.add_term(\"ADCB\", np.array([[i, i+1, i+1, i] for i in range(params['L']-1)]).flatten(), -params['t'])\n",
    "b.add_term(\"AD\", np.array([[i, i+1] for i in range(params['L']-1)]).flatten(), -params['t'])\n",
    "b.add_term(\"CB\", np.array([[i+1, i] for i in range(params['L']-1)]).flatten(), -params['t'])\n",
    "b.add_term(\"N\", np.array(np.arange(params['L'])), -(params['mu'] + params['u'] / 2))\n",
    "b.add_term(\"NN\", np.repeat(np.arange(params['L']), 2), params['u'] / 2)\n",
    "\n",
    "mpo = driver.get_mpo(b.finalize(adjust_order=True, fermionic_ops=\"\"), algo_type=MPOAlgorithmTypes.FastBipartite)\n",
    "mps = driver.get_random_mps(tag=\"KET\", bond_dim=50, nroots=2)\n",
    "energy = driver.dmrg(mpo, mps, n_sweeps=10, bond_dims=[50] * 4 + [100] * 4,\n",
    "    noises=[1e-4] * 4 + [1e-5] * 4 + [0], thrds=[1e-10] * 8, dav_max_iter=30, iprint=0)\n",
    "\n",
    "#########################################\n",
    "end_time = time.time()\n",
    "execution_time = end_time - start_time\n",
    "print(f\"Execution time: {execution_time:.2f} seconds\")"
   ]
  },
  {
   "cell_type": "code",
   "execution_count": 158,
   "id": "1ad6ac8b-a3bf-4af4-bee5-af985d26d090",
   "metadata": {},
   "outputs": [],
   "source": [
    "kets = [driver.split_mps(mps, ir, tag=\"KET-%d\" % ir) for ir in range(mps.nroots)]"
   ]
  },
  {
   "cell_type": "code",
   "execution_count": null,
   "id": "0d84cfe5-ceb5-42b0-8e4e-629c9bf40c41",
   "metadata": {},
   "outputs": [],
   "source": []
  },
  {
   "cell_type": "markdown",
   "id": "e465a524-ef06-480a-8b3b-8f3bddc4c2ce",
   "metadata": {},
   "source": [
    "##### First Excitation Gap"
   ]
  },
  {
   "cell_type": "code",
   "execution_count": null,
   "id": "33a92cbf-b242-463a-a3df-aee505d8c9ad",
   "metadata": {},
   "outputs": [],
   "source": [
    "gndenergy = pd.DataFrame({'gndenergy':[np.power(np.abs(energy[1]-energy[0]),2)]})\n",
    "filename = generate_file_name_hdf5(params)\n",
    "## Complete path\n",
    "filename1 = generating_complete_path_hdf5(filename)\n",
    "key = generate_unique_key(params, gndstate_energy = True)\n",
    "## Use the code below to append data to an existing file/folder directory\n",
    "append_data_to_hdf5(params, gndenergy, filename1, key = key)"
   ]
  },
  {
   "cell_type": "code",
   "execution_count": null,
   "id": "c3fa7a7f-f622-4ff4-a228-1038d68a7745",
   "metadata": {},
   "outputs": [],
   "source": [
    "## Testing\n",
    "gndenergy = load_matrix_from_hdf5(filename1, key = key)\n",
    "print(gndenergy[0][0])"
   ]
  },
  {
   "cell_type": "markdown",
   "id": "973d9d83-d38a-4bbb-9f44-baf3e4536ef2",
   "metadata": {},
   "source": [
    "##### Entropy"
   ]
  },
  {
   "cell_type": "code",
   "execution_count": null,
   "id": "2e88b36d-6b0a-41bf-98bd-dbebba4ba983",
   "metadata": {},
   "outputs": [],
   "source": [
    "entropy1 = driver.get_bipartite_entanglement(kets[0])"
   ]
  },
  {
   "cell_type": "markdown",
   "id": "db4c3774-11c7-4064-92b9-8244c991dfd5",
   "metadata": {},
   "source": [
    "###### HDF5 Files"
   ]
  },
  {
   "cell_type": "code",
   "execution_count": null,
   "id": "d13ce716-c015-4ba3-9ae7-55f9b1256857",
   "metadata": {},
   "outputs": [],
   "source": [
    "entropy = pd.DataFrame(entropy1)\n",
    "filename = generate_file_name_hdf5(params, entropy = True)\n",
    "## Complete path of the location of the file\n",
    "filename1 = generating_complete_path_hdf5(filename, entropy = True)\n",
    "create_folders_and_store_data(params, entropy, filename, key = 'entropy', entropy = True)"
   ]
  },
  {
   "cell_type": "markdown",
   "id": "9502edf8-2b04-4473-8e0e-8672d292e772",
   "metadata": {},
   "source": [
    "##### Correlation Matrix"
   ]
  },
  {
   "cell_type": "code",
   "execution_count": null,
   "id": "0022fe19-9f57-48cb-b819-c824d7df2502",
   "metadata": {},
   "outputs": [],
   "source": [
    "hop_exp_val = np.zeros((params['L'], params['L']), dtype=complex)\n",
    "for i in range(params['L']):\n",
    "    for j in range(i, params['L']):\n",
    "        b = driver.expr_builder()\n",
    "        b.add_term(\"CD\", np.array([i, j]), 1)  # Hopping operator between i and j            \n",
    "        hop_mpo = driver.get_mpo(b.finalize(adjust_order=True, fermionic_ops=\"\"), algo_type=MPOAlgorithmTypes.FastBipartite)\n",
    "        hop_exp_val[i, j] = driver.expectation(kets[0], hop_mpo, kets[0])\n",
    "        hop_exp_val[j, i] = np.conjugate(hop_exp_val[i, j])"
   ]
  },
  {
   "cell_type": "code",
   "execution_count": null,
   "id": "ebaeabce-9278-408c-86c9-e6df5e5841f9",
   "metadata": {},
   "outputs": [],
   "source": [
    "correl_matrix = pd.DataFrame(hop_exp_val)\n",
    "filename = generate_file_name_hdf5(params, Correlation = True)\n",
    "## Complete path of the location of the file\n",
    "filename1 = generating_complete_path_hdf5(filename, Correlation = True)\n",
    "## Use the code below to append data to an existing file/folder directory\n",
    "# append_data_to_hdf5(params, correl_matrix, filename1, key = 'correl_matrix', Correlation = True)\n",
    "\n",
    "## Use this code to write data to a new file irrespective of the presence of subholder based on 'L'.\n",
    "create_folders_and_store_data(params, correl_matrix, filename1, key = 'correl_matrix', Correlation = True)"
   ]
  },
  {
   "cell_type": "markdown",
   "id": "8cc45fe5-43ac-4d7e-b42e-99eea1cc9e01",
   "metadata": {},
   "source": [
    "##### NumberOperator and Its Standard Deviation"
   ]
  },
  {
   "cell_type": "code",
   "execution_count": null,
   "id": "c78ba220-2013-498c-98f3-767e27e3e583",
   "metadata": {},
   "outputs": [],
   "source": [
    "std_val, std_nOp = 0, 0\n",
    "_exp_nop = []\n",
    "for i in range(params['L']):\n",
    "    b = driver.expr_builder()\n",
    "    b.add_term(\"N\", np.array([i]), 1)\n",
    "## Calculate <N>   \n",
    "    nOp_mpo = driver.get_mpo(b.finalize(adjust_order=True, fermionic_ops=\"\"), algo_type=MPOAlgorithmTypes.FastBipartite)\n",
    "    impo = driver.get_identity_mpo()\n",
    "\n",
    "    nOp_exp = driver.expectation(kets[0], nOp_mpo, kets[0]) / driver.expectation(kets[0], impo, kets[0])\n",
    "    _exp_nop.append(nOp_exp)\n",
    "## Calculate <N^2>\n",
    "    b = driver.expr_builder()\n",
    "    b.add_term(\"NN\", np.repeat([i], 2), 1)\n",
    "    \n",
    "    NN_mpo = driver.get_mpo(b.finalize(adjust_order=True, fermionic_ops=\"\"), algo_type=MPOAlgorithmTypes.FastBipartite)\n",
    "    NN_exp = driver.expectation(kets[0], NN_mpo, kets[0]) / driver.expectation(kets[0], impo, kets[0]) \n",
    "## Calculate Standard Deviation\n",
    "    std_val+=np.sqrt(NN_exp - (nOp_exp*nOp_exp))        \n",
    "std_nOp = (std_val/params['L'])"
   ]
  },
  {
   "cell_type": "markdown",
   "id": "f9111ed9-153f-4ea9-9f18-f3d9c464c332",
   "metadata": {},
   "source": [
    "###### Expectation value of Number Operator on each site"
   ]
  },
  {
   "cell_type": "code",
   "execution_count": null,
   "id": "a25efb45-5d37-4572-81aa-8b5743e52422",
   "metadata": {},
   "outputs": [],
   "source": [
    "density_nop = pd.DataFrame(_exp_nop)\n",
    "filename = generate_file_name_hdf5(params, expnop = True)\n",
    "## Complete path of the location of the file\n",
    "filename1 = generating_complete_path_hdf5(filename, expnop = True)\n",
    "key = generate_unique_key(params, exp_nOp = True)\n",
    "create_folders_and_store_data(params, density_nop, filename, key = key, expnop = True)"
   ]
  },
  {
   "cell_type": "code",
   "execution_count": null,
   "id": "d5e052d6-56f9-4510-acbb-e302fd256dfc",
   "metadata": {},
   "outputs": [],
   "source": [
    "# key = generate_unique_key(params, exp_nOp = True)\n",
    "# density_nop = load_matrix_from_hdf5(filename1, key = key)\n",
    "# print(density_nop)"
   ]
  },
  {
   "cell_type": "markdown",
   "id": "091f7019-dd98-40dc-9b3c-61a326263e8c",
   "metadata": {},
   "source": [
    "###### Standard Deviation"
   ]
  },
  {
   "cell_type": "code",
   "execution_count": null,
   "id": "90a2501c-1ea8-41dd-9978-7ae8f6d11f95",
   "metadata": {},
   "outputs": [],
   "source": [
    "std_deviation_numberOp = pd.DataFrame({'std_nOp':[std_nOp]})\n",
    "filename = generate_file_name_hdf5(params)\n",
    "filename1 = generating_complete_path_hdf5(filename)\n",
    "key = generate_unique_key(params, std_deviation_numberOp = True)\n",
    "\n",
    "## Use the code below to append data to an existing file/folder directory\n",
    "append_data_to_hdf5(params, std_deviation_numberOp, filename1, key = key)\n",
    "\n",
    "####### Use this only for the first time when taking data for a theta #######\n",
    "## Use this code to write data to a new file irrespective of the presence of subholder based on 'L'.\n",
    "# create_folders_and_store_data(params, std_deviation_numberOp, filename, key = key)"
   ]
  },
  {
   "cell_type": "code",
   "execution_count": null,
   "id": "359f5e81-4892-43fa-af26-49015f1f314b",
   "metadata": {},
   "outputs": [],
   "source": [
    "key = generate_unique_key(params, std_deviation_numberOp = True)\n",
    "std_nop = load_matrix_from_hdf5(filename1, key = key)\n",
    "print(std_nop[0][0])"
   ]
  },
  {
   "cell_type": "code",
   "execution_count": null,
   "id": "1ae526cb-0720-4fef-b7bf-d3cc8e0af7c7",
   "metadata": {},
   "outputs": [],
   "source": [
    "with pd.HDFStore(filename1, 'r') as hdf:\n",
    "    # List all keys in the file\n",
    "    keys = hdf.keys()\n",
    "    print(\"Keys in HDF5 file:\")\n",
    "    for key in keys:\n",
    "        print(key)"
   ]
  },
  {
   "cell_type": "code",
   "execution_count": null,
   "id": "b4d7b7ba-318a-47d9-93a2-ce077002e85b",
   "metadata": {},
   "outputs": [],
   "source": []
  },
  {
   "cell_type": "markdown",
   "id": "d07748ba-c2a2-4047-bab5-30ca66bec080",
   "metadata": {},
   "source": [
    "#### $U = 1.2$"
   ]
  },
  {
   "cell_type": "code",
   "execution_count": 167,
   "id": "b9fcb798-66d3-4c7a-a8a4-598236fce087",
   "metadata": {},
   "outputs": [
    {
     "name": "stdout",
     "output_type": "stream",
     "text": [
      "Execution time: 130.75 seconds\n"
     ]
    }
   ],
   "source": [
    "start_time = time.time()\n",
    "#########################################\n",
    "\n",
    "params['t'] = 1.2\n",
    "driver.initialize_system(n_sites=params['L'], vacuum=Q(0), target=Q(params['N_BOSON']), hamil_init=False)\n",
    "driver.ghamil = driver.get_custom_hamiltonian(site_basis, site_ops)\n",
    "b = driver.expr_builder()\n",
    "\n",
    "# b.add_term(\"ADCB\", np.array([[i, i+1, i+1, i] for i in range(params['L']-1)]).flatten(), -params['t'])\n",
    "b.add_term(\"AD\", np.array([[i, i+1] for i in range(params['L']-1)]).flatten(), -params['t'])\n",
    "b.add_term(\"CB\", np.array([[i+1, i] for i in range(params['L']-1)]).flatten(), -params['t'])\n",
    "b.add_term(\"N\", np.array(np.arange(params['L'])), -(params['mu'] + params['u'] / 2))\n",
    "b.add_term(\"NN\", np.repeat(np.arange(params['L']), 2), params['u'] / 2)\n",
    "\n",
    "mpo = driver.get_mpo(b.finalize(adjust_order=True, fermionic_ops=\"\"), algo_type=MPOAlgorithmTypes.FastBipartite)\n",
    "mps = driver.get_random_mps(tag=\"KET\", bond_dim=50, nroots=2)\n",
    "energy = driver.dmrg(mpo, mps, n_sweeps=10, bond_dims=[50] * 4 + [100] * 4,\n",
    "    noises=[1e-4] * 4 + [1e-5] * 4 + [0], thrds=[1e-10] * 8, dav_max_iter=30, iprint=0)\n",
    "\n",
    "#########################################\n",
    "end_time = time.time()\n",
    "execution_time = end_time - start_time\n",
    "print(f\"Execution time: {execution_time:.2f} seconds\")"
   ]
  },
  {
   "cell_type": "code",
   "execution_count": 168,
   "id": "5c5e526d-96aa-4d6a-86d1-daaefec9089e",
   "metadata": {},
   "outputs": [],
   "source": [
    "kets = [driver.split_mps(mps, ir, tag=\"KET-%d\" % ir) for ir in range(mps.nroots)]"
   ]
  },
  {
   "cell_type": "markdown",
   "id": "7ba24807-3ebe-4a96-a221-e2a1af250640",
   "metadata": {},
   "source": [
    "##### First Excitation Gap"
   ]
  },
  {
   "cell_type": "code",
   "execution_count": 172,
   "id": "50f952e1-f05b-4c2e-838c-a3257682e031",
   "metadata": {},
   "outputs": [
    {
     "name": "stdout",
     "output_type": "stream",
     "text": [
      "gndenergy_U1_0e0_t1_2e0\n"
     ]
    }
   ],
   "source": [
    "key = generate_unique_key(params, gndstate_energy = True)\n",
    "print(key)"
   ]
  },
  {
   "cell_type": "code",
   "execution_count": 173,
   "id": "e4cc02b7-0da8-446c-bd61-8fcfc2778401",
   "metadata": {},
   "outputs": [
    {
     "name": "stdout",
     "output_type": "stream",
     "text": [
      "gndenergy_U1_0e0_t1_2e0\n"
     ]
    }
   ],
   "source": [
    "gndenergy = pd.DataFrame({'gndenergy':[np.power(np.abs(energy[1]-energy[0]),2)]})\n",
    "filename = generate_file_name_hdf5(params)\n",
    "# print(filename)\n",
    "filename1 = generating_complete_path_hdf5(filename)\n",
    "# print(filename1)\n",
    "key = generate_unique_key(params, gndstate_energy = True)\n",
    "print(key)\n",
    "\n",
    "## Use the code below to append data to an existing file/folder directory\n",
    "append_data_to_hdf5(params, gndenergy, filename1, key = key)\n"
   ]
  },
  {
   "cell_type": "code",
   "execution_count": 174,
   "id": "3636c1f7-7694-49bb-abb0-24f511ea34db",
   "metadata": {},
   "outputs": [
    {
     "name": "stdout",
     "output_type": "stream",
     "text": [
      "0.06264391408627396\n"
     ]
    }
   ],
   "source": [
    "gndenergy = load_matrix_from_hdf5(filename1, key = key)\n",
    "print(gndenergy[0][0])"
   ]
  },
  {
   "cell_type": "code",
   "execution_count": 175,
   "id": "4dd21f5f-1479-407c-8580-2efe0fd534ef",
   "metadata": {},
   "outputs": [
    {
     "name": "stdout",
     "output_type": "stream",
     "text": [
      "Keys in HDF5 file:\n",
      "/gndenergy_U1_0e0_t1_2e0\n",
      "/std_deviation_numberOp_U1_0e0_t1_2e0\n"
     ]
    }
   ],
   "source": [
    "with pd.HDFStore(filename1, 'r') as hdf:\n",
    "    # List all keys in the file\n",
    "    keys = hdf.keys()\n",
    "    print(\"Keys in HDF5 file:\")\n",
    "    for key in keys:\n",
    "        print(key)"
   ]
  },
  {
   "cell_type": "markdown",
   "id": "3affa4e4-1a23-470d-9a27-cb4cb9e86acc",
   "metadata": {},
   "source": [
    "##### Entropy"
   ]
  },
  {
   "cell_type": "code",
   "execution_count": 62,
   "id": "c17503c5-fbc8-4c24-b578-d85784cba4b0",
   "metadata": {},
   "outputs": [],
   "source": [
    "entropy1 = driver.get_bipartite_entanglement(kets[0])\n",
    "update_csv_column(\"theta0_AHMDmrg_data.csv\", 'Entropy', 't', params['t'], str(entropy1))"
   ]
  },
  {
   "cell_type": "code",
   "execution_count": null,
   "id": "c8200746-619e-4a43-bd4f-4b22d6ea0717",
   "metadata": {},
   "outputs": [],
   "source": [
    "#### Data Storing\n",
    "data_t1_2_theta0 = [[params['L'], params['t'], params['u'], params['N_BOSON'], params['NB_MAX'], energy[0], mps, energy[1], entropy]]\n",
    "add_data_to_csv(\"theta0_AHMDmrg_data.csv\", data_t1_2_theta0)"
   ]
  },
  {
   "cell_type": "markdown",
   "id": "fb9a4843-65e2-4161-8622-48edfd8461d2",
   "metadata": {},
   "source": [
    "##### NumberOperator and Its Standard Deviation"
   ]
  },
  {
   "cell_type": "code",
   "execution_count": 169,
   "id": "0f364dd6-be53-41e3-ba7d-a852423c8be8",
   "metadata": {},
   "outputs": [],
   "source": [
    "std_val, std_nOp = 0, 0\n",
    "_exp_nop = []\n",
    "for i in range(params['L']):\n",
    "    b = driver.expr_builder()\n",
    "    b.add_term(\"N\", np.array([i]), 1)\n",
    "## Calculate <N>   \n",
    "    nOp_mpo = driver.get_mpo(b.finalize(adjust_order=True, fermionic_ops=\"\"), algo_type=MPOAlgorithmTypes.FastBipartite)\n",
    "    impo = driver.get_identity_mpo()\n",
    "\n",
    "    nOp_exp = driver.expectation(kets[0], nOp_mpo, kets[0]) / driver.expectation(kets[0], impo, kets[0])\n",
    "    _exp_nop.append(nOp_exp)\n",
    "## Calculate <N^2>\n",
    "    b = driver.expr_builder()\n",
    "    b.add_term(\"NN\", np.repeat([i], 2), 1)\n",
    "    \n",
    "    NN_mpo = driver.get_mpo(b.finalize(adjust_order=True, fermionic_ops=\"\"), algo_type=MPOAlgorithmTypes.FastBipartite)\n",
    "    NN_exp = driver.expectation(kets[0], NN_mpo, kets[0]) / driver.expectation(kets[0], impo, kets[0]) \n",
    "## Calculate Standard Deviation\n",
    "    std_val+=np.sqrt(NN_exp - (nOp_exp*nOp_exp))        \n",
    "std_nOp = (std_val/params['L'])"
   ]
  },
  {
   "cell_type": "markdown",
   "id": "7cd7e74d-0979-4a18-8adc-a43dcf5e0dc2",
   "metadata": {},
   "source": [
    "###### Expectation value of Number Operator on each site"
   ]
  },
  {
   "cell_type": "code",
   "execution_count": 170,
   "id": "5607f44d-5a70-4fa8-ab95-cbedfba6d605",
   "metadata": {},
   "outputs": [],
   "source": [
    "density_nop = pd.DataFrame(_exp_nop)\n",
    "filename = generate_file_name_hdf5(params, expnop = True)\n",
    "## Complete path of the location of the file\n",
    "filename1 = generating_complete_path_hdf5(filename, expnop = True)\n",
    "key = generate_unique_key(params, exp_nOp = True)\n",
    "create_folders_and_store_data(params, density_nop, filename, key = key, expnop = True)"
   ]
  },
  {
   "cell_type": "markdown",
   "id": "9866b3c9-082b-494b-a080-bf0a4f47f852",
   "metadata": {},
   "source": [
    "###### Standard Deviation"
   ]
  },
  {
   "cell_type": "code",
   "execution_count": 171,
   "id": "e025837e-556d-4be9-9028-2b47ebe4c80b",
   "metadata": {},
   "outputs": [],
   "source": [
    "std_deviation_numberOp = pd.DataFrame({'std_nOp':[std_nOp]})\n",
    "filename = generate_file_name_hdf5(params)\n",
    "filename1 = generating_complete_path_hdf5(filename)\n",
    "key = generate_unique_key(params, std_deviation_numberOp = True)\n",
    "\n",
    "## Use the code below to append data to an existing file/folder directory\n",
    "# append_data_to_hdf5(params, std_deviation_numberOp, filename1, key = key)\n",
    "\n",
    "####### Use this only for the first time when taking data for a theta #######\n",
    "## Use this code to write data to a new file irrespective of the presence of subholder based on 'L'.\n",
    "create_folders_and_store_data(params, std_deviation_numberOp, filename, key = key)"
   ]
  },
  {
   "cell_type": "markdown",
   "id": "18a980be-3c98-436f-af10-a5faf5173cf9",
   "metadata": {},
   "source": [
    "##### Correlation Matrix and Rate"
   ]
  },
  {
   "cell_type": "code",
   "execution_count": 418,
   "id": "22226a2f-f507-4f81-8db8-aa07b2ff5380",
   "metadata": {},
   "outputs": [],
   "source": [
    "hop_exp_val = np.zeros((params['L'], params['L']), dtype=complex)\n",
    "for i in range(params['L']):\n",
    "    for j in range(i, params['L']):\n",
    "        b = driver.expr_builder()\n",
    "        b.add_term(\"CD\", np.array([i, j]), 1)  # Hopping operator between i and j            \n",
    "        hop_mpo = driver.get_mpo(b.finalize(adjust_order=True, fermionic_ops=\"\"), algo_type=MPOAlgorithmTypes.FastBipartite)\n",
    "        hop_exp_val[i, j] = driver.expectation(kets[0], hop_mpo, kets[0])\n",
    "        hop_exp_val[j, i] = np.conjugate(hop_exp_val[i, j])"
   ]
  },
  {
   "cell_type": "code",
   "execution_count": 419,
   "id": "103c67ee-5748-49c5-b76e-1236b2370ebc",
   "metadata": {},
   "outputs": [],
   "source": [
    "correl_matrix = pd.DataFrame(hop_exp_val)\n",
    "filename = generate_file_name_hdf5(params, Correlation = True)\n",
    "create_folders_and_store_data(params, correl_matrix, filename, key = 'correl_matrix')"
   ]
  },
  {
   "cell_type": "markdown",
   "id": "40f6911b-8624-48ad-9636-3059d040f72e",
   "metadata": {},
   "source": [
    "#### $U = 1.3$"
   ]
  },
  {
   "cell_type": "code",
   "execution_count": 176,
   "id": "de292ccd-10da-4435-b9fb-b10385d82eba",
   "metadata": {},
   "outputs": [
    {
     "name": "stdout",
     "output_type": "stream",
     "text": [
      "Execution time: 145.98 seconds\n"
     ]
    }
   ],
   "source": [
    "start_time = time.time()\n",
    "#########################################\n",
    "\n",
    "\n",
    "params['u'] = 1.3\n",
    "driver.initialize_system(n_sites=params['L'], vacuum=Q(0), target=Q(params['N_BOSON']), hamil_init=False)\n",
    "driver.ghamil = driver.get_custom_hamiltonian(site_basis, site_ops)\n",
    "b = driver.expr_builder()\n",
    "\n",
    "# b.add_term(\"ADCB\", np.array([[i, i+1, i+1, i] for i in range(params['L']-1)]).flatten(), -params['t'])\n",
    "b.add_term(\"AD\", np.array([[i, i+1] for i in range(params['L']-1)]).flatten(), -params['t'])\n",
    "b.add_term(\"CB\", np.array([[i+1, i] for i in range(params['L']-1)]).flatten(), -params['t'])\n",
    "b.add_term(\"N\", np.array(np.arange(params['L'])), -(params['mu'] + params['u'] / 2))\n",
    "b.add_term(\"NN\", np.repeat(np.arange(params['L']), 2), params['u'] / 2)\n",
    "\n",
    "mpo = driver.get_mpo(b.finalize(adjust_order=True, fermionic_ops=\"\"), algo_type=MPOAlgorithmTypes.FastBipartite)\n",
    "mps = driver.get_random_mps(tag=\"KET\", bond_dim=50, nroots=2)\n",
    "energy = driver.dmrg(mpo, mps, n_sweeps=10, bond_dims=[50] * 4 + [100] * 4,\n",
    "    noises=[1e-4] * 4 + [1e-5] * 4 + [0], thrds=[1e-10] * 8, dav_max_iter=30, iprint=0)\n",
    "\n",
    "#########################################\n",
    "end_time = time.time()\n",
    "execution_time = end_time - start_time\n",
    "print(f\"Execution time: {execution_time:.2f} seconds\")"
   ]
  },
  {
   "cell_type": "code",
   "execution_count": 177,
   "id": "c38ac61e-3063-4628-a87f-c56e6e1f334e",
   "metadata": {},
   "outputs": [],
   "source": [
    "kets = [driver.split_mps(mps, ir, tag=\"KET-%d\" % ir) for ir in range(mps.nroots)]"
   ]
  },
  {
   "cell_type": "code",
   "execution_count": null,
   "id": "258032a4-0716-43f6-a814-9c229150b3b7",
   "metadata": {},
   "outputs": [],
   "source": []
  },
  {
   "cell_type": "markdown",
   "id": "5766aec6-1cfb-416d-9e14-785db6d82b58",
   "metadata": {},
   "source": [
    "##### First Excitation Gap"
   ]
  },
  {
   "cell_type": "code",
   "execution_count": 172,
   "id": "bf6880fd-48d6-42a3-9798-8186190b9ffa",
   "metadata": {},
   "outputs": [
    {
     "name": "stdout",
     "output_type": "stream",
     "text": [
      "gndenergy_U1_0e0_t1_2e0\n"
     ]
    }
   ],
   "source": [
    "key = generate_unique_key(params, gndstate_energy = True)\n",
    "print(key)"
   ]
  },
  {
   "cell_type": "code",
   "execution_count": 173,
   "id": "b7699186-ef12-4d0a-ad79-57956f7a270b",
   "metadata": {},
   "outputs": [
    {
     "name": "stdout",
     "output_type": "stream",
     "text": [
      "gndenergy_U1_0e0_t1_2e0\n"
     ]
    }
   ],
   "source": [
    "gndenergy = pd.DataFrame({'gndenergy':[np.power(np.abs(energy[1]-energy[0]),2)]})\n",
    "filename = generate_file_name_hdf5(params)\n",
    "# print(filename)\n",
    "filename1 = generating_complete_path_hdf5(filename)\n",
    "# print(filename1)\n",
    "key = generate_unique_key(params, gndstate_energy = True)\n",
    "print(key)\n",
    "\n",
    "## Use the code below to append data to an existing file/folder directory\n",
    "append_data_to_hdf5(params, gndenergy, filename1, key = key)\n"
   ]
  },
  {
   "cell_type": "code",
   "execution_count": 174,
   "id": "afc72651-23f2-498f-a459-f083ccf994aa",
   "metadata": {},
   "outputs": [
    {
     "name": "stdout",
     "output_type": "stream",
     "text": [
      "0.06264391408627396\n"
     ]
    }
   ],
   "source": [
    "gndenergy = load_matrix_from_hdf5(filename1, key = key)\n",
    "print(gndenergy[0][0])"
   ]
  },
  {
   "cell_type": "code",
   "execution_count": 175,
   "id": "7189e02a-2b09-406c-9945-97316ce08619",
   "metadata": {},
   "outputs": [
    {
     "name": "stdout",
     "output_type": "stream",
     "text": [
      "Keys in HDF5 file:\n",
      "/gndenergy_U1_0e0_t1_2e0\n",
      "/std_deviation_numberOp_U1_0e0_t1_2e0\n"
     ]
    }
   ],
   "source": [
    "with pd.HDFStore(filename1, 'r') as hdf:\n",
    "    # List all keys in the file\n",
    "    keys = hdf.keys()\n",
    "    print(\"Keys in HDF5 file:\")\n",
    "    for key in keys:\n",
    "        print(key)"
   ]
  },
  {
   "cell_type": "markdown",
   "id": "088b8a7e-518d-41e5-9ee2-1898868d5a05",
   "metadata": {},
   "source": [
    "##### Entropy"
   ]
  },
  {
   "cell_type": "code",
   "execution_count": 62,
   "id": "bb09a647-ec43-45da-8c81-eb7947317cc2",
   "metadata": {},
   "outputs": [],
   "source": [
    "entropy1 = driver.get_bipartite_entanglement(kets[0])\n",
    "update_csv_column(\"theta0_AHMDmrg_data.csv\", 'Entropy', 't', params['t'], str(entropy1))"
   ]
  },
  {
   "cell_type": "code",
   "execution_count": null,
   "id": "3dec9370-f93c-44fa-bc66-12daa48afcc2",
   "metadata": {},
   "outputs": [],
   "source": [
    "#### Data Storing\n",
    "data_t1_2_theta0 = [[params['L'], params['t'], params['u'], params['N_BOSON'], params['NB_MAX'], energy[0], mps, energy[1], entropy]]\n",
    "add_data_to_csv(\"theta0_AHMDmrg_data.csv\", data_t1_2_theta0)"
   ]
  },
  {
   "cell_type": "markdown",
   "id": "a08a016c-6859-43fc-9b12-263acbae5c22",
   "metadata": {},
   "source": [
    "##### NumberOperator and Its Standard Deviation"
   ]
  },
  {
   "cell_type": "code",
   "execution_count": 169,
   "id": "f0346075-a025-47d7-89e2-dc20ba31565d",
   "metadata": {},
   "outputs": [],
   "source": [
    "std_val, std_nOp = 0, 0\n",
    "_exp_nop = []\n",
    "for i in range(params['L']):\n",
    "    b = driver.expr_builder()\n",
    "    b.add_term(\"N\", np.array([i]), 1)\n",
    "## Calculate <N>   \n",
    "    nOp_mpo = driver.get_mpo(b.finalize(adjust_order=True, fermionic_ops=\"\"), algo_type=MPOAlgorithmTypes.FastBipartite)\n",
    "    impo = driver.get_identity_mpo()\n",
    "\n",
    "    nOp_exp = driver.expectation(kets[0], nOp_mpo, kets[0]) / driver.expectation(kets[0], impo, kets[0])\n",
    "    _exp_nop.append(nOp_exp)\n",
    "## Calculate <N^2>\n",
    "    b = driver.expr_builder()\n",
    "    b.add_term(\"NN\", np.repeat([i], 2), 1)\n",
    "    \n",
    "    NN_mpo = driver.get_mpo(b.finalize(adjust_order=True, fermionic_ops=\"\"), algo_type=MPOAlgorithmTypes.FastBipartite)\n",
    "    NN_exp = driver.expectation(kets[0], NN_mpo, kets[0]) / driver.expectation(kets[0], impo, kets[0]) \n",
    "## Calculate Standard Deviation\n",
    "    std_val+=np.sqrt(NN_exp - (nOp_exp*nOp_exp))        \n",
    "std_nOp = (std_val/params['L'])"
   ]
  },
  {
   "cell_type": "markdown",
   "id": "6d97c67b-c34b-44b5-bb3d-1b289bd7d532",
   "metadata": {},
   "source": [
    "###### Expectation value of Number Operator on each site"
   ]
  },
  {
   "cell_type": "code",
   "execution_count": 170,
   "id": "891a6c2b-a44b-4410-be93-a227aa49a8ba",
   "metadata": {},
   "outputs": [],
   "source": [
    "density_nop = pd.DataFrame(_exp_nop)\n",
    "filename = generate_file_name_hdf5(params, expnop = True)\n",
    "## Complete path of the location of the file\n",
    "filename1 = generating_complete_path_hdf5(filename, expnop = True)\n",
    "key = generate_unique_key(params, exp_nOp = True)\n",
    "create_folders_and_store_data(params, density_nop, filename, key = key, expnop = True)"
   ]
  },
  {
   "cell_type": "markdown",
   "id": "f7d452a1-cccf-40d8-94a9-4e1c886565d0",
   "metadata": {},
   "source": [
    "###### Standard Deviation"
   ]
  },
  {
   "cell_type": "code",
   "execution_count": 171,
   "id": "0d488e9e-8de9-49c5-b4fd-632db07632fa",
   "metadata": {},
   "outputs": [],
   "source": [
    "std_deviation_numberOp = pd.DataFrame({'std_nOp':[std_nOp]})\n",
    "filename = generate_file_name_hdf5(params)\n",
    "filename1 = generating_complete_path_hdf5(filename)\n",
    "key = generate_unique_key(params, std_deviation_numberOp = True)\n",
    "\n",
    "## Use the code below to append data to an existing file/folder directory\n",
    "# append_data_to_hdf5(params, std_deviation_numberOp, filename1, key = key)\n",
    "\n",
    "####### Use this only for the first time when taking data for a theta #######\n",
    "## Use this code to write data to a new file irrespective of the presence of subholder based on 'L'.\n",
    "create_folders_and_store_data(params, std_deviation_numberOp, filename, key = key)"
   ]
  },
  {
   "cell_type": "markdown",
   "id": "2dc6c68b-c62d-48a1-a26f-8bd4d218cf95",
   "metadata": {},
   "source": [
    "##### Correlation Matrix and Rate"
   ]
  },
  {
   "cell_type": "code",
   "execution_count": 418,
   "id": "9e3e47a0-b40f-4e99-b0f1-2882c84f5243",
   "metadata": {},
   "outputs": [],
   "source": [
    "hop_exp_val = np.zeros((params['L'], params['L']), dtype=complex)\n",
    "for i in range(params['L']):\n",
    "    for j in range(i, params['L']):\n",
    "        b = driver.expr_builder()\n",
    "        b.add_term(\"CD\", np.array([i, j]), 1)  # Hopping operator between i and j            \n",
    "        hop_mpo = driver.get_mpo(b.finalize(adjust_order=True, fermionic_ops=\"\"), algo_type=MPOAlgorithmTypes.FastBipartite)\n",
    "        hop_exp_val[i, j] = driver.expectation(kets[0], hop_mpo, kets[0])\n",
    "        hop_exp_val[j, i] = np.conjugate(hop_exp_val[i, j])"
   ]
  },
  {
   "cell_type": "code",
   "execution_count": 419,
   "id": "cc87dc08-b101-4f1a-a7dc-96d4855fdf8c",
   "metadata": {},
   "outputs": [],
   "source": [
    "correl_matrix = pd.DataFrame(hop_exp_val)\n",
    "filename = generate_file_name_hdf5(params, Correlation = True)\n",
    "create_folders_and_store_data(params, correl_matrix, filename, key = 'correl_matrix')"
   ]
  },
  {
   "cell_type": "code",
   "execution_count": null,
   "id": "78c145c3-8db6-4625-a661-ab492802ca59",
   "metadata": {},
   "outputs": [],
   "source": []
  },
  {
   "cell_type": "markdown",
   "id": "71562ede-ab8b-464c-ba4e-3fc52119dc31",
   "metadata": {},
   "source": [
    "#### $U = 1.4$"
   ]
  },
  {
   "cell_type": "code",
   "execution_count": 187,
   "id": "62490d6e-20ad-4ee8-9ea8-31b7a28637b5",
   "metadata": {},
   "outputs": [
    {
     "name": "stdout",
     "output_type": "stream",
     "text": [
      "Execution time: 101.90 seconds\n"
     ]
    }
   ],
   "source": [
    "start_time = time.time()\n",
    "#########################################\n",
    "\n",
    "params['u'] = 1.4\n",
    "driver.initialize_system(n_sites=params['L'], vacuum=Q(0), target=Q(params['N_BOSON']), hamil_init=False)\n",
    "driver.ghamil = driver.get_custom_hamiltonian(site_basis, site_ops)\n",
    "b = driver.expr_builder()\n",
    "\n",
    "# b.add_term(\"ADCB\", np.array([[i, i+1, i+1, i] for i in range(params['L']-1)]).flatten(), -params['t'])\n",
    "b.add_term(\"AD\", np.array([[i, i+1] for i in range(params['L']-1)]).flatten(), -params['t'])\n",
    "b.add_term(\"CB\", np.array([[i+1, i] for i in range(params['L']-1)]).flatten(), -params['t'])\n",
    "b.add_term(\"N\", np.array(np.arange(params['L'])), -(params['mu'] + params['u'] / 2))\n",
    "b.add_term(\"NN\", np.repeat(np.arange(params['L']), 2), params['u'] / 2)\n",
    "\n",
    "mpo = driver.get_mpo(b.finalize(adjust_order=True, fermionic_ops=\"\"), algo_type=MPOAlgorithmTypes.FastBipartite)\n",
    "mps = driver.get_random_mps(tag=\"KET\", bond_dim=50, nroots=2)\n",
    "energy = driver.dmrg(mpo, mps, n_sweeps=10, bond_dims=[50] * 4 + [100] * 4,\n",
    "    noises=[1e-4] * 4 + [1e-5] * 4 + [0], thrds=[1e-10] * 8, dav_max_iter=30, iprint=0)\n",
    "\n",
    "#########################################\n",
    "end_time = time.time()\n",
    "execution_time = end_time - start_time\n",
    "print(f\"Execution time: {execution_time:.2f} seconds\")"
   ]
  },
  {
   "cell_type": "code",
   "execution_count": 188,
   "id": "3f4508cb-e68f-4aa2-a0a4-43c89923be92",
   "metadata": {},
   "outputs": [],
   "source": [
    "kets = [driver.split_mps(mps, ir, tag=\"KET-%d\" % ir) for ir in range(mps.nroots)]"
   ]
  },
  {
   "cell_type": "code",
   "execution_count": null,
   "id": "b5ddfbe8-ba8f-44ec-b126-b96b39ca5a11",
   "metadata": {},
   "outputs": [],
   "source": []
  },
  {
   "cell_type": "markdown",
   "id": "916f211f-8f12-416b-bc6c-66cc09599e9c",
   "metadata": {},
   "source": [
    "##### First Excitation Gap"
   ]
  },
  {
   "cell_type": "code",
   "execution_count": 172,
   "id": "d33ee383-95c0-48bd-a567-8df24784f093",
   "metadata": {},
   "outputs": [
    {
     "name": "stdout",
     "output_type": "stream",
     "text": [
      "gndenergy_U1_0e0_t1_2e0\n"
     ]
    }
   ],
   "source": [
    "key = generate_unique_key(params, gndstate_energy = True)\n",
    "print(key)"
   ]
  },
  {
   "cell_type": "code",
   "execution_count": 173,
   "id": "adf104dd-ce0d-479e-9635-d1bf80db15da",
   "metadata": {},
   "outputs": [
    {
     "name": "stdout",
     "output_type": "stream",
     "text": [
      "gndenergy_U1_0e0_t1_2e0\n"
     ]
    }
   ],
   "source": [
    "gndenergy = pd.DataFrame({'gndenergy':[np.power(np.abs(energy[1]-energy[0]),2)]})\n",
    "filename = generate_file_name_hdf5(params)\n",
    "# print(filename)\n",
    "filename1 = generating_complete_path_hdf5(filename)\n",
    "# print(filename1)\n",
    "key = generate_unique_key(params, gndstate_energy = True)\n",
    "print(key)\n",
    "\n",
    "## Use the code below to append data to an existing file/folder directory\n",
    "append_data_to_hdf5(params, gndenergy, filename1, key = key)\n"
   ]
  },
  {
   "cell_type": "code",
   "execution_count": 174,
   "id": "9249a569-6e8c-4fb3-88ac-a418bef37cbb",
   "metadata": {},
   "outputs": [
    {
     "name": "stdout",
     "output_type": "stream",
     "text": [
      "0.06264391408627396\n"
     ]
    }
   ],
   "source": [
    "gndenergy = load_matrix_from_hdf5(filename1, key = key)\n",
    "print(gndenergy[0][0])"
   ]
  },
  {
   "cell_type": "code",
   "execution_count": 175,
   "id": "f381d753-387e-4c6c-8862-8b58e01f367c",
   "metadata": {},
   "outputs": [
    {
     "name": "stdout",
     "output_type": "stream",
     "text": [
      "Keys in HDF5 file:\n",
      "/gndenergy_U1_0e0_t1_2e0\n",
      "/std_deviation_numberOp_U1_0e0_t1_2e0\n"
     ]
    }
   ],
   "source": [
    "with pd.HDFStore(filename1, 'r') as hdf:\n",
    "    # List all keys in the file\n",
    "    keys = hdf.keys()\n",
    "    print(\"Keys in HDF5 file:\")\n",
    "    for key in keys:\n",
    "        print(key)"
   ]
  },
  {
   "cell_type": "markdown",
   "id": "56dfe061-294b-4284-97d1-3159fe288d18",
   "metadata": {},
   "source": [
    "##### Entropy"
   ]
  },
  {
   "cell_type": "code",
   "execution_count": 62,
   "id": "27e1debf-1374-46a2-83ac-b22ff0bf9409",
   "metadata": {},
   "outputs": [],
   "source": [
    "entropy1 = driver.get_bipartite_entanglement(kets[0])\n",
    "update_csv_column(\"theta0_AHMDmrg_data.csv\", 'Entropy', 't', params['t'], str(entropy1))"
   ]
  },
  {
   "cell_type": "code",
   "execution_count": null,
   "id": "9da9258b-e3bd-4821-85c7-daf2c777d592",
   "metadata": {},
   "outputs": [],
   "source": [
    "#### Data Storing\n",
    "data_t1_2_theta0 = [[params['L'], params['t'], params['u'], params['N_BOSON'], params['NB_MAX'], energy[0], mps, energy[1], entropy]]\n",
    "add_data_to_csv(\"theta0_AHMDmrg_data.csv\", data_t1_2_theta0)"
   ]
  },
  {
   "cell_type": "markdown",
   "id": "ffca54b4-ef8d-42c0-8b2a-4846adebd04a",
   "metadata": {},
   "source": [
    "##### NumberOperator and Its Standard Deviation"
   ]
  },
  {
   "cell_type": "code",
   "execution_count": 169,
   "id": "afdbd445-92ba-4a91-b1fc-02ca54debcfe",
   "metadata": {},
   "outputs": [],
   "source": [
    "std_val, std_nOp = 0, 0\n",
    "_exp_nop = []\n",
    "for i in range(params['L']):\n",
    "    b = driver.expr_builder()\n",
    "    b.add_term(\"N\", np.array([i]), 1)\n",
    "## Calculate <N>   \n",
    "    nOp_mpo = driver.get_mpo(b.finalize(adjust_order=True, fermionic_ops=\"\"), algo_type=MPOAlgorithmTypes.FastBipartite)\n",
    "    impo = driver.get_identity_mpo()\n",
    "\n",
    "    nOp_exp = driver.expectation(kets[0], nOp_mpo, kets[0]) / driver.expectation(kets[0], impo, kets[0])\n",
    "    _exp_nop.append(nOp_exp)\n",
    "## Calculate <N^2>\n",
    "    b = driver.expr_builder()\n",
    "    b.add_term(\"NN\", np.repeat([i], 2), 1)\n",
    "    \n",
    "    NN_mpo = driver.get_mpo(b.finalize(adjust_order=True, fermionic_ops=\"\"), algo_type=MPOAlgorithmTypes.FastBipartite)\n",
    "    NN_exp = driver.expectation(kets[0], NN_mpo, kets[0]) / driver.expectation(kets[0], impo, kets[0]) \n",
    "## Calculate Standard Deviation\n",
    "    std_val+=np.sqrt(NN_exp - (nOp_exp*nOp_exp))        \n",
    "std_nOp = (std_val/params['L'])"
   ]
  },
  {
   "cell_type": "markdown",
   "id": "e0d39ac3-4fde-4490-844f-f542381ed629",
   "metadata": {},
   "source": [
    "###### Expectation value of Number Operator on each site"
   ]
  },
  {
   "cell_type": "code",
   "execution_count": 170,
   "id": "dca2bebc-f565-4830-8e4b-083a86688130",
   "metadata": {},
   "outputs": [],
   "source": [
    "density_nop = pd.DataFrame(_exp_nop)\n",
    "filename = generate_file_name_hdf5(params, expnop = True)\n",
    "## Complete path of the location of the file\n",
    "filename1 = generating_complete_path_hdf5(filename, expnop = True)\n",
    "key = generate_unique_key(params, exp_nOp = True)\n",
    "create_folders_and_store_data(params, density_nop, filename, key = key, expnop = True)"
   ]
  },
  {
   "cell_type": "markdown",
   "id": "d57c9083-30f3-4ed4-89ce-dafa69fed722",
   "metadata": {},
   "source": [
    "###### Standard Deviation"
   ]
  },
  {
   "cell_type": "code",
   "execution_count": 171,
   "id": "e00dc5a2-caa5-4e5a-a54b-7d7f090bf2e5",
   "metadata": {},
   "outputs": [],
   "source": [
    "std_deviation_numberOp = pd.DataFrame({'std_nOp':[std_nOp]})\n",
    "filename = generate_file_name_hdf5(params)\n",
    "filename1 = generating_complete_path_hdf5(filename)\n",
    "key = generate_unique_key(params, std_deviation_numberOp = True)\n",
    "\n",
    "## Use the code below to append data to an existing file/folder directory\n",
    "# append_data_to_hdf5(params, std_deviation_numberOp, filename1, key = key)\n",
    "\n",
    "####### Use this only for the first time when taking data for a theta #######\n",
    "## Use this code to write data to a new file irrespective of the presence of subholder based on 'L'.\n",
    "create_folders_and_store_data(params, std_deviation_numberOp, filename, key = key)"
   ]
  },
  {
   "cell_type": "markdown",
   "id": "7eabfb57-8abf-44bb-8e65-da1eac56d005",
   "metadata": {},
   "source": [
    "##### Correlation Matrix and Rate"
   ]
  },
  {
   "cell_type": "code",
   "execution_count": 418,
   "id": "c638da61-0df9-4ad8-8f47-7eca8d7e772d",
   "metadata": {},
   "outputs": [],
   "source": [
    "hop_exp_val = np.zeros((params['L'], params['L']), dtype=complex)\n",
    "for i in range(params['L']):\n",
    "    for j in range(i, params['L']):\n",
    "        b = driver.expr_builder()\n",
    "        b.add_term(\"CD\", np.array([i, j]), 1)  # Hopping operator between i and j            \n",
    "        hop_mpo = driver.get_mpo(b.finalize(adjust_order=True, fermionic_ops=\"\"), algo_type=MPOAlgorithmTypes.FastBipartite)\n",
    "        hop_exp_val[i, j] = driver.expectation(kets[0], hop_mpo, kets[0])\n",
    "        hop_exp_val[j, i] = np.conjugate(hop_exp_val[i, j])"
   ]
  },
  {
   "cell_type": "code",
   "execution_count": 419,
   "id": "12c8fb1f-9103-41a8-bfa9-dd779fff6464",
   "metadata": {},
   "outputs": [],
   "source": [
    "correl_matrix = pd.DataFrame(hop_exp_val)\n",
    "filename = generate_file_name_hdf5(params, Correlation = True)\n",
    "create_folders_and_store_data(params, correl_matrix, filename, key = 'correl_matrix')"
   ]
  },
  {
   "cell_type": "code",
   "execution_count": null,
   "id": "d46957bb-e1c4-4acc-82dc-90a34b137506",
   "metadata": {},
   "outputs": [],
   "source": []
  },
  {
   "cell_type": "markdown",
   "id": "eb5c55cb-f2c5-424d-a1e0-9a79034e1f3b",
   "metadata": {},
   "source": [
    "#### $U = 1.5$"
   ]
  },
  {
   "cell_type": "code",
   "execution_count": 196,
   "id": "7e109850-fed0-4179-95a2-eb31370a7eba",
   "metadata": {},
   "outputs": [
    {
     "name": "stdout",
     "output_type": "stream",
     "text": [
      "Execution time: 106.02 seconds\n"
     ]
    }
   ],
   "source": [
    "start_time = time.time()\n",
    "#########################################\n",
    "\n",
    "params['u'] = 1.5\n",
    "driver.initialize_system(n_sites=params['L'], vacuum=Q(0), target=Q(params['N_BOSON']), hamil_init=False)\n",
    "driver.ghamil = driver.get_custom_hamiltonian(site_basis, site_ops)\n",
    "b = driver.expr_builder()\n",
    "\n",
    "# b.add_term(\"ADCB\", np.array([[i, i+1, i+1, i] for i in range(params['L']-1)]).flatten(), -params['t'])\n",
    "b.add_term(\"AD\", np.array([[i, i+1] for i in range(params['L']-1)]).flatten(), -params['t'])\n",
    "b.add_term(\"CB\", np.array([[i+1, i] for i in range(params['L']-1)]).flatten(), -params['t'])\n",
    "b.add_term(\"N\", np.array(np.arange(params['L'])), -(params['mu'] + params['u'] / 2))\n",
    "b.add_term(\"NN\", np.repeat(np.arange(params['L']), 2), params['u'] / 2)\n",
    "\n",
    "mpo = driver.get_mpo(b.finalize(adjust_order=True, fermionic_ops=\"\"), algo_type=MPOAlgorithmTypes.FastBipartite)\n",
    "mps = driver.get_random_mps(tag=\"KET\", bond_dim=50, nroots=2)\n",
    "energy = driver.dmrg(mpo, mps, n_sweeps=10, bond_dims=[50] * 4 + [100] * 4,\n",
    "    noises=[1e-4] * 4 + [1e-5] * 4 + [0], thrds=[1e-10] * 8, dav_max_iter=30, iprint=0)\n",
    "\n",
    "#########################################\n",
    "end_time = time.time()\n",
    "execution_time = end_time - start_time\n",
    "print(f\"Execution time: {execution_time:.2f} seconds\")"
   ]
  },
  {
   "cell_type": "code",
   "execution_count": 197,
   "id": "cfd03e3d-8556-4a86-b05c-fe835598b63b",
   "metadata": {},
   "outputs": [],
   "source": [
    "kets = [driver.split_mps(mps, ir, tag=\"KET-%d\" % ir) for ir in range(mps.nroots)]"
   ]
  },
  {
   "cell_type": "code",
   "execution_count": null,
   "id": "f4ed3dcc-25f4-427a-bd69-912e5912f97b",
   "metadata": {},
   "outputs": [],
   "source": []
  },
  {
   "cell_type": "markdown",
   "id": "cfac82e7-f080-4c1f-a30e-803549791598",
   "metadata": {},
   "source": [
    "##### First Excitation Gap"
   ]
  },
  {
   "cell_type": "code",
   "execution_count": 172,
   "id": "c7d95a10-f832-4778-9083-856436ac91f2",
   "metadata": {},
   "outputs": [
    {
     "name": "stdout",
     "output_type": "stream",
     "text": [
      "gndenergy_U1_0e0_t1_2e0\n"
     ]
    }
   ],
   "source": [
    "key = generate_unique_key(params, gndstate_energy = True)\n",
    "print(key)"
   ]
  },
  {
   "cell_type": "code",
   "execution_count": 173,
   "id": "e13972e8-2d74-4736-a150-1b5397b87040",
   "metadata": {},
   "outputs": [
    {
     "name": "stdout",
     "output_type": "stream",
     "text": [
      "gndenergy_U1_0e0_t1_2e0\n"
     ]
    }
   ],
   "source": [
    "gndenergy = pd.DataFrame({'gndenergy':[np.power(np.abs(energy[1]-energy[0]),2)]})\n",
    "filename = generate_file_name_hdf5(params)\n",
    "# print(filename)\n",
    "filename1 = generating_complete_path_hdf5(filename)\n",
    "# print(filename1)\n",
    "key = generate_unique_key(params, gndstate_energy = True)\n",
    "print(key)\n",
    "\n",
    "## Use the code below to append data to an existing file/folder directory\n",
    "append_data_to_hdf5(params, gndenergy, filename1, key = key)\n"
   ]
  },
  {
   "cell_type": "code",
   "execution_count": 174,
   "id": "e6145a4b-9eed-4e9b-8d3e-902dd949f364",
   "metadata": {},
   "outputs": [
    {
     "name": "stdout",
     "output_type": "stream",
     "text": [
      "0.06264391408627396\n"
     ]
    }
   ],
   "source": [
    "gndenergy = load_matrix_from_hdf5(filename1, key = key)\n",
    "print(gndenergy[0][0])"
   ]
  },
  {
   "cell_type": "code",
   "execution_count": 175,
   "id": "1738954f-4bde-445d-ad1f-fb2c790890e0",
   "metadata": {},
   "outputs": [
    {
     "name": "stdout",
     "output_type": "stream",
     "text": [
      "Keys in HDF5 file:\n",
      "/gndenergy_U1_0e0_t1_2e0\n",
      "/std_deviation_numberOp_U1_0e0_t1_2e0\n"
     ]
    }
   ],
   "source": [
    "with pd.HDFStore(filename1, 'r') as hdf:\n",
    "    # List all keys in the file\n",
    "    keys = hdf.keys()\n",
    "    print(\"Keys in HDF5 file:\")\n",
    "    for key in keys:\n",
    "        print(key)"
   ]
  },
  {
   "cell_type": "markdown",
   "id": "ef475f59-6bd7-476c-843b-252d30d894b6",
   "metadata": {},
   "source": [
    "##### Entropy"
   ]
  },
  {
   "cell_type": "code",
   "execution_count": 62,
   "id": "539b43dd-2f3f-4b95-9a67-add5526d7a3a",
   "metadata": {},
   "outputs": [],
   "source": [
    "entropy1 = driver.get_bipartite_entanglement(kets[0])\n",
    "update_csv_column(\"theta0_AHMDmrg_data.csv\", 'Entropy', 't', params['t'], str(entropy1))"
   ]
  },
  {
   "cell_type": "code",
   "execution_count": null,
   "id": "93b64bb2-2631-4dd0-adf3-2972901e1f02",
   "metadata": {},
   "outputs": [],
   "source": [
    "#### Data Storing\n",
    "data_t1_2_theta0 = [[params['L'], params['t'], params['u'], params['N_BOSON'], params['NB_MAX'], energy[0], mps, energy[1], entropy]]\n",
    "add_data_to_csv(\"theta0_AHMDmrg_data.csv\", data_t1_2_theta0)"
   ]
  },
  {
   "cell_type": "markdown",
   "id": "c583beb4-ff18-435c-9086-fe4ee9f8d5c2",
   "metadata": {},
   "source": [
    "##### NumberOperator and Its Standard Deviation"
   ]
  },
  {
   "cell_type": "code",
   "execution_count": 169,
   "id": "1c24ded2-62b6-4d91-9fd5-62b134aec665",
   "metadata": {},
   "outputs": [],
   "source": [
    "std_val, std_nOp = 0, 0\n",
    "_exp_nop = []\n",
    "for i in range(params['L']):\n",
    "    b = driver.expr_builder()\n",
    "    b.add_term(\"N\", np.array([i]), 1)\n",
    "## Calculate <N>   \n",
    "    nOp_mpo = driver.get_mpo(b.finalize(adjust_order=True, fermionic_ops=\"\"), algo_type=MPOAlgorithmTypes.FastBipartite)\n",
    "    impo = driver.get_identity_mpo()\n",
    "\n",
    "    nOp_exp = driver.expectation(kets[0], nOp_mpo, kets[0]) / driver.expectation(kets[0], impo, kets[0])\n",
    "    _exp_nop.append(nOp_exp)\n",
    "## Calculate <N^2>\n",
    "    b = driver.expr_builder()\n",
    "    b.add_term(\"NN\", np.repeat([i], 2), 1)\n",
    "    \n",
    "    NN_mpo = driver.get_mpo(b.finalize(adjust_order=True, fermionic_ops=\"\"), algo_type=MPOAlgorithmTypes.FastBipartite)\n",
    "    NN_exp = driver.expectation(kets[0], NN_mpo, kets[0]) / driver.expectation(kets[0], impo, kets[0]) \n",
    "## Calculate Standard Deviation\n",
    "    std_val+=np.sqrt(NN_exp - (nOp_exp*nOp_exp))        \n",
    "std_nOp = (std_val/params['L'])"
   ]
  },
  {
   "cell_type": "markdown",
   "id": "438fbb5d-c278-4321-8008-6a95c281c56e",
   "metadata": {},
   "source": [
    "###### Expectation value of Number Operator on each site"
   ]
  },
  {
   "cell_type": "code",
   "execution_count": 170,
   "id": "4a00195d-c998-4330-b13b-cfc0c97aa9e8",
   "metadata": {},
   "outputs": [],
   "source": [
    "density_nop = pd.DataFrame(_exp_nop)\n",
    "filename = generate_file_name_hdf5(params, expnop = True)\n",
    "## Complete path of the location of the file\n",
    "filename1 = generating_complete_path_hdf5(filename, expnop = True)\n",
    "key = generate_unique_key(params, exp_nOp = True)\n",
    "create_folders_and_store_data(params, density_nop, filename, key = key, expnop = True)"
   ]
  },
  {
   "cell_type": "markdown",
   "id": "c9d7169e-e407-4f66-936b-ee3fbe22c90f",
   "metadata": {},
   "source": [
    "###### Standard Deviation"
   ]
  },
  {
   "cell_type": "code",
   "execution_count": 171,
   "id": "2e520d5b-69db-42d2-a38f-c9d23f325076",
   "metadata": {},
   "outputs": [],
   "source": [
    "std_deviation_numberOp = pd.DataFrame({'std_nOp':[std_nOp]})\n",
    "filename = generate_file_name_hdf5(params)\n",
    "filename1 = generating_complete_path_hdf5(filename)\n",
    "key = generate_unique_key(params, std_deviation_numberOp = True)\n",
    "\n",
    "## Use the code below to append data to an existing file/folder directory\n",
    "# append_data_to_hdf5(params, std_deviation_numberOp, filename1, key = key)\n",
    "\n",
    "####### Use this only for the first time when taking data for a theta #######\n",
    "## Use this code to write data to a new file irrespective of the presence of subholder based on 'L'.\n",
    "create_folders_and_store_data(params, std_deviation_numberOp, filename, key = key)"
   ]
  },
  {
   "cell_type": "markdown",
   "id": "1ed682d5-817e-4c9e-b6e0-e6cab4a00b0c",
   "metadata": {},
   "source": [
    "##### Correlation Matrix and Rate"
   ]
  },
  {
   "cell_type": "code",
   "execution_count": 418,
   "id": "79322840-5537-4807-bd69-01c0c67a330f",
   "metadata": {},
   "outputs": [],
   "source": [
    "hop_exp_val = np.zeros((params['L'], params['L']), dtype=complex)\n",
    "for i in range(params['L']):\n",
    "    for j in range(i, params['L']):\n",
    "        b = driver.expr_builder()\n",
    "        b.add_term(\"CD\", np.array([i, j]), 1)  # Hopping operator between i and j            \n",
    "        hop_mpo = driver.get_mpo(b.finalize(adjust_order=True, fermionic_ops=\"\"), algo_type=MPOAlgorithmTypes.FastBipartite)\n",
    "        hop_exp_val[i, j] = driver.expectation(kets[0], hop_mpo, kets[0])\n",
    "        hop_exp_val[j, i] = np.conjugate(hop_exp_val[i, j])"
   ]
  },
  {
   "cell_type": "code",
   "execution_count": 419,
   "id": "5ff13851-04a0-4659-9cff-518ff6d07450",
   "metadata": {},
   "outputs": [],
   "source": [
    "correl_matrix = pd.DataFrame(hop_exp_val)\n",
    "filename = generate_file_name_hdf5(params, Correlation = True)\n",
    "create_folders_and_store_data(params, correl_matrix, filename, key = 'correl_matrix')"
   ]
  },
  {
   "cell_type": "code",
   "execution_count": null,
   "id": "1307e5fc-01cd-4394-b04e-2483eacee4e3",
   "metadata": {},
   "outputs": [],
   "source": []
  },
  {
   "cell_type": "markdown",
   "id": "76ee0807-56ed-456b-99a6-75fa24c228a9",
   "metadata": {},
   "source": [
    "#### $U = 1.6$"
   ]
  },
  {
   "cell_type": "code",
   "execution_count": 205,
   "id": "531119f8-071f-438f-9028-e1407644b10b",
   "metadata": {},
   "outputs": [
    {
     "name": "stdout",
     "output_type": "stream",
     "text": [
      "Execution time: 115.74 seconds\n"
     ]
    }
   ],
   "source": [
    "start_time = time.time()\n",
    "#########################################\n",
    "\n",
    "\n",
    "params['u'] = 1.6\n",
    "driver.initialize_system(n_sites=params['L'], vacuum=Q(0), target=Q(params['N_BOSON']), hamil_init=False)\n",
    "driver.ghamil = driver.get_custom_hamiltonian(site_basis, site_ops)\n",
    "b = driver.expr_builder()\n",
    "\n",
    "# b.add_term(\"ADCB\", np.array([[i, i+1, i+1, i] for i in range(params['L']-1)]).flatten(), -params['t'])\n",
    "b.add_term(\"AD\", np.array([[i, i+1] for i in range(params['L']-1)]).flatten(), -params['t'])\n",
    "b.add_term(\"CB\", np.array([[i+1, i] for i in range(params['L']-1)]).flatten(), -params['t'])\n",
    "b.add_term(\"N\", np.array(np.arange(params['L'])), -(params['mu'] + params['u'] / 2))\n",
    "b.add_term(\"NN\", np.repeat(np.arange(params['L']), 2), params['u'] / 2)\n",
    "\n",
    "mpo = driver.get_mpo(b.finalize(adjust_order=True, fermionic_ops=\"\"), algo_type=MPOAlgorithmTypes.FastBipartite)\n",
    "mps = driver.get_random_mps(tag=\"KET\", bond_dim=50, nroots=2)\n",
    "energy = driver.dmrg(mpo, mps, n_sweeps=10, bond_dims=[50] * 4 + [100] * 4,\n",
    "    noises=[1e-4] * 4 + [1e-5] * 4 + [0], thrds=[1e-10] * 8, dav_max_iter=30, iprint=0)\n",
    "\n",
    "#########################################\n",
    "end_time = time.time()\n",
    "execution_time = end_time - start_time\n",
    "print(f\"Execution time: {execution_time:.2f} seconds\")"
   ]
  },
  {
   "cell_type": "code",
   "execution_count": 206,
   "id": "6d49abe8-8e17-4a05-acb9-6dbafd8e49a0",
   "metadata": {},
   "outputs": [],
   "source": [
    "kets = [driver.split_mps(mps, ir, tag=\"KET-%d\" % ir) for ir in range(mps.nroots)]"
   ]
  },
  {
   "cell_type": "code",
   "execution_count": null,
   "id": "56c5091d-e433-484c-abf6-dab393afd647",
   "metadata": {},
   "outputs": [],
   "source": []
  },
  {
   "cell_type": "markdown",
   "id": "0c6a1ea5-d1b4-4c1f-a5dd-d6e7a74cbb9b",
   "metadata": {},
   "source": [
    "##### First Excitation Gap"
   ]
  },
  {
   "cell_type": "code",
   "execution_count": 172,
   "id": "46db4ede-be55-4dcf-9306-3d7d944b4b26",
   "metadata": {},
   "outputs": [
    {
     "name": "stdout",
     "output_type": "stream",
     "text": [
      "gndenergy_U1_0e0_t1_2e0\n"
     ]
    }
   ],
   "source": [
    "key = generate_unique_key(params, gndstate_energy = True)\n",
    "print(key)"
   ]
  },
  {
   "cell_type": "code",
   "execution_count": 173,
   "id": "c20b1416-6ad0-47cf-a5d9-84a6173c8934",
   "metadata": {},
   "outputs": [
    {
     "name": "stdout",
     "output_type": "stream",
     "text": [
      "gndenergy_U1_0e0_t1_2e0\n"
     ]
    }
   ],
   "source": [
    "gndenergy = pd.DataFrame({'gndenergy':[np.power(np.abs(energy[1]-energy[0]),2)]})\n",
    "filename = generate_file_name_hdf5(params)\n",
    "# print(filename)\n",
    "filename1 = generating_complete_path_hdf5(filename)\n",
    "# print(filename1)\n",
    "key = generate_unique_key(params, gndstate_energy = True)\n",
    "print(key)\n",
    "\n",
    "## Use the code below to append data to an existing file/folder directory\n",
    "append_data_to_hdf5(params, gndenergy, filename1, key = key)\n"
   ]
  },
  {
   "cell_type": "code",
   "execution_count": 174,
   "id": "6a7f01f7-a2b3-45dc-a7b0-2779594f8b83",
   "metadata": {},
   "outputs": [
    {
     "name": "stdout",
     "output_type": "stream",
     "text": [
      "0.06264391408627396\n"
     ]
    }
   ],
   "source": [
    "gndenergy = load_matrix_from_hdf5(filename1, key = key)\n",
    "print(gndenergy[0][0])"
   ]
  },
  {
   "cell_type": "code",
   "execution_count": 175,
   "id": "b0188b52-1241-40ff-9904-77e0ab36d3cc",
   "metadata": {},
   "outputs": [
    {
     "name": "stdout",
     "output_type": "stream",
     "text": [
      "Keys in HDF5 file:\n",
      "/gndenergy_U1_0e0_t1_2e0\n",
      "/std_deviation_numberOp_U1_0e0_t1_2e0\n"
     ]
    }
   ],
   "source": [
    "with pd.HDFStore(filename1, 'r') as hdf:\n",
    "    # List all keys in the file\n",
    "    keys = hdf.keys()\n",
    "    print(\"Keys in HDF5 file:\")\n",
    "    for key in keys:\n",
    "        print(key)"
   ]
  },
  {
   "cell_type": "markdown",
   "id": "f1b6900f-a6c0-45db-9019-20330c477943",
   "metadata": {},
   "source": [
    "##### Entropy"
   ]
  },
  {
   "cell_type": "code",
   "execution_count": 62,
   "id": "562db702-3b1c-479d-9f6e-879448c65df0",
   "metadata": {},
   "outputs": [],
   "source": [
    "entropy1 = driver.get_bipartite_entanglement(kets[0])\n",
    "update_csv_column(\"theta0_AHMDmrg_data.csv\", 'Entropy', 't', params['t'], str(entropy1))"
   ]
  },
  {
   "cell_type": "code",
   "execution_count": null,
   "id": "90e1f6a2-feee-465d-9512-2d0c65866884",
   "metadata": {},
   "outputs": [],
   "source": [
    "#### Data Storing\n",
    "data_t1_2_theta0 = [[params['L'], params['t'], params['u'], params['N_BOSON'], params['NB_MAX'], energy[0], mps, energy[1], entropy]]\n",
    "add_data_to_csv(\"theta0_AHMDmrg_data.csv\", data_t1_2_theta0)"
   ]
  },
  {
   "cell_type": "markdown",
   "id": "8ec16820-590a-4e15-a3da-85180bd9a63a",
   "metadata": {},
   "source": [
    "##### NumberOperator and Its Standard Deviation"
   ]
  },
  {
   "cell_type": "code",
   "execution_count": 169,
   "id": "383d0ab1-5bb5-4820-94f5-b8ea9fa3133a",
   "metadata": {},
   "outputs": [],
   "source": [
    "std_val, std_nOp = 0, 0\n",
    "_exp_nop = []\n",
    "for i in range(params['L']):\n",
    "    b = driver.expr_builder()\n",
    "    b.add_term(\"N\", np.array([i]), 1)\n",
    "## Calculate <N>   \n",
    "    nOp_mpo = driver.get_mpo(b.finalize(adjust_order=True, fermionic_ops=\"\"), algo_type=MPOAlgorithmTypes.FastBipartite)\n",
    "    impo = driver.get_identity_mpo()\n",
    "\n",
    "    nOp_exp = driver.expectation(kets[0], nOp_mpo, kets[0]) / driver.expectation(kets[0], impo, kets[0])\n",
    "    _exp_nop.append(nOp_exp)\n",
    "## Calculate <N^2>\n",
    "    b = driver.expr_builder()\n",
    "    b.add_term(\"NN\", np.repeat([i], 2), 1)\n",
    "    \n",
    "    NN_mpo = driver.get_mpo(b.finalize(adjust_order=True, fermionic_ops=\"\"), algo_type=MPOAlgorithmTypes.FastBipartite)\n",
    "    NN_exp = driver.expectation(kets[0], NN_mpo, kets[0]) / driver.expectation(kets[0], impo, kets[0]) \n",
    "## Calculate Standard Deviation\n",
    "    std_val+=np.sqrt(NN_exp - (nOp_exp*nOp_exp))        \n",
    "std_nOp = (std_val/params['L'])"
   ]
  },
  {
   "cell_type": "markdown",
   "id": "03342046-d672-49c3-ba6b-735db73a76cd",
   "metadata": {},
   "source": [
    "###### Expectation value of Number Operator on each site"
   ]
  },
  {
   "cell_type": "code",
   "execution_count": 170,
   "id": "524ef6f0-f645-4c1e-a9cc-663763924525",
   "metadata": {},
   "outputs": [],
   "source": [
    "density_nop = pd.DataFrame(_exp_nop)\n",
    "filename = generate_file_name_hdf5(params, expnop = True)\n",
    "## Complete path of the location of the file\n",
    "filename1 = generating_complete_path_hdf5(filename, expnop = True)\n",
    "key = generate_unique_key(params, exp_nOp = True)\n",
    "create_folders_and_store_data(params, density_nop, filename, key = key, expnop = True)"
   ]
  },
  {
   "cell_type": "markdown",
   "id": "42b569f8-37bd-4618-8ae4-8b5943f0f8b0",
   "metadata": {},
   "source": [
    "###### Standard Deviation"
   ]
  },
  {
   "cell_type": "code",
   "execution_count": 171,
   "id": "5eb2c890-472f-4841-a837-159e9dc94792",
   "metadata": {},
   "outputs": [],
   "source": [
    "std_deviation_numberOp = pd.DataFrame({'std_nOp':[std_nOp]})\n",
    "filename = generate_file_name_hdf5(params)\n",
    "filename1 = generating_complete_path_hdf5(filename)\n",
    "key = generate_unique_key(params, std_deviation_numberOp = True)\n",
    "\n",
    "## Use the code below to append data to an existing file/folder directory\n",
    "# append_data_to_hdf5(params, std_deviation_numberOp, filename1, key = key)\n",
    "\n",
    "####### Use this only for the first time when taking data for a theta #######\n",
    "## Use this code to write data to a new file irrespective of the presence of subholder based on 'L'.\n",
    "create_folders_and_store_data(params, std_deviation_numberOp, filename, key = key)"
   ]
  },
  {
   "cell_type": "markdown",
   "id": "5c3b703e-2419-4abe-9c35-7f96d7b84dc7",
   "metadata": {},
   "source": [
    "##### Correlation Matrix and Rate"
   ]
  },
  {
   "cell_type": "code",
   "execution_count": 418,
   "id": "fb142c08-9514-46cd-b654-681927dd0d6d",
   "metadata": {},
   "outputs": [],
   "source": [
    "hop_exp_val = np.zeros((params['L'], params['L']), dtype=complex)\n",
    "for i in range(params['L']):\n",
    "    for j in range(i, params['L']):\n",
    "        b = driver.expr_builder()\n",
    "        b.add_term(\"CD\", np.array([i, j]), 1)  # Hopping operator between i and j            \n",
    "        hop_mpo = driver.get_mpo(b.finalize(adjust_order=True, fermionic_ops=\"\"), algo_type=MPOAlgorithmTypes.FastBipartite)\n",
    "        hop_exp_val[i, j] = driver.expectation(kets[0], hop_mpo, kets[0])\n",
    "        hop_exp_val[j, i] = np.conjugate(hop_exp_val[i, j])"
   ]
  },
  {
   "cell_type": "code",
   "execution_count": 419,
   "id": "b1df643c-6fdb-4183-a783-d3ff2b08f29c",
   "metadata": {},
   "outputs": [],
   "source": [
    "correl_matrix = pd.DataFrame(hop_exp_val)\n",
    "filename = generate_file_name_hdf5(params, Correlation = True)\n",
    "create_folders_and_store_data(params, correl_matrix, filename, key = 'correl_matrix')"
   ]
  },
  {
   "cell_type": "code",
   "execution_count": null,
   "id": "b7de6133-881e-42fe-88ed-eab2074d7304",
   "metadata": {},
   "outputs": [],
   "source": []
  },
  {
   "cell_type": "markdown",
   "id": "0a6168f8-2221-4048-9887-f5caffad7061",
   "metadata": {},
   "source": [
    "#### $U = 1.7$"
   ]
  },
  {
   "cell_type": "code",
   "execution_count": 216,
   "id": "04065528-10a7-4f63-9dc6-6e35a0c4a120",
   "metadata": {},
   "outputs": [
    {
     "name": "stdout",
     "output_type": "stream",
     "text": [
      "Execution time: 109.30 seconds\n"
     ]
    }
   ],
   "source": [
    "start_time = time.time()\n",
    "#########################################\n",
    "\n",
    "\n",
    "params['u'] = 1.7\n",
    "driver.initialize_system(n_sites=params['L'], vacuum=Q(0), target=Q(params['N_BOSON']), hamil_init=False)\n",
    "driver.ghamil = driver.get_custom_hamiltonian(site_basis, site_ops)\n",
    "b = driver.expr_builder()\n",
    "\n",
    "# b.add_term(\"ADCB\", np.array([[i, i+1, i+1, i] for i in range(params['L']-1)]).flatten(), -params['t'])\n",
    "b.add_term(\"AD\", np.array([[i, i+1] for i in range(params['L']-1)]).flatten(), -params['t'])\n",
    "b.add_term(\"CB\", np.array([[i+1, i] for i in range(params['L']-1)]).flatten(), -params['t'])\n",
    "b.add_term(\"N\", np.array(np.arange(params['L'])), -(params['mu'] + params['u'] / 2))\n",
    "b.add_term(\"NN\", np.repeat(np.arange(params['L']), 2), params['u'] / 2)\n",
    "\n",
    "mpo = driver.get_mpo(b.finalize(adjust_order=True, fermionic_ops=\"\"), algo_type=MPOAlgorithmTypes.FastBipartite)\n",
    "mps = driver.get_random_mps(tag=\"KET\", bond_dim=50, nroots=2)\n",
    "energy = driver.dmrg(mpo, mps, n_sweeps=10, bond_dims=[50] * 4 + [100] * 4,\n",
    "    noises=[1e-4] * 4 + [1e-5] * 4 + [0], thrds=[1e-10] * 8, dav_max_iter=30, iprint=0)\n",
    "\n",
    "#########################################\n",
    "end_time = time.time()\n",
    "execution_time = end_time - start_time\n",
    "print(f\"Execution time: {execution_time:.2f} seconds\")"
   ]
  },
  {
   "cell_type": "code",
   "execution_count": 217,
   "id": "0d1dfc65-3dc1-4540-88b1-2e612c146efe",
   "metadata": {},
   "outputs": [],
   "source": [
    "kets = [driver.split_mps(mps, ir, tag=\"KET-%d\" % ir) for ir in range(mps.nroots)]"
   ]
  },
  {
   "cell_type": "code",
   "execution_count": null,
   "id": "733f22d2-010c-4153-9c4f-fff7d74e88f2",
   "metadata": {},
   "outputs": [],
   "source": []
  },
  {
   "cell_type": "markdown",
   "id": "fd74a629-641f-43dc-b1eb-d86c099db5bd",
   "metadata": {},
   "source": [
    "##### First Excitation Gap"
   ]
  },
  {
   "cell_type": "code",
   "execution_count": 172,
   "id": "ab89600f-9ed5-4333-9741-e791cc182ba4",
   "metadata": {},
   "outputs": [
    {
     "name": "stdout",
     "output_type": "stream",
     "text": [
      "gndenergy_U1_0e0_t1_2e0\n"
     ]
    }
   ],
   "source": [
    "key = generate_unique_key(params, gndstate_energy = True)\n",
    "print(key)"
   ]
  },
  {
   "cell_type": "code",
   "execution_count": 173,
   "id": "1767be8e-ae60-4b1a-a395-a94c176238f7",
   "metadata": {},
   "outputs": [
    {
     "name": "stdout",
     "output_type": "stream",
     "text": [
      "gndenergy_U1_0e0_t1_2e0\n"
     ]
    }
   ],
   "source": [
    "gndenergy = pd.DataFrame({'gndenergy':[np.power(np.abs(energy[1]-energy[0]),2)]})\n",
    "filename = generate_file_name_hdf5(params)\n",
    "# print(filename)\n",
    "filename1 = generating_complete_path_hdf5(filename)\n",
    "# print(filename1)\n",
    "key = generate_unique_key(params, gndstate_energy = True)\n",
    "print(key)\n",
    "\n",
    "## Use the code below to append data to an existing file/folder directory\n",
    "append_data_to_hdf5(params, gndenergy, filename1, key = key)\n"
   ]
  },
  {
   "cell_type": "code",
   "execution_count": 174,
   "id": "b4e2baa0-9a0a-47bd-9d98-5ca2051601fd",
   "metadata": {},
   "outputs": [
    {
     "name": "stdout",
     "output_type": "stream",
     "text": [
      "0.06264391408627396\n"
     ]
    }
   ],
   "source": [
    "gndenergy = load_matrix_from_hdf5(filename1, key = key)\n",
    "print(gndenergy[0][0])"
   ]
  },
  {
   "cell_type": "code",
   "execution_count": 175,
   "id": "9f98f5fa-aae9-4bc9-af93-56a12f79cb83",
   "metadata": {},
   "outputs": [
    {
     "name": "stdout",
     "output_type": "stream",
     "text": [
      "Keys in HDF5 file:\n",
      "/gndenergy_U1_0e0_t1_2e0\n",
      "/std_deviation_numberOp_U1_0e0_t1_2e0\n"
     ]
    }
   ],
   "source": [
    "with pd.HDFStore(filename1, 'r') as hdf:\n",
    "    # List all keys in the file\n",
    "    keys = hdf.keys()\n",
    "    print(\"Keys in HDF5 file:\")\n",
    "    for key in keys:\n",
    "        print(key)"
   ]
  },
  {
   "cell_type": "markdown",
   "id": "b19bc60c-0740-4401-bb83-1faaf46eec2c",
   "metadata": {},
   "source": [
    "##### Entropy"
   ]
  },
  {
   "cell_type": "code",
   "execution_count": 62,
   "id": "d116e840-6feb-4e56-8906-e6193b182e99",
   "metadata": {},
   "outputs": [],
   "source": [
    "entropy1 = driver.get_bipartite_entanglement(kets[0])\n",
    "update_csv_column(\"theta0_AHMDmrg_data.csv\", 'Entropy', 't', params['t'], str(entropy1))"
   ]
  },
  {
   "cell_type": "code",
   "execution_count": null,
   "id": "f1f31d8f-4038-4c01-a0a6-3ba87e8cbe25",
   "metadata": {},
   "outputs": [],
   "source": [
    "#### Data Storing\n",
    "data_t1_2_theta0 = [[params['L'], params['t'], params['u'], params['N_BOSON'], params['NB_MAX'], energy[0], mps, energy[1], entropy]]\n",
    "add_data_to_csv(\"theta0_AHMDmrg_data.csv\", data_t1_2_theta0)"
   ]
  },
  {
   "cell_type": "markdown",
   "id": "45cb43f2-b0d4-4948-b171-432c4a00893d",
   "metadata": {},
   "source": [
    "##### NumberOperator and Its Standard Deviation"
   ]
  },
  {
   "cell_type": "code",
   "execution_count": 169,
   "id": "d23f8bc6-6342-4f7a-a664-2e4fc056e96d",
   "metadata": {},
   "outputs": [],
   "source": [
    "std_val, std_nOp = 0, 0\n",
    "_exp_nop = []\n",
    "for i in range(params['L']):\n",
    "    b = driver.expr_builder()\n",
    "    b.add_term(\"N\", np.array([i]), 1)\n",
    "## Calculate <N>   \n",
    "    nOp_mpo = driver.get_mpo(b.finalize(adjust_order=True, fermionic_ops=\"\"), algo_type=MPOAlgorithmTypes.FastBipartite)\n",
    "    impo = driver.get_identity_mpo()\n",
    "\n",
    "    nOp_exp = driver.expectation(kets[0], nOp_mpo, kets[0]) / driver.expectation(kets[0], impo, kets[0])\n",
    "    _exp_nop.append(nOp_exp)\n",
    "## Calculate <N^2>\n",
    "    b = driver.expr_builder()\n",
    "    b.add_term(\"NN\", np.repeat([i], 2), 1)\n",
    "    \n",
    "    NN_mpo = driver.get_mpo(b.finalize(adjust_order=True, fermionic_ops=\"\"), algo_type=MPOAlgorithmTypes.FastBipartite)\n",
    "    NN_exp = driver.expectation(kets[0], NN_mpo, kets[0]) / driver.expectation(kets[0], impo, kets[0]) \n",
    "## Calculate Standard Deviation\n",
    "    std_val+=np.sqrt(NN_exp - (nOp_exp*nOp_exp))        \n",
    "std_nOp = (std_val/params['L'])"
   ]
  },
  {
   "cell_type": "markdown",
   "id": "0adc383e-2fd8-4df4-b966-742ae5d0e7eb",
   "metadata": {},
   "source": [
    "###### Expectation value of Number Operator on each site"
   ]
  },
  {
   "cell_type": "code",
   "execution_count": 170,
   "id": "03c4d945-d6fa-4db4-9eba-4310f0026bc2",
   "metadata": {},
   "outputs": [],
   "source": [
    "density_nop = pd.DataFrame(_exp_nop)\n",
    "filename = generate_file_name_hdf5(params, expnop = True)\n",
    "## Complete path of the location of the file\n",
    "filename1 = generating_complete_path_hdf5(filename, expnop = True)\n",
    "key = generate_unique_key(params, exp_nOp = True)\n",
    "create_folders_and_store_data(params, density_nop, filename, key = key, expnop = True)"
   ]
  },
  {
   "cell_type": "markdown",
   "id": "c7a17ab2-e31a-4b2c-9ed5-7f1bf5111963",
   "metadata": {},
   "source": [
    "###### Standard Deviation"
   ]
  },
  {
   "cell_type": "code",
   "execution_count": 171,
   "id": "642c975b-6e13-4821-bdc3-9529e8fd0b10",
   "metadata": {},
   "outputs": [],
   "source": [
    "std_deviation_numberOp = pd.DataFrame({'std_nOp':[std_nOp]})\n",
    "filename = generate_file_name_hdf5(params)\n",
    "filename1 = generating_complete_path_hdf5(filename)\n",
    "key = generate_unique_key(params, std_deviation_numberOp = True)\n",
    "\n",
    "## Use the code below to append data to an existing file/folder directory\n",
    "# append_data_to_hdf5(params, std_deviation_numberOp, filename1, key = key)\n",
    "\n",
    "####### Use this only for the first time when taking data for a theta #######\n",
    "## Use this code to write data to a new file irrespective of the presence of subholder based on 'L'.\n",
    "create_folders_and_store_data(params, std_deviation_numberOp, filename, key = key)"
   ]
  },
  {
   "cell_type": "markdown",
   "id": "dd696876-40db-41cd-9e48-658edf3b5093",
   "metadata": {},
   "source": [
    "##### Correlation Matrix and Rate"
   ]
  },
  {
   "cell_type": "code",
   "execution_count": 418,
   "id": "e52469c5-1342-46ee-aef4-79292405dc34",
   "metadata": {},
   "outputs": [],
   "source": [
    "hop_exp_val = np.zeros((params['L'], params['L']), dtype=complex)\n",
    "for i in range(params['L']):\n",
    "    for j in range(i, params['L']):\n",
    "        b = driver.expr_builder()\n",
    "        b.add_term(\"CD\", np.array([i, j]), 1)  # Hopping operator between i and j            \n",
    "        hop_mpo = driver.get_mpo(b.finalize(adjust_order=True, fermionic_ops=\"\"), algo_type=MPOAlgorithmTypes.FastBipartite)\n",
    "        hop_exp_val[i, j] = driver.expectation(kets[0], hop_mpo, kets[0])\n",
    "        hop_exp_val[j, i] = np.conjugate(hop_exp_val[i, j])"
   ]
  },
  {
   "cell_type": "code",
   "execution_count": 419,
   "id": "a837e02b-ac26-4c96-a98d-4146d3813ce8",
   "metadata": {},
   "outputs": [],
   "source": [
    "correl_matrix = pd.DataFrame(hop_exp_val)\n",
    "filename = generate_file_name_hdf5(params, Correlation = True)\n",
    "create_folders_and_store_data(params, correl_matrix, filename, key = 'correl_matrix')"
   ]
  },
  {
   "cell_type": "code",
   "execution_count": null,
   "id": "05679285-8984-4001-a75c-8026cf6f7563",
   "metadata": {},
   "outputs": [],
   "source": []
  },
  {
   "cell_type": "markdown",
   "id": "6869758c-7bd1-4589-923b-4a6991ad6d50",
   "metadata": {},
   "source": [
    "#### $U = 1.8$"
   ]
  },
  {
   "cell_type": "code",
   "execution_count": 225,
   "id": "b34ffa63-4f81-4b56-bc75-0a22b2ae5454",
   "metadata": {},
   "outputs": [
    {
     "name": "stdout",
     "output_type": "stream",
     "text": [
      "Execution time: 95.94 seconds\n"
     ]
    }
   ],
   "source": [
    "start_time = time.time()\n",
    "#########################################\n",
    "\n",
    "params['u'] = 1.8\n",
    "driver.initialize_system(n_sites=params['L'], vacuum=Q(0), target=Q(params['N_BOSON']), hamil_init=False)\n",
    "driver.ghamil = driver.get_custom_hamiltonian(site_basis, site_ops)\n",
    "b = driver.expr_builder()\n",
    "\n",
    "# b.add_term(\"ADCB\", np.array([[i, i+1, i+1, i] for i in range(params['L']-1)]).flatten(), -params['t'])\n",
    "b.add_term(\"AD\", np.array([[i, i+1] for i in range(params['L']-1)]).flatten(), -params['t'])\n",
    "b.add_term(\"CB\", np.array([[i+1, i] for i in range(params['L']-1)]).flatten(), -params['t'])\n",
    "b.add_term(\"N\", np.array(np.arange(params['L'])), -(params['mu'] + params['u'] / 2))\n",
    "b.add_term(\"NN\", np.repeat(np.arange(params['L']), 2), params['u'] / 2)\n",
    "\n",
    "mpo = driver.get_mpo(b.finalize(adjust_order=True, fermionic_ops=\"\"), algo_type=MPOAlgorithmTypes.FastBipartite)\n",
    "mps = driver.get_random_mps(tag=\"KET\", bond_dim=50, nroots=2)\n",
    "energy = driver.dmrg(mpo, mps, n_sweeps=10, bond_dims=[50] * 4 + [100] * 4,\n",
    "    noises=[1e-4] * 4 + [1e-5] * 4 + [0], thrds=[1e-10] * 8, dav_max_iter=30, iprint=0)\n",
    "\n",
    "#########################################\n",
    "end_time = time.time()\n",
    "execution_time = end_time - start_time\n",
    "print(f\"Execution time: {execution_time:.2f} seconds\")"
   ]
  },
  {
   "cell_type": "code",
   "execution_count": 226,
   "id": "086be243-668f-4409-9681-2b985ed913f0",
   "metadata": {},
   "outputs": [],
   "source": [
    "kets = [driver.split_mps(mps, ir, tag=\"KET-%d\" % ir) for ir in range(mps.nroots)]"
   ]
  },
  {
   "cell_type": "code",
   "execution_count": null,
   "id": "d97bf8ab-78b8-4313-8b58-c58c20794cc7",
   "metadata": {},
   "outputs": [],
   "source": []
  },
  {
   "cell_type": "markdown",
   "id": "7360f4f6-7077-44c9-877e-f3e96e0d95ca",
   "metadata": {},
   "source": [
    "##### First Excitation Gap"
   ]
  },
  {
   "cell_type": "code",
   "execution_count": 172,
   "id": "2b466a08-2b3b-4060-ad56-7bba1baa5eaf",
   "metadata": {},
   "outputs": [
    {
     "name": "stdout",
     "output_type": "stream",
     "text": [
      "gndenergy_U1_0e0_t1_2e0\n"
     ]
    }
   ],
   "source": [
    "key = generate_unique_key(params, gndstate_energy = True)\n",
    "print(key)"
   ]
  },
  {
   "cell_type": "code",
   "execution_count": 173,
   "id": "0e6f2ebe-cdd6-4651-be5d-7003a64c7d74",
   "metadata": {},
   "outputs": [
    {
     "name": "stdout",
     "output_type": "stream",
     "text": [
      "gndenergy_U1_0e0_t1_2e0\n"
     ]
    }
   ],
   "source": [
    "gndenergy = pd.DataFrame({'gndenergy':[np.power(np.abs(energy[1]-energy[0]),2)]})\n",
    "filename = generate_file_name_hdf5(params)\n",
    "# print(filename)\n",
    "filename1 = generating_complete_path_hdf5(filename)\n",
    "# print(filename1)\n",
    "key = generate_unique_key(params, gndstate_energy = True)\n",
    "print(key)\n",
    "\n",
    "## Use the code below to append data to an existing file/folder directory\n",
    "append_data_to_hdf5(params, gndenergy, filename1, key = key)\n"
   ]
  },
  {
   "cell_type": "code",
   "execution_count": 174,
   "id": "083ea0d1-ee44-4e33-8d21-db536c955f8b",
   "metadata": {},
   "outputs": [
    {
     "name": "stdout",
     "output_type": "stream",
     "text": [
      "0.06264391408627396\n"
     ]
    }
   ],
   "source": [
    "gndenergy = load_matrix_from_hdf5(filename1, key = key)\n",
    "print(gndenergy[0][0])"
   ]
  },
  {
   "cell_type": "code",
   "execution_count": 175,
   "id": "eba7df3f-abcb-4165-8af5-a9cdb026c9a2",
   "metadata": {},
   "outputs": [
    {
     "name": "stdout",
     "output_type": "stream",
     "text": [
      "Keys in HDF5 file:\n",
      "/gndenergy_U1_0e0_t1_2e0\n",
      "/std_deviation_numberOp_U1_0e0_t1_2e0\n"
     ]
    }
   ],
   "source": [
    "with pd.HDFStore(filename1, 'r') as hdf:\n",
    "    # List all keys in the file\n",
    "    keys = hdf.keys()\n",
    "    print(\"Keys in HDF5 file:\")\n",
    "    for key in keys:\n",
    "        print(key)"
   ]
  },
  {
   "cell_type": "markdown",
   "id": "470bee85-b012-4463-8893-051ab47adad6",
   "metadata": {},
   "source": [
    "##### Entropy"
   ]
  },
  {
   "cell_type": "code",
   "execution_count": 62,
   "id": "db025709-365e-48c0-90ad-1eda2a98b613",
   "metadata": {},
   "outputs": [],
   "source": [
    "entropy1 = driver.get_bipartite_entanglement(kets[0])\n",
    "update_csv_column(\"theta0_AHMDmrg_data.csv\", 'Entropy', 't', params['t'], str(entropy1))"
   ]
  },
  {
   "cell_type": "code",
   "execution_count": null,
   "id": "2d48592a-0e58-4128-9053-edcd40d9bf98",
   "metadata": {},
   "outputs": [],
   "source": [
    "#### Data Storing\n",
    "data_t1_2_theta0 = [[params['L'], params['t'], params['u'], params['N_BOSON'], params['NB_MAX'], energy[0], mps, energy[1], entropy]]\n",
    "add_data_to_csv(\"theta0_AHMDmrg_data.csv\", data_t1_2_theta0)"
   ]
  },
  {
   "cell_type": "markdown",
   "id": "09d9281a-3f6e-41cd-b9e8-9e9388f83366",
   "metadata": {},
   "source": [
    "##### NumberOperator and Its Standard Deviation"
   ]
  },
  {
   "cell_type": "code",
   "execution_count": 169,
   "id": "dd929dd1-3012-4f81-a8f1-d2283ee4f2a5",
   "metadata": {},
   "outputs": [],
   "source": [
    "std_val, std_nOp = 0, 0\n",
    "_exp_nop = []\n",
    "for i in range(params['L']):\n",
    "    b = driver.expr_builder()\n",
    "    b.add_term(\"N\", np.array([i]), 1)\n",
    "## Calculate <N>   \n",
    "    nOp_mpo = driver.get_mpo(b.finalize(adjust_order=True, fermionic_ops=\"\"), algo_type=MPOAlgorithmTypes.FastBipartite)\n",
    "    impo = driver.get_identity_mpo()\n",
    "\n",
    "    nOp_exp = driver.expectation(kets[0], nOp_mpo, kets[0]) / driver.expectation(kets[0], impo, kets[0])\n",
    "    _exp_nop.append(nOp_exp)\n",
    "## Calculate <N^2>\n",
    "    b = driver.expr_builder()\n",
    "    b.add_term(\"NN\", np.repeat([i], 2), 1)\n",
    "    \n",
    "    NN_mpo = driver.get_mpo(b.finalize(adjust_order=True, fermionic_ops=\"\"), algo_type=MPOAlgorithmTypes.FastBipartite)\n",
    "    NN_exp = driver.expectation(kets[0], NN_mpo, kets[0]) / driver.expectation(kets[0], impo, kets[0]) \n",
    "## Calculate Standard Deviation\n",
    "    std_val+=np.sqrt(NN_exp - (nOp_exp*nOp_exp))        \n",
    "std_nOp = (std_val/params['L'])"
   ]
  },
  {
   "cell_type": "markdown",
   "id": "fcdcd90b-3f86-4f42-a136-5c1adea4e934",
   "metadata": {},
   "source": [
    "###### Expectation value of Number Operator on each site"
   ]
  },
  {
   "cell_type": "code",
   "execution_count": 170,
   "id": "e9600b8a-b9bd-4b69-a46d-b9708ad7e9c1",
   "metadata": {},
   "outputs": [],
   "source": [
    "density_nop = pd.DataFrame(_exp_nop)\n",
    "filename = generate_file_name_hdf5(params, expnop = True)\n",
    "## Complete path of the location of the file\n",
    "filename1 = generating_complete_path_hdf5(filename, expnop = True)\n",
    "key = generate_unique_key(params, exp_nOp = True)\n",
    "create_folders_and_store_data(params, density_nop, filename, key = key, expnop = True)"
   ]
  },
  {
   "cell_type": "markdown",
   "id": "57832eb6-2601-4cc0-9e49-c399463af117",
   "metadata": {},
   "source": [
    "###### Standard Deviation"
   ]
  },
  {
   "cell_type": "code",
   "execution_count": 171,
   "id": "14a7060c-35e6-4bdc-a95d-b2de64c837c0",
   "metadata": {},
   "outputs": [],
   "source": [
    "std_deviation_numberOp = pd.DataFrame({'std_nOp':[std_nOp]})\n",
    "filename = generate_file_name_hdf5(params)\n",
    "filename1 = generating_complete_path_hdf5(filename)\n",
    "key = generate_unique_key(params, std_deviation_numberOp = True)\n",
    "\n",
    "## Use the code below to append data to an existing file/folder directory\n",
    "# append_data_to_hdf5(params, std_deviation_numberOp, filename1, key = key)\n",
    "\n",
    "####### Use this only for the first time when taking data for a theta #######\n",
    "## Use this code to write data to a new file irrespective of the presence of subholder based on 'L'.\n",
    "create_folders_and_store_data(params, std_deviation_numberOp, filename, key = key)"
   ]
  },
  {
   "cell_type": "markdown",
   "id": "305c2879-083e-425f-8dee-b2fd532a907d",
   "metadata": {},
   "source": [
    "##### Correlation Matrix and Rate"
   ]
  },
  {
   "cell_type": "code",
   "execution_count": 418,
   "id": "8b50a0c2-b4b5-4044-b51b-7a23e7316684",
   "metadata": {},
   "outputs": [],
   "source": [
    "hop_exp_val = np.zeros((params['L'], params['L']), dtype=complex)\n",
    "for i in range(params['L']):\n",
    "    for j in range(i, params['L']):\n",
    "        b = driver.expr_builder()\n",
    "        b.add_term(\"CD\", np.array([i, j]), 1)  # Hopping operator between i and j            \n",
    "        hop_mpo = driver.get_mpo(b.finalize(adjust_order=True, fermionic_ops=\"\"), algo_type=MPOAlgorithmTypes.FastBipartite)\n",
    "        hop_exp_val[i, j] = driver.expectation(kets[0], hop_mpo, kets[0])\n",
    "        hop_exp_val[j, i] = np.conjugate(hop_exp_val[i, j])"
   ]
  },
  {
   "cell_type": "code",
   "execution_count": 419,
   "id": "67c3ac14-dcd7-4e4b-9f95-84471172939d",
   "metadata": {},
   "outputs": [],
   "source": [
    "correl_matrix = pd.DataFrame(hop_exp_val)\n",
    "filename = generate_file_name_hdf5(params, Correlation = True)\n",
    "create_folders_and_store_data(params, correl_matrix, filename, key = 'correl_matrix')"
   ]
  },
  {
   "cell_type": "code",
   "execution_count": null,
   "id": "104001b8-b4b5-473c-b855-6c181a169453",
   "metadata": {},
   "outputs": [],
   "source": []
  },
  {
   "cell_type": "markdown",
   "id": "f8e599f4-aa75-4499-87ff-0895d1e66cca",
   "metadata": {},
   "source": [
    "#### $U = 1.9$"
   ]
  },
  {
   "cell_type": "code",
   "execution_count": 234,
   "id": "3c670c46-ea3d-400c-beab-6ddb49cdcae1",
   "metadata": {},
   "outputs": [
    {
     "name": "stdout",
     "output_type": "stream",
     "text": [
      "Execution time: 96.02 seconds\n"
     ]
    }
   ],
   "source": [
    "start_time = time.time()\n",
    "#########################################\n",
    "\n",
    "params['u'] = 1.9\n",
    "driver.initialize_system(n_sites=params['L'], vacuum=Q(0), target=Q(params['N_BOSON']), hamil_init=False)\n",
    "driver.ghamil = driver.get_custom_hamiltonian(site_basis, site_ops)\n",
    "b = driver.expr_builder()\n",
    "\n",
    "# b.add_term(\"ADCB\", np.array([[i, i+1, i+1, i] for i in range(params['L']-1)]).flatten(), -params['t'])\n",
    "b.add_term(\"AD\", np.array([[i, i+1] for i in range(params['L']-1)]).flatten(), -params['t'])\n",
    "b.add_term(\"CB\", np.array([[i+1, i] for i in range(params['L']-1)]).flatten(), -params['t'])\n",
    "b.add_term(\"N\", np.array(np.arange(params['L'])), -(params['mu'] + params['u'] / 2))\n",
    "b.add_term(\"NN\", np.repeat(np.arange(params['L']), 2), params['u'] / 2)\n",
    "\n",
    "mpo = driver.get_mpo(b.finalize(adjust_order=True, fermionic_ops=\"\"), algo_type=MPOAlgorithmTypes.FastBipartite)\n",
    "mps = driver.get_random_mps(tag=\"KET\", bond_dim=50, nroots=2)\n",
    "energy = driver.dmrg(mpo, mps, n_sweeps=10, bond_dims=[50] * 4 + [100] * 4,\n",
    "    noises=[1e-4] * 4 + [1e-5] * 4 + [0], thrds=[1e-10] * 8, dav_max_iter=30, iprint=0)\n",
    "\n",
    "#########################################\n",
    "end_time = time.time()\n",
    "execution_time = end_time - start_time\n",
    "print(f\"Execution time: {execution_time:.2f} seconds\")"
   ]
  },
  {
   "cell_type": "code",
   "execution_count": 235,
   "id": "cc9f6cca-6add-4001-b14c-7facdf40cde9",
   "metadata": {},
   "outputs": [],
   "source": [
    "kets = [driver.split_mps(mps, ir, tag=\"KET-%d\" % ir) for ir in range(mps.nroots)]"
   ]
  },
  {
   "cell_type": "code",
   "execution_count": null,
   "id": "7345039f-b63e-4d90-ab9c-864105ebfe7b",
   "metadata": {},
   "outputs": [],
   "source": []
  },
  {
   "cell_type": "markdown",
   "id": "cc5b569f-9413-4c46-90ad-bc9911bdf152",
   "metadata": {},
   "source": [
    "##### First Excitation Gap"
   ]
  },
  {
   "cell_type": "code",
   "execution_count": 172,
   "id": "1017e938-b8fa-4064-9f2a-d171103940a1",
   "metadata": {},
   "outputs": [
    {
     "name": "stdout",
     "output_type": "stream",
     "text": [
      "gndenergy_U1_0e0_t1_2e0\n"
     ]
    }
   ],
   "source": [
    "key = generate_unique_key(params, gndstate_energy = True)\n",
    "print(key)"
   ]
  },
  {
   "cell_type": "code",
   "execution_count": 173,
   "id": "24ed8756-8e0d-40e5-a100-0fa577b8b469",
   "metadata": {},
   "outputs": [
    {
     "name": "stdout",
     "output_type": "stream",
     "text": [
      "gndenergy_U1_0e0_t1_2e0\n"
     ]
    }
   ],
   "source": [
    "gndenergy = pd.DataFrame({'gndenergy':[np.power(np.abs(energy[1]-energy[0]),2)]})\n",
    "filename = generate_file_name_hdf5(params)\n",
    "# print(filename)\n",
    "filename1 = generating_complete_path_hdf5(filename)\n",
    "# print(filename1)\n",
    "key = generate_unique_key(params, gndstate_energy = True)\n",
    "print(key)\n",
    "\n",
    "## Use the code below to append data to an existing file/folder directory\n",
    "append_data_to_hdf5(params, gndenergy, filename1, key = key)\n"
   ]
  },
  {
   "cell_type": "code",
   "execution_count": 174,
   "id": "da2de1f0-940d-4f8d-becc-2d8d79b0e82b",
   "metadata": {},
   "outputs": [
    {
     "name": "stdout",
     "output_type": "stream",
     "text": [
      "0.06264391408627396\n"
     ]
    }
   ],
   "source": [
    "gndenergy = load_matrix_from_hdf5(filename1, key = key)\n",
    "print(gndenergy[0][0])"
   ]
  },
  {
   "cell_type": "code",
   "execution_count": 175,
   "id": "465dc04f-bc26-46bd-aa0e-b06d73f50cf3",
   "metadata": {},
   "outputs": [
    {
     "name": "stdout",
     "output_type": "stream",
     "text": [
      "Keys in HDF5 file:\n",
      "/gndenergy_U1_0e0_t1_2e0\n",
      "/std_deviation_numberOp_U1_0e0_t1_2e0\n"
     ]
    }
   ],
   "source": [
    "with pd.HDFStore(filename1, 'r') as hdf:\n",
    "    # List all keys in the file\n",
    "    keys = hdf.keys()\n",
    "    print(\"Keys in HDF5 file:\")\n",
    "    for key in keys:\n",
    "        print(key)"
   ]
  },
  {
   "cell_type": "markdown",
   "id": "9e949f99-d280-458b-8b1a-476bd3a0bf9e",
   "metadata": {},
   "source": [
    "##### Entropy"
   ]
  },
  {
   "cell_type": "code",
   "execution_count": 62,
   "id": "10bb2a37-844f-4176-b09c-280479885a99",
   "metadata": {},
   "outputs": [],
   "source": [
    "entropy1 = driver.get_bipartite_entanglement(kets[0])\n",
    "update_csv_column(\"theta0_AHMDmrg_data.csv\", 'Entropy', 't', params['t'], str(entropy1))"
   ]
  },
  {
   "cell_type": "code",
   "execution_count": null,
   "id": "84fc0983-91ed-4841-8bbe-93b534ea3cd5",
   "metadata": {},
   "outputs": [],
   "source": [
    "#### Data Storing\n",
    "data_t1_2_theta0 = [[params['L'], params['t'], params['u'], params['N_BOSON'], params['NB_MAX'], energy[0], mps, energy[1], entropy]]\n",
    "add_data_to_csv(\"theta0_AHMDmrg_data.csv\", data_t1_2_theta0)"
   ]
  },
  {
   "cell_type": "markdown",
   "id": "63e55f24-58cb-44e1-8842-205c647a2556",
   "metadata": {},
   "source": [
    "##### NumberOperator and Its Standard Deviation"
   ]
  },
  {
   "cell_type": "code",
   "execution_count": 169,
   "id": "f5496ed6-fa14-46b8-be54-618d1cb2ce86",
   "metadata": {},
   "outputs": [],
   "source": [
    "std_val, std_nOp = 0, 0\n",
    "_exp_nop = []\n",
    "for i in range(params['L']):\n",
    "    b = driver.expr_builder()\n",
    "    b.add_term(\"N\", np.array([i]), 1)\n",
    "## Calculate <N>   \n",
    "    nOp_mpo = driver.get_mpo(b.finalize(adjust_order=True, fermionic_ops=\"\"), algo_type=MPOAlgorithmTypes.FastBipartite)\n",
    "    impo = driver.get_identity_mpo()\n",
    "\n",
    "    nOp_exp = driver.expectation(kets[0], nOp_mpo, kets[0]) / driver.expectation(kets[0], impo, kets[0])\n",
    "    _exp_nop.append(nOp_exp)\n",
    "## Calculate <N^2>\n",
    "    b = driver.expr_builder()\n",
    "    b.add_term(\"NN\", np.repeat([i], 2), 1)\n",
    "    \n",
    "    NN_mpo = driver.get_mpo(b.finalize(adjust_order=True, fermionic_ops=\"\"), algo_type=MPOAlgorithmTypes.FastBipartite)\n",
    "    NN_exp = driver.expectation(kets[0], NN_mpo, kets[0]) / driver.expectation(kets[0], impo, kets[0]) \n",
    "## Calculate Standard Deviation\n",
    "    std_val+=np.sqrt(NN_exp - (nOp_exp*nOp_exp))        \n",
    "std_nOp = (std_val/params['L'])"
   ]
  },
  {
   "cell_type": "markdown",
   "id": "9337e7ee-643d-4a3d-a809-1a5217f72f53",
   "metadata": {},
   "source": [
    "###### Expectation value of Number Operator on each site"
   ]
  },
  {
   "cell_type": "code",
   "execution_count": 170,
   "id": "160799d7-d7eb-458e-aaa1-683e7e09c1a6",
   "metadata": {},
   "outputs": [],
   "source": [
    "density_nop = pd.DataFrame(_exp_nop)\n",
    "filename = generate_file_name_hdf5(params, expnop = True)\n",
    "## Complete path of the location of the file\n",
    "filename1 = generating_complete_path_hdf5(filename, expnop = True)\n",
    "key = generate_unique_key(params, exp_nOp = True)\n",
    "create_folders_and_store_data(params, density_nop, filename, key = key, expnop = True)"
   ]
  },
  {
   "cell_type": "markdown",
   "id": "53c2bcdd-19a5-4a49-aa2f-b738b7380dcb",
   "metadata": {},
   "source": [
    "###### Standard Deviation"
   ]
  },
  {
   "cell_type": "code",
   "execution_count": 171,
   "id": "ba8a7d64-dd53-40ea-83f0-93a3fc0e488d",
   "metadata": {},
   "outputs": [],
   "source": [
    "std_deviation_numberOp = pd.DataFrame({'std_nOp':[std_nOp]})\n",
    "filename = generate_file_name_hdf5(params)\n",
    "filename1 = generating_complete_path_hdf5(filename)\n",
    "key = generate_unique_key(params, std_deviation_numberOp = True)\n",
    "\n",
    "## Use the code below to append data to an existing file/folder directory\n",
    "# append_data_to_hdf5(params, std_deviation_numberOp, filename1, key = key)\n",
    "\n",
    "####### Use this only for the first time when taking data for a theta #######\n",
    "## Use this code to write data to a new file irrespective of the presence of subholder based on 'L'.\n",
    "create_folders_and_store_data(params, std_deviation_numberOp, filename, key = key)"
   ]
  },
  {
   "cell_type": "markdown",
   "id": "b2e6b64b-bd21-4271-9859-f52a9f5484ad",
   "metadata": {},
   "source": [
    "##### Correlation Matrix and Rate"
   ]
  },
  {
   "cell_type": "code",
   "execution_count": 418,
   "id": "b17cf3a8-2370-43c7-806b-08ab5d26dc66",
   "metadata": {},
   "outputs": [],
   "source": [
    "hop_exp_val = np.zeros((params['L'], params['L']), dtype=complex)\n",
    "for i in range(params['L']):\n",
    "    for j in range(i, params['L']):\n",
    "        b = driver.expr_builder()\n",
    "        b.add_term(\"CD\", np.array([i, j]), 1)  # Hopping operator between i and j            \n",
    "        hop_mpo = driver.get_mpo(b.finalize(adjust_order=True, fermionic_ops=\"\"), algo_type=MPOAlgorithmTypes.FastBipartite)\n",
    "        hop_exp_val[i, j] = driver.expectation(kets[0], hop_mpo, kets[0])\n",
    "        hop_exp_val[j, i] = np.conjugate(hop_exp_val[i, j])"
   ]
  },
  {
   "cell_type": "code",
   "execution_count": 419,
   "id": "0076aa9b-728d-4e30-be31-990886dfb7b4",
   "metadata": {},
   "outputs": [],
   "source": [
    "correl_matrix = pd.DataFrame(hop_exp_val)\n",
    "filename = generate_file_name_hdf5(params, Correlation = True)\n",
    "create_folders_and_store_data(params, correl_matrix, filename, key = 'correl_matrix')"
   ]
  },
  {
   "cell_type": "code",
   "execution_count": null,
   "id": "e58f084f-dd26-4821-9d73-43c2a81468fd",
   "metadata": {},
   "outputs": [],
   "source": []
  },
  {
   "cell_type": "markdown",
   "id": "d1087f15-0f41-436f-8833-4fb553e2a381",
   "metadata": {},
   "source": [
    "#### $U = 2.0$"
   ]
  },
  {
   "cell_type": "code",
   "execution_count": 243,
   "id": "61fff8c6-6329-4d59-ab8c-040827962a51",
   "metadata": {},
   "outputs": [
    {
     "name": "stdout",
     "output_type": "stream",
     "text": [
      "Execution time: 115.35 seconds\n"
     ]
    }
   ],
   "source": [
    "start_time = time.time()\n",
    "#########################################\n",
    "\n",
    "params['u'] = 2\n",
    "driver.initialize_system(n_sites=params['L'], vacuum=Q(0), target=Q(params['N_BOSON']), hamil_init=False)\n",
    "driver.ghamil = driver.get_custom_hamiltonian(site_basis, site_ops)\n",
    "b = driver.expr_builder()\n",
    "\n",
    "# b.add_term(\"ADCB\", np.array([[i, i+1, i+1, i] for i in range(params['L']-1)]).flatten(), -params['t'])\n",
    "b.add_term(\"AD\", np.array([[i, i+1] for i in range(params['L']-1)]).flatten(), -params['t'])\n",
    "b.add_term(\"CB\", np.array([[i+1, i] for i in range(params['L']-1)]).flatten(), -params['t'])\n",
    "b.add_term(\"N\", np.array(np.arange(params['L'])), -(params['mu'] + params['u'] / 2))\n",
    "b.add_term(\"NN\", np.repeat(np.arange(params['L']), 2), params['u'] / 2)\n",
    "\n",
    "mpo = driver.get_mpo(b.finalize(adjust_order=True, fermionic_ops=\"\"), algo_type=MPOAlgorithmTypes.FastBipartite)\n",
    "mps = driver.get_random_mps(tag=\"KET\", bond_dim=50, nroots=2)\n",
    "energy = driver.dmrg(mpo, mps, n_sweeps=10, bond_dims=[50] * 4 + [100] * 4,\n",
    "    noises=[1e-4] * 4 + [1e-5] * 4 + [0], thrds=[1e-10] * 8, dav_max_iter=30, iprint=0)\n",
    "\n",
    "#########################################\n",
    "end_time = time.time()\n",
    "execution_time = end_time - start_time\n",
    "print(f\"Execution time: {execution_time:.2f} seconds\")"
   ]
  },
  {
   "cell_type": "code",
   "execution_count": 244,
   "id": "d44b3a46-3ddb-4d97-ba20-f88b4281e4bd",
   "metadata": {},
   "outputs": [],
   "source": [
    "kets = [driver.split_mps(mps, ir, tag=\"KET-%d\" % ir) for ir in range(mps.nroots)]"
   ]
  },
  {
   "cell_type": "code",
   "execution_count": null,
   "id": "fc8ebd28-1751-4d01-bf4a-74aef75e7db3",
   "metadata": {},
   "outputs": [],
   "source": []
  },
  {
   "cell_type": "markdown",
   "id": "c59b5508-f470-40ca-bd29-5059cf0433ff",
   "metadata": {},
   "source": [
    "##### First Excitation Gap"
   ]
  },
  {
   "cell_type": "code",
   "execution_count": 172,
   "id": "17661162-ddb7-46a5-8e34-2c19307661db",
   "metadata": {},
   "outputs": [
    {
     "name": "stdout",
     "output_type": "stream",
     "text": [
      "gndenergy_U1_0e0_t1_2e0\n"
     ]
    }
   ],
   "source": [
    "key = generate_unique_key(params, gndstate_energy = True)\n",
    "print(key)"
   ]
  },
  {
   "cell_type": "code",
   "execution_count": 173,
   "id": "98b888a5-91d9-40cb-8f2e-0831973b3902",
   "metadata": {},
   "outputs": [
    {
     "name": "stdout",
     "output_type": "stream",
     "text": [
      "gndenergy_U1_0e0_t1_2e0\n"
     ]
    }
   ],
   "source": [
    "gndenergy = pd.DataFrame({'gndenergy':[np.power(np.abs(energy[1]-energy[0]),2)]})\n",
    "filename = generate_file_name_hdf5(params)\n",
    "# print(filename)\n",
    "filename1 = generating_complete_path_hdf5(filename)\n",
    "# print(filename1)\n",
    "key = generate_unique_key(params, gndstate_energy = True)\n",
    "print(key)\n",
    "\n",
    "## Use the code below to append data to an existing file/folder directory\n",
    "append_data_to_hdf5(params, gndenergy, filename1, key = key)\n"
   ]
  },
  {
   "cell_type": "code",
   "execution_count": 174,
   "id": "ca28b152-f046-4028-8e46-97c6a753cc02",
   "metadata": {},
   "outputs": [
    {
     "name": "stdout",
     "output_type": "stream",
     "text": [
      "0.06264391408627396\n"
     ]
    }
   ],
   "source": [
    "gndenergy = load_matrix_from_hdf5(filename1, key = key)\n",
    "print(gndenergy[0][0])"
   ]
  },
  {
   "cell_type": "code",
   "execution_count": 175,
   "id": "2c17e7d5-ed6c-4579-8ba2-7fe09c782359",
   "metadata": {},
   "outputs": [
    {
     "name": "stdout",
     "output_type": "stream",
     "text": [
      "Keys in HDF5 file:\n",
      "/gndenergy_U1_0e0_t1_2e0\n",
      "/std_deviation_numberOp_U1_0e0_t1_2e0\n"
     ]
    }
   ],
   "source": [
    "with pd.HDFStore(filename1, 'r') as hdf:\n",
    "    # List all keys in the file\n",
    "    keys = hdf.keys()\n",
    "    print(\"Keys in HDF5 file:\")\n",
    "    for key in keys:\n",
    "        print(key)"
   ]
  },
  {
   "cell_type": "markdown",
   "id": "4ad06705-779a-4def-bdf1-18c6ab411202",
   "metadata": {},
   "source": [
    "##### Entropy"
   ]
  },
  {
   "cell_type": "code",
   "execution_count": 62,
   "id": "ad6dc6b4-9879-452a-9647-99c325416f7c",
   "metadata": {},
   "outputs": [],
   "source": [
    "entropy1 = driver.get_bipartite_entanglement(kets[0])\n",
    "update_csv_column(\"theta0_AHMDmrg_data.csv\", 'Entropy', 't', params['t'], str(entropy1))"
   ]
  },
  {
   "cell_type": "code",
   "execution_count": null,
   "id": "bd231e59-fec3-47f8-8caf-36031fd79500",
   "metadata": {},
   "outputs": [],
   "source": [
    "#### Data Storing\n",
    "data_t1_2_theta0 = [[params['L'], params['t'], params['u'], params['N_BOSON'], params['NB_MAX'], energy[0], mps, energy[1], entropy]]\n",
    "add_data_to_csv(\"theta0_AHMDmrg_data.csv\", data_t1_2_theta0)"
   ]
  },
  {
   "cell_type": "markdown",
   "id": "d14c1673-a7f0-4c58-a7d0-07ef2cb2566d",
   "metadata": {},
   "source": [
    "##### NumberOperator and Its Standard Deviation"
   ]
  },
  {
   "cell_type": "code",
   "execution_count": 169,
   "id": "f8fe055e-5503-4627-a237-98672515d1ca",
   "metadata": {},
   "outputs": [],
   "source": [
    "std_val, std_nOp = 0, 0\n",
    "_exp_nop = []\n",
    "for i in range(params['L']):\n",
    "    b = driver.expr_builder()\n",
    "    b.add_term(\"N\", np.array([i]), 1)\n",
    "## Calculate <N>   \n",
    "    nOp_mpo = driver.get_mpo(b.finalize(adjust_order=True, fermionic_ops=\"\"), algo_type=MPOAlgorithmTypes.FastBipartite)\n",
    "    impo = driver.get_identity_mpo()\n",
    "\n",
    "    nOp_exp = driver.expectation(kets[0], nOp_mpo, kets[0]) / driver.expectation(kets[0], impo, kets[0])\n",
    "    _exp_nop.append(nOp_exp)\n",
    "## Calculate <N^2>\n",
    "    b = driver.expr_builder()\n",
    "    b.add_term(\"NN\", np.repeat([i], 2), 1)\n",
    "    \n",
    "    NN_mpo = driver.get_mpo(b.finalize(adjust_order=True, fermionic_ops=\"\"), algo_type=MPOAlgorithmTypes.FastBipartite)\n",
    "    NN_exp = driver.expectation(kets[0], NN_mpo, kets[0]) / driver.expectation(kets[0], impo, kets[0]) \n",
    "## Calculate Standard Deviation\n",
    "    std_val+=np.sqrt(NN_exp - (nOp_exp*nOp_exp))        \n",
    "std_nOp = (std_val/params['L'])"
   ]
  },
  {
   "cell_type": "markdown",
   "id": "3a56d56d-8605-4eef-8418-b76ade8d651d",
   "metadata": {},
   "source": [
    "###### Expectation value of Number Operator on each site"
   ]
  },
  {
   "cell_type": "code",
   "execution_count": 170,
   "id": "56ecd140-d7f6-42e4-82c7-f36498a34deb",
   "metadata": {},
   "outputs": [],
   "source": [
    "density_nop = pd.DataFrame(_exp_nop)\n",
    "filename = generate_file_name_hdf5(params, expnop = True)\n",
    "## Complete path of the location of the file\n",
    "filename1 = generating_complete_path_hdf5(filename, expnop = True)\n",
    "key = generate_unique_key(params, exp_nOp = True)\n",
    "create_folders_and_store_data(params, density_nop, filename, key = key, expnop = True)"
   ]
  },
  {
   "cell_type": "markdown",
   "id": "565d9ed5-a402-4128-8f59-38529852b0e9",
   "metadata": {},
   "source": [
    "###### Standard Deviation"
   ]
  },
  {
   "cell_type": "code",
   "execution_count": 171,
   "id": "2621abe5-4f0a-448f-91de-0b85cdd41108",
   "metadata": {},
   "outputs": [],
   "source": [
    "std_deviation_numberOp = pd.DataFrame({'std_nOp':[std_nOp]})\n",
    "filename = generate_file_name_hdf5(params)\n",
    "filename1 = generating_complete_path_hdf5(filename)\n",
    "key = generate_unique_key(params, std_deviation_numberOp = True)\n",
    "\n",
    "## Use the code below to append data to an existing file/folder directory\n",
    "# append_data_to_hdf5(params, std_deviation_numberOp, filename1, key = key)\n",
    "\n",
    "####### Use this only for the first time when taking data for a theta #######\n",
    "## Use this code to write data to a new file irrespective of the presence of subholder based on 'L'.\n",
    "create_folders_and_store_data(params, std_deviation_numberOp, filename, key = key)"
   ]
  },
  {
   "cell_type": "markdown",
   "id": "4741cffd-852e-4797-a772-9891cb27433f",
   "metadata": {},
   "source": [
    "##### Correlation Matrix and Rate"
   ]
  },
  {
   "cell_type": "code",
   "execution_count": 418,
   "id": "8baaeb86-ced6-4018-8e16-7225b6d53cd7",
   "metadata": {},
   "outputs": [],
   "source": [
    "hop_exp_val = np.zeros((params['L'], params['L']), dtype=complex)\n",
    "for i in range(params['L']):\n",
    "    for j in range(i, params['L']):\n",
    "        b = driver.expr_builder()\n",
    "        b.add_term(\"CD\", np.array([i, j]), 1)  # Hopping operator between i and j            \n",
    "        hop_mpo = driver.get_mpo(b.finalize(adjust_order=True, fermionic_ops=\"\"), algo_type=MPOAlgorithmTypes.FastBipartite)\n",
    "        hop_exp_val[i, j] = driver.expectation(kets[0], hop_mpo, kets[0])\n",
    "        hop_exp_val[j, i] = np.conjugate(hop_exp_val[i, j])"
   ]
  },
  {
   "cell_type": "code",
   "execution_count": 419,
   "id": "4793bc29-9cc4-4f8a-bf00-9ead228a090e",
   "metadata": {},
   "outputs": [],
   "source": [
    "correl_matrix = pd.DataFrame(hop_exp_val)\n",
    "filename = generate_file_name_hdf5(params, Correlation = True)\n",
    "create_folders_and_store_data(params, correl_matrix, filename, key = 'correl_matrix')"
   ]
  },
  {
   "cell_type": "code",
   "execution_count": null,
   "id": "445d1b94-9053-4870-80e7-6bf235933a44",
   "metadata": {},
   "outputs": [],
   "source": []
  }
 ],
 "metadata": {
  "kernelspec": {
   "display_name": "Python 3 (ipykernel)",
   "language": "python",
   "name": "python3"
  },
  "language_info": {
   "codemirror_mode": {
    "name": "ipython",
    "version": 3
   },
   "file_extension": ".py",
   "mimetype": "text/x-python",
   "name": "python",
   "nbconvert_exporter": "python",
   "pygments_lexer": "ipython3",
   "version": "3.12.3"
  }
 },
 "nbformat": 4,
 "nbformat_minor": 5
}
