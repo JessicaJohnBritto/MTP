{
 "cells": [
  {
   "cell_type": "code",
   "execution_count": 3,
   "id": "743b0f9d-b312-413e-8376-86aaf6d07be9",
   "metadata": {},
   "outputs": [],
   "source": [
    "%load_ext autoreload\n",
    "%autoreload 2"
   ]
  },
  {
   "cell_type": "code",
   "execution_count": 2,
   "id": "4cd076dc-4071-4866-93b8-383405e6bfcb",
   "metadata": {},
   "outputs": [],
   "source": [
    "import csv\n",
    "import pandas as pd\n",
    "from pyblock2.driver.core import DMRGDriver, SymmetryTypes, MPOAlgorithmTypes\n",
    "import numpy as np\n",
    "import matplotlib.pyplot as plt\n",
    "from scipy.linalg import expm"
   ]
  },
  {
   "cell_type": "markdown",
   "id": "2034ef88-a724-4974-8654-1736822e637b",
   "metadata": {},
   "source": [
    "# Importing CSV Files for different $\\theta$s"
   ]
  },
  {
   "cell_type": "code",
   "execution_count": 20,
   "id": "be8c68c9-c57d-4cd6-802c-8464ab4137e7",
   "metadata": {},
   "outputs": [],
   "source": [
    "import sys\n",
    "sys.path.append('../')\n",
    "import os"
   ]
  },
  {
   "cell_type": "code",
   "execution_count": 21,
   "id": "99f83ea9-a0c6-4c51-9852-eafbe666a4cf",
   "metadata": {},
   "outputs": [],
   "source": [
    "current_file = os.path.abspath(os.path.dirname(os.getcwd())) \n",
    "# Theta_zero\n",
    "csv_filename1 = os.path.join(current_file, 'AHM_Data_Codes\\\\theta0\\\\theta0_AHMDmrg_data.csv')\n",
    "df1 = pd.read_csv(csv_filename1)\n",
    "# Theta_Pi/4\n",
    "csv_filename2 = os.path.join(current_file, 'AHM_Data_Codes\\\\theta_Piby4\\\\theta_PiByfour_AHMDmrg_data.csv')\n",
    "df2 = pd.read_csv(csv_filename2)\n",
    "# Theta_Pi/2\n",
    "csv_filename3 = os.path.join(current_file, 'AHM_Data_Codes\\\\theta_Piby2\\\\theta_PiBytwo_AHMDmrg_data.csv')\n",
    "df3 = pd.read_csv(csv_filename3)\n",
    "# Theta_3Pi/4\n",
    "csv_filename4 = os.path.join(current_file, 'AHM_Data_Codes\\\\theta_3Piby4\\\\theta_threePiByfour_AHMDmrg_data.csv')\n",
    "df4 = pd.read_csv(csv_filename4)\n",
    "# Theta_Pi\n",
    "csv_filename5 = os.path.join(current_file, 'AHM_Data_Codes\\\\theta_Pi\\\\theta_Pi_AHMDmrg_data.csv')\n",
    "df5 = pd.read_csv(csv_filename5)"
   ]
  },
  {
   "cell_type": "markdown",
   "id": "a01f7326-4529-4c59-a081-ad5760763de7",
   "metadata": {},
   "source": [
    "# Retrieving Data Scripts"
   ]
  },
  {
   "cell_type": "code",
   "execution_count": 27,
   "id": "4b2997ce-fe7d-4063-afa9-d157dd880814",
   "metadata": {},
   "outputs": [
    {
     "name": "stdout",
     "output_type": "stream",
     "text": [
      "                                             Entropy\n",
      "5  [0.85317279 1.34409617 1.74704352 2.03002529 2...\n"
     ]
    }
   ],
   "source": [
    "def get_data_by_conditions(df, conditions, columns):\n",
    "    \"\"\"\n",
    "    Get specific data from the CSV file based on dynamically generated conditions.\n",
    "\n",
    "    Parameters:\n",
    "    - df: Object of the filename that has to be accessed\n",
    "    - conditions (dict): A dictionary where keys are column names and values are the conditions to filter by.\n",
    "    - columns (list): A list of column names to return data from.\n",
    "\n",
    "    Returns:\n",
    "    - DataFrame containing the filtered data for the specified columns.\n",
    "    \"\"\"    \n",
    "    condition = pd.Series([True] * len(df)) \n",
    "    for key, value in conditions.items():\n",
    "        condition &= df[key] == value\n",
    "    filtered_df = df[condition]\n",
    "    return filtered_df[columns] if not filtered_df.empty else None\n",
    "\n",
    "# Example usage:\n",
    "conditions = {'L': 10, 't': 0.5} \n",
    "columns = ['Entropy']\n",
    "result = get_data_by_conditions(df3, conditions, columns)\n",
    "print(result)"
   ]
  },
  {
   "cell_type": "code",
   "execution_count": null,
   "id": "17f217de-6086-48d6-959b-76ab1a8523bd",
   "metadata": {},
   "outputs": [],
   "source": []
  }
 ],
 "metadata": {
  "kernelspec": {
   "display_name": "Python 3 (ipykernel)",
   "language": "python",
   "name": "python3"
  },
  "language_info": {
   "codemirror_mode": {
    "name": "ipython",
    "version": 3
   },
   "file_extension": ".py",
   "mimetype": "text/x-python",
   "name": "python",
   "nbconvert_exporter": "python",
   "pygments_lexer": "ipython3",
   "version": "3.12.3"
  }
 },
 "nbformat": 4,
 "nbformat_minor": 5
}
