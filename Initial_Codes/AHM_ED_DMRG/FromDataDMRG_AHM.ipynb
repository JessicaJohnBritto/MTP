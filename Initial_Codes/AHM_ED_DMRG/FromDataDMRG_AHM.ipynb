{
 "cells": [
  {
   "cell_type": "code",
   "execution_count": 15,
   "id": "743b0f9d-b312-413e-8376-86aaf6d07be9",
   "metadata": {},
   "outputs": [
    {
     "name": "stdout",
     "output_type": "stream",
     "text": [
      "The autoreload extension is already loaded. To reload it, use:\n",
      "  %reload_ext autoreload\n"
     ]
    }
   ],
   "source": [
    "%load_ext autoreload\n",
    "%autoreload 2"
   ]
  },
  {
   "cell_type": "code",
   "execution_count": 16,
   "id": "4cd076dc-4071-4866-93b8-383405e6bfcb",
   "metadata": {},
   "outputs": [],
   "source": [
    "import csv\n",
    "import pickle\n",
    "import pandas as pd\n",
    "from pyblock2.driver.core import DMRGDriver, SymmetryTypes, MPOAlgorithmTypes\n",
    "import numpy as np\n",
    "import matplotlib.pyplot as plt\n",
    "from scipy.linalg import expm\n",
    "from ast import literal_eval"
   ]
  },
  {
   "cell_type": "markdown",
   "id": "2034ef88-a724-4974-8654-1736822e637b",
   "metadata": {},
   "source": [
    "# Importing CSV Files for different $\\theta$s and Converting them to .pkl"
   ]
  },
  {
   "cell_type": "code",
   "execution_count": 22,
   "id": "be8c68c9-c57d-4cd6-802c-8464ab4137e7",
   "metadata": {},
   "outputs": [],
   "source": [
    "import sys\n",
    "sys.path.append('../')\n",
    "import os"
   ]
  },
  {
   "cell_type": "code",
   "execution_count": 23,
   "id": "f7442ad4-7cb0-4e9c-aeff-6e5271adb93c",
   "metadata": {},
   "outputs": [],
   "source": [
    "current_file = os.path.abspath(os.path.dirname(os.getcwd()))"
   ]
  },
  {
   "cell_type": "code",
   "execution_count": 24,
   "id": "99f83ea9-a0c6-4c51-9852-eafbe666a4cf",
   "metadata": {},
   "outputs": [],
   "source": [
    "# Theta_zero\n",
    "csv_filename1 = os.path.join(current_file, 'AHM_Data_Codes\\\\theta0\\\\theta0_AHMDmrg_data.csv')\n",
    "df1 = pd.read_csv(csv_filename1)\n",
    "df1.to_pickle('theta0.pkl')"
   ]
  },
  {
   "cell_type": "code",
   "execution_count": 25,
   "id": "1b0585a2-9b50-4004-a89c-25d9ef905501",
   "metadata": {},
   "outputs": [],
   "source": [
    "# Theta_Pi/4\n",
    "csv_filename2 = os.path.join(current_file, 'AHM_Data_Codes\\\\theta_Piby4\\\\theta_PiByfour_AHMDmrg_data.csv')\n",
    "df2 = pd.read_csv(csv_filename2)\n",
    "df2.to_pickle('thetaPiby4.pkl')"
   ]
  },
  {
   "cell_type": "code",
   "execution_count": 26,
   "id": "00a4f2b6-065e-43c6-9a9f-e0dd1472a6cb",
   "metadata": {},
   "outputs": [],
   "source": [
    "# Theta_Pi/2\n",
    "csv_filename3 = os.path.join(current_file, 'AHM_Data_Codes\\\\theta_Piby2\\\\theta_PiBytwo_AHMDmrg_data.csv')\n",
    "df3 = pd.read_csv(csv_filename3)\n",
    "df3.to_pickle('thetaPiby2.pkl')"
   ]
  },
  {
   "cell_type": "code",
   "execution_count": 27,
   "id": "04835309-4ac2-4bc3-8864-47d76d814f90",
   "metadata": {},
   "outputs": [],
   "source": [
    "# Theta_3Pi/4\n",
    "csv_filename4 = os.path.join(current_file, 'AHM_Data_Codes\\\\theta_3Piby4\\\\theta_threePiByfour_AHMDmrg_data.csv')\n",
    "df4 = pd.read_csv(csv_filename4)\n",
    "df4.to_pickle('theta3Piby4.pkl')"
   ]
  },
  {
   "cell_type": "code",
   "execution_count": 28,
   "id": "fb67e40c-898d-4bc0-b819-cd8231b86704",
   "metadata": {},
   "outputs": [],
   "source": [
    "# Theta_Pi\n",
    "csv_filename5 = os.path.join(current_file, 'AHM_Data_Codes\\\\theta_Pi\\\\theta_Pi_AHMDmrg_data.csv')\n",
    "df5 = pd.read_csv(csv_filename5)\n",
    "df5.to_pickle('thetaPi.pkl')"
   ]
  },
  {
   "cell_type": "markdown",
   "id": "bb40080e-302b-4a81-b6ac-6a35d6e0c7f9",
   "metadata": {},
   "source": [
    "# Reading Pickle files"
   ]
  },
  {
   "cell_type": "code",
   "execution_count": 35,
   "id": "edd63a35-bcc9-494a-832a-bd706efcbd10",
   "metadata": {},
   "outputs": [],
   "source": [
    "df1 = pd.read_pickle('theta0.pkl')"
   ]
  },
  {
   "cell_type": "code",
   "execution_count": 36,
   "id": "5efe0ced-a0c8-4916-a958-df3bcf883627",
   "metadata": {},
   "outputs": [],
   "source": [
    "df2 = pd.read_pickle('thetaPiby4.pkl')"
   ]
  },
  {
   "cell_type": "code",
   "execution_count": 37,
   "id": "14e71b97-4daf-4b71-81e9-b1d3e3534578",
   "metadata": {},
   "outputs": [],
   "source": [
    "df3 = pd.read_pickle('thetaPiby2.pkl')"
   ]
  },
  {
   "cell_type": "code",
   "execution_count": 38,
   "id": "6a3afbc8-4420-4ed4-ba82-d2a73cbfe5a8",
   "metadata": {},
   "outputs": [],
   "source": [
    "df4 = pd.read_pickle('theta3Piby4.pkl')"
   ]
  },
  {
   "cell_type": "code",
   "execution_count": 39,
   "id": "f7ed1c79-de00-4a3d-bb2e-25eb7372e8c9",
   "metadata": {},
   "outputs": [],
   "source": [
    "df5 = pd.read_pickle('thetaPi.pkl')"
   ]
  },
  {
   "cell_type": "markdown",
   "id": "5b1a9eb0-68fc-4ba5-8022-e0b542b4c179",
   "metadata": {},
   "source": [
    "# Defining Parameters of the Hamiltonian"
   ]
  },
  {
   "cell_type": "code",
   "execution_count": 40,
   "id": "685605ff-7628-4407-85a2-9424b80aeb5c",
   "metadata": {},
   "outputs": [],
   "source": [
    "params={}\n",
    "params['df_list'] = [df1, df2, df3, df4, df5]\n",
    "params['L'] = 10\n",
    "params['t_list'] = np.arange(0, 2.1, 0.1).round(1)\n",
    "params['theta_list'] = [0, np.pi/4, np.pi/2, 3*np.pi/4, np.pi]\n",
    "params['U'] = 1"
   ]
  },
  {
   "cell_type": "markdown",
   "id": "a01f7326-4529-4c59-a081-ad5760763de7",
   "metadata": {},
   "source": [
    "# Retrieving Data Scripts"
   ]
  },
  {
   "cell_type": "code",
   "execution_count": 9,
   "id": "37bb8831-bdd7-49b7-ad2b-e9ecb5954757",
   "metadata": {},
   "outputs": [],
   "source": [
    "def convert_stringlist_to_float_list(string):\n",
    "    # Remove the square brackets and split by spaces\n",
    "    float_list = list(map(float, string.strip('[]').split()))\n",
    "    return float_list"
   ]
  },
  {
   "cell_type": "code",
   "execution_count": 158,
   "id": "4b2997ce-fe7d-4063-afa9-d157dd880814",
   "metadata": {},
   "outputs": [
    {
     "name": "stdout",
     "output_type": "stream",
     "text": [
      "['[0.80231012 1.04221371 1.22385599 1.38203118 1.51390369 1.60753056\\n 1.64518022 1.60977432 1.45966093]']\n"
     ]
    },
    {
     "ename": "SyntaxError",
     "evalue": "source code string cannot contain null bytes (<string>)",
     "output_type": "error",
     "traceback": [
      "Traceback \u001b[1;36m(most recent call last)\u001b[0m:\n",
      "\u001b[0m  File \u001b[0;32mD:\\AnacondaFinal\\anacondaInstall\\envs\\AJJ\\Lib\\site-packages\\IPython\\core\\interactiveshell.py:3577\u001b[0m in \u001b[0;35mrun_code\u001b[0m\n    exec(code_obj, self.user_global_ns, self.user_ns)\u001b[0m\n",
      "\u001b[1;36m  Cell \u001b[1;32mIn[158], line 27\u001b[1;36m\n\u001b[1;33m    k = eval(result.values[0])\u001b[1;36m\n",
      "\u001b[1;36m  File \u001b[1;32m<string>\u001b[1;36m\u001b[0m\n\u001b[1;31mSyntaxError\u001b[0m\u001b[1;31m:\u001b[0m source code string cannot contain null bytes\n"
     ]
    }
   ],
   "source": [
    "def get_data_by_conditions(df, conditions, columns):\n",
    "    \"\"\"\n",
    "    Get specific data from the CSV file based on dynamically generated conditions.\n",
    "\n",
    "    Parameters:\n",
    "    - df: Object of the filename that has to be accessed\n",
    "    - conditions (dict): A dictionary where keys are column names and values are the conditions to filter by.\n",
    "    - columns (list): A list of column names to return data from.\n",
    "\n",
    "    Returns:\n",
    "    - DataFrame containing the filtered data for the specified columns.\n",
    "    \"\"\"    \n",
    "    condition = pd.Series([True] * len(df)) \n",
    "    for key, value in conditions.items():\n",
    "        condition &= df[key] == value\n",
    "    filtered_df = df[condition]\n",
    "    return filtered_df[columns] if not filtered_df.empty else None\n",
    "\n",
    "# Example usage:\n",
    "conditions = {'L': 10, 't': 0.3} \n",
    "columns = ['Entropy']\n",
    "result = get_data_by_conditions(df1, conditions, columns)\n",
    "# print((result.iloc[0]))\n",
    "print(result.values[0])\n",
    "# float_list = convert_stringlist_to_float_list(result.values[0][0])\n",
    "# print(float_list[0])\n",
    "k = eval(result.values[0])\n",
    "print(k)\n",
    "# print(type(k))"
   ]
  },
  {
   "cell_type": "code",
   "execution_count": 61,
   "id": "17f217de-6086-48d6-959b-76ab1a8523bd",
   "metadata": {},
   "outputs": [],
   "source": [
    "import pandas as pd\n",
    "\n",
    "# Create a DataFrame\n",
    "df = pd.DataFrame({'A': [1, 2, 3], 'B': [4, 5, 6]})\n",
    "\n",
    "# Save the DataFrame to a pickle file\n",
    "df.to_pickle('my_dataframe.pkl')"
   ]
  },
  {
   "cell_type": "code",
   "execution_count": 14,
   "id": "ac2635d5-70b2-43b4-9561-988a4f0cf6e8",
   "metadata": {},
   "outputs": [
    {
     "name": "stdout",
     "output_type": "stream",
     "text": [
      "<class 'numpy.ndarray'>\n",
      "[0.9193072  1.18678735 1.35442459 1.49825194 1.61771953 1.70377248\n",
      " 1.74530406 1.72658281 1.56211169]\n",
      "[9.0]\n"
     ]
    }
   ],
   "source": [
    "def get_data_by_conditions(df, conditions, columns):\n",
    "    condition = pd.Series([True] * len(df)) \n",
    "    for key, value in conditions.items():\n",
    "        condition &= df[key] == value\n",
    "    filtered_df = df[condition]\n",
    "    return filtered_df[columns] if not filtered_df.empty else None\n",
    "\n",
    "conditions = {'L': 10, 't': 0.5} \n",
    "entropy = ['Entropy']\n",
    "result = get_data_by_conditions(df1, conditions, entropy)\n",
    "print(type(result.values))\n",
    "print(result.values[0][0])\n",
    "print(convert_stringlist_to_float_list(result.values[0][0]))"
   ]
  },
  {
   "cell_type": "code",
   "execution_count": 159,
   "id": "7f01ecb7-0a16-4178-9848-27f7ca8c2c12",
   "metadata": {},
   "outputs": [
    {
     "name": "stdout",
     "output_type": "stream",
     "text": [
      "   GndEigenval  FirstExcitedEigenval\n",
      "3    -2.755692             -2.493139\n",
      "-2.493139382951964\n"
     ]
    }
   ],
   "source": [
    "conditions = {'L': params['L'], 't': 0.3} \n",
    "keywords = ['GndEigenval', 'FirstExcitedEigenval']\n",
    "result = get_data_by_conditions(df1, conditions, keywords)\n",
    "print(result)\n",
    "print(result.values[0][1])"
   ]
  },
  {
   "cell_type": "code",
   "execution_count": 142,
   "id": "268614fa-fc7f-42b6-b0d0-d92b111b5847",
   "metadata": {},
   "outputs": [
    {
     "name": "stdout",
     "output_type": "stream",
     "text": [
      "   GndEigenval  FirstExcitedEigenval\n",
      "5    -5.688743             -5.432495\n",
      "-5.432494795752491\n"
     ]
    }
   ],
   "source": [
    "conditions = {'L': params['L'], 't': 0.5} \n",
    "keywords = ['GndEigenval', 'FirstExcitedEigenval']\n",
    "result = get_data_by_conditions(params['df_list'][1], conditions, keywords)\n",
    "print(result)\n",
    "print(result.values[0][1])"
   ]
  },
  {
   "cell_type": "code",
   "execution_count": 121,
   "id": "31d7d2a9-0d95-4e3e-9c33-365b601335d5",
   "metadata": {},
   "outputs": [
    {
     "name": "stdout",
     "output_type": "stream",
     "text": [
      "<class 'numpy.ndarray'>\n",
      "<class 'str'>\n"
     ]
    }
   ],
   "source": [
    "conditions = {'L': 10, 't': 0.5} \n",
    "eigenvec = ['GndEigenvec']\n",
    "result = get_data_by_conditions(df1, conditions, eigenvec)\n",
    "print(type(result.values))\n",
    "print(type(result.values[0][0]))"
   ]
  },
  {
   "cell_type": "markdown",
   "id": "9ebe0188-768d-43d1-897c-9a7ce64007b4",
   "metadata": {},
   "source": [
    "# First Excitation Gap as a Function of J"
   ]
  },
  {
   "cell_type": "code",
   "execution_count": 43,
   "id": "e00102f5-dfc0-4fc9-89a0-b28b11500c1d",
   "metadata": {},
   "outputs": [
    {
     "data": {
      "image/png": "[encoded data removed]",
      "text/plain": [
       "<Figure size 640x480 with 1 Axes>"
      ]
     },
     "metadata": {},
     "output_type": "display_data"
    }
   ],
   "source": [
    "params['t_list'] = np.arange(0, 2.1, 0.1).round(1)\n",
    "colors1 = plt.cm.Reds(np.linspace(0.5, 0.95, len(params['theta_list'])))\n",
    "mss = 8\n",
    "for i, df in enumerate(params['df_list']):\n",
    "    gap = []\n",
    "    for t in params['t_list']:\n",
    "        params['t'] = t\n",
    "        conditions = {'t': t} \n",
    "        keywords = ['GndEigenval', 'FirstExcitedEigenval']\n",
    "        result = get_data_by_conditions(df, conditions, keywords)\n",
    "        gnd_energy  = result.values[0][1]\n",
    "        fexcited_energy = result.values[0][0]\n",
    "        energy_gap = fexcited_energy - gnd_energy\n",
    "        gap.append(np.abs(energy_gap))\n",
    "    plt.plot(params['t_list'], gap, \"--o\", label=f'$θ$={params['theta_list'][i]:.2f}', color = colors1[i], ms=mss)\n",
    "    plt.legend(bbox_to_anchor=(1.04, 0.5), loc=\"center left\", borderaxespad=0)\n",
    "    mss-=2\n",
    "\n",
    "plt.xlabel('J')\n",
    "plt.ylabel('First Excitation Gap')\n",
    "U = params['U']\n",
    "plt.title(f'First excited gap as a function of J for U={U}')\n",
    "plt.grid(True)\n",
    "plt.show()"
   ]
  },
  {
   "cell_type": "markdown",
   "id": "3cdab4dd-b99a-47c3-9493-928488c4d3d1",
   "metadata": {},
   "source": [
    "# Bipartite Entanglement Entropy as a Function of J"
   ]
  },
  {
   "cell_type": "code",
   "execution_count": null,
   "id": "bfe595be-7859-490c-b0a9-79cd5dbf5a74",
   "metadata": {},
   "outputs": [],
   "source": [
    "params['t_list'] = np.arange(0, 2.1, 0.1).round(1)\n",
    "colors1 = plt.cm.Reds(np.linspace(0.5, 0.95, len(params['theta_list'])))\n",
    "mss = 8\n",
    "for i, df in enumerate(params['df_list']):\n",
    "    entropy_list = []\n",
    "    for t in params['t_list']:\n",
    "        params['t'] = t\n",
    "        conditions = {'t': t} \n",
    "        keywords = ['Entropy']\n",
    "        result = get_data_by_conditions(df, conditions, keywords)\n",
    "        entropy = convert_stringlist_to_float_list(result.values[0][0])\n",
    "        entropy_list.append(entropy[0])\n",
    "    plt.plot(params['t_list'], entropy_list, \"--o\", label=f'$θ$={params['theta_list'][i]:.2f}', color = colors1[i], ms=mss)\n",
    "    plt.legend(bbox_to_anchor=(1.04, 0.5), loc=\"center left\", borderaxespad=0)\n",
    "    mss-=2\n",
    "\n",
    "plt.xlabel('J')\n",
    "plt.ylabel('Bipartite Entanglement Entropy')\n",
    "U = params['U']\n",
    "plt.title(f'Bipartite Entanglement Entropy as a function of J for U={U}')\n",
    "plt.grid(True)\n",
    "plt.show()"
   ]
  },
  {
   "cell_type": "markdown",
   "id": "e743a9ed-7a19-45ed-ba5c-d83c102635b8",
   "metadata": {},
   "source": [
    "# Scaling Laws: Volume and Area Laws"
   ]
  },
  {
   "cell_type": "code",
   "execution_count": null,
   "id": "e9b5cdc8-49b9-43e1-970b-17887a13ea87",
   "metadata": {},
   "outputs": [],
   "source": [
    "params['t_list_scalelaws'] = np.arange(0, 0.5, 0.1).round(1)\n",
    "colors1 = plt.cm.Reds(np.linspace(0.5, 0.95, len(params['theta_list'])))\n",
    "for t in params['t_list_scalelaws']:\n",
    "    mss = 8\n",
    "    params['t'] = t\n",
    "    conditions = {'t': t} \n",
    "    keywords = ['Entropy']\n",
    "    for i, df in enumerate(params['df_list']):\n",
    "        result = get_data_by_conditions(df, conditions, keywords)\n",
    "        entropy = convert_stringlist_to_float_list(result.values[0][0])\n",
    "        plt.plot(list(range(params['L'])), entropy, \"--o\", label=f'$θ$={params['theta_list'][i]:.2f}', color = colors1[i], ms=mss)\n",
    "        plt.legend(bbox_to_anchor=(1.04, 0.5), loc=\"center left\", borderaxespad=0)\n",
    "        ms-=2\n",
    "    plt.xlabel('Site')\n",
    "    plt.ylabel('Entropy')\n",
    "    U = params['U']\n",
    "    plt.title(f'Entanglement Scaling Laws for J = {t}, U={U}')\n",
    "    plt.grid(True)\n",
    "    plt.show() "
   ]
  }
 ],
 "metadata": {
  "kernelspec": {
   "display_name": "Python 3 (ipykernel)",
   "language": "python",
   "name": "python3"
  },
  "language_info": {
   "codemirror_mode": {
    "name": "ipython",
    "version": 3
   },
   "file_extension": ".py",
   "mimetype": "text/x-python",
   "name": "python",
   "nbconvert_exporter": "python",
   "pygments_lexer": "ipython3",
   "version": "3.12.3"
  }
 },
 "nbformat": 4,
 "nbformat_minor": 5
}
