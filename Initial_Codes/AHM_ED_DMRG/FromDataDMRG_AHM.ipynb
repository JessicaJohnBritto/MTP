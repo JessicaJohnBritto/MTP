{
 "cells": [
  {
   "cell_type": "code",
   "execution_count": 3,
   "id": "743b0f9d-b312-413e-8376-86aaf6d07be9",
   "metadata": {},
   "outputs": [],
   "source": [
    "%load_ext autoreload\n",
    "%autoreload 2"
   ]
  },
  {
   "cell_type": "code",
   "execution_count": 69,
   "id": "4cd076dc-4071-4866-93b8-383405e6bfcb",
   "metadata": {},
   "outputs": [],
   "source": [
    "import csv\n",
    "import pickle\n",
    "import pandas as pd\n",
    "from pyblock2.driver.core import DMRGDriver, SymmetryTypes, MPOAlgorithmTypes\n",
    "import numpy as np\n",
    "import matplotlib.pyplot as plt\n",
    "from scipy.linalg import expm\n",
    "from ast import literal_eval"
   ]
  },
  {
   "cell_type": "markdown",
   "id": "2034ef88-a724-4974-8654-1736822e637b",
   "metadata": {},
   "source": [
    "# Importing CSV Files for different $\\theta$s and Converting them to .pkl"
   ]
  },
  {
   "cell_type": "code",
   "execution_count": 20,
   "id": "be8c68c9-c57d-4cd6-802c-8464ab4137e7",
   "metadata": {},
   "outputs": [],
   "source": [
    "import sys\n",
    "sys.path.append('../')\n",
    "import os"
   ]
  },
  {
   "cell_type": "code",
   "execution_count": 89,
   "id": "f7442ad4-7cb0-4e9c-aeff-6e5271adb93c",
   "metadata": {},
   "outputs": [],
   "source": [
    "current_file = os.path.abspath(os.path.dirname(os.getcwd()))"
   ]
  },
  {
   "cell_type": "code",
   "execution_count": 88,
   "id": "99f83ea9-a0c6-4c51-9852-eafbe666a4cf",
   "metadata": {},
   "outputs": [],
   "source": [
    "# Theta_zero\n",
    "csv_filename1 = os.path.join(current_file, 'AHM_Data_Codes\\\\theta0\\\\theta0_AHMDmrg_data.csv')\n",
    "df1 = pd.read_csv(csv_filename1)\n",
    "df1.to_pickle('theta0.pkl')"
   ]
  },
  {
   "cell_type": "code",
   "execution_count": 90,
   "id": "1b0585a2-9b50-4004-a89c-25d9ef905501",
   "metadata": {},
   "outputs": [],
   "source": [
    "# Theta_Pi/4\n",
    "csv_filename2 = os.path.join(current_file, 'AHM_Data_Codes\\\\theta_Piby4\\\\theta_PiByfour_AHMDmrg_data.csv')\n",
    "df2 = pd.read_csv(csv_filename2)\n",
    "df2.to_pickle('thetaPiby4.pkl')"
   ]
  },
  {
   "cell_type": "code",
   "execution_count": 91,
   "id": "00a4f2b6-065e-43c6-9a9f-e0dd1472a6cb",
   "metadata": {},
   "outputs": [],
   "source": [
    "# Theta_Pi/2\n",
    "csv_filename3 = os.path.join(current_file, 'AHM_Data_Codes\\\\theta_Piby2\\\\theta_PiBytwo_AHMDmrg_data.csv')\n",
    "df3 = pd.read_csv(csv_filename3)\n",
    "df3.to_pickle('thetaPiby2.pkl')"
   ]
  },
  {
   "cell_type": "code",
   "execution_count": 92,
   "id": "04835309-4ac2-4bc3-8864-47d76d814f90",
   "metadata": {},
   "outputs": [],
   "source": [
    "# Theta_3Pi/4\n",
    "csv_filename4 = os.path.join(current_file, 'AHM_Data_Codes\\\\theta_3Piby4\\\\theta_threePiByfour_AHMDmrg_data.csv')\n",
    "df4 = pd.read_csv(csv_filename4)\n",
    "df4.to_pickle('theta3Piby4.pkl')"
   ]
  },
  {
   "cell_type": "code",
   "execution_count": 93,
   "id": "fb67e40c-898d-4bc0-b819-cd8231b86704",
   "metadata": {},
   "outputs": [],
   "source": [
    "# Theta_Pi\n",
    "csv_filename5 = os.path.join(current_file, 'AHM_Data_Codes\\\\theta_Pi\\\\theta_Pi_AHMDmrg_data.csv')\n",
    "df5 = pd.read_csv(csv_filename5)\n",
    "df5.to_pickle('thetaPi.pkl')"
   ]
  },
  {
   "cell_type": "markdown",
   "id": "bb40080e-302b-4a81-b6ac-6a35d6e0c7f9",
   "metadata": {},
   "source": [
    "# Reading Pickle files"
   ]
  },
  {
   "cell_type": "code",
   "execution_count": 94,
   "id": "edd63a35-bcc9-494a-832a-bd706efcbd10",
   "metadata": {},
   "outputs": [],
   "source": [
    "df1 = pd.read_pickle('theta0.pkl')"
   ]
  },
  {
   "cell_type": "code",
   "execution_count": 95,
   "id": "5efe0ced-a0c8-4916-a958-df3bcf883627",
   "metadata": {},
   "outputs": [],
   "source": [
    "df2 = pd.read_pickle('thetaPiby4.pkl')"
   ]
  },
  {
   "cell_type": "code",
   "execution_count": 96,
   "id": "14e71b97-4daf-4b71-81e9-b1d3e3534578",
   "metadata": {},
   "outputs": [],
   "source": [
    "df3 = pd.read_pickle('thetaPiby2.pkl')"
   ]
  },
  {
   "cell_type": "code",
   "execution_count": 97,
   "id": "6a3afbc8-4420-4ed4-ba82-d2a73cbfe5a8",
   "metadata": {},
   "outputs": [],
   "source": [
    "df4 = pd.read_pickle('theta3Piby4.pkl')"
   ]
  },
  {
   "cell_type": "code",
   "execution_count": 98,
   "id": "f7ed1c79-de00-4a3d-bb2e-25eb7372e8c9",
   "metadata": {},
   "outputs": [],
   "source": [
    "df5 = pd.read_pickle('thetaPi.pkl')"
   ]
  },
  {
   "cell_type": "markdown",
   "id": "a01f7326-4529-4c59-a081-ad5760763de7",
   "metadata": {},
   "source": [
    "# Retrieving Data Scripts"
   ]
  },
  {
   "cell_type": "code",
   "execution_count": 123,
   "id": "37bb8831-bdd7-49b7-ad2b-e9ecb5954757",
   "metadata": {},
   "outputs": [],
   "source": [
    "def convert_stringlist_to_float_list(string):\n",
    "    # Remove the square brackets and split by spaces\n",
    "    float_list = list(map(float, string.strip('[]').split()))\n",
    "    return float_list"
   ]
  },
  {
   "cell_type": "code",
   "execution_count": 127,
   "id": "4b2997ce-fe7d-4063-afa9-d157dd880814",
   "metadata": {},
   "outputs": [
    {
     "name": "stdout",
     "output_type": "stream",
     "text": [
      "['[0.85317279 1.34409617 1.74704352 2.03002529 2.22124208 2.33979321\\n 2.37893515 2.33663435 2.21438738]']\n"
     ]
    },
    {
     "ename": "SyntaxError",
     "evalue": "source code string cannot contain null bytes (<string>)",
     "output_type": "error",
     "traceback": [
      "Traceback \u001b[1;36m(most recent call last)\u001b[0m:\n",
      "\u001b[0m  File \u001b[0;32mD:\\AnacondaFinal\\anacondaInstall\\envs\\AJJ\\Lib\\site-packages\\IPython\\core\\interactiveshell.py:3577\u001b[0m in \u001b[0;35mrun_code\u001b[0m\n    exec(code_obj, self.user_global_ns, self.user_ns)\u001b[0m\n",
      "\u001b[1;36m  Cell \u001b[1;32mIn[127], line 27\u001b[1;36m\n\u001b[1;33m    k = eval(result.values[0])\u001b[1;36m\n",
      "\u001b[1;36m  File \u001b[1;32m<string>\u001b[1;36m\u001b[0m\n\u001b[1;31mSyntaxError\u001b[0m\u001b[1;31m:\u001b[0m source code string cannot contain null bytes\n"
     ]
    }
   ],
   "source": [
    "def get_data_by_conditions(df, conditions, columns):\n",
    "    \"\"\"\n",
    "    Get specific data from the CSV file based on dynamically generated conditions.\n",
    "\n",
    "    Parameters:\n",
    "    - df: Object of the filename that has to be accessed\n",
    "    - conditions (dict): A dictionary where keys are column names and values are the conditions to filter by.\n",
    "    - columns (list): A list of column names to return data from.\n",
    "\n",
    "    Returns:\n",
    "    - DataFrame containing the filtered data for the specified columns.\n",
    "    \"\"\"    \n",
    "    condition = pd.Series([True] * len(df)) \n",
    "    for key, value in conditions.items():\n",
    "        condition &= df[key] == value\n",
    "    filtered_df = df[condition]\n",
    "    return filtered_df[columns] if not filtered_df.empty else None\n",
    "\n",
    "# Example usage:\n",
    "conditions = {'L': 10, 't': 0.5} \n",
    "columns = ['Entropy']\n",
    "result = get_data_by_conditions(df3, conditions, columns)\n",
    "# print((result.iloc[0]))\n",
    "print(result.values[0])\n",
    "# float_list = convert_stringlist_to_float_list(result.values[0][0])\n",
    "# print(float_list[0])\n",
    "k = eval(result.values[0])\n",
    "print(k)\n",
    "# print(type(k))"
   ]
  },
  {
   "cell_type": "code",
   "execution_count": 61,
   "id": "17f217de-6086-48d6-959b-76ab1a8523bd",
   "metadata": {},
   "outputs": [],
   "source": [
    "import pandas as pd\n",
    "\n",
    "# Create a DataFrame\n",
    "df = pd.DataFrame({'A': [1, 2, 3], 'B': [4, 5, 6]})\n",
    "\n",
    "# Save the DataFrame to a pickle file\n",
    "df.to_pickle('my_dataframe.pkl')"
   ]
  },
  {
   "cell_type": "code",
   "execution_count": 117,
   "id": "ac2635d5-70b2-43b4-9561-988a4f0cf6e8",
   "metadata": {},
   "outputs": [
    {
     "name": "stdout",
     "output_type": "stream",
     "text": [
      "<class 'numpy.ndarray'>\n",
      "[0.9193072  1.18678735 1.35442459 1.49825194 1.61771953 1.70377248\n",
      " 1.74530406 1.72658281 1.56211169]\n"
     ]
    }
   ],
   "source": [
    "import pandas as pd\n",
    "from ast import literal_eval\n",
    "\n",
    "def get_data_by_conditions(df, conditions, columns):\n",
    "    condition = pd.Series([True] * len(df)) \n",
    "    for key, value in conditions.items():\n",
    "        condition &= df[key] == value\n",
    "    filtered_df = df[condition]\n",
    "    return filtered_df[columns] if not filtered_df.empty else None\n",
    "\n",
    "conditions = {'L': 10, 't': 0.5} \n",
    "entropy = ['Entropy']\n",
    "result = get_data_by_conditions(df1, conditions, entropy)\n",
    "print(type(result.values))\n",
    "print(result.values[0][0])"
   ]
  },
  {
   "cell_type": "code",
   "execution_count": 121,
   "id": "31d7d2a9-0d95-4e3e-9c33-365b601335d5",
   "metadata": {},
   "outputs": [
    {
     "name": "stdout",
     "output_type": "stream",
     "text": [
      "<class 'numpy.ndarray'>\n",
      "<class 'str'>\n"
     ]
    }
   ],
   "source": [
    "conditions = {'L': 10, 't': 0.5} \n",
    "eigenvec = ['GndEigenvec']\n",
    "result = get_data_by_conditions(df1, conditions, eigenvec)\n",
    "print(type(result.values))\n",
    "print(type(result.values[0][0]))"
   ]
  },
  {
   "cell_type": "markdown",
   "id": "02b5e17e-0d20-4355-a960-739b8590597b",
   "metadata": {},
   "source": [
    "# For $\\theta=0$"
   ]
  },
  {
   "cell_type": "markdown",
   "id": "9ebe0188-768d-43d1-897c-9a7ce64007b4",
   "metadata": {},
   "source": [
    "## First Excitation Gap as a Function of J"
   ]
  },
  {
   "cell_type": "code",
   "execution_count": null,
   "id": "e00102f5-dfc0-4fc9-89a0-b28b11500c1d",
   "metadata": {},
   "outputs": [],
   "source": [
    "params['t_list'] = np.arange(0, 2.1, 0.1)\n",
    "entropy = []\n",
    "for t in params['t_list']:\n",
    "    conditions = {'L': 10, 't': 0.5} \n",
    "    keyword = ['Entropy']\n"
   ]
  }
 ],
 "metadata": {
  "kernelspec": {
   "display_name": "Python 3 (ipykernel)",
   "language": "python",
   "name": "python3"
  },
  "language_info": {
   "codemirror_mode": {
    "name": "ipython",
    "version": 3
   },
   "file_extension": ".py",
   "mimetype": "text/x-python",
   "name": "python",
   "nbconvert_exporter": "python",
   "pygments_lexer": "ipython3",
   "version": "3.12.3"
  }
 },
 "nbformat": 4,
 "nbformat_minor": 5
}
