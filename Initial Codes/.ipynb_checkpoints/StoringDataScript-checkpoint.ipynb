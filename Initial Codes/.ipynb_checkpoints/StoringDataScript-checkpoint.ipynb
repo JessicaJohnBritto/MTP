{
 "cells": [
  {
   "cell_type": "code",
   "execution_count": 7,
   "id": "d34d2381-a1b7-47a9-96b6-3c9416039674",
   "metadata": {},
   "outputs": [],
   "source": [
    "import csv\n",
    "import pandas as pd\n",
    "from pyblock2.driver.core import DMRGDriver, SymmetryTypes, MPOAlgorithmTypes\n",
    "import numpy as np\n",
    "import matplotlib.pyplot as plt\n",
    "from scipy.linalg import expm"
   ]
  },
  {
   "cell_type": "markdown",
   "id": "11b929e0-9d81-489b-9805-9936b3b719c0",
   "metadata": {},
   "source": [
    "# Data Storing Scripts"
   ]
  },
  {
   "cell_type": "code",
   "execution_count": 16,
   "id": "58468629-3147-4f10-bc15-10f32be91b75",
   "metadata": {},
   "outputs": [],
   "source": [
    "def write_to_csv(file_name, data):\n",
    "    \"\"\"\n",
    "    Write data to a CSV file.\n",
    "\n",
    "    Parameters:\n",
    "    - file_name (str): The name of the CSV file to write to.\n",
    "    - data (list of lists): The data to write to the CSV file, where each inner list is a row.\n",
    "    \"\"\"\n",
    "    with open(file_name, mode='w', newline='') as file:\n",
    "        writer = csv.writer(file)\n",
    "        writer.writerows(data)"
   ]
  },
  {
   "cell_type": "code",
   "execution_count": 17,
   "id": "27add6e8-90ef-4da2-92aa-ce7f39c8e6bf",
   "metadata": {},
   "outputs": [],
   "source": [
    "data = [ ['L', 't', 'U', 'N_bosons', 'N_max', 'GndEigenval', 'GndEigenvec', 'FirstExcitedEigenval', 'Entropy'] ]"
   ]
  },
  {
   "cell_type": "code",
   "execution_count": 18,
   "id": "34f35d58-0dd8-401c-a68a-ae3aa96d4844",
   "metadata": {},
   "outputs": [],
   "source": [
    "write_to_csv(\"dmrg_data.csv\", data)"
   ]
  },
  {
   "cell_type": "code",
   "execution_count": 19,
   "id": "c0b4188c-573e-45d8-b8d3-220ca6ba45ec",
   "metadata": {},
   "outputs": [],
   "source": [
    "def add_data_to_csv(file_name, data, **kwargs):\n",
    "    \"\"\"\n",
    "    Append new data to a CSV file using pandas.\n",
    "\n",
    "    Parameters:\n",
    "    - file_name (str): The name of the CSV file to write to.\n",
    "    - data (list of lists): The data to append, where each sublist represents a row.\n",
    "    \"\"\"\n",
    "    df = pd.DataFrame(data, columns=['L', 't', 'U', 'N_bosons', 'N_max', 'GndEigenval', 'GndEigenvec', 'FirstExcitedEigenval', 'Entropy'])\n",
    "    \n",
    "    df.to_csv(file_name, mode='a', index=False, header=False)"
   ]
  },
  {
   "cell_type": "code",
   "execution_count": 29,
   "id": "96a9e7c4-e373-4725-9f70-86eb2a18ba19",
   "metadata": {},
   "outputs": [],
   "source": [
    "def delete_row_in_csv(file_name, **kwargs):\n",
    "    \"\"\"\n",
    "    Delete rows in a CSV file based on a condition.\n",
    "\n",
    "    Parameters:\n",
    "    - file_name (str): The name of the CSV file to update.\n",
    "    - condition (function): A function that takes a DataFrame row and returns True for rows to keep.\n",
    "    \"\"\"\n",
    "    df = pd.read_csv(file_name)\n",
    "    if 'condition' in kwargs:\n",
    "        df = df[condition(df)]\n",
    "    elif 'row_index' in kwargs:\n",
    "        df = df.drop(kwargs['row_index'])\n",
    "    df.to_csv(file_name, index=False)\n",
    "\n",
    "# ## To delete first row\n",
    "# delete_row_in_csv(\"dmrg_data.csv\", row_index = 0) "
   ]
  },
  {
   "cell_type": "markdown",
   "id": "96c80589-43d7-47c2-bf93-3b44a8b41d49",
   "metadata": {},
   "source": [
    "# Data for $\\theta = 0$ for $L$ = 10, $N\\_{Boson}$ = 10, $N\\_{Max}$ = 3, $U$ = 1"
   ]
  },
  {
   "cell_type": "code",
   "execution_count": 10,
   "id": "b8ddfdc9-0ba0-4c7a-a2ef-936f5ae00057",
   "metadata": {},
   "outputs": [],
   "source": [
    "params={}\n",
    "params['L'] = 10\n",
    "params['t'] = 1\n",
    "params['u'] = 1\n",
    "params['mu'] = 0\n",
    "params['NB_MAX'] = 3 # max n_boson per site\n",
    "params['N_BOSON'] = 10\n",
    "params['theta'] = 0\n",
    "params['theta_list'] = [0, np.pi/4, 3*np.pi/4, np.pi/2, np.pi]\n",
    "params['t_list'] = np.arange(0.01, 1, 0.1)\n",
    "\n",
    "driver = DMRGDriver(scratch=\"./tmp\", symm_type=SymmetryTypes.SAny|SymmetryTypes.CPX, n_threads=4)\n",
    "\n",
    "driver.set_symmetry_groups(\"U1\")\n",
    "Q = driver.bw.SX"
   ]
  },
  {
   "cell_type": "code",
   "execution_count": 9,
   "id": "d440c38a-272f-4fa6-823f-c14a77b7e899",
   "metadata": {},
   "outputs": [],
   "source": [
    "site_basis, site_ops = [], []\n",
    "for k in range(params['L']):\n",
    "    basis = [(Q(i), 1) for i in range(params['NB_MAX'] + 1)] \n",
    "    ops = {\n",
    "        \"\": np.identity(params['NB_MAX'] + 1),                           # identity\n",
    "        \"C\": np.diag(np.sqrt(np.arange(1, params['NB_MAX'] + 1)), k=-1), # b+\n",
    "        \"D\": np.diag(np.sqrt(np.arange(1, params['NB_MAX'] + 1)), k=1),  # b\n",
    "        \"N\": np.diag(np.arange(0, params['NB_MAX'] + 1), k=0),           # particle number\n",
    "        \"A\": np.diag(np.sqrt(np.arange(1, params['NB_MAX'] + 1))*np.exp(1j * params['theta'] * np.arange(params['NB_MAX'])), k=-1), # A+_withPhase  \n",
    "        \"B\": np.diag(np.sqrt(np.arange(1, params['NB_MAX'] + 1))*np.exp(-1j * params['theta'] * np.arange(params['NB_MAX'])), k=1), # A_withPhase  \n",
    "    }\n",
    "    site_basis.append(basis)\n",
    "    site_ops.append(ops)"
   ]
  },
  {
   "cell_type": "markdown",
   "id": "60024b09-ef05-4c8d-a818-a606d1dcb292",
   "metadata": {},
   "source": [
    "## First Excited Gap and Entropy Data"
   ]
  },
  {
   "cell_type": "markdown",
   "id": "d0e5e942-8643-4cb1-a358-3fb2e9ff8856",
   "metadata": {},
   "source": [
    "#### $t = 0$"
   ]
  },
  {
   "cell_type": "code",
   "execution_count": 14,
   "id": "648a6640-041e-406c-9da2-691d5aab9003",
   "metadata": {},
   "outputs": [],
   "source": [
    "params['t'] = 0\n",
    "driver.initialize_system(n_sites=params['L'], vacuum=Q(0), target=Q(params['N_BOSON']), hamil_init=False)\n",
    "driver.ghamil = driver.get_custom_hamiltonian(site_basis, site_ops)\n",
    "b = driver.expr_builder()\n",
    "\n",
    "# b.add_term(\"ADCB\", np.array([[i, i+1, i+1, i] for i in range(params['L']-1)]).flatten(), -params['t'])\n",
    "b.add_term(\"AD\", np.array([[i, i+1] for i in range(params['L']-1)]).flatten(), -params['t'])\n",
    "b.add_term(\"CB\", np.array([[i+1, i] for i in range(params['L']-1)]).flatten(), -params['t'])\n",
    "b.add_term(\"N\", np.array(np.arange(params['L'])), -(params['mu'] + params['u'] / 2))\n",
    "b.add_term(\"NN\", np.repeat(np.arange(params['L']), 2), params['u'] / 2)\n",
    "\n",
    "mpo = driver.get_mpo(b.finalize(adjust_order=True, fermionic_ops=\"\"), algo_type=MPOAlgorithmTypes.FastBipartite)\n",
    "mps = driver.get_random_mps(tag=\"KET\", bond_dim=50, nroots=2)\n",
    "energy = driver.dmrg(mpo, mps, n_sweeps=10, bond_dims=[50] * 4 + [100] * 4,\n",
    "    noises=[1e-4] * 4 + [1e-5] * 4 + [0], thrds=[1e-10] * 8, dav_max_iter=30, iprint=0)\n",
    "entropy = driver.get_bipartite_entanglement()\n",
    "#### Data Storing"
   ]
  },
  {
   "cell_type": "code",
   "execution_count": 21,
   "id": "ec8d86d1-1ab6-4720-a121-8cc2fe78ea60",
   "metadata": {},
   "outputs": [],
   "source": [
    "data_t0_theta0 = [[params['L'], params['t'], params['u'], params['N_BOSON'], params['NB_MAX'], energy[0], mps, energy[1], entropy]]\n",
    "add_data_to_csv(\"dmrg_data.csv\", data_t0_theta0)"
   ]
  },
  {
   "cell_type": "code",
   "execution_count": null,
   "id": "dc1ba7c6-459c-4f95-ae5b-7bf80f4ce977",
   "metadata": {},
   "outputs": [],
   "source": []
  }
 ],
 "metadata": {
  "kernelspec": {
   "display_name": "Python 3 (ipykernel)",
   "language": "python",
   "name": "python3"
  },
  "language_info": {
   "codemirror_mode": {
    "name": "ipython",
    "version": 3
   },
   "file_extension": ".py",
   "mimetype": "text/x-python",
   "name": "python",
   "nbconvert_exporter": "python",
   "pygments_lexer": "ipython3",
   "version": "3.12.3"
  }
 },
 "nbformat": 4,
 "nbformat_minor": 5
}
