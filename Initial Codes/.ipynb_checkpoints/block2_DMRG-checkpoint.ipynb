{
 "cells": [
  {
   "cell_type": "code",
   "execution_count": 1,
   "id": "8912b691-0803-4d9b-8373-74e06bf15afc",
   "metadata": {},
   "outputs": [],
   "source": [
    "import numpy as np\n",
    "import matplotlib.pyplot as plt\n",
    "from pyblock2.driver.core import DMRGDriver, SymmetryTypes"
   ]
  },
  {
   "cell_type": "markdown",
   "id": "fb3f3419-c96e-4d5a-bca2-d1a656b27ce6",
   "metadata": {
    "jp-MarkdownHeadingCollapsed": true
   },
   "source": [
    "# Tutorial Code for SZ mode"
   ]
  },
  {
   "cell_type": "code",
   "execution_count": 7,
   "id": "e0ead91f-268a-4894-945e-25621148fb27",
   "metadata": {},
   "outputs": [],
   "source": [
    "## Initial Script\n",
    "L = 8\n",
    "N = 8\n",
    "TWOSZ = 0\n",
    "\n",
    "driver = DMRGDriver(scratch=\"./tmp\", symm_type=SymmetryTypes.SZ, n_threads=4)\n",
    "driver.initialize_system(n_sites=L, n_elec=N, spin=TWOSZ)"
   ]
  },
  {
   "cell_type": "code",
   "execution_count": 8,
   "id": "a12170bd-e59a-41fc-bacf-2b75cf0d5a23",
   "metadata": {},
   "outputs": [
    {
     "name": "stdout",
     "output_type": "stream",
     "text": [
      "\n",
      "Build MPO | Nsites =     8 | Nterms =         36 | Algorithm = FastBIP | Cutoff = 1.00e-14\n",
      " Site =     0 /     8 .. Mmpo =     6 DW = 0.00e+00 NNZ =        6 SPT = 0.0000 Tmvc = 0.000 T = 0.002\n",
      " Site =     1 /     8 .. Mmpo =     6 DW = 0.00e+00 NNZ =       11 SPT = 0.6944 Tmvc = 0.000 T = 0.001\n",
      " Site =     2 /     8 .. Mmpo =     6 DW = 0.00e+00 NNZ =       11 SPT = 0.6944 Tmvc = 0.000 T = 0.001\n",
      " Site =     3 /     8 .. Mmpo =     6 DW = 0.00e+00 NNZ =       11 SPT = 0.6944 Tmvc = 0.000 T = 0.001\n",
      " Site =     4 /     8 .. Mmpo =     6 DW = 0.00e+00 NNZ =       11 SPT = 0.6944 Tmvc = 0.000 T = 0.002\n",
      " Site =     5 /     8 .. Mmpo =     6 DW = 0.00e+00 NNZ =       11 SPT = 0.6944 Tmvc = 0.000 T = 0.001\n",
      " Site =     6 /     8 .. Mmpo =     6 DW = 0.00e+00 NNZ =       11 SPT = 0.6944 Tmvc = 0.000 T = 0.001\n",
      " Site =     7 /     8 .. Mmpo =     1 DW = 0.00e+00 NNZ =        6 SPT = 0.0000 Tmvc = 0.000 T = 0.001\n",
      "Ttotal =      0.011 Tmvc-total = 0.000 MPO bond dimension =     6 MaxDW = 0.00e+00\n",
      "NNZ =           78 SIZE =          228 SPT = 0.6579\n",
      "\n",
      "Rank =     0 Ttotal =      0.024 MPO method = FastBipartite bond dimension =       6 NNZ =           78 SIZE =          228 SPT = 0.6579\n"
     ]
    }
   ],
   "source": [
    "## Build Hamiltonian\n",
    "t = 1\n",
    "U = 2\n",
    "\n",
    "b = driver.expr_builder()\n",
    "\n",
    "# hopping term\n",
    "b.add_term(\"cd\", np.array([[[i, i + 1], [i + 1, i]] for i in range(L - 1)]).flatten(), -t)\n",
    "b.add_term(\"CD\", np.array([[[i, i + 1], [i + 1, i]] for i in range(L - 1)]).flatten(), -t)\n",
    "\n",
    "# onsite term\n",
    "b.add_term(\"cdCD\", np.array([[i, ] * 4 for i in range(L)]).flatten(), U)\n",
    "\n",
    "mpo = driver.get_mpo(b.finalize(), iprint=2)"
   ]
  },
  {
   "cell_type": "code",
   "execution_count": 9,
   "id": "1a52f40c-7452-4216-b0e7-e3adc9aa3796",
   "metadata": {},
   "outputs": [
    {
     "name": "stdout",
     "output_type": "stream",
     "text": [
      "\n",
      "Sweep =    0 | Direction =  forward | Bond dimension =  250 | Noise =  1.00e-04 | Dav threshold =  1.00e-10\n",
      "Time elapsed =      0.533 | E =      -6.2256341447 | DW = 7.19278e-16\n",
      "\n",
      "Sweep =    1 | Direction = backward | Bond dimension =  250 | Noise =  1.00e-04 | Dav threshold =  1.00e-10\n",
      "Time elapsed =      1.026 | E =      -6.2256341447 | DE = -4.44e-15 | DW = 6.62658e-16\n",
      "\n",
      "Sweep =    2 | Direction =  forward | Bond dimension =  250 | Noise =  1.00e-04 | Dav threshold =  1.00e-10\n",
      "Time elapsed =      1.337 | E =      -6.2256341447 | DE = -5.33e-15 | DW = 4.07509e-16\n",
      "\n",
      "Sweep =    3 | Direction = backward | Bond dimension =  250 | Noise =  1.00e-04 | Dav threshold =  1.00e-10\n",
      "Time elapsed =      1.976 | E =      -6.2256341447 | DE = -3.55e-15 | DW = 4.44966e-16\n",
      "\n",
      "Sweep =    4 | Direction =  forward | Bond dimension =  500 | Noise =  1.00e-05 | Dav threshold =  1.00e-10\n",
      "Time elapsed =      3.312 | E =      -6.2256341447 | DE = -8.88e-15 | DW = 3.97501e-26\n",
      "\n",
      "Sweep =    5 | Direction = backward | Bond dimension =  500 | Noise =  1.00e-05 | Dav threshold =  1.00e-10\n",
      "Time elapsed =      4.432 | E =      -6.2256341447 | DE = 7.99e-15 | DW = 2.52027e-26\n",
      "\n",
      "Sweep =    6 | Direction =  forward | Bond dimension =  500 | Noise =  1.00e-05 | Dav threshold =  1.00e-10\n",
      "Time elapsed =      5.660 | E =      -6.2256341447 | DE = -3.55e-15 | DW = 4.29129e-26\n",
      "\n",
      "Sweep =    7 | Direction = backward | Bond dimension =  500 | Noise =  1.00e-05 | Dav threshold =  1.00e-10\n",
      "Time elapsed =      6.932 | E =      -6.2256341447 | DE = 3.55e-15 | DW = 1.73567e-26\n",
      "\n",
      "Sweep =    8 | Direction =  forward | Bond dimension =  500 | Noise =  0.00e+00 | Dav threshold =  1.00e-09\n",
      "Time elapsed =      8.610 | E =      -6.2256341447 | DE = 5.33e-15 | DW = 4.92492e-50\n",
      "\n",
      "DMRG energy =   -6.225634144663792\n"
     ]
    }
   ],
   "source": [
    "## Run DMRG\n",
    "def run_dmrg(driver, mpo):\n",
    "    ket = driver.get_random_mps(tag=\"KET\", bond_dim=250, nroots=1)\n",
    "    bond_dims = [250] * 4 + [500] * 4\n",
    "    noises = [1e-4] * 4 + [1e-5] * 4 + [0]\n",
    "    thrds = [1e-10] * 8\n",
    "    return driver.dmrg(mpo, ket, n_sweeps=20, bond_dims=bond_dims, noises=noises,\n",
    "        thrds=thrds, cutoff=0, iprint=1)\n",
    "\n",
    "energies = run_dmrg(driver, mpo)\n",
    "print('DMRG energy = %20.15f' % energies)"
   ]
  },
  {
   "cell_type": "markdown",
   "id": "a796bf69-57d9-47f1-b77f-d7572c4baf32",
   "metadata": {},
   "source": [
    "# My Code for Bose Hubbard Model"
   ]
  },
  {
   "cell_type": "code",
   "execution_count": 11,
   "id": "6f88ef6f-bd71-4978-ac7c-eaf071b08544",
   "metadata": {},
   "outputs": [],
   "source": [
    "## Initial Script\n",
    "L = 9\n",
    "N = 9\n",
    "TWOSZ = 0\n",
    "\n",
    "driver = DMRGDriver(scratch=\"./tmp\", symm_type=SymmetryTypes.SGB, n_threads=4)\n",
    "driver.initialize_system(n_sites=L, n_elec=N, spin=TWOSZ)"
   ]
  },
  {
   "cell_type": "code",
   "execution_count": 17,
   "id": "27eca2ce-55b5-42c8-b424-4e4d404fa929",
   "metadata": {},
   "outputs": [
    {
     "data": {
      "text/plain": [
       "array([0, 1, 1, 0, 1, 2, 2, 1, 2, 3, 3, 2])"
      ]
     },
     "execution_count": 17,
     "metadata": {},
     "output_type": "execute_result"
    }
   ],
   "source": [
    "L =4\n",
    "np.array([[[i, i + 1], [i + 1, i]] for i in range(L - 1)]).flatten()"
   ]
  },
  {
   "cell_type": "code",
   "execution_count": 19,
   "id": "751a8719-5aa0-4dbe-b1bb-ffcc89c094a0",
   "metadata": {},
   "outputs": [
    {
     "data": {
      "text/plain": [
       "array([[0, 0, 0, 0],\n",
       "       [1, 1, 1, 1],\n",
       "       [2, 2, 2, 2],\n",
       "       [3, 3, 3, 3]])"
      ]
     },
     "execution_count": 19,
     "metadata": {},
     "output_type": "execute_result"
    }
   ],
   "source": [
    "np.array([[i, ] * 4 for i in range(L)])"
   ]
  },
  {
   "cell_type": "code",
   "execution_count": 20,
   "id": "7c57f2ee-e735-451d-89e5-a9040db4e117",
   "metadata": {},
   "outputs": [
    {
     "name": "stdout",
     "output_type": "stream",
     "text": [
      "\n",
      "Build MPO | Nsites =     9 | Nterms =         10 | Algorithm = FastBIP | Cutoff = 1.00e-14\n",
      " Site =     0 /     9 .. Mmpo =     4 DW = 0.00e+00"
     ]
    },
    {
     "ename": "IndexError",
     "evalue": "invalid unordered_map<K, T> key",
     "output_type": "error",
     "traceback": [
      "\u001b[1;31m---------------------------------------------------------------------------\u001b[0m",
      "\u001b[1;31mIndexError\u001b[0m                                Traceback (most recent call last)",
      "Cell \u001b[1;32mIn[20], line 12\u001b[0m\n\u001b[0;32m      9\u001b[0m \u001b[38;5;66;03m# onsite term\u001b[39;00m\n\u001b[0;32m     10\u001b[0m b\u001b[38;5;241m.\u001b[39madd_term(\u001b[38;5;124m\"\u001b[39m\u001b[38;5;124mcd\u001b[39m\u001b[38;5;124m\"\u001b[39m, np\u001b[38;5;241m.\u001b[39marray([[i, ] \u001b[38;5;241m*\u001b[39m L \u001b[38;5;28;01mfor\u001b[39;00m i \u001b[38;5;129;01min\u001b[39;00m \u001b[38;5;28mrange\u001b[39m(L)])\u001b[38;5;241m.\u001b[39mflatten(), U)\n\u001b[1;32m---> 12\u001b[0m mpo \u001b[38;5;241m=\u001b[39m driver\u001b[38;5;241m.\u001b[39mget_mpo(b\u001b[38;5;241m.\u001b[39mfinalize(), iprint\u001b[38;5;241m=\u001b[39m\u001b[38;5;241m2\u001b[39m)\n",
      "File \u001b[1;32mD:\\AnacondaFinal\\anacondaInstall\\envs\\AJJ\\Lib\\site-packages\\pyblock2\\driver\\core.py:3882\u001b[0m, in \u001b[0;36mDMRGDriver.get_mpo\u001b[1;34m(self, expr, iprint, cutoff, left_vacuum, algo_type, sum_mpo_mod, compute_accurate_svd_error, csvd_sparsity, csvd_eps, csvd_max_iter, disjoint_levels, disjoint_all_blocks, disjoint_multiplier, block_max_length, fast_no_orb_dep_op, add_ident, ancilla)\u001b[0m\n\u001b[0;32m   3880\u001b[0m mpo\u001b[38;5;241m.\u001b[39mblock_max_length \u001b[38;5;241m=\u001b[39m block_max_length\n\u001b[0;32m   3881\u001b[0m mpo\u001b[38;5;241m.\u001b[39mfast_no_orb_dep_op \u001b[38;5;241m=\u001b[39m fast_no_orb_dep_op\n\u001b[1;32m-> 3882\u001b[0m mpo\u001b[38;5;241m.\u001b[39mbuild()\n\u001b[0;32m   3884\u001b[0m \u001b[38;5;28;01mif\u001b[39;00m iprint:\n\u001b[0;32m   3885\u001b[0m     nnz, sz, bdim \u001b[38;5;241m=\u001b[39m mpo\u001b[38;5;241m.\u001b[39mget_summary()\n",
      "\u001b[1;31mIndexError\u001b[0m: invalid unordered_map<K, T> key"
     ]
    }
   ],
   "source": [
    "t = 1\n",
    "U = 1\n",
    "\n",
    "b = driver.expr_builder()\n",
    "\n",
    "# hopping term\n",
    "b.add_term(\"cd\", np.array([[[i, i + 1], [i + 1, i]] for i in range(L - 1)]).flatten(), -t)\n",
    "\n",
    "# onsite term\n",
    "b.add_term(\"cd\", np.array([[i, ] * L for i in range(L)]).flatten(), U)\n",
    "\n",
    "mpo = driver.get_mpo(b.finalize(), iprint=2)"
   ]
  },
  {
   "cell_type": "code",
   "execution_count": null,
   "id": "0a271cb2-edd9-4753-88e7-5c60c9a4bf0c",
   "metadata": {},
   "outputs": [],
   "source": [
    "# Parameters\n",
    "L = 4  # Number of sites\n",
    "t = 1\n",
    "U = 1\n",
    "\n",
    "# Initialize the DMRGDriver\n",
    "driver = DMRGDriver()\n",
    "\n",
    "# Create the expression builder\n",
    "b = driver.expr_builder()\n",
    "\n",
    "# Hopping term: Add hopping terms between neighboring sites\n",
    "for i in range(L - 1):\n",
    "    b.add_term(\"cd\", [i, i + 1], -t)\n",
    "    b.add_term(\"cd\", [i + 1, i], -t)\n",
    "\n",
    "# On-site interaction term: Add interaction terms at each site\n",
    "for i in range(L):\n",
    "    b.add_term(\"cd\", [i, i], U)\n",
    "\n",
    "# Finalize the expression builder\n",
    "mpo = driver.get_mpo(b.finalize(), iprint=2)\n",
    "\n",
    "# Check MPO dimensions and summary\n",
    "if iprint:\n",
    "    nnz, sz, bdim = mpo.get_summary()\n",
    "    print(f\"Non-zeros: {nnz}, Size: {sz}, Bond dimension: {bdim}\")"
   ]
  },
  {
   "cell_type": "code",
   "execution_count": null,
   "id": "475f6474-9f59-4812-8865-6bf81d765bad",
   "metadata": {},
   "outputs": [],
   "source": []
  }
 ],
 "metadata": {
  "kernelspec": {
   "display_name": "Python 3 (ipykernel)",
   "language": "python",
   "name": "python3"
  },
  "language_info": {
   "codemirror_mode": {
    "name": "ipython",
    "version": 3
   },
   "file_extension": ".py",
   "mimetype": "text/x-python",
   "name": "python",
   "nbconvert_exporter": "python",
   "pygments_lexer": "ipython3",
   "version": "3.12.4"
  }
 },
 "nbformat": 4,
 "nbformat_minor": 5
}
