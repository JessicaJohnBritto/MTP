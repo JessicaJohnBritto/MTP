{
 "cells": [
  {
   "cell_type": "code",
   "execution_count": 11,
   "id": "3c28aa40-b376-46d8-b19c-095a563a7310",
   "metadata": {},
   "outputs": [],
   "source": [
    "from pyblock2.driver.core import DMRGDriver, SymmetryTypes, MPOAlgorithmTypes\n",
    "import numpy as np\n",
    "import matplotlib.pyplot as plt"
   ]
  },
  {
   "cell_type": "code",
   "execution_count": 12,
   "id": "5f834818-4594-4b43-9f4b-4272470b0197",
   "metadata": {},
   "outputs": [],
   "source": [
    "L = 10\n",
    "T = 1\n",
    "U = 0.1\n",
    "MU = 0\n",
    "NB_MAX = 3 # max n_boson per site\n",
    "N_BOSON = 10\n",
    "\n",
    "driver = DMRGDriver(scratch=\"./tmp\", symm_type=SymmetryTypes.SAny, n_threads=4)\n",
    "\n",
    "driver.set_symmetry_groups(\"U1\")\n",
    "Q = driver.bw.SX"
   ]
  },
  {
   "cell_type": "code",
   "execution_count": 13,
   "id": "bebc1912-1279-42e4-a964-471bbb4d75fd",
   "metadata": {},
   "outputs": [],
   "source": [
    "# [Part A] Set states and matrix representation of operators in local Hilbert space\n",
    "site_basis, site_ops = [], []\n",
    "\n",
    "for k in range(L):\n",
    "    basis = [(Q(i), 1) for i in range(NB_MAX + 1)] # [012..NB_MAX]\n",
    "    ops = {\n",
    "        \"\": np.identity(NB_MAX + 1),                           # identity\n",
    "        \"C\": np.diag(np.sqrt(np.arange(1, NB_MAX + 1)), k=-1), # b+\n",
    "        \"D\": np.diag(np.sqrt(np.arange(1, NB_MAX + 1)), k=1),  # b\n",
    "        \"N\": np.diag(np.arange(0, NB_MAX + 1), k=0),           # particle number\n",
    "    }\n",
    "    site_basis.append(basis)\n",
    "    site_ops.append(ops)"
   ]
  },
  {
   "cell_type": "code",
   "execution_count": 14,
   "id": "001b1071-c54e-47c4-8149-5f79592e9819",
   "metadata": {},
   "outputs": [
    {
     "data": {
      "text/plain": [
       "<pyblock2.driver.core.ExprBuilder at 0x246b4ddf890>"
      ]
     },
     "execution_count": 14,
     "metadata": {},
     "output_type": "execute_result"
    }
   ],
   "source": [
    "# [Part B] Set Hamiltonian terms\n",
    "driver.initialize_system(n_sites=L, vacuum=Q(0), target=Q(N_BOSON), hamil_init=False)\n",
    "driver.ghamil = driver.get_custom_hamiltonian(site_basis, site_ops)\n",
    "b = driver.expr_builder()\n",
    "\n",
    "b.add_term(\"CD\", np.array([j for i in range(L - 1) for j in [i, i + 1, i + 1, i]]), -T)\n",
    "b.add_term(\"N\", np.array([i for i in range(L)]), -(MU + U / 2))\n",
    "b.add_term(\"NN\", np.array([j for i in range(L) for j in [i, i]]), U / 2)"
   ]
  },
  {
   "cell_type": "code",
   "execution_count": null,
   "id": "72d4de08-1e00-451c-b4b4-b859cae7bad7",
   "metadata": {},
   "outputs": [
    {
     "name": "stdout",
     "output_type": "stream",
     "text": [
      "\n",
      "Sweep =    0 | Direction =  forward | Bond dimension =  250 | Noise =  1.00e-04 | Dav threshold =  1.00e-10\n"
     ]
    }
   ],
   "source": [
    "# [Part C] Perform DMRG\n",
    "mpo = driver.get_mpo(b.finalize(adjust_order=True, fermionic_ops=\"\"), algo_type=MPOAlgorithmTypes.FastBipartite)\n",
    "mps = driver.get_random_mps(tag=\"KET\", bond_dim=250, nroots=1)\n",
    "energy = driver.dmrg(mpo, mps, n_sweeps=10, bond_dims=[250] * 4 + [500] * 4,\n",
    "    noises=[1e-4] * 4 + [1e-5] * 4 + [0], thrds=[1e-10] * 8, dav_max_iter=30, iprint=1)\n",
    "print(\"DMRG energy = %20.15f (per site = %10.6f)\" % (energy, energy / L))"
   ]
  },
  {
   "cell_type": "code",
   "execution_count": null,
   "id": "77a0936c-aeac-412c-90e7-2689c7d6f317",
   "metadata": {},
   "outputs": [
    {
     "name": "stdout",
     "output_type": "stream",
     "text": [
      "t = 0.00, Ground state energy = 0.000, First excited state energy = 0.100, Gap = 0.100\n",
      "t = 0.10, Ground state energy = -1.474, First excited state energy = -1.422, Gap = 0.051\n",
      "t = 0.20, Ground state energy = -3.267, First excited state energy = -3.175, Gap = 0.093\n",
      "t = 0.30, Ground state energy = -5.073, First excited state energy = -4.939, Gap = 0.134\n",
      "t = 0.40, Ground state energy = -6.882, First excited state energy = -6.707, Gap = 0.174\n",
      "t = 0.50, Ground state energy = -8.692, First excited state energy = -8.476, Gap = 0.215\n",
      "t = 0.60, Ground state energy = -10.502, First excited state energy = -10.246, Gap = 0.256\n",
      "t = 0.70, Ground state energy = -12.314, First excited state energy = -12.017, Gap = 0.297\n",
      "t = 0.80, Ground state energy = -14.125, First excited state energy = -13.787, Gap = 0.338\n",
      "t = 0.90, Ground state energy = -15.937, First excited state energy = -15.558, Gap = 0.378\n",
      "t = 1.00, Ground state energy = -17.748, First excited state energy = -17.329, Gap = 0.419\n",
      "t = 1.10, Ground state energy = -19.560, First excited state energy = -19.100, Gap = 0.460\n",
      "t = 1.20, Ground state energy = -21.372, First excited state energy = -20.871, Gap = 0.501\n",
      "t = 1.30, Ground state energy = -23.184, First excited state energy = -22.642, Gap = 0.542\n",
      "t = 1.40, Ground state energy = -24.996, First excited state energy = -24.414, Gap = 0.582\n",
      "t = 1.50, Ground state energy = -26.808, First excited state energy = -26.185, Gap = 0.623\n",
      "t = 1.60, Ground state energy = -28.620, First excited state energy = -27.956, Gap = 0.664\n",
      "t = 1.70, Ground state energy = -30.432, First excited state energy = -29.727, Gap = 0.705\n",
      "t = 1.80, Ground state energy = -32.244, First excited state energy = -31.499, Gap = 0.745\n",
      "t = 1.90, Ground state energy = -34.056, First excited state energy = -33.270, Gap = 0.786\n"
     ]
    }
   ],
   "source": [
    "t_values = np.arange(0, 2, 0.1)\n",
    "gaps = []\n",
    "\n",
    "for t in t_values:\n",
    "    # [Part B] Set Hamiltonian terms\n",
    "    T = t\n",
    "    driver.initialize_system(n_sites=L, vacuum=Q(0), target=Q(N_BOSON), hamil_init=False)\n",
    "    driver.ghamil = driver.get_custom_hamiltonian(site_basis, site_ops)\n",
    "    b = driver.expr_builder()\n",
    "    \n",
    "    b.add_term(\"CD\", np.array([[i, i+1, i+1, i] for i in range(L-1)]).flatten(), -T)\n",
    "    b.add_term(\"N\", np.array(np.arange(L)), -(MU + U / 2))\n",
    "    b.add_term(\"NN\", np.repeat(np.arange(L), 2), U / 2)\n",
    "\n",
    "    # [Part C] Perform DMRG\n",
    "    mpo = driver.get_mpo(b.finalize(adjust_order=True, fermionic_ops=\"\"), algo_type=MPOAlgorithmTypes.FastBipartite)\n",
    "    mps = driver.get_random_mps(tag=\"KET\", bond_dim=250, nroots=2)\n",
    "    energy = driver.dmrg(mpo, mps, n_sweeps=10, bond_dims=[250] * 4 + [500] * 4,\n",
    "        noises=[1e-4] * 4 + [1e-5] * 4 + [0], thrds=[1e-10] * 8, dav_max_iter=30, iprint=0)\n",
    "    # print(\"DMRG energy = %20.15f (per site = %10.6f)\" % (energy, energy / L))\n",
    "    gaps.append(energy[1] - energy[0])\n",
    "\n",
    "    print(f\"t = {t:.2f}, Ground state energy = {energy[0]:.3f}, First excited state energy = {energy[1]:.3f}, Gap = {energy[1] - energy[0]:.3f}\")"
   ]
  },
  {
   "cell_type": "code",
   "execution_count": 4,
   "id": "2898b14d-40ec-4f0d-8cc9-375913e88067",
   "metadata": {},
   "outputs": [],
   "source": [
    "plt.plot(t_values, gaps, marker='o')\n",
    "plt.xlabel('J')\n",
    "plt.ylabel('First Excitation Energy Gap')\n",
    "plt.title('First Excitation Energy Gap vs. Hopping Parameter J')\n",
    "plt.grid(True)\n",
    "plt.show()"
   ]
  },
  {
   "cell_type": "code",
   "execution_count": 10,
   "id": "661cbb50-8aa8-4641-a6b5-5d778bd4cb0d",
   "metadata": {},
   "outputs": [
    {
     "name": "stdout",
     "output_type": "stream",
     "text": [
      "t = 0.00, Ground state energy = 0.000, First excited state energy = 0.100, Gap = 0.100\n",
      "t = 1.00, Ground state energy = -17.748, First excited state energy = -17.329, Gap = 0.419\n"
     ]
    }
   ],
   "source": [
    "t_values = np.arange(0, 2, 0.1)\n",
    "gaps = []\n",
    "\n",
    "driver.initialize_system(n_sites=L, vacuum=Q(0), target=Q(N_BOSON), hamil_init=False)\n",
    "driver.ghamil = driver.get_custom_hamiltonian(site_basis, site_ops)\n",
    "b = driver.expr_builder()\n",
    "\n",
    "b.add_term(\"N\", np.array(np.arange(L)), -(MU + U / 2))\n",
    "b.add_term(\"NN\", np.repeat(np.arange(L), 2), U / 2)\n",
    "\n",
    "for t in [0, 1]:\n",
    "    T = t    \n",
    "    b.add_term(\"CD\", np.array([[i, i+1, i+1, i] for i in range(L-1)]).flatten(), -T)\n",
    "\n",
    "    mpo = driver.get_mpo(b.finalize(adjust_order=True, fermionic_ops=\"\"), algo_type=MPOAlgorithmTypes.FastBipartite)\n",
    "    mps = driver.get_random_mps(tag=\"KET\", bond_dim=50, nroots=2)\n",
    "    energy = driver.dmrg(mpo, mps, n_sweeps=10, bond_dims=[50] * 4 + [100] * 4,\n",
    "        noisses=[1e-4] * 4 + [1e-5] * 4 + [0], thrds=[1e-10] * 8, dav_max_iter=30, iprint=0)\n",
    "    gaps.append(energy[1] - energy[0])\n",
    "\n",
    "    print(f\"t = {t:.2f}, Ground state energy = {energy[0]:.3f}, First excited state energy = {energy[1]:.3f}, Gap = {energy[1] - energy[0]:.3f}\")\n",
    "\n",
    "# plt.plot(t_values, gaps, marker='o')\n",
    "# plt.xlabel('J')\n",
    "# plt.ylabel('First Excitation Energy Gap')\n",
    "# plt.title('First Excitation Energy Gap vs. Hopping Parameter J')\n",
    "# plt.grid(True)\n",
    "# plt.show()"
   ]
  },
  {
   "cell_type": "code",
   "execution_count": null,
   "id": "9987722f-8188-4560-ba61-190b5ef0a5eb",
   "metadata": {},
   "outputs": [],
   "source": []
  }
 ],
 "metadata": {
  "kernelspec": {
   "display_name": "Python 3 (ipykernel)",
   "language": "python",
   "name": "python3"
  },
  "language_info": {
   "codemirror_mode": {
    "name": "ipython",
    "version": 3
   },
   "file_extension": ".py",
   "mimetype": "text/x-python",
   "name": "python",
   "nbconvert_exporter": "python",
   "pygments_lexer": "ipython3",
   "version": "3.12.4"
  }
 },
 "nbformat": 4,
 "nbformat_minor": 5
}
