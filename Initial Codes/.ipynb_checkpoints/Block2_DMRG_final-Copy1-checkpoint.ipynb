{
 "cells": [
  {
   "cell_type": "code",
   "execution_count": 2,
   "id": "3c28aa40-b376-46d8-b19c-095a563a7310",
   "metadata": {},
   "outputs": [],
   "source": [
    "from pyblock2.driver.core import DMRGDriver, SymmetryTypes, MPOAlgorithmTypes\n",
    "import numpy as np\n",
    "import matplotlib.pyplot as plt"
   ]
  },
  {
   "cell_type": "code",
   "execution_count": 3,
   "id": "5f834818-4594-4b43-9f4b-4272470b0197",
   "metadata": {},
   "outputs": [],
   "source": [
    "# Initial Script\n",
    "params={\n",
    "    'L': 10,\n",
    "    'u':1,\n",
    "    't':1,\n",
    "    'mu':0,\n",
    "    'n_max':3,\n",
    "    'n_boson':10,\n",
    "}\n",
    "params['t_list'] = np.arange(0, 1, 0.1)\n",
    "\n",
    "def initialVals(params, **kwargs):\n",
    "    '''\n",
    "    Constructs states and matrix representation of operators in local hilbert space.\n",
    "    Adds on-site potential and chemical potential terms to 'b'.\n",
    "    Returns Q - Quantum Number Wrapper, b - ExprBuilder object, driver - DMRGDriver Object\n",
    "    '''    \n",
    "    driver = DMRGDriver(scratch=\"./tmp\", symm_type=SymmetryTypes.SAny, n_threads=4)\n",
    "    \n",
    "    driver.set_symmetry_groups(\"U1\")\n",
    "    Q = driver.bw.SX\n",
    "    site_basis, site_ops = [], []\n",
    "\n",
    "    for k in range(params['L']):\n",
    "        basis = [(Q(i), 1) for i in range(params['n_max'] + 1)] \n",
    "        ops = {\n",
    "            \"\": np.identity(params['n_max'] + 1),                           # identity\n",
    "            \"C\": np.diag(np.sqrt(np.arange(1, params['n_max'] + 1)), k=-1), # creation Op\n",
    "            \"D\": np.diag(np.sqrt(np.arange(1, params['n_max'] + 1)), k=1),  # annihilation Op\n",
    "            \"N\": np.diag(np.arange(0, params['n_max'] + 1), k=0),           # Number Operator\n",
    "        }\n",
    "        site_basis.append(basis)\n",
    "        site_ops.append(ops)\n",
    "    driver.initialize_system(n_sites=params['L'], vacuum=Q(0), target=Q(params['n_boson']), hamil_init=False)\n",
    "    driver.ghamil = driver.get_custom_hamiltonian(site_basis, site_ops)\n",
    "    b = driver.expr_builder()\n",
    "    b.add_term(\"N\", np.array(np.arange(params['L'])), -(params['mu'] + params['u'] / 2))\n",
    "    b.add_term(\"NN\", np.repeat(np.arange(params['L']), 2), params['u'] / 2)\n",
    "\n",
    "    return Q, driver, b\n",
    "Q, driver, b = initialVals(params)"
   ]
  },
  {
   "cell_type": "code",
   "execution_count": 1,
   "id": "661cbb50-8aa8-4641-a6b5-5d778bd4cb0d",
   "metadata": {},
   "outputs": [
    {
     "ename": "NameError",
     "evalue": "name 'params' is not defined",
     "output_type": "error",
     "traceback": [
      "\u001b[1;31m---------------------------------------------------------------------------\u001b[0m",
      "\u001b[1;31mNameError\u001b[0m                                 Traceback (most recent call last)",
      "Cell \u001b[1;32mIn[1], line 24\u001b[0m\n\u001b[0;32m     22\u001b[0m     plt\u001b[38;5;241m.\u001b[39mshow()\n\u001b[0;32m     23\u001b[0m     \u001b[38;5;28;01mpass\u001b[39;00m\n\u001b[1;32m---> 24\u001b[0m plot_FirstExcitationGapVsJ(params)\n",
      "\u001b[1;31mNameError\u001b[0m: name 'params' is not defined"
     ]
    }
   ],
   "source": [
    "def plot_FirstExcitationGapVsJ(params, **kwargs):\n",
    "    '''\n",
    "    Returns plot of First Excitation Gap as a function of J.\n",
    "    '''\n",
    "    Q, driver, b = initialVals(params)\n",
    "    gaps = []\n",
    "    for T in params['t_list']:\n",
    "        b.add_term(\"CD\", np.array([[i, i+1, i+1, i] for i in range(params['L']-1)]).flatten(), -T)\n",
    "        mpo = driver.get_mpo(b.finalize(adjust_order=True, fermionic_ops=\"\"), algo_type=MPOAlgorithmTypes.FastBipartite)\n",
    "        mps = driver.get_random_mps(tag=\"KET\", bond_dim=50, nroots=2)\n",
    "        energy = driver.dmrg(mpo, mps, n_sweeps=10, bond_dims=[50] * 4 + [75] * 4,\n",
    "            noises=[1e-4] * 4 + [1e-5] * 4 + [0], thrds=[1e-10] * 8, dav_max_iter=30, iprint=0)\n",
    "        gaps.append(energy[1] - energy[0])\n",
    "    \n",
    "        # print(f\"t = {T:.2f}, Ground state energy = {energy[0]:.3f}, First excited state energy = {energy[1]:.3f}, Gap = {energy[1] - energy[0]:.3f}\")\n",
    "    \n",
    "    plt.plot(params['t_list'], gaps, marker='o')\n",
    "    plt.xlabel('J')\n",
    "    plt.ylabel('First Excitation Energy Gap')\n",
    "    plt.title('First Excitation Energy Gap vs. Hopping Parameter J')\n",
    "    plt.grid(True)\n",
    "    plt.show()\n",
    "    pass\n",
    "plot_FirstExcitationGapVsJ(params)"
   ]
  },
  {
   "cell_type": "code",
   "execution_count": null,
   "id": "9987722f-8188-4560-ba61-190b5ef0a5eb",
   "metadata": {},
   "outputs": [],
   "source": []
  },
  {
   "cell_type": "code",
   "execution_count": null,
   "id": "833d55ae-7c9c-4f48-abfc-9239b2cfab7b",
   "metadata": {},
   "outputs": [],
   "source": []
  }
 ],
 "metadata": {
  "kernelspec": {
   "display_name": "Python 3 (ipykernel)",
   "language": "python",
   "name": "python3"
  },
  "language_info": {
   "codemirror_mode": {
    "name": "ipython",
    "version": 3
   },
   "file_extension": ".py",
   "mimetype": "text/x-python",
   "name": "python",
   "nbconvert_exporter": "python",
   "pygments_lexer": "ipython3",
   "version": "3.12.4"
  }
 },
 "nbformat": 4,
 "nbformat_minor": 5
}
