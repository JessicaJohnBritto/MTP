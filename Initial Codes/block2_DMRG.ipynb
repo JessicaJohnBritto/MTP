{
 "cells": [
  {
   "cell_type": "code",
   "execution_count": 2,
   "id": "8912b691-0803-4d9b-8373-74e06bf15afc",
   "metadata": {},
   "outputs": [],
   "source": [
    "import numpy as np\n",
    "import matplotlib.pyplot as plt\n",
    "from pyblock2.driver.core import DMRGDriver, SymmetryTypes, Block2Wrapper"
   ]
  },
  {
   "cell_type": "markdown",
   "id": "fb3f3419-c96e-4d5a-bca2-d1a656b27ce6",
   "metadata": {
    "jp-MarkdownHeadingCollapsed": true
   },
   "source": [
    "# Tutorial Code for SZ mode"
   ]
  },
  {
   "cell_type": "code",
   "execution_count": 26,
   "id": "e0ead91f-268a-4894-945e-25621148fb27",
   "metadata": {},
   "outputs": [],
   "source": [
    "## Initial Script\n",
    "L = 8\n",
    "N = 8\n",
    "TWOSZ = 0\n",
    "\n",
    "driver = DMRGDriver(scratch=\"./tmp\", symm_type=SymmetryTypes.SZ, n_threads=4)\n",
    "driver.initialize_system(n_sites=L, n_elec=N, spin=TWOSZ)"
   ]
  },
  {
   "cell_type": "code",
   "execution_count": 27,
   "id": "a12170bd-e59a-41fc-bacf-2b75cf0d5a23",
   "metadata": {},
   "outputs": [
    {
     "name": "stdout",
     "output_type": "stream",
     "text": [
      "\n",
      "Build MPO | Nsites =     8 | Nterms =         36 | Algorithm = FastBIP | Cutoff = 1.00e-14\n",
      " Site =     0 /     8 .. Mmpo =     6 DW = 0.00e+00 NNZ =        6 SPT = 0.0000 Tmvc = 0.000 T = 0.002\n",
      " Site =     1 /     8 .. Mmpo =     6 DW = 0.00e+00 NNZ =       11 SPT = 0.6944 Tmvc = 0.000 T = 0.001\n",
      " Site =     2 /     8 .. Mmpo =     6 DW = 0.00e+00 NNZ =       11 SPT = 0.6944 Tmvc = 0.000 T = 0.002\n",
      " Site =     3 /     8 .. Mmpo =     6 DW = 0.00e+00 NNZ =       11 SPT = 0.6944 Tmvc = 0.000 T = 0.001\n",
      " Site =     4 /     8 .. Mmpo =     6 DW = 0.00e+00 NNZ =       11 SPT = 0.6944 Tmvc = 0.000 T = 0.001\n",
      " Site =     5 /     8 .. Mmpo =     6 DW = 0.00e+00 NNZ =       11 SPT = 0.6944 Tmvc = 0.000 T = 0.002\n",
      " Site =     6 /     8 .. Mmpo =     6 DW = 0.00e+00 NNZ =       11 SPT = 0.6944 Tmvc = 0.000 T = 0.002\n",
      " Site =     7 /     8 .. Mmpo =     1 DW = 0.00e+00 NNZ =        6 SPT = 0.0000 Tmvc = 0.000 T = 0.002\n",
      "Ttotal =      0.014 Tmvc-total = 0.000 MPO bond dimension =     6 MaxDW = 0.00e+00\n",
      "NNZ =           78 SIZE =          228 SPT = 0.6579\n",
      "\n",
      "Rank =     0 Ttotal =      0.034 MPO method = FastBipartite bond dimension =       6 NNZ =           78 SIZE =          228 SPT = 0.6579\n"
     ]
    }
   ],
   "source": [
    "## Build Hamiltonian\n",
    "t = 1\n",
    "U = 2\n",
    "\n",
    "b = driver.expr_builder()\n",
    "\n",
    "# hopping term\n",
    "b.add_term(\"cd\", np.array([[[i, i + 1], [i + 1, i]] for i in range(L - 1)]).flatten(), -t)\n",
    "b.add_term(\"CD\", np.array([[[i, i + 1], [i + 1, i]] for i in range(L - 1)]).flatten(), -t)\n",
    "\n",
    "# onsite term\n",
    "b.add_term(\"cdCD\", np.array([[i, ] * 4 for i in range(L)]).flatten(), U)\n",
    "\n",
    "mpo = driver.get_mpo(b.finalize(), iprint=2)"
   ]
  },
  {
   "cell_type": "code",
   "execution_count": 28,
   "id": "1a52f40c-7452-4216-b0e7-e3adc9aa3796",
   "metadata": {},
   "outputs": [
    {
     "name": "stdout",
     "output_type": "stream",
     "text": [
      "\n",
      "Sweep =    0 | Direction =  forward | Bond dimension =  250 | Noise =  1.00e-04 | Dav threshold =  1.00e-10\n",
      "Time elapsed =      0.297 | E =     -49.8050731574 | DW = 3.68512e-16\n",
      "\n",
      "Sweep =    1 | Direction = backward | Bond dimension =  250 | Noise =  1.00e-04 | Dav threshold =  1.00e-10\n",
      "Time elapsed =      0.453 | E =     -49.8050731574 | DE = 1.07e-13 | DW = 2.84294e-16\n",
      "\n",
      "Sweep =    2 | Direction =  forward | Bond dimension =  250 | Noise =  1.00e-04 | Dav threshold =  1.00e-10\n",
      "Time elapsed =      0.577 | E =     -49.8050731574 | DE = -4.26e-14 | DW = 3.82309e-16\n",
      "\n",
      "Sweep =    3 | Direction = backward | Bond dimension =  250 | Noise =  1.00e-04 | Dav threshold =  1.00e-10\n",
      "Time elapsed =      0.703 | E =     -49.8050731574 | DE = 2.84e-14 | DW = 2.93072e-16\n",
      "\n",
      "Sweep =    4 | Direction =  forward | Bond dimension =  500 | Noise =  1.00e-05 | Dav threshold =  1.00e-10\n",
      "Time elapsed =      1.058 | E =     -49.8050731574 | DE = -1.42e-14 | DW = 1.22851e-26\n",
      "\n",
      "Sweep =    5 | Direction = backward | Bond dimension =  500 | Noise =  1.00e-05 | Dav threshold =  1.00e-10\n",
      "Time elapsed =      1.512 | E =     -49.8050731574 | DE = -7.11e-15 | DW = 1.04505e-26\n",
      "\n",
      "Sweep =    6 | Direction =  forward | Bond dimension =  500 | Noise =  1.00e-05 | Dav threshold =  1.00e-10\n",
      "Time elapsed =      1.859 | E =     -49.8050731574 | DE = -2.13e-14 | DW = 1.93880e-26\n",
      "\n",
      "Sweep =    7 | Direction = backward | Bond dimension =  500 | Noise =  1.00e-05 | Dav threshold =  1.00e-10\n",
      "Time elapsed =      2.313 | E =     -49.8050731574 | DE = 2.84e-14 | DW = 1.06257e-26\n",
      "\n",
      "Sweep =    8 | Direction =  forward | Bond dimension =  500 | Noise =  0.00e+00 | Dav threshold =  1.00e-09\n",
      "Time elapsed =      2.584 | E =     -49.8050731574 | DE = 0.00e+00 | DW = 2.35338e-50\n",
      "\n"
     ]
    }
   ],
   "source": [
    "## Run DMRG\n",
    "def run_dmrg(driver, mpo):\n",
    "    ket = driver.get_random_mps(tag=\"KET\", bond_dim=250, nroots=1)\n",
    "    bond_dims = [250] * 4 + [500] * 4\n",
    "    noises = [1e-4] * 4 + [1e-5] * 4 + [0]\n",
    "    thrds = [1e-10] * 8\n",
    "    return driver.dmrg(mpo, ket, n_sweeps=20, bond_dims=bond_dims, noises=noises,\n",
    "        thrds=thrds, cutoff=0, iprint=1)\n",
    "\n",
    "energies = run_dmrg(driver, mpo)\n",
    "# print('DMRG energy = %20.15f' % energies)"
   ]
  },
  {
   "cell_type": "markdown",
   "id": "a796bf69-57d9-47f1-b77f-d7572c4baf32",
   "metadata": {},
   "source": [
    "# My Code for Bose Hubbard Model"
   ]
  },
  {
   "cell_type": "code",
   "execution_count": 33,
   "id": "6f88ef6f-bd71-4978-ac7c-eaf071b08544",
   "metadata": {},
   "outputs": [
    {
     "ename": "AttributeError",
     "evalue": "'str' object has no attribute 'SXT'",
     "output_type": "error",
     "traceback": [
      "\u001b[1;31m---------------------------------------------------------------------------\u001b[0m",
      "\u001b[1;31mAttributeError\u001b[0m                            Traceback (most recent call last)",
      "Cell \u001b[1;32mIn[33], line 7\u001b[0m\n\u001b[0;32m      4\u001b[0m TWOSZ \u001b[38;5;241m=\u001b[39m \u001b[38;5;241m0\u001b[39m\n\u001b[0;32m      6\u001b[0m driver \u001b[38;5;241m=\u001b[39m DMRGDriver(scratch\u001b[38;5;241m=\u001b[39m\u001b[38;5;124m\"\u001b[39m\u001b[38;5;124m./tmp\u001b[39m\u001b[38;5;124m\"\u001b[39m, symm_type\u001b[38;5;241m=\u001b[39mSymmetryTypes\u001b[38;5;241m.\u001b[39mSAnySU2, n_threads\u001b[38;5;241m=\u001b[39m\u001b[38;5;241m4\u001b[39m)\n\u001b[1;32m----> 7\u001b[0m driver \u001b[38;5;241m=\u001b[39m Block2Wrapper\u001b[38;5;241m.\u001b[39mset_symmetry_groups(\u001b[38;5;124m\"\u001b[39m\u001b[38;5;124mU1\u001b[39m\u001b[38;5;124m\"\u001b[39m)\n\u001b[0;32m      8\u001b[0m driver\u001b[38;5;241m.\u001b[39minitialize_system(n_sites\u001b[38;5;241m=\u001b[39mL, n_elec\u001b[38;5;241m=\u001b[39mN, spin\u001b[38;5;241m=\u001b[39mTWOSZ)\n",
      "File \u001b[1;32mD:\\AnacondaFinal\\anacondaInstall\\envs\\AJJ\\Lib\\site-packages\\pyblock2\\driver\\core.py:519\u001b[0m, in \u001b[0;36mBlock2Wrapper.set_symmetry_groups\u001b[1;34m(self, hints, *args)\u001b[0m\n\u001b[0;32m    507\u001b[0m \u001b[38;5;28;01mdef\u001b[39;00m \u001b[38;5;21mset_symmetry_groups\u001b[39m(\u001b[38;5;28mself\u001b[39m, \u001b[38;5;241m*\u001b[39margs, hints\u001b[38;5;241m=\u001b[39m\u001b[38;5;28;01mNone\u001b[39;00m):\n\u001b[0;32m    508\u001b[0m \u001b[38;5;250m    \u001b[39m\u001b[38;5;124;03m\"\"\"\u001b[39;00m\n\u001b[0;32m    509\u001b[0m \u001b[38;5;124;03m    Set the combination of symmetry sub-groups for ``symm_type = SAny``.\u001b[39;00m\n\u001b[0;32m    510\u001b[0m \n\u001b[1;32m   (...)\u001b[0m\n\u001b[0;32m    517\u001b[0m \u001b[38;5;124;03m            Hint for symmetry interpretation. Default is None.\u001b[39;00m\n\u001b[0;32m    518\u001b[0m \u001b[38;5;124;03m    \"\"\"\u001b[39;00m\n\u001b[1;32m--> 519\u001b[0m     \u001b[38;5;28;01massert\u001b[39;00m \u001b[38;5;28mself\u001b[39m\u001b[38;5;241m.\u001b[39mSXT \u001b[38;5;241m==\u001b[39m \u001b[38;5;28mself\u001b[39m\u001b[38;5;241m.\u001b[39mb\u001b[38;5;241m.\u001b[39mSAny \u001b[38;5;129;01mand\u001b[39;00m \u001b[38;5;28mlen\u001b[39m(args) \u001b[38;5;241m<\u001b[39m\u001b[38;5;241m=\u001b[39m \u001b[38;5;241m6\u001b[39m\n\u001b[0;32m    521\u001b[0m     \u001b[38;5;28;01mdef\u001b[39;00m \u001b[38;5;21minit_sany\u001b[39m(\u001b[38;5;241m*\u001b[39mqargs):\n\u001b[0;32m    522\u001b[0m         q \u001b[38;5;241m=\u001b[39m \u001b[38;5;28mself\u001b[39m\u001b[38;5;241m.\u001b[39mSXT()\n",
      "\u001b[1;31mAttributeError\u001b[0m: 'str' object has no attribute 'SXT'"
     ]
    }
   ],
   "source": [
    "## Initial Script\n",
    "## Testing with Block2Wrapper.set_symmetry_groups(\"U1\")\n",
    "L = 9\n",
    "N = 9\n",
    "TWOSZ = 0\n",
    "\n",
    "driver = DMRGDriver(scratch=\"./tmp\", symm_type=SymmetryTypes.SAnySU2, n_threads=4)\n",
    "driver = Block2Wrapper.set_symmetry_groups(\"U1\")\n",
    "driver.initialize_system(n_sites=L, n_elec=N, spin=TWOSZ)"
   ]
  },
  {
   "cell_type": "code",
   "execution_count": 31,
   "id": "27eca2ce-55b5-42c8-b424-4e4d404fa929",
   "metadata": {},
   "outputs": [
    {
     "data": {
      "text/plain": [
       "array([0, 1, 1, 0, 1, 2, 2, 1, 2, 3, 3, 2])"
      ]
     },
     "execution_count": 31,
     "metadata": {},
     "output_type": "execute_result"
    }
   ],
   "source": [
    "L =4\n",
    "np.array([[[i, i + 1], [i + 1, i]] for i in range(L - 1)]).flatten()"
   ]
  },
  {
   "cell_type": "code",
   "execution_count": 32,
   "id": "751a8719-5aa0-4dbe-b1bb-ffcc89c094a0",
   "metadata": {},
   "outputs": [
    {
     "data": {
      "text/plain": [
       "array([[0, 0, 0, 0],\n",
       "       [1, 1, 1, 1],\n",
       "       [2, 2, 2, 2],\n",
       "       [3, 3, 3, 3]])"
      ]
     },
     "execution_count": 32,
     "metadata": {},
     "output_type": "execute_result"
    }
   ],
   "source": [
    "np.array([[i, ] * 4 for i in range(L)])"
   ]
  },
  {
   "cell_type": "code",
   "execution_count": 3,
   "id": "ca457d72-d1a1-4def-8eeb-a44cababe119",
   "metadata": {},
   "outputs": [],
   "source": [
    "## Initial Script\n",
    "L = 9\n",
    "N = 9\n",
    "TWOSZ = 0\n",
    "\n",
    "driver = DMRGDriver(scratch=\"./tmp\", symm_type=SymmetryTypes.SGB, n_threads=4)\n",
    "driver.initialize_system(n_sites=L, n_elec=N, spin=TWOSZ)"
   ]
  },
  {
   "cell_type": "code",
   "execution_count": 4,
   "id": "7c57f2ee-e735-451d-89e5-a9040db4e117",
   "metadata": {},
   "outputs": [
    {
     "name": "stdout",
     "output_type": "stream",
     "text": [
      "\n",
      "Build MPO | Nsites =     9 | Nterms =         25 | Algorithm = FastBIP | Cutoff = 1.00e-14\n",
      " Site =     0 /     9 .. Mmpo =     4 DW = 0.00e+00"
     ]
    },
    {
     "ename": "IndexError",
     "evalue": "invalid unordered_map<K, T> key",
     "output_type": "error",
     "traceback": [
      "\u001b[1;31m---------------------------------------------------------------------------\u001b[0m",
      "\u001b[1;31mIndexError\u001b[0m                                Traceback (most recent call last)",
      "Cell \u001b[1;32mIn[4], line 12\u001b[0m\n\u001b[0;32m      9\u001b[0m \u001b[38;5;66;03m# onsite term\u001b[39;00m\n\u001b[0;32m     10\u001b[0m b\u001b[38;5;241m.\u001b[39madd_term(\u001b[38;5;124m\"\u001b[39m\u001b[38;5;124mcd\u001b[39m\u001b[38;5;124m\"\u001b[39m, np\u001b[38;5;241m.\u001b[39marray([[i, ] \u001b[38;5;241m*\u001b[39m \u001b[38;5;241m4\u001b[39m \u001b[38;5;28;01mfor\u001b[39;00m i \u001b[38;5;129;01min\u001b[39;00m \u001b[38;5;28mrange\u001b[39m(L)])\u001b[38;5;241m.\u001b[39mflatten(), U)\n\u001b[1;32m---> 12\u001b[0m mpo \u001b[38;5;241m=\u001b[39m driver\u001b[38;5;241m.\u001b[39mget_mpo(b\u001b[38;5;241m.\u001b[39mfinalize(), iprint\u001b[38;5;241m=\u001b[39m\u001b[38;5;241m2\u001b[39m)\n",
      "File \u001b[1;32mD:\\AnacondaFinal\\anacondaInstall\\envs\\AJJ\\Lib\\site-packages\\pyblock2\\driver\\core.py:3882\u001b[0m, in \u001b[0;36mDMRGDriver.get_mpo\u001b[1;34m(self, expr, iprint, cutoff, left_vacuum, algo_type, sum_mpo_mod, compute_accurate_svd_error, csvd_sparsity, csvd_eps, csvd_max_iter, disjoint_levels, disjoint_all_blocks, disjoint_multiplier, block_max_length, fast_no_orb_dep_op, add_ident, ancilla)\u001b[0m\n\u001b[0;32m   3880\u001b[0m mpo\u001b[38;5;241m.\u001b[39mblock_max_length \u001b[38;5;241m=\u001b[39m block_max_length\n\u001b[0;32m   3881\u001b[0m mpo\u001b[38;5;241m.\u001b[39mfast_no_orb_dep_op \u001b[38;5;241m=\u001b[39m fast_no_orb_dep_op\n\u001b[1;32m-> 3882\u001b[0m mpo\u001b[38;5;241m.\u001b[39mbuild()\n\u001b[0;32m   3884\u001b[0m \u001b[38;5;28;01mif\u001b[39;00m iprint:\n\u001b[0;32m   3885\u001b[0m     nnz, sz, bdim \u001b[38;5;241m=\u001b[39m mpo\u001b[38;5;241m.\u001b[39mget_summary()\n",
      "\u001b[1;31mIndexError\u001b[0m: invalid unordered_map<K, T> key"
     ]
    }
   ],
   "source": [
    "t = 1\n",
    "U = 1\n",
    "\n",
    "b = driver.expr_builder()\n",
    "\n",
    "# hopping term\n",
    "b.add_term(\"cd\", np.array([[[i, i + 1], [i + 1, i]] for i in range(L - 1)]).flatten(), -t)\n",
    "\n",
    "# onsite term\n",
    "b.add_term(\"cd\", np.array([[i, ] * 4 for i in range(L)]).flatten(), U)\n",
    "\n",
    "mpo = driver.get_mpo(b.finalize(), iprint=2)"
   ]
  },
  {
   "cell_type": "code",
   "execution_count": null,
   "id": "475f6474-9f59-4812-8865-6bf81d765bad",
   "metadata": {},
   "outputs": [],
   "source": []
  }
 ],
 "metadata": {
  "kernelspec": {
   "display_name": "Python 3 (ipykernel)",
   "language": "python",
   "name": "python3"
  },
  "language_info": {
   "codemirror_mode": {
    "name": "ipython",
    "version": 3
   },
   "file_extension": ".py",
   "mimetype": "text/x-python",
   "name": "python",
   "nbconvert_exporter": "python",
   "pygments_lexer": "ipython3",
   "version": "3.12.4"
  }
 },
 "nbformat": 4,
 "nbformat_minor": 5
}
