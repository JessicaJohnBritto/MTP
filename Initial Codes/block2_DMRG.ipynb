{
 "cells": [
  {
   "cell_type": "code",
   "execution_count": 4,
   "id": "8912b691-0803-4d9b-8373-74e06bf15afc",
   "metadata": {},
   "outputs": [
    {
     "ename": "ImportError",
     "evalue": "cannot import name 'DMRGDriver' from 'block2' (D:\\AnacondaFinal\\anacondaInstall\\envs\\AJJ\\Lib\\site-packages\\block2.cp312-win_amd64.pyd)",
     "output_type": "error",
     "traceback": [
      "\u001b[1;31m---------------------------------------------------------------------------\u001b[0m",
      "\u001b[1;31mImportError\u001b[0m                               Traceback (most recent call last)",
      "Cell \u001b[1;32mIn[4], line 3\u001b[0m\n\u001b[0;32m      1\u001b[0m \u001b[38;5;28;01mimport\u001b[39;00m \u001b[38;5;21;01mnumpy\u001b[39;00m \u001b[38;5;28;01mas\u001b[39;00m \u001b[38;5;21;01mnp\u001b[39;00m\n\u001b[0;32m      2\u001b[0m \u001b[38;5;28;01mimport\u001b[39;00m \u001b[38;5;21;01mmatplotlib\u001b[39;00m\u001b[38;5;21;01m.\u001b[39;00m\u001b[38;5;21;01mpyplot\u001b[39;00m \u001b[38;5;28;01mas\u001b[39;00m \u001b[38;5;21;01mplt\u001b[39;00m\n\u001b[1;32m----> 3\u001b[0m \u001b[38;5;28;01mfrom\u001b[39;00m \u001b[38;5;21;01mblock2\u001b[39;00m \u001b[38;5;28;01mimport\u001b[39;00m DMRGDriver, SymmetryTypes\n",
      "\u001b[1;31mImportError\u001b[0m: cannot import name 'DMRGDriver' from 'block2' (D:\\AnacondaFinal\\anacondaInstall\\envs\\AJJ\\Lib\\site-packages\\block2.cp312-win_amd64.pyd)"
     ]
    }
   ],
   "source": [
    "import numpy as np\n",
    "import matplotlib.pyplot as plt\n",
    "from block2 import DMRGDriver, SymmetryTypes\n",
    "# from block2.driver.core import DMRGDriver, SymmetryTypes"
   ]
  },
  {
   "cell_type": "code",
   "execution_count": null,
   "id": "e0ead91f-268a-4894-945e-25621148fb27",
   "metadata": {},
   "outputs": [],
   "source": []
  }
 ],
 "metadata": {
  "kernelspec": {
   "display_name": "Python 3 (ipykernel)",
   "language": "python",
   "name": "python3"
  },
  "language_info": {
   "codemirror_mode": {
    "name": "ipython",
    "version": 3
   },
   "file_extension": ".py",
   "mimetype": "text/x-python",
   "name": "python",
   "nbconvert_exporter": "python",
   "pygments_lexer": "ipython3",
   "version": "3.12.4"
  }
 },
 "nbformat": 4,
 "nbformat_minor": 5
}
