{
 "cells": [
  {
   "cell_type": "code",
   "execution_count": 8,
   "id": "d5acc6d5",
   "metadata": {},
   "outputs": [],
   "source": [
    "from pyblock2.driver.core import DMRGDriver, SymmetryTypes, MPOAlgorithmTypes\n",
    "import numpy as np"
   ]
  },
  {
   "cell_type": "code",
   "execution_count": 20,
   "id": "c7773c14",
   "metadata": {},
   "outputs": [],
   "source": [
    "L = 3\n",
    "N = 3\n",
    "t = 1.0\n",
    "U = 1.0\n",
    "\n",
    "driver = DMRGDriver(scratch=\"./tmp\", symm_type=SymmetryTypes.SAny, n_threads=4)\n",
    "\n",
    "driver.set_symmetry_groups(\"U1\")\n",
    "Q = driver.bw.SX"
   ]
  },
  {
   "cell_type": "code",
   "execution_count": 21,
   "id": "3fe53396",
   "metadata": {},
   "outputs": [],
   "source": [
    "# [Part A] Set states and matrix representation of operators in local Hilbert space\n",
    "site_basis, site_ops = [], []\n",
    "\n",
    "for k in range(L):\n",
    "    basis = [(Q(0), 1), (Q(1), 1), (Q(2), 1), (Q(3), 1)]\n",
    "    ops = {\n",
    "        \"\": np.array([[1, 0, 0, 0], [0, 1, 0, 0], [0, 0, 1, 0], [0, 0, 0, 1]]),             # identity\n",
    "        \"c\": np.array([[0, 0, 0, 0], [1, 0, 0, 0], [0, np.sqrt(2), 0, 0], [0, 0, np.sqrt(3), 0]]),  # creation\n",
    "        \"d\": np.array([[0, 1, 0, 0], [0, 0, np.sqrt(2), 0], [0, 0, 0, np.sqrt(3)], [0, 0, 0, 0]]),  # annihilation\n",
    "    }\n",
    "    site_basis.append(basis)\n",
    "    site_ops.append(ops)"
   ]
  },
  {
   "cell_type": "code",
   "execution_count": 22,
   "id": "9aaf7c43",
   "metadata": {},
   "outputs": [
    {
     "ename": "AssertionError",
     "evalue": "",
     "output_type": "error",
     "traceback": [
      "\u001b[1;31m---------------------------------------------------------------------------\u001b[0m",
      "\u001b[1;31mAssertionError\u001b[0m                            Traceback (most recent call last)",
      "Cell \u001b[1;32mIn[22], line 7\u001b[0m\n\u001b[0;32m      4\u001b[0m b \u001b[38;5;241m=\u001b[39m driver\u001b[38;5;241m.\u001b[39mexpr_builder()\n\u001b[0;32m      6\u001b[0m b\u001b[38;5;241m.\u001b[39madd_term(\u001b[38;5;124m\"\u001b[39m\u001b[38;5;124mcd\u001b[39m\u001b[38;5;124m\"\u001b[39m, np\u001b[38;5;241m.\u001b[39marray([[i, i \u001b[38;5;241m+\u001b[39m \u001b[38;5;241m1\u001b[39m, i \u001b[38;5;241m+\u001b[39m \u001b[38;5;241m1\u001b[39m, i] \u001b[38;5;28;01mfor\u001b[39;00m i \u001b[38;5;129;01min\u001b[39;00m \u001b[38;5;28mrange\u001b[39m(L \u001b[38;5;241m-\u001b[39m \u001b[38;5;241m1\u001b[39m)])\u001b[38;5;241m.\u001b[39mflatten(), t)\n\u001b[1;32m----> 7\u001b[0m b\u001b[38;5;241m.\u001b[39madd_term(\u001b[38;5;124m\"\u001b[39m\u001b[38;5;124mccdd\u001b[39m\u001b[38;5;124m\"\u001b[39m, np\u001b[38;5;241m.\u001b[39marray([i \u001b[38;5;28;01mfor\u001b[39;00m i \u001b[38;5;129;01min\u001b[39;00m \u001b[38;5;28mrange\u001b[39m(L) \u001b[38;5;28;01mfor\u001b[39;00m _ \u001b[38;5;129;01min\u001b[39;00m \u001b[38;5;28mrange\u001b[39m(L)]), U\u001b[38;5;241m/\u001b[39m\u001b[38;5;241m2\u001b[39m)\n\u001b[0;32m      8\u001b[0m b\u001b[38;5;241m.\u001b[39madd_term(\u001b[38;5;124m\"\u001b[39m\u001b[38;5;124mcc\u001b[39m\u001b[38;5;124m\"\u001b[39m, np\u001b[38;5;241m.\u001b[39marray([i \u001b[38;5;28;01mfor\u001b[39;00m i \u001b[38;5;129;01min\u001b[39;00m \u001b[38;5;28mrange\u001b[39m(L) \u001b[38;5;28;01mfor\u001b[39;00m _ \u001b[38;5;129;01min\u001b[39;00m \u001b[38;5;28mrange\u001b[39m(L)]), U\u001b[38;5;241m/\u001b[39m\u001b[38;5;241m2\u001b[39m)\n\u001b[0;32m     10\u001b[0m \u001b[38;5;66;03m# [Part C] Perform DMRG\u001b[39;00m\n",
      "File \u001b[1;32mD:\\AnacondaFinal\\anacondaInstall\\envs\\AJJ\\Lib\\site-packages\\pyblock2\\driver\\core.py:8626\u001b[0m, in \u001b[0;36mExprBuilder.add_term\u001b[1;34m(self, expr, idx, val)\u001b[0m\n\u001b[0;32m   8624\u001b[0m nn \u001b[38;5;241m=\u001b[39m \u001b[38;5;28mself\u001b[39m\u001b[38;5;241m.\u001b[39mbw\u001b[38;5;241m.\u001b[39mb\u001b[38;5;241m.\u001b[39mSpinPermRecoupling\u001b[38;5;241m.\u001b[39mcount_cds(expr)\n\u001b[0;32m   8625\u001b[0m \u001b[38;5;28;01mif\u001b[39;00m nn \u001b[38;5;241m!=\u001b[39m \u001b[38;5;241m0\u001b[39m:\n\u001b[1;32m-> 8626\u001b[0m     \u001b[38;5;28;01massert\u001b[39;00m \u001b[38;5;28mlen\u001b[39m(idx) \u001b[38;5;241m%\u001b[39m nn \u001b[38;5;241m==\u001b[39m \u001b[38;5;241m0\u001b[39m\n\u001b[0;32m   8627\u001b[0m     val \u001b[38;5;241m=\u001b[39m [val] \u001b[38;5;241m*\u001b[39m (\u001b[38;5;28mlen\u001b[39m(idx) \u001b[38;5;241m/\u001b[39m\u001b[38;5;241m/\u001b[39m nn)\n\u001b[0;32m   8628\u001b[0m \u001b[38;5;28;01melse\u001b[39;00m:\n",
      "\u001b[1;31mAssertionError\u001b[0m: "
     ]
    }
   ],
   "source": [
    "# [Part B] Set Hamiltonian terms\n",
    "driver.initialize_system(n_sites=L, vacuum=Q(0), target=Q(N), hamil_init=False)\n",
    "driver.ghamil = driver.get_custom_hamiltonian(site_basis, site_ops)\n",
    "b = driver.expr_builder()\n",
    "\n",
    "b.add_term(\"cd\", np.array([[i, i + 1, i + 1, i] for i in range(L - 1)]).flatten(), t)\n",
    "b.add_term(\"ccdd\", np.array([i for i in range(L) for _ in range(L)]), U/2)\n",
    "b.add_term(\"cc\", np.array([i for i in range(L) for _ in range(L)]), U/2)\n",
    "\n",
    "# [Part C] Perform DMRG\n",
    "mpo = driver.get_mpo(b.finalize(adjust_order=True, fermionic_ops=None), algo_type=MPOAlgorithmTypes.FastBipartite)"
   ]
  },
  {
   "cell_type": "code",
   "execution_count": 115,
   "id": "d7da2db5",
   "metadata": {},
   "outputs": [
    {
     "data": {
      "text/plain": [
       "4.941964249103701"
      ]
     },
     "execution_count": 115,
     "metadata": {},
     "output_type": "execute_result"
    }
   ],
   "source": [
    "mps = driver.get_random_mps(tag=\"KET\", bond_dim=50, nroots=1)\n",
    "driver.expectation(mps, mpo, mps)"
   ]
  },
  {
   "cell_type": "code",
   "execution_count": 116,
   "id": "69222a28",
   "metadata": {},
   "outputs": [
    {
     "data": {
      "text/plain": [
       "9.999999999999996"
      ]
     },
     "execution_count": 116,
     "metadata": {},
     "output_type": "execute_result"
    }
   ],
   "source": [
    "b = driver.expr_builder()\n",
    "b.add_term(\"cd\", np.array([i for i in range(L) for _ in range(2)]), 1.0)\n",
    "mponum = driver.get_mpo(b.finalize(adjust_order=True), algo_type=MPOAlgorithmTypes.FastBipartite)\n",
    "driver.expectation(mps, mponum, mps)"
   ]
  },
  {
   "cell_type": "code",
   "execution_count": 117,
   "id": "7c50b364",
   "metadata": {},
   "outputs": [
    {
     "name": "stdout",
     "output_type": "stream",
     "text": [
      "\n",
      "Sweep =    0 | Direction =  forward | Bond dimension =   50 | Noise =  1.00e-03 | Dav threshold =  1.00e-10\n",
      "Time elapsed =      0.701 | E =     -61.6864166094 | DW = 1.75484e-03\n",
      "\n",
      "Sweep =    1 | Direction = backward | Bond dimension =   50 | Noise =  1.00e-03 | Dav threshold =  1.00e-10\n",
      "Time elapsed =      1.545 | E =     -61.0647590641 | DE = 6.22e-01 | DW = 1.39749e-02\n",
      "\n",
      "Sweep =    2 | Direction =  forward | Bond dimension =   50 | Noise =  1.00e-03 | Dav threshold =  1.00e-10\n",
      "Time elapsed =      2.436 | E =     -56.1004330522 | DE = 4.96e+00 | DW = 1.57994e-02\n",
      "\n",
      "Sweep =    3 | Direction = backward | Bond dimension =   50 | Noise =  1.00e-05 | Dav threshold =  1.00e-10\n",
      "Time elapsed =      3.334 | E =     -63.3676492860 | DE = -7.27e+00 | DW = 1.70730e-02\n",
      "\n",
      "Sweep =    4 | Direction =  forward | Bond dimension =  100 | Noise =  1.00e-05 | Dav threshold =  1.00e-10\n",
      "Time elapsed =      4.377 | E =     -60.4165501888 | DE = 2.95e+00 | DW = 2.72457e-04\n",
      "\n",
      "Sweep =    5 | Direction = backward | Bond dimension =  100 | Noise =  1.00e-05 | Dav threshold =  1.00e-10\n",
      "Time elapsed =      5.616 | E =     -65.2269721563 | DE = -4.81e+00 | DW = 3.94976e-03\n",
      "\n",
      "Sweep =    6 | Direction =  forward | Bond dimension =  200 | Noise =  0.00e+00 | Dav threshold =  1.00e-10\n",
      "Time elapsed =      7.271 | E =     -68.7984888571 | DE = -3.57e+00 | DW = 2.84239e-05\n",
      "\n",
      "Sweep =    7 | Direction = backward | Bond dimension =  200 | Noise =  0.00e+00 | Dav threshold =  1.00e-10\n",
      "Time elapsed =      9.410 | E =     -63.8288280314 | DE = 4.97e+00 | DW = 3.85439e-05\n",
      "\n",
      "Sweep =    8 | Direction =  forward | Bond dimension =  200 | Noise =  0.00e+00 | Dav threshold =  1.00e-09\n",
      "Time elapsed =     11.610 | E =     -56.9155783900 | DE = 6.91e+00 | DW = 1.39058e-04\n",
      "\n",
      "Sweep =    9 | Direction = backward | Bond dimension =  200 | Noise =  0.00e+00 | Dav threshold =  1.00e-09\n",
      "Time elapsed =     13.703 | E =     -53.8479191741 | DE = 3.07e+00 | DW = 1.45206e-04\n",
      "\n",
      "Sweep =   10 | Direction =  forward | Bond dimension =  200 | Noise =  0.00e+00 | Dav threshold =  1.00e-09\n",
      "Time elapsed =     15.863 | E =     -54.4585132299 | DE = -6.11e-01 | DW = 9.53553e-05\n",
      "\n",
      "Sweep =   11 | Direction = backward | Bond dimension =  200 | Noise =  0.00e+00 | Dav threshold =  1.00e-09\n",
      "Time elapsed =     17.994 | E =     -69.3540778295 | DE = -1.49e+01 | DW = 2.37990e-04\n",
      "\n",
      "Sweep =   12 | Direction =  forward | Bond dimension =  200 | Noise =  0.00e+00 | Dav threshold =  1.00e-09\n",
      "Time elapsed =     20.030 | E =     -58.6196485846 | DE = 1.07e+01 | DW = 2.03833e-04\n",
      "\n",
      "Sweep =   13 | Direction = backward | Bond dimension =  200 | Noise =  0.00e+00 | Dav threshold =  1.00e-09\n",
      "Time elapsed =     22.228 | E =     -66.5571969223 | DE = -7.94e+00 | DW = 3.96766e-05\n",
      "\n",
      "Sweep =   14 | Direction =  forward | Bond dimension =  200 | Noise =  0.00e+00 | Dav threshold =  1.00e-09\n",
      "Time elapsed =     24.448 | E =     -74.5826144952 | DE = -8.03e+00 | DW = 1.01487e-04\n",
      "\n",
      "Sweep =   15 | Direction = backward | Bond dimension =  200 | Noise =  0.00e+00 | Dav threshold =  1.00e-09\n",
      "Time elapsed =     26.624 | E =     -60.0528010964 | DE = 1.45e+01 | DW = 4.52711e-04\n",
      "\n",
      "Sweep =   16 | Direction =  forward | Bond dimension =  200 | Noise =  0.00e+00 | Dav threshold =  1.00e-09\n",
      "Time elapsed =     28.721 | E =     -71.2563138533 | DE = -1.12e+01 | DW = 5.88952e-05\n",
      "\n",
      "Sweep =   17 | Direction = backward | Bond dimension =  200 | Noise =  0.00e+00 | Dav threshold =  1.00e-09\n",
      "Time elapsed =     30.832 | E =     -58.3680662210 | DE = 1.29e+01 | DW = 4.33014e-05\n",
      "\n",
      "Sweep =   18 | Direction =  forward | Bond dimension =  200 | Noise =  0.00e+00 | Dav threshold =  1.00e-09\n",
      "Time elapsed =     32.991 | E =     -74.3190696538 | DE = -1.60e+01 | DW = 1.33804e-04\n",
      "\n",
      "Sweep =   19 | Direction = backward | Bond dimension =  200 | Noise =  0.00e+00 | Dav threshold =  1.00e-09\n",
      "Time elapsed =     35.279 | E =     -53.2932731475 | DE = 2.10e+01 | DW = 5.16918e-04\n",
      "\n",
      "Sweep =   20 | Direction =  forward | Bond dimension =  200 | Noise =  0.00e+00 | Dav threshold =  1.00e-09\n",
      "Time elapsed =     37.584 | E =     -69.0692911265 | DE = -1.58e+01 | DW = 8.34610e-05\n",
      "\n",
      "Sweep =   21 | Direction = backward | Bond dimension =  200 | Noise =  0.00e+00 | Dav threshold =  1.00e-09\n",
      "Time elapsed =     39.840 | E =     -65.1042916724 | DE = 3.96e+00 | DW = 2.10378e-03\n",
      "\n",
      "Sweep =   22 | Direction =  forward | Bond dimension =  200 | Noise =  0.00e+00 | Dav threshold =  1.00e-09\n",
      "Time elapsed =     41.886 | E =     -66.0783021198 | DE = -9.74e-01 | DW = 2.12161e-04\n",
      "\n",
      "Sweep =   23 | Direction = backward | Bond dimension =  200 | Noise =  0.00e+00 | Dav threshold =  1.00e-09\n",
      "Time elapsed =     43.951 | E =     -63.4502723368 | DE = 2.63e+00 | DW = 4.13870e-05\n",
      "\n",
      "Sweep =   24 | Direction =  forward | Bond dimension =  200 | Noise =  0.00e+00 | Dav threshold =  1.00e-09\n",
      "Time elapsed =     46.218 | E =     -63.4095355171 | DE = 4.07e-02 | DW = 1.40105e-04\n",
      "\n",
      "Sweep =   25 | Direction = backward | Bond dimension =  200 | Noise =  0.00e+00 | Dav threshold =  1.00e-09\n",
      "Time elapsed =     48.492 | E =     -53.1061584347 | DE = 1.03e+01 | DW = 4.76496e-04\n",
      "\n",
      "Sweep =   26 | Direction =  forward | Bond dimension =  200 | Noise =  0.00e+00 | Dav threshold =  1.00e-09\n",
      "Time elapsed =     50.631 | E =     -62.4903300814 | DE = -9.38e+00 | DW = 8.46506e-04\n",
      "\n",
      "Sweep =   27 | Direction = backward | Bond dimension =  200 | Noise =  0.00e+00 | Dav threshold =  1.00e-09\n",
      "Time elapsed =     52.898 | E =     -54.2473685433 | DE = 8.24e+00 | DW = 3.68314e-04\n",
      "\n",
      "Sweep =   28 | Direction =  forward | Bond dimension =  200 | Noise =  0.00e+00 | Dav threshold =  1.00e-09\n",
      "Time elapsed =     55.164 | E =     -55.3329539606 | DE = -1.09e+00 | DW = 1.00283e-03\n",
      "\n",
      "Sweep =   29 | Direction = backward | Bond dimension =  200 | Noise =  0.00e+00 | Dav threshold =  1.00e-09\n",
      "Time elapsed =     57.449 | E =     -56.0450881245 | DE = -7.12e-01 | DW = 1.42900e-03\n",
      "\n",
      "Sweep =   30 | Direction =  forward | Bond dimension =  200 | Noise =  0.00e+00 | Dav threshold =  1.00e-09\n",
      "Time elapsed =     59.666 | E =     -70.3277045136 | DE = -1.43e+01 | DW = 3.40803e-04\n",
      "\n",
      "Sweep =   31 | Direction = backward | Bond dimension =  200 | Noise =  0.00e+00 | Dav threshold =  1.00e-09\n",
      "Time elapsed =     61.915 | E =     -60.0097110748 | DE = 1.03e+01 | DW = 8.94248e-05\n",
      "\n",
      "Sweep =   32 | Direction =  forward | Bond dimension =  200 | Noise =  0.00e+00 | Dav threshold =  1.00e-09\n",
      "Time elapsed =     64.096 | E =     -64.9327790852 | DE = -4.92e+00 | DW = 6.68139e-04\n",
      "\n",
      "Sweep =   33 | Direction = backward | Bond dimension =  200 | Noise =  0.00e+00 | Dav threshold =  1.00e-09\n",
      "Time elapsed =     66.270 | E =     -59.8802660879 | DE = 5.05e+00 | DW = 5.23928e-04\n",
      "\n",
      "Sweep =   34 | Direction =  forward | Bond dimension =  200 | Noise =  0.00e+00 | Dav threshold =  1.00e-09\n",
      "Time elapsed =     68.488 | E =     -68.1201911105 | DE = -8.24e+00 | DW = 1.66161e-04\n",
      "\n",
      "Sweep =   35 | Direction = backward | Bond dimension =  200 | Noise =  0.00e+00 | Dav threshold =  1.00e-09\n",
      "Time elapsed =     70.672 | E =     -52.9858362268 | DE = 1.51e+01 | DW = 2.78279e-04\n",
      "\n",
      "Sweep =   36 | Direction =  forward | Bond dimension =  200 | Noise =  0.00e+00 | Dav threshold =  1.00e-09\n",
      "Time elapsed =     72.812 | E =     -50.5975742320 | DE = 2.39e+00 | DW = 8.10300e-04\n",
      "\n",
      "Sweep =   37 | Direction = backward | Bond dimension =  200 | Noise =  0.00e+00 | Dav threshold =  1.00e-09\n",
      "Time elapsed =     74.977 | E =     -57.4562384458 | DE = -6.86e+00 | DW = 1.72826e-04\n"
     ]
    },
    {
     "ename": "KeyboardInterrupt",
     "evalue": "",
     "output_type": "error",
     "traceback": [
      "\u001b[0;31m---------------------------------------------------------------------------\u001b[0m",
      "\u001b[0;31mKeyboardInterrupt\u001b[0m                         Traceback (most recent call last)",
      "Cell \u001b[0;32mIn[117], line 2\u001b[0m\n\u001b[1;32m      1\u001b[0m mps \u001b[38;5;241m=\u001b[39m driver\u001b[38;5;241m.\u001b[39mget_random_mps(tag\u001b[38;5;241m=\u001b[39m\u001b[38;5;124m\"\u001b[39m\u001b[38;5;124mKET\u001b[39m\u001b[38;5;124m\"\u001b[39m, bond_dim\u001b[38;5;241m=\u001b[39m\u001b[38;5;241m50\u001b[39m, nroots\u001b[38;5;241m=\u001b[39m\u001b[38;5;241m1\u001b[39m)\n\u001b[0;32m----> 2\u001b[0m energy \u001b[38;5;241m=\u001b[39m \u001b[43mdriver\u001b[49m\u001b[38;5;241;43m.\u001b[39;49m\u001b[43mdmrg\u001b[49m\u001b[43m(\u001b[49m\n\u001b[1;32m      3\u001b[0m \u001b[43m    \u001b[49m\u001b[43mmpo\u001b[49m\u001b[43m,\u001b[49m\u001b[43m \u001b[49m\n\u001b[1;32m      4\u001b[0m \u001b[43m    \u001b[49m\u001b[43mmps\u001b[49m\u001b[43m,\u001b[49m\u001b[43m \u001b[49m\n\u001b[1;32m      5\u001b[0m \u001b[43m    \u001b[49m\u001b[43mn_sweeps\u001b[49m\u001b[38;5;241;43m=\u001b[39;49m\u001b[38;5;241;43m100\u001b[39;49m\u001b[43m,\u001b[49m\u001b[43m \u001b[49m\n\u001b[1;32m      6\u001b[0m \u001b[43m    \u001b[49m\u001b[43mbond_dims\u001b[49m\u001b[38;5;241;43m=\u001b[39;49m\u001b[43m[\u001b[49m\u001b[38;5;241;43m50\u001b[39;49m\u001b[43m]\u001b[49m\u001b[43m \u001b[49m\u001b[38;5;241;43m*\u001b[39;49m\u001b[43m \u001b[49m\u001b[38;5;241;43m4\u001b[39;49m\u001b[43m \u001b[49m\u001b[38;5;241;43m+\u001b[39;49m\u001b[43m \u001b[49m\u001b[43m[\u001b[49m\u001b[38;5;241;43m100\u001b[39;49m\u001b[43m]\u001b[49m\u001b[43m \u001b[49m\u001b[38;5;241;43m*\u001b[39;49m\u001b[43m \u001b[49m\u001b[38;5;241;43m2\u001b[39;49m\u001b[43m \u001b[49m\u001b[38;5;241;43m+\u001b[39;49m\u001b[43m \u001b[49m\u001b[43m[\u001b[49m\u001b[38;5;241;43m200\u001b[39;49m\u001b[43m]\u001b[49m\u001b[43m \u001b[49m\u001b[38;5;241;43m*\u001b[39;49m\u001b[43m \u001b[49m\u001b[38;5;241;43m2\u001b[39;49m\u001b[43m,\u001b[49m\u001b[43m \u001b[49m\n\u001b[1;32m      7\u001b[0m \u001b[43m    \u001b[49m\u001b[43mnoises\u001b[49m\u001b[38;5;241;43m=\u001b[39;49m\u001b[43m[\u001b[49m\u001b[38;5;241;43m1e-3\u001b[39;49m\u001b[43m]\u001b[49m\u001b[43m \u001b[49m\u001b[38;5;241;43m*\u001b[39;49m\u001b[43m \u001b[49m\u001b[38;5;241;43m3\u001b[39;49m\u001b[43m \u001b[49m\u001b[38;5;241;43m+\u001b[39;49m\u001b[43m \u001b[49m\u001b[43m[\u001b[49m\u001b[38;5;241;43m1e-5\u001b[39;49m\u001b[43m]\u001b[49m\u001b[43m \u001b[49m\u001b[38;5;241;43m*\u001b[39;49m\u001b[43m \u001b[49m\u001b[38;5;241;43m3\u001b[39;49m\u001b[43m \u001b[49m\u001b[38;5;241;43m+\u001b[39;49m\u001b[43m \u001b[49m\u001b[43m[\u001b[49m\u001b[38;5;241;43m0\u001b[39;49m\u001b[43m]\u001b[49m\u001b[43m,\u001b[49m\u001b[43m  \u001b[49m\n\u001b[1;32m      8\u001b[0m \u001b[43m    \u001b[49m\u001b[43mthrds\u001b[49m\u001b[38;5;241;43m=\u001b[39;49m\u001b[43m[\u001b[49m\u001b[38;5;241;43m1e-10\u001b[39;49m\u001b[43m]\u001b[49m\u001b[43m \u001b[49m\u001b[38;5;241;43m*\u001b[39;49m\u001b[43m \u001b[49m\u001b[38;5;241;43m8\u001b[39;49m\u001b[43m,\u001b[49m\u001b[43m \u001b[49m\n\u001b[1;32m      9\u001b[0m \u001b[43m    \u001b[49m\u001b[43mdav_max_iter\u001b[49m\u001b[38;5;241;43m=\u001b[39;49m\u001b[38;5;241;43m100\u001b[39;49m\u001b[43m,\u001b[49m\u001b[43m \u001b[49m\n\u001b[1;32m     10\u001b[0m \u001b[43m    \u001b[49m\u001b[43mcutoff\u001b[49m\u001b[38;5;241;43m=\u001b[39;49m\u001b[38;5;241;43m1E-20\u001b[39;49m\u001b[43m,\u001b[49m\u001b[43m \u001b[49m\n\u001b[1;32m     11\u001b[0m \u001b[43m    \u001b[49m\u001b[43miprint\u001b[49m\u001b[38;5;241;43m=\u001b[39;49m\u001b[38;5;241;43m1\u001b[39;49m\u001b[43m)\u001b[49m\n\u001b[1;32m     12\u001b[0m \u001b[38;5;28mprint\u001b[39m(\u001b[38;5;124m\"\u001b[39m\u001b[38;5;124mDMRG energy = \u001b[39m\u001b[38;5;132;01m%20.15f\u001b[39;00m\u001b[38;5;124m\"\u001b[39m \u001b[38;5;241m%\u001b[39m energy)\n",
      "File \u001b[0;32m/Library/Frameworks/Python.framework/Versions/3.11/lib/python3.11/site-packages/pyblock2/driver/core.py:4537\u001b[0m, in \u001b[0;36mDMRGDriver.dmrg\u001b[0;34m(self, mpo, ket, n_sweeps, tol, bond_dims, noises, thrds, iprint, dav_type, davidson_shift, cutoff, twosite_to_onesite, dav_max_iter, dav_def_max_size, dav_rel_conv_thrd, proj_mpss, proj_weights, noise_type, decomp_type, store_wfn_spectra, spectra_with_multiplicity, store_seq_data, lowmem_noise, sweep_start, forward, kernel, metric_mpo, stacked_mpo, context_ket)\u001b[0m\n\u001b[1;32m   4535\u001b[0m     forward \u001b[38;5;241m=\u001b[39m ket\u001b[38;5;241m.\u001b[39mcenter \u001b[38;5;241m==\u001b[39m \u001b[38;5;241m0\u001b[39m\n\u001b[1;32m   4536\u001b[0m \u001b[38;5;28;01mif\u001b[39;00m twosite_to_onesite \u001b[38;5;129;01mis\u001b[39;00m \u001b[38;5;28;01mNone\u001b[39;00m:\n\u001b[0;32m-> 4537\u001b[0m     ener \u001b[38;5;241m=\u001b[39m \u001b[43mdmrg\u001b[49m\u001b[38;5;241;43m.\u001b[39;49m\u001b[43msolve\u001b[49m\u001b[43m(\u001b[49m\u001b[43mn_sweeps\u001b[49m\u001b[43m,\u001b[49m\u001b[43m \u001b[49m\u001b[43mforward\u001b[49m\u001b[43m,\u001b[49m\u001b[43m \u001b[49m\u001b[43mtol\u001b[49m\u001b[43m,\u001b[49m\u001b[43m \u001b[49m\u001b[43msweep_start\u001b[49m\u001b[43m)\u001b[49m\n\u001b[1;32m   4538\u001b[0m \u001b[38;5;28;01melse\u001b[39;00m:\n\u001b[1;32m   4539\u001b[0m     \u001b[38;5;28;01massert\u001b[39;00m twosite_to_onesite \u001b[38;5;241m<\u001b[39m n_sweeps\n",
      "\u001b[0;31mKeyboardInterrupt\u001b[0m: "
     ]
    }
   ],
   "source": [
    "mps = driver.get_random_mps(tag=\"KET\", bond_dim=50, nroots=1)\n",
    "energy = driver.dmrg(\n",
    "    mpo, \n",
    "    mps, \n",
    "    n_sweeps=100, \n",
    "    bond_dims=[50] * 4 + [100] * 2 + [200] * 2, \n",
    "    noises=[1e-3] * 3 + [1e-5] * 3 + [0],  \n",
    "    thrds=[1e-10] * 8, \n",
    "    dav_max_iter=100, \n",
    "    cutoff=1E-20, \n",
    "    iprint=1)\n",
    "print(\"DMRG energy = %20.15f\" % energy)"
   ]
  },
  {
   "cell_type": "code",
   "execution_count": 16,
   "id": "0644b41c",
   "metadata": {},
   "outputs": [
    {
     "data": {
      "text/plain": [
       "array([0, 1, 1, 0, 1, 2, 2, 1])"
      ]
     },
     "execution_count": 16,
     "metadata": {},
     "output_type": "execute_result"
    }
   ],
   "source": [
    "L = 3\n",
    "np.array([j for i in range(L - 1) for j in [i, i + 1, i + 1, i]])"
   ]
  },
  {
   "cell_type": "code",
   "execution_count": 23,
   "id": "ccd2e424-feb6-4908-b01f-1f10022b45f5",
   "metadata": {},
   "outputs": [
    {
     "data": {
      "text/plain": [
       "array([0, 1, 1, 0, 1, 2, 2, 1])"
      ]
     },
     "execution_count": 23,
     "metadata": {},
     "output_type": "execute_result"
    }
   ],
   "source": [
    "np.array([[i, i+1, i+1, i] for i in range(L-1)]).flatten()"
   ]
  },
  {
   "cell_type": "code",
   "execution_count": 26,
   "id": "3f31a759-d4f7-42f6-a92f-f8122076d418",
   "metadata": {},
   "outputs": [
    {
     "data": {
      "text/plain": [
       "array([0, 1, 1, 0, 1, 2, 2, 1])"
      ]
     },
     "execution_count": 26,
     "metadata": {},
     "output_type": "execute_result"
    }
   ],
   "source": [
    "np.repeat(np.arange(L-1), 4) + np.tile([0, 1, 1, 0], L-1)"
   ]
  },
  {
   "cell_type": "code",
   "execution_count": 27,
   "id": "d3e1bf2b-a3d9-45bc-a70c-70f46b6f29e8",
   "metadata": {},
   "outputs": [
    {
     "data": {
      "text/plain": [
       "array([0, 0, 0, 0, 1, 1, 1, 1])"
      ]
     },
     "execution_count": 27,
     "metadata": {},
     "output_type": "execute_result"
    }
   ],
   "source": [
    "np.repeat(np.arange(L-1), 4)"
   ]
  },
  {
   "cell_type": "code",
   "execution_count": 28,
   "id": "399a0f53-6c22-41d1-a89e-94e3578fd9fb",
   "metadata": {},
   "outputs": [
    {
     "data": {
      "text/plain": [
       "array([0, 1, 1, 0, 0, 1, 1, 0])"
      ]
     },
     "execution_count": 28,
     "metadata": {},
     "output_type": "execute_result"
    }
   ],
   "source": [
    "np.tile([0, 1, 1, 0], L-1)"
   ]
  },
  {
   "cell_type": "code",
   "execution_count": 17,
   "id": "13a1f9e5-9ba2-42a0-9b99-95c6d8af58fb",
   "metadata": {},
   "outputs": [
    {
     "data": {
      "text/plain": [
       "array([0, 1, 2])"
      ]
     },
     "execution_count": 17,
     "metadata": {},
     "output_type": "execute_result"
    }
   ],
   "source": [
    "np.array([i for i in range(L)])"
   ]
  },
  {
   "cell_type": "code",
   "execution_count": 24,
   "id": "e76c6ec9-fcb3-4def-8737-e4a2c4602195",
   "metadata": {},
   "outputs": [
    {
     "data": {
      "text/plain": [
       "array([0, 1, 2])"
      ]
     },
     "execution_count": 24,
     "metadata": {},
     "output_type": "execute_result"
    }
   ],
   "source": [
    "np.array(np.arange(L))"
   ]
  },
  {
   "cell_type": "code",
   "execution_count": 18,
   "id": "57104d54-dbad-45f9-abbc-5760297c44d1",
   "metadata": {},
   "outputs": [
    {
     "data": {
      "text/plain": [
       "array([0, 0, 1, 1, 2, 2])"
      ]
     },
     "execution_count": 18,
     "metadata": {},
     "output_type": "execute_result"
    }
   ],
   "source": [
    "np.array([j for i in range(L) for j in [i, i]])"
   ]
  },
  {
   "cell_type": "code",
   "execution_count": 25,
   "id": "d275760f-7283-4ae8-ab7f-f7e0c72ef03c",
   "metadata": {},
   "outputs": [
    {
     "data": {
      "text/plain": [
       "array([0, 0, 1, 1, 2, 2])"
      ]
     },
     "execution_count": 25,
     "metadata": {},
     "output_type": "execute_result"
    }
   ],
   "source": [
    "np.repeat(np.arange(L), 2)"
   ]
  },
  {
   "cell_type": "code",
   "execution_count": null,
   "id": "1d289c9c-6728-4696-bdee-05cffe2f2735",
   "metadata": {},
   "outputs": [],
   "source": []
  }
 ],
 "metadata": {
  "kernelspec": {
   "display_name": "Python 3 (ipykernel)",
   "language": "python",
   "name": "python3"
  },
  "language_info": {
   "codemirror_mode": {
    "name": "ipython",
    "version": 3
   },
   "file_extension": ".py",
   "mimetype": "text/x-python",
   "name": "python",
   "nbconvert_exporter": "python",
   "pygments_lexer": "ipython3",
   "version": "3.8.19"
  }
 },
 "nbformat": 4,
 "nbformat_minor": 5
}
