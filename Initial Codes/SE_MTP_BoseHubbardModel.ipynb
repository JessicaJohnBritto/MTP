{
 "cells": [
  {
   "cell_type": "code",
   "execution_count": 19,
   "id": "c81d7479",
   "metadata": {},
   "outputs": [],
   "source": [
    "import numpy as np\n",
    "from numpy import linalg\n",
    "from scipy import linalg as splinalg\n",
    "import matplotlib.pyplot as plt\n",
    "from scipy import sparse as sp\n",
    "import scipy.sparse.linalg\n",
    "from functools import reduce\n",
    "import itertools\n",
    "from scipy import linalg\n",
    "from scipy.linalg import expm\n",
    "from scipy.special import comb\n",
    "from itertools import combinations_with_replacement\n",
    "from collections import Counter\n",
    "import copy\n",
    "from scipy.linalg import ishermitian\n",
    "import seaborn as sns"
   ]
  },
  {
   "cell_type": "markdown",
   "id": "827f4b3c",
   "metadata": {},
   "source": [
    "# Bose-Hubbard Model"
   ]
  },
  {
   "cell_type": "code",
   "execution_count": 31,
   "id": "ba1cecb5",
   "metadata": {},
   "outputs": [],
   "source": [
    "def normalizeWF(psi,**kwargs):\n",
    "    shape, dtype = psi.shape, psi.dtype\n",
    "    NWF = psi\n",
    "    if np.array_equal(psi, np.zeros(shape, dtype = dtype)) == True:\n",
    "        NWF = psi\n",
    "    elif np.vdot(psi, psi) == 0:\n",
    "        NWF = psi\n",
    "    else:\n",
    "        NWF = psi/(np.sqrt(np.vdot(psi, psi)))\n",
    "    return NWF"
   ]
  },
  {
   "cell_type": "code",
   "execution_count": 32,
   "id": "f98d0216",
   "metadata": {},
   "outputs": [],
   "source": [
    "params = {\n",
    "    'N': 21, # no. of sites\n",
    "    't':1.0,\n",
    "    'localized_site': 10,\n",
    "    'T': 20,\n",
    "    'tau': 0.01\n",
    "}"
   ]
  },
  {
   "cell_type": "code",
   "execution_count": 33,
   "id": "c6509588",
   "metadata": {},
   "outputs": [],
   "source": [
    "def create_heatmap(X, Y, probabilities):\n",
    "    X = np.array(X)\n",
    "    Y = np.array(Y)\n",
    "    probabilities = np.array(probabilities)\n",
    "    probability = []\n",
    "    for i, prob in enumerate(probabilities):\n",
    "        probability += [float((np.abs(prob))**2)]\n",
    "    plt.figure(figsize=[7, 5])\n",
    "    p = plt.get_cmap('Blues')\n",
    "    \n",
    "#     sns.scatterplot(x=X, y = Y, hue=probability, palette=\"viridis\")\n",
    "\n",
    "    x_unique = np.unique(X)\n",
    "    y_unique = np.unique(Y)\n",
    "    heatmap_data = np.zeros((len(y_unique), len(x_unique)))\n",
    "\n",
    "    x_index = {value: idx for idx, value in enumerate(x_unique)}\n",
    "    y_index = {value: idx for idx, value in enumerate(y_unique)}\n",
    "\n",
    "    for (x, y, prob) in zip(X, Y, probabilities):\n",
    "        i = y_index[y]\n",
    "        j = x_index[x]\n",
    "        heatmap_data[i, j] = (np.abs(prob))**2\n",
    "\n",
    "    sns.heatmap(heatmap_data, cmap=p)\n",
    "    plt.xlabel('Site i')\n",
    "    plt.ylabel('Site j')\n",
    "    mu = params['mu']\n",
    "    plt.title(f'Probability as a function of Sites i and j, Δ={mu}')\n",
    "    plt.show()"
   ]
  },
  {
   "cell_type": "code",
   "execution_count": 34,
   "id": "acd88254",
   "metadata": {},
   "outputs": [
    {
     "name": "stdout",
     "output_type": "stream",
     "text": [
      "{'N': 20, 't': 1.0, 'localized_site': 10, 'T': 20, 'tau': 0.01, 'dim': 210, 'occupationTuple_lst': [], 'U': 1, 'Map_ParticleLoc_OccupNo': {}, 'map_occupToD_Dim': {}, 'k': 2, 'mu': 0.4, 'vac': array([0., 0., 0., 0., 0., 0., 0., 0., 0., 0., 0., 0., 0., 0., 0., 0., 0.,\n",
      "       0., 0., 0.])}\n"
     ]
    }
   ],
   "source": [
    "params['dim'] = 0\n",
    "params['occupationTuple_lst'] = []\n",
    "params['U'] = 1\n",
    "params['Map_ParticleLoc_OccupNo']={}\n",
    "params['map_occupToD_Dim'] = {}\n",
    "params['N'], params['k'], params['mu'], params['U'] = 20, 2, 0.4, 1\n",
    "def dimension(params, **kwargs):\n",
    "    '''\n",
    "    For k identical bosonic particles on N lattice site, \n",
    "    Changes the dim and initializes the vac state\n",
    "    based on dim.\n",
    "    '''\n",
    "    N, k, dim = params['N'], params['k'], int(params['dim']) # N = number of sites, k = no. of identical bosonic particles\n",
    "    params['dim'] = int(comb(N+k-1, k)) # This is for k identical bosonic particles\n",
    "    params['vac'] = np.zeros(N)\n",
    "    pass\n",
    "\n",
    "dimension(params)\n",
    "print(params)"
   ]
  },
  {
   "cell_type": "code",
   "execution_count": 35,
   "id": "1175f9b0",
   "metadata": {
    "scrolled": false
   },
   "outputs": [],
   "source": [
    "def basis_states(params, **kwargs):\n",
    "    '''\n",
    "    For k-identical particles on N lattice site, \n",
    "    states_vec contain permutations of the particles\n",
    "    arranged on the lattice.\n",
    "    '''\n",
    "    N, vac, k, dim, states_vec, occupation_lst = params['N'], params['vac'], params['k'], params['dim'], [], []\n",
    "    occupationTuple_lst, Map_ParticleLoc_OccupNo = params['occupationTuple_lst'], params['Map_ParticleLoc_OccupNo']\n",
    "    # particle_location: Gives all combinations of particle's location.\n",
    "    # Gives list of tuples in which site each particle is located.\n",
    "    particle_location = list(combinations_with_replacement(range(N), k)) \n",
    "    for i, p_loc in enumerate(particle_location):\n",
    "        occupationTuple = [0 for _ in range(N)]\n",
    "        vac = np.zeros(N, dtype=int)\n",
    "        for site in p_loc:\n",
    "            occupationTuple[site]+=1\n",
    "            vac[site]+=1\n",
    "        states_vec += [vac]\n",
    "        params['occupationTuple_lst'] += [tuple(occupationTuple)]\n",
    "        Map_ParticleLoc_OccupNo[p_loc] = tuple(occupationTuple)\n",
    "    normfactors = {key: [] for key in occupationTuple_lst}\n",
    "    params['normfactors'] = normfactors\n",
    "    return states_vec, particle_location, occupationTuple_lst, normfactors, Map_ParticleLoc_OccupNo\n",
    "bstates = basis_states(params)        \n",
    "params['states_vec'] = bstates[0]\n",
    "params['particle_location'] = bstates[1]\n",
    "params['occupationTuple_lst'] = bstates[2]\n",
    "params['normfactors'] = bstates[3]\n",
    "params['Map_ParticleLoc_OccupNo'] = bstates[4]\n",
    "\n",
    "def Mapping_occupationToD_DimBasis(params, **kwargs):\n",
    "    occupationTuple_lst, dim, map_occupToD_Dim = params['occupationTuple_lst'], params['dim'], params['map_occupToD_Dim']\n",
    "    for i, occup_state in enumerate(occupationTuple_lst):\n",
    "        map_occupToD_Dim[occup_state] = np.eye(1,dim,i)[0]\n",
    "    zero_tupleComb = tuple(np.zeros(params['N'], dtype=int))\n",
    "    map_occupToD_Dim[zero_tupleComb] = np.zeros(dim)\n",
    "    return map_occupToD_Dim\n",
    "\n",
    "def Normalize_OccupNo(params, **kwargs):\n",
    "    normfactors = params['normfactors']\n",
    "    state, factor = kwargs['state'], kwargs['factor']\n",
    "    if 'annihOp' in kwargs:\n",
    "        nf = 1/np.sqrt(factor)\n",
    "    elif 'createOp' in kwargs:\n",
    "        nf = 1/np.sqrt(factor+1)\n",
    "    return nf\n",
    "\n",
    "def numberOp(params, *args, **kwargs): # a_{+, i} a_{-, i} operator\n",
    "    '''\n",
    "    It requires the state on which the numberOp act.\n",
    "    And, the index for which this op is created\n",
    "    Returns: normalization factors\n",
    "    '''\n",
    "    state_vec3_i, state, annihOp, createOp= kwargs['state_vec3_i'], kwargs['state'], kwargs['annihOp'], kwargs['createOp']\n",
    "    k = kwargs['k']\n",
    "    vec3, normfactors1 = tuple(state_vec3_i), copy.deepcopy(params['normfactors'])\n",
    "    if state[k]>0:\n",
    "        nf1 = Normalize_OccupNo(params, state = tuple(state_vec3_i), \n",
    "                                                    factor = state[k], annihOp=annihOp)\n",
    "        normfactors1[vec3].append(nf1)\n",
    "        nf2 = Normalize_OccupNo(params, state = tuple(state_vec3_i), \n",
    "                          factor = state[k]-1, createOp=createOp)\n",
    "        normfactors1[vec3].append(nf2)\n",
    "    elif state[k]==0:\n",
    "        normfactors1[vec3].append(0)\n",
    "    return normfactors1[vec3]\n",
    "\n",
    "\n",
    "def hoppingOp(params, *args, **kwargs):\n",
    "    '''\n",
    "    Requires the state on which the HoppingOp acts.\n",
    "    And, the index for which this op is created\n",
    "    Returns: Final state and normalization factors\n",
    "    '''\n",
    "    states_vec3_i, state, annihOp, createOp= kwargs['state_vec3_i'], kwargs['state'], kwargs['annihOp'], kwargs['createOp']\n",
    "    k, s = kwargs['k'], kwargs['s']\n",
    "    vec3, normfactors1 = tuple(states_vec3_i), copy.deepcopy(params['normfactors'])\n",
    "    if state[k]>0: # C(k+1)_{+}C_(k){-}: states_vec1\n",
    "        nf1 = Normalize_OccupNo(params, state = tuple(states_vec3_i), \n",
    "                                                    factor = state[k], annihOp=annihOp)\n",
    "        normfactors1[vec3].append(nf1)\n",
    "        state[k] -= 1 # annihilation\n",
    "        nf2 = Normalize_OccupNo(params, state = tuple(states_vec3_i), \n",
    "                          factor = state[s], createOp=createOp)\n",
    "        normfactors1[vec3].append(nf2)\n",
    "        state[s] += 1 # creation\n",
    "    elif state[k] == 0: #annihilation\n",
    "        state = np.zeros_like(state)\n",
    "        normfactors1[vec3].append(0)\n",
    "    return normfactors1[vec3], state"
   ]
  },
  {
   "cell_type": "code",
   "execution_count": 36,
   "id": "d52c42cf",
   "metadata": {},
   "outputs": [],
   "source": [
    "\n",
    "def HamiltonianElements(params, **kwargs):\n",
    "    '''\n",
    "    Returns: Hamiltonian Matrix for Bose-Hubbard Model in the basis of basis vectors,\n",
    "            and diagonal matrix of this hamiltonian\n",
    "    '''\n",
    "    N, states_vec, dim = params['N'], params['states_vec'], params['dim']\n",
    "    map_occupToD_Dim = Mapping_occupationToD_DimBasis(params)\n",
    "    normfactors1 = copy.deepcopy(params['normfactors'])\n",
    "    Hr = np.zeros((dim, dim))\n",
    "    states_vec1, states_vec2, states_vec3 = copy.deepcopy(states_vec), copy.deepcopy(states_vec), copy.deepcopy(states_vec)\n",
    "    createOp, annihOp = False, False\n",
    "    for i, state in enumerate(states_vec1): # Goes through each state\n",
    "        vec3 = tuple(states_vec3[i])\n",
    "        for k in range(N-1):\n",
    "            states_vec1, states_vec2 = copy.deepcopy(states_vec), copy.deepcopy(states_vec)\n",
    "            states_vec4 = copy.deepcopy(states_vec)\n",
    "            state = states_vec1[i]\n",
    "            ### For hopping term\n",
    "            \n",
    "            # C(k+1)_{+}C_(k){-}: states_vec1\n",
    "            normfactors1[vec3], state = hoppingOp(params, state_vec3_i = states_vec3[i], state = state, k = k, s = k+1,\n",
    "                     annihOp = annihOp, createOp = createOp)\n",
    "            state1 = map_occupToD_Dim[tuple(state)]\n",
    "            Hr[i] += -params['t']*(np.prod(normfactors1[vec3])*state1)\n",
    "            normfactors1[vec3] = []\n",
    "            # C(k)_{+}C_(k+1){-}: states_vec2\n",
    "            normfactors1[vec3], states_vec2[i] = hoppingOp(params, state_vec3_i = states_vec3[i], \n",
    "                                                           state = states_vec2[i], k = k+1, s = k, annihOp = annihOp, createOp = createOp) \n",
    "            state1 = map_occupToD_Dim[tuple(states_vec2[i])]\n",
    "            Hr[i] += -params['t']*(np.prod(normfactors1[vec3])*state1)\n",
    "            normfactors1[vec3] = []\n",
    "            ### For mu and U a_dagger a terms- \n",
    "            state = states_vec4[i]\n",
    "            normfactors1[vec3] = numberOp(params, state_vec3_i = states_vec3[i], state = state, k = k, annihOp = annihOp, createOp = createOp)\n",
    "            state1 = map_occupToD_Dim[tuple(state)]\n",
    "            Hr[i] += -params['mu']*(k)*(np.prod(normfactors1[vec3])*state1)\n",
    "            Hr[i] += -params['U']*(1/2)*(np.prod(normfactors1[vec3])*state1)\n",
    "            normfactors1[vec3] = []\n",
    "            if k == (N-2):\n",
    "                normfactors1[vec3] = numberOp(params, state_vec3_i = states_vec3[i], state = state, k = k+1, annihOp = annihOp, createOp = createOp)\n",
    "                state1 = map_occupToD_Dim[tuple(state)]\n",
    "                Hr[i] += -params['mu']*(k+1)*(np.prod(normfactors1[vec3])*state1)\n",
    "                Hr[i] += -params['U']*(1/2)*(np.prod(normfactors1[vec3])*state1)\n",
    "            normfactors1[vec3] = []\n",
    "            \n",
    "            ### For U term\n",
    "            states_vec4 = copy.deepcopy(states_vec)\n",
    "            state = states_vec4[i]\n",
    "            if state[k]>0:\n",
    "                normfactors1[vec3] = numberOp(params, state_vec3_i = states_vec3[i], state = state, k = k, \n",
    "                     annihOp = annihOp, createOp = createOp)\n",
    "                normfactors1[vec3] += numberOp(params, state_vec3_i = states_vec3[i], state = state, k = k, \n",
    "                     annihOp = annihOp, createOp = createOp)\n",
    "            elif state[k]==0:\n",
    "                normfactors1[vec3].append(0)\n",
    "            state1 = map_occupToD_Dim[tuple(state)]\n",
    "            Hr[i] += params['U']*(1/2)*(np.prod(normfactors1[vec3])*state1)\n",
    "            normfactors1[vec3] = []\n",
    "            if k == (N-2):\n",
    "                normfactors1[vec3] = numberOp(params, state_vec3_i = states_vec3[i], state = state, k = k+1, \n",
    "                     annihOp = annihOp, createOp = createOp)\n",
    "                normfactors1[vec3] += numberOp(params, state_vec3_i = states_vec3[i], state = state, k = k+1, \n",
    "                                         annihOp = annihOp, createOp = createOp)\n",
    "                state1 = map_occupToD_Dim[tuple(state)]\n",
    "                Hr[i] += params['U']*(1/2)*(np.prod(normfactors1[vec3])*state1)\n",
    "            normfactors1[vec3] = []\n",
    "      \n",
    "    eigval, eigvec = np.linalg.eig(Hr)\n",
    "    diagonal_Hr = np.diag(eigval)\n",
    "    return Hr, diagonal_Hr"
   ]
  },
  {
   "cell_type": "code",
   "execution_count": 37,
   "id": "51ecf14d",
   "metadata": {},
   "outputs": [
    {
     "name": "stdout",
     "output_type": "stream",
     "text": [
      "[[ -0.125       -0.70710678   0.         ...   0.           0.\n",
      "    0.        ]\n",
      " [ -0.70710678  -0.4         -1.         ...   0.           0.\n",
      "    0.        ]\n",
      " [  0.          -1.          -0.8        ...   0.           0.\n",
      "    0.        ]\n",
      " ...\n",
      " [  0.           0.           0.         ...  -3.725       -0.70710678\n",
      "    0.        ]\n",
      " [  0.           0.           0.         ...  -0.70710678 -14.8\n",
      "   -0.70710678]\n",
      " [  0.           0.           0.         ...   0.          -0.70710678\n",
      "   -3.925     ]]\n"
     ]
    }
   ],
   "source": [
    "Hr, _  = HamiltonianElements(params)\n",
    "print(Hr)"
   ]
  },
  {
   "cell_type": "code",
   "execution_count": null,
   "id": "f0a3ea44",
   "metadata": {},
   "outputs": [],
   "source": []
  },
  {
   "cell_type": "code",
   "execution_count": 27,
   "id": "1a49cbfb",
   "metadata": {},
   "outputs": [
    {
     "name": "stdout",
     "output_type": "stream",
     "text": [
      "{(2, 0): array([1., 0., 0.]), (1, 1): array([0., 1., 0.]), (0, 2): array([0., 0., 1.]), (0, 0): array([0., 0., 0.])}\n"
     ]
    }
   ],
   "source": [
    "print(Mapping_occupationToD_DimBasis(params))"
   ]
  },
  {
   "cell_type": "code",
   "execution_count": 38,
   "id": "94494b91",
   "metadata": {},
   "outputs": [],
   "source": [
    "mp = params['map_occupToD_Dim']\n",
    "Map_ParticleLoc_OccupNo = params['Map_ParticleLoc_OccupNo'] "
   ]
  },
  {
   "cell_type": "code",
   "execution_count": 39,
   "id": "15fec312",
   "metadata": {},
   "outputs": [],
   "source": [
    "psi0 = np.zeros(params['dim'])\n",
    "for key, val in Map_ParticleLoc_OccupNo.items():\n",
    "    if key[0] == key[1]:\n",
    "        psi0 =(1/np.sqrt(2))*mp[val] \n",
    "        # This initializes the state at (19, 19) where the two particles are located.\n",
    "        # psi0 +=(1/np.sqrt(2))*mp[val] takes a superposition of all such states\n",
    "        # where the particles are located at the same site.\n"
   ]
  },
  {
   "cell_type": "code",
   "execution_count": 40,
   "id": "d6172599",
   "metadata": {},
   "outputs": [
    {
     "data": {
      "text/plain": [
       "<Figure size 504x360 with 0 Axes>"
      ]
     },
     "metadata": {},
     "output_type": "display_data"
    },
    {
     "data": {
      "image/png": "[encoded data removed]",
      "text/plain": [
       "<Figure size 504x360 with 2 Axes>"
      ]
     },
     "metadata": {
      "needs_background": "light"
     },
     "output_type": "display_data"
    },
    {
     "data": {
      "text/plain": [
       "<Figure size 504x360 with 0 Axes>"
      ]
     },
     "metadata": {},
     "output_type": "display_data"
    },
    {
     "data": {
      "image/png": "[encoded data removed]",
      "text/plain": [
       "<Figure size 504x360 with 2 Axes>"
      ]
     },
     "metadata": {
      "needs_background": "light"
     },
     "output_type": "display_data"
    },
    {
     "data": {
      "text/plain": [
       "<Figure size 504x360 with 0 Axes>"
      ]
     },
     "metadata": {},
     "output_type": "display_data"
    },
    {
     "data": {
      "image/png": "[encoded data removed]",
      "text/plain": [
       "<Figure size 504x360 with 2 Axes>"
      ]
     },
     "metadata": {
      "needs_background": "light"
     },
     "output_type": "display_data"
    },
    {
     "data": {
      "text/plain": [
       "<Figure size 504x360 with 0 Axes>"
      ]
     },
     "metadata": {},
     "output_type": "display_data"
    },
    {
     "data": {
      "image/png": "[encoded data removed]",
      "text/plain": [
       "<Figure size 504x360 with 2 Axes>"
      ]
     },
     "metadata": {
      "needs_background": "light"
     },
     "output_type": "display_data"
    }
   ],
   "source": [
    "Map_ParticleLoc_OccupNo = params['Map_ParticleLoc_OccupNo'] \n",
    "\n",
    "for mu in [0.4, 1.4, 2.4, 5.1]:\n",
    "    params['mu'] = mu\n",
    "    Hr, diagonal_Hr = HamiltonianElements(params)\n",
    "\n",
    "    params['tau'] = 1\n",
    "    params['T'] = 10\n",
    "    t_list, psi_t = np.arange(0, params['T'], params['tau']), []\n",
    "    for i, t in enumerate(t_list):\n",
    "        U = expm(-1j*Hr*t)\n",
    "        psi_t +=  [U@psi0]\n",
    "\n",
    "    Map_ParticleLoc_OccupNo = params['Map_ParticleLoc_OccupNo'] \n",
    "    prob, x, y = [], [], []\n",
    "    map_occupToD_Dim = Mapping_occupationToD_DimBasis(params)\n",
    "    for psi in psi_t:\n",
    "        for i, p in enumerate(psi):\n",
    "            prob+=[p]\n",
    "            f = np.zeros(params['dim'])\n",
    "            f[i] = 1.0\n",
    "            for key, val in map_occupToD_Dim.items():\n",
    "                if np.array_equal(f, val) == True:\n",
    "                    for site, v in Map_ParticleLoc_OccupNo.items():\n",
    "                        if v == key:\n",
    "                            x += [site[0]]\n",
    "                            y += [site[1]]\n",
    "    mu = params['mu']\n",
    "    plt.figure(figsize=[7, 5])\n",
    "    p = plt.get_cmap('Blues')\n",
    "    create_heatmap(x, y, prob)\n"
   ]
  },
  {
   "cell_type": "code",
   "execution_count": null,
   "id": "1e5d8205",
   "metadata": {},
   "outputs": [],
   "source": []
  },
  {
   "cell_type": "code",
   "execution_count": null,
   "id": "91162d9c",
   "metadata": {},
   "outputs": [],
   "source": [
    "psi0 = np.zeros(params['dim'], dtype=complex)\n",
    "# print(repr(psi0))"
   ]
  },
  {
   "cell_type": "code",
   "execution_count": null,
   "id": "1522c97f",
   "metadata": {},
   "outputs": [],
   "source": [
    "ff, total_comb= 0, 0\n",
    "for key, val in Map_ParticleLoc_OccupNo.items():\n",
    "    if key[0] == key[1]:\n",
    "        psi0 +=(1/np.sqrt(2))*np.array([float(i) for i in val])\n",
    "        total_comb+=1\n",
    "        print(f'combination number={ff}')\n",
    "        print(val,'\\n')\n",
    "    ff+=1\n",
    "print(total_comb)\n",
    "print(psi0)"
   ]
  },
  {
   "cell_type": "code",
   "execution_count": null,
   "id": "ed596bfb",
   "metadata": {
    "scrolled": false
   },
   "outputs": [],
   "source": [
    "print(Map_ParticleLoc_OccupNo)"
   ]
  },
  {
   "cell_type": "code",
   "execution_count": null,
   "id": "f89fef06",
   "metadata": {},
   "outputs": [],
   "source": [
    "np.zeros(3)"
   ]
  },
  {
   "cell_type": "code",
   "execution_count": null,
   "id": "26a81c28",
   "metadata": {},
   "outputs": [],
   "source": [
    "np.version.version\n"
   ]
  },
  {
   "cell_type": "code",
   "execution_count": null,
   "id": "3cd024e1",
   "metadata": {},
   "outputs": [],
   "source": [
    "lst = [np.sqrt(2), 3,  1]\n",
    "# print(reduce(*, lst, 1))\n",
    "print(np.prod(lst))"
   ]
  },
  {
   "cell_type": "code",
   "execution_count": null,
   "id": "0f65bb95",
   "metadata": {},
   "outputs": [],
   "source": []
  },
  {
   "cell_type": "code",
   "execution_count": null,
   "id": "e9287ce5",
   "metadata": {},
   "outputs": [],
   "source": [
    "states_vec = params['states_vec']\n",
    "states_vec1, states_vec2 = copy.deepcopy(states_vec), copy.deepcopy(states_vec)\n",
    "states_vec1[0][0], states_vec1[0][1] = 1, 1\n",
    "print(f'states_vec1={states_vec1}')\n",
    "print(f'states_vec2={states_vec2}')"
   ]
  },
  {
   "cell_type": "code",
   "execution_count": null,
   "id": "d0eddd83",
   "metadata": {},
   "outputs": [],
   "source": [
    "print(2+1==2+1)"
   ]
  },
  {
   "cell_type": "code",
   "execution_count": null,
   "id": "9da0466a",
   "metadata": {},
   "outputs": [],
   "source": []
  },
  {
   "cell_type": "code",
   "execution_count": null,
   "id": "8c0d22e1",
   "metadata": {},
   "outputs": [],
   "source": [
    "import numpy as np\n",
    "from itertools import combinations_with_replacement\n",
    "\n",
    "N, k=2, 2\n",
    "combinations = list(combinations_with_replacement(range(N), k))\n",
    "print(combinations)"
   ]
  }
 ],
 "metadata": {
  "kernelspec": {
   "display_name": "Python 3 (ipykernel)",
   "language": "python",
   "name": "python3"
  },
  "language_info": {
   "codemirror_mode": {
    "name": "ipython",
    "version": 3
   },
   "file_extension": ".py",
   "mimetype": "text/x-python",
   "name": "python",
   "nbconvert_exporter": "python",
   "pygments_lexer": "ipython3",
   "version": "3.9.12"
  }
 },
 "nbformat": 4,
 "nbformat_minor": 5
}
