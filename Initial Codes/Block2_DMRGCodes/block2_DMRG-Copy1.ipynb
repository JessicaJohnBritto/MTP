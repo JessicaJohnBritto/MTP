{
 "cells": [
  {
   "cell_type": "code",
   "execution_count": 2,
   "id": "8912b691-0803-4d9b-8373-74e06bf15afc",
   "metadata": {},
   "outputs": [],
   "source": [
    "import numpy as np\n",
    "import matplotlib.pyplot as plt\n",
    "from pyblock2.driver.core import DMRGDriver, SymmetryTypes, MPOAlgorithmTypes, Block2Wrapper"
   ]
  },
  {
   "cell_type": "markdown",
   "id": "a796bf69-57d9-47f1-b77f-d7572c4baf32",
   "metadata": {},
   "source": [
    "# My Code for Bose Hubbard Model"
   ]
  },
  {
   "cell_type": "code",
   "execution_count": 9,
   "id": "475f6474-9f59-4812-8865-6bf81d765bad",
   "metadata": {},
   "outputs": [],
   "source": [
    "### Using CustomHamiltonian Example\n",
    "\n",
    "L = 2\n",
    "U = 2\n",
    "N_ELEC = 2\n",
    "TWO_SZ = 0\n",
    "n_max = 3\n",
    "\n",
    "driver = DMRGDriver(scratch=\"./tmp\", symm_type=SymmetryTypes.SAny, n_threads=4)\n",
    "\n",
    "driver.set_symmetry_groups(\"U1\")\n",
    "Q = driver.bw.SX"
   ]
  },
  {
   "cell_type": "code",
   "execution_count": 10,
   "id": "1f264326-630e-4146-a871-36048bff5b1b",
   "metadata": {},
   "outputs": [
    {
     "ename": "AssertionError",
     "evalue": "",
     "output_type": "error",
     "traceback": [
      "\u001b[1;31m---------------------------------------------------------------------------\u001b[0m",
      "\u001b[1;31mAssertionError\u001b[0m                            Traceback (most recent call last)",
      "Cell \u001b[1;32mIn[10], line 5\u001b[0m\n\u001b[0;32m      2\u001b[0m site_basis, site_ops \u001b[38;5;241m=\u001b[39m [], []\n\u001b[0;32m      4\u001b[0m \u001b[38;5;28;01mfor\u001b[39;00m k \u001b[38;5;129;01min\u001b[39;00m \u001b[38;5;28mrange\u001b[39m(L):\n\u001b[1;32m----> 5\u001b[0m     basis \u001b[38;5;241m=\u001b[39m [(Q(\u001b[38;5;241m2\u001b[39m, \u001b[38;5;241m0\u001b[39m), \u001b[38;5;241m1\u001b[39m), (Q(\u001b[38;5;241m1\u001b[39m, \u001b[38;5;241m1\u001b[39m), \u001b[38;5;241m1\u001b[39m), (Q(\u001b[38;5;241m2\u001b[39m, \u001b[38;5;241m0\u001b[39m), \u001b[38;5;241m1\u001b[39m)] \u001b[38;5;66;03m# [0ab2]\u001b[39;00m\n\u001b[0;32m      6\u001b[0m     ops \u001b[38;5;241m=\u001b[39m {\n\u001b[0;32m      7\u001b[0m         \u001b[38;5;124m\"\u001b[39m\u001b[38;5;124m\"\u001b[39m: np\u001b[38;5;241m.\u001b[39marray([[\u001b[38;5;241m1\u001b[39m, \u001b[38;5;241m0\u001b[39m, \u001b[38;5;241m0\u001b[39m, \u001b[38;5;241m0\u001b[39m], [\u001b[38;5;241m0\u001b[39m, \u001b[38;5;241m1\u001b[39m, \u001b[38;5;241m0\u001b[39m, \u001b[38;5;241m0\u001b[39m], [\u001b[38;5;241m0\u001b[39m, \u001b[38;5;241m0\u001b[39m, \u001b[38;5;241m1\u001b[39m, \u001b[38;5;241m0\u001b[39m], [\u001b[38;5;241m0\u001b[39m, \u001b[38;5;241m0\u001b[39m, \u001b[38;5;241m0\u001b[39m, \u001b[38;5;241m1\u001b[39m]]),   \u001b[38;5;66;03m# identity\u001b[39;00m\n\u001b[0;32m      8\u001b[0m         \u001b[38;5;124m\"\u001b[39m\u001b[38;5;124mc\u001b[39m\u001b[38;5;124m\"\u001b[39m: np\u001b[38;5;241m.\u001b[39marray([[\u001b[38;5;241m0\u001b[39m, \u001b[38;5;241m0\u001b[39m, \u001b[38;5;241m0\u001b[39m, \u001b[38;5;241m0\u001b[39m], [\u001b[38;5;241m1\u001b[39m, \u001b[38;5;241m0\u001b[39m, \u001b[38;5;241m0\u001b[39m, \u001b[38;5;241m0\u001b[39m], [\u001b[38;5;241m0\u001b[39m, np\u001b[38;5;241m.\u001b[39msqrt(\u001b[38;5;241m2\u001b[39m), \u001b[38;5;241m0\u001b[39m, \u001b[38;5;241m0\u001b[39m], [\u001b[38;5;241m0\u001b[39m, \u001b[38;5;241m0\u001b[39m, np\u001b[38;5;241m.\u001b[39msqrt(\u001b[38;5;241m3\u001b[39m), \u001b[38;5;241m0\u001b[39m]]),  \u001b[38;5;66;03m# alpha+\u001b[39;00m\n\u001b[0;32m      9\u001b[0m         \u001b[38;5;124m\"\u001b[39m\u001b[38;5;124md\u001b[39m\u001b[38;5;124m\"\u001b[39m: np\u001b[38;5;241m.\u001b[39marray([[\u001b[38;5;241m0\u001b[39m, \u001b[38;5;241m1\u001b[39m, \u001b[38;5;241m0\u001b[39m, \u001b[38;5;241m0\u001b[39m], [\u001b[38;5;241m0\u001b[39m, \u001b[38;5;241m0\u001b[39m, np\u001b[38;5;241m.\u001b[39msqrt(\u001b[38;5;241m2\u001b[39m), \u001b[38;5;241m0\u001b[39m], [\u001b[38;5;241m0\u001b[39m, \u001b[38;5;241m0\u001b[39m, \u001b[38;5;241m0\u001b[39m, np\u001b[38;5;241m.\u001b[39msqrt(\u001b[38;5;241m3\u001b[39m)], [\u001b[38;5;241m0\u001b[39m, \u001b[38;5;241m0\u001b[39m, \u001b[38;5;241m0\u001b[39m, \u001b[38;5;241m0\u001b[39m]]),  \u001b[38;5;66;03m# alpha\u001b[39;00m\n\u001b[0;32m     10\u001b[0m     }\n\u001b[0;32m     11\u001b[0m     site_basis\u001b[38;5;241m.\u001b[39mappend(basis)\n",
      "File \u001b[1;32mD:\\AnacondaFinal\\anacondaInstall\\envs\\AJJ\\Lib\\site-packages\\pyblock2\\driver\\core.py:525\u001b[0m, in \u001b[0;36mBlock2Wrapper.set_symmetry_groups.<locals>.init_sany\u001b[1;34m(*qargs)\u001b[0m\n\u001b[0;32m    523\u001b[0m \u001b[38;5;28;01mif\u001b[39;00m \u001b[38;5;28mlen\u001b[39m(qargs) \u001b[38;5;241m==\u001b[39m \u001b[38;5;241m0\u001b[39m:\n\u001b[0;32m    524\u001b[0m     qargs \u001b[38;5;241m=\u001b[39m [\u001b[38;5;241m0\u001b[39m] \u001b[38;5;241m*\u001b[39m \u001b[38;5;28mlen\u001b[39m(args)\n\u001b[1;32m--> 525\u001b[0m \u001b[38;5;28;01massert\u001b[39;00m \u001b[38;5;28mlen\u001b[39m(qargs) \u001b[38;5;241m==\u001b[39m \u001b[38;5;28mlen\u001b[39m(args)\n\u001b[0;32m    526\u001b[0m \u001b[38;5;28;01mfor\u001b[39;00m ix, (ta, qa) \u001b[38;5;129;01min\u001b[39;00m \u001b[38;5;28menumerate\u001b[39m(\u001b[38;5;28mzip\u001b[39m(args, qargs)):\n\u001b[0;32m    527\u001b[0m     \u001b[38;5;28;01mif\u001b[39;00m ta\u001b[38;5;241m.\u001b[39mstartswith(\u001b[38;5;124m\"\u001b[39m\u001b[38;5;124mZ\u001b[39m\u001b[38;5;124m\"\u001b[39m) \u001b[38;5;129;01mand\u001b[39;00m ta\u001b[38;5;241m.\u001b[39mendswith(\u001b[38;5;124m\"\u001b[39m\u001b[38;5;124mFermi\u001b[39m\u001b[38;5;124m\"\u001b[39m):\n",
      "\u001b[1;31mAssertionError\u001b[0m: "
     ]
    }
   ],
   "source": [
    "# [Part A] Set states and matrix representation of operators in local Hilbert space\n",
    "site_basis, site_ops = [], []\n",
    "\n",
    "for k in range(L):\n",
    "    basis = [(Q(2, 0), 1), (Q(1, 1), 1), (Q(2, 0), 1)] # [0ab2]\n",
    "    ops = {\n",
    "        \"\": np.array([[1, 0, 0, 0], [0, 1, 0, 0], [0, 0, 1, 0], [0, 0, 0, 1]]),   # identity\n",
    "        \"c\": np.array([[0, 0, 0, 0], [1, 0, 0, 0], [0, np.sqrt(2), 0, 0], [0, 0, np.sqrt(3), 0]]),  # alpha+\n",
    "        \"d\": np.array([[0, 1, 0, 0], [0, 0, np.sqrt(2), 0], [0, 0, 0, np.sqrt(3)], [0, 0, 0, 0]]),  # alpha\n",
    "    }\n",
    "    site_basis.append(basis)\n",
    "    site_ops.append(ops)"
   ]
  },
  {
   "cell_type": "code",
   "execution_count": 11,
   "id": "04fb0e05-f0bf-484b-88e1-28352aba1cf0",
   "metadata": {},
   "outputs": [
    {
     "ename": "AssertionError",
     "evalue": "",
     "output_type": "error",
     "traceback": [
      "\u001b[1;31m---------------------------------------------------------------------------\u001b[0m",
      "\u001b[1;31mAssertionError\u001b[0m                            Traceback (most recent call last)",
      "Cell \u001b[1;32mIn[11], line 2\u001b[0m\n\u001b[0;32m      1\u001b[0m \u001b[38;5;66;03m# [Part B] Set Hamiltonian terms\u001b[39;00m\n\u001b[1;32m----> 2\u001b[0m driver\u001b[38;5;241m.\u001b[39minitialize_system(n_sites\u001b[38;5;241m=\u001b[39mL, vacuum\u001b[38;5;241m=\u001b[39mQ(\u001b[38;5;241m0\u001b[39m, \u001b[38;5;241m0\u001b[39m), target\u001b[38;5;241m=\u001b[39mQ(n_max, n_max), hamil_init\u001b[38;5;241m=\u001b[39m\u001b[38;5;28;01mFalse\u001b[39;00m)\n\u001b[0;32m      3\u001b[0m driver\u001b[38;5;241m.\u001b[39mghamil \u001b[38;5;241m=\u001b[39m driver\u001b[38;5;241m.\u001b[39mget_custom_hamiltonian(site_basis, site_ops)\n\u001b[0;32m      4\u001b[0m b \u001b[38;5;241m=\u001b[39m driver\u001b[38;5;241m.\u001b[39mexpr_builder()\n",
      "File \u001b[1;32mD:\\AnacondaFinal\\anacondaInstall\\envs\\AJJ\\Lib\\site-packages\\pyblock2\\driver\\core.py:525\u001b[0m, in \u001b[0;36mBlock2Wrapper.set_symmetry_groups.<locals>.init_sany\u001b[1;34m(*qargs)\u001b[0m\n\u001b[0;32m    523\u001b[0m \u001b[38;5;28;01mif\u001b[39;00m \u001b[38;5;28mlen\u001b[39m(qargs) \u001b[38;5;241m==\u001b[39m \u001b[38;5;241m0\u001b[39m:\n\u001b[0;32m    524\u001b[0m     qargs \u001b[38;5;241m=\u001b[39m [\u001b[38;5;241m0\u001b[39m] \u001b[38;5;241m*\u001b[39m \u001b[38;5;28mlen\u001b[39m(args)\n\u001b[1;32m--> 525\u001b[0m \u001b[38;5;28;01massert\u001b[39;00m \u001b[38;5;28mlen\u001b[39m(qargs) \u001b[38;5;241m==\u001b[39m \u001b[38;5;28mlen\u001b[39m(args)\n\u001b[0;32m    526\u001b[0m \u001b[38;5;28;01mfor\u001b[39;00m ix, (ta, qa) \u001b[38;5;129;01min\u001b[39;00m \u001b[38;5;28menumerate\u001b[39m(\u001b[38;5;28mzip\u001b[39m(args, qargs)):\n\u001b[0;32m    527\u001b[0m     \u001b[38;5;28;01mif\u001b[39;00m ta\u001b[38;5;241m.\u001b[39mstartswith(\u001b[38;5;124m\"\u001b[39m\u001b[38;5;124mZ\u001b[39m\u001b[38;5;124m\"\u001b[39m) \u001b[38;5;129;01mand\u001b[39;00m ta\u001b[38;5;241m.\u001b[39mendswith(\u001b[38;5;124m\"\u001b[39m\u001b[38;5;124mFermi\u001b[39m\u001b[38;5;124m\"\u001b[39m):\n",
      "\u001b[1;31mAssertionError\u001b[0m: "
     ]
    }
   ],
   "source": [
    "# [Part B] Set Hamiltonian terms\n",
    "driver.initialize_system(n_sites=L, vacuum=Q(0, 0), target=Q(n_max, n_max), hamil_init=False)\n",
    "driver.ghamil = driver.get_custom_hamiltonian(site_basis, site_ops)\n",
    "b = driver.expr_builder()\n",
    "\n",
    "b.add_term(\"cd\", np.array([[i, i + 1, i + 1, i] for i in range(L - 1)]).ravel(), -1)\n",
    "b.add_term(\"cd\", np.array([i for i in range(L) for _ in range(4)]), U)"
   ]
  },
  {
   "cell_type": "code",
   "execution_count": 12,
   "id": "daf1f599-8717-4d52-bc3c-b5967c0b210d",
   "metadata": {},
   "outputs": [
    {
     "ename": "NameError",
     "evalue": "name 'b' is not defined",
     "output_type": "error",
     "traceback": [
      "\u001b[1;31m---------------------------------------------------------------------------\u001b[0m",
      "\u001b[1;31mNameError\u001b[0m                                 Traceback (most recent call last)",
      "Cell \u001b[1;32mIn[12], line 2\u001b[0m\n\u001b[0;32m      1\u001b[0m \u001b[38;5;66;03m# [Part C] Perform DMRG\u001b[39;00m\n\u001b[1;32m----> 2\u001b[0m mpo \u001b[38;5;241m=\u001b[39m driver\u001b[38;5;241m.\u001b[39mget_mpo(b\u001b[38;5;241m.\u001b[39mfinalize(adjust_order\u001b[38;5;241m=\u001b[39m\u001b[38;5;28;01mTrue\u001b[39;00m, fermionic_ops\u001b[38;5;241m=\u001b[39m\u001b[38;5;124m\"\u001b[39m\u001b[38;5;124mcd\u001b[39m\u001b[38;5;124m\"\u001b[39m), algo_type\u001b[38;5;241m=\u001b[39mMPOAlgorithmTypes\u001b[38;5;241m.\u001b[39mFastBipartite)\n\u001b[0;32m      3\u001b[0m mps \u001b[38;5;241m=\u001b[39m driver\u001b[38;5;241m.\u001b[39mget_random_mps(tag\u001b[38;5;241m=\u001b[39m\u001b[38;5;124m\"\u001b[39m\u001b[38;5;124mKET\u001b[39m\u001b[38;5;124m\"\u001b[39m, bond_dim\u001b[38;5;241m=\u001b[39m\u001b[38;5;241m250\u001b[39m, nroots\u001b[38;5;241m=\u001b[39m\u001b[38;5;241m1\u001b[39m)\n\u001b[0;32m      4\u001b[0m energy \u001b[38;5;241m=\u001b[39m driver\u001b[38;5;241m.\u001b[39mdmrg(mpo, mps, n_sweeps\u001b[38;5;241m=\u001b[39m\u001b[38;5;241m10\u001b[39m, bond_dims\u001b[38;5;241m=\u001b[39m[\u001b[38;5;241m250\u001b[39m] \u001b[38;5;241m*\u001b[39m \u001b[38;5;241m4\u001b[39m \u001b[38;5;241m+\u001b[39m [\u001b[38;5;241m500\u001b[39m] \u001b[38;5;241m*\u001b[39m \u001b[38;5;241m4\u001b[39m,\n\u001b[0;32m      5\u001b[0m     noises\u001b[38;5;241m=\u001b[39m[\u001b[38;5;241m1e-4\u001b[39m] \u001b[38;5;241m*\u001b[39m \u001b[38;5;241m4\u001b[39m \u001b[38;5;241m+\u001b[39m [\u001b[38;5;241m1e-5\u001b[39m] \u001b[38;5;241m*\u001b[39m \u001b[38;5;241m4\u001b[39m \u001b[38;5;241m+\u001b[39m [\u001b[38;5;241m0\u001b[39m], thrds\u001b[38;5;241m=\u001b[39m[\u001b[38;5;241m1e-10\u001b[39m] \u001b[38;5;241m*\u001b[39m \u001b[38;5;241m8\u001b[39m, dav_max_iter\u001b[38;5;241m=\u001b[39m\u001b[38;5;241m30\u001b[39m, iprint\u001b[38;5;241m=\u001b[39m\u001b[38;5;241m1\u001b[39m)\n",
      "\u001b[1;31mNameError\u001b[0m: name 'b' is not defined"
     ]
    }
   ],
   "source": [
    "# [Part C] Perform DMRG\n",
    "mpo = driver.get_mpo(b.finalize(adjust_order=True, fermionic_ops=\"cd\"), algo_type=MPOAlgorithmTypes.FastBipartite)\n",
    "mps = driver.get_random_mps(tag=\"KET\", bond_dim=250, nroots=1)\n",
    "energy = driver.dmrg(mpo, mps, n_sweeps=10, bond_dims=[250] * 4 + [500] * 4,\n",
    "    noises=[1e-4] * 4 + [1e-5] * 4 + [0], thrds=[1e-10] * 8, dav_max_iter=30, iprint=1)\n",
    "# print(\"DMRG energy = %20.15f\" % energy)"
   ]
  },
  {
   "cell_type": "code",
   "execution_count": null,
   "id": "ee707686-925b-4865-b6c2-ed00efd9d222",
   "metadata": {},
   "outputs": [],
   "source": []
  }
 ],
 "metadata": {
  "kernelspec": {
   "display_name": "Python 3 (ipykernel)",
   "language": "python",
   "name": "python3"
  },
  "language_info": {
   "codemirror_mode": {
    "name": "ipython",
    "version": 3
   },
   "file_extension": ".py",
   "mimetype": "text/x-python",
   "name": "python",
   "nbconvert_exporter": "python",
   "pygments_lexer": "ipython3",
   "version": "3.12.4"
  }
 },
 "nbformat": 4,
 "nbformat_minor": 5
}
