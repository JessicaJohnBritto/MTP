{
 "cells": [
  {
   "cell_type": "code",
   "execution_count": 12,
   "id": "8912b691-0803-4d9b-8373-74e06bf15afc",
   "metadata": {},
   "outputs": [],
   "source": [
    "import numpy as np\n",
    "import matplotlib.pyplot as plt\n",
    "from pyblock2.driver.core import DMRGDriver, SymmetryTypes, MPOAlgorithmTypes, Block2Wrapper"
   ]
  },
  {
   "cell_type": "markdown",
   "id": "fb3f3419-c96e-4d5a-bca2-d1a656b27ce6",
   "metadata": {},
   "source": [
    "# Tutorial Code for SZ mode"
   ]
  },
  {
   "cell_type": "code",
   "execution_count": 26,
   "id": "e0ead91f-268a-4894-945e-25621148fb27",
   "metadata": {},
   "outputs": [],
   "source": [
    "## Initial Script\n",
    "L = 8\n",
    "N = 8\n",
    "TWOSZ = 0\n",
    "\n",
    "driver = DMRGDriver(scratch=\"./tmp\", symm_type=SymmetryTypes.SZ, n_threads=4)\n",
    "driver.initialize_system(n_sites=L, n_elec=N, spin=TWOSZ)"
   ]
  },
  {
   "cell_type": "code",
   "execution_count": 27,
   "id": "a12170bd-e59a-41fc-bacf-2b75cf0d5a23",
   "metadata": {},
   "outputs": [
    {
     "name": "stdout",
     "output_type": "stream",
     "text": [
      "\n",
      "Build MPO | Nsites =     8 | Nterms =         36 | Algorithm = FastBIP | Cutoff = 1.00e-14\n",
      " Site =     0 /     8 .. Mmpo =     6 DW = 0.00e+00 NNZ =        6 SPT = 0.0000 Tmvc = 0.000 T = 0.002\n",
      " Site =     1 /     8 .. Mmpo =     6 DW = 0.00e+00 NNZ =       11 SPT = 0.6944 Tmvc = 0.000 T = 0.001\n",
      " Site =     2 /     8 .. Mmpo =     6 DW = 0.00e+00 NNZ =       11 SPT = 0.6944 Tmvc = 0.000 T = 0.002\n",
      " Site =     3 /     8 .. Mmpo =     6 DW = 0.00e+00 NNZ =       11 SPT = 0.6944 Tmvc = 0.000 T = 0.001\n",
      " Site =     4 /     8 .. Mmpo =     6 DW = 0.00e+00 NNZ =       11 SPT = 0.6944 Tmvc = 0.000 T = 0.001\n",
      " Site =     5 /     8 .. Mmpo =     6 DW = 0.00e+00 NNZ =       11 SPT = 0.6944 Tmvc = 0.000 T = 0.002\n",
      " Site =     6 /     8 .. Mmpo =     6 DW = 0.00e+00 NNZ =       11 SPT = 0.6944 Tmvc = 0.000 T = 0.002\n",
      " Site =     7 /     8 .. Mmpo =     1 DW = 0.00e+00 NNZ =        6 SPT = 0.0000 Tmvc = 0.000 T = 0.002\n",
      "Ttotal =      0.014 Tmvc-total = 0.000 MPO bond dimension =     6 MaxDW = 0.00e+00\n",
      "NNZ =           78 SIZE =          228 SPT = 0.6579\n",
      "\n",
      "Rank =     0 Ttotal =      0.034 MPO method = FastBipartite bond dimension =       6 NNZ =           78 SIZE =          228 SPT = 0.6579\n"
     ]
    }
   ],
   "source": [
    "## Build Hamiltonian\n",
    "t = 1\n",
    "U = 2\n",
    "\n",
    "b = driver.expr_builder()\n",
    "\n",
    "# hopping term\n",
    "b.add_term(\"cd\", np.array([[[i, i + 1], [i + 1, i]] for i in range(L - 1)]).flatten(), -t)\n",
    "b.add_term(\"CD\", np.array([[[i, i + 1], [i + 1, i]] for i in range(L - 1)]).flatten(), -t)\n",
    "\n",
    "# onsite term\n",
    "b.add_term(\"cdCD\", np.array([[i, ] * 4 for i in range(L)]).flatten(), U)\n",
    "\n",
    "mpo = driver.get_mpo(b.finalize(), iprint=2)"
   ]
  },
  {
   "cell_type": "code",
   "execution_count": 28,
   "id": "1a52f40c-7452-4216-b0e7-e3adc9aa3796",
   "metadata": {},
   "outputs": [
    {
     "name": "stdout",
     "output_type": "stream",
     "text": [
      "\n",
      "Sweep =    0 | Direction =  forward | Bond dimension =  250 | Noise =  1.00e-04 | Dav threshold =  1.00e-10\n",
      "Time elapsed =      0.297 | E =     -49.8050731574 | DW = 3.68512e-16\n",
      "\n",
      "Sweep =    1 | Direction = backward | Bond dimension =  250 | Noise =  1.00e-04 | Dav threshold =  1.00e-10\n",
      "Time elapsed =      0.453 | E =     -49.8050731574 | DE = 1.07e-13 | DW = 2.84294e-16\n",
      "\n",
      "Sweep =    2 | Direction =  forward | Bond dimension =  250 | Noise =  1.00e-04 | Dav threshold =  1.00e-10\n",
      "Time elapsed =      0.577 | E =     -49.8050731574 | DE = -4.26e-14 | DW = 3.82309e-16\n",
      "\n",
      "Sweep =    3 | Direction = backward | Bond dimension =  250 | Noise =  1.00e-04 | Dav threshold =  1.00e-10\n",
      "Time elapsed =      0.703 | E =     -49.8050731574 | DE = 2.84e-14 | DW = 2.93072e-16\n",
      "\n",
      "Sweep =    4 | Direction =  forward | Bond dimension =  500 | Noise =  1.00e-05 | Dav threshold =  1.00e-10\n",
      "Time elapsed =      1.058 | E =     -49.8050731574 | DE = -1.42e-14 | DW = 1.22851e-26\n",
      "\n",
      "Sweep =    5 | Direction = backward | Bond dimension =  500 | Noise =  1.00e-05 | Dav threshold =  1.00e-10\n",
      "Time elapsed =      1.512 | E =     -49.8050731574 | DE = -7.11e-15 | DW = 1.04505e-26\n",
      "\n",
      "Sweep =    6 | Direction =  forward | Bond dimension =  500 | Noise =  1.00e-05 | Dav threshold =  1.00e-10\n",
      "Time elapsed =      1.859 | E =     -49.8050731574 | DE = -2.13e-14 | DW = 1.93880e-26\n",
      "\n",
      "Sweep =    7 | Direction = backward | Bond dimension =  500 | Noise =  1.00e-05 | Dav threshold =  1.00e-10\n",
      "Time elapsed =      2.313 | E =     -49.8050731574 | DE = 2.84e-14 | DW = 1.06257e-26\n",
      "\n",
      "Sweep =    8 | Direction =  forward | Bond dimension =  500 | Noise =  0.00e+00 | Dav threshold =  1.00e-09\n",
      "Time elapsed =      2.584 | E =     -49.8050731574 | DE = 0.00e+00 | DW = 2.35338e-50\n",
      "\n"
     ]
    }
   ],
   "source": [
    "## Run DMRG\n",
    "def run_dmrg(driver, mpo):\n",
    "    ket = driver.get_random_mps(tag=\"KET\", bond_dim=250, nroots=1)\n",
    "    bond_dims = [250] * 4 + [500] * 4\n",
    "    noises = [1e-4] * 4 + [1e-5] * 4 + [0]\n",
    "    thrds = [1e-10] * 8\n",
    "    return driver.dmrg(mpo, ket, n_sweeps=20, bond_dims=bond_dims, noises=noises,\n",
    "        thrds=thrds, cutoff=0, iprint=1)\n",
    "\n",
    "energies = run_dmrg(driver, mpo)\n",
    "# print('DMRG energy = %20.15f' % energies)"
   ]
  },
  {
   "cell_type": "code",
   "execution_count": 8,
   "id": "55c6248f-492e-4ec2-ad2f-293219538547",
   "metadata": {},
   "outputs": [],
   "source": [
    "L = 8\n",
    "U = 2\n",
    "N_ELEC = 8\n",
    "TWO_SZ = 0\n",
    "\n",
    "driver = DMRGDriver(scratch=\"./tmp\", symm_type=SymmetryTypes.SAny, n_threads=4)\n",
    "\n",
    "# quantum number wrapper (U1 / n_elec, U1 / 2*Sz)\n",
    "driver.set_symmetry_groups(\"U1Fermi\", \"U1Fermi\")\n",
    "Q = driver.bw.SX\n",
    "\n",
    "# [Part A] Set states and matrix representation of operators in local Hilbert space\n",
    "site_basis, site_ops = [], []\n",
    "\n",
    "for k in range(L):\n",
    "    basis = [(Q(0, 0), 1), (Q(1, 1), 1), (Q(1, -1), 1), (Q(2, 0), 1)] # [0ab2]\n",
    "    ops = {\n",
    "        \"\": np.array([[1, 0, 0, 0], [0, 1, 0, 0], [0, 0, 1, 0], [0, 0, 0, 1]]),   # identity\n",
    "        \"c\": np.array([[0, 0, 0, 0], [1, 0, 0, 0], [0, 0, 0, 0], [0, 0, 1, 0]]),  # alpha+\n",
    "        \"d\": np.array([[0, 1, 0, 0], [0, 0, 0, 0], [0, 0, 0, 1], [0, 0, 0, 0]]),  # alpha\n",
    "        \"C\": np.array([[0, 0, 0, 0], [0, 0, 0, 0], [1, 0, 0, 0], [0, -1, 0, 0]]), # beta+\n",
    "        \"D\": np.array([[0, 0, 1, 0], [0, 0, 0, -1], [0, 0, 0, 0], [0, 0, 0, 0]]), # beta\n",
    "    }\n",
    "    site_basis.append(basis)\n",
    "    site_ops.append(ops)"
   ]
  },
  {
   "cell_type": "code",
   "execution_count": 9,
   "id": "44785dbf-d7a5-49be-bf07-a4616fc99fd9",
   "metadata": {},
   "outputs": [
    {
     "name": "stdout",
     "output_type": "stream",
     "text": [
      "[[(< U1F=0 U1F=0 >, 1), (< U1F=1 U1F=1 >, 1), (< U1F=1 U1F=-1 >, 1), (< U1F=2 U1F=0 >, 1)], [(< U1F=0 U1F=0 >, 1), (< U1F=1 U1F=1 >, 1), (< U1F=1 U1F=-1 >, 1), (< U1F=2 U1F=0 >, 1)], [(< U1F=0 U1F=0 >, 1), (< U1F=1 U1F=1 >, 1), (< U1F=1 U1F=-1 >, 1), (< U1F=2 U1F=0 >, 1)], [(< U1F=0 U1F=0 >, 1), (< U1F=1 U1F=1 >, 1), (< U1F=1 U1F=-1 >, 1), (< U1F=2 U1F=0 >, 1)], [(< U1F=0 U1F=0 >, 1), (< U1F=1 U1F=1 >, 1), (< U1F=1 U1F=-1 >, 1), (< U1F=2 U1F=0 >, 1)], [(< U1F=0 U1F=0 >, 1), (< U1F=1 U1F=1 >, 1), (< U1F=1 U1F=-1 >, 1), (< U1F=2 U1F=0 >, 1)], [(< U1F=0 U1F=0 >, 1), (< U1F=1 U1F=1 >, 1), (< U1F=1 U1F=-1 >, 1), (< U1F=2 U1F=0 >, 1)], [(< U1F=0 U1F=0 >, 1), (< U1F=1 U1F=1 >, 1), (< U1F=1 U1F=-1 >, 1), (< U1F=2 U1F=0 >, 1)]]\n"
     ]
    }
   ],
   "source": [
    "print(site_basis)"
   ]
  },
  {
   "cell_type": "code",
   "execution_count": 10,
   "id": "0d77a7e5-d4a1-4f36-ae3f-69dfecbb69d1",
   "metadata": {},
   "outputs": [
    {
     "data": {
      "text/plain": [
       "<pyblock2.driver.core.ExprBuilder at 0x285517907a0>"
      ]
     },
     "execution_count": 10,
     "metadata": {},
     "output_type": "execute_result"
    }
   ],
   "source": [
    "# [Part B] Set Hamiltonian terms\n",
    "driver.initialize_system(n_sites=L, vacuum=Q(0, 0), target=Q(N_ELEC, TWO_SZ), hamil_init=False)\n",
    "driver.ghamil = driver.get_custom_hamiltonian(site_basis, site_ops)\n",
    "b = driver.expr_builder()\n",
    "\n",
    "b.add_term(\"cd\", np.array([[i, i + 1, i + 1, i] for i in range(L - 1)]).ravel(), -1)\n",
    "b.add_term(\"CD\", np.array([[i, i + 1, i + 1, i] for i in range(L - 1)]).ravel(), -1)\n",
    "b.add_term(\"cdCD\", np.array([i for i in range(L) for _ in range(4)]), U)"
   ]
  },
  {
   "cell_type": "code",
   "execution_count": 14,
   "id": "1f9fa1a2-00c0-4542-bb04-98c39b9ef7bd",
   "metadata": {},
   "outputs": [
    {
     "name": "stdout",
     "output_type": "stream",
     "text": [
      "\n",
      "Sweep =    0 | Direction =  forward | Bond dimension =  250 | Noise =  1.00e-04 | Dav threshold =  1.00e-10\n",
      "Time elapsed =      0.297 | E =      -6.2256341447 | DW = 3.26754e-16\n",
      "\n",
      "Sweep =    1 | Direction = backward | Bond dimension =  250 | Noise =  1.00e-04 | Dav threshold =  1.00e-10\n",
      "Time elapsed =      0.631 | E =      -6.2256341447 | DE = -1.78e-15 | DW = 4.92271e-16\n",
      "\n",
      "Sweep =    2 | Direction =  forward | Bond dimension =  250 | Noise =  1.00e-04 | Dav threshold =  1.00e-10\n",
      "Time elapsed =      0.907 | E =      -6.2256341447 | DE = -1.78e-14 | DW = 3.36213e-16\n",
      "\n",
      "Sweep =    3 | Direction = backward | Bond dimension =  250 | Noise =  1.00e-04 | Dav threshold =  1.00e-10\n",
      "Time elapsed =      1.081 | E =      -6.2256341447 | DE = 6.22e-15 | DW = 4.16096e-16\n",
      "\n",
      "Sweep =    4 | Direction =  forward | Bond dimension =  500 | Noise =  1.00e-05 | Dav threshold =  1.00e-10\n",
      "Time elapsed =      1.655 | E =      -6.2256341447 | DE = 8.88e-16 | DW = 1.55623e-19\n",
      "\n",
      "Sweep =    5 | Direction = backward | Bond dimension =  500 | Noise =  1.00e-05 | Dav threshold =  1.00e-10\n",
      "Time elapsed =      2.129 | E =      -6.2256341447 | DE = 8.88e-16 | DW = 1.32186e-19\n",
      "\n",
      "Sweep =    6 | Direction =  forward | Bond dimension =  500 | Noise =  1.00e-05 | Dav threshold =  1.00e-10\n",
      "Time elapsed =      2.458 | E =      -6.2256341447 | DE = -1.78e-15 | DW = 1.48261e-19\n",
      "\n",
      "Sweep =    7 | Direction = backward | Bond dimension =  500 | Noise =  1.00e-05 | Dav threshold =  1.00e-10\n",
      "Time elapsed =      2.698 | E =      -6.2256341447 | DE = -1.78e-15 | DW = 1.03747e-19\n",
      "\n",
      "Sweep =    8 | Direction =  forward | Bond dimension =  500 | Noise =  0.00e+00 | Dav threshold =  1.00e-09\n",
      "Time elapsed =      2.818 | E =      -6.2256341447 | DE = -4.44e-15 | DW = 1.90702e-19\n",
      "\n"
     ]
    }
   ],
   "source": [
    "# [Part C] Perform DMRG\n",
    "mpo = driver.get_mpo(b.finalize(adjust_order=True, fermionic_ops=\"cdCD\"), algo_type=MPOAlgorithmTypes.FastBipartite)\n",
    "mps = driver.get_random_mps(tag=\"KET\", bond_dim=250, nroots=1)\n",
    "energy = driver.dmrg(mpo, mps, n_sweeps=10, bond_dims=[250] * 4 + [500] * 4,\n",
    "    noises=[1e-4] * 4 + [1e-5] * 4 + [0], thrds=[1e-10] * 8, dav_max_iter=30, iprint=1)\n",
    "# print(\"DMRG energy = %20.15f\" % energy)"
   ]
  },
  {
   "cell_type": "markdown",
   "id": "a796bf69-57d9-47f1-b77f-d7572c4baf32",
   "metadata": {},
   "source": [
    "# My Code for Bose Hubbard Model"
   ]
  },
  {
   "cell_type": "code",
   "execution_count": 5,
   "id": "6f88ef6f-bd71-4978-ac7c-eaf071b08544",
   "metadata": {},
   "outputs": [
    {
     "ename": "AttributeError",
     "evalue": "'str' object has no attribute 'SXT'",
     "output_type": "error",
     "traceback": [
      "\u001b[1;31m---------------------------------------------------------------------------\u001b[0m",
      "\u001b[1;31mAttributeError\u001b[0m                            Traceback (most recent call last)",
      "Cell \u001b[1;32mIn[5], line 8\u001b[0m\n\u001b[0;32m      5\u001b[0m TWOSZ \u001b[38;5;241m=\u001b[39m \u001b[38;5;241m0\u001b[39m\n\u001b[0;32m      7\u001b[0m driver \u001b[38;5;241m=\u001b[39m DMRGDriver(scratch\u001b[38;5;241m=\u001b[39m\u001b[38;5;124m\"\u001b[39m\u001b[38;5;124m./tmp\u001b[39m\u001b[38;5;124m\"\u001b[39m, symm_type\u001b[38;5;241m=\u001b[39mSymmetryTypes\u001b[38;5;241m.\u001b[39mSAny, n_threads\u001b[38;5;241m=\u001b[39m\u001b[38;5;241m4\u001b[39m)\n\u001b[1;32m----> 8\u001b[0m driver \u001b[38;5;241m=\u001b[39m Block2Wrapper\u001b[38;5;241m.\u001b[39mset_symmetry_groups(\u001b[38;5;124m\"\u001b[39m\u001b[38;5;124mU1\u001b[39m\u001b[38;5;124m\"\u001b[39m)\n\u001b[0;32m      9\u001b[0m driver\u001b[38;5;241m.\u001b[39minitialize_system(n_sites\u001b[38;5;241m=\u001b[39mL, n_elec\u001b[38;5;241m=\u001b[39mN, spin\u001b[38;5;241m=\u001b[39mTWOSZ)\n",
      "File \u001b[1;32mD:\\AnacondaFinal\\anacondaInstall\\envs\\AJJ\\Lib\\site-packages\\pyblock2\\driver\\core.py:519\u001b[0m, in \u001b[0;36mBlock2Wrapper.set_symmetry_groups\u001b[1;34m(self, hints, *args)\u001b[0m\n\u001b[0;32m    507\u001b[0m \u001b[38;5;28;01mdef\u001b[39;00m \u001b[38;5;21mset_symmetry_groups\u001b[39m(\u001b[38;5;28mself\u001b[39m, \u001b[38;5;241m*\u001b[39margs, hints\u001b[38;5;241m=\u001b[39m\u001b[38;5;28;01mNone\u001b[39;00m):\n\u001b[0;32m    508\u001b[0m \u001b[38;5;250m    \u001b[39m\u001b[38;5;124;03m\"\"\"\u001b[39;00m\n\u001b[0;32m    509\u001b[0m \u001b[38;5;124;03m    Set the combination of symmetry sub-groups for ``symm_type = SAny``.\u001b[39;00m\n\u001b[0;32m    510\u001b[0m \n\u001b[1;32m   (...)\u001b[0m\n\u001b[0;32m    517\u001b[0m \u001b[38;5;124;03m            Hint for symmetry interpretation. Default is None.\u001b[39;00m\n\u001b[0;32m    518\u001b[0m \u001b[38;5;124;03m    \"\"\"\u001b[39;00m\n\u001b[1;32m--> 519\u001b[0m     \u001b[38;5;28;01massert\u001b[39;00m \u001b[38;5;28mself\u001b[39m\u001b[38;5;241m.\u001b[39mSXT \u001b[38;5;241m==\u001b[39m \u001b[38;5;28mself\u001b[39m\u001b[38;5;241m.\u001b[39mb\u001b[38;5;241m.\u001b[39mSAny \u001b[38;5;129;01mand\u001b[39;00m \u001b[38;5;28mlen\u001b[39m(args) \u001b[38;5;241m<\u001b[39m\u001b[38;5;241m=\u001b[39m \u001b[38;5;241m6\u001b[39m\n\u001b[0;32m    521\u001b[0m     \u001b[38;5;28;01mdef\u001b[39;00m \u001b[38;5;21minit_sany\u001b[39m(\u001b[38;5;241m*\u001b[39mqargs):\n\u001b[0;32m    522\u001b[0m         q \u001b[38;5;241m=\u001b[39m \u001b[38;5;28mself\u001b[39m\u001b[38;5;241m.\u001b[39mSXT()\n",
      "\u001b[1;31mAttributeError\u001b[0m: 'str' object has no attribute 'SXT'"
     ]
    }
   ],
   "source": [
    "## Initial Script\n",
    "## Testing with Block2Wrapper.set_symmetry_groups(\"U1\")\n",
    "L = 9\n",
    "N = 9\n",
    "TWOSZ = 0\n",
    "\n",
    "driver = DMRGDriver(scratch=\"./tmp\", symm_type=SymmetryTypes.SAny, n_threads=4)\n",
    "driver = Block2Wrapper.set_symmetry_groups(\"U1\")\n",
    "driver.initialize_system(n_sites=L, n_elec=N, spin=TWOSZ)"
   ]
  },
  {
   "cell_type": "code",
   "execution_count": 31,
   "id": "27eca2ce-55b5-42c8-b424-4e4d404fa929",
   "metadata": {},
   "outputs": [
    {
     "data": {
      "text/plain": [
       "array([0, 1, 1, 0, 1, 2, 2, 1, 2, 3, 3, 2])"
      ]
     },
     "execution_count": 31,
     "metadata": {},
     "output_type": "execute_result"
    }
   ],
   "source": [
    "L =4\n",
    "np.array([[[i, i + 1], [i + 1, i]] for i in range(L - 1)]).flatten()"
   ]
  },
  {
   "cell_type": "code",
   "execution_count": 32,
   "id": "751a8719-5aa0-4dbe-b1bb-ffcc89c094a0",
   "metadata": {},
   "outputs": [
    {
     "data": {
      "text/plain": [
       "array([[0, 0, 0, 0],\n",
       "       [1, 1, 1, 1],\n",
       "       [2, 2, 2, 2],\n",
       "       [3, 3, 3, 3]])"
      ]
     },
     "execution_count": 32,
     "metadata": {},
     "output_type": "execute_result"
    }
   ],
   "source": [
    "np.array([[i, ] * 4 for i in range(L)])"
   ]
  },
  {
   "cell_type": "code",
   "execution_count": 6,
   "id": "c48393cc-f325-45b9-a1b8-a902a4878035",
   "metadata": {},
   "outputs": [
    {
     "ename": "AttributeError",
     "evalue": "'Block2Wrapper' object has no attribute 'SX'",
     "output_type": "error",
     "traceback": [
      "\u001b[1;31m---------------------------------------------------------------------------\u001b[0m",
      "\u001b[1;31mAttributeError\u001b[0m                            Traceback (most recent call last)",
      "Cell \u001b[1;32mIn[6], line 8\u001b[0m\n\u001b[0;32m      5\u001b[0m TWOSZ \u001b[38;5;241m=\u001b[39m \u001b[38;5;241m0\u001b[39m\n\u001b[0;32m      7\u001b[0m driver \u001b[38;5;241m=\u001b[39m DMRGDriver(scratch\u001b[38;5;241m=\u001b[39m\u001b[38;5;124m\"\u001b[39m\u001b[38;5;124m./tmp\u001b[39m\u001b[38;5;124m\"\u001b[39m, symm_type\u001b[38;5;241m=\u001b[39mSymmetryTypes\u001b[38;5;241m.\u001b[39mCPX, n_threads\u001b[38;5;241m=\u001b[39m\u001b[38;5;241m4\u001b[39m)\n\u001b[1;32m----> 8\u001b[0m driver\u001b[38;5;241m.\u001b[39minitialize_system(n_sites\u001b[38;5;241m=\u001b[39mL, n_elec\u001b[38;5;241m=\u001b[39mN, spin\u001b[38;5;241m=\u001b[39mTWOSZ)\n",
      "File \u001b[1;32mD:\\AnacondaFinal\\anacondaInstall\\envs\\AJJ\\Lib\\site-packages\\pyblock2\\driver\\core.py:958\u001b[0m, in \u001b[0;36mDMRGDriver.initialize_system\u001b[1;34m(self, n_sites, n_elec, spin, pg_irrep, orb_sym, heis_twos, heis_twosz, singlet_embedding, pauli_mode, vacuum, left_vacuum, target, hamil_init)\u001b[0m\n\u001b[0;32m    956\u001b[0m     \u001b[38;5;28mself\u001b[39m\u001b[38;5;241m.\u001b[39mleft_vacuum \u001b[38;5;241m=\u001b[39m \u001b[38;5;28mself\u001b[39m\u001b[38;5;241m.\u001b[39mvacuum\n\u001b[0;32m    957\u001b[0m \u001b[38;5;28;01melse\u001b[39;00m:\n\u001b[1;32m--> 958\u001b[0m     \u001b[38;5;28mself\u001b[39m\u001b[38;5;241m.\u001b[39mvacuum \u001b[38;5;241m=\u001b[39m bw\u001b[38;5;241m.\u001b[39mSX(\u001b[38;5;241m0\u001b[39m, \u001b[38;5;241m0\u001b[39m, \u001b[38;5;241m0\u001b[39m) \u001b[38;5;28;01mif\u001b[39;00m vacuum \u001b[38;5;129;01mis\u001b[39;00m \u001b[38;5;28;01mNone\u001b[39;00m \u001b[38;5;28;01melse\u001b[39;00m vacuum\n\u001b[0;32m    959\u001b[0m     \u001b[38;5;28;01mif\u001b[39;00m singlet_embedding:\n\u001b[0;32m    960\u001b[0m         \u001b[38;5;28;01massert\u001b[39;00m heis_twosz \u001b[38;5;241m==\u001b[39m \u001b[38;5;241m0\u001b[39m\n",
      "\u001b[1;31mAttributeError\u001b[0m: 'Block2Wrapper' object has no attribute 'SX'"
     ]
    }
   ],
   "source": [
    "## Initial Script\n",
    "## Testing with CPX\n",
    "L = 9\n",
    "N = 9\n",
    "TWOSZ = 0\n",
    "\n",
    "driver = DMRGDriver(scratch=\"./tmp\", symm_type=SymmetryTypes.CPX, n_threads=4)\n",
    "driver.initialize_system(n_sites=L, n_elec=N, spin=TWOSZ)"
   ]
  },
  {
   "cell_type": "code",
   "execution_count": 7,
   "id": "ca457d72-d1a1-4def-8eeb-a44cababe119",
   "metadata": {},
   "outputs": [],
   "source": [
    "## Initial Script\n",
    "## Testing with SGB\n",
    "L = 9\n",
    "N = 9\n",
    "TWOSZ = 0\n",
    "\n",
    "driver = DMRGDriver(scratch=\"./tmp\", symm_type=SymmetryTypes.SGB, n_threads=4)\n",
    "driver.initialize_system(n_sites=L, n_elec=N, spin=TWOSZ)"
   ]
  },
  {
   "cell_type": "code",
   "execution_count": 4,
   "id": "7c57f2ee-e735-451d-89e5-a9040db4e117",
   "metadata": {},
   "outputs": [
    {
     "name": "stdout",
     "output_type": "stream",
     "text": [
      "\n",
      "Build MPO | Nsites =     9 | Nterms =         25 | Algorithm = FastBIP | Cutoff = 1.00e-14\n",
      " Site =     0 /     9 .. Mmpo =     4 DW = 0.00e+00"
     ]
    },
    {
     "ename": "IndexError",
     "evalue": "invalid unordered_map<K, T> key",
     "output_type": "error",
     "traceback": [
      "\u001b[1;31m---------------------------------------------------------------------------\u001b[0m",
      "\u001b[1;31mIndexError\u001b[0m                                Traceback (most recent call last)",
      "Cell \u001b[1;32mIn[4], line 12\u001b[0m\n\u001b[0;32m      9\u001b[0m \u001b[38;5;66;03m# onsite term\u001b[39;00m\n\u001b[0;32m     10\u001b[0m b\u001b[38;5;241m.\u001b[39madd_term(\u001b[38;5;124m\"\u001b[39m\u001b[38;5;124mcd\u001b[39m\u001b[38;5;124m\"\u001b[39m, np\u001b[38;5;241m.\u001b[39marray([[i, ] \u001b[38;5;241m*\u001b[39m \u001b[38;5;241m4\u001b[39m \u001b[38;5;28;01mfor\u001b[39;00m i \u001b[38;5;129;01min\u001b[39;00m \u001b[38;5;28mrange\u001b[39m(L)])\u001b[38;5;241m.\u001b[39mflatten(), U)\n\u001b[1;32m---> 12\u001b[0m mpo \u001b[38;5;241m=\u001b[39m driver\u001b[38;5;241m.\u001b[39mget_mpo(b\u001b[38;5;241m.\u001b[39mfinalize(), iprint\u001b[38;5;241m=\u001b[39m\u001b[38;5;241m2\u001b[39m)\n",
      "File \u001b[1;32mD:\\AnacondaFinal\\anacondaInstall\\envs\\AJJ\\Lib\\site-packages\\pyblock2\\driver\\core.py:3882\u001b[0m, in \u001b[0;36mDMRGDriver.get_mpo\u001b[1;34m(self, expr, iprint, cutoff, left_vacuum, algo_type, sum_mpo_mod, compute_accurate_svd_error, csvd_sparsity, csvd_eps, csvd_max_iter, disjoint_levels, disjoint_all_blocks, disjoint_multiplier, block_max_length, fast_no_orb_dep_op, add_ident, ancilla)\u001b[0m\n\u001b[0;32m   3880\u001b[0m mpo\u001b[38;5;241m.\u001b[39mblock_max_length \u001b[38;5;241m=\u001b[39m block_max_length\n\u001b[0;32m   3881\u001b[0m mpo\u001b[38;5;241m.\u001b[39mfast_no_orb_dep_op \u001b[38;5;241m=\u001b[39m fast_no_orb_dep_op\n\u001b[1;32m-> 3882\u001b[0m mpo\u001b[38;5;241m.\u001b[39mbuild()\n\u001b[0;32m   3884\u001b[0m \u001b[38;5;28;01mif\u001b[39;00m iprint:\n\u001b[0;32m   3885\u001b[0m     nnz, sz, bdim \u001b[38;5;241m=\u001b[39m mpo\u001b[38;5;241m.\u001b[39mget_summary()\n",
      "\u001b[1;31mIndexError\u001b[0m: invalid unordered_map<K, T> key"
     ]
    }
   ],
   "source": [
    "t = 1\n",
    "U = 1\n",
    "\n",
    "b = driver.expr_builder()\n",
    "\n",
    "# hopping term\n",
    "b.add_term(\"cd\", np.array([[[i, i + 1], [i + 1, i]] for i in range(L - 1)]).flatten(), -t)\n",
    "\n",
    "# onsite term\n",
    "b.add_term(\"cd\", np.array([[i, ] * 4 for i in range(L)]).flatten(), U)\n",
    "\n",
    "mpo = driver.get_mpo(b.finalize(), iprint=2)"
   ]
  },
  {
   "cell_type": "code",
   "execution_count": 17,
   "id": "475f6474-9f59-4812-8865-6bf81d765bad",
   "metadata": {},
   "outputs": [],
   "source": [
    "### Using CustomHamiltonian Example\n",
    "\n",
    "L = 2\n",
    "U = 2\n",
    "N_ELEC = 2\n",
    "TWO_SZ = 0\n",
    "\n",
    "driver = DMRGDriver(scratch=\"./tmp\", symm_type=SymmetryTypes.SAny, n_threads=4)\n",
    "\n",
    "driver.set_symmetry_groups(\"U1\")\n",
    "Q = driver.bw.SX"
   ]
  },
  {
   "cell_type": "code",
   "execution_count": 19,
   "id": "1f264326-630e-4146-a871-36048bff5b1b",
   "metadata": {},
   "outputs": [
    {
     "ename": "AssertionError",
     "evalue": "",
     "output_type": "error",
     "traceback": [
      "\u001b[1;31m---------------------------------------------------------------------------\u001b[0m",
      "\u001b[1;31mAssertionError\u001b[0m                            Traceback (most recent call last)",
      "Cell \u001b[1;32mIn[19], line 5\u001b[0m\n\u001b[0;32m      2\u001b[0m site_basis, site_ops \u001b[38;5;241m=\u001b[39m [], []\n\u001b[0;32m      4\u001b[0m \u001b[38;5;28;01mfor\u001b[39;00m k \u001b[38;5;129;01min\u001b[39;00m \u001b[38;5;28mrange\u001b[39m(L):\n\u001b[1;32m----> 5\u001b[0m     basis \u001b[38;5;241m=\u001b[39m [(Q(\u001b[38;5;241m2\u001b[39m, \u001b[38;5;241m0\u001b[39m), \u001b[38;5;241m1\u001b[39m), (Q(\u001b[38;5;241m1\u001b[39m, \u001b[38;5;241m1\u001b[39m), \u001b[38;5;241m1\u001b[39m), (Q(\u001b[38;5;241m2\u001b[39m, \u001b[38;5;241m0\u001b[39m), \u001b[38;5;241m1\u001b[39m)] \u001b[38;5;66;03m# [0ab2]\u001b[39;00m\n\u001b[0;32m      6\u001b[0m     ops \u001b[38;5;241m=\u001b[39m {\n\u001b[0;32m      7\u001b[0m         \u001b[38;5;124m\"\u001b[39m\u001b[38;5;124m\"\u001b[39m: np\u001b[38;5;241m.\u001b[39marray([[\u001b[38;5;241m1\u001b[39m, \u001b[38;5;241m0\u001b[39m, \u001b[38;5;241m0\u001b[39m, \u001b[38;5;241m0\u001b[39m], [\u001b[38;5;241m0\u001b[39m, \u001b[38;5;241m1\u001b[39m, \u001b[38;5;241m0\u001b[39m, \u001b[38;5;241m0\u001b[39m], [\u001b[38;5;241m0\u001b[39m, \u001b[38;5;241m0\u001b[39m, \u001b[38;5;241m1\u001b[39m, \u001b[38;5;241m0\u001b[39m], [\u001b[38;5;241m0\u001b[39m, \u001b[38;5;241m0\u001b[39m, \u001b[38;5;241m0\u001b[39m, \u001b[38;5;241m1\u001b[39m]]),   \u001b[38;5;66;03m# identity\u001b[39;00m\n\u001b[0;32m      8\u001b[0m         \u001b[38;5;124m\"\u001b[39m\u001b[38;5;124mc\u001b[39m\u001b[38;5;124m\"\u001b[39m: np\u001b[38;5;241m.\u001b[39marray([[\u001b[38;5;241m0\u001b[39m, \u001b[38;5;241m0\u001b[39m, \u001b[38;5;241m0\u001b[39m, \u001b[38;5;241m0\u001b[39m], [\u001b[38;5;241m1\u001b[39m, \u001b[38;5;241m0\u001b[39m, \u001b[38;5;241m0\u001b[39m, \u001b[38;5;241m0\u001b[39m], [\u001b[38;5;241m0\u001b[39m, np\u001b[38;5;241m.\u001b[39msqrt(\u001b[38;5;241m2\u001b[39m), \u001b[38;5;241m0\u001b[39m, \u001b[38;5;241m0\u001b[39m], [\u001b[38;5;241m0\u001b[39m, \u001b[38;5;241m0\u001b[39m, np\u001b[38;5;241m.\u001b[39msqrt(\u001b[38;5;241m3\u001b[39m), \u001b[38;5;241m0\u001b[39m]]),  \u001b[38;5;66;03m# alpha+\u001b[39;00m\n\u001b[0;32m      9\u001b[0m         \u001b[38;5;124m\"\u001b[39m\u001b[38;5;124md\u001b[39m\u001b[38;5;124m\"\u001b[39m: np\u001b[38;5;241m.\u001b[39marray([[\u001b[38;5;241m0\u001b[39m, \u001b[38;5;241m1\u001b[39m, \u001b[38;5;241m0\u001b[39m, \u001b[38;5;241m0\u001b[39m], [\u001b[38;5;241m0\u001b[39m, \u001b[38;5;241m0\u001b[39m, np\u001b[38;5;241m.\u001b[39msqrt(\u001b[38;5;241m2\u001b[39m), \u001b[38;5;241m0\u001b[39m], [\u001b[38;5;241m0\u001b[39m, \u001b[38;5;241m0\u001b[39m, \u001b[38;5;241m0\u001b[39m, np\u001b[38;5;241m.\u001b[39msqrt(\u001b[38;5;241m3\u001b[39m)], [\u001b[38;5;241m0\u001b[39m, \u001b[38;5;241m0\u001b[39m, \u001b[38;5;241m0\u001b[39m, \u001b[38;5;241m0\u001b[39m]]),  \u001b[38;5;66;03m# alpha\u001b[39;00m\n\u001b[0;32m     10\u001b[0m     }\n\u001b[0;32m     11\u001b[0m     site_basis\u001b[38;5;241m.\u001b[39mappend(basis)\n",
      "File \u001b[1;32mD:\\AnacondaFinal\\anacondaInstall\\envs\\AJJ\\Lib\\site-packages\\pyblock2\\driver\\core.py:525\u001b[0m, in \u001b[0;36mBlock2Wrapper.set_symmetry_groups.<locals>.init_sany\u001b[1;34m(*qargs)\u001b[0m\n\u001b[0;32m    523\u001b[0m \u001b[38;5;28;01mif\u001b[39;00m \u001b[38;5;28mlen\u001b[39m(qargs) \u001b[38;5;241m==\u001b[39m \u001b[38;5;241m0\u001b[39m:\n\u001b[0;32m    524\u001b[0m     qargs \u001b[38;5;241m=\u001b[39m [\u001b[38;5;241m0\u001b[39m] \u001b[38;5;241m*\u001b[39m \u001b[38;5;28mlen\u001b[39m(args)\n\u001b[1;32m--> 525\u001b[0m \u001b[38;5;28;01massert\u001b[39;00m \u001b[38;5;28mlen\u001b[39m(qargs) \u001b[38;5;241m==\u001b[39m \u001b[38;5;28mlen\u001b[39m(args)\n\u001b[0;32m    526\u001b[0m \u001b[38;5;28;01mfor\u001b[39;00m ix, (ta, qa) \u001b[38;5;129;01min\u001b[39;00m \u001b[38;5;28menumerate\u001b[39m(\u001b[38;5;28mzip\u001b[39m(args, qargs)):\n\u001b[0;32m    527\u001b[0m     \u001b[38;5;28;01mif\u001b[39;00m ta\u001b[38;5;241m.\u001b[39mstartswith(\u001b[38;5;124m\"\u001b[39m\u001b[38;5;124mZ\u001b[39m\u001b[38;5;124m\"\u001b[39m) \u001b[38;5;129;01mand\u001b[39;00m ta\u001b[38;5;241m.\u001b[39mendswith(\u001b[38;5;124m\"\u001b[39m\u001b[38;5;124mFermi\u001b[39m\u001b[38;5;124m\"\u001b[39m):\n",
      "\u001b[1;31mAssertionError\u001b[0m: "
     ]
    }
   ],
   "source": [
    "# [Part A] Set states and matrix representation of operators in local Hilbert space\n",
    "site_basis, site_ops = [], []\n",
    "\n",
    "for k in range(L):\n",
    "    basis = [(Q(2, 0), 1), (Q(1, 1), 1), (Q(2, 0), 1)] # [0ab2]\n",
    "    ops = {\n",
    "        \"\": np.array([[1, 0, 0, 0], [0, 1, 0, 0], [0, 0, 1, 0], [0, 0, 0, 1]]),   # identity\n",
    "        \"c\": np.array([[0, 0, 0, 0], [1, 0, 0, 0], [0, np.sqrt(2), 0, 0], [0, 0, np.sqrt(3), 0]]),  # alpha+\n",
    "        \"d\": np.array([[0, 1, 0, 0], [0, 0, np.sqrt(2), 0], [0, 0, 0, np.sqrt(3)], [0, 0, 0, 0]]),  # alpha\n",
    "    }\n",
    "    site_basis.append(basis)\n",
    "    site_ops.append(ops)"
   ]
  },
  {
   "cell_type": "code",
   "execution_count": 20,
   "id": "04fb0e05-f0bf-484b-88e1-28352aba1cf0",
   "metadata": {},
   "outputs": [
    {
     "ename": "AssertionError",
     "evalue": "",
     "output_type": "error",
     "traceback": [
      "\u001b[1;31m---------------------------------------------------------------------------\u001b[0m",
      "\u001b[1;31mAssertionError\u001b[0m                            Traceback (most recent call last)",
      "Cell \u001b[1;32mIn[20], line 2\u001b[0m\n\u001b[0;32m      1\u001b[0m \u001b[38;5;66;03m# [Part B] Set Hamiltonian terms\u001b[39;00m\n\u001b[1;32m----> 2\u001b[0m driver\u001b[38;5;241m.\u001b[39minitialize_system(n_sites\u001b[38;5;241m=\u001b[39mL, vacuum\u001b[38;5;241m=\u001b[39mQ(\u001b[38;5;241m0\u001b[39m, \u001b[38;5;241m0\u001b[39m), target\u001b[38;5;241m=\u001b[39mQ(N_ELEC, N_ELEC), hamil_init\u001b[38;5;241m=\u001b[39m\u001b[38;5;28;01mFalse\u001b[39;00m)\n\u001b[0;32m      3\u001b[0m driver\u001b[38;5;241m.\u001b[39mghamil \u001b[38;5;241m=\u001b[39m driver\u001b[38;5;241m.\u001b[39mget_custom_hamiltonian(site_basis, site_ops)\n\u001b[0;32m      4\u001b[0m b \u001b[38;5;241m=\u001b[39m driver\u001b[38;5;241m.\u001b[39mexpr_builder()\n",
      "File \u001b[1;32mD:\\AnacondaFinal\\anacondaInstall\\envs\\AJJ\\Lib\\site-packages\\pyblock2\\driver\\core.py:525\u001b[0m, in \u001b[0;36mBlock2Wrapper.set_symmetry_groups.<locals>.init_sany\u001b[1;34m(*qargs)\u001b[0m\n\u001b[0;32m    523\u001b[0m \u001b[38;5;28;01mif\u001b[39;00m \u001b[38;5;28mlen\u001b[39m(qargs) \u001b[38;5;241m==\u001b[39m \u001b[38;5;241m0\u001b[39m:\n\u001b[0;32m    524\u001b[0m     qargs \u001b[38;5;241m=\u001b[39m [\u001b[38;5;241m0\u001b[39m] \u001b[38;5;241m*\u001b[39m \u001b[38;5;28mlen\u001b[39m(args)\n\u001b[1;32m--> 525\u001b[0m \u001b[38;5;28;01massert\u001b[39;00m \u001b[38;5;28mlen\u001b[39m(qargs) \u001b[38;5;241m==\u001b[39m \u001b[38;5;28mlen\u001b[39m(args)\n\u001b[0;32m    526\u001b[0m \u001b[38;5;28;01mfor\u001b[39;00m ix, (ta, qa) \u001b[38;5;129;01min\u001b[39;00m \u001b[38;5;28menumerate\u001b[39m(\u001b[38;5;28mzip\u001b[39m(args, qargs)):\n\u001b[0;32m    527\u001b[0m     \u001b[38;5;28;01mif\u001b[39;00m ta\u001b[38;5;241m.\u001b[39mstartswith(\u001b[38;5;124m\"\u001b[39m\u001b[38;5;124mZ\u001b[39m\u001b[38;5;124m\"\u001b[39m) \u001b[38;5;129;01mand\u001b[39;00m ta\u001b[38;5;241m.\u001b[39mendswith(\u001b[38;5;124m\"\u001b[39m\u001b[38;5;124mFermi\u001b[39m\u001b[38;5;124m\"\u001b[39m):\n",
      "\u001b[1;31mAssertionError\u001b[0m: "
     ]
    }
   ],
   "source": [
    "# [Part B] Set Hamiltonian terms\n",
    "driver.initialize_system(n_sites=L, vacuum=Q(0, 0), target=Q(N_ELEC, N_ELEC), hamil_init=False)\n",
    "driver.ghamil = driver.get_custom_hamiltonian(site_basis, site_ops)\n",
    "b = driver.expr_builder()\n",
    "\n",
    "b.add_term(\"cd\", np.array([[i, i + 1, i + 1, i] for i in range(L - 1)]).ravel(), -1)\n",
    "b.add_term(\"cd\", np.array([i for i in range(L) for _ in range(4)]), U)"
   ]
  },
  {
   "cell_type": "code",
   "execution_count": 22,
   "id": "daf1f599-8717-4d52-bc3c-b5967c0b210d",
   "metadata": {},
   "outputs": [],
   "source": [
    "# [Part C] Perform DMRG\n",
    "mpo = driver.get_mpo(b.finalize(adjust_order=True, fermionic_ops=\"cdCD\"), algo_type=MPOAlgorithmTypes.FastBipartite)\n",
    "mps = driver.get_random_mps(tag=\"KET\", bond_dim=250, nroots=1)\n",
    "energy = driver.dmrg(mpo, mps, n_sweeps=10, bond_dims=[250] * 4 + [500] * 4,\n",
    "    noises=[1e-4] * 4 + [1e-5] * 4 + [0], thrds=[1e-10] * 8, dav_max_iter=30, iprint=1)\n",
    "# print(\"DMRG energy = %20.15f\" % energy)"
   ]
  },
  {
   "cell_type": "code",
   "execution_count": null,
   "id": "ee707686-925b-4865-b6c2-ed00efd9d222",
   "metadata": {},
   "outputs": [],
   "source": []
  }
 ],
 "metadata": {
  "kernelspec": {
   "display_name": "Python 3 (ipykernel)",
   "language": "python",
   "name": "python3"
  },
  "language_info": {
   "codemirror_mode": {
    "name": "ipython",
    "version": 3
   },
   "file_extension": ".py",
   "mimetype": "text/x-python",
   "name": "python",
   "nbconvert_exporter": "python",
   "pygments_lexer": "ipython3",
   "version": "3.12.4"
  }
 },
 "nbformat": 4,
 "nbformat_minor": 5
}
