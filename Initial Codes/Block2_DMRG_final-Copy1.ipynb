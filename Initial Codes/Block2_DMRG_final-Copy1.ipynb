{
 "cells": [
  {
   "cell_type": "code",
   "execution_count": 2,
   "id": "3c28aa40-b376-46d8-b19c-095a563a7310",
   "metadata": {},
   "outputs": [],
   "source": [
    "from pyblock2.driver.core import DMRGDriver, SymmetryTypes, MPOAlgorithmTypes\n",
    "import numpy as np\n",
    "import matplotlib.pyplot as plt"
   ]
  },
  {
   "cell_type": "code",
   "execution_count": 3,
   "id": "5f834818-4594-4b43-9f4b-4272470b0197",
   "metadata": {},
   "outputs": [],
   "source": [
    "# Initial Script\n",
    "L = 10\n",
    "T = 1\n",
    "U = 0.1\n",
    "MU = 0\n",
    "NB_MAX = 3 # max n_boson per site\n",
    "N_BOSON = 10\n",
    "\n",
    "driver = DMRGDriver(scratch=\"./tmp\", symm_type=SymmetryTypes.SAny, n_threads=4)\n",
    "\n",
    "driver.set_symmetry_groups(\"U1\")\n",
    "Q = driver.bw.SX"
   ]
  },
  {
   "cell_type": "code",
   "execution_count": 4,
   "id": "bebc1912-1279-42e4-a964-471bbb4d75fd",
   "metadata": {},
   "outputs": [],
   "source": [
    "# Set states and matrix representation of operators in local Hilbert space\n",
    "site_basis, site_ops = [], []\n",
    "\n",
    "for k in range(L):\n",
    "    basis = [(Q(i), 1) for i in range(NB_MAX + 1)] # [012..NB_MAX]\n",
    "    ops = {\n",
    "        \"\": np.identity(NB_MAX + 1),                           # identity\n",
    "        \"C\": np.diag(np.sqrt(np.arange(1, NB_MAX + 1)), k=-1), # b+\n",
    "        \"D\": np.diag(np.sqrt(np.arange(1, NB_MAX + 1)), k=1),  # b\n",
    "        \"N\": np.diag(np.arange(0, NB_MAX + 1), k=0),           # Number Operator\n",
    "    }\n",
    "    site_basis.append(basis)\n",
    "    site_ops.append(ops)"
   ]
  },
  {
   "cell_type": "code",
   "execution_count": null,
   "id": "661cbb50-8aa8-4641-a6b5-5d778bd4cb0d",
   "metadata": {},
   "outputs": [
    {
     "name": "stdout",
     "output_type": "stream",
     "text": [
      "t = 0.00, Ground state energy = 0.000, First excited state energy = 0.100, Gap = 0.100\n",
      "t = 0.10, Ground state energy = -1.474, First excited state energy = -1.422, Gap = 0.051\n",
      "t = 0.20, Ground state energy = -5.073, First excited state energy = -4.939, Gap = 0.134\n",
      "t = 0.30, Ground state energy = -10.502, First excited state energy = -10.246, Gap = 0.256\n",
      "t = 0.40, Ground state energy = -17.748, First excited state energy = -17.329, Gap = 0.419\n",
      "t = 0.50, Ground state energy = -26.808, First excited state energy = -26.185, Gap = 0.623\n",
      "t = 0.60, Ground state energy = -37.680, First excited state energy = -36.813, Gap = 0.868\n",
      "t = 0.70, Ground state energy = -50.365, First excited state energy = -49.212, Gap = 1.153\n",
      "t = 0.80, Ground state energy = -64.863, First excited state energy = -63.383, Gap = 1.479\n",
      "t = 0.90, Ground state energy = -81.172, First excited state energy = -79.326, Gap = 1.846\n",
      "t = 1.00, Ground state energy = -99.294, First excited state energy = -97.040, Gap = 2.254\n",
      "t = 1.10, Ground state energy = -119.228, First excited state energy = -116.526, Gap = 2.702\n",
      "t = 1.20, Ground state energy = -140.974, First excited state energy = -137.783, Gap = 3.192\n",
      "t = 1.30, Ground state energy = -164.533, First excited state energy = -160.811, Gap = 3.722\n",
      "t = 1.40, Ground state energy = -189.904, First excited state energy = -185.611, Gap = 4.292\n",
      "t = 1.50, Ground state energy = -217.087, First excited state energy = -212.183, Gap = 4.904\n",
      "t = 1.60, Ground state energy = -246.082, First excited state energy = -240.526, Gap = 5.556\n",
      "t = 1.70, Ground state energy = -276.889, First excited state energy = -270.640, Gap = 6.249\n",
      "t = 1.80, Ground state energy = -309.509, First excited state energy = -302.526, Gap = 6.983\n",
      "t = 1.90, Ground state energy = -343.941, First excited state energy = -336.183, Gap = 7.758\n"
     ]
    }
   ],
   "source": [
    "t_values = np.arange(0, 2, 0.1)\n",
    "gaps = []\n",
    "\n",
    "driver.initialize_system(n_sites=L, vacuum=Q(0), target=Q(N_BOSON), hamil_init=False)\n",
    "driver.ghamil = driver.get_custom_hamiltonian(site_basis, site_ops)\n",
    "b = driver.expr_builder()\n",
    "\n",
    "b.add_term(\"N\", np.array(np.arange(L)), -(MU + U / 2))\n",
    "b.add_term(\"NN\", np.repeat(np.arange(L), 2), U / 2)\n",
    "\n",
    "for t in t_values:\n",
    "    T = t    \n",
    "    b.add_term(\"CD\", np.array([[i, i+1, i+1, i] for i in range(L-1)]).flatten(), -T)\n",
    "\n",
    "    mpo = driver.get_mpo(b.finalize(adjust_order=True, fermionic_ops=\"\"), algo_type=MPOAlgorithmTypes.FastBipartite)\n",
    "    mps = driver.get_random_mps(tag=\"KET\", bond_dim=50, nroots=2)\n",
    "    energy = driver.dmrg(mpo, mps, n_sweeps=10, bond_dims=[50] * 4 + [100] * 4,\n",
    "        noises=[1e-4] * 4 + [1e-5] * 4 + [0], thrds=[1e-10] * 8, dav_max_iter=30, iprint=0)\n",
    "    gaps.append(energy[1] - energy[0])\n",
    "\n",
    "    print(f\"t = {t:.2f}, Ground state energy = {energy[0]:.3f}, First excited state energy = {energy[1]:.3f}, Gap = {energy[1] - energy[0]:.3f}\")\n",
    "\n",
    "plt.plot(t_values, gaps, marker='o')\n",
    "plt.xlabel('J')\n",
    "plt.ylabel('First Excitation Energy Gap')\n",
    "plt.title('First Excitation Energy Gap vs. Hopping Parameter J')\n",
    "plt.grid(True)\n",
    "plt.show()"
   ]
  },
  {
   "cell_type": "code",
   "execution_count": null,
   "id": "9987722f-8188-4560-ba61-190b5ef0a5eb",
   "metadata": {},
   "outputs": [],
   "source": []
  }
 ],
 "metadata": {
  "kernelspec": {
   "display_name": "Python 3 (ipykernel)",
   "language": "python",
   "name": "python3"
  },
  "language_info": {
   "codemirror_mode": {
    "name": "ipython",
    "version": 3
   },
   "file_extension": ".py",
   "mimetype": "text/x-python",
   "name": "python",
   "nbconvert_exporter": "python",
   "pygments_lexer": "ipython3",
   "version": "3.12.4"
  }
 },
 "nbformat": 4,
 "nbformat_minor": 5
}
